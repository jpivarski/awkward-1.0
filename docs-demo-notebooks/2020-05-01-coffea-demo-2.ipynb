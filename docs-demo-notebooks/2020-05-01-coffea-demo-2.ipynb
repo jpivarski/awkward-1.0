{
 "cells": [
  {
   "cell_type": "markdown",
   "metadata": {},
   "source": [
    "# 2020-05-01-coffea-demo-2\n",
    "\n",
    "## 1. Introduction\n",
    "\n",
    "This demo of the new Awkward Array was presented on May 1, 2020, before the version was named 1.0, but the interface is pretty nearly finalized. Nevertheless, It is only guaranteed to work in the current version, 0.2.18, so be sure to install that (from [GitHub](https://github.com/scikit-hep/awkward-1.0/releases/tag/0.2.18) or [pip](https://pypi.org/project/awkward1/0.2.18/)) before running this notebook.\n",
    "\n",
    "```bash\n",
    "pip install 'awkward1==0.2.18'\n",
    "```\n",
    "\n",
    "This demo is also based on [one I presented for the EIC collaboration](https://github.com/jpivarski/2020-04-08-eic-jlab#readme) and it uses the same file."
   ]
  },
  {
   "cell_type": "code",
   "execution_count": 5,
   "metadata": {},
   "outputs": [
    {
     "name": "stdout",
     "output_type": "stream",
     "text": [
      "--2020-04-30 08:33:58--  https://github.com/jpivarski/2020-04-08-eic-jlab/raw/master/open_charm_18x275_10k.root\n",
      "Resolving github.com (github.com)... 140.82.114.3\n",
      "Connecting to github.com (github.com)|140.82.114.3|:443... connected.\n",
      "HTTP request sent, awaiting response... 302 Found\n",
      "Location: https://raw.githubusercontent.com/jpivarski/2020-04-08-eic-jlab/master/open_charm_18x275_10k.root [following]\n",
      "--2020-04-30 08:33:58--  https://raw.githubusercontent.com/jpivarski/2020-04-08-eic-jlab/master/open_charm_18x275_10k.root\n",
      "Resolving raw.githubusercontent.com (raw.githubusercontent.com)... 199.232.28.133\n",
      "Connecting to raw.githubusercontent.com (raw.githubusercontent.com)|199.232.28.133|:443... connected.\n",
      "HTTP request sent, awaiting response... 200 OK\n",
      "Length: 51484369 (49M) [application/octet-stream]\n",
      "Saving to: ‘open_charm_18x275_10k.root’\n",
      "\n",
      "open_charm_18x275_1 100%[===================>]  49.10M   648KB/s    in 79s     \n",
      "\n",
      "2020-04-30 08:35:18 (634 KB/s) - ‘open_charm_18x275_10k.root’ saved [51484369/51484369]\n",
      "\n"
     ]
    }
   ],
   "source": [
    "!wget https://github.com/jpivarski/2020-04-08-eic-jlab/raw/master/open_charm_18x275_10k.root"
   ]
  },
  {
   "cell_type": "code",
   "execution_count": 2,
   "metadata": {},
   "outputs": [],
   "source": [
    "# The base of the GitHub repo is one level up from this notebook.\n",
    "import sys\n",
    "import os\n",
    "sys.path.insert(0, os.path.join(os.getcwd(), \"..\"))"
   ]
  },
  {
   "cell_type": "markdown",
   "metadata": {},
   "source": [
    "## 2. Awkward 1 is ready for users, Uproot 4 is not\n",
    "\n",
    "The only hold-up is that Uproot does not yet produce Awkward 1 arrays, so there's an extra step to turn Awkward 0 arrays into Awkward 1. This conversion is zero-copy (changing names and metadata, but not the array buffers.)"
   ]
  },
  {
   "cell_type": "code",
   "execution_count": 4,
   "metadata": {},
   "outputs": [],
   "source": [
    "import awkward1 as ak\n",
    "import uproot"
   ]
  },
  {
   "cell_type": "code",
   "execution_count": 6,
   "metadata": {},
   "outputs": [],
   "source": [
    "dataset = uproot.open(\"open_charm_18x275_10k.root\")[\"events/tree\"]"
   ]
  },
  {
   "cell_type": "code",
   "execution_count": 7,
   "metadata": {},
   "outputs": [
    {
     "data": {
      "text/plain": [
       "<JaggedArray [[3.2559399993304847 2.196008973692167 2.2949584126781573 ... 0.2419069110316996 0.07194669925781395 0.17262100274545228] [15.846170317435083 0.25560661725265565 1.6318635601175377 ... 0.5642153466643426 0.6807703422724426 0.22676951924278516] [17.897245463728172 42.704132482765466 7.375745975693497 ... 1.4577356674201494 0.12523958867283935 1.5252133879925078] ... [14.275052868713722 0.9663850084397464 0.5160838480632304 ... 0.28541577237872157 0.2146085477379938 1.2414678978190163] [15.889411465092804 52.81059318615546 3.0411592432914123 ... 1.148414045783123 0.06047451686329056 6.562005262653488] [18.518626487094572 1.6368244960746605 4.179017474861343 ... 6.980027298771285 0.09555171117336275 3.043827450063815]] at 0x7f7ee7262090>"
      ]
     },
     "execution_count": 7,
     "metadata": {},
     "output_type": "execute_result"
    }
   ],
   "source": [
    "# old style\n",
    "dataset.array(\"p\")"
   ]
  },
  {
   "cell_type": "code",
   "execution_count": 8,
   "metadata": {},
   "outputs": [
    {
     "data": {
      "text/plain": [
       "<Array [[3.26, 2.2, 2.29, ... 0.0956, 3.04]] type='10000 * var * float64'>"
      ]
     },
     "execution_count": 8,
     "metadata": {},
     "output_type": "execute_result"
    }
   ],
   "source": [
    "# new style\n",
    "ak.from_awkward0(dataset.array(\"p\"))"
   ]
  },
  {
   "cell_type": "markdown",
   "metadata": {},
   "source": [
    "Let's read them all into new-style arrays."
   ]
  },
  {
   "cell_type": "code",
   "execution_count": 10,
   "metadata": {},
   "outputs": [
    {
     "data": {
      "text/plain": [
       "{'evt_id': <Array [0, 1, 2, 3, ... 9996, 9997, 9998, 9999] type='10000 * uint64'>,\n",
       " 'evt_true_q2': <Array [0, 0, 0, 0, 0, 0, ... 0, 0, 0, 0, 0, 0] type='10000 * float64'>,\n",
       " 'evt_true_x': <Array [0, 0, 0, 0, 0, 0, ... 0, 0, 0, 0, 0, 0] type='10000 * float64'>,\n",
       " 'evt_true_y': <Array [0, 0, 0, 0, 0, 0, ... 0, 0, 0, 0, 0, 0] type='10000 * float64'>,\n",
       " 'evt_true_w2': <Array [0, 0, 0, 0, 0, 0, ... 0, 0, 0, 0, 0, 0] type='10000 * float64'>,\n",
       " 'evt_true_nu': <Array [0, 0, 0, 0, 0, 0, ... 0, 0, 0, 0, 0, 0] type='10000 * float64'>,\n",
       " 'evt_has_dis_info': <Array [0, 0, 0, 0, 0, 0, ... 0, 0, 0, 0, 0, 0] type='10000 * int8'>,\n",
       " 'evt_prt_count': <Array [51, 26, 27, 28, 30, ... 37, 42, 25, 11] type='10000 * uint64'>,\n",
       " 'evt_weight': <Array [0, 0, 0, 0, 0, 0, ... 0, 0, 0, 0, 0, 0] type='10000 * float64'>,\n",
       " 'id': <Array [[12, 79, 80, 81, ... 54, 60, 61, 62]] type='10000 * var * uint64'>,\n",
       " 'pdg': <Array [[11, 211, -211, -321, ... 130, 22, 22]] type='10000 * var * int64'>,\n",
       " 'trk_id': <Array [[0, 0, 0, 0, 0, 0, ... 0, 0, 0, 0, 0]] type='10000 * var * float64'>,\n",
       " 'charge': <Array [[-1, 1, -1, -1, 1, ... -1, 1, 0, 0, 0]] type='10000 * var * float64'>,\n",
       " 'dir_x': <Array [[0.0276, 0.248, ... -0.215, -0.124]] type='10000 * var * float64'>,\n",
       " 'dir_y': <Array [[-0.159, -0.112, ... 0.243, 0.0141]] type='10000 * var * float64'>,\n",
       " 'dir_z': <Array [[0.987, -0.962, ... -0.946, -0.992]] type='10000 * var * float64'>,\n",
       " 'p': <Array [[3.26, 2.2, 2.29, ... 0.0956, 3.04]] type='10000 * var * float64'>,\n",
       " 'px': <Array [[-0.516, -0.246, ... -0.0205, -0.377]] type='10000 * var * float64'>,\n",
       " 'py': <Array [[0.0892, 0.548, ... 0.0232, 0.043]] type='10000 * var * float64'>,\n",
       " 'pz': <Array [[3.21, -2.11, ... -0.0904, -3.02]] type='10000 * var * float64'>,\n",
       " 'tot_e': <Array [[3.46, 2.25, 2.25, ... 0.109, 3.03]] type='10000 * var * float64'>,\n",
       " 'm': <Array [[0, 0, 0, 0, 0, 0, ... 0, 0, 0, 0, 0]] type='10000 * var * float64'>,\n",
       " 'time': <Array [[0, 0, 0, 0, 0, 0, ... 0, 0, 0, 0, 0]] type='10000 * var * float64'>,\n",
       " 'is_beam': <Array [[False, False, ... False, False]] type='10000 * var * bool'>,\n",
       " 'is_stable': <Array [[False, False, ... False, False]] type='10000 * var * bool'>,\n",
       " 'gen_code': <Array [[False, False, ... False, False]] type='10000 * var * bool'>,\n",
       " 'mother_id': <Array [[0, 0, 0, 0, 0, 0, ... 0, 0, 0, 0, 0]] type='10000 * var * uint64'>,\n",
       " 'mother_second_id': <Array [[0, 0, 0, 0, 0, 0, ... 0, 0, 0, 0, 0]] type='10000 * var * uint64'>,\n",
       " 'has_pol_info': <Array [[0, 0, 0, 0, 0, 0, ... 0, 0, 0, 0, 0]] type='10000 * var * float64'>,\n",
       " 'pol_x': <Array [[0, 0, 0, 0, 0, 0, ... 0, 0, 0, 0, 0]] type='10000 * var * float64'>,\n",
       " 'pol_y': <Array [[0, 0, 0, 0, 0, 0, ... 0, 0, 0, 0, 0]] type='10000 * var * float64'>,\n",
       " 'pol_z': <Array [[0, 0, 0, 0, 0, 0, ... 0, 0, 0, 0, 0]] type='10000 * var * float64'>,\n",
       " 'has_vtx_info': <Array [[True, True, True, ... True, True]] type='10000 * var * bool'>,\n",
       " 'vtx_id': <Array [[0, 0, 0, 0, 0, 0, ... 0, 0, 0, 0, 0]] type='10000 * var * uint64'>,\n",
       " 'vtx_x': <Array [[-0.000263, -0.0298, ... -0.0445]] type='10000 * var * float64'>,\n",
       " 'vtx_y': <Array [[0.008, -0.0308, ... -0.0137, -0.0137]] type='10000 * var * float64'>,\n",
       " 'vtx_z': <Array [[0.00735, 0.0124, ... -0.366, -0.366]] type='10000 * var * float64'>,\n",
       " 'vtx_t': <Array [[0, 2.48e-10, ... 0.371, 0.371]] type='10000 * var * float64'>,\n",
       " 'has_smear_info': <Array [[True, True, True, ... True, True]] type='10000 * var * bool'>,\n",
       " 'smear_has_e': <Array [[True, False, False, ... True, True]] type='10000 * var * bool'>,\n",
       " 'smear_has_p': <Array [[True, True, True, ... False, False]] type='10000 * var * bool'>,\n",
       " 'smear_has_pid': <Array [[False, False, ... False, False]] type='10000 * var * bool'>,\n",
       " 'smear_has_vtx': <Array [[True, True, True, ... False, False]] type='10000 * var * bool'>,\n",
       " 'smear_has_any_eppid': <Array [[True, True, True, ... True, True]] type='10000 * var * bool'>,\n",
       " 'smear_orig_tot_e': <Array [[3.24, 2.25, 2.25, ... 0.0956, 3.04]] type='10000 * var * float64'>,\n",
       " 'smear_orig_p': <Array [[3.24, 2.24, 2.25, ... 0.0956, 3.04]] type='10000 * var * float64'>,\n",
       " 'smear_orig_px': <Array [[0.0893, 0.557, ... -0.0205, -0.377]] type='10000 * var * float64'>,\n",
       " 'smear_orig_py': <Array [[-0.517, -0.251, ... 0.0232, 0.043]] type='10000 * var * float64'>,\n",
       " 'smear_orig_pz': <Array [[3.2, -2.16, ... -0.0904, -3.02]] type='10000 * var * float64'>,\n",
       " 'smear_orig_vtx_x': <Array [[0, -3.8e-12, ... -0.0445, -0.0445]] type='10000 * var * float64'>,\n",
       " 'smear_orig_vtx_y': <Array [[0, 7.25e-12, ... -0.0137, -0.0137]] type='10000 * var * float64'>,\n",
       " 'smear_orig_vtx_z': <Array [[0, -2.34e-10, ... -0.366, -0.366]] type='10000 * var * float64'>}"
      ]
     },
     "execution_count": 10,
     "metadata": {},
     "output_type": "execute_result"
    }
   ],
   "source": [
    "arrays = {name: ak.from_awkward0(array) for name, array in dataset.arrays(namedecode=\"utf-8\").items()}\n",
    "arrays"
   ]
  },
  {
   "cell_type": "markdown",
   "metadata": {},
   "source": [
    "In general, it's more useful for data to be combined into a single structure (like NanoEvents), rather than a dict or variables pointing to separate arrays.\n",
    "\n",
    "There are tools for building structures (and they're zero-copy, as much as possible)."
   ]
  },
  {
   "cell_type": "code",
   "execution_count": 16,
   "metadata": {},
   "outputs": [
    {
     "data": {
      "text/plain": [
       "<Array [[{px: -0.516, ... pz: -3.02}]] type='10000 * var * {\"px\": float64, \"py\":...'>"
      ]
     },
     "execution_count": 16,
     "metadata": {},
     "output_type": "execute_result"
    }
   ],
   "source": [
    "example = ak.zip({\"px\": arrays[\"px\"], \"py\": arrays[\"py\"], \"pz\": arrays[\"pz\"]})\n",
    "example"
   ]
  },
  {
   "cell_type": "code",
   "execution_count": 17,
   "metadata": {},
   "outputs": [
    {
     "data": {
      "text/plain": [
       "<Record {px: -0.516, py: 0.0892, pz: 3.21} type='{\"px\": float64, \"py\": float64, ...'>"
      ]
     },
     "execution_count": 17,
     "metadata": {},
     "output_type": "execute_result"
    }
   ],
   "source": [
    "example[0, 0]"
   ]
  },
  {
   "cell_type": "markdown",
   "metadata": {},
   "source": [
    "Building such a structure requires some knowledge of what the ROOT branches mean, but this can be done once for NanoAOD (NanoEvents!)."
   ]
  },
  {
   "cell_type": "code",
   "execution_count": 19,
   "metadata": {},
   "outputs": [],
   "source": [
    "events = ak.zip({\"id\": arrays[\"evt_id\"],\n",
    "                 \"true\": ak.zip({\"q2\": arrays[\"evt_true_q2\"],\n",
    "                                 \"x\": arrays[\"evt_true_x\"],\n",
    "                                 \"y\": arrays[\"evt_true_y\"],\n",
    "                                 \"w2\": arrays[\"evt_true_w2\"],\n",
    "                                 \"nu\": arrays[\"evt_true_nu\"]}),\n",
    "                 \"has_dis_info\": arrays[\"evt_has_dis_info\"],\n",
    "                 \"prt_count\": arrays[\"evt_prt_count\"],\n",
    "                 \"prt\": ak.zip({\"id\": arrays[\"id\"],\n",
    "                                \"pdg\": arrays[\"pdg\"],\n",
    "                                \"trk_id\": arrays[\"trk_id\"],\n",
    "                                \"charge\": arrays[\"charge\"],\n",
    "                                \"dir\": ak.zip({\"x\": arrays[\"dir_x\"],\n",
    "                                               \"y\": arrays[\"dir_y\"],\n",
    "                                               \"z\": arrays[\"dir_z\"]}, with_name=\"point3\"),\n",
    "                                \"p\": arrays[\"p\"],\n",
    "                                \"px\": arrays[\"px\"],\n",
    "                                \"py\": arrays[\"py\"],\n",
    "                                \"pz\": arrays[\"pz\"],\n",
    "                                \"m\": arrays[\"m\"],\n",
    "                                \"time\": arrays[\"time\"],\n",
    "                                \"is_beam\": arrays[\"is_beam\"],\n",
    "                                \"is_stable\": arrays[\"is_stable\"],\n",
    "                                \"gen_code\": arrays[\"gen_code\"],\n",
    "                                \"mother\": ak.zip({\"id\": arrays[\"mother_id\"],\n",
    "                                                  \"second_id\": arrays[\"mother_second_id\"]}),\n",
    "                                \"pol\": ak.zip({\"has_info\": arrays[\"has_pol_info\"],\n",
    "                                               \"x\": arrays[\"pol_x\"],\n",
    "                                               \"y\": arrays[\"pol_y\"],\n",
    "                                               \"z\": arrays[\"pol_z\"]}, with_name=\"point3\"),\n",
    "                                \"vtx\": ak.zip({\"has_info\": arrays[\"has_vtx_info\"],\n",
    "                                               \"id\": arrays[\"vtx_id\"],\n",
    "                                               \"x\": arrays[\"vtx_x\"],\n",
    "                                               \"y\": arrays[\"vtx_y\"],\n",
    "                                               \"z\": arrays[\"vtx_z\"],\n",
    "                                               \"t\": arrays[\"vtx_t\"]}, with_name=\"point3\"),\n",
    "                                \"smear\": ak.zip({\"has_info\": arrays[\"has_smear_info\"],\n",
    "                                                 \"has_e\": arrays[\"smear_has_e\"],\n",
    "                                                 \"has_p\": arrays[\"smear_has_p\"],\n",
    "                                                 \"has_pid\": arrays[\"smear_has_pid\"],\n",
    "                                                 \"has_vtx\": arrays[\"smear_has_vtx\"],\n",
    "                                                 \"has_any_eppid\": arrays[\"smear_has_any_eppid\"],\n",
    "                                                 \"orig\": ak.zip({\"tot_e\": arrays[\"smear_orig_tot_e\"],\n",
    "                                                                 \"p\": arrays[\"smear_orig_p\"],\n",
    "                                                                 \"px\": arrays[\"smear_orig_px\"],\n",
    "                                                                 \"py\": arrays[\"smear_orig_py\"],\n",
    "                                                                 \"pz\": arrays[\"smear_orig_pz\"],\n",
    "                                                                 \"vtx\": ak.zip({\"x\": arrays[\"smear_orig_vtx_x\"],\n",
    "                                                                                \"y\": arrays[\"smear_orig_vtx_y\"],\n",
    "                                                                                \"z\": arrays[\"smear_orig_vtx_z\"]},\n",
    "                                                                               with_name=\"point3\")})})}, with_name=\"particle\")},\n",
    "                depth_limit=1)"
   ]
  },
  {
   "cell_type": "markdown",
   "metadata": {},
   "source": [
    "Conceptually at least, this is now an array of objects.\n",
    "\n",
    "<img src=\"../docs-images/diagrams/cartoon-schematic.png\" width=\"600\">"
   ]
  },
  {
   "cell_type": "code",
   "execution_count": 20,
   "metadata": {},
   "outputs": [
    {
     "data": {
      "text/plain": [
       "{'id': 12,\n",
       " 'pdg': 11,\n",
       " 'trk_id': 0.0,\n",
       " 'charge': -1.0,\n",
       " 'dir': {'x': 0.027552974158427224,\n",
       "  'y': -0.159486986156017,\n",
       "  'z': 0.9868154512683186},\n",
       " 'p': 3.2559399993304847,\n",
       " 'px': -0.5164342370904987,\n",
       " 'py': 0.08917945577907008,\n",
       " 'pz': 3.2134853325739483,\n",
       " 'm': 0.0,\n",
       " 'time': 0.0,\n",
       " 'is_beam': False,\n",
       " 'is_stable': False,\n",
       " 'gen_code': False,\n",
       " 'mother': {'id': 0, 'second_id': 0},\n",
       " 'pol': {'has_info': 0.0, 'x': 0.0, 'y': 0.0, 'z': 0.0},\n",
       " 'vtx': {'has_info': True,\n",
       "  'id': 0,\n",
       "  'x': -0.0002629100828319597,\n",
       "  'y': 0.008004273764408541,\n",
       "  'z': 0.007348471013211623,\n",
       "  't': 0.0},\n",
       " 'smear': {'has_info': True,\n",
       "  'has_e': True,\n",
       "  'has_p': True,\n",
       "  'has_pid': False,\n",
       "  'has_vtx': True,\n",
       "  'has_any_eppid': True,\n",
       "  'orig': {'tot_e': 3.2399370783466463,\n",
       "   'p': 3.239937038049433,\n",
       "   'px': 0.08926990148430726,\n",
       "   'py': -0.5167277935337566,\n",
       "   'pz': 3.1972199302836906,\n",
       "   'vtx': {'x': 0.0, 'y': 0.0, 'z': 0.0}}}}"
      ]
     },
     "execution_count": 20,
     "metadata": {},
     "output_type": "execute_result"
    }
   ],
   "source": [
    "# event 0, particle 0\n",
    "ak.to_list(events[0].prt[0])"
   ]
  },
  {
   "cell_type": "markdown",
   "metadata": {},
   "source": [
    "<img src=\"../docs-images/diagrams/how-it-works-muons.png\" width=\"1000\">"
   ]
  },
  {
   "cell_type": "markdown",
   "metadata": {},
   "source": [
    "## 3. What's new?\n",
    "\n",
    "The most important new features are **robustness** and **uniformity**.\n",
    "\n",
    "The majority of Awkward 0 issues were NumPy corner cases like `np.max([])`, ChunkedArrays not working like all the other types (to such an extent that I recommended against Uproot lazy arrays), and unimplemented special cases.\n",
    "\n",
    "For example:"
   ]
  },
  {
   "cell_type": "code",
   "execution_count": 23,
   "metadata": {},
   "outputs": [
    {
     "ename": "NotImplementedError",
     "evalue": "this implementation cannot slice a JaggedArray in more than two dimensions",
     "output_type": "error",
     "traceback": [
      "\u001b[0;31m---------------------------------------------------------------------------\u001b[0m",
      "\u001b[0;31mNotImplementedError\u001b[0m                       Traceback (most recent call last)",
      "\u001b[0;32m<ipython-input-23-f16f811aa4c8>\u001b[0m in \u001b[0;36m<module>\u001b[0;34m\u001b[0m\n\u001b[1;32m      2\u001b[0m \u001b[0;34m\u001b[0m\u001b[0m\n\u001b[1;32m      3\u001b[0m \u001b[0mold\u001b[0m \u001b[0;34m=\u001b[0m \u001b[0mold_awkward\u001b[0m\u001b[0;34m.\u001b[0m\u001b[0mfromiter\u001b[0m\u001b[0;34m(\u001b[0m\u001b[0;34m[\u001b[0m\u001b[0;34m[\u001b[0m\u001b[0;34m[\u001b[0m\u001b[0;36m0.0\u001b[0m\u001b[0;34m,\u001b[0m \u001b[0;36m1.1\u001b[0m\u001b[0;34m,\u001b[0m \u001b[0;36m2.2\u001b[0m\u001b[0;34m]\u001b[0m\u001b[0;34m,\u001b[0m \u001b[0;34m[\u001b[0m\u001b[0;34m]\u001b[0m\u001b[0;34m,\u001b[0m \u001b[0;34m[\u001b[0m\u001b[0;36m3.3\u001b[0m\u001b[0;34m,\u001b[0m \u001b[0;36m4.4\u001b[0m\u001b[0;34m]\u001b[0m\u001b[0;34m]\u001b[0m\u001b[0;34m,\u001b[0m \u001b[0;34m[\u001b[0m\u001b[0;34m[\u001b[0m\u001b[0;36m5.5\u001b[0m\u001b[0;34m]\u001b[0m\u001b[0;34m]\u001b[0m\u001b[0;34m,\u001b[0m \u001b[0;34m[\u001b[0m\u001b[0;34m]\u001b[0m\u001b[0;34m,\u001b[0m \u001b[0;34m[\u001b[0m\u001b[0;34m[\u001b[0m\u001b[0;36m6.6\u001b[0m\u001b[0;34m,\u001b[0m \u001b[0;36m7.7\u001b[0m\u001b[0;34m,\u001b[0m \u001b[0;36m8.8\u001b[0m\u001b[0;34m,\u001b[0m \u001b[0;36m9.9\u001b[0m\u001b[0;34m]\u001b[0m\u001b[0;34m]\u001b[0m\u001b[0;34m]\u001b[0m\u001b[0;34m)\u001b[0m\u001b[0;34m\u001b[0m\u001b[0;34m\u001b[0m\u001b[0m\n\u001b[0;32m----> 4\u001b[0;31m \u001b[0mold\u001b[0m\u001b[0;34m[\u001b[0m\u001b[0;34m:\u001b[0m\u001b[0;34m,\u001b[0m \u001b[0;34m:\u001b[0m\u001b[0;34m:\u001b[0m\u001b[0;34m-\u001b[0m\u001b[0;36m1\u001b[0m\u001b[0;34m,\u001b[0m \u001b[0;34m:\u001b[0m\u001b[0;34m:\u001b[0m\u001b[0;36m2\u001b[0m\u001b[0;34m]\u001b[0m\u001b[0;34m\u001b[0m\u001b[0;34m\u001b[0m\u001b[0m\n\u001b[0m",
      "\u001b[0;32m~/miniconda3/lib/python3.7/site-packages/awkward-0.12.20-py3.7.egg/awkward/array/jagged.py\u001b[0m in \u001b[0;36m__getitem__\u001b[0;34m(self, where)\u001b[0m\n\u001b[1;32m    627\u001b[0m                 \u001b[0mnslices\u001b[0m \u001b[0;34m+=\u001b[0m \u001b[0;36m1\u001b[0m\u001b[0;34m\u001b[0m\u001b[0;34m\u001b[0m\u001b[0m\n\u001b[1;32m    628\u001b[0m                 \u001b[0;32mif\u001b[0m \u001b[0mnslices\u001b[0m \u001b[0;34m>=\u001b[0m \u001b[0;36m2\u001b[0m\u001b[0;34m:\u001b[0m\u001b[0;34m\u001b[0m\u001b[0;34m\u001b[0m\u001b[0m\n\u001b[0;32m--> 629\u001b[0;31m                     \u001b[0;32mraise\u001b[0m \u001b[0mNotImplementedError\u001b[0m\u001b[0;34m(\u001b[0m\u001b[0;34m\"this implementation cannot slice a JaggedArray in more than two dimensions\"\u001b[0m\u001b[0;34m)\u001b[0m\u001b[0;34m\u001b[0m\u001b[0;34m\u001b[0m\u001b[0m\n\u001b[0m\u001b[1;32m    630\u001b[0m \u001b[0;34m\u001b[0m\u001b[0m\n\u001b[1;32m    631\u001b[0m                 \u001b[0;31m# If we sliced down to an empty jagged array, take a shortcut\u001b[0m\u001b[0;34m\u001b[0m\u001b[0;34m\u001b[0m\u001b[0;34m\u001b[0m\u001b[0m\n",
      "\u001b[0;31mNotImplementedError\u001b[0m: this implementation cannot slice a JaggedArray in more than two dimensions"
     ]
    }
   ],
   "source": [
    "import awkward as old_awkward\n",
    "\n",
    "old = old_awkward.fromiter([[[0.0, 1.1, 2.2], [], [3.3, 4.4]], [[5.5]], [], [[6.6, 7.7, 8.8, 9.9]]])\n",
    "old[:, ::-1, ::2]"
   ]
  },
  {
   "cell_type": "code",
   "execution_count": 24,
   "metadata": {},
   "outputs": [
    {
     "data": {
      "text/plain": [
       "<Array [[[3.3], [], [0, ... [], [[6.6, 8.8]]] type='4 * var * var * float64'>"
      ]
     },
     "execution_count": 24,
     "metadata": {},
     "output_type": "execute_result"
    }
   ],
   "source": [
    "new = ak.from_iter([[[0.0, 1.1, 2.2], [], [3.3, 4.4]], [[5.5]], [], [[6.6, 7.7, 8.8, 9.9]]])\n",
    "new[:, ::-1, ::2]"
   ]
  },
  {
   "cell_type": "markdown",
   "metadata": {},
   "source": [
    "Many slices in many jagged dimensions? No problem!\n",
    "\n",
    "It's because these functions are now written in C++, functionality like slicing can be written in a more natural way (recursive), allowing for generality. The restriction to only NumPy calls in the old library limited implementations to special cases. C++ type-checking also ensures that no methods are missing.\n",
    "\n",
    "<img src=\"../docs-images/diagrams/awkward-1-0-layers.png\" width=\"600\">"
   ]
  },
  {
   "cell_type": "markdown",
   "metadata": {},
   "source": [
    "Beyond uniformity, the main new features are:\n",
    "\n",
    "   * Single high-level ak.Array class\n",
    "   * Masking, rather than cutting\n",
    "   * Easier to override with physics behaviors\n",
    "   * ArrayBuilder\n",
    "   * Everything can be used in Numba\n",
    "   * Everything can be used in Pandas\n",
    "   * NumPy conformance and the \"axis\" parameter\n",
    "   * Producing and consuming arrays in pure C++\n",
    "   * Documentation!"
   ]
  },
  {
   "cell_type": "markdown",
   "metadata": {},
   "source": [
    "## 4. Single high-level ak.Array class"
   ]
  },
  {
   "cell_type": "markdown",
   "metadata": {},
   "source": [
    "## 5. Masking, rather than cutting"
   ]
  },
  {
   "cell_type": "markdown",
   "metadata": {},
   "source": [
    "## 6. Easier to override with physics behaviors"
   ]
  },
  {
   "cell_type": "markdown",
   "metadata": {},
   "source": [
    "## 7. ArrayBuilder"
   ]
  },
  {
   "cell_type": "markdown",
   "metadata": {},
   "source": [
    "## 8. Everything can be used in Numba"
   ]
  },
  {
   "cell_type": "markdown",
   "metadata": {},
   "source": [
    "## 9. Everything can be used in Pandas"
   ]
  },
  {
   "cell_type": "markdown",
   "metadata": {},
   "source": [
    "## 10. NumPy conformance and the \"axis\" parameter"
   ]
  },
  {
   "cell_type": "markdown",
   "metadata": {},
   "source": [
    "## 11. Producing and consuming arrays in pure C++"
   ]
  },
  {
   "cell_type": "markdown",
   "metadata": {},
   "source": [
    "## 12. Documentation!"
   ]
  }
 ],
 "metadata": {
  "kernelspec": {
   "display_name": "Python 3",
   "language": "python",
   "name": "python3"
  },
  "language_info": {
   "codemirror_mode": {
    "name": "ipython",
    "version": 3
   },
   "file_extension": ".py",
   "mimetype": "text/x-python",
   "name": "python",
   "nbconvert_exporter": "python",
   "pygments_lexer": "ipython3",
   "version": "3.7.6"
  }
 },
 "nbformat": 4,
 "nbformat_minor": 4
}
