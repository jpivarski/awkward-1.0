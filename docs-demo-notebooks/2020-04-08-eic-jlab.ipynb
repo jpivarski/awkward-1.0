{
 "cells": [
  {
   "cell_type": "markdown",
   "metadata": {},
   "source": [
    "# Uproot and Awkward Arrays\n",
    "\n",
    "**Tutorial for Electron Ion Collider users**\n",
    "\n",
    "Jim Pivarski (Princeton University)\n",
    "\n",
    "## Table of contents\n",
    "\n",
    "* [Uproot: getting data](#uproot)\n",
    "    - [Exploring a TFile](#Exploring-a-TFile)\n",
    "    - [Exploring a TTree](#Exploring-a-TTree)\n",
    "    - [Turning ROOT branches into NumPy arrays](#Turning-ROOT-branches-into-NumPy-arrays)\n",
    "    - [Memory management; caching](#Memory-management;-caching)\n",
    "    - [Histograms and other objects](#Histograms-and-other-objects)\n",
    "    - [Writing histograms and TTrees](#Writing-histograms-and-TTrees)\n",
    "    - [Jagged arrays (segue)](#Jagged-arrays-(segue))\n",
    "* [Awkward Array: manipulating data](#awkward)\n",
    "    - [Using Uproot data in Awkward 1.0](#Using-Uproot-data-in-Awkward-1.0)\n",
    "    - [Iteration in Python vs array-at-a-time operations](#Iteration-in-Python-vs-array-at-a-time-operations)\n",
    "    - [Zipping arrays into records and projecting them back out](#Zipping-arrays-into-records-and-projecting-them-back-out)\n",
    "    - [Filtering (cutting) events and particles with advanced selections](#Filtering-(cutting)-events-and-particles-with-advanced-selections)\n",
    "    - [Flattening for plots and regularizing to NumPy for machine learning](#Flattening-for-plots-and-regularizing-to-NumPy-for-machine-learning)\n",
    "    - [Broadcasting flat arrays and jagged arrays](#Broadcasting-flat-arrays-and-jagged-arrays)\n",
    "    - [Combinatorics: cartesian and combinations](#Combinatorics:-cartesian-and-combinations)\n",
    "    - [Reducing from combinations](#Reducing-from-combinations)\n",
    "    - [Imperative, but still fast, programming in Numba](#Imperative,-but-still-fast,-programming-in-Numba)\n",
    "    - [Grafting jagged data onto Pandas](#Grafting-jagged-data-onto-Pandas)\n",
    "    - [NumExpr, Autograd, and other third-party libraries](#NumExpr,-Autograd,-and-other-third-party-libraries)"
   ]
  },
  {
   "cell_type": "markdown",
   "metadata": {},
   "source": [
    "<a name=\"uproot\">\n",
    "<img src=\"https://github.com/scikit-hep/uproot/raw/master/docs/source/logo-600px.png\" width=\"400\">"
   ]
  },
  {
   "cell_type": "markdown",
   "metadata": {},
   "source": [
    "## Exploring a TFile"
   ]
  },
  {
   "cell_type": "markdown",
   "metadata": {},
   "source": [
    "## Exploring a TTree"
   ]
  },
  {
   "cell_type": "markdown",
   "metadata": {},
   "source": [
    "## Turning ROOT branches into NumPy arrays"
   ]
  },
  {
   "cell_type": "markdown",
   "metadata": {},
   "source": [
    "## Memory management; caching"
   ]
  },
  {
   "cell_type": "markdown",
   "metadata": {},
   "source": [
    "## Histograms and other objects"
   ]
  },
  {
   "cell_type": "markdown",
   "metadata": {},
   "source": [
    "## Writing histograms and TTrees"
   ]
  },
  {
   "cell_type": "markdown",
   "metadata": {},
   "source": [
    "## Jagged arrays (segue)"
   ]
  },
  {
   "cell_type": "markdown",
   "metadata": {},
   "source": [
    "<a name=\"awkward\">\n",
    "<img src=\"https://github.com/scikit-hep/awkward-1.0/raw/master/docs-images/logo/logo-600px.png\" width=\"500\">"
   ]
  },
  {
   "cell_type": "markdown",
   "metadata": {},
   "source": [
    "## Using Uproot data in Awkward 1.0"
   ]
  },
  {
   "cell_type": "markdown",
   "metadata": {},
   "source": [
    "## Iteration in Python vs array-at-a-time operations"
   ]
  },
  {
   "cell_type": "markdown",
   "metadata": {},
   "source": [
    "## Zipping arrays into records and projecting them back out"
   ]
  },
  {
   "cell_type": "markdown",
   "metadata": {},
   "source": [
    "## Filtering (cutting) events and particles with advanced selections"
   ]
  },
  {
   "cell_type": "markdown",
   "metadata": {},
   "source": [
    "## Flattening for plots and regularizing to NumPy for machine learning"
   ]
  },
  {
   "cell_type": "markdown",
   "metadata": {},
   "source": [
    "## Broadcasting flat arrays and jagged arrays"
   ]
  },
  {
   "cell_type": "markdown",
   "metadata": {},
   "source": [
    "## Combinatorics: cartesian and combinations"
   ]
  },
  {
   "cell_type": "markdown",
   "metadata": {},
   "source": [
    "## Reducing from combinations"
   ]
  },
  {
   "cell_type": "markdown",
   "metadata": {},
   "source": [
    "## Imperative, but still fast, programming in Numba"
   ]
  },
  {
   "cell_type": "markdown",
   "metadata": {},
   "source": [
    "## Grafting jagged data onto Pandas"
   ]
  },
  {
   "cell_type": "markdown",
   "metadata": {},
   "source": [
    "## NumExpr, Autograd, and other third-party libraries"
   ]
  },
  {
   "cell_type": "code",
   "execution_count": null,
   "metadata": {},
   "outputs": [],
   "source": []
  }
 ],
 "metadata": {
  "kernelspec": {
   "display_name": "Python 3",
   "language": "python",
   "name": "python3"
  },
  "language_info": {
   "codemirror_mode": {
    "name": "ipython",
    "version": 3
   },
   "file_extension": ".py",
   "mimetype": "text/x-python",
   "name": "python",
   "nbconvert_exporter": "python",
   "pygments_lexer": "ipython3",
   "version": "3.7.6"
  }
 },
 "nbformat": 4,
 "nbformat_minor": 4
}
