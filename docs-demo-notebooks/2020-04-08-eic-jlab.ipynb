{
 "cells": [
  {
   "cell_type": "markdown",
   "metadata": {},
   "source": [
    "# Uproot and Awkward Arrays\n",
    "\n",
    "## Tutorial for Electron Ion Collider users\n",
    "\n",
    "Jim Pivarski (Princeton University)"
   ]
  },
  {
   "cell_type": "markdown",
   "metadata": {},
   "source": [
    "## Table of contents\n",
    "\n",
    "* [Uproot: getting data](#uproot)\n",
    "    - [Exploring a TFile](#Exploring-a-TFile)\n",
    "    - [Exploring a TTree](#Exploring-a-TTree)\n",
    "    - [Turning ROOT branches into NumPy arrays](#Turning-ROOT-branches-into-NumPy-arrays)\n",
    "    - [Memory management; caching and iteration](#Memory-management;-caching-and-iteration)\n",
    "    - [Jagged arrays (segue)](#Jagged-arrays-(segue))\n",
    "* [Awkward Array: manipulating data](#awkward)\n",
    "    - [Using Uproot data in Awkward 1.0](#Using-Uproot-data-in-Awkward-1.0)\n",
    "    - [Iteration in Python vs array-at-a-time operations](#Iteration-in-Python-vs-array-at-a-time-operations)\n",
    "    - [Zipping arrays into records and projecting them back out](#Zipping-arrays-into-records-and-projecting-them-back-out)\n",
    "    - [Filtering (cutting) events and particles with advanced selections](#Filtering-(cutting)-events-and-particles-with-advanced-selections)\n",
    "    - [Flattening for plots and regularizing to NumPy for machine learning](#Flattening-for-plots-and-regularizing-to-NumPy-for-machine-learning)\n",
    "    - [Broadcasting flat arrays and jagged arrays](#Broadcasting-flat-arrays-and-jagged-arrays)\n",
    "    - [Combinatorics: cartesian and combinations](#Combinatorics:-cartesian-and-combinations)\n",
    "    - [Reducing from combinations](#Reducing-from-combinations)\n",
    "    - [Imperative, but still fast, programming in Numba](#Imperative,-but-still-fast,-programming-in-Numba)\n",
    "    - [Grafting jagged data onto Pandas](#Grafting-jagged-data-onto-Pandas)\n",
    "    - [NumExpr, Autograd, and other third-party libraries](#NumExpr,-Autograd,-and-other-third-party-libraries)"
   ]
  },
  {
   "cell_type": "markdown",
   "metadata": {},
   "source": [
    "<br>\n",
    "<br>\n",
    "<a name=\"uproot\">\n",
    "<img src=\"https://github.com/scikit-hep/uproot/raw/master/docs/source/logo-600px.png\" width=\"300\">"
   ]
  },
  {
   "cell_type": "markdown",
   "metadata": {},
   "source": [
    "Uproot is a pure Python reimplementation of a significant part of ROOT I/O.\n",
    "\n",
    "<br>\n",
    "<img src=\"https://raw.githubusercontent.com/jpivarski/2019-07-29-dpf-python/master/img/abstraction-layers.png\" width=\"700\">\n",
    "<br>\n",
    "\n",
    "You can read TTrees containing basic data types, STL vectors, strings, and some more complex data, especially if it was written with a high \"splitLevel\".\n",
    "\n",
    "You can also read histograms and other objects into generic containers, but the C++ methods that give those objects functionality are not available."
   ]
  },
  {
   "cell_type": "markdown",
   "metadata": {},
   "source": [
    "## Exploring a TFile"
   ]
  },
  {
   "cell_type": "markdown",
   "metadata": {},
   "source": [
    "Uproot was designed to be Pythonic, so the way we interact with ROOT files is different than it is in ROOT."
   ]
  },
  {
   "cell_type": "code",
   "execution_count": 2,
   "metadata": {},
   "outputs": [],
   "source": [
    "import uproot\n",
    "file = uproot.open(\"open_charm_18x275_10k.root\")"
   ]
  },
  {
   "cell_type": "markdown",
   "metadata": {},
   "source": [
    "A ROOT file may be thought of as a dict of dicts, with `keys` and `values` like a Python dict."
   ]
  },
  {
   "cell_type": "code",
   "execution_count": 3,
   "metadata": {},
   "outputs": [
    {
     "data": {
      "text/plain": [
       "[b'events;1']"
      ]
     },
     "execution_count": 3,
     "metadata": {},
     "output_type": "execute_result"
    }
   ],
   "source": [
    "file.keys()"
   ]
  },
  {
   "cell_type": "code",
   "execution_count": 4,
   "metadata": {},
   "outputs": [
    {
     "data": {
      "text/plain": [
       "[<ROOTDirectory b'events' at 0x7ff964c8a250>]"
      ]
     },
     "execution_count": 4,
     "metadata": {},
     "output_type": "execute_result"
    }
   ],
   "source": [
    "file.values()"
   ]
  },
  {
   "cell_type": "markdown",
   "metadata": {},
   "source": [
    "**What's the `b` before the name?** All strings retrieved from ROOT are unencoded, which Python 3 treats differently from Python 2. In the near future, Uproot will automatically interpret all strings from ROOT as UTF-8 and this cosmetic issue will be gone.\n",
    "\n",
    "**What's the `;1` at the end of the name?** It's the cycle number, something ROOT uses to track multiple versions of an object. You can usually ignore it."
   ]
  },
  {
   "cell_type": "markdown",
   "metadata": {},
   "source": [
    "Nested directories are a dict of dicts."
   ]
  },
  {
   "cell_type": "code",
   "execution_count": 5,
   "metadata": {},
   "outputs": [
    {
     "data": {
      "text/plain": [
       "[b'tree;2', b'tree;1']"
      ]
     },
     "execution_count": 5,
     "metadata": {},
     "output_type": "execute_result"
    }
   ],
   "source": [
    "file[\"events\"].keys()"
   ]
  },
  {
   "cell_type": "code",
   "execution_count": 6,
   "metadata": {},
   "outputs": [
    {
     "data": {
      "text/plain": [
       "<TTree b'tree' at 0x7ff964c67cd0>"
      ]
     },
     "execution_count": 6,
     "metadata": {},
     "output_type": "execute_result"
    }
   ],
   "source": [
    "file[\"events\"][\"tree\"]"
   ]
  },
  {
   "cell_type": "markdown",
   "metadata": {},
   "source": [
    "But there are shortcuts:\n",
    "\n",
    "   * use a `/` to navigate through the levels in a single string;\n",
    "   * use `allkeys` to recursively show all keys in all directories."
   ]
  },
  {
   "cell_type": "code",
   "execution_count": 7,
   "metadata": {},
   "outputs": [
    {
     "data": {
      "text/plain": [
       "[b'events;1', b'events/tree;2', b'events/tree;1']"
      ]
     },
     "execution_count": 7,
     "metadata": {},
     "output_type": "execute_result"
    }
   ],
   "source": [
    "file.allkeys()"
   ]
  },
  {
   "cell_type": "code",
   "execution_count": 8,
   "metadata": {},
   "outputs": [
    {
     "data": {
      "text/plain": [
       "<TTree b'tree' at 0x7ff964ade2d0>"
      ]
     },
     "execution_count": 8,
     "metadata": {},
     "output_type": "execute_result"
    }
   ],
   "source": [
    "file[\"events/tree\"]"
   ]
  },
  {
   "cell_type": "markdown",
   "metadata": {},
   "source": [
    "## Exploring a TTree"
   ]
  },
  {
   "cell_type": "markdown",
   "metadata": {},
   "source": [
    "A TTree can also be thought of as a dict of dicts, this time to navigate through branches."
   ]
  },
  {
   "cell_type": "code",
   "execution_count": 9,
   "metadata": {},
   "outputs": [
    {
     "data": {
      "text/plain": [
       "[b'evt_id',\n",
       " b'evt_true_q2',\n",
       " b'evt_true_x',\n",
       " b'evt_true_y',\n",
       " b'evt_true_w2',\n",
       " b'evt_true_nu',\n",
       " b'evt_has_dis_info',\n",
       " b'evt_prt_count',\n",
       " b'evt_weight',\n",
       " b'id',\n",
       " b'pdg',\n",
       " b'trk_id',\n",
       " b'charge',\n",
       " b'dir_x',\n",
       " b'dir_y',\n",
       " b'dir_z',\n",
       " b'p',\n",
       " b'px',\n",
       " b'py',\n",
       " b'pz',\n",
       " b'tot_e',\n",
       " b'm',\n",
       " b'time',\n",
       " b'is_beam',\n",
       " b'is_stable',\n",
       " b'gen_code',\n",
       " b'mother_id',\n",
       " b'mother_second_id',\n",
       " b'has_pol_info',\n",
       " b'pol_x',\n",
       " b'pol_y',\n",
       " b'pol_z',\n",
       " b'has_vtx_info',\n",
       " b'vtx_id',\n",
       " b'vtx_x',\n",
       " b'vtx_y',\n",
       " b'vtx_z',\n",
       " b'vtx_t',\n",
       " b'has_smear_info',\n",
       " b'smear_has_e',\n",
       " b'smear_has_p',\n",
       " b'smear_has_pid',\n",
       " b'smear_has_vtx',\n",
       " b'smear_has_any_eppid',\n",
       " b'smear_orig_tot_e',\n",
       " b'smear_orig_p',\n",
       " b'smear_orig_px',\n",
       " b'smear_orig_py',\n",
       " b'smear_orig_pz',\n",
       " b'smear_orig_vtx_x',\n",
       " b'smear_orig_vtx_y',\n",
       " b'smear_orig_vtx_z']"
      ]
     },
     "execution_count": 9,
     "metadata": {},
     "output_type": "execute_result"
    }
   ],
   "source": [
    "tree = file[\"events/tree\"]\n",
    "tree.keys()"
   ]
  },
  {
   "cell_type": "markdown",
   "metadata": {},
   "source": [
    "Often, the first thing I do when I look at a TTree is `show` to see how each branch is going to be interpreted."
   ]
  },
  {
   "cell_type": "code",
   "execution_count": 14,
   "metadata": {},
   "outputs": [
    {
     "name": "stdout",
     "output_type": "stream",
     "text": [
      "branch name              streamer (for complex data)  interpretation in Python\n",
      "==============================================================================\n",
      "evt_id                     (no streamer)              asdtype('>u8')\n",
      "evt_true_q2                (no streamer)              asdtype('>f8')\n",
      "evt_true_x                 (no streamer)              asdtype('>f8')\n",
      "evt_true_y                 (no streamer)              asdtype('>f8')\n",
      "evt_true_w2                (no streamer)              asdtype('>f8')\n",
      "evt_true_nu                (no streamer)              asdtype('>f8')\n",
      "evt_has_dis_info           (no streamer)              asdtype('int8')\n",
      "evt_prt_count              (no streamer)              asdtype('>u8')\n",
      "evt_weight                 (no streamer)              asdtype('>f8')\n",
      "id                         (no streamer)              asjagged(asdtype('>u8'))\n",
      "pdg                        (no streamer)              asjagged(asdtype('>i8'))\n",
      "trk_id                     (no streamer)              asjagged(asdtype('>f8'))\n",
      "charge                     (no streamer)              asjagged(asdtype('>f8'))\n",
      "dir_x                      (no streamer)              asjagged(asdtype('>f8'))\n",
      "dir_y                      (no streamer)              asjagged(asdtype('>f8'))\n",
      "dir_z                      (no streamer)              asjagged(asdtype('>f8'))\n",
      "p                          (no streamer)              asjagged(asdtype('>f8'))\n",
      "px                         (no streamer)              asjagged(asdtype('>f8'))\n",
      "py                         (no streamer)              asjagged(asdtype('>f8'))\n",
      "pz                         (no streamer)              asjagged(asdtype('>f8'))\n",
      "tot_e                      (no streamer)              asjagged(asdtype('>f8'))\n",
      "m                          (no streamer)              asjagged(asdtype('>f8'))\n",
      "time                       (no streamer)              asjagged(asdtype('>f8'))\n",
      "is_beam                    (no streamer)              asjagged(asdtype('bool'))\n",
      "is_stable                  (no streamer)              asjagged(asdtype('bool'))\n",
      "gen_code                   (no streamer)              asjagged(asdtype('bool'))\n",
      "mother_id                  (no streamer)              asjagged(asdtype('>u8'))\n",
      "mother_second_id           (no streamer)              asjagged(asdtype('>u8'))\n",
      "has_pol_info               (no streamer)              asjagged(asdtype('>f8'))\n",
      "pol_x                      (no streamer)              asjagged(asdtype('>f8'))\n",
      "pol_y                      (no streamer)              asjagged(asdtype('>f8'))\n",
      "pol_z                      (no streamer)              asjagged(asdtype('>f8'))\n",
      "has_vtx_info               (no streamer)              asjagged(asdtype('bool'))\n",
      "vtx_id                     (no streamer)              asjagged(asdtype('>u8'))\n",
      "vtx_x                      (no streamer)              asjagged(asdtype('>f8'))\n",
      "vtx_y                      (no streamer)              asjagged(asdtype('>f8'))\n",
      "vtx_z                      (no streamer)              asjagged(asdtype('>f8'))\n",
      "vtx_t                      (no streamer)              asjagged(asdtype('>f8'))\n",
      "has_smear_info             (no streamer)              asjagged(asdtype('bool'))\n",
      "smear_has_e                (no streamer)              asjagged(asdtype('bool'))\n",
      "smear_has_p                (no streamer)              asjagged(asdtype('bool'))\n",
      "smear_has_pid              (no streamer)              asjagged(asdtype('bool'))\n",
      "smear_has_vtx              (no streamer)              asjagged(asdtype('bool'))\n",
      "smear_has_any_eppid        (no streamer)              asjagged(asdtype('bool'))\n",
      "smear_orig_tot_e           (no streamer)              asjagged(asdtype('>f8'))\n",
      "smear_orig_p               (no streamer)              asjagged(asdtype('>f8'))\n",
      "smear_orig_px              (no streamer)              asjagged(asdtype('>f8'))\n",
      "smear_orig_py              (no streamer)              asjagged(asdtype('>f8'))\n",
      "smear_orig_pz              (no streamer)              asjagged(asdtype('>f8'))\n",
      "smear_orig_vtx_x           (no streamer)              asjagged(asdtype('>f8'))\n",
      "smear_orig_vtx_y           (no streamer)              asjagged(asdtype('>f8'))\n",
      "smear_orig_vtx_z           (no streamer)              asjagged(asdtype('>f8'))\n"
     ]
    }
   ],
   "source": [
    "print(\"branch name              streamer (for complex data)  interpretation in Python\")\n",
    "print(\"==============================================================================\")\n",
    "\n",
    "tree.show()"
   ]
  },
  {
   "cell_type": "markdown",
   "metadata": {},
   "source": [
    "Most of the information you'd expect to find in a TTree is there. See [uproot.readthedocs.io](https://uproot.readthedocs.io/en/latest/ttree-handling.html) for a complete list."
   ]
  },
  {
   "cell_type": "code",
   "execution_count": 20,
   "metadata": {},
   "outputs": [
    {
     "data": {
      "text/plain": [
       "10000"
      ]
     },
     "execution_count": 20,
     "metadata": {},
     "output_type": "execute_result"
    }
   ],
   "source": [
    "tree.numentries"
   ]
  },
  {
   "cell_type": "code",
   "execution_count": 27,
   "metadata": {},
   "outputs": [
    {
     "data": {
      "text/plain": [
       "(15417, 80000, 5.189076992929882)"
      ]
     },
     "execution_count": 27,
     "metadata": {},
     "output_type": "execute_result"
    }
   ],
   "source": [
    "tree[\"evt_id\"].compressedbytes(), tree[\"evt_id\"].uncompressedbytes(), tree[\"evt_id\"].compressionratio()"
   ]
  },
  {
   "cell_type": "code",
   "execution_count": 25,
   "metadata": {},
   "outputs": [
    {
     "data": {
      "text/plain": [
       "3"
      ]
     },
     "execution_count": 25,
     "metadata": {},
     "output_type": "execute_result"
    }
   ],
   "source": [
    "tree[\"evt_id\"].numbaskets"
   ]
  },
  {
   "cell_type": "code",
   "execution_count": 26,
   "metadata": {},
   "outputs": [
    {
     "data": {
      "text/plain": [
       "[0, 3990, 5883]"
      ]
     },
     "execution_count": 26,
     "metadata": {},
     "output_type": "execute_result"
    }
   ],
   "source": [
    "[tree[\"evt_id\"].basket_entrystart(i) for i in range(3)]"
   ]
  },
  {
   "cell_type": "markdown",
   "metadata": {},
   "source": [
    "## Turning ROOT branches into NumPy arrays"
   ]
  },
  {
   "cell_type": "markdown",
   "metadata": {},
   "source": [
    "There are several methods for this; they differ only in convenience."
   ]
  },
  {
   "cell_type": "code",
   "execution_count": 30,
   "metadata": {},
   "outputs": [
    {
     "data": {
      "text/plain": [
       "array([   0,    1,    2, ..., 9997, 9998, 9999], dtype=uint64)"
      ]
     },
     "execution_count": 30,
     "metadata": {},
     "output_type": "execute_result"
    }
   ],
   "source": [
    "# TBranch → array\n",
    "tree[\"evt_id\"].array()"
   ]
  },
  {
   "cell_type": "code",
   "execution_count": 31,
   "metadata": {},
   "outputs": [
    {
     "data": {
      "text/plain": [
       "array([   0,    1,    2, ..., 9997, 9998, 9999], dtype=uint64)"
      ]
     },
     "execution_count": 31,
     "metadata": {},
     "output_type": "execute_result"
    }
   ],
   "source": [
    "# TTree + branch name → array\n",
    "tree.array(\"evt_id\")"
   ]
  },
  {
   "cell_type": "code",
   "execution_count": 33,
   "metadata": {},
   "outputs": [
    {
     "data": {
      "text/plain": [
       "{b'evt_id': array([   0,    1,    2, ..., 9997, 9998, 9999], dtype=uint64),\n",
       " b'evt_prt_count': array([51, 26, 27, ..., 42, 25, 11], dtype=uint64)}"
      ]
     },
     "execution_count": 33,
     "metadata": {},
     "output_type": "execute_result"
    }
   ],
   "source": [
    "# TTree + branch names → arrays\n",
    "tree.arrays([\"evt_id\", \"evt_prt_count\"])"
   ]
  },
  {
   "cell_type": "code",
   "execution_count": 34,
   "metadata": {},
   "outputs": [
    {
     "data": {
      "text/plain": [
       "{b'evt_id': array([   0,    1,    2, ..., 9997, 9998, 9999], dtype=uint64),\n",
       " b'evt_true_q2': array([0., 0., 0., ..., 0., 0., 0.]),\n",
       " b'evt_true_x': array([0., 0., 0., ..., 0., 0., 0.]),\n",
       " b'evt_true_y': array([0., 0., 0., ..., 0., 0., 0.]),\n",
       " b'evt_true_w2': array([0., 0., 0., ..., 0., 0., 0.]),\n",
       " b'evt_true_nu': array([0., 0., 0., ..., 0., 0., 0.]),\n",
       " b'evt_has_dis_info': array([0, 0, 0, ..., 0, 0, 0], dtype=int8),\n",
       " b'evt_prt_count': array([51, 26, 27, ..., 42, 25, 11], dtype=uint64),\n",
       " b'evt_weight': array([0., 0., 0., ..., 0., 0., 0.])}"
      ]
     },
     "execution_count": 34,
     "metadata": {},
     "output_type": "execute_result"
    }
   ],
   "source": [
    "# TTree + branch name pattern(s) → arrays\n",
    "tree.arrays(\"evt_*\")"
   ]
  },
  {
   "cell_type": "code",
   "execution_count": 41,
   "metadata": {},
   "outputs": [
    {
     "data": {
      "text/plain": [
       "{b'evt_id': array([   0,    1,    2, ..., 9997, 9998, 9999], dtype=uint64),\n",
       " b'evt_true_q2': array([0., 0., 0., ..., 0., 0., 0.]),\n",
       " b'evt_true_x': array([0., 0., 0., ..., 0., 0., 0.]),\n",
       " b'evt_true_y': array([0., 0., 0., ..., 0., 0., 0.]),\n",
       " b'evt_true_w2': array([0., 0., 0., ..., 0., 0., 0.]),\n",
       " b'evt_true_nu': array([0., 0., 0., ..., 0., 0., 0.]),\n",
       " b'evt_has_dis_info': array([0, 0, 0, ..., 0, 0, 0], dtype=int8),\n",
       " b'evt_prt_count': array([51, 26, 27, ..., 42, 25, 11], dtype=uint64),\n",
       " b'evt_weight': array([0., 0., 0., ..., 0., 0., 0.])}"
      ]
     },
     "execution_count": 41,
     "metadata": {},
     "output_type": "execute_result"
    }
   ],
   "source": [
    "# TTree + branch name regex(s) → arrays\n",
    "tree.arrays(\"/evt_[A-Z_0-9]*/i\")"
   ]
  },
  {
   "cell_type": "markdown",
   "metadata": {},
   "source": [
    "**Convenience #1:** turn the bytestrings into real strings (will soon be unnecessary)."
   ]
  },
  {
   "cell_type": "code",
   "execution_count": 42,
   "metadata": {},
   "outputs": [
    {
     "data": {
      "text/plain": [
       "{'evt_id': array([   0,    1,    2, ..., 9997, 9998, 9999], dtype=uint64),\n",
       " 'evt_true_q2': array([0., 0., 0., ..., 0., 0., 0.]),\n",
       " 'evt_true_x': array([0., 0., 0., ..., 0., 0., 0.]),\n",
       " 'evt_true_y': array([0., 0., 0., ..., 0., 0., 0.]),\n",
       " 'evt_true_w2': array([0., 0., 0., ..., 0., 0., 0.]),\n",
       " 'evt_true_nu': array([0., 0., 0., ..., 0., 0., 0.]),\n",
       " 'evt_has_dis_info': array([0, 0, 0, ..., 0, 0, 0], dtype=int8),\n",
       " 'evt_prt_count': array([51, 26, 27, ..., 42, 25, 11], dtype=uint64),\n",
       " 'evt_weight': array([0., 0., 0., ..., 0., 0., 0.])}"
      ]
     },
     "execution_count": 42,
     "metadata": {},
     "output_type": "execute_result"
    }
   ],
   "source": [
    "tree.arrays(\"evt_*\", namedecode=\"utf-8\")"
   ]
  },
  {
   "cell_type": "markdown",
   "metadata": {},
   "source": [
    "**Convenience #2:** output a tuple instead of a dict."
   ]
  },
  {
   "cell_type": "code",
   "execution_count": 44,
   "metadata": {},
   "outputs": [
    {
     "data": {
      "text/plain": [
       "(array([   0,    1,    2, ..., 9997, 9998, 9999], dtype=uint64),\n",
       " array([51, 26, 27, ..., 42, 25, 11], dtype=uint64))"
      ]
     },
     "execution_count": 44,
     "metadata": {},
     "output_type": "execute_result"
    }
   ],
   "source": [
    "tree.arrays([\"evt_id\", \"evt_prt_count\"], outputtype=tuple)"
   ]
  },
  {
   "cell_type": "markdown",
   "metadata": {},
   "source": [
    "... to use it in assignment:"
   ]
  },
  {
   "cell_type": "code",
   "execution_count": 45,
   "metadata": {},
   "outputs": [],
   "source": [
    "evt_id, evt_prt_count = tree.arrays([\"evt_id\", \"evt_prt_count\"], outputtype=tuple)"
   ]
  },
  {
   "cell_type": "code",
   "execution_count": 46,
   "metadata": {},
   "outputs": [
    {
     "data": {
      "text/plain": [
       "array([   0,    1,    2, ..., 9997, 9998, 9999], dtype=uint64)"
      ]
     },
     "execution_count": 46,
     "metadata": {},
     "output_type": "execute_result"
    }
   ],
   "source": [
    "evt_id"
   ]
  },
  {
   "cell_type": "markdown",
   "metadata": {},
   "source": [
    "## Memory management; caching and iteration"
   ]
  },
  {
   "cell_type": "markdown",
   "metadata": {},
   "source": [
    "The `array` methods read an entire branch into memory. Sometimes, you might not have enough memory to do that.\n",
    "\n",
    "The simplest solution is to set `entrystart` (inclusive) and `entrystop` (exclusive) to only read a batch at a time."
   ]
  },
  {
   "cell_type": "code",
   "execution_count": 47,
   "metadata": {},
   "outputs": [
    {
     "data": {
      "text/plain": [
       "array([500, 501, 502, 503, 504, 505, 506, 507, 508, 509, 510, 511, 512,\n",
       "       513, 514, 515, 516, 517, 518, 519, 520, 521, 522, 523, 524, 525,\n",
       "       526, 527, 528, 529, 530, 531, 532, 533, 534, 535, 536, 537, 538,\n",
       "       539, 540, 541, 542, 543, 544, 545, 546, 547, 548, 549, 550, 551,\n",
       "       552, 553, 554, 555, 556, 557, 558, 559, 560, 561, 562, 563, 564,\n",
       "       565, 566, 567, 568, 569, 570, 571, 572, 573, 574, 575, 576, 577,\n",
       "       578, 579, 580, 581, 582, 583, 584, 585, 586, 587, 588, 589, 590,\n",
       "       591, 592, 593, 594, 595, 596, 597, 598, 599], dtype=uint64)"
      ]
     },
     "execution_count": 47,
     "metadata": {},
     "output_type": "execute_result"
    }
   ],
   "source": [
    "tree.array(\"evt_id\", entrystart=500, entrystop=600)"
   ]
  },
  {
   "cell_type": "markdown",
   "metadata": {},
   "source": [
    "Uproot is not agressive about caching: if you call `arrays` many times (for many small batches), it will read from the file every time.\n",
    "\n",
    "You can avoid frequent re-reading by assigning arrays to variables, but then you'd have to manage many variables.\n",
    "\n",
    "Instead, use caching:"
   ]
  },
  {
   "cell_type": "code",
   "execution_count": 49,
   "metadata": {},
   "outputs": [
    {
     "data": {
      "text/plain": [
       "array([   0,    1,    2, ..., 9997, 9998, 9999], dtype=uint64)"
      ]
     },
     "execution_count": 49,
     "metadata": {},
     "output_type": "execute_result"
    }
   ],
   "source": [
    "# Make a cache with an acceptable limit.\n",
    "gigabyte_cache = uproot.ArrayCache(\"1 GB\")\n",
    "\n",
    "# Read the array from disk:\n",
    "tree.array(\"evt_id\", cache=gigabyte_cache)\n",
    "\n",
    "# Get the array from the cache:\n",
    "tree.array(\"evt_id\", cache=gigabyte_cache)"
   ]
  },
  {
   "cell_type": "markdown",
   "metadata": {},
   "source": [
    "The advantage is that the same code can be used for first time and subsequent times. You can put this in a loop.\n",
    "\n",
    "Naturally, fetching from the cache is much faster than reading from disk (though our file isn't very big!)."
   ]
  },
  {
   "cell_type": "code",
   "execution_count": 55,
   "metadata": {},
   "outputs": [
    {
     "name": "stdout",
     "output_type": "stream",
     "text": [
      "564 ms ± 10.7 ms per loop (mean ± std. dev. of 7 runs, 1 loop each)\n"
     ]
    }
   ],
   "source": [
    "%%timeit\n",
    "\n",
    "tree.arrays(\"*\")"
   ]
  },
  {
   "cell_type": "code",
   "execution_count": 56,
   "metadata": {},
   "outputs": [
    {
     "name": "stdout",
     "output_type": "stream",
     "text": [
      "2.07 ms ± 36.5 µs per loop (mean ± std. dev. of 7 runs, 1 loop each)\n"
     ]
    }
   ],
   "source": [
    "%%timeit\n",
    "\n",
    "tree.arrays(\"*\", cache=gigabyte_cache)"
   ]
  },
  {
   "cell_type": "markdown",
   "metadata": {},
   "source": [
    "The value of an explicit cache is that you get to control it."
   ]
  },
  {
   "cell_type": "code",
   "execution_count": 58,
   "metadata": {},
   "outputs": [
    {
     "data": {
      "text/plain": [
       "52"
      ]
     },
     "execution_count": 58,
     "metadata": {},
     "output_type": "execute_result"
    }
   ],
   "source": [
    "len(gigabyte_cache)"
   ]
  },
  {
   "cell_type": "code",
   "execution_count": 59,
   "metadata": {},
   "outputs": [],
   "source": [
    "gigabyte_cache.clear()"
   ]
  },
  {
   "cell_type": "code",
   "execution_count": 60,
   "metadata": {},
   "outputs": [
    {
     "data": {
      "text/plain": [
       "0"
      ]
     },
     "execution_count": 60,
     "metadata": {},
     "output_type": "execute_result"
    }
   ],
   "source": [
    "len(gigabyte_cache)"
   ]
  },
  {
   "cell_type": "markdown",
   "metadata": {},
   "source": [
    "Setting `entrystart` and `entrystop` can get annoying; we probably want to do it in a loop.\n",
    "\n",
    "There's a method, `iterate`, for that."
   ]
  },
  {
   "cell_type": "code",
   "execution_count": 61,
   "metadata": {},
   "outputs": [
    {
     "name": "stdout",
     "output_type": "stream",
     "text": [
      "{b'evt_id': 1000, b'evt_true_q2': 1000, b'evt_true_x': 1000, b'evt_true_y': 1000, b'evt_true_w2': 1000, b'evt_true_nu': 1000, b'evt_has_dis_info': 1000, b'evt_prt_count': 1000, b'evt_weight': 1000}\n",
      "{b'evt_id': 1000, b'evt_true_q2': 1000, b'evt_true_x': 1000, b'evt_true_y': 1000, b'evt_true_w2': 1000, b'evt_true_nu': 1000, b'evt_has_dis_info': 1000, b'evt_prt_count': 1000, b'evt_weight': 1000}\n",
      "{b'evt_id': 1000, b'evt_true_q2': 1000, b'evt_true_x': 1000, b'evt_true_y': 1000, b'evt_true_w2': 1000, b'evt_true_nu': 1000, b'evt_has_dis_info': 1000, b'evt_prt_count': 1000, b'evt_weight': 1000}\n",
      "{b'evt_id': 1000, b'evt_true_q2': 1000, b'evt_true_x': 1000, b'evt_true_y': 1000, b'evt_true_w2': 1000, b'evt_true_nu': 1000, b'evt_has_dis_info': 1000, b'evt_prt_count': 1000, b'evt_weight': 1000}\n",
      "{b'evt_id': 1000, b'evt_true_q2': 1000, b'evt_true_x': 1000, b'evt_true_y': 1000, b'evt_true_w2': 1000, b'evt_true_nu': 1000, b'evt_has_dis_info': 1000, b'evt_prt_count': 1000, b'evt_weight': 1000}\n",
      "{b'evt_id': 1000, b'evt_true_q2': 1000, b'evt_true_x': 1000, b'evt_true_y': 1000, b'evt_true_w2': 1000, b'evt_true_nu': 1000, b'evt_has_dis_info': 1000, b'evt_prt_count': 1000, b'evt_weight': 1000}\n",
      "{b'evt_id': 1000, b'evt_true_q2': 1000, b'evt_true_x': 1000, b'evt_true_y': 1000, b'evt_true_w2': 1000, b'evt_true_nu': 1000, b'evt_has_dis_info': 1000, b'evt_prt_count': 1000, b'evt_weight': 1000}\n",
      "{b'evt_id': 1000, b'evt_true_q2': 1000, b'evt_true_x': 1000, b'evt_true_y': 1000, b'evt_true_w2': 1000, b'evt_true_nu': 1000, b'evt_has_dis_info': 1000, b'evt_prt_count': 1000, b'evt_weight': 1000}\n",
      "{b'evt_id': 1000, b'evt_true_q2': 1000, b'evt_true_x': 1000, b'evt_true_y': 1000, b'evt_true_w2': 1000, b'evt_true_nu': 1000, b'evt_has_dis_info': 1000, b'evt_prt_count': 1000, b'evt_weight': 1000}\n",
      "{b'evt_id': 1000, b'evt_true_q2': 1000, b'evt_true_x': 1000, b'evt_true_y': 1000, b'evt_true_w2': 1000, b'evt_true_nu': 1000, b'evt_has_dis_info': 1000, b'evt_prt_count': 1000, b'evt_weight': 1000}\n"
     ]
    }
   ],
   "source": [
    "for arrays in tree.iterate(\"evt_*\", entrysteps=1000):\n",
    "    print({name: len(array) for name, array in arrays.items()})"
   ]
  },
  {
   "cell_type": "code",
   "execution_count": 63,
   "metadata": {},
   "outputs": [
    {
     "name": "stdout",
     "output_type": "stream",
     "text": [
      "{b'evt_id': 1576, b'evt_true_q2': 1576, b'evt_true_x': 1576, b'evt_true_y': 1576, b'evt_true_w2': 1576, b'evt_true_nu': 1576, b'evt_has_dis_info': 1576, b'evt_prt_count': 1576, b'evt_weight': 1576}\n",
      "{b'evt_id': 1576, b'evt_true_q2': 1576, b'evt_true_x': 1576, b'evt_true_y': 1576, b'evt_true_w2': 1576, b'evt_true_nu': 1576, b'evt_has_dis_info': 1576, b'evt_prt_count': 1576, b'evt_weight': 1576}\n",
      "{b'evt_id': 1576, b'evt_true_q2': 1576, b'evt_true_x': 1576, b'evt_true_y': 1576, b'evt_true_w2': 1576, b'evt_true_nu': 1576, b'evt_has_dis_info': 1576, b'evt_prt_count': 1576, b'evt_weight': 1576}\n",
      "{b'evt_id': 1576, b'evt_true_q2': 1576, b'evt_true_x': 1576, b'evt_true_y': 1576, b'evt_true_w2': 1576, b'evt_true_nu': 1576, b'evt_has_dis_info': 1576, b'evt_prt_count': 1576, b'evt_weight': 1576}\n",
      "{b'evt_id': 1576, b'evt_true_q2': 1576, b'evt_true_x': 1576, b'evt_true_y': 1576, b'evt_true_w2': 1576, b'evt_true_nu': 1576, b'evt_has_dis_info': 1576, b'evt_prt_count': 1576, b'evt_weight': 1576}\n",
      "{b'evt_id': 1576, b'evt_true_q2': 1576, b'evt_true_x': 1576, b'evt_true_y': 1576, b'evt_true_w2': 1576, b'evt_true_nu': 1576, b'evt_has_dis_info': 1576, b'evt_prt_count': 1576, b'evt_weight': 1576}\n",
      "{b'evt_id': 544, b'evt_true_q2': 544, b'evt_true_x': 544, b'evt_true_y': 544, b'evt_true_w2': 544, b'evt_true_nu': 544, b'evt_has_dis_info': 544, b'evt_prt_count': 544, b'evt_weight': 544}\n"
     ]
    }
   ],
   "source": [
    "for arrays in tree.iterate(\"evt_*\", entrysteps=\"100 kB\"):\n",
    "    print({name: len(array) for name, array in arrays.items()})"
   ]
  },
  {
   "cell_type": "code",
   "execution_count": 64,
   "metadata": {},
   "outputs": [
    {
     "name": "stdout",
     "output_type": "stream",
     "text": [
      "{b'evt_id': 10000}\n"
     ]
    }
   ],
   "source": [
    "for arrays in tree.iterate(\"evt_id\", entrysteps=\"100 kB\"):\n",
    "    print({name: len(array) for name, array in arrays.items()})"
   ]
  },
  {
   "cell_type": "markdown",
   "metadata": {},
   "source": [
    "This `TTree.iterate` method is similar in form to the `uproot.iterate` function, which iterates in batches over a collection of files."
   ]
  },
  {
   "cell_type": "code",
   "execution_count": 66,
   "metadata": {},
   "outputs": [
    {
     "name": "stdout",
     "output_type": "stream",
     "text": [
      "{b'evt_id': 1576, b'evt_true_q2': 1576, b'evt_true_x': 1576, b'evt_true_y': 1576, b'evt_true_w2': 1576, b'evt_true_nu': 1576, b'evt_has_dis_info': 1576, b'evt_prt_count': 1576, b'evt_weight': 1576}\n",
      "{b'evt_id': 1576, b'evt_true_q2': 1576, b'evt_true_x': 1576, b'evt_true_y': 1576, b'evt_true_w2': 1576, b'evt_true_nu': 1576, b'evt_has_dis_info': 1576, b'evt_prt_count': 1576, b'evt_weight': 1576}\n",
      "{b'evt_id': 1576, b'evt_true_q2': 1576, b'evt_true_x': 1576, b'evt_true_y': 1576, b'evt_true_w2': 1576, b'evt_true_nu': 1576, b'evt_has_dis_info': 1576, b'evt_prt_count': 1576, b'evt_weight': 1576}\n",
      "{b'evt_id': 1576, b'evt_true_q2': 1576, b'evt_true_x': 1576, b'evt_true_y': 1576, b'evt_true_w2': 1576, b'evt_true_nu': 1576, b'evt_has_dis_info': 1576, b'evt_prt_count': 1576, b'evt_weight': 1576}\n",
      "{b'evt_id': 1576, b'evt_true_q2': 1576, b'evt_true_x': 1576, b'evt_true_y': 1576, b'evt_true_w2': 1576, b'evt_true_nu': 1576, b'evt_has_dis_info': 1576, b'evt_prt_count': 1576, b'evt_weight': 1576}\n",
      "{b'evt_id': 1576, b'evt_true_q2': 1576, b'evt_true_x': 1576, b'evt_true_y': 1576, b'evt_true_w2': 1576, b'evt_true_nu': 1576, b'evt_has_dis_info': 1576, b'evt_prt_count': 1576, b'evt_weight': 1576}\n",
      "{b'evt_id': 544, b'evt_true_q2': 544, b'evt_true_x': 544, b'evt_true_y': 544, b'evt_true_w2': 544, b'evt_true_nu': 544, b'evt_has_dis_info': 544, b'evt_prt_count': 544, b'evt_weight': 544}\n",
      "{b'evt_id': 1576, b'evt_true_q2': 1576, b'evt_true_x': 1576, b'evt_true_y': 1576, b'evt_true_w2': 1576, b'evt_true_nu': 1576, b'evt_has_dis_info': 1576, b'evt_prt_count': 1576, b'evt_weight': 1576}\n",
      "{b'evt_id': 1576, b'evt_true_q2': 1576, b'evt_true_x': 1576, b'evt_true_y': 1576, b'evt_true_w2': 1576, b'evt_true_nu': 1576, b'evt_has_dis_info': 1576, b'evt_prt_count': 1576, b'evt_weight': 1576}\n",
      "{b'evt_id': 1576, b'evt_true_q2': 1576, b'evt_true_x': 1576, b'evt_true_y': 1576, b'evt_true_w2': 1576, b'evt_true_nu': 1576, b'evt_has_dis_info': 1576, b'evt_prt_count': 1576, b'evt_weight': 1576}\n",
      "{b'evt_id': 1576, b'evt_true_q2': 1576, b'evt_true_x': 1576, b'evt_true_y': 1576, b'evt_true_w2': 1576, b'evt_true_nu': 1576, b'evt_has_dis_info': 1576, b'evt_prt_count': 1576, b'evt_weight': 1576}\n",
      "{b'evt_id': 1576, b'evt_true_q2': 1576, b'evt_true_x': 1576, b'evt_true_y': 1576, b'evt_true_w2': 1576, b'evt_true_nu': 1576, b'evt_has_dis_info': 1576, b'evt_prt_count': 1576, b'evt_weight': 1576}\n",
      "{b'evt_id': 1576, b'evt_true_q2': 1576, b'evt_true_x': 1576, b'evt_true_y': 1576, b'evt_true_w2': 1576, b'evt_true_nu': 1576, b'evt_has_dis_info': 1576, b'evt_prt_count': 1576, b'evt_weight': 1576}\n",
      "{b'evt_id': 544, b'evt_true_q2': 544, b'evt_true_x': 544, b'evt_true_y': 544, b'evt_true_w2': 544, b'evt_true_nu': 544, b'evt_has_dis_info': 544, b'evt_prt_count': 544, b'evt_weight': 544}\n",
      "{b'evt_id': 1576, b'evt_true_q2': 1576, b'evt_true_x': 1576, b'evt_true_y': 1576, b'evt_true_w2': 1576, b'evt_true_nu': 1576, b'evt_has_dis_info': 1576, b'evt_prt_count': 1576, b'evt_weight': 1576}\n",
      "{b'evt_id': 1576, b'evt_true_q2': 1576, b'evt_true_x': 1576, b'evt_true_y': 1576, b'evt_true_w2': 1576, b'evt_true_nu': 1576, b'evt_has_dis_info': 1576, b'evt_prt_count': 1576, b'evt_weight': 1576}\n",
      "{b'evt_id': 1576, b'evt_true_q2': 1576, b'evt_true_x': 1576, b'evt_true_y': 1576, b'evt_true_w2': 1576, b'evt_true_nu': 1576, b'evt_has_dis_info': 1576, b'evt_prt_count': 1576, b'evt_weight': 1576}\n",
      "{b'evt_id': 1576, b'evt_true_q2': 1576, b'evt_true_x': 1576, b'evt_true_y': 1576, b'evt_true_w2': 1576, b'evt_true_nu': 1576, b'evt_has_dis_info': 1576, b'evt_prt_count': 1576, b'evt_weight': 1576}\n",
      "{b'evt_id': 1576, b'evt_true_q2': 1576, b'evt_true_x': 1576, b'evt_true_y': 1576, b'evt_true_w2': 1576, b'evt_true_nu': 1576, b'evt_has_dis_info': 1576, b'evt_prt_count': 1576, b'evt_weight': 1576}\n",
      "{b'evt_id': 1576, b'evt_true_q2': 1576, b'evt_true_x': 1576, b'evt_true_y': 1576, b'evt_true_w2': 1576, b'evt_true_nu': 1576, b'evt_has_dis_info': 1576, b'evt_prt_count': 1576, b'evt_weight': 1576}\n",
      "{b'evt_id': 544, b'evt_true_q2': 544, b'evt_true_x': 544, b'evt_true_y': 544, b'evt_true_w2': 544, b'evt_true_nu': 544, b'evt_has_dis_info': 544, b'evt_prt_count': 544, b'evt_weight': 544}\n"
     ]
    }
   ],
   "source": [
    "for arrays in uproot.iterate([\"open_charm_18x275_10k.root\",\n",
    "                              \"open_charm_18x275_10k.root\",\n",
    "                              \"open_charm_18x275_10k.root\"], \"events/tree\", \"evt_*\", entrysteps=\"100 kB\"):\n",
    "    print({name: len(array) for name, array in arrays.items()})"
   ]
  },
  {
   "cell_type": "markdown",
   "metadata": {},
   "source": [
    "## Jagged arrays (segue)"
   ]
  },
  {
   "cell_type": "markdown",
   "metadata": {},
   "source": [
    "<br>\n",
    "<br>\n",
    "<a name=\"awkward\">\n",
    "<img src=\"https://github.com/scikit-hep/awkward-1.0/raw/master/docs-images/logo/logo-600px.png\" width=\"400\">"
   ]
  },
  {
   "cell_type": "markdown",
   "metadata": {},
   "source": [
    "## Using Uproot data in Awkward 1.0"
   ]
  },
  {
   "cell_type": "markdown",
   "metadata": {},
   "source": [
    "## Iteration in Python vs array-at-a-time operations"
   ]
  },
  {
   "cell_type": "markdown",
   "metadata": {},
   "source": [
    "## Zipping arrays into records and projecting them back out"
   ]
  },
  {
   "cell_type": "markdown",
   "metadata": {},
   "source": [
    "## Filtering (cutting) events and particles with advanced selections"
   ]
  },
  {
   "cell_type": "markdown",
   "metadata": {},
   "source": [
    "## Flattening for plots and regularizing to NumPy for machine learning"
   ]
  },
  {
   "cell_type": "markdown",
   "metadata": {},
   "source": [
    "## Broadcasting flat arrays and jagged arrays"
   ]
  },
  {
   "cell_type": "markdown",
   "metadata": {},
   "source": [
    "## Combinatorics: cartesian and combinations"
   ]
  },
  {
   "cell_type": "markdown",
   "metadata": {},
   "source": [
    "## Reducing from combinations"
   ]
  },
  {
   "cell_type": "markdown",
   "metadata": {},
   "source": [
    "## Imperative, but still fast, programming in Numba"
   ]
  },
  {
   "cell_type": "markdown",
   "metadata": {},
   "source": [
    "## Grafting jagged data onto Pandas"
   ]
  },
  {
   "cell_type": "markdown",
   "metadata": {},
   "source": [
    "## NumExpr, Autograd, and other third-party libraries"
   ]
  },
  {
   "cell_type": "code",
   "execution_count": null,
   "metadata": {},
   "outputs": [],
   "source": []
  }
 ],
 "metadata": {
  "kernelspec": {
   "display_name": "Python 3",
   "language": "python",
   "name": "python3"
  },
  "language_info": {
   "codemirror_mode": {
    "name": "ipython",
    "version": 3
   },
   "file_extension": ".py",
   "mimetype": "text/x-python",
   "name": "python",
   "nbconvert_exporter": "python",
   "pygments_lexer": "ipython3",
   "version": "3.7.6"
  }
 },
 "nbformat": 4,
 "nbformat_minor": 4
}
