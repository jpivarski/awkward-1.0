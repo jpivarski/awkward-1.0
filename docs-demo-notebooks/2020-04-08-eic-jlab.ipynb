{
 "cells": [
  {
   "cell_type": "markdown",
   "metadata": {},
   "source": [
    "# Uproot and Awkward Arrays\n",
    "\n",
    "## Tutorial for Electron Ion Collider users\n",
    "\n",
    "Jim Pivarski (Princeton University)"
   ]
  },
  {
   "cell_type": "markdown",
   "metadata": {},
   "source": [
    "## Table of contents\n",
    "\n",
    "* [Uproot: getting data](#uproot)\n",
    "    - [Exploring a TFile](#Exploring-a-TFile)\n",
    "    - [Exploring a TTree](#Exploring-a-TTree)\n",
    "    - [Turning ROOT branches into NumPy arrays](#Turning-ROOT-branches-into-NumPy-arrays)\n",
    "    - [Memory management; caching and iteration](#Memory-management;-caching-and-iteration)\n",
    "    - [Jagged arrays (segue)](#Jagged-arrays-(segue))\n",
    "* [Awkward Array: manipulating data](#awkward)\n",
    "    - [Using Uproot data in Awkward 1.0](#Using-Uproot-data-in-Awkward-1.0)\n",
    "    - [Iteration in Python vs array-at-a-time operations](#Iteration-in-Python-vs-array-at-a-time-operations)\n",
    "    - [Zipping arrays into records and projecting them back out](#Zipping-arrays-into-records-and-projecting-them-back-out)\n",
    "    - [Filtering (cutting) events and particles with advanced selections](#Filtering-(cutting)-events-and-particles-with-advanced-selections)\n",
    "    - [Flattening for plots and regularizing to NumPy for machine learning](#Flattening-for-plots-and-regularizing-to-NumPy-for-machine-learning)\n",
    "    - [Broadcasting flat arrays and jagged arrays](#Broadcasting-flat-arrays-and-jagged-arrays)\n",
    "    - [Combinatorics: cartesian and combinations](#Combinatorics:-cartesian-and-combinations)\n",
    "    - [Reducing from combinations](#Reducing-from-combinations)\n",
    "    - [Imperative, but still fast, programming in Numba](#Imperative,-but-still-fast,-programming-in-Numba)\n",
    "    - [Grafting jagged data onto Pandas](#Grafting-jagged-data-onto-Pandas)\n",
    "    - [NumExpr, Autograd, and other third-party libraries](#NumExpr,-Autograd,-and-other-third-party-libraries)"
   ]
  },
  {
   "cell_type": "markdown",
   "metadata": {},
   "source": [
    "<br>\n",
    "<br>\n",
    "<a name=\"uproot\">\n",
    "<img src=\"https://github.com/scikit-hep/uproot/raw/master/docs/source/logo-600px.png\" width=\"300\">"
   ]
  },
  {
   "cell_type": "markdown",
   "metadata": {},
   "source": [
    "Uproot is a pure Python reimplementation of a significant part of ROOT I/O.\n",
    "\n",
    "<br>\n",
    "<img src=\"https://raw.githubusercontent.com/jpivarski/2019-07-29-dpf-python/master/img/abstraction-layers.png\" width=\"700\">\n",
    "<br>\n",
    "\n",
    "You can read TTrees containing basic data types, STL vectors, strings, and some more complex data, especially if it was written with a high \"splitLevel\".\n",
    "\n",
    "You can also read histograms and other objects into generic containers, but the C++ methods that give those objects functionality are not available."
   ]
  },
  {
   "cell_type": "markdown",
   "metadata": {},
   "source": [
    "## Exploring a TFile"
   ]
  },
  {
   "cell_type": "markdown",
   "metadata": {},
   "source": [
    "Uproot was designed to be Pythonic, so the way we interact with ROOT files is different than it is in ROOT."
   ]
  },
  {
   "cell_type": "code",
   "execution_count": 2,
   "metadata": {},
   "outputs": [],
   "source": [
    "import uproot\n",
    "file = uproot.open(\"open_charm_18x275_10k.root\")"
   ]
  },
  {
   "cell_type": "markdown",
   "metadata": {},
   "source": [
    "A ROOT file may be thought of as a dict of dicts, with `keys` and `values` like a Python dict."
   ]
  },
  {
   "cell_type": "code",
   "execution_count": 3,
   "metadata": {},
   "outputs": [
    {
     "data": {
      "text/plain": [
       "[b'events;1']"
      ]
     },
     "execution_count": 3,
     "metadata": {},
     "output_type": "execute_result"
    }
   ],
   "source": [
    "file.keys()"
   ]
  },
  {
   "cell_type": "code",
   "execution_count": 4,
   "metadata": {},
   "outputs": [
    {
     "data": {
      "text/plain": [
       "[<ROOTDirectory b'events' at 0x7ff964c8a250>]"
      ]
     },
     "execution_count": 4,
     "metadata": {},
     "output_type": "execute_result"
    }
   ],
   "source": [
    "file.values()"
   ]
  },
  {
   "cell_type": "markdown",
   "metadata": {},
   "source": [
    "**What's the `b` before the name?** All strings retrieved from ROOT are unencoded, which Python 3 treats differently from Python 2. In the near future, Uproot will automatically interpret all strings from ROOT as UTF-8 and this cosmetic issue will be gone.\n",
    "\n",
    "**What's the `;1` at the end of the name?** It's the cycle number, something ROOT uses to track multiple versions of an object. You can usually ignore it."
   ]
  },
  {
   "cell_type": "markdown",
   "metadata": {},
   "source": [
    "Nested directories are a dict of dicts."
   ]
  },
  {
   "cell_type": "code",
   "execution_count": 5,
   "metadata": {},
   "outputs": [
    {
     "data": {
      "text/plain": [
       "[b'tree;2', b'tree;1']"
      ]
     },
     "execution_count": 5,
     "metadata": {},
     "output_type": "execute_result"
    }
   ],
   "source": [
    "file[\"events\"].keys()"
   ]
  },
  {
   "cell_type": "code",
   "execution_count": 6,
   "metadata": {},
   "outputs": [
    {
     "data": {
      "text/plain": [
       "<TTree b'tree' at 0x7ff964c67cd0>"
      ]
     },
     "execution_count": 6,
     "metadata": {},
     "output_type": "execute_result"
    }
   ],
   "source": [
    "file[\"events\"][\"tree\"]"
   ]
  },
  {
   "cell_type": "markdown",
   "metadata": {},
   "source": [
    "But there are shortcuts:\n",
    "\n",
    "   * use a `/` to navigate through the levels in a single string;\n",
    "   * use `allkeys` to recursively show all keys in all directories."
   ]
  },
  {
   "cell_type": "code",
   "execution_count": 7,
   "metadata": {},
   "outputs": [
    {
     "data": {
      "text/plain": [
       "[b'events;1', b'events/tree;2', b'events/tree;1']"
      ]
     },
     "execution_count": 7,
     "metadata": {},
     "output_type": "execute_result"
    }
   ],
   "source": [
    "file.allkeys()"
   ]
  },
  {
   "cell_type": "code",
   "execution_count": 8,
   "metadata": {},
   "outputs": [
    {
     "data": {
      "text/plain": [
       "<TTree b'tree' at 0x7ff964ade2d0>"
      ]
     },
     "execution_count": 8,
     "metadata": {},
     "output_type": "execute_result"
    }
   ],
   "source": [
    "file[\"events/tree\"]"
   ]
  },
  {
   "cell_type": "markdown",
   "metadata": {},
   "source": [
    "## Exploring a TTree"
   ]
  },
  {
   "cell_type": "markdown",
   "metadata": {},
   "source": [
    "A TTree can also be thought of as a dict of dicts, this time to navigate through branches."
   ]
  },
  {
   "cell_type": "code",
   "execution_count": 9,
   "metadata": {},
   "outputs": [
    {
     "data": {
      "text/plain": [
       "[b'evt_id',\n",
       " b'evt_true_q2',\n",
       " b'evt_true_x',\n",
       " b'evt_true_y',\n",
       " b'evt_true_w2',\n",
       " b'evt_true_nu',\n",
       " b'evt_has_dis_info',\n",
       " b'evt_prt_count',\n",
       " b'evt_weight',\n",
       " b'id',\n",
       " b'pdg',\n",
       " b'trk_id',\n",
       " b'charge',\n",
       " b'dir_x',\n",
       " b'dir_y',\n",
       " b'dir_z',\n",
       " b'p',\n",
       " b'px',\n",
       " b'py',\n",
       " b'pz',\n",
       " b'tot_e',\n",
       " b'm',\n",
       " b'time',\n",
       " b'is_beam',\n",
       " b'is_stable',\n",
       " b'gen_code',\n",
       " b'mother_id',\n",
       " b'mother_second_id',\n",
       " b'has_pol_info',\n",
       " b'pol_x',\n",
       " b'pol_y',\n",
       " b'pol_z',\n",
       " b'has_vtx_info',\n",
       " b'vtx_id',\n",
       " b'vtx_x',\n",
       " b'vtx_y',\n",
       " b'vtx_z',\n",
       " b'vtx_t',\n",
       " b'has_smear_info',\n",
       " b'smear_has_e',\n",
       " b'smear_has_p',\n",
       " b'smear_has_pid',\n",
       " b'smear_has_vtx',\n",
       " b'smear_has_any_eppid',\n",
       " b'smear_orig_tot_e',\n",
       " b'smear_orig_p',\n",
       " b'smear_orig_px',\n",
       " b'smear_orig_py',\n",
       " b'smear_orig_pz',\n",
       " b'smear_orig_vtx_x',\n",
       " b'smear_orig_vtx_y',\n",
       " b'smear_orig_vtx_z']"
      ]
     },
     "execution_count": 9,
     "metadata": {},
     "output_type": "execute_result"
    }
   ],
   "source": [
    "tree = file[\"events/tree\"]\n",
    "tree.keys()"
   ]
  },
  {
   "cell_type": "markdown",
   "metadata": {},
   "source": [
    "Often, the first thing I do when I look at a TTree is `show` to see how each branch is going to be interpreted."
   ]
  },
  {
   "cell_type": "code",
   "execution_count": 14,
   "metadata": {},
   "outputs": [
    {
     "name": "stdout",
     "output_type": "stream",
     "text": [
      "branch name              streamer (for complex data)  interpretation in Python\n",
      "==============================================================================\n",
      "evt_id                     (no streamer)              asdtype('>u8')\n",
      "evt_true_q2                (no streamer)              asdtype('>f8')\n",
      "evt_true_x                 (no streamer)              asdtype('>f8')\n",
      "evt_true_y                 (no streamer)              asdtype('>f8')\n",
      "evt_true_w2                (no streamer)              asdtype('>f8')\n",
      "evt_true_nu                (no streamer)              asdtype('>f8')\n",
      "evt_has_dis_info           (no streamer)              asdtype('int8')\n",
      "evt_prt_count              (no streamer)              asdtype('>u8')\n",
      "evt_weight                 (no streamer)              asdtype('>f8')\n",
      "id                         (no streamer)              asjagged(asdtype('>u8'))\n",
      "pdg                        (no streamer)              asjagged(asdtype('>i8'))\n",
      "trk_id                     (no streamer)              asjagged(asdtype('>f8'))\n",
      "charge                     (no streamer)              asjagged(asdtype('>f8'))\n",
      "dir_x                      (no streamer)              asjagged(asdtype('>f8'))\n",
      "dir_y                      (no streamer)              asjagged(asdtype('>f8'))\n",
      "dir_z                      (no streamer)              asjagged(asdtype('>f8'))\n",
      "p                          (no streamer)              asjagged(asdtype('>f8'))\n",
      "px                         (no streamer)              asjagged(asdtype('>f8'))\n",
      "py                         (no streamer)              asjagged(asdtype('>f8'))\n",
      "pz                         (no streamer)              asjagged(asdtype('>f8'))\n",
      "tot_e                      (no streamer)              asjagged(asdtype('>f8'))\n",
      "m                          (no streamer)              asjagged(asdtype('>f8'))\n",
      "time                       (no streamer)              asjagged(asdtype('>f8'))\n",
      "is_beam                    (no streamer)              asjagged(asdtype('bool'))\n",
      "is_stable                  (no streamer)              asjagged(asdtype('bool'))\n",
      "gen_code                   (no streamer)              asjagged(asdtype('bool'))\n",
      "mother_id                  (no streamer)              asjagged(asdtype('>u8'))\n",
      "mother_second_id           (no streamer)              asjagged(asdtype('>u8'))\n",
      "has_pol_info               (no streamer)              asjagged(asdtype('>f8'))\n",
      "pol_x                      (no streamer)              asjagged(asdtype('>f8'))\n",
      "pol_y                      (no streamer)              asjagged(asdtype('>f8'))\n",
      "pol_z                      (no streamer)              asjagged(asdtype('>f8'))\n",
      "has_vtx_info               (no streamer)              asjagged(asdtype('bool'))\n",
      "vtx_id                     (no streamer)              asjagged(asdtype('>u8'))\n",
      "vtx_x                      (no streamer)              asjagged(asdtype('>f8'))\n",
      "vtx_y                      (no streamer)              asjagged(asdtype('>f8'))\n",
      "vtx_z                      (no streamer)              asjagged(asdtype('>f8'))\n",
      "vtx_t                      (no streamer)              asjagged(asdtype('>f8'))\n",
      "has_smear_info             (no streamer)              asjagged(asdtype('bool'))\n",
      "smear_has_e                (no streamer)              asjagged(asdtype('bool'))\n",
      "smear_has_p                (no streamer)              asjagged(asdtype('bool'))\n",
      "smear_has_pid              (no streamer)              asjagged(asdtype('bool'))\n",
      "smear_has_vtx              (no streamer)              asjagged(asdtype('bool'))\n",
      "smear_has_any_eppid        (no streamer)              asjagged(asdtype('bool'))\n",
      "smear_orig_tot_e           (no streamer)              asjagged(asdtype('>f8'))\n",
      "smear_orig_p               (no streamer)              asjagged(asdtype('>f8'))\n",
      "smear_orig_px              (no streamer)              asjagged(asdtype('>f8'))\n",
      "smear_orig_py              (no streamer)              asjagged(asdtype('>f8'))\n",
      "smear_orig_pz              (no streamer)              asjagged(asdtype('>f8'))\n",
      "smear_orig_vtx_x           (no streamer)              asjagged(asdtype('>f8'))\n",
      "smear_orig_vtx_y           (no streamer)              asjagged(asdtype('>f8'))\n",
      "smear_orig_vtx_z           (no streamer)              asjagged(asdtype('>f8'))\n"
     ]
    }
   ],
   "source": [
    "print(\"branch name              streamer (for complex data)  interpretation in Python\")\n",
    "print(\"==============================================================================\")\n",
    "\n",
    "tree.show()"
   ]
  },
  {
   "cell_type": "markdown",
   "metadata": {},
   "source": [
    "Most of the information you'd expect to find in a TTree is there. See [uproot.readthedocs.io](https://uproot.readthedocs.io/en/latest/ttree-handling.html) for a complete list."
   ]
  },
  {
   "cell_type": "code",
   "execution_count": 20,
   "metadata": {},
   "outputs": [
    {
     "data": {
      "text/plain": [
       "10000"
      ]
     },
     "execution_count": 20,
     "metadata": {},
     "output_type": "execute_result"
    }
   ],
   "source": [
    "tree.numentries"
   ]
  },
  {
   "cell_type": "code",
   "execution_count": 27,
   "metadata": {},
   "outputs": [
    {
     "data": {
      "text/plain": [
       "(15417, 80000, 5.189076992929882)"
      ]
     },
     "execution_count": 27,
     "metadata": {},
     "output_type": "execute_result"
    }
   ],
   "source": [
    "tree[\"evt_id\"].compressedbytes(), tree[\"evt_id\"].uncompressedbytes(), tree[\"evt_id\"].compressionratio()"
   ]
  },
  {
   "cell_type": "code",
   "execution_count": 25,
   "metadata": {},
   "outputs": [
    {
     "data": {
      "text/plain": [
       "3"
      ]
     },
     "execution_count": 25,
     "metadata": {},
     "output_type": "execute_result"
    }
   ],
   "source": [
    "tree[\"evt_id\"].numbaskets"
   ]
  },
  {
   "cell_type": "code",
   "execution_count": 26,
   "metadata": {},
   "outputs": [
    {
     "data": {
      "text/plain": [
       "[0, 3990, 5883]"
      ]
     },
     "execution_count": 26,
     "metadata": {},
     "output_type": "execute_result"
    }
   ],
   "source": [
    "[tree[\"evt_id\"].basket_entrystart(i) for i in range(3)]"
   ]
  },
  {
   "cell_type": "markdown",
   "metadata": {},
   "source": [
    "## Turning ROOT branches into NumPy arrays"
   ]
  },
  {
   "cell_type": "markdown",
   "metadata": {},
   "source": [
    "There are several methods for this; they differ only in convenience."
   ]
  },
  {
   "cell_type": "code",
   "execution_count": 30,
   "metadata": {},
   "outputs": [
    {
     "data": {
      "text/plain": [
       "array([   0,    1,    2, ..., 9997, 9998, 9999], dtype=uint64)"
      ]
     },
     "execution_count": 30,
     "metadata": {},
     "output_type": "execute_result"
    }
   ],
   "source": [
    "# TBranch → array\n",
    "tree[\"evt_id\"].array()"
   ]
  },
  {
   "cell_type": "code",
   "execution_count": 31,
   "metadata": {},
   "outputs": [
    {
     "data": {
      "text/plain": [
       "array([   0,    1,    2, ..., 9997, 9998, 9999], dtype=uint64)"
      ]
     },
     "execution_count": 31,
     "metadata": {},
     "output_type": "execute_result"
    }
   ],
   "source": [
    "# TTree + branch name → array\n",
    "tree.array(\"evt_id\")"
   ]
  },
  {
   "cell_type": "code",
   "execution_count": 33,
   "metadata": {},
   "outputs": [
    {
     "data": {
      "text/plain": [
       "{b'evt_id': array([   0,    1,    2, ..., 9997, 9998, 9999], dtype=uint64),\n",
       " b'evt_prt_count': array([51, 26, 27, ..., 42, 25, 11], dtype=uint64)}"
      ]
     },
     "execution_count": 33,
     "metadata": {},
     "output_type": "execute_result"
    }
   ],
   "source": [
    "# TTree + branch names → arrays\n",
    "tree.arrays([\"evt_id\", \"evt_prt_count\"])"
   ]
  },
  {
   "cell_type": "code",
   "execution_count": 34,
   "metadata": {},
   "outputs": [
    {
     "data": {
      "text/plain": [
       "{b'evt_id': array([   0,    1,    2, ..., 9997, 9998, 9999], dtype=uint64),\n",
       " b'evt_true_q2': array([0., 0., 0., ..., 0., 0., 0.]),\n",
       " b'evt_true_x': array([0., 0., 0., ..., 0., 0., 0.]),\n",
       " b'evt_true_y': array([0., 0., 0., ..., 0., 0., 0.]),\n",
       " b'evt_true_w2': array([0., 0., 0., ..., 0., 0., 0.]),\n",
       " b'evt_true_nu': array([0., 0., 0., ..., 0., 0., 0.]),\n",
       " b'evt_has_dis_info': array([0, 0, 0, ..., 0, 0, 0], dtype=int8),\n",
       " b'evt_prt_count': array([51, 26, 27, ..., 42, 25, 11], dtype=uint64),\n",
       " b'evt_weight': array([0., 0., 0., ..., 0., 0., 0.])}"
      ]
     },
     "execution_count": 34,
     "metadata": {},
     "output_type": "execute_result"
    }
   ],
   "source": [
    "# TTree + branch name pattern(s) → arrays\n",
    "tree.arrays(\"evt_*\")"
   ]
  },
  {
   "cell_type": "code",
   "execution_count": 41,
   "metadata": {},
   "outputs": [
    {
     "data": {
      "text/plain": [
       "{b'evt_id': array([   0,    1,    2, ..., 9997, 9998, 9999], dtype=uint64),\n",
       " b'evt_true_q2': array([0., 0., 0., ..., 0., 0., 0.]),\n",
       " b'evt_true_x': array([0., 0., 0., ..., 0., 0., 0.]),\n",
       " b'evt_true_y': array([0., 0., 0., ..., 0., 0., 0.]),\n",
       " b'evt_true_w2': array([0., 0., 0., ..., 0., 0., 0.]),\n",
       " b'evt_true_nu': array([0., 0., 0., ..., 0., 0., 0.]),\n",
       " b'evt_has_dis_info': array([0, 0, 0, ..., 0, 0, 0], dtype=int8),\n",
       " b'evt_prt_count': array([51, 26, 27, ..., 42, 25, 11], dtype=uint64),\n",
       " b'evt_weight': array([0., 0., 0., ..., 0., 0., 0.])}"
      ]
     },
     "execution_count": 41,
     "metadata": {},
     "output_type": "execute_result"
    }
   ],
   "source": [
    "# TTree + branch name regex(s) → arrays\n",
    "tree.arrays(\"/evt_[A-Z_0-9]*/i\")"
   ]
  },
  {
   "cell_type": "markdown",
   "metadata": {},
   "source": [
    "**Convenience #1:** turn the bytestrings into real strings (will soon be unnecessary)."
   ]
  },
  {
   "cell_type": "code",
   "execution_count": 42,
   "metadata": {},
   "outputs": [
    {
     "data": {
      "text/plain": [
       "{'evt_id': array([   0,    1,    2, ..., 9997, 9998, 9999], dtype=uint64),\n",
       " 'evt_true_q2': array([0., 0., 0., ..., 0., 0., 0.]),\n",
       " 'evt_true_x': array([0., 0., 0., ..., 0., 0., 0.]),\n",
       " 'evt_true_y': array([0., 0., 0., ..., 0., 0., 0.]),\n",
       " 'evt_true_w2': array([0., 0., 0., ..., 0., 0., 0.]),\n",
       " 'evt_true_nu': array([0., 0., 0., ..., 0., 0., 0.]),\n",
       " 'evt_has_dis_info': array([0, 0, 0, ..., 0, 0, 0], dtype=int8),\n",
       " 'evt_prt_count': array([51, 26, 27, ..., 42, 25, 11], dtype=uint64),\n",
       " 'evt_weight': array([0., 0., 0., ..., 0., 0., 0.])}"
      ]
     },
     "execution_count": 42,
     "metadata": {},
     "output_type": "execute_result"
    }
   ],
   "source": [
    "tree.arrays(\"evt_*\", namedecode=\"utf-8\")"
   ]
  },
  {
   "cell_type": "markdown",
   "metadata": {},
   "source": [
    "**Convenience #2:** output a tuple instead of a dict."
   ]
  },
  {
   "cell_type": "code",
   "execution_count": 44,
   "metadata": {},
   "outputs": [
    {
     "data": {
      "text/plain": [
       "(array([   0,    1,    2, ..., 9997, 9998, 9999], dtype=uint64),\n",
       " array([51, 26, 27, ..., 42, 25, 11], dtype=uint64))"
      ]
     },
     "execution_count": 44,
     "metadata": {},
     "output_type": "execute_result"
    }
   ],
   "source": [
    "tree.arrays([\"evt_id\", \"evt_prt_count\"], outputtype=tuple)"
   ]
  },
  {
   "cell_type": "markdown",
   "metadata": {},
   "source": [
    "... to use it in assignment:"
   ]
  },
  {
   "cell_type": "code",
   "execution_count": 45,
   "metadata": {},
   "outputs": [],
   "source": [
    "evt_id, evt_prt_count = tree.arrays([\"evt_id\", \"evt_prt_count\"], outputtype=tuple)"
   ]
  },
  {
   "cell_type": "code",
   "execution_count": 46,
   "metadata": {},
   "outputs": [
    {
     "data": {
      "text/plain": [
       "array([   0,    1,    2, ..., 9997, 9998, 9999], dtype=uint64)"
      ]
     },
     "execution_count": 46,
     "metadata": {},
     "output_type": "execute_result"
    }
   ],
   "source": [
    "evt_id"
   ]
  },
  {
   "cell_type": "markdown",
   "metadata": {},
   "source": [
    "## Memory management; caching and iteration"
   ]
  },
  {
   "cell_type": "markdown",
   "metadata": {},
   "source": [
    "The `array` methods read an entire branch into memory. Sometimes, you might not have enough memory to do that.\n",
    "\n",
    "The simplest solution is to set `entrystart` (inclusive) and `entrystop` (exclusive) to only read a batch at a time."
   ]
  },
  {
   "cell_type": "code",
   "execution_count": 47,
   "metadata": {},
   "outputs": [
    {
     "data": {
      "text/plain": [
       "array([500, 501, 502, 503, 504, 505, 506, 507, 508, 509, 510, 511, 512,\n",
       "       513, 514, 515, 516, 517, 518, 519, 520, 521, 522, 523, 524, 525,\n",
       "       526, 527, 528, 529, 530, 531, 532, 533, 534, 535, 536, 537, 538,\n",
       "       539, 540, 541, 542, 543, 544, 545, 546, 547, 548, 549, 550, 551,\n",
       "       552, 553, 554, 555, 556, 557, 558, 559, 560, 561, 562, 563, 564,\n",
       "       565, 566, 567, 568, 569, 570, 571, 572, 573, 574, 575, 576, 577,\n",
       "       578, 579, 580, 581, 582, 583, 584, 585, 586, 587, 588, 589, 590,\n",
       "       591, 592, 593, 594, 595, 596, 597, 598, 599], dtype=uint64)"
      ]
     },
     "execution_count": 47,
     "metadata": {},
     "output_type": "execute_result"
    }
   ],
   "source": [
    "tree.array(\"evt_id\", entrystart=500, entrystop=600)"
   ]
  },
  {
   "cell_type": "markdown",
   "metadata": {},
   "source": [
    "Uproot is not agressive about caching: if you call `arrays` many times (for many small batches), it will read from the file every time.\n",
    "\n",
    "You can avoid frequent re-reading by assigning arrays to variables, but then you'd have to manage many variables.\n",
    "\n",
    "Instead, use caching:"
   ]
  },
  {
   "cell_type": "code",
   "execution_count": 49,
   "metadata": {},
   "outputs": [
    {
     "data": {
      "text/plain": [
       "array([   0,    1,    2, ..., 9997, 9998, 9999], dtype=uint64)"
      ]
     },
     "execution_count": 49,
     "metadata": {},
     "output_type": "execute_result"
    }
   ],
   "source": [
    "# Make a cache with an acceptable limit.\n",
    "gigabyte_cache = uproot.ArrayCache(\"1 GB\")\n",
    "\n",
    "# Read the array from disk:\n",
    "tree.array(\"evt_id\", cache=gigabyte_cache)\n",
    "\n",
    "# Get the array from the cache:\n",
    "tree.array(\"evt_id\", cache=gigabyte_cache)"
   ]
  },
  {
   "cell_type": "markdown",
   "metadata": {},
   "source": [
    "The advantage is that the same code can be used for first time and subsequent times. You can put this in a loop.\n",
    "\n",
    "Naturally, fetching from the cache is much faster than reading from disk (though our file isn't very big!)."
   ]
  },
  {
   "cell_type": "code",
   "execution_count": 55,
   "metadata": {},
   "outputs": [
    {
     "name": "stdout",
     "output_type": "stream",
     "text": [
      "564 ms ± 10.7 ms per loop (mean ± std. dev. of 7 runs, 1 loop each)\n"
     ]
    }
   ],
   "source": [
    "%%timeit\n",
    "\n",
    "tree.arrays(\"*\")"
   ]
  },
  {
   "cell_type": "code",
   "execution_count": 56,
   "metadata": {},
   "outputs": [
    {
     "name": "stdout",
     "output_type": "stream",
     "text": [
      "2.07 ms ± 36.5 µs per loop (mean ± std. dev. of 7 runs, 1 loop each)\n"
     ]
    }
   ],
   "source": [
    "%%timeit\n",
    "\n",
    "tree.arrays(\"*\", cache=gigabyte_cache)"
   ]
  },
  {
   "cell_type": "markdown",
   "metadata": {},
   "source": [
    "The value of an explicit cache is that you get to control it."
   ]
  },
  {
   "cell_type": "code",
   "execution_count": 58,
   "metadata": {},
   "outputs": [
    {
     "data": {
      "text/plain": [
       "52"
      ]
     },
     "execution_count": 58,
     "metadata": {},
     "output_type": "execute_result"
    }
   ],
   "source": [
    "len(gigabyte_cache)"
   ]
  },
  {
   "cell_type": "code",
   "execution_count": 59,
   "metadata": {},
   "outputs": [],
   "source": [
    "gigabyte_cache.clear()"
   ]
  },
  {
   "cell_type": "code",
   "execution_count": 60,
   "metadata": {},
   "outputs": [
    {
     "data": {
      "text/plain": [
       "0"
      ]
     },
     "execution_count": 60,
     "metadata": {},
     "output_type": "execute_result"
    }
   ],
   "source": [
    "len(gigabyte_cache)"
   ]
  },
  {
   "cell_type": "markdown",
   "metadata": {},
   "source": [
    "Setting `entrystart` and `entrystop` can get annoying; we probably want to do it in a loop.\n",
    "\n",
    "There's a method, `iterate`, for that."
   ]
  },
  {
   "cell_type": "code",
   "execution_count": 61,
   "metadata": {},
   "outputs": [
    {
     "name": "stdout",
     "output_type": "stream",
     "text": [
      "{b'evt_id': 1000, b'evt_true_q2': 1000, b'evt_true_x': 1000, b'evt_true_y': 1000, b'evt_true_w2': 1000, b'evt_true_nu': 1000, b'evt_has_dis_info': 1000, b'evt_prt_count': 1000, b'evt_weight': 1000}\n",
      "{b'evt_id': 1000, b'evt_true_q2': 1000, b'evt_true_x': 1000, b'evt_true_y': 1000, b'evt_true_w2': 1000, b'evt_true_nu': 1000, b'evt_has_dis_info': 1000, b'evt_prt_count': 1000, b'evt_weight': 1000}\n",
      "{b'evt_id': 1000, b'evt_true_q2': 1000, b'evt_true_x': 1000, b'evt_true_y': 1000, b'evt_true_w2': 1000, b'evt_true_nu': 1000, b'evt_has_dis_info': 1000, b'evt_prt_count': 1000, b'evt_weight': 1000}\n",
      "{b'evt_id': 1000, b'evt_true_q2': 1000, b'evt_true_x': 1000, b'evt_true_y': 1000, b'evt_true_w2': 1000, b'evt_true_nu': 1000, b'evt_has_dis_info': 1000, b'evt_prt_count': 1000, b'evt_weight': 1000}\n",
      "{b'evt_id': 1000, b'evt_true_q2': 1000, b'evt_true_x': 1000, b'evt_true_y': 1000, b'evt_true_w2': 1000, b'evt_true_nu': 1000, b'evt_has_dis_info': 1000, b'evt_prt_count': 1000, b'evt_weight': 1000}\n",
      "{b'evt_id': 1000, b'evt_true_q2': 1000, b'evt_true_x': 1000, b'evt_true_y': 1000, b'evt_true_w2': 1000, b'evt_true_nu': 1000, b'evt_has_dis_info': 1000, b'evt_prt_count': 1000, b'evt_weight': 1000}\n",
      "{b'evt_id': 1000, b'evt_true_q2': 1000, b'evt_true_x': 1000, b'evt_true_y': 1000, b'evt_true_w2': 1000, b'evt_true_nu': 1000, b'evt_has_dis_info': 1000, b'evt_prt_count': 1000, b'evt_weight': 1000}\n",
      "{b'evt_id': 1000, b'evt_true_q2': 1000, b'evt_true_x': 1000, b'evt_true_y': 1000, b'evt_true_w2': 1000, b'evt_true_nu': 1000, b'evt_has_dis_info': 1000, b'evt_prt_count': 1000, b'evt_weight': 1000}\n",
      "{b'evt_id': 1000, b'evt_true_q2': 1000, b'evt_true_x': 1000, b'evt_true_y': 1000, b'evt_true_w2': 1000, b'evt_true_nu': 1000, b'evt_has_dis_info': 1000, b'evt_prt_count': 1000, b'evt_weight': 1000}\n",
      "{b'evt_id': 1000, b'evt_true_q2': 1000, b'evt_true_x': 1000, b'evt_true_y': 1000, b'evt_true_w2': 1000, b'evt_true_nu': 1000, b'evt_has_dis_info': 1000, b'evt_prt_count': 1000, b'evt_weight': 1000}\n"
     ]
    }
   ],
   "source": [
    "for arrays in tree.iterate(\"evt_*\", entrysteps=1000):\n",
    "    print({name: len(array) for name, array in arrays.items()})"
   ]
  },
  {
   "cell_type": "code",
   "execution_count": 63,
   "metadata": {},
   "outputs": [
    {
     "name": "stdout",
     "output_type": "stream",
     "text": [
      "{b'evt_id': 1576, b'evt_true_q2': 1576, b'evt_true_x': 1576, b'evt_true_y': 1576, b'evt_true_w2': 1576, b'evt_true_nu': 1576, b'evt_has_dis_info': 1576, b'evt_prt_count': 1576, b'evt_weight': 1576}\n",
      "{b'evt_id': 1576, b'evt_true_q2': 1576, b'evt_true_x': 1576, b'evt_true_y': 1576, b'evt_true_w2': 1576, b'evt_true_nu': 1576, b'evt_has_dis_info': 1576, b'evt_prt_count': 1576, b'evt_weight': 1576}\n",
      "{b'evt_id': 1576, b'evt_true_q2': 1576, b'evt_true_x': 1576, b'evt_true_y': 1576, b'evt_true_w2': 1576, b'evt_true_nu': 1576, b'evt_has_dis_info': 1576, b'evt_prt_count': 1576, b'evt_weight': 1576}\n",
      "{b'evt_id': 1576, b'evt_true_q2': 1576, b'evt_true_x': 1576, b'evt_true_y': 1576, b'evt_true_w2': 1576, b'evt_true_nu': 1576, b'evt_has_dis_info': 1576, b'evt_prt_count': 1576, b'evt_weight': 1576}\n",
      "{b'evt_id': 1576, b'evt_true_q2': 1576, b'evt_true_x': 1576, b'evt_true_y': 1576, b'evt_true_w2': 1576, b'evt_true_nu': 1576, b'evt_has_dis_info': 1576, b'evt_prt_count': 1576, b'evt_weight': 1576}\n",
      "{b'evt_id': 1576, b'evt_true_q2': 1576, b'evt_true_x': 1576, b'evt_true_y': 1576, b'evt_true_w2': 1576, b'evt_true_nu': 1576, b'evt_has_dis_info': 1576, b'evt_prt_count': 1576, b'evt_weight': 1576}\n",
      "{b'evt_id': 544, b'evt_true_q2': 544, b'evt_true_x': 544, b'evt_true_y': 544, b'evt_true_w2': 544, b'evt_true_nu': 544, b'evt_has_dis_info': 544, b'evt_prt_count': 544, b'evt_weight': 544}\n"
     ]
    }
   ],
   "source": [
    "for arrays in tree.iterate(\"evt_*\", entrysteps=\"100 kB\"):\n",
    "    print({name: len(array) for name, array in arrays.items()})"
   ]
  },
  {
   "cell_type": "code",
   "execution_count": 64,
   "metadata": {},
   "outputs": [
    {
     "name": "stdout",
     "output_type": "stream",
     "text": [
      "{b'evt_id': 10000}\n"
     ]
    }
   ],
   "source": [
    "for arrays in tree.iterate(\"evt_id\", entrysteps=\"100 kB\"):\n",
    "    print({name: len(array) for name, array in arrays.items()})"
   ]
  },
  {
   "cell_type": "markdown",
   "metadata": {},
   "source": [
    "This `TTree.iterate` method is similar in form to the `uproot.iterate` function, which iterates in batches over a collection of files."
   ]
  },
  {
   "cell_type": "code",
   "execution_count": 66,
   "metadata": {},
   "outputs": [
    {
     "name": "stdout",
     "output_type": "stream",
     "text": [
      "{b'evt_id': 1576, b'evt_true_q2': 1576, b'evt_true_x': 1576, b'evt_true_y': 1576, b'evt_true_w2': 1576, b'evt_true_nu': 1576, b'evt_has_dis_info': 1576, b'evt_prt_count': 1576, b'evt_weight': 1576}\n",
      "{b'evt_id': 1576, b'evt_true_q2': 1576, b'evt_true_x': 1576, b'evt_true_y': 1576, b'evt_true_w2': 1576, b'evt_true_nu': 1576, b'evt_has_dis_info': 1576, b'evt_prt_count': 1576, b'evt_weight': 1576}\n",
      "{b'evt_id': 1576, b'evt_true_q2': 1576, b'evt_true_x': 1576, b'evt_true_y': 1576, b'evt_true_w2': 1576, b'evt_true_nu': 1576, b'evt_has_dis_info': 1576, b'evt_prt_count': 1576, b'evt_weight': 1576}\n",
      "{b'evt_id': 1576, b'evt_true_q2': 1576, b'evt_true_x': 1576, b'evt_true_y': 1576, b'evt_true_w2': 1576, b'evt_true_nu': 1576, b'evt_has_dis_info': 1576, b'evt_prt_count': 1576, b'evt_weight': 1576}\n",
      "{b'evt_id': 1576, b'evt_true_q2': 1576, b'evt_true_x': 1576, b'evt_true_y': 1576, b'evt_true_w2': 1576, b'evt_true_nu': 1576, b'evt_has_dis_info': 1576, b'evt_prt_count': 1576, b'evt_weight': 1576}\n",
      "{b'evt_id': 1576, b'evt_true_q2': 1576, b'evt_true_x': 1576, b'evt_true_y': 1576, b'evt_true_w2': 1576, b'evt_true_nu': 1576, b'evt_has_dis_info': 1576, b'evt_prt_count': 1576, b'evt_weight': 1576}\n",
      "{b'evt_id': 544, b'evt_true_q2': 544, b'evt_true_x': 544, b'evt_true_y': 544, b'evt_true_w2': 544, b'evt_true_nu': 544, b'evt_has_dis_info': 544, b'evt_prt_count': 544, b'evt_weight': 544}\n",
      "{b'evt_id': 1576, b'evt_true_q2': 1576, b'evt_true_x': 1576, b'evt_true_y': 1576, b'evt_true_w2': 1576, b'evt_true_nu': 1576, b'evt_has_dis_info': 1576, b'evt_prt_count': 1576, b'evt_weight': 1576}\n",
      "{b'evt_id': 1576, b'evt_true_q2': 1576, b'evt_true_x': 1576, b'evt_true_y': 1576, b'evt_true_w2': 1576, b'evt_true_nu': 1576, b'evt_has_dis_info': 1576, b'evt_prt_count': 1576, b'evt_weight': 1576}\n",
      "{b'evt_id': 1576, b'evt_true_q2': 1576, b'evt_true_x': 1576, b'evt_true_y': 1576, b'evt_true_w2': 1576, b'evt_true_nu': 1576, b'evt_has_dis_info': 1576, b'evt_prt_count': 1576, b'evt_weight': 1576}\n",
      "{b'evt_id': 1576, b'evt_true_q2': 1576, b'evt_true_x': 1576, b'evt_true_y': 1576, b'evt_true_w2': 1576, b'evt_true_nu': 1576, b'evt_has_dis_info': 1576, b'evt_prt_count': 1576, b'evt_weight': 1576}\n",
      "{b'evt_id': 1576, b'evt_true_q2': 1576, b'evt_true_x': 1576, b'evt_true_y': 1576, b'evt_true_w2': 1576, b'evt_true_nu': 1576, b'evt_has_dis_info': 1576, b'evt_prt_count': 1576, b'evt_weight': 1576}\n",
      "{b'evt_id': 1576, b'evt_true_q2': 1576, b'evt_true_x': 1576, b'evt_true_y': 1576, b'evt_true_w2': 1576, b'evt_true_nu': 1576, b'evt_has_dis_info': 1576, b'evt_prt_count': 1576, b'evt_weight': 1576}\n",
      "{b'evt_id': 544, b'evt_true_q2': 544, b'evt_true_x': 544, b'evt_true_y': 544, b'evt_true_w2': 544, b'evt_true_nu': 544, b'evt_has_dis_info': 544, b'evt_prt_count': 544, b'evt_weight': 544}\n",
      "{b'evt_id': 1576, b'evt_true_q2': 1576, b'evt_true_x': 1576, b'evt_true_y': 1576, b'evt_true_w2': 1576, b'evt_true_nu': 1576, b'evt_has_dis_info': 1576, b'evt_prt_count': 1576, b'evt_weight': 1576}\n",
      "{b'evt_id': 1576, b'evt_true_q2': 1576, b'evt_true_x': 1576, b'evt_true_y': 1576, b'evt_true_w2': 1576, b'evt_true_nu': 1576, b'evt_has_dis_info': 1576, b'evt_prt_count': 1576, b'evt_weight': 1576}\n",
      "{b'evt_id': 1576, b'evt_true_q2': 1576, b'evt_true_x': 1576, b'evt_true_y': 1576, b'evt_true_w2': 1576, b'evt_true_nu': 1576, b'evt_has_dis_info': 1576, b'evt_prt_count': 1576, b'evt_weight': 1576}\n",
      "{b'evt_id': 1576, b'evt_true_q2': 1576, b'evt_true_x': 1576, b'evt_true_y': 1576, b'evt_true_w2': 1576, b'evt_true_nu': 1576, b'evt_has_dis_info': 1576, b'evt_prt_count': 1576, b'evt_weight': 1576}\n",
      "{b'evt_id': 1576, b'evt_true_q2': 1576, b'evt_true_x': 1576, b'evt_true_y': 1576, b'evt_true_w2': 1576, b'evt_true_nu': 1576, b'evt_has_dis_info': 1576, b'evt_prt_count': 1576, b'evt_weight': 1576}\n",
      "{b'evt_id': 1576, b'evt_true_q2': 1576, b'evt_true_x': 1576, b'evt_true_y': 1576, b'evt_true_w2': 1576, b'evt_true_nu': 1576, b'evt_has_dis_info': 1576, b'evt_prt_count': 1576, b'evt_weight': 1576}\n",
      "{b'evt_id': 544, b'evt_true_q2': 544, b'evt_true_x': 544, b'evt_true_y': 544, b'evt_true_w2': 544, b'evt_true_nu': 544, b'evt_has_dis_info': 544, b'evt_prt_count': 544, b'evt_weight': 544}\n"
     ]
    }
   ],
   "source": [
    "for arrays in uproot.iterate([\"open_charm_18x275_10k.root\",\n",
    "                              \"open_charm_18x275_10k.root\",\n",
    "                              \"open_charm_18x275_10k.root\"], \"events/tree\", \"evt_*\", entrysteps=\"100 kB\"):\n",
    "    print({name: len(array) for name, array in arrays.items()})"
   ]
  },
  {
   "cell_type": "markdown",
   "metadata": {},
   "source": [
    "## Jagged arrays (segue)"
   ]
  },
  {
   "cell_type": "markdown",
   "metadata": {},
   "source": [
    "Most of the branches in this file have an \"asjagged\" interpretation."
   ]
  },
  {
   "cell_type": "code",
   "execution_count": 67,
   "metadata": {},
   "outputs": [
    {
     "data": {
      "text/plain": [
       "asjagged(asdtype('>i8'))"
      ]
     },
     "execution_count": 67,
     "metadata": {},
     "output_type": "execute_result"
    }
   ],
   "source": [
    "tree[\"pdg\"].interpretation"
   ]
  },
  {
   "cell_type": "markdown",
   "metadata": {},
   "source": [
    "This means that they have multiple values per entry."
   ]
  },
  {
   "cell_type": "code",
   "execution_count": 68,
   "metadata": {},
   "outputs": [
    {
     "data": {
      "text/plain": [
       "<JaggedArray [[11 211 -211 ... 22 22 22] [11 211 -211 ... -211 22 22] [11 2112 2212 ... 22 22 -211] ... [11 -211 321 ... 22 22 22] [11 2112 -211 ... 22 22 130] [11 -211 -321 ... 130 22 22]] at 0x7ff964e568d0>"
      ]
     },
     "execution_count": 68,
     "metadata": {},
     "output_type": "execute_result"
    }
   ],
   "source": [
    "tree[\"pdg\"].array()"
   ]
  },
  {
   "cell_type": "markdown",
   "metadata": {},
   "source": [
    "Jagged arrays (lists of variable-length sublists) are very common in particle physics, and surprisingly uncommon in other fields.\n",
    "\n",
    "We need them because we almost always have a variable number of particles per event."
   ]
  },
  {
   "cell_type": "code",
   "execution_count": 72,
   "metadata": {},
   "outputs": [
    {
     "name": "stdout",
     "output_type": "stream",
     "text": [
      "51 particles: e- pi+ pi- K- pi+ pi- pi- pi+ pi+ pi+ gamma gamma K(L)0 K+ pi- K(L)0 gamma gamma gamma gamma pi+ pi- pi+ gamma gamma p pi- pi+ K+ pi- pi- K+ K- gamma gamma pi+ pi- K+ pi- pi+ K(L)0 K(L)0 gamma gamma pi+ pi- pi+ gamma gamma gamma gamma\n",
      "26 particles: e- pi+ pi- n~ n gamma pi- pi+ gamma gamma pi+ gamma gamma gamma gamma gamma K(L)0 gamma gamma gamma gamma pi- pi+ pi- gamma gamma\n",
      "27 particles: e- n p pi+ pi+ pi+ pi- pi- pi- pi- pi- pi+ pi- gamma gamma gamma pi+ K+ K- pi+ gamma gamma gamma gamma gamma gamma pi-\n",
      "28 particles: e- pi+ pi- nu(mu) mu+ gamma gamma pi- pi+ n gamma gamma n pi- p~ pi+ gamma gamma pi+ pi- K- K(L)0 gamma gamma gamma gamma gamma gamma\n",
      "30 particles: e- pi+ pi- pi+ pi- n gamma gamma K- pi+ n pi- pi+ gamma n~ p~ pi+ K(L)0 gamma gamma pi- gamma gamma pi- pi+ gamma gamma K+ pi- gamma\n",
      "12 particles: e- gamma gamma gamma gamma gamma gamma gamma gamma gamma gamma gamma\n",
      "25 particles: pi- K- K+ pi- gamma gamma pi- gamma gamma pi- K(L)0 K(L)0 gamma gamma gamma gamma K- pi+ gamma gamma gamma gamma gamma gamma gamma\n",
      "4 particles: e- nu(e) e+ n\n",
      "57 particles: e- pi+ n p K- K+ pi+ pi+ pi- gamma gamma K(L)0 p~ n pi- n~ pi+ pi+ pi- gamma gamma K(L)0 K+ K- K+ K- gamma gamma pi+ gamma gamma gamma gamma gamma gamma pi- gamma gamma pi- e+ e- gamma pi+ pi- gamma gamma gamma gamma gamma gamma e+ e- gamma gamma gamma gamma gamma\n",
      "40 particles: e- n K- K+ gamma gamma K+ pi- gamma gamma gamma pi+ n~ pi- K- pi+ gamma gamma gamma gamma gamma gamma gamma gamma pi- K(L)0 pi- pi+ gamma gamma gamma gamma gamma gamma gamma gamma e+ e- gamma gamma\n",
      "16 particles: e- pi- n pi- pi+ gamma pi+ pi- K(L)0 pi+ gamma gamma K+ K- gamma gamma\n",
      "16 particles: e- K(L)0 pi- K(L)0 pi+ pi- gamma gamma nu(e)~ e- K+ K(L)0 gamma gamma gamma gamma\n",
      "79 particles: e- pi+ pi- pi+ pi- K- pi+ pi- gamma gamma gamma n pi+ gamma gamma pi+ pi- K(L)0 p pi+ p~ gamma gamma gamma pi- pi+ pi+ pi- K+ gamma gamma pi+ pi- gamma gamma K+ gamma gamma pi+ pi- gamma gamma gamma pi- gamma gamma n pi+ pi- gamma gamma gamma gamma pi+ pi- gamma gamma gamma gamma K- pi+ gamma gamma pi- gamma gamma gamma gamma gamma gamma gamma gamma p~ pi+ K(L)0 gamma gamma pi+ pi-\n",
      "34 particles: e- n pi- pi+ K+ pi+ pi+ pi+ pi- pi+ pi- pi- pi- K(L)0 pi+ pi+ pi- pi+ pi- gamma gamma K+ gamma gamma K(L)0 gamma gamma gamma gamma pi+ pi- pi- gamma gamma\n",
      "24 particles: e- K- K+ pi- pi- pi+ gamma gamma gamma gamma gamma gamma gamma pi- K- pi+ pi+ pi- gamma gamma gamma gamma gamma gamma\n",
      "32 particles: e- n pi+ pi- pi+ pi- pi+ pi- pi- gamma gamma gamma gamma gamma pi+ pi- e+ e- gamma K+ pi- K- pi+ gamma gamma gamma gamma gamma gamma gamma gamma gamma\n",
      "37 particles: e- pi- pi+ pi+ pi- n n~ pi+ p pi+ pi- K+ K- gamma gamma gamma gamma pi+ pi- gamma gamma pi- pi- pi+ gamma gamma p~ gamma e+ e- gamma gamma gamma gamma gamma gamma gamma\n",
      "63 particles: e- pi- n pi+ K- K+ pi+ pi- K(L)0 n pi- n~ pi+ n K(L)0 K(L)0 pi- gamma gamma gamma gamma K- pi- gamma gamma pi+ pi- gamma gamma gamma K(L)0 K- pi+ pi+ pi+ pi- pi+ pi- p pi- n~ pi+ gamma gamma K(L)0 pi+ gamma gamma gamma gamma gamma gamma gamma gamma gamma gamma gamma gamma K- K+ pi- gamma gamma\n",
      "37 particles: e- n p~ pi+ pi- pi+ K- pi+ gamma gamma pi+ nu(e) e+ K- gamma gamma pi- K- gamma gamma K(L)0 K+ pi- pi+ pi- pi+ pi- gamma gamma gamma gamma gamma gamma gamma gamma gamma gamma\n",
      "5 particles: e- gamma pi- gamma gamma\n",
      "26 particles: e- pi- n n~ pi+ pi+ nu(mu) mu+ n pi- gamma gamma gamma gamma gamma gamma gamma K(L)0 pi- gamma gamma gamma pi+ gamma gamma K(L)0\n",
      "39 particles: e- pi+ n pi- K+ pi- gamma pi+ pi- gamma gamma pi- pi- pi+ pi- pi+ pi+ pi- gamma gamma gamma gamma gamma K+ K- gamma gamma pi+ pi- gamma gamma gamma gamma gamma gamma gamma gamma pi+ pi-\n",
      "58 particles: e- pi+ pi- pi+ pi- p~ pi- pi+ n~ pi- gamma pi+ pi+ pi- K(L)0 K- K+ pi- n n~ pi+ pi- pi+ pi+ pi+ pi- pi+ pi- pi+ pi- gamma gamma pi- gamma K(L)0 pi+ pi- gamma gamma gamma gamma gamma gamma pi+ pi- n gamma gamma pi+ gamma gamma gamma gamma gamma gamma n gamma gamma\n",
      "27 particles: e- n pi+ pi- K- pi+ gamma gamma gamma n K- pi- pi- pi+ gamma gamma gamma gamma pi+ gamma gamma gamma gamma gamma gamma gamma gamma\n",
      "23 particles: e- pi+ pi+ p pi- pi+ gamma gamma gamma pi+ pi- K(L)0 pi+ gamma gamma p~ pi- pi+ nu(e)~ e- gamma K+ pi-\n",
      "20 particles: e- n pi+ pi- gamma gamma gamma K(L)0 pi- pi- e+ e- gamma gamma gamma gamma gamma gamma pi+ gamma\n",
      "38 particles: e- K- pi+ pi- gamma gamma K(L)0 pi+ pi- pi+ p p~ pi- pi+ pi+ gamma gamma gamma gamma gamma gamma gamma gamma gamma gamma nu(mu)~ mu- gamma gamma pi- pi+ pi- gamma gamma gamma gamma gamma gamma\n",
      "70 particles: e- n pi- K+ n~ pi+ pi- pi- K- pi+ K(L)0 pi+ pi- p p~ pi- pi+ n pi+ pi- pi- pi+ gamma gamma n~ gamma gamma pi+ gamma gamma gamma gamma K(L)0 pi- gamma gamma gamma gamma gamma gamma gamma gamma gamma gamma gamma gamma n~ pi+ gamma pi+ pi+ gamma gamma n gamma gamma gamma gamma p~ pi+ pi+ pi- K- gamma gamma gamma gamma gamma gamma gamma\n",
      "14 particles: e- pi- gamma pi+ pi- pi+ pi+ K(L)0 gamma gamma gamma gamma gamma gamma\n",
      "29 particles: e- K- pi- K+ pi+ pi+ pi- gamma gamma pi- pi+ K(L)0 gamma gamma gamma gamma K(L)0 gamma gamma gamma pi+ pi- pi+ pi- K(L)0 K(L)0 K(L)0 gamma gamma\n",
      "36 particles: e- pi- pi- pi+ K+ nu(mu) mu+ gamma gamma pi+ pi+ pi- K+ K- K+ K- K(L)0 pi- K- pi+ pi- gamma gamma pi- pi+ pi- pi+ pi- K+ pi- pi+ pi- gamma gamma pi+ pi-\n",
      "38 particles: e- pi+ pi+ pi- nu(e) e+ gamma gamma gamma gamma gamma pi- gamma gamma gamma gamma n~ gamma gamma gamma gamma gamma gamma gamma gamma gamma gamma pi- K+ pi- gamma gamma gamma gamma gamma pi+ pi- K(L)0\n",
      "20 particles: e- pi+ pi- pi- K- K+ pi+ pi+ pi+ pi- gamma gamma gamma gamma gamma pi+ pi- pi+ pi- gamma\n",
      "9 particles: e- pi+ pi+ pi- gamma gamma gamma K- pi+\n",
      "20 particles: e- pi- pi- pi+ pi+ pi- K- gamma gamma K(L)0 pi+ pi- gamma gamma gamma gamma gamma gamma pi+ gamma\n",
      "10 particles: e- pi+ pi- gamma pi- pi+ pi- K(L)0 gamma gamma\n",
      "52 particles: e- pi- pi- pi+ pi- pi+ K+ gamma pi+ pi- gamma gamma gamma pi+ gamma gamma pi+ K- pi+ n pi+ p~ pi- K- K(L)0 pi+ pi+ pi- pi- gamma K(L)0 gamma gamma pi- gamma gamma pi- gamma gamma p~ pi+ gamma gamma gamma gamma p pi- pi+ pi- K(L)0 gamma gamma\n",
      "69 particles: e- p p~ K+ K- pi+ p pi+ K+ pi- n pi+ K- pi+ gamma K- pi- K(L)0 pi+ gamma gamma pi- gamma gamma gamma gamma gamma pi- gamma pi+ pi+ pi- gamma gamma pi+ pi- p pi- pi+ K- p~ pi+ pi- pi+ pi- gamma gamma gamma gamma gamma gamma gamma n~ gamma gamma gamma gamma pi+ pi- gamma gamma gamma gamma pi+ pi- gamma gamma gamma gamma\n",
      "27 particles: e- n pi+ n n~ pi+ pi+ pi- pi+ pi+ gamma gamma K- pi+ gamma gamma nu(e)~ e- K+ gamma gamma pi- gamma gamma gamma gamma gamma\n",
      "31 particles: e- pi- pi- pi- pi- pi+ pi+ gamma gamma pi+ pi+ gamma gamma pi+ pi+ pi+ pi- K+ pi- gamma gamma gamma gamma gamma gamma gamma gamma gamma gamma gamma gamma\n",
      "48 particles: e- pi- K- K+ pi+ n K+ pi- pi+ pi+ pi- pi+ K(L)0 n gamma gamma K+ pi- K- gamma gamma pi+ pi- K(L)0 gamma K(L)0 gamma gamma pi+ pi- gamma gamma pi+ pi- pi- gamma gamma gamma gamma gamma gamma gamma gamma pi+ gamma gamma gamma gamma\n",
      "28 particles: e- n pi- gamma pi- pi+ pi- pi+ pi+ pi- gamma pi+ gamma gamma K(L)0 K+ gamma gamma gamma gamma gamma gamma gamma gamma gamma pi- pi+ pi-\n",
      "37 particles: e- n~ pi- pi- n K+ gamma gamma pi- gamma gamma p pi+ pi+ gamma n n~ n~ pi+ pi+ pi- gamma gamma pi- gamma nu(e) e+ gamma gamma pi- K+ K- p pi- gamma gamma gamma\n",
      "35 particles: e- K+ K- p~ gamma gamma pi+ p pi+ pi- pi+ pi- pi+ pi- pi- pi- nu(mu) mu+ pi+ gamma gamma gamma gamma gamma gamma gamma gamma gamma gamma K(L)0 K(L)0 K+ pi- gamma gamma\n",
      "63 particles: e- pi- pi+ gamma K(L)0 K(L)0 K+ K- K(L)0 pi- gamma gamma p n~ K- pi+ gamma gamma gamma gamma gamma gamma gamma gamma gamma pi+ gamma gamma gamma gamma gamma gamma pi- pi+ pi+ pi- gamma gamma gamma gamma gamma gamma gamma gamma gamma gamma gamma gamma gamma gamma gamma n~ pi+ pi- pi- gamma gamma gamma gamma gamma gamma gamma gamma\n",
      "42 particles: e- pi+ pi- pi+ pi+ gamma K(L)0 K+ pi- pi- pi- gamma gamma pi+ pi- K+ gamma gamma K+ pi- pi- gamma gamma gamma gamma gamma gamma gamma gamma K(L)0 gamma gamma gamma gamma gamma gamma pi+ pi- gamma gamma gamma gamma\n",
      "18 particles: e- pi+ pi- nu(e) pi+ n~ pi- K(L)0 pi- K(L)0 pi+ gamma gamma nu(mu)~ mu- K+ gamma gamma\n",
      "33 particles: e- pi+ n p~ pi- pi+ gamma gamma gamma gamma gamma pi+ pi- K+ gamma gamma n~ nu(mu) mu+ K- gamma gamma pi- pi- pi- gamma gamma gamma gamma gamma gamma gamma gamma\n",
      "25 particles: e- pi- p~ gamma pi+ pi- pi+ pi- gamma gamma gamma gamma K+ pi- nu(e) e+ K- gamma gamma K(L)0 n p pi- K(L)0 gamma\n",
      "32 particles: e- K+ pi+ n pi- pi+ pi- gamma gamma K- n~ pi- pi- pi+ pi- pi+ gamma gamma gamma gamma gamma gamma gamma gamma gamma gamma gamma gamma gamma K(L)0 gamma gamma\n",
      "29 particles: e- pi- n n~ pi- pi+ pi- pi+ pi- pi+ pi+ pi- pi+ gamma n pi- pi+ gamma gamma pi+ pi+ pi- pi- gamma gamma gamma gamma pi+ pi-\n",
      "23 particles: e- n pi- K- pi+ pi+ gamma e+ e- gamma gamma gamma nu(mu)~ mu- K+ gamma gamma gamma gamma gamma gamma gamma gamma\n",
      "11 particles: e- n nu(e) K- K(L)0 pi- gamma gamma gamma gamma gamma\n",
      "29 particles: e- n pi+ pi- pi+ pi- K- gamma gamma n~ pi+ K- pi+ n gamma pi+ gamma gamma gamma gamma gamma gamma gamma gamma gamma gamma gamma pi+ pi-\n",
      "54 particles: e- pi- pi- pi+ pi+ pi+ pi+ pi- gamma pi- pi- K+ K- gamma pi- K(L)0 pi+ pi- gamma gamma gamma gamma pi+ gamma gamma gamma pi+ gamma gamma K(L)0 gamma gamma gamma gamma gamma gamma n gamma n~ gamma gamma K(L)0 gamma gamma gamma gamma gamma gamma gamma gamma gamma gamma pi+ pi-\n",
      "57 particles: e- pi+ n K- K(L)0 pi+ gamma pi+ pi+ pi- n pi- pi+ gamma gamma gamma gamma gamma gamma gamma gamma gamma gamma gamma gamma n~ gamma gamma gamma gamma gamma gamma pi- gamma gamma pi+ pi- pi+ pi- pi+ pi- gamma K- pi+ pi+ pi- gamma gamma gamma gamma gamma gamma gamma gamma gamma pi+ pi-\n",
      "56 particles: e- pi- n K+ K+ K+ p pi+ pi+ pi- pi+ pi- pi- K+ pi- n~ pi+ K- gamma K- pi+ K+ pi- pi- gamma gamma gamma gamma K- pi+ gamma gamma gamma gamma gamma gamma pi+ pi- gamma gamma gamma gamma K(L)0 K+ pi- pi+ pi- gamma gamma gamma gamma gamma gamma gamma pi+ pi-\n",
      "60 particles: e- pi- pi- pi+ p~ pi+ pi- pi+ pi- gamma K+ pi+ pi- p p~ pi- pi- p gamma gamma pi+ pi+ pi- pi+ pi- K(L)0 K- pi+ gamma gamma K+ K- pi- n~ K(L)0 gamma gamma gamma gamma n gamma gamma gamma p pi- p~ pi+ n~ gamma gamma gamma gamma gamma gamma gamma gamma gamma gamma gamma gamma\n",
      "10 particles: e- n n~ pi+ gamma gamma nu(mu) mu+ K- gamma\n",
      "18 particles: e- pi+ n pi- gamma K+ pi- pi- pi+ pi- gamma gamma gamma gamma pi+ pi- gamma gamma\n",
      "37 particles: e- pi- pi+ n~ pi+ pi- K+ p pi- n pi- e+ gamma gamma pi+ gamma gamma K(L)0 pi+ gamma gamma gamma gamma pi- gamma gamma gamma gamma gamma gamma nu(mu)~ mu- K+ gamma K(L)0 gamma gamma\n",
      "51 particles: e- pi+ pi- pi- pi+ gamma gamma K- K+ pi- pi+ pi- n pi+ gamma gamma pi- pi- pi+ pi- pi+ K(L)0 gamma gamma gamma gamma K+ pi- gamma pi+ gamma gamma gamma gamma gamma pi+ pi- gamma gamma pi+ pi- gamma gamma pi+ pi- K(L)0 pi- pi+ pi- gamma gamma\n",
      "30 particles: e- p n pi+ K- pi- nu(e) e+ pi- n n~ pi+ gamma gamma gamma gamma pi+ pi- gamma gamma gamma gamma gamma n~ pi- pi+ pi- gamma gamma gamma\n",
      "36 particles: e- pi+ K- gamma gamma gamma pi+ K(L)0 pi+ pi+ p n~ pi- K- pi+ pi+ gamma gamma gamma gamma gamma gamma gamma gamma gamma gamma gamma gamma gamma gamma K+ gamma gamma pi- pi+ pi-\n",
      "30 particles: e- n~ n~ pi+ gamma gamma p pi+ p~ gamma n n n pi- n K(L)0 K(L)0 gamma gamma pi+ K- pi+ gamma gamma nu(e)~ e- gamma gamma K(L)0 K(L)0\n",
      "36 particles: e- n n~ K+ pi+ pi- pi+ pi- pi- pi+ pi- gamma pi- K(L)0 pi+ pi- pi- pi+ pi- pi+ pi- gamma gamma gamma gamma pi+ K(L)0 gamma gamma gamma gamma gamma gamma K(L)0 gamma gamma\n",
      "27 particles: e- K(L)0 pi+ pi- gamma gamma pi+ gamma pi+ pi- gamma gamma pi- pi+ K(L)0 gamma gamma gamma gamma gamma gamma gamma gamma gamma pi+ pi+ pi-\n",
      "40 particles: e- n~ K(L)0 pi- gamma pi+ gamma gamma gamma pi- pi- K- pi+ pi- K- gamma gamma p gamma gamma pi+ pi- p pi- pi+ gamma gamma pi+ pi+ pi- n~ pi+ pi- gamma gamma gamma pi+ pi- gamma gamma\n",
      "43 particles: e- pi+ pi- pi+ pi- gamma gamma gamma gamma gamma gamma pi+ gamma gamma gamma pi+ pi- gamma gamma pi+ pi- gamma gamma gamma gamma gamma gamma pi+ gamma gamma pi- gamma gamma gamma gamma gamma gamma gamma gamma pi+ pi- gamma gamma\n",
      "14 particles: e- n gamma gamma gamma gamma gamma gamma pi- gamma gamma gamma pi+ pi-\n",
      "63 particles: e- pi- pi- pi+ pi- gamma pi+ pi- K(L)0 gamma K(L)0 gamma gamma pi- pi+ pi+ pi- gamma gamma pi- pi+ gamma gamma K(L)0 pi+ pi- p pi+ p~ pi+ pi+ pi- pi+ pi- gamma gamma gamma gamma gamma gamma gamma gamma K(L)0 gamma gamma pi+ gamma gamma gamma gamma gamma gamma gamma gamma gamma gamma pi- K(L)0 gamma gamma gamma gamma pi+\n",
      "27 particles: e- K+ gamma n pi+ K- gamma gamma gamma gamma gamma gamma gamma gamma pi- pi- gamma gamma gamma gamma K+ gamma gamma gamma gamma gamma gamma\n",
      "57 particles: e- pi- pi+ pi- pi+ K+ pi+ pi- pi+ pi+ gamma gamma n pi- pi+ K- pi+ gamma gamma gamma gamma gamma pi- K(L)0 pi+ pi- K(L)0 pi+ pi- p~ pi+ K(L)0 gamma gamma pi- K(L)0 pi+ pi- K(L)0 gamma gamma gamma gamma gamma gamma pi+ pi- pi+ pi- pi+ pi- gamma gamma gamma gamma gamma gamma\n",
      "17 particles: e- K(L)0 gamma gamma K(L)0 nu(e)~ e- pi+ pi- gamma gamma gamma gamma gamma pi+ pi- gamma\n",
      "28 particles: e- pi- pi+ nu(e) e+ p~ pi- gamma gamma gamma p pi- gamma gamma gamma gamma gamma e+ e- gamma gamma gamma nu(e)~ e- K+ gamma pi+ pi-\n",
      "35 particles: e- pi- pi+ pi+ gamma gamma pi+ pi+ pi- pi+ gamma gamma gamma K- pi+ pi- gamma gamma pi+ pi- pi+ pi- gamma gamma gamma gamma gamma nu(mu)~ K+ gamma gamma gamma gamma gamma gamma\n",
      "20 particles: e- n~ n~ n pi- nu(e) e+ gamma gamma gamma K(L)0 pi+ pi- pi+ pi- pi- gamma gamma gamma gamma\n",
      "21 particles: e- pi+ pi- pi+ K(L)0 gamma K(L)0 K(L)0 gamma gamma gamma gamma gamma gamma gamma gamma gamma gamma gamma gamma gamma\n",
      "38 particles: e- pi- K- K+ K- pi+ pi+ gamma pi+ pi- gamma gamma pi+ pi- pi+ pi- K(L)0 gamma gamma pi- gamma gamma gamma gamma K(L)0 pi+ K+ gamma gamma gamma gamma gamma gamma K+ gamma gamma gamma gamma\n",
      "30 particles: e- pi- K- pi- gamma gamma pi+ gamma n n~ pi+ pi+ K- gamma gamma gamma pi+ gamma gamma pi+ K(L)0 pi- gamma gamma K(L)0 gamma gamma nu(e)~ e- K+\n",
      "18 particles: e- pi- n pi- gamma gamma nu(mu) mu+ gamma gamma gamma pi- gamma gamma K(L)0 K(L)0 pi+ pi-\n",
      "38 particles: e- n K- pi+ pi+ pi- pi+ pi+ pi- K(L)0 pi- n pi- pi+ pi+ pi- K(L)0 K- pi+ gamma gamma gamma K- pi+ gamma gamma n~ K- gamma gamma gamma gamma gamma gamma gamma gamma gamma gamma\n",
      "32 particles: e- pi+ pi+ n K- gamma gamma pi+ pi+ pi- pi- K+ pi- gamma gamma pi- pi- pi+ pi- K(L)0 gamma gamma gamma gamma pi+ pi- gamma gamma pi- gamma gamma gamma\n",
      "24 particles: e- pi+ pi- pi+ gamma gamma pi+ pi+ pi- gamma gamma gamma pi- pi- K+ pi- gamma gamma gamma gamma gamma gamma gamma gamma\n",
      "34 particles: e- n n pi+ n pi- K(L)0 pi+ pi- gamma gamma pi+ gamma gamma gamma gamma pi+ pi- pi- pi+ p~ gamma gamma K(L)0 gamma gamma pi+ pi- gamma gamma gamma gamma gamma pi-\n",
      "40 particles: e- pi- pi+ pi- pi+ K(L)0 gamma gamma pi+ pi- pi+ pi- pi- pi+ pi+ pi- gamma gamma gamma gamma gamma gamma K+ gamma gamma K+ pi- gamma gamma gamma gamma gamma gamma K(L)0 gamma gamma gamma gamma gamma gamma\n",
      "65 particles: e- pi+ pi+ pi+ pi- K+ pi- K- K- K+ pi- K+ pi- gamma pi- K- pi+ gamma gamma K(L)0 K+ K- gamma n pi- pi+ K+ K+ pi- pi+ p~ pi- gamma gamma gamma gamma pi+ pi- K- pi+ pi- p~ pi+ pi- gamma gamma n K- pi+ gamma pi- gamma gamma pi+ pi- gamma gamma gamma gamma gamma gamma gamma gamma gamma gamma\n",
      "35 particles: e- pi- n pi- K+ pi+ gamma pi+ pi+ K(L)0 gamma n pi- n~ pi+ pi+ gamma gamma pi- gamma gamma gamma gamma gamma gamma gamma gamma gamma gamma gamma K- pi+ pi- K+ pi-\n",
      "37 particles: e- pi- pi- p pi+ pi- pi+ pi+ gamma gamma K+ pi- K(L)0 gamma gamma pi+ pi- gamma gamma gamma gamma pi- p~ pi+ n n~ K(L)0 gamma gamma gamma gamma gamma gamma pi+ pi- pi+ pi-\n",
      "39 particles: e- pi+ n pi+ pi- gamma pi- pi+ gamma pi- gamma gamma pi+ pi- pi- pi+ pi+ pi- gamma gamma e+ e- gamma nu(mu)~ mu- K+ gamma gamma e+ e- gamma pi+ pi- pi+ pi- gamma gamma gamma gamma\n",
      "82 particles: e- pi+ pi- pi- pi- n p~ pi+ K- gamma gamma gamma gamma pi+ gamma gamma gamma gamma pi- gamma gamma pi+ gamma gamma pi+ pi- gamma gamma K(L)0 p pi- pi+ pi- pi- pi+ gamma gamma pi- pi+ K+ pi- n~ gamma pi+ gamma gamma K- gamma gamma gamma K(L)0 gamma gamma pi+ pi- gamma gamma gamma gamma pi- p~ pi+ gamma gamma n gamma gamma K(L)0 gamma gamma p pi- gamma pi- gamma gamma gamma gamma gamma gamma pi+ pi-\n",
      "32 particles: e- pi+ n pi+ pi- nu(e) e+ gamma pi+ pi- K(L)0 K+ K- gamma pi+ pi- K(L)0 n~ gamma gamma gamma gamma gamma gamma gamma gamma K+ pi- gamma gamma pi+ pi-\n",
      "15 particles: e- pi+ pi- gamma K(L)0 pi+ pi+ pi- pi- pi+ pi- nu(e)~ e- K+ gamma\n",
      "32 particles: e- pi- pi+ pi- p gamma gamma pi+ pi- gamma gamma K+ n pi- n~ pi+ pi- pi+ n gamma pi- gamma gamma gamma gamma pi+ pi- pi+ pi- gamma pi+ pi-\n",
      "10 particles: e- pi- K+ K(L)0 pi+ pi- K(L)0 gamma gamma pi+\n",
      "23 particles: e- pi+ pi- K- nu(mu) mu+ gamma K+ gamma gamma gamma gamma gamma gamma gamma gamma pi- gamma gamma gamma gamma gamma gamma\n",
      "41 particles: e- pi- n~ pi+ pi- n gamma gamma n gamma pi- gamma pi- gamma gamma gamma gamma K+ pi+ pi- gamma gamma pi+ pi+ pi- gamma gamma gamma gamma gamma gamma gamma gamma gamma gamma gamma gamma pi- gamma gamma pi-\n",
      "36 particles: e- n~ pi+ pi- pi+ n pi- pi+ pi+ pi- pi- pi- pi+ pi- K(L)0 gamma gamma pi+ pi- pi- pi+ K(L)0 pi+ pi- gamma gamma K(L)0 gamma gamma K(L)0 gamma gamma gamma gamma gamma gamma\n",
      "30 particles: e- pi- pi- pi- pi- pi- pi+ K+ pi- pi- K+ pi+ gamma pi- gamma gamma gamma gamma gamma gamma K(L)0 gamma gamma gamma gamma gamma gamma gamma gamma gamma\n",
      "36 particles: e- pi- pi- pi+ pi- n pi+ pi+ pi- pi+ K(L)0 pi+ nu(mu) mu+ gamma gamma pi+ pi- gamma gamma pi+ pi- pi+ pi- gamma gamma gamma gamma gamma nu(e)~ e- gamma gamma pi+ pi- K(L)0\n"
     ]
    }
   ],
   "source": [
    "from particle import Particle     # https://github.com/scikit-hep/particle\n",
    "\n",
    "counter = 0\n",
    "for event in tree[\"pdg\"].array():\n",
    "    print(len(event), \"particles:\", \" \".join(Particle.from_pdgid(x).name for x in event))\n",
    "    counter += 1\n",
    "    if counter == 100:\n",
    "        break"
   ]
  },
  {
   "cell_type": "markdown",
   "metadata": {},
   "source": [
    "Although you can iterate over jagged arrays with for loops, the idiomatic and faster way to do it is with array-at-a-time functions."
   ]
  },
  {
   "cell_type": "code",
   "execution_count": 80,
   "metadata": {},
   "outputs": [],
   "source": [
    "vtx_x, vtx_y, vtx_z = tree.arrays([\"vtx_[xyz]\"], outputtype=tuple)"
   ]
  },
  {
   "cell_type": "code",
   "execution_count": 81,
   "metadata": {},
   "outputs": [
    {
     "data": {
      "text/plain": [
       "<JaggedArray [[0.010869109735358505 0.04461569970007986 0.018400738439694277 ... 3.1836758411592023 3.183642553033989 3.183642553033989] [0.00044890687568113205 0.03373796683736145 0.05401859969095815 ... 131.99585878615915 0.028563725689861715 0.028563725689861715] [0.036756813467945904 4.486285131592035e-10 0.04416327313376598 ... 1.2533205300290502 1.2533205300290502 0.5367743154487575] ... [0.008254781290207314 0.01227106989388853 0.018030435962753534 ... 2.5798363404850953e-05 1.3027315899452183 1.3027315899452183] [0.0007829175274973732 4.5649022026043563e-10 0.00177464214391142 ... 0.00013687824404269707 0.00013687824404269707 8.543815169675133] [0.03541578165022657 0.002674912324039225 0.008526111534115434 ... 0.36799639096494413 0.3687648973563558 0.3687648973563558]] at 0x7ff933008f10>"
      ]
     },
     "execution_count": 81,
     "metadata": {},
     "output_type": "execute_result"
    }
   ],
   "source": [
    "import numpy as np\n",
    "\n",
    "vtx_dist = np.sqrt(vtx_x**2 + vtx_y**2 + vtx_z**2)\n",
    "vtx_dist"
   ]
  },
  {
   "cell_type": "code",
   "execution_count": 84,
   "metadata": {},
   "outputs": [
    {
     "data": {
      "text/plain": [
       "<matplotlib.axes._subplots.AxesSubplot at 0x7ff932f10650>"
      ]
     },
     "execution_count": 84,
     "metadata": {},
     "output_type": "execute_result"
    },
    {
     "data": {
      "image/png": "[encoded data removed]",
      "text/plain": [
       "<Figure size 432x288 with 1 Axes>"
      ]
     },
     "metadata": {
      "needs_background": "light"
     },
     "output_type": "display_data"
    }
   ],
   "source": [
    "import matplotlib.pyplot as plt\n",
    "import mplhep as hep             # https://github.com/scikit-hep/mplhep\n",
    "import boost_histogram as bh     # https://github.com/scikit-hep/boost-histogram\n",
    "\n",
    "vtx_hist = bh.Histogram(bh.axis.Regular(100, 0, 0.1))\n",
    "vtx_hist.fill(vtx_dist.flatten())\n",
    "hep.histplot(vtx_hist)"
   ]
  },
  {
   "cell_type": "markdown",
   "metadata": {},
   "source": []
  },
  {
   "cell_type": "code",
   "execution_count": null,
   "metadata": {},
   "outputs": [],
   "source": []
  },
  {
   "cell_type": "code",
   "execution_count": null,
   "metadata": {},
   "outputs": [],
   "source": []
  },
  {
   "cell_type": "code",
   "execution_count": null,
   "metadata": {},
   "outputs": [],
   "source": []
  },
  {
   "cell_type": "code",
   "execution_count": null,
   "metadata": {},
   "outputs": [],
   "source": []
  },
  {
   "cell_type": "code",
   "execution_count": null,
   "metadata": {},
   "outputs": [],
   "source": []
  },
  {
   "cell_type": "code",
   "execution_count": null,
   "metadata": {},
   "outputs": [],
   "source": []
  },
  {
   "cell_type": "markdown",
   "metadata": {},
   "source": [
    "<br>\n",
    "<br>\n",
    "<a name=\"awkward\">\n",
    "<img src=\"https://github.com/scikit-hep/awkward-1.0/raw/master/docs-images/logo/logo-600px.png\" width=\"400\">"
   ]
  },
  {
   "cell_type": "markdown",
   "metadata": {},
   "source": [
    "## Using Uproot data in Awkward 1.0"
   ]
  },
  {
   "cell_type": "markdown",
   "metadata": {},
   "source": [
    "## Iteration in Python vs array-at-a-time operations"
   ]
  },
  {
   "cell_type": "markdown",
   "metadata": {},
   "source": [
    "## Zipping arrays into records and projecting them back out"
   ]
  },
  {
   "cell_type": "markdown",
   "metadata": {},
   "source": [
    "## Filtering (cutting) events and particles with advanced selections"
   ]
  },
  {
   "cell_type": "markdown",
   "metadata": {},
   "source": [
    "## Flattening for plots and regularizing to NumPy for machine learning"
   ]
  },
  {
   "cell_type": "markdown",
   "metadata": {},
   "source": [
    "## Broadcasting flat arrays and jagged arrays"
   ]
  },
  {
   "cell_type": "markdown",
   "metadata": {},
   "source": [
    "## Combinatorics: cartesian and combinations"
   ]
  },
  {
   "cell_type": "markdown",
   "metadata": {},
   "source": [
    "## Reducing from combinations"
   ]
  },
  {
   "cell_type": "markdown",
   "metadata": {},
   "source": [
    "## Imperative, but still fast, programming in Numba"
   ]
  },
  {
   "cell_type": "markdown",
   "metadata": {},
   "source": [
    "## Grafting jagged data onto Pandas"
   ]
  },
  {
   "cell_type": "markdown",
   "metadata": {},
   "source": [
    "## NumExpr, Autograd, and other third-party libraries"
   ]
  },
  {
   "cell_type": "code",
   "execution_count": null,
   "metadata": {},
   "outputs": [],
   "source": []
  }
 ],
 "metadata": {
  "kernelspec": {
   "display_name": "Python 3",
   "language": "python",
   "name": "python3"
  },
  "language_info": {
   "codemirror_mode": {
    "name": "ipython",
    "version": 3
   },
   "file_extension": ".py",
   "mimetype": "text/x-python",
   "name": "python",
   "nbconvert_exporter": "python",
   "pygments_lexer": "ipython3",
   "version": "3.7.6"
  }
 },
 "nbformat": 4,
 "nbformat_minor": 4
}
