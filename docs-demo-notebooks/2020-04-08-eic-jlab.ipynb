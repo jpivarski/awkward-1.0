{
 "cells": [
  {
   "cell_type": "markdown",
   "metadata": {},
   "source": [
    "# Uproot and Awkward Arrays\n",
    "\n",
    "## Tutorial for Electron Ion Collider users\n",
    "\n",
    "Jim Pivarski (Princeton University)"
   ]
  },
  {
   "cell_type": "code",
   "execution_count": 1,
   "metadata": {},
   "outputs": [],
   "source": [
    "import os\n",
    "os.chdir(\"..\")"
   ]
  },
  {
   "cell_type": "markdown",
   "metadata": {},
   "source": [
    "## Table of contents\n",
    "\n",
    "* [Uproot: getting data](#uproot)\n",
    "    - [Exploring a TFile](#Exploring-a-TFile)\n",
    "    - [Exploring a TTree](#Exploring-a-TTree)\n",
    "    - [Turning ROOT branches into NumPy arrays](#Turning-ROOT-branches-into-NumPy-arrays)\n",
    "    - [Memory management; caching and iteration](#Memory-management;-caching-and-iteration)\n",
    "    - [Jagged arrays (segue)](#Jagged-arrays-(segue))\n",
    "* [Awkward Array: manipulating data](#awkward)\n",
    "    - [Using Uproot data in Awkward 1.0](#Using-Uproot-data-in-Awkward-1.0)\n",
    "    - [Iteration in Python vs array-at-a-time operations](#Iteration-in-Python-vs-array-at-a-time-operations)\n",
    "    - [Zipping arrays into records and projecting them back out](#Zipping-arrays-into-records-and-projecting-them-back-out)\n",
    "    - [Filtering (cutting) events and particles with advanced selections](#Filtering-(cutting)-events-and-particles-with-advanced-selections)\n",
    "    - [Flattening for plots and regularizing to NumPy for machine learning](#Flattening-for-plots-and-regularizing-to-NumPy-for-machine-learning)\n",
    "    - [Broadcasting flat arrays and jagged arrays](#Broadcasting-flat-arrays-and-jagged-arrays)\n",
    "    - [Combinatorics: cartesian and combinations](#Combinatorics:-cartesian-and-combinations)\n",
    "    - [Reducing from combinations](#Reducing-from-combinations)\n",
    "    - [Imperative, but still fast, programming in Numba](#Imperative,-but-still-fast,-programming-in-Numba)\n",
    "    - [Grafting jagged data onto Pandas](#Grafting-jagged-data-onto-Pandas)\n",
    "    - [NumExpr, Autograd, and other third-party libraries](#NumExpr,-Autograd,-and-other-third-party-libraries)"
   ]
  },
  {
   "cell_type": "markdown",
   "metadata": {},
   "source": [
    "<br>\n",
    "<br>\n",
    "<a name=\"uproot\"></a>\n",
    "<img src=\"https://github.com/scikit-hep/uproot/raw/master/docs/source/logo-600px.png\" width=\"300\">"
   ]
  },
  {
   "cell_type": "markdown",
   "metadata": {},
   "source": [
    "Uproot is a pure Python reimplementation of a significant part of ROOT I/O.\n",
    "\n",
    "<br>\n",
    "<img src=\"https://raw.githubusercontent.com/jpivarski/2019-07-29-dpf-python/master/img/abstraction-layers.png\" width=\"700\">\n",
    "<br>\n",
    "\n",
    "You can read TTrees containing basic data types, STL vectors, strings, and some more complex data, especially if it was written with a high \"splitLevel\".\n",
    "\n",
    "You can also read histograms and other objects into generic containers, but the C++ methods that give those objects functionality are not available."
   ]
  },
  {
   "cell_type": "markdown",
   "metadata": {},
   "source": [
    "## Exploring a TFile"
   ]
  },
  {
   "cell_type": "markdown",
   "metadata": {},
   "source": [
    "Uproot was designed to be Pythonic, so the way we interact with ROOT files is different than it is in ROOT."
   ]
  },
  {
   "cell_type": "code",
   "execution_count": 2,
   "metadata": {},
   "outputs": [],
   "source": [
    "import uproot\n",
    "file = uproot.open(\"docs-demo-notebooks/open_charm_18x275_10k.root\")"
   ]
  },
  {
   "cell_type": "markdown",
   "metadata": {},
   "source": [
    "A ROOT file may be thought of as a dict of key-value pairs, like a Python dict."
   ]
  },
  {
   "cell_type": "code",
   "execution_count": 3,
   "metadata": {},
   "outputs": [
    {
     "data": {
      "text/plain": [
       "[b'events;1']"
      ]
     },
     "execution_count": 3,
     "metadata": {},
     "output_type": "execute_result"
    }
   ],
   "source": [
    "file.keys()"
   ]
  },
  {
   "cell_type": "code",
   "execution_count": 4,
   "metadata": {},
   "outputs": [
    {
     "data": {
      "text/plain": [
       "[<ROOTDirectory b'events' at 0x7f912409bd50>]"
      ]
     },
     "execution_count": 4,
     "metadata": {},
     "output_type": "execute_result"
    }
   ],
   "source": [
    "file.values()"
   ]
  },
  {
   "cell_type": "markdown",
   "metadata": {},
   "source": [
    "**What's the `b` before the name?** All strings retrieved from ROOT are unencoded, which Python 3 treats differently from Python 2. In the near future, Uproot will automatically interpret all strings from ROOT as UTF-8 and this cosmetic issue will be gone.\n",
    "\n",
    "**What's the `;1` at the end of the name?** It's the cycle number, something ROOT uses to track multiple versions of an object. You can usually ignore it."
   ]
  },
  {
   "cell_type": "markdown",
   "metadata": {},
   "source": [
    "Nested directories are a dict of dicts."
   ]
  },
  {
   "cell_type": "code",
   "execution_count": 5,
   "metadata": {},
   "outputs": [
    {
     "data": {
      "text/plain": [
       "[b'tree;2', b'tree;1']"
      ]
     },
     "execution_count": 5,
     "metadata": {},
     "output_type": "execute_result"
    }
   ],
   "source": [
    "file[\"events\"].keys()"
   ]
  },
  {
   "cell_type": "code",
   "execution_count": 6,
   "metadata": {},
   "outputs": [
    {
     "data": {
      "text/plain": [
       "<TTree b'tree' at 0x7f91240b0610>"
      ]
     },
     "execution_count": 6,
     "metadata": {},
     "output_type": "execute_result"
    }
   ],
   "source": [
    "file[\"events\"][\"tree\"]"
   ]
  },
  {
   "cell_type": "markdown",
   "metadata": {},
   "source": [
    "But there are shortcuts:\n",
    "\n",
    "   * use a `/` to navigate through the levels in a single string;\n",
    "   * use `allkeys` to recursively show all keys in all directories."
   ]
  },
  {
   "cell_type": "code",
   "execution_count": 7,
   "metadata": {},
   "outputs": [
    {
     "data": {
      "text/plain": [
       "[b'events;1', b'events/tree;2', b'events/tree;1']"
      ]
     },
     "execution_count": 7,
     "metadata": {},
     "output_type": "execute_result"
    }
   ],
   "source": [
    "file.allkeys()"
   ]
  },
  {
   "cell_type": "code",
   "execution_count": 8,
   "metadata": {},
   "outputs": [
    {
     "data": {
      "text/plain": [
       "<TTree b'tree' at 0x7f91241de890>"
      ]
     },
     "execution_count": 8,
     "metadata": {},
     "output_type": "execute_result"
    }
   ],
   "source": [
    "file[\"events/tree\"]"
   ]
  },
  {
   "cell_type": "markdown",
   "metadata": {},
   "source": [
    "## Exploring a TTree"
   ]
  },
  {
   "cell_type": "markdown",
   "metadata": {},
   "source": [
    "A TTree can also be thought of as a dict of dicts, this time to navigate through TBranches."
   ]
  },
  {
   "cell_type": "code",
   "execution_count": 3,
   "metadata": {},
   "outputs": [
    {
     "data": {
      "text/plain": [
       "[b'evt_id',\n",
       " b'evt_true_q2',\n",
       " b'evt_true_x',\n",
       " b'evt_true_y',\n",
       " b'evt_true_w2',\n",
       " b'evt_true_nu',\n",
       " b'evt_has_dis_info',\n",
       " b'evt_prt_count',\n",
       " b'evt_weight',\n",
       " b'id',\n",
       " b'pdg',\n",
       " b'trk_id',\n",
       " b'charge',\n",
       " b'dir_x',\n",
       " b'dir_y',\n",
       " b'dir_z',\n",
       " b'p',\n",
       " b'px',\n",
       " b'py',\n",
       " b'pz',\n",
       " b'tot_e',\n",
       " b'm',\n",
       " b'time',\n",
       " b'is_beam',\n",
       " b'is_stable',\n",
       " b'gen_code',\n",
       " b'mother_id',\n",
       " b'mother_second_id',\n",
       " b'has_pol_info',\n",
       " b'pol_x',\n",
       " b'pol_y',\n",
       " b'pol_z',\n",
       " b'has_vtx_info',\n",
       " b'vtx_id',\n",
       " b'vtx_x',\n",
       " b'vtx_y',\n",
       " b'vtx_z',\n",
       " b'vtx_t',\n",
       " b'has_smear_info',\n",
       " b'smear_has_e',\n",
       " b'smear_has_p',\n",
       " b'smear_has_pid',\n",
       " b'smear_has_vtx',\n",
       " b'smear_has_any_eppid',\n",
       " b'smear_orig_tot_e',\n",
       " b'smear_orig_p',\n",
       " b'smear_orig_px',\n",
       " b'smear_orig_py',\n",
       " b'smear_orig_pz',\n",
       " b'smear_orig_vtx_x',\n",
       " b'smear_orig_vtx_y',\n",
       " b'smear_orig_vtx_z']"
      ]
     },
     "execution_count": 3,
     "metadata": {},
     "output_type": "execute_result"
    }
   ],
   "source": [
    "tree = file[\"events/tree\"]\n",
    "tree.keys()"
   ]
  },
  {
   "cell_type": "markdown",
   "metadata": {},
   "source": [
    "Often, the first thing I do when I look at a TTree is `show` to see how each branch is going to be interpreted."
   ]
  },
  {
   "cell_type": "code",
   "execution_count": 10,
   "metadata": {},
   "outputs": [
    {
     "name": "stdout",
     "output_type": "stream",
     "text": [
      "branch name              streamer (for complex data)  interpretation in Python\n",
      "==============================================================================\n",
      "evt_id                     (no streamer)              asdtype('>u8')\n",
      "evt_true_q2                (no streamer)              asdtype('>f8')\n",
      "evt_true_x                 (no streamer)              asdtype('>f8')\n",
      "evt_true_y                 (no streamer)              asdtype('>f8')\n",
      "evt_true_w2                (no streamer)              asdtype('>f8')\n",
      "evt_true_nu                (no streamer)              asdtype('>f8')\n",
      "evt_has_dis_info           (no streamer)              asdtype('int8')\n",
      "evt_prt_count              (no streamer)              asdtype('>u8')\n",
      "evt_weight                 (no streamer)              asdtype('>f8')\n",
      "id                         (no streamer)              asjagged(asdtype('>u8'))\n",
      "pdg                        (no streamer)              asjagged(asdtype('>i8'))\n",
      "trk_id                     (no streamer)              asjagged(asdtype('>f8'))\n",
      "charge                     (no streamer)              asjagged(asdtype('>f8'))\n",
      "dir_x                      (no streamer)              asjagged(asdtype('>f8'))\n",
      "dir_y                      (no streamer)              asjagged(asdtype('>f8'))\n",
      "dir_z                      (no streamer)              asjagged(asdtype('>f8'))\n",
      "p                          (no streamer)              asjagged(asdtype('>f8'))\n",
      "px                         (no streamer)              asjagged(asdtype('>f8'))\n",
      "py                         (no streamer)              asjagged(asdtype('>f8'))\n",
      "pz                         (no streamer)              asjagged(asdtype('>f8'))\n",
      "tot_e                      (no streamer)              asjagged(asdtype('>f8'))\n",
      "m                          (no streamer)              asjagged(asdtype('>f8'))\n",
      "time                       (no streamer)              asjagged(asdtype('>f8'))\n",
      "is_beam                    (no streamer)              asjagged(asdtype('bool'))\n",
      "is_stable                  (no streamer)              asjagged(asdtype('bool'))\n",
      "gen_code                   (no streamer)              asjagged(asdtype('bool'))\n",
      "mother_id                  (no streamer)              asjagged(asdtype('>u8'))\n",
      "mother_second_id           (no streamer)              asjagged(asdtype('>u8'))\n",
      "has_pol_info               (no streamer)              asjagged(asdtype('>f8'))\n",
      "pol_x                      (no streamer)              asjagged(asdtype('>f8'))\n",
      "pol_y                      (no streamer)              asjagged(asdtype('>f8'))\n",
      "pol_z                      (no streamer)              asjagged(asdtype('>f8'))\n",
      "has_vtx_info               (no streamer)              asjagged(asdtype('bool'))\n",
      "vtx_id                     (no streamer)              asjagged(asdtype('>u8'))\n",
      "vtx_x                      (no streamer)              asjagged(asdtype('>f8'))\n",
      "vtx_y                      (no streamer)              asjagged(asdtype('>f8'))\n",
      "vtx_z                      (no streamer)              asjagged(asdtype('>f8'))\n",
      "vtx_t                      (no streamer)              asjagged(asdtype('>f8'))\n",
      "has_smear_info             (no streamer)              asjagged(asdtype('bool'))\n",
      "smear_has_e                (no streamer)              asjagged(asdtype('bool'))\n",
      "smear_has_p                (no streamer)              asjagged(asdtype('bool'))\n",
      "smear_has_pid              (no streamer)              asjagged(asdtype('bool'))\n",
      "smear_has_vtx              (no streamer)              asjagged(asdtype('bool'))\n",
      "smear_has_any_eppid        (no streamer)              asjagged(asdtype('bool'))\n",
      "smear_orig_tot_e           (no streamer)              asjagged(asdtype('>f8'))\n",
      "smear_orig_p               (no streamer)              asjagged(asdtype('>f8'))\n",
      "smear_orig_px              (no streamer)              asjagged(asdtype('>f8'))\n",
      "smear_orig_py              (no streamer)              asjagged(asdtype('>f8'))\n",
      "smear_orig_pz              (no streamer)              asjagged(asdtype('>f8'))\n",
      "smear_orig_vtx_x           (no streamer)              asjagged(asdtype('>f8'))\n",
      "smear_orig_vtx_y           (no streamer)              asjagged(asdtype('>f8'))\n",
      "smear_orig_vtx_z           (no streamer)              asjagged(asdtype('>f8'))\n"
     ]
    }
   ],
   "source": [
    "print(\"branch name              streamer (for complex data)  interpretation in Python\")\n",
    "print(\"==============================================================================\")\n",
    "\n",
    "tree.show()"
   ]
  },
  {
   "cell_type": "markdown",
   "metadata": {},
   "source": [
    "Most of the information you'd expect to find in a TTree is there. See [uproot.readthedocs.io](https://uproot.readthedocs.io/en/latest/ttree-handling.html) for a complete list."
   ]
  },
  {
   "cell_type": "code",
   "execution_count": 11,
   "metadata": {},
   "outputs": [
    {
     "data": {
      "text/plain": [
       "10000"
      ]
     },
     "execution_count": 11,
     "metadata": {},
     "output_type": "execute_result"
    }
   ],
   "source": [
    "tree.numentries"
   ]
  },
  {
   "cell_type": "code",
   "execution_count": 12,
   "metadata": {},
   "outputs": [
    {
     "data": {
      "text/plain": [
       "(15417, 80000, 5.189076992929882)"
      ]
     },
     "execution_count": 12,
     "metadata": {},
     "output_type": "execute_result"
    }
   ],
   "source": [
    "tree[\"evt_id\"].compressedbytes(), tree[\"evt_id\"].uncompressedbytes(), tree[\"evt_id\"].compressionratio()"
   ]
  },
  {
   "cell_type": "code",
   "execution_count": 13,
   "metadata": {},
   "outputs": [
    {
     "data": {
      "text/plain": [
       "3"
      ]
     },
     "execution_count": 13,
     "metadata": {},
     "output_type": "execute_result"
    }
   ],
   "source": [
    "tree[\"evt_id\"].numbaskets"
   ]
  },
  {
   "cell_type": "code",
   "execution_count": 14,
   "metadata": {},
   "outputs": [
    {
     "data": {
      "text/plain": [
       "[0, 3990, 5883]"
      ]
     },
     "execution_count": 14,
     "metadata": {},
     "output_type": "execute_result"
    }
   ],
   "source": [
    "[tree[\"evt_id\"].basket_entrystart(i) for i in range(3)]"
   ]
  },
  {
   "cell_type": "markdown",
   "metadata": {},
   "source": [
    "## Turning ROOT branches into NumPy arrays"
   ]
  },
  {
   "cell_type": "markdown",
   "metadata": {},
   "source": [
    "There are several methods for this; they differ only in convenience."
   ]
  },
  {
   "cell_type": "code",
   "execution_count": 15,
   "metadata": {},
   "outputs": [
    {
     "data": {
      "text/plain": [
       "array([   0,    1,    2, ..., 9997, 9998, 9999], dtype=uint64)"
      ]
     },
     "execution_count": 15,
     "metadata": {},
     "output_type": "execute_result"
    }
   ],
   "source": [
    "# TBranch → array\n",
    "tree[\"evt_id\"].array()"
   ]
  },
  {
   "cell_type": "code",
   "execution_count": 16,
   "metadata": {},
   "outputs": [
    {
     "data": {
      "text/plain": [
       "array([   0,    1,    2, ..., 9997, 9998, 9999], dtype=uint64)"
      ]
     },
     "execution_count": 16,
     "metadata": {},
     "output_type": "execute_result"
    }
   ],
   "source": [
    "# TTree + branch name → array\n",
    "tree.array(\"evt_id\")"
   ]
  },
  {
   "cell_type": "code",
   "execution_count": 17,
   "metadata": {},
   "outputs": [
    {
     "data": {
      "text/plain": [
       "{b'evt_id': array([   0,    1,    2, ..., 9997, 9998, 9999], dtype=uint64),\n",
       " b'evt_prt_count': array([51, 26, 27, ..., 42, 25, 11], dtype=uint64)}"
      ]
     },
     "execution_count": 17,
     "metadata": {},
     "output_type": "execute_result"
    }
   ],
   "source": [
    "# TTree + branch names → arrays\n",
    "tree.arrays([\"evt_id\", \"evt_prt_count\"])"
   ]
  },
  {
   "cell_type": "code",
   "execution_count": 18,
   "metadata": {},
   "outputs": [
    {
     "data": {
      "text/plain": [
       "{b'evt_id': array([   0,    1,    2, ..., 9997, 9998, 9999], dtype=uint64),\n",
       " b'evt_true_q2': array([0., 0., 0., ..., 0., 0., 0.]),\n",
       " b'evt_true_x': array([0., 0., 0., ..., 0., 0., 0.]),\n",
       " b'evt_true_y': array([0., 0., 0., ..., 0., 0., 0.]),\n",
       " b'evt_true_w2': array([0., 0., 0., ..., 0., 0., 0.]),\n",
       " b'evt_true_nu': array([0., 0., 0., ..., 0., 0., 0.]),\n",
       " b'evt_has_dis_info': array([0, 0, 0, ..., 0, 0, 0], dtype=int8),\n",
       " b'evt_prt_count': array([51, 26, 27, ..., 42, 25, 11], dtype=uint64),\n",
       " b'evt_weight': array([0., 0., 0., ..., 0., 0., 0.])}"
      ]
     },
     "execution_count": 18,
     "metadata": {},
     "output_type": "execute_result"
    }
   ],
   "source": [
    "# TTree + branch name pattern(s) → arrays\n",
    "tree.arrays(\"evt_*\")"
   ]
  },
  {
   "cell_type": "code",
   "execution_count": 19,
   "metadata": {},
   "outputs": [
    {
     "data": {
      "text/plain": [
       "{b'evt_id': array([   0,    1,    2, ..., 9997, 9998, 9999], dtype=uint64),\n",
       " b'evt_true_q2': array([0., 0., 0., ..., 0., 0., 0.]),\n",
       " b'evt_true_x': array([0., 0., 0., ..., 0., 0., 0.]),\n",
       " b'evt_true_y': array([0., 0., 0., ..., 0., 0., 0.]),\n",
       " b'evt_true_w2': array([0., 0., 0., ..., 0., 0., 0.]),\n",
       " b'evt_true_nu': array([0., 0., 0., ..., 0., 0., 0.]),\n",
       " b'evt_has_dis_info': array([0, 0, 0, ..., 0, 0, 0], dtype=int8),\n",
       " b'evt_prt_count': array([51, 26, 27, ..., 42, 25, 11], dtype=uint64),\n",
       " b'evt_weight': array([0., 0., 0., ..., 0., 0., 0.])}"
      ]
     },
     "execution_count": 19,
     "metadata": {},
     "output_type": "execute_result"
    }
   ],
   "source": [
    "# TTree + branch name regex(s) → arrays\n",
    "tree.arrays(\"/evt_[A-Z_0-9]*/i\")"
   ]
  },
  {
   "cell_type": "markdown",
   "metadata": {},
   "source": [
    "**Convenience #1:** turn the bytestrings into real strings (will soon be unnecessary)."
   ]
  },
  {
   "cell_type": "code",
   "execution_count": 20,
   "metadata": {},
   "outputs": [
    {
     "data": {
      "text/plain": [
       "{'evt_id': array([   0,    1,    2, ..., 9997, 9998, 9999], dtype=uint64),\n",
       " 'evt_true_q2': array([0., 0., 0., ..., 0., 0., 0.]),\n",
       " 'evt_true_x': array([0., 0., 0., ..., 0., 0., 0.]),\n",
       " 'evt_true_y': array([0., 0., 0., ..., 0., 0., 0.]),\n",
       " 'evt_true_w2': array([0., 0., 0., ..., 0., 0., 0.]),\n",
       " 'evt_true_nu': array([0., 0., 0., ..., 0., 0., 0.]),\n",
       " 'evt_has_dis_info': array([0, 0, 0, ..., 0, 0, 0], dtype=int8),\n",
       " 'evt_prt_count': array([51, 26, 27, ..., 42, 25, 11], dtype=uint64),\n",
       " 'evt_weight': array([0., 0., 0., ..., 0., 0., 0.])}"
      ]
     },
     "execution_count": 20,
     "metadata": {},
     "output_type": "execute_result"
    }
   ],
   "source": [
    "tree.arrays(\"evt_*\", namedecode=\"utf-8\")"
   ]
  },
  {
   "cell_type": "markdown",
   "metadata": {},
   "source": [
    "**Convenience #2:** output a tuple instead of a dict."
   ]
  },
  {
   "cell_type": "code",
   "execution_count": 21,
   "metadata": {},
   "outputs": [
    {
     "data": {
      "text/plain": [
       "(array([   0,    1,    2, ..., 9997, 9998, 9999], dtype=uint64),\n",
       " array([51, 26, 27, ..., 42, 25, 11], dtype=uint64))"
      ]
     },
     "execution_count": 21,
     "metadata": {},
     "output_type": "execute_result"
    }
   ],
   "source": [
    "tree.arrays([\"evt_id\", \"evt_prt_count\"], outputtype=tuple)"
   ]
  },
  {
   "cell_type": "markdown",
   "metadata": {},
   "source": [
    "... to use it in assignment:"
   ]
  },
  {
   "cell_type": "code",
   "execution_count": 22,
   "metadata": {},
   "outputs": [],
   "source": [
    "evt_id, evt_prt_count = tree.arrays([\"evt_id\", \"evt_prt_count\"], outputtype=tuple)"
   ]
  },
  {
   "cell_type": "code",
   "execution_count": 23,
   "metadata": {},
   "outputs": [
    {
     "data": {
      "text/plain": [
       "array([   0,    1,    2, ..., 9997, 9998, 9999], dtype=uint64)"
      ]
     },
     "execution_count": 23,
     "metadata": {},
     "output_type": "execute_result"
    }
   ],
   "source": [
    "evt_id"
   ]
  },
  {
   "cell_type": "markdown",
   "metadata": {},
   "source": [
    "## Memory management; caching and iteration"
   ]
  },
  {
   "cell_type": "markdown",
   "metadata": {},
   "source": [
    "The `array` methods read an entire branch into memory. Sometimes, you might not have enough memory to do that.\n",
    "\n",
    "The simplest solution is to set `entrystart` (inclusive) and `entrystop` (exclusive) to read a small batch at a time."
   ]
  },
  {
   "cell_type": "code",
   "execution_count": 24,
   "metadata": {},
   "outputs": [
    {
     "data": {
      "text/plain": [
       "array([500, 501, 502, 503, 504, 505, 506, 507, 508, 509, 510, 511, 512,\n",
       "       513, 514, 515, 516, 517, 518, 519, 520, 521, 522, 523, 524, 525,\n",
       "       526, 527, 528, 529, 530, 531, 532, 533, 534, 535, 536, 537, 538,\n",
       "       539, 540, 541, 542, 543, 544, 545, 546, 547, 548, 549, 550, 551,\n",
       "       552, 553, 554, 555, 556, 557, 558, 559, 560, 561, 562, 563, 564,\n",
       "       565, 566, 567, 568, 569, 570, 571, 572, 573, 574, 575, 576, 577,\n",
       "       578, 579, 580, 581, 582, 583, 584, 585, 586, 587, 588, 589, 590,\n",
       "       591, 592, 593, 594, 595, 596, 597, 598, 599], dtype=uint64)"
      ]
     },
     "execution_count": 24,
     "metadata": {},
     "output_type": "execute_result"
    }
   ],
   "source": [
    "tree.array(\"evt_id\", entrystart=500, entrystop=600)"
   ]
  },
  {
   "cell_type": "markdown",
   "metadata": {},
   "source": [
    "Uproot is _not_ agressive about caching: if you call `arrays` many times (for many small batches), it will read from the file every time.\n",
    "\n",
    "You can avoid frequent re-reading by assigning arrays to variables, but then you'd have to manage all those variables.\n",
    "\n",
    "**Instead, use explicit caching:**"
   ]
  },
  {
   "cell_type": "code",
   "execution_count": 25,
   "metadata": {},
   "outputs": [
    {
     "data": {
      "text/plain": [
       "array([   0,    1,    2, ..., 9997, 9998, 9999], dtype=uint64)"
      ]
     },
     "execution_count": 25,
     "metadata": {},
     "output_type": "execute_result"
    }
   ],
   "source": [
    "# Make a cache with an acceptable limit.\n",
    "gigabyte_cache = uproot.ArrayCache(\"1 GB\")\n",
    "\n",
    "# Read the array from disk:\n",
    "tree.array(\"evt_id\", cache=gigabyte_cache)\n",
    "\n",
    "# Get the array from the cache:\n",
    "tree.array(\"evt_id\", cache=gigabyte_cache)"
   ]
  },
  {
   "cell_type": "markdown",
   "metadata": {},
   "source": [
    "The advantage is that the same code can be used for first time and subsequent times. You can put this in a loop.\n",
    "\n",
    "Naturally, fetching from the cache is much faster than reading from disk (though our file isn't very big!)."
   ]
  },
  {
   "cell_type": "code",
   "execution_count": 26,
   "metadata": {},
   "outputs": [
    {
     "name": "stdout",
     "output_type": "stream",
     "text": [
      "564 ms ± 13.9 ms per loop (mean ± std. dev. of 7 runs, 1 loop each)\n"
     ]
    }
   ],
   "source": [
    "%%timeit\n",
    "\n",
    "tree.arrays(\"*\")"
   ]
  },
  {
   "cell_type": "code",
   "execution_count": 27,
   "metadata": {},
   "outputs": [
    {
     "name": "stdout",
     "output_type": "stream",
     "text": [
      "2.19 ms ± 37.5 µs per loop (mean ± std. dev. of 7 runs, 1 loop each)\n"
     ]
    }
   ],
   "source": [
    "%%timeit\n",
    "\n",
    "tree.arrays(\"*\", cache=gigabyte_cache)"
   ]
  },
  {
   "cell_type": "markdown",
   "metadata": {},
   "source": [
    "The value of an explicit cache is that you get to control it."
   ]
  },
  {
   "cell_type": "code",
   "execution_count": 28,
   "metadata": {},
   "outputs": [
    {
     "data": {
      "text/plain": [
       "52"
      ]
     },
     "execution_count": 28,
     "metadata": {},
     "output_type": "execute_result"
    }
   ],
   "source": [
    "len(gigabyte_cache)"
   ]
  },
  {
   "cell_type": "code",
   "execution_count": 29,
   "metadata": {},
   "outputs": [],
   "source": [
    "gigabyte_cache.clear()"
   ]
  },
  {
   "cell_type": "code",
   "execution_count": 30,
   "metadata": {},
   "outputs": [
    {
     "data": {
      "text/plain": [
       "0"
      ]
     },
     "execution_count": 30,
     "metadata": {},
     "output_type": "execute_result"
    }
   ],
   "source": [
    "len(gigabyte_cache)"
   ]
  },
  {
   "cell_type": "markdown",
   "metadata": {},
   "source": [
    "Setting `entrystart` and `entrystop` can get annoying; we probably want to do it in a loop.\n",
    "\n",
    "There's a method, `iterate`, for that."
   ]
  },
  {
   "cell_type": "code",
   "execution_count": 31,
   "metadata": {},
   "outputs": [
    {
     "name": "stdout",
     "output_type": "stream",
     "text": [
      "{b'evt_id': 1000, b'evt_true_q2': 1000, b'evt_true_x': 1000, b'evt_true_y': 1000, b'evt_true_w2': 1000, b'evt_true_nu': 1000, b'evt_has_dis_info': 1000, b'evt_prt_count': 1000, b'evt_weight': 1000}\n",
      "{b'evt_id': 1000, b'evt_true_q2': 1000, b'evt_true_x': 1000, b'evt_true_y': 1000, b'evt_true_w2': 1000, b'evt_true_nu': 1000, b'evt_has_dis_info': 1000, b'evt_prt_count': 1000, b'evt_weight': 1000}\n",
      "{b'evt_id': 1000, b'evt_true_q2': 1000, b'evt_true_x': 1000, b'evt_true_y': 1000, b'evt_true_w2': 1000, b'evt_true_nu': 1000, b'evt_has_dis_info': 1000, b'evt_prt_count': 1000, b'evt_weight': 1000}\n",
      "{b'evt_id': 1000, b'evt_true_q2': 1000, b'evt_true_x': 1000, b'evt_true_y': 1000, b'evt_true_w2': 1000, b'evt_true_nu': 1000, b'evt_has_dis_info': 1000, b'evt_prt_count': 1000, b'evt_weight': 1000}\n",
      "{b'evt_id': 1000, b'evt_true_q2': 1000, b'evt_true_x': 1000, b'evt_true_y': 1000, b'evt_true_w2': 1000, b'evt_true_nu': 1000, b'evt_has_dis_info': 1000, b'evt_prt_count': 1000, b'evt_weight': 1000}\n",
      "{b'evt_id': 1000, b'evt_true_q2': 1000, b'evt_true_x': 1000, b'evt_true_y': 1000, b'evt_true_w2': 1000, b'evt_true_nu': 1000, b'evt_has_dis_info': 1000, b'evt_prt_count': 1000, b'evt_weight': 1000}\n",
      "{b'evt_id': 1000, b'evt_true_q2': 1000, b'evt_true_x': 1000, b'evt_true_y': 1000, b'evt_true_w2': 1000, b'evt_true_nu': 1000, b'evt_has_dis_info': 1000, b'evt_prt_count': 1000, b'evt_weight': 1000}\n",
      "{b'evt_id': 1000, b'evt_true_q2': 1000, b'evt_true_x': 1000, b'evt_true_y': 1000, b'evt_true_w2': 1000, b'evt_true_nu': 1000, b'evt_has_dis_info': 1000, b'evt_prt_count': 1000, b'evt_weight': 1000}\n",
      "{b'evt_id': 1000, b'evt_true_q2': 1000, b'evt_true_x': 1000, b'evt_true_y': 1000, b'evt_true_w2': 1000, b'evt_true_nu': 1000, b'evt_has_dis_info': 1000, b'evt_prt_count': 1000, b'evt_weight': 1000}\n",
      "{b'evt_id': 1000, b'evt_true_q2': 1000, b'evt_true_x': 1000, b'evt_true_y': 1000, b'evt_true_w2': 1000, b'evt_true_nu': 1000, b'evt_has_dis_info': 1000, b'evt_prt_count': 1000, b'evt_weight': 1000}\n"
     ]
    }
   ],
   "source": [
    "for arrays in tree.iterate(\"evt_*\", entrysteps=1000):\n",
    "    print({name: len(array) for name, array in arrays.items()})"
   ]
  },
  {
   "cell_type": "markdown",
   "metadata": {},
   "source": [
    "Keep in mind that this is a loop over _batches_, not _events_.\n",
    "\n",
    "What goes in the loop is code that applies to _arrays_.\n",
    "\n",
    "You can also set the `entrysteps` to be a size in memory."
   ]
  },
  {
   "cell_type": "code",
   "execution_count": 32,
   "metadata": {},
   "outputs": [
    {
     "name": "stdout",
     "output_type": "stream",
     "text": [
      "{b'evt_id': 1576, b'evt_true_q2': 1576, b'evt_true_x': 1576, b'evt_true_y': 1576, b'evt_true_w2': 1576, b'evt_true_nu': 1576, b'evt_has_dis_info': 1576, b'evt_prt_count': 1576, b'evt_weight': 1576}\n",
      "{b'evt_id': 1576, b'evt_true_q2': 1576, b'evt_true_x': 1576, b'evt_true_y': 1576, b'evt_true_w2': 1576, b'evt_true_nu': 1576, b'evt_has_dis_info': 1576, b'evt_prt_count': 1576, b'evt_weight': 1576}\n",
      "{b'evt_id': 1576, b'evt_true_q2': 1576, b'evt_true_x': 1576, b'evt_true_y': 1576, b'evt_true_w2': 1576, b'evt_true_nu': 1576, b'evt_has_dis_info': 1576, b'evt_prt_count': 1576, b'evt_weight': 1576}\n",
      "{b'evt_id': 1576, b'evt_true_q2': 1576, b'evt_true_x': 1576, b'evt_true_y': 1576, b'evt_true_w2': 1576, b'evt_true_nu': 1576, b'evt_has_dis_info': 1576, b'evt_prt_count': 1576, b'evt_weight': 1576}\n",
      "{b'evt_id': 1576, b'evt_true_q2': 1576, b'evt_true_x': 1576, b'evt_true_y': 1576, b'evt_true_w2': 1576, b'evt_true_nu': 1576, b'evt_has_dis_info': 1576, b'evt_prt_count': 1576, b'evt_weight': 1576}\n",
      "{b'evt_id': 1576, b'evt_true_q2': 1576, b'evt_true_x': 1576, b'evt_true_y': 1576, b'evt_true_w2': 1576, b'evt_true_nu': 1576, b'evt_has_dis_info': 1576, b'evt_prt_count': 1576, b'evt_weight': 1576}\n",
      "{b'evt_id': 544, b'evt_true_q2': 544, b'evt_true_x': 544, b'evt_true_y': 544, b'evt_true_w2': 544, b'evt_true_nu': 544, b'evt_has_dis_info': 544, b'evt_prt_count': 544, b'evt_weight': 544}\n"
     ]
    }
   ],
   "source": [
    "for arrays in tree.iterate(\"evt_*\", entrysteps=\"100 kB\"):\n",
    "    print({name: len(array) for name, array in arrays.items()})"
   ]
  },
  {
   "cell_type": "markdown",
   "metadata": {},
   "source": [
    "The same size in memory covers more events if you read fewer branches."
   ]
  },
  {
   "cell_type": "code",
   "execution_count": 33,
   "metadata": {},
   "outputs": [
    {
     "name": "stdout",
     "output_type": "stream",
     "text": [
      "{b'evt_id': 10000}\n"
     ]
    }
   ],
   "source": [
    "for arrays in tree.iterate(\"evt_id\", entrysteps=\"100 kB\"):\n",
    "    print({name: len(array) for name, array in arrays.items()})"
   ]
  },
  {
   "cell_type": "markdown",
   "metadata": {},
   "source": [
    "This `TTree.iterate` method is similar in form to the `uproot.iterate` function, which iterates in batches over a collection of files."
   ]
  },
  {
   "cell_type": "code",
   "execution_count": 34,
   "metadata": {},
   "outputs": [
    {
     "name": "stdout",
     "output_type": "stream",
     "text": [
      "{b'evt_id': 1576, b'evt_true_q2': 1576, b'evt_true_x': 1576, b'evt_true_y': 1576, b'evt_true_w2': 1576, b'evt_true_nu': 1576, b'evt_has_dis_info': 1576, b'evt_prt_count': 1576, b'evt_weight': 1576}\n",
      "{b'evt_id': 1576, b'evt_true_q2': 1576, b'evt_true_x': 1576, b'evt_true_y': 1576, b'evt_true_w2': 1576, b'evt_true_nu': 1576, b'evt_has_dis_info': 1576, b'evt_prt_count': 1576, b'evt_weight': 1576}\n",
      "{b'evt_id': 1576, b'evt_true_q2': 1576, b'evt_true_x': 1576, b'evt_true_y': 1576, b'evt_true_w2': 1576, b'evt_true_nu': 1576, b'evt_has_dis_info': 1576, b'evt_prt_count': 1576, b'evt_weight': 1576}\n",
      "{b'evt_id': 1576, b'evt_true_q2': 1576, b'evt_true_x': 1576, b'evt_true_y': 1576, b'evt_true_w2': 1576, b'evt_true_nu': 1576, b'evt_has_dis_info': 1576, b'evt_prt_count': 1576, b'evt_weight': 1576}\n",
      "{b'evt_id': 1576, b'evt_true_q2': 1576, b'evt_true_x': 1576, b'evt_true_y': 1576, b'evt_true_w2': 1576, b'evt_true_nu': 1576, b'evt_has_dis_info': 1576, b'evt_prt_count': 1576, b'evt_weight': 1576}\n",
      "{b'evt_id': 1576, b'evt_true_q2': 1576, b'evt_true_x': 1576, b'evt_true_y': 1576, b'evt_true_w2': 1576, b'evt_true_nu': 1576, b'evt_has_dis_info': 1576, b'evt_prt_count': 1576, b'evt_weight': 1576}\n",
      "{b'evt_id': 544, b'evt_true_q2': 544, b'evt_true_x': 544, b'evt_true_y': 544, b'evt_true_w2': 544, b'evt_true_nu': 544, b'evt_has_dis_info': 544, b'evt_prt_count': 544, b'evt_weight': 544}\n",
      "{b'evt_id': 1576, b'evt_true_q2': 1576, b'evt_true_x': 1576, b'evt_true_y': 1576, b'evt_true_w2': 1576, b'evt_true_nu': 1576, b'evt_has_dis_info': 1576, b'evt_prt_count': 1576, b'evt_weight': 1576}\n",
      "{b'evt_id': 1576, b'evt_true_q2': 1576, b'evt_true_x': 1576, b'evt_true_y': 1576, b'evt_true_w2': 1576, b'evt_true_nu': 1576, b'evt_has_dis_info': 1576, b'evt_prt_count': 1576, b'evt_weight': 1576}\n",
      "{b'evt_id': 1576, b'evt_true_q2': 1576, b'evt_true_x': 1576, b'evt_true_y': 1576, b'evt_true_w2': 1576, b'evt_true_nu': 1576, b'evt_has_dis_info': 1576, b'evt_prt_count': 1576, b'evt_weight': 1576}\n",
      "{b'evt_id': 1576, b'evt_true_q2': 1576, b'evt_true_x': 1576, b'evt_true_y': 1576, b'evt_true_w2': 1576, b'evt_true_nu': 1576, b'evt_has_dis_info': 1576, b'evt_prt_count': 1576, b'evt_weight': 1576}\n",
      "{b'evt_id': 1576, b'evt_true_q2': 1576, b'evt_true_x': 1576, b'evt_true_y': 1576, b'evt_true_w2': 1576, b'evt_true_nu': 1576, b'evt_has_dis_info': 1576, b'evt_prt_count': 1576, b'evt_weight': 1576}\n",
      "{b'evt_id': 1576, b'evt_true_q2': 1576, b'evt_true_x': 1576, b'evt_true_y': 1576, b'evt_true_w2': 1576, b'evt_true_nu': 1576, b'evt_has_dis_info': 1576, b'evt_prt_count': 1576, b'evt_weight': 1576}\n",
      "{b'evt_id': 544, b'evt_true_q2': 544, b'evt_true_x': 544, b'evt_true_y': 544, b'evt_true_w2': 544, b'evt_true_nu': 544, b'evt_has_dis_info': 544, b'evt_prt_count': 544, b'evt_weight': 544}\n",
      "{b'evt_id': 1576, b'evt_true_q2': 1576, b'evt_true_x': 1576, b'evt_true_y': 1576, b'evt_true_w2': 1576, b'evt_true_nu': 1576, b'evt_has_dis_info': 1576, b'evt_prt_count': 1576, b'evt_weight': 1576}\n",
      "{b'evt_id': 1576, b'evt_true_q2': 1576, b'evt_true_x': 1576, b'evt_true_y': 1576, b'evt_true_w2': 1576, b'evt_true_nu': 1576, b'evt_has_dis_info': 1576, b'evt_prt_count': 1576, b'evt_weight': 1576}\n",
      "{b'evt_id': 1576, b'evt_true_q2': 1576, b'evt_true_x': 1576, b'evt_true_y': 1576, b'evt_true_w2': 1576, b'evt_true_nu': 1576, b'evt_has_dis_info': 1576, b'evt_prt_count': 1576, b'evt_weight': 1576}\n",
      "{b'evt_id': 1576, b'evt_true_q2': 1576, b'evt_true_x': 1576, b'evt_true_y': 1576, b'evt_true_w2': 1576, b'evt_true_nu': 1576, b'evt_has_dis_info': 1576, b'evt_prt_count': 1576, b'evt_weight': 1576}\n",
      "{b'evt_id': 1576, b'evt_true_q2': 1576, b'evt_true_x': 1576, b'evt_true_y': 1576, b'evt_true_w2': 1576, b'evt_true_nu': 1576, b'evt_has_dis_info': 1576, b'evt_prt_count': 1576, b'evt_weight': 1576}\n",
      "{b'evt_id': 1576, b'evt_true_q2': 1576, b'evt_true_x': 1576, b'evt_true_y': 1576, b'evt_true_w2': 1576, b'evt_true_nu': 1576, b'evt_has_dis_info': 1576, b'evt_prt_count': 1576, b'evt_weight': 1576}\n",
      "{b'evt_id': 544, b'evt_true_q2': 544, b'evt_true_x': 544, b'evt_true_y': 544, b'evt_true_w2': 544, b'evt_true_nu': 544, b'evt_has_dis_info': 544, b'evt_prt_count': 544, b'evt_weight': 544}\n"
     ]
    }
   ],
   "source": [
    "for arrays in uproot.iterate([\"docs-demo-notebooks/open_charm_18x275_10k.root\",\n",
    "                              \"docs-demo-notebooks/open_charm_18x275_10k.root\",\n",
    "                              \"docs-demo-notebooks/open_charm_18x275_10k.root\"], \"events/tree\", \"evt_*\", entrysteps=\"100 kB\"):\n",
    "    print({name: len(array) for name, array in arrays.items()})"
   ]
  },
  {
   "cell_type": "markdown",
   "metadata": {},
   "source": [
    "## Jagged arrays (segue)"
   ]
  },
  {
   "cell_type": "markdown",
   "metadata": {},
   "source": [
    "Most of the branches in this file have an \"asjagged\" interpretation, instead of \"asdtype\" (NumPy)."
   ]
  },
  {
   "cell_type": "code",
   "execution_count": 35,
   "metadata": {},
   "outputs": [
    {
     "data": {
      "text/plain": [
       "asdtype('>u8')"
      ]
     },
     "execution_count": 35,
     "metadata": {},
     "output_type": "execute_result"
    }
   ],
   "source": [
    "tree[\"evt_id\"].interpretation"
   ]
  },
  {
   "cell_type": "code",
   "execution_count": 36,
   "metadata": {},
   "outputs": [
    {
     "data": {
      "text/plain": [
       "asjagged(asdtype('>i8'))"
      ]
     },
     "execution_count": 36,
     "metadata": {},
     "output_type": "execute_result"
    }
   ],
   "source": [
    "tree[\"pdg\"].interpretation"
   ]
  },
  {
   "cell_type": "markdown",
   "metadata": {},
   "source": [
    "This means that they have multiple values per entry."
   ]
  },
  {
   "cell_type": "code",
   "execution_count": 37,
   "metadata": {},
   "outputs": [
    {
     "data": {
      "text/plain": [
       "<JaggedArray [[11 211 -211 ... 22 22 22] [11 211 -211 ... -211 22 22] [11 2112 2212 ... 22 22 -211] ... [11 -211 321 ... 22 22 22] [11 2112 -211 ... 22 22 130] [11 -211 -321 ... 130 22 22]] at 0x7f9124065250>"
      ]
     },
     "execution_count": 37,
     "metadata": {},
     "output_type": "execute_result"
    }
   ],
   "source": [
    "tree[\"pdg\"].array()"
   ]
  },
  {
   "cell_type": "markdown",
   "metadata": {},
   "source": [
    "Jagged arrays (lists of variable-length sublists) are very common in particle physics, and surprisingly uncommon in other fields.\n",
    "\n",
    "We need them because we almost always have a variable number of particles per event."
   ]
  },
  {
   "cell_type": "code",
   "execution_count": 4,
   "metadata": {},
   "outputs": [
    {
     "name": "stdout",
     "output_type": "stream",
     "text": [
      "51 particles: e- pi+ pi- K- pi+ pi- pi- pi+ pi+ pi+ gamma gamma K(L)0 K+ pi- K(L)0 gamma gamma gamma gamma pi+ pi- pi+ gamma gamma p pi- pi+ K+ pi- pi- K+ K- gamma gamma pi+ pi- K+ pi- pi+ K(L)0 K(L)0 gamma gamma pi+ pi- pi+ gamma gamma gamma gamma\n",
      "26 particles: e- pi+ pi- n~ n gamma pi- pi+ gamma gamma pi+ gamma gamma gamma gamma gamma K(L)0 gamma gamma gamma gamma pi- pi+ pi- gamma gamma\n",
      "27 particles: e- n p pi+ pi+ pi+ pi- pi- pi- pi- pi- pi+ pi- gamma gamma gamma pi+ K+ K- pi+ gamma gamma gamma gamma gamma gamma pi-\n",
      "28 particles: e- pi+ pi- nu(mu) mu+ gamma gamma pi- pi+ n gamma gamma n pi- p~ pi+ gamma gamma pi+ pi- K- K(L)0 gamma gamma gamma gamma gamma gamma\n",
      "30 particles: e- pi+ pi- pi+ pi- n gamma gamma K- pi+ n pi- pi+ gamma n~ p~ pi+ K(L)0 gamma gamma pi- gamma gamma pi- pi+ gamma gamma K+ pi- gamma\n",
      "12 particles: e- gamma gamma gamma gamma gamma gamma gamma gamma gamma gamma gamma\n",
      "25 particles: pi- K- K+ pi- gamma gamma pi- gamma gamma pi- K(L)0 K(L)0 gamma gamma gamma gamma K- pi+ gamma gamma gamma gamma gamma gamma gamma\n",
      "4 particles: e- nu(e) e+ n\n",
      "57 particles: e- pi+ n p K- K+ pi+ pi+ pi- gamma gamma K(L)0 p~ n pi- n~ pi+ pi+ pi- gamma gamma K(L)0 K+ K- K+ K- gamma gamma pi+ gamma gamma gamma gamma gamma gamma pi- gamma gamma pi- e+ e- gamma pi+ pi- gamma gamma gamma gamma gamma gamma e+ e- gamma gamma gamma gamma gamma\n",
      "40 particles: e- n K- K+ gamma gamma K+ pi- gamma gamma gamma pi+ n~ pi- K- pi+ gamma gamma gamma gamma gamma gamma gamma gamma pi- K(L)0 pi- pi+ gamma gamma gamma gamma gamma gamma gamma gamma e+ e- gamma gamma\n",
      "16 particles: e- pi- n pi- pi+ gamma pi+ pi- K(L)0 pi+ gamma gamma K+ K- gamma gamma\n",
      "16 particles: e- K(L)0 pi- K(L)0 pi+ pi- gamma gamma nu(e)~ e- K+ K(L)0 gamma gamma gamma gamma\n",
      "79 particles: e- pi+ pi- pi+ pi- K- pi+ pi- gamma gamma gamma n pi+ gamma gamma pi+ pi- K(L)0 p pi+ p~ gamma gamma gamma pi- pi+ pi+ pi- K+ gamma gamma pi+ pi- gamma gamma K+ gamma gamma pi+ pi- gamma gamma gamma pi- gamma gamma n pi+ pi- gamma gamma gamma gamma pi+ pi- gamma gamma gamma gamma K- pi+ gamma gamma pi- gamma gamma gamma gamma gamma gamma gamma gamma p~ pi+ K(L)0 gamma gamma pi+ pi-\n",
      "34 particles: e- n pi- pi+ K+ pi+ pi+ pi+ pi- pi+ pi- pi- pi- K(L)0 pi+ pi+ pi- pi+ pi- gamma gamma K+ gamma gamma K(L)0 gamma gamma gamma gamma pi+ pi- pi- gamma gamma\n",
      "24 particles: e- K- K+ pi- pi- pi+ gamma gamma gamma gamma gamma gamma gamma pi- K- pi+ pi+ pi- gamma gamma gamma gamma gamma gamma\n",
      "32 particles: e- n pi+ pi- pi+ pi- pi+ pi- pi- gamma gamma gamma gamma gamma pi+ pi- e+ e- gamma K+ pi- K- pi+ gamma gamma gamma gamma gamma gamma gamma gamma gamma\n",
      "37 particles: e- pi- pi+ pi+ pi- n n~ pi+ p pi+ pi- K+ K- gamma gamma gamma gamma pi+ pi- gamma gamma pi- pi- pi+ gamma gamma p~ gamma e+ e- gamma gamma gamma gamma gamma gamma gamma\n",
      "63 particles: e- pi- n pi+ K- K+ pi+ pi- K(L)0 n pi- n~ pi+ n K(L)0 K(L)0 pi- gamma gamma gamma gamma K- pi- gamma gamma pi+ pi- gamma gamma gamma K(L)0 K- pi+ pi+ pi+ pi- pi+ pi- p pi- n~ pi+ gamma gamma K(L)0 pi+ gamma gamma gamma gamma gamma gamma gamma gamma gamma gamma gamma gamma K- K+ pi- gamma gamma\n",
      "37 particles: e- n p~ pi+ pi- pi+ K- pi+ gamma gamma pi+ nu(e) e+ K- gamma gamma pi- K- gamma gamma K(L)0 K+ pi- pi+ pi- pi+ pi- gamma gamma gamma gamma gamma gamma gamma gamma gamma gamma\n",
      "5 particles: e- gamma pi- gamma gamma\n",
      "26 particles: e- pi- n n~ pi+ pi+ nu(mu) mu+ n pi- gamma gamma gamma gamma gamma gamma gamma K(L)0 pi- gamma gamma gamma pi+ gamma gamma K(L)0\n",
      "39 particles: e- pi+ n pi- K+ pi- gamma pi+ pi- gamma gamma pi- pi- pi+ pi- pi+ pi+ pi- gamma gamma gamma gamma gamma K+ K- gamma gamma pi+ pi- gamma gamma gamma gamma gamma gamma gamma gamma pi+ pi-\n",
      "58 particles: e- pi+ pi- pi+ pi- p~ pi- pi+ n~ pi- gamma pi+ pi+ pi- K(L)0 K- K+ pi- n n~ pi+ pi- pi+ pi+ pi+ pi- pi+ pi- pi+ pi- gamma gamma pi- gamma K(L)0 pi+ pi- gamma gamma gamma gamma gamma gamma pi+ pi- n gamma gamma pi+ gamma gamma gamma gamma gamma gamma n gamma gamma\n",
      "27 particles: e- n pi+ pi- K- pi+ gamma gamma gamma n K- pi- pi- pi+ gamma gamma gamma gamma pi+ gamma gamma gamma gamma gamma gamma gamma gamma\n",
      "23 particles: e- pi+ pi+ p pi- pi+ gamma gamma gamma pi+ pi- K(L)0 pi+ gamma gamma p~ pi- pi+ nu(e)~ e- gamma K+ pi-\n",
      "20 particles: e- n pi+ pi- gamma gamma gamma K(L)0 pi- pi- e+ e- gamma gamma gamma gamma gamma gamma pi+ gamma\n",
      "38 particles: e- K- pi+ pi- gamma gamma K(L)0 pi+ pi- pi+ p p~ pi- pi+ pi+ gamma gamma gamma gamma gamma gamma gamma gamma gamma gamma nu(mu)~ mu- gamma gamma pi- pi+ pi- gamma gamma gamma gamma gamma gamma\n",
      "70 particles: e- n pi- K+ n~ pi+ pi- pi- K- pi+ K(L)0 pi+ pi- p p~ pi- pi+ n pi+ pi- pi- pi+ gamma gamma n~ gamma gamma pi+ gamma gamma gamma gamma K(L)0 pi- gamma gamma gamma gamma gamma gamma gamma gamma gamma gamma gamma gamma n~ pi+ gamma pi+ pi+ gamma gamma n gamma gamma gamma gamma p~ pi+ pi+ pi- K- gamma gamma gamma gamma gamma gamma gamma\n",
      "14 particles: e- pi- gamma pi+ pi- pi+ pi+ K(L)0 gamma gamma gamma gamma gamma gamma\n",
      "29 particles: e- K- pi- K+ pi+ pi+ pi- gamma gamma pi- pi+ K(L)0 gamma gamma gamma gamma K(L)0 gamma gamma gamma pi+ pi- pi+ pi- K(L)0 K(L)0 K(L)0 gamma gamma\n"
     ]
    }
   ],
   "source": [
    "from particle import Particle     # https://github.com/scikit-hep/particle\n",
    "\n",
    "counter = 0\n",
    "for event in tree[\"pdg\"].array():\n",
    "    print(len(event), \"particles:\", \" \".join(Particle.from_pdgid(x).name for x in event))\n",
    "    counter += 1\n",
    "    if counter == 30:\n",
    "        break"
   ]
  },
  {
   "cell_type": "markdown",
   "metadata": {},
   "source": [
    "Although you can iterate over jagged arrays with for loops, the idiomatic and faster way to do it is with array-at-a-time functions."
   ]
  },
  {
   "cell_type": "code",
   "execution_count": 5,
   "metadata": {},
   "outputs": [
    {
     "data": {
      "text/plain": [
       "<JaggedArray [[0.010869109735358505 0.04461569970007986 0.018400738439694277 ... 3.1836758411592023 3.183642553033989 3.183642553033989] [0.00044890687568113205 0.03373796683736145 0.05401859969095815 ... 131.99585878615915 0.028563725689861715 0.028563725689861715] [0.036756813467945904 4.486285131592035e-10 0.04416327313376598 ... 1.2533205300290502 1.2533205300290502 0.5367743154487575] ... [0.008254781290207314 0.01227106989388853 0.018030435962753534 ... 2.5798363404850953e-05 1.3027315899452183 1.3027315899452183] [0.0007829175274973732 4.5649022026043563e-10 0.00177464214391142 ... 0.00013687824404269707 0.00013687824404269707 8.543815169675133] [0.03541578165022657 0.002674912324039225 0.008526111534115434 ... 0.36799639096494413 0.3687648973563558 0.3687648973563558]] at 0x7f83444d2b50>"
      ]
     },
     "execution_count": 5,
     "metadata": {},
     "output_type": "execute_result"
    }
   ],
   "source": [
    "import numpy as np\n",
    "\n",
    "vtx_x, vtx_y, vtx_z = tree.arrays([\"vtx_[xyz]\"], outputtype=tuple)\n",
    "\n",
    "vtx_dist = np.sqrt(vtx_x**2 + vtx_y**2 + vtx_z**2)\n",
    "\n",
    "vtx_dist"
   ]
  },
  {
   "cell_type": "code",
   "execution_count": 6,
   "metadata": {},
   "outputs": [
    {
     "data": {
      "text/plain": [
       "<matplotlib.axes._subplots.AxesSubplot at 0x7f830ed4b290>"
      ]
     },
     "execution_count": 6,
     "metadata": {},
     "output_type": "execute_result"
    },
    {
     "data": {
      "image/png": "[encoded data removed]",
      "text/plain": [
       "<Figure size 432x288 with 1 Axes>"
      ]
     },
     "metadata": {
      "needs_background": "light"
     },
     "output_type": "display_data"
    }
   ],
   "source": [
    "import matplotlib.pyplot as plt\n",
    "import mplhep as hep             # https://github.com/scikit-hep/mplhep\n",
    "import boost_histogram as bh     # https://github.com/scikit-hep/boost-histogram\n",
    "\n",
    "vtx_hist = bh.Histogram(bh.axis.Regular(100, 0, 0.1))\n",
    "\n",
    "vtx_hist.fill(vtx_dist.flatten())\n",
    "\n",
    "hep.histplot(vtx_hist)"
   ]
  },
  {
   "cell_type": "code",
   "execution_count": 41,
   "metadata": {},
   "outputs": [
    {
     "data": {
      "text/plain": [
       "<JaggedArray [[True True True ... True True True] [False True True ... True True True] [True False True ... True True True] ... [False True True ... False True True] [False False False ... False False True] [True False False ... True True True]] at 0x7f91011d7b10>"
      ]
     },
     "execution_count": 41,
     "metadata": {},
     "output_type": "execute_result"
    }
   ],
   "source": [
    "vtx_dist > 0.01"
   ]
  },
  {
   "cell_type": "code",
   "execution_count": 42,
   "metadata": {},
   "outputs": [
    {
     "data": {
      "text/plain": [
       "<JaggedArray [[11 211 -211 ... 22 22 22] [211 -211 -211 ... -211 22 22] [11 2212 211 ... 22 22 -211] ... [-211 321 -321 ... -211 22 22] [211 -211 211 ... 211 -211 130] [11 2112 -211 ... 130 22 22]] at 0x7f912407b590>"
      ]
     },
     "execution_count": 42,
     "metadata": {},
     "output_type": "execute_result"
    }
   ],
   "source": [
    "pdg = tree[\"pdg\"].array()\n",
    "pdg[vtx_dist > 0.01]"
   ]
  },
  {
   "cell_type": "code",
   "execution_count": 43,
   "metadata": {},
   "outputs": [
    {
     "name": "stdout",
     "output_type": "stream",
     "text": [
      "16 particles: p pi- K+ pi- pi- pi+ pi- pi+ K(L)0 pi+ pi- pi+ gamma gamma gamma gamma\n",
      "9 particles: pi- pi+ K(L)0 gamma gamma gamma gamma pi+ pi-\n",
      "8 particles: pi- pi- K+ K- pi+ gamma gamma pi-\n",
      "7 particles: nu(mu) mu+ pi+ pi- K- gamma gamma\n",
      "8 particles: K- pi+ p~ pi+ pi- pi+ K+ pi-\n",
      "6 particles: gamma gamma gamma gamma gamma gamma\n",
      "2 particles: K- K(L)0\n",
      "1 particles: n\n",
      "0 particles: \n",
      "12 particles: K- pi+ pi- K(L)0 pi- pi+ gamma gamma gamma gamma gamma gamma\n",
      "7 particles: pi+ pi- K(L)0 pi+ K- gamma gamma\n",
      "10 particles: pi+ pi- nu(e)~ e- K+ K(L)0 gamma gamma gamma gamma\n",
      "11 particles: n pi+ K- gamma gamma gamma gamma p~ pi+ pi+ pi-\n",
      "6 particles: K+ pi+ pi- pi- gamma gamma\n",
      "16 particles: pi- pi- pi+ gamma gamma pi- K- pi+ pi+ pi- gamma gamma gamma gamma gamma gamma\n",
      "6 particles: K+ pi- gamma gamma gamma gamma\n",
      "10 particles: pi- pi+ p~ e+ e- gamma gamma gamma gamma gamma\n",
      "18 particles: n pi- n~ pi+ n pi+ pi- pi+ pi- p pi- n~ pi+ pi+ gamma gamma gamma gamma\n",
      "11 particles: nu(e) e+ K- K+ pi- pi+ pi- gamma gamma gamma gamma\n",
      "4 particles: gamma pi- gamma gamma\n",
      "13 particles: nu(mu) mu+ gamma gamma K(L)0 pi- gamma gamma gamma pi+ gamma gamma K(L)0\n",
      "5 particles: pi- K+ K- pi+ pi-\n",
      "8 particles: n~ pi- n gamma gamma n gamma gamma\n",
      "13 particles: K- pi- pi- pi+ pi+ gamma gamma gamma gamma gamma gamma gamma gamma\n",
      "6 particles: pi+ pi+ e- gamma K+ pi-\n",
      "12 particles: pi+ pi- pi- pi- e+ e- gamma gamma gamma gamma gamma pi+\n",
      "8 particles: gamma gamma pi+ pi- gamma gamma gamma gamma\n",
      "24 particles: n pi+ pi+ n~ pi+ pi+ pi+ n gamma gamma gamma gamma p~ pi+ pi+ pi- K- gamma gamma gamma gamma gamma gamma gamma\n",
      "9 particles: pi+ pi+ K(L)0 gamma gamma gamma gamma gamma gamma\n",
      "2 particles: pi+ pi-\n"
     ]
    }
   ],
   "source": [
    "counter = 0\n",
    "for event in pdg[vtx_dist > 0.10]:\n",
    "    print(len(event), \"particles:\", \" \".join(Particle.from_pdgid(x).name for x in event))\n",
    "    counter += 1\n",
    "    if counter == 30:\n",
    "        break"
   ]
  },
  {
   "cell_type": "code",
   "execution_count": 44,
   "metadata": {},
   "outputs": [
    {
     "data": {
      "text/latex": [
       "$\\bar{p}$"
      ],
      "text/plain": [
       "<Particle: name=\"p~\", pdgid=-2212, mass=938.272081 ± 0.000006 MeV>"
      ]
     },
     "execution_count": 44,
     "metadata": {},
     "output_type": "execute_result"
    }
   ],
   "source": [
    "Particle.from_string(\"p~\")"
   ]
  },
  {
   "cell_type": "code",
   "execution_count": 45,
   "metadata": {},
   "outputs": [
    {
     "data": {
      "text/plain": [
       "<PDGID: -2212>"
      ]
     },
     "execution_count": 45,
     "metadata": {},
     "output_type": "execute_result"
    }
   ],
   "source": [
    "Particle.from_string(\"p~\").pdgid"
   ]
  },
  {
   "cell_type": "code",
   "execution_count": 46,
   "metadata": {},
   "outputs": [
    {
     "data": {
      "text/plain": [
       "<JaggedArray [[False False False ... False False False] [False False False ... False False False] [False False False ... False False False] ... [False False False ... False False False] [False False False ... False False False] [False False False ... False False False]] at 0x7f910118af50>"
      ]
     },
     "execution_count": 46,
     "metadata": {},
     "output_type": "execute_result"
    }
   ],
   "source": [
    "is_antiproton = (pdg == Particle.from_string(\"p~\").pdgid)\n",
    "is_antiproton"
   ]
  },
  {
   "cell_type": "code",
   "execution_count": 47,
   "metadata": {},
   "outputs": [
    {
     "data": {
      "text/plain": [
       "<matplotlib.axes._subplots.AxesSubplot at 0x7f91011b4bd0>"
      ]
     },
     "execution_count": 47,
     "metadata": {},
     "output_type": "execute_result"
    },
    {
     "data": {
      "image/png": "[encoded data removed]",
      "text/plain": [
       "<Figure size 432x288 with 1 Axes>"
      ]
     },
     "metadata": {
      "needs_background": "light"
     },
     "output_type": "display_data"
    }
   ],
   "source": [
    "hep.histplot(bh.Histogram(bh.axis.Regular(100, 0, 0.1)).fill(\n",
    "    vtx_dist[is_antiproton].flatten()\n",
    "))"
   ]
  },
  {
   "cell_type": "markdown",
   "metadata": {},
   "source": [
    "But that's a topic for the next section."
   ]
  },
  {
   "cell_type": "markdown",
   "metadata": {},
   "source": [
    "<br>\n",
    "<br>\n",
    "<a name=\"awkward\"></a>\n",
    "<img src=\"https://github.com/scikit-hep/awkward-1.0/raw/master/docs-images/logo/logo-600px.png\" width=\"400\">"
   ]
  },
  {
   "cell_type": "markdown",
   "metadata": {},
   "source": [
    "Awkward Array is a library for manipulating arbitrary data structures in a NumPy-like way.\n",
    "\n",
    "The idea is that you have a large number of identically typed, nested objects in variable-length lists.\n",
    "\n",
    "<img src=\"../docs-images/diagrams/cartoon-schematic.png\" width=\"600\">"
   ]
  },
  {
   "cell_type": "markdown",
   "metadata": {},
   "source": [
    "## Using Uproot data in Awkward 1.0\n",
    "\n",
    "Awkward Array is in transition from\n",
    "\n",
    "   * version 0.x, which is in use at the LHC but has revealed some design flaws, to\n",
    "   * version 1.x, which is well-architected and has completed development, but is not in widespread use yet.\n",
    "\n",
    "Awkward 1.0 hasn't been incorporated into Uproot yet, which is how it will get in front of most users.\n",
    "\n",
    "Since development is complete and the interface is (intentionally) different, I thought it better to show you the new version."
   ]
  },
  {
   "cell_type": "code",
   "execution_count": 7,
   "metadata": {},
   "outputs": [],
   "source": [
    "import awkward1 as ak"
   ]
  },
  {
   "cell_type": "markdown",
   "metadata": {},
   "source": [
    "Old-style arrays can be converted into the new framework with [ak.from_awkward0](https://awkward-array.readthedocs.io/en/latest/_auto/ak.from_awkward0.html). This won't be a necessary step for long."
   ]
  },
  {
   "cell_type": "code",
   "execution_count": 49,
   "metadata": {
    "collapsed": true,
    "jupyter": {
     "outputs_hidden": true
    }
   },
   "outputs": [
    {
     "data": {
      "text/plain": [
       "\u001b[0;31mSignature:\u001b[0m\n",
       "\u001b[0mak\u001b[0m\u001b[0;34m.\u001b[0m\u001b[0mfrom_awkward0\u001b[0m\u001b[0;34m(\u001b[0m\u001b[0;34m\u001b[0m\n",
       "\u001b[0;34m\u001b[0m    \u001b[0marray\u001b[0m\u001b[0;34m,\u001b[0m\u001b[0;34m\u001b[0m\n",
       "\u001b[0;34m\u001b[0m    \u001b[0mkeeplayout\u001b[0m\u001b[0;34m=\u001b[0m\u001b[0;32mFalse\u001b[0m\u001b[0;34m,\u001b[0m\u001b[0;34m\u001b[0m\n",
       "\u001b[0;34m\u001b[0m    \u001b[0mregulararray\u001b[0m\u001b[0;34m=\u001b[0m\u001b[0;32mFalse\u001b[0m\u001b[0;34m,\u001b[0m\u001b[0;34m\u001b[0m\n",
       "\u001b[0;34m\u001b[0m    \u001b[0mhighlevel\u001b[0m\u001b[0;34m=\u001b[0m\u001b[0;32mTrue\u001b[0m\u001b[0;34m,\u001b[0m\u001b[0;34m\u001b[0m\n",
       "\u001b[0;34m\u001b[0m    \u001b[0mbehavior\u001b[0m\u001b[0;34m=\u001b[0m\u001b[0;32mNone\u001b[0m\u001b[0;34m,\u001b[0m\u001b[0;34m\u001b[0m\n",
       "\u001b[0;34m\u001b[0m\u001b[0;34m)\u001b[0m\u001b[0;34m\u001b[0m\u001b[0;34m\u001b[0m\u001b[0m\n",
       "\u001b[0;31mDocstring:\u001b[0m\n",
       "Args:\n",
       "    array (Awkward 0.x or Awkward 1.x array): Data to convert to Awkward\n",
       "        1.x.\n",
       "    keeplayout (bool): If True, stay true to the Awkward 0.x layout,\n",
       "        ensuring zero-copy; otherwise, allow transformations that copy\n",
       "        data for more flexibility.\n",
       "    regulararray (bool): If True and the array is multidimensional,\n",
       "        the dimensions are represented by nested #ak.layout.RegularArray\n",
       "        nodes; if False and the array is multidimensional, the dimensions\n",
       "        are represented by a multivalued #ak.layout.NumpyArray.shape.\n",
       "        If the array is one-dimensional, this has no effect.\n",
       "    highlevel (bool): If True, return an #ak.Array; otherwise, return\n",
       "        a low-level #ak.layout.Content subclass.\n",
       "    behavior (bool): Custom #ak.behavior for the output array, if\n",
       "        high-level.\n",
       "\n",
       "Converts an array from Awkward 0.x to Awkward 1.x.\n",
       "\n",
       "This is only needed during the transition from the old library to the\n",
       "new library.\n",
       "\n",
       "If `array` is already an Awkward 1.x Array, it is simply passed through\n",
       "this function (so that interfaces that scripts don't need to remove this\n",
       "function when their 0.x sources are replaced by 1.x).\n",
       "\u001b[0;31mFile:\u001b[0m      ~/irishep/awkward-1.0/awkward1/operations/convert.py\n",
       "\u001b[0;31mType:\u001b[0m      function\n"
      ]
     },
     "metadata": {},
     "output_type": "display_data"
    }
   ],
   "source": [
    "?ak.from_awkward0"
   ]
  },
  {
   "cell_type": "code",
   "execution_count": 50,
   "metadata": {
    "collapsed": true,
    "jupyter": {
     "outputs_hidden": true
    }
   },
   "outputs": [
    {
     "data": {
      "text/plain": [
       "\u001b[0;31mSignature:\u001b[0m \u001b[0mak\u001b[0m\u001b[0;34m.\u001b[0m\u001b[0mto_awkward0\u001b[0m\u001b[0;34m(\u001b[0m\u001b[0marray\u001b[0m\u001b[0;34m,\u001b[0m \u001b[0mkeeplayout\u001b[0m\u001b[0;34m=\u001b[0m\u001b[0;32mFalse\u001b[0m\u001b[0;34m)\u001b[0m\u001b[0;34m\u001b[0m\u001b[0;34m\u001b[0m\u001b[0m\n",
       "\u001b[0;31mDocstring:\u001b[0m\n",
       "Args:\n",
       "    array: Data to convert into an Awkward 0.x array.\n",
       "    keeplayout (bool): If True, stay true to the Awkward 1.x layout,\n",
       "        ensuring zero-copy; otherwise, allow transformations that copy\n",
       "        data for more flexibility.\n",
       "\n",
       "Converts `array` (many types supported, including all Awkward Arrays and\n",
       "Records) into an Awkward 0.x array.\n",
       "\n",
       "This is only needed during the transition from the old library to the new\n",
       "library.\n",
       "\u001b[0;31mFile:\u001b[0m      ~/irishep/awkward-1.0/awkward1/operations/convert.py\n",
       "\u001b[0;31mType:\u001b[0m      function\n"
      ]
     },
     "metadata": {},
     "output_type": "display_data"
    }
   ],
   "source": [
    "?ak.to_awkward0"
   ]
  },
  {
   "cell_type": "code",
   "execution_count": 51,
   "metadata": {},
   "outputs": [
    {
     "data": {
      "text/plain": [
       "<Array [[11, 211, -211, -321, ... 130, 22, 22]] type='10000 * var * int64'>"
      ]
     },
     "execution_count": 51,
     "metadata": {},
     "output_type": "execute_result"
    }
   ],
   "source": [
    "ak.from_awkward0(tree.array(\"pdg\"))"
   ]
  },
  {
   "cell_type": "code",
   "execution_count": 8,
   "metadata": {},
   "outputs": [
    {
     "data": {
      "text/plain": [
       "{'evt_id': <Array [0, 1, 2, 3, ... 9996, 9997, 9998, 9999] type='10000 * uint64'>,\n",
       " 'evt_true_q2': <Array [0, 0, 0, 0, 0, 0, ... 0, 0, 0, 0, 0, 0] type='10000 * float64'>,\n",
       " 'evt_true_x': <Array [0, 0, 0, 0, 0, 0, ... 0, 0, 0, 0, 0, 0] type='10000 * float64'>,\n",
       " 'evt_true_y': <Array [0, 0, 0, 0, 0, 0, ... 0, 0, 0, 0, 0, 0] type='10000 * float64'>,\n",
       " 'evt_true_w2': <Array [0, 0, 0, 0, 0, 0, ... 0, 0, 0, 0, 0, 0] type='10000 * float64'>,\n",
       " 'evt_true_nu': <Array [0, 0, 0, 0, 0, 0, ... 0, 0, 0, 0, 0, 0] type='10000 * float64'>,\n",
       " 'evt_has_dis_info': <Array [0, 0, 0, 0, 0, 0, ... 0, 0, 0, 0, 0, 0] type='10000 * int8'>,\n",
       " 'evt_prt_count': <Array [51, 26, 27, 28, 30, ... 37, 42, 25, 11] type='10000 * uint64'>,\n",
       " 'evt_weight': <Array [0, 0, 0, 0, 0, 0, ... 0, 0, 0, 0, 0, 0] type='10000 * float64'>,\n",
       " 'id': <Array [[12, 79, 80, 81, ... 54, 60, 61, 62]] type='10000 * var * uint64'>,\n",
       " 'pdg': <Array [[11, 211, -211, -321, ... 130, 22, 22]] type='10000 * var * int64'>,\n",
       " 'trk_id': <Array [[0, 0, 0, 0, 0, 0, ... 0, 0, 0, 0, 0]] type='10000 * var * float64'>,\n",
       " 'charge': <Array [[-1, 1, -1, -1, 1, ... -1, 1, 0, 0, 0]] type='10000 * var * float64'>,\n",
       " 'dir_x': <Array [[0.0276, 0.248, ... -0.215, -0.124]] type='10000 * var * float64'>,\n",
       " 'dir_y': <Array [[-0.159, -0.112, ... 0.243, 0.0141]] type='10000 * var * float64'>,\n",
       " 'dir_z': <Array [[0.987, -0.962, ... -0.946, -0.992]] type='10000 * var * float64'>,\n",
       " 'p': <Array [[3.26, 2.2, 2.29, ... 0.0956, 3.04]] type='10000 * var * float64'>,\n",
       " 'px': <Array [[-0.516, -0.246, ... -0.0205, -0.377]] type='10000 * var * float64'>,\n",
       " 'py': <Array [[0.0892, 0.548, ... 0.0232, 0.043]] type='10000 * var * float64'>,\n",
       " 'pz': <Array [[3.21, -2.11, ... -0.0904, -3.02]] type='10000 * var * float64'>,\n",
       " 'tot_e': <Array [[3.46, 2.25, 2.25, ... 0.109, 3.03]] type='10000 * var * float64'>,\n",
       " 'm': <Array [[0, 0, 0, 0, 0, 0, ... 0, 0, 0, 0, 0]] type='10000 * var * float64'>,\n",
       " 'time': <Array [[0, 0, 0, 0, 0, 0, ... 0, 0, 0, 0, 0]] type='10000 * var * float64'>,\n",
       " 'is_beam': <Array [[False, False, ... False, False]] type='10000 * var * bool'>,\n",
       " 'is_stable': <Array [[False, False, ... False, False]] type='10000 * var * bool'>,\n",
       " 'gen_code': <Array [[False, False, ... False, False]] type='10000 * var * bool'>,\n",
       " 'mother_id': <Array [[0, 0, 0, 0, 0, 0, ... 0, 0, 0, 0, 0]] type='10000 * var * uint64'>,\n",
       " 'mother_second_id': <Array [[0, 0, 0, 0, 0, 0, ... 0, 0, 0, 0, 0]] type='10000 * var * uint64'>,\n",
       " 'has_pol_info': <Array [[0, 0, 0, 0, 0, 0, ... 0, 0, 0, 0, 0]] type='10000 * var * float64'>,\n",
       " 'pol_x': <Array [[0, 0, 0, 0, 0, 0, ... 0, 0, 0, 0, 0]] type='10000 * var * float64'>,\n",
       " 'pol_y': <Array [[0, 0, 0, 0, 0, 0, ... 0, 0, 0, 0, 0]] type='10000 * var * float64'>,\n",
       " 'pol_z': <Array [[0, 0, 0, 0, 0, 0, ... 0, 0, 0, 0, 0]] type='10000 * var * float64'>,\n",
       " 'has_vtx_info': <Array [[True, True, True, ... True, True]] type='10000 * var * bool'>,\n",
       " 'vtx_id': <Array [[0, 0, 0, 0, 0, 0, ... 0, 0, 0, 0, 0]] type='10000 * var * uint64'>,\n",
       " 'vtx_x': <Array [[-0.000263, -0.0298, ... -0.0445]] type='10000 * var * float64'>,\n",
       " 'vtx_y': <Array [[0.008, -0.0308, ... -0.0137, -0.0137]] type='10000 * var * float64'>,\n",
       " 'vtx_z': <Array [[0.00735, 0.0124, ... -0.366, -0.366]] type='10000 * var * float64'>,\n",
       " 'vtx_t': <Array [[0, 2.48e-10, ... 0.371, 0.371]] type='10000 * var * float64'>,\n",
       " 'has_smear_info': <Array [[True, True, True, ... True, True]] type='10000 * var * bool'>,\n",
       " 'smear_has_e': <Array [[True, False, False, ... True, True]] type='10000 * var * bool'>,\n",
       " 'smear_has_p': <Array [[True, True, True, ... False, False]] type='10000 * var * bool'>,\n",
       " 'smear_has_pid': <Array [[False, False, ... False, False]] type='10000 * var * bool'>,\n",
       " 'smear_has_vtx': <Array [[True, True, True, ... False, False]] type='10000 * var * bool'>,\n",
       " 'smear_has_any_eppid': <Array [[True, True, True, ... True, True]] type='10000 * var * bool'>,\n",
       " 'smear_orig_tot_e': <Array [[3.24, 2.25, 2.25, ... 0.0956, 3.04]] type='10000 * var * float64'>,\n",
       " 'smear_orig_p': <Array [[3.24, 2.24, 2.25, ... 0.0956, 3.04]] type='10000 * var * float64'>,\n",
       " 'smear_orig_px': <Array [[0.0893, 0.557, ... -0.0205, -0.377]] type='10000 * var * float64'>,\n",
       " 'smear_orig_py': <Array [[-0.517, -0.251, ... 0.0232, 0.043]] type='10000 * var * float64'>,\n",
       " 'smear_orig_pz': <Array [[3.2, -2.16, ... -0.0904, -3.02]] type='10000 * var * float64'>,\n",
       " 'smear_orig_vtx_x': <Array [[0, -3.8e-12, ... -0.0445, -0.0445]] type='10000 * var * float64'>,\n",
       " 'smear_orig_vtx_y': <Array [[0, 7.25e-12, ... -0.0137, -0.0137]] type='10000 * var * float64'>,\n",
       " 'smear_orig_vtx_z': <Array [[0, -2.34e-10, ... -0.366, -0.366]] type='10000 * var * float64'>}"
      ]
     },
     "execution_count": 8,
     "metadata": {},
     "output_type": "execute_result"
    }
   ],
   "source": [
    "arrays = {name: ak.from_awkward0(array) for name, array in tree.arrays(namedecode=\"utf-8\").items()}\n",
    "arrays"
   ]
  },
  {
   "cell_type": "markdown",
   "metadata": {},
   "source": [
    "## Iteration in Python vs array-at-a-time operations\n",
    "\n",
    "As before, you _can_ iterate over them in Python, but only do that for small-scale exploration."
   ]
  },
  {
   "cell_type": "code",
   "execution_count": 53,
   "metadata": {},
   "outputs": [
    {
     "name": "stdout",
     "output_type": "stream",
     "text": [
      "10.5 s ± 0 ns per loop (mean ± std. dev. of 1 run, 1 loop each)\n"
     ]
    }
   ],
   "source": [
    "%%timeit -n1 -r1\n",
    "\n",
    "vtx_dist = []\n",
    "for xs, xy, xz in zip(arrays[\"vtx_x\"], arrays[\"vtx_y\"], arrays[\"vtx_z\"]):\n",
    "    out = []\n",
    "    for x, y, z in zip(xs, xy, xz):\n",
    "        out.append(np.sqrt(x**2 + y**2 + z**2))\n",
    "    vtx_dist.append(out)"
   ]
  },
  {
   "cell_type": "code",
   "execution_count": 54,
   "metadata": {},
   "outputs": [
    {
     "name": "stdout",
     "output_type": "stream",
     "text": [
      "24.9 ms ± 0 ns per loop (mean ± std. dev. of 1 run, 100 loops each)\n"
     ]
    }
   ],
   "source": [
    "%%timeit -n100 -r1\n",
    "\n",
    "vtx_dist = np.sqrt(arrays[\"vtx_x\"]**2 + arrays[\"vtx_y\"]**2 + arrays[\"vtx_z\"]**2)"
   ]
  },
  {
   "cell_type": "markdown",
   "metadata": {},
   "source": [
    "## Zipping arrays into records and projecting them back out\n",
    "\n",
    "Instead of having all these arrays floating around, let's [ak.zip](https://awkward-array.readthedocs.io/en/latest/_auto/ak.zip.html) them into a structure.\n",
    "\n",
    "(This is the sort of thing that a framework developer might do for the data analysts.)"
   ]
  },
  {
   "cell_type": "code",
   "execution_count": 55,
   "metadata": {
    "collapsed": true,
    "jupyter": {
     "outputs_hidden": true
    }
   },
   "outputs": [
    {
     "data": {
      "text/plain": [
       "\u001b[0;31mSignature:\u001b[0m\n",
       "\u001b[0mak\u001b[0m\u001b[0;34m.\u001b[0m\u001b[0mzip\u001b[0m\u001b[0;34m(\u001b[0m\u001b[0;34m\u001b[0m\n",
       "\u001b[0;34m\u001b[0m    \u001b[0marrays\u001b[0m\u001b[0;34m,\u001b[0m\u001b[0;34m\u001b[0m\n",
       "\u001b[0;34m\u001b[0m    \u001b[0mdepthlimit\u001b[0m\u001b[0;34m=\u001b[0m\u001b[0;32mNone\u001b[0m\u001b[0;34m,\u001b[0m\u001b[0;34m\u001b[0m\n",
       "\u001b[0;34m\u001b[0m    \u001b[0mparameters\u001b[0m\u001b[0;34m=\u001b[0m\u001b[0;32mNone\u001b[0m\u001b[0;34m,\u001b[0m\u001b[0;34m\u001b[0m\n",
       "\u001b[0;34m\u001b[0m    \u001b[0mwith_name\u001b[0m\u001b[0;34m=\u001b[0m\u001b[0;32mNone\u001b[0m\u001b[0;34m,\u001b[0m\u001b[0;34m\u001b[0m\n",
       "\u001b[0;34m\u001b[0m    \u001b[0mhighlevel\u001b[0m\u001b[0;34m=\u001b[0m\u001b[0;32mTrue\u001b[0m\u001b[0;34m,\u001b[0m\u001b[0;34m\u001b[0m\n",
       "\u001b[0;34m\u001b[0m\u001b[0;34m)\u001b[0m\u001b[0;34m\u001b[0m\u001b[0;34m\u001b[0m\u001b[0m\n",
       "\u001b[0;31mDocstring:\u001b[0m\n",
       "Args:\n",
       "    arrays (dict or iterable of arrays): Arrays to combine into a\n",
       "        record-containing structure (if a dict) or a tuple-containing\n",
       "        structure (if any other kind of iterable).\n",
       "    depthlimit (None or int): If None, attempt to fully broadcast the\n",
       "        `array` to all levels. If an int, limit the number of dimensions\n",
       "        that get broadcasted. The minimum value is `1`, for no\n",
       "        broadcasting.\n",
       "    parameters (dict): Parameters for the new #ak.layout.RecordArray node\n",
       "        that is created by this operation.\n",
       "    with_name (None or str): Assigns a `\"__record__\"` name to the new\n",
       "        #ak.layout.RecordArray node that is created by this operation\n",
       "        (overriding `parameters`, if necessary).\n",
       "    highlevel (bool): If True, return an #ak.Array; otherwise, return\n",
       "        a low-level #ak.layout.Content subclass.\n",
       "\n",
       "Combines `arrays` into a single structure as the fields of a collection\n",
       "of records or the slots of a collection of tuples. If the `arrays` have\n",
       "nested structure, they are broadcasted with one another to form the\n",
       "records or tuples as deeply as possible, though this can be limited by\n",
       "`depthlimit`.\n",
       "\n",
       "This operation may be thought of as the opposite of projection in\n",
       "#ak.Array.__getitem__, which extracts fields one at a time, or\n",
       "#ak.unzip, which extracts them all in one call.\n",
       "\n",
       "Consider the following arrays, `one` and `two`.\n",
       "\n",
       "    >>> one = ak.Array([[1.1, 2.2, 3.3], [], [4.4, 5.5], [6.6]])\n",
       "    >>> two = ak.Array([[\"a\", \"b\", \"c\"], [], [\"d\", \"e\"], [\"f\"]])\n",
       "\n",
       "Zipping them together using a dict creates a collection of records with\n",
       "the same nesting structure as `one` and `two`.\n",
       "\n",
       "    >>> ak.to_list(ak.zip({\"x\": one, \"y\": two}))\n",
       "    [\n",
       "     [{'x': 1.1, 'y': 'a'}, {'x': 2.2, 'y': 'b'}, {'x': 3.3, 'y': 'c'}],\n",
       "     [],\n",
       "     [{'x': 4.4, 'y': 'd'}, {'x': 5.5, 'y': 'e'}],\n",
       "     [{'x': 6.6, 'y': 'f'}]\n",
       "    ]\n",
       "\n",
       "Doing so with a list creates tuples, whose fields are not named.\n",
       "\n",
       "    >>> ak.to_list(ak.zip([one, two]))\n",
       "    [\n",
       "     [(1.1, 'a'), (2.2, 'b'), (3.3, 'c')],\n",
       "     [],\n",
       "     [(4.4, 'd'), (5.5, 'e')],\n",
       "     [(6.6, 'f')]\n",
       "    ]\n",
       "\n",
       "Adding a third array with the same length as `one` and `two` but less\n",
       "internal structure is okay: it gets broadcasted to match the others.\n",
       "(See #ak.broadcast_arrays for broadcasting rules.)\n",
       "\n",
       "    >>> three = ak.Array([100, 200, 300, 400])\n",
       "    >>> ak.to_list(ak.zip([one, two, three]))\n",
       "    [\n",
       "     [[(1.1, 97, 100)], [(2.2, 98, 100)], [(3.3, 99, 100)]],\n",
       "     [],\n",
       "     [[(4.4, 100, 300)], [(5.5, 101, 300)]],\n",
       "     [[(6.6, 102, 400)]]\n",
       "    ]\n",
       "\n",
       "However, if arrays have the same depth but different lengths of nested\n",
       "lists, attempting to zip them together is a broadcasting error.\n",
       "\n",
       "    >>> one = ak.Array([[[1, 2, 3], [], [4, 5], [6]], [], [[7, 8]]])\n",
       "    >>> two = ak.Array([[[1.1, 2.2], [3.3], [4.4], [5.5]], [], [[6.6]]])\n",
       "    >>> ak.zip([one, two])\n",
       "    ValueError: in ListArray64, cannot broadcast nested list\n",
       "\n",
       "For this, one can set the `depthlimit` to prevent the operation from\n",
       "attempting to broadcast what can't be broadcasted.\n",
       "\n",
       "    >>> ak.to_list(ak.zip([one, two], depthlimit=1))\n",
       "    [([[1, 2, 3], [], [4, 5], [6]], [[1.1, 2.2], [3.3], [4.4], [5.5]]),\n",
       "     ([], []),\n",
       "     ([[7, 8]], [[6.6]])]\n",
       "\n",
       "As an extreme, `depthlimit=1` is a handy way to make a record structure\n",
       "at the outermost level, regardless of whether the fields have matching\n",
       "structure or not.\n",
       "\u001b[0;31mFile:\u001b[0m      ~/irishep/awkward-1.0/awkward1/operations/structure.py\n",
       "\u001b[0;31mType:\u001b[0m      function\n"
      ]
     },
     "metadata": {},
     "output_type": "display_data"
    }
   ],
   "source": [
    "?ak.zip"
   ]
  },
  {
   "cell_type": "code",
   "execution_count": 9,
   "metadata": {},
   "outputs": [],
   "source": [
    "events = ak.zip({\"id\": arrays[\"evt_id\"],\n",
    "                 \"true\": ak.zip({\"q2\": arrays[\"evt_true_q2\"],\n",
    "                                 \"x\": arrays[\"evt_true_x\"],\n",
    "                                 \"y\": arrays[\"evt_true_y\"],\n",
    "                                 \"w2\": arrays[\"evt_true_w2\"],\n",
    "                                 \"nu\": arrays[\"evt_true_nu\"]}),\n",
    "                 \"has_dis_info\": arrays[\"evt_has_dis_info\"],\n",
    "                 \"prt_count\": arrays[\"evt_prt_count\"],\n",
    "                 \"prt\": ak.zip({\"id\": arrays[\"id\"],\n",
    "                                \"pdg\": arrays[\"pdg\"],\n",
    "                                \"trk_id\": arrays[\"trk_id\"],\n",
    "                                \"charge\": arrays[\"charge\"],\n",
    "                                \"dir\": ak.zip({\"x\": arrays[\"dir_x\"],\n",
    "                                               \"y\": arrays[\"dir_y\"],\n",
    "                                               \"z\": arrays[\"dir_z\"]}, with_name=\"point3\"),\n",
    "                                \"p\": arrays[\"p\"],\n",
    "                                \"px\": arrays[\"px\"],\n",
    "                                \"py\": arrays[\"py\"],\n",
    "                                \"pz\": arrays[\"pz\"],\n",
    "                                \"m\": arrays[\"m\"],\n",
    "                                \"time\": arrays[\"time\"],\n",
    "                                \"is_beam\": arrays[\"is_beam\"],\n",
    "                                \"is_stable\": arrays[\"is_stable\"],\n",
    "                                \"gen_code\": arrays[\"gen_code\"],\n",
    "                                \"mother\": ak.zip({\"id\": arrays[\"mother_id\"],\n",
    "                                                  \"second_id\": arrays[\"mother_second_id\"]}),\n",
    "                                \"pol\": ak.zip({\"has_info\": arrays[\"has_pol_info\"],\n",
    "                                               \"x\": arrays[\"pol_x\"],\n",
    "                                               \"y\": arrays[\"pol_y\"],\n",
    "                                               \"z\": arrays[\"pol_z\"]}, with_name=\"point3\"),\n",
    "                                \"vtx\": ak.zip({\"has_info\": arrays[\"has_vtx_info\"],\n",
    "                                               \"id\": arrays[\"vtx_id\"],\n",
    "                                               \"x\": arrays[\"vtx_x\"],\n",
    "                                               \"y\": arrays[\"vtx_y\"],\n",
    "                                               \"z\": arrays[\"vtx_z\"],\n",
    "                                               \"t\": arrays[\"vtx_t\"]}, with_name=\"point3\"),\n",
    "                                \"smear\": ak.zip({\"has_info\": arrays[\"has_smear_info\"],\n",
    "                                                 \"has_e\": arrays[\"smear_has_e\"],\n",
    "                                                 \"has_p\": arrays[\"smear_has_p\"],\n",
    "                                                 \"has_pid\": arrays[\"smear_has_pid\"],\n",
    "                                                 \"has_vtx\": arrays[\"smear_has_vtx\"],\n",
    "                                                 \"has_any_eppid\": arrays[\"smear_has_any_eppid\"],\n",
    "                                                 \"orig\": ak.zip({\"tot_e\": arrays[\"smear_orig_tot_e\"],\n",
    "                                                                 \"p\": arrays[\"smear_orig_p\"],\n",
    "                                                                 \"px\": arrays[\"smear_orig_px\"],\n",
    "                                                                 \"py\": arrays[\"smear_orig_py\"],\n",
    "                                                                 \"pz\": arrays[\"smear_orig_pz\"],\n",
    "                                                                 \"vtx\": ak.zip({\"x\": arrays[\"smear_orig_vtx_x\"],\n",
    "                                                                                \"y\": arrays[\"smear_orig_vtx_y\"],\n",
    "                                                                                \"z\": arrays[\"smear_orig_vtx_z\"]},\n",
    "                                                                               with_name=\"point3\")})})}, with_name=\"particle\")},\n",
    "                depthlimit=1)"
   ]
  },
  {
   "cell_type": "code",
   "execution_count": 57,
   "metadata": {
    "collapsed": true,
    "jupyter": {
     "outputs_hidden": true
    }
   },
   "outputs": [
    {
     "data": {
      "text/plain": [
       "\u001b[0;31mSignature:\u001b[0m \u001b[0mak\u001b[0m\u001b[0;34m.\u001b[0m\u001b[0mtype\u001b[0m\u001b[0;34m(\u001b[0m\u001b[0marray\u001b[0m\u001b[0;34m)\u001b[0m\u001b[0;34m\u001b[0m\u001b[0;34m\u001b[0m\u001b[0m\n",
       "\u001b[0;31mDocstring:\u001b[0m\n",
       "The high-level type of an `array` (many types supported, including all\n",
       "Awkward Arrays and Records) as #ak.types.Type objects.\n",
       "\n",
       "The high-level type ignores #layout differences like\n",
       "#ak.layout.ListArray64 versus #ak.layout.ListOffsetArray64, but\n",
       "not differences like \"regular-sized lists\" (i.e.\n",
       "#ak.layout.RegularArray) versus \"variable-sized lists\" (i.e.\n",
       "#ak.layout.ListArray64 and similar).\n",
       "\n",
       "Types are rendered as [Datashape](https://datashape.readthedocs.io/)\n",
       "strings, which makes the same distinctions.\n",
       "\n",
       "For example,\n",
       "\n",
       "    ak.Array([[{\"x\": 1.1, \"y\": [1]}, {\"x\": 2.2, \"y\": [2, 2]}],\n",
       "              [],\n",
       "              [{\"x\": 3.3, \"y\": [3, 3, 3]}]])\n",
       "\n",
       "has type\n",
       "\n",
       "    3 * var * {\"x\": float64, \"y\": var * int64}\n",
       "\n",
       "but\n",
       "\n",
       "    ak.Array(np.arange(2*3*5).reshape(2, 3, 5))\n",
       "\n",
       "has type\n",
       "\n",
       "    2 * 3 * 5 * int64\n",
       "\n",
       "Some cases, like heterogeneous data, require [extensions beyond the\n",
       "Datashape specification](https://github.com/blaze/datashape/issues/237).\n",
       "For example,\n",
       "\n",
       "    ak.Array([1, \"two\", [3, 3, 3]])\n",
       "\n",
       "has type\n",
       "\n",
       "    3 * union[int64, string, var * int64]\n",
       "\n",
       "but \"union\" is not a Datashape type-constructor. (Its syntax is\n",
       "similar to existing type-constructors, so it's a plausible addition\n",
       "to the language.)\n",
       "\u001b[0;31mFile:\u001b[0m      ~/irishep/awkward-1.0/awkward1/operations/describe.py\n",
       "\u001b[0;31mType:\u001b[0m      function\n"
      ]
     },
     "metadata": {},
     "output_type": "display_data"
    }
   ],
   "source": [
    "?ak.type"
   ]
  },
  {
   "cell_type": "code",
   "execution_count": 58,
   "metadata": {},
   "outputs": [
    {
     "data": {
      "text/plain": [
       "10000 * {\"id\": uint64, \"true\": {\"q2\": float64, \"x\": float64, \"y\": float64, \"w2\": float64, \"nu\": float64}, \"has_dis_info\": int8, \"prt_count\": uint64, \"prt\": var * particle[\"id\": uint64, \"pdg\": int64, \"trk_id\": float64, \"charge\": float64, \"dir\": point3[\"x\": float64, \"y\": float64, \"z\": float64], \"p\": float64, \"px\": float64, \"py\": float64, \"pz\": float64, \"m\": float64, \"time\": float64, \"is_beam\": bool, \"is_stable\": bool, \"gen_code\": bool, \"mother\": {\"id\": uint64, \"second_id\": uint64}, \"pol\": point3[\"has_info\": float64, \"x\": float64, \"y\": float64, \"z\": float64], \"vtx\": point3[\"has_info\": bool, \"id\": uint64, \"x\": float64, \"y\": float64, \"z\": float64, \"t\": float64], \"smear\": {\"has_info\": bool, \"has_e\": bool, \"has_p\": bool, \"has_pid\": bool, \"has_vtx\": bool, \"has_any_eppid\": bool, \"orig\": {\"tot_e\": float64, \"p\": float64, \"px\": float64, \"py\": float64, \"pz\": float64, \"vtx\": point3[\"x\": float64, \"y\": float64, \"z\": float64]}}]}"
      ]
     },
     "execution_count": 58,
     "metadata": {},
     "output_type": "execute_result"
    }
   ],
   "source": [
    "ak.type(events)"
   ]
  },
  {
   "cell_type": "markdown",
   "metadata": {},
   "source": [
    "The type written with better formatting:\n",
    "\n",
    "```javascript\n",
    "10000 * {\"id\": uint64,\n",
    "         \"true\": {\"q2\": float64,\n",
    "                  \"x\": float64,\n",
    "                  \"y\": float64,\n",
    "                  \"w2\": float64,\n",
    "                  \"nu\": float64},\n",
    "         \"has_dis_info\": int8,\n",
    "         \"prt_count\": uint64,\n",
    "\n",
    "         \"prt\": var * particle[\"id\": uint64,\n",
    "                               \"pdg\": int64,\n",
    "                               \"trk_id\": float64,\n",
    "                               \"charge\": float64,\n",
    "                               \"dir\": point3[\"x\": float64, \"y\": float64, \"z\": float64],\n",
    "                               \"p\": float64,\n",
    "                               \"px\": float64,\n",
    "                               \"py\": float64,\n",
    "                               \"pz\": float64,\n",
    "                               \"m\": float64,\n",
    "                               \"time\": float64,\n",
    "                               \"is_beam\": bool,\n",
    "                               \"is_stable\": bool,\n",
    "                               \"gen_code\": bool,\n",
    "                               \"mother\": {\"id\": uint64, \"second_id\": uint64},\n",
    "                               \"pol\": point3[\"has_info\": float64,\n",
    "                                             \"x\": float64,\n",
    "                                             \"y\": float64,\n",
    "                                             \"z\": float64],\n",
    "                               \"vtx\": point3[\"has_info\": bool,\n",
    "                                             \"id\": uint64,\n",
    "                                             \"x\": float64,\n",
    "                                             \"y\": float64,\n",
    "                                             \"z\": float64,\n",
    "                                             \"t\": float64],\n",
    "                               \"smear\": {\"has_info\": bool,\n",
    "                                         \"has_e\": bool,\n",
    "                                         \"has_p\": bool,\n",
    "                                         \"has_pid\": bool,\n",
    "                                         \"has_vtx\": bool,\n",
    "                                         \"has_any_eppid\": bool,\n",
    "                                         \"orig\": {\"tot_e\":\n",
    "                                                  float64,\n",
    "                                                  \"p\": float64,\n",
    "                                                  \"px\": float64,\n",
    "                                                  \"py\": float64,\n",
    "                                                  \"pz\": float64,\n",
    "                                                  \"vtx\": point3[\"x\": float64,\n",
    "                                                                \"y\": float64,\n",
    "                                                                \"z\": float64]}}]}\n",
    "```"
   ]
  },
  {
   "cell_type": "markdown",
   "metadata": {},
   "source": [
    "It means that these are now nested objects."
   ]
  },
  {
   "cell_type": "code",
   "execution_count": 59,
   "metadata": {
    "collapsed": true,
    "jupyter": {
     "outputs_hidden": true
    }
   },
   "outputs": [
    {
     "data": {
      "text/plain": [
       "\u001b[0;31mSignature:\u001b[0m \u001b[0mak\u001b[0m\u001b[0;34m.\u001b[0m\u001b[0mto_list\u001b[0m\u001b[0;34m(\u001b[0m\u001b[0marray\u001b[0m\u001b[0;34m)\u001b[0m\u001b[0;34m\u001b[0m\u001b[0;34m\u001b[0m\u001b[0m\n",
       "\u001b[0;31mDocstring:\u001b[0m\n",
       "Converts `array` (many types supported, including all Awkward Arrays and\n",
       "Records) into Python objects.\n",
       "\n",
       "Awkward Array types have the following Pythonic translations.\n",
       "\n",
       "   * #ak.types.PrimitiveType: converted into bool, int, float.\n",
       "   * #ak.types.OptionType: missing values are converted into None.\n",
       "   * #ak.types.ListType: converted into list.\n",
       "   * #ak.types.RegularType: also converted into list. Python (and JSON)\n",
       "     forms lose information about the regularity of list lengths.\n",
       "   * #ak.types.ListType with parameter `\"__array__\"` equal to\n",
       "     `\"__bytestring__\"`: converted into bytes.\n",
       "   * #ak.types.ListType with parameter `\"__array__\"` equal to\n",
       "     `\"__string__\"`: converted into str.\n",
       "   * #ak.types.RecordArray without field names: converted into tuple.\n",
       "   * #ak.types.RecordArray with field names: converted into dict.\n",
       "   * #ak.types.UnionArray: Python data are naturally heterogeneous.\n",
       "\n",
       "See also #ak.from_iter and #ak.Array.tolist.\n",
       "\u001b[0;31mFile:\u001b[0m      ~/irishep/awkward-1.0/awkward1/operations/convert.py\n",
       "\u001b[0;31mType:\u001b[0m      function\n"
      ]
     },
     "metadata": {},
     "output_type": "display_data"
    }
   ],
   "source": [
    "?ak.to_list"
   ]
  },
  {
   "cell_type": "code",
   "execution_count": 60,
   "metadata": {},
   "outputs": [
    {
     "data": {
      "text/plain": [
       "{'id': 12,\n",
       " 'pdg': 11,\n",
       " 'trk_id': 0.0,\n",
       " 'charge': -1.0,\n",
       " 'dir': {'x': 0.027552974158427224,\n",
       "  'y': -0.159486986156017,\n",
       "  'z': 0.9868154512683186},\n",
       " 'p': 3.2559399993304847,\n",
       " 'px': -0.5164342370904987,\n",
       " 'py': 0.08917945577907008,\n",
       " 'pz': 3.2134853325739483,\n",
       " 'm': 0.0,\n",
       " 'time': 0.0,\n",
       " 'is_beam': False,\n",
       " 'is_stable': False,\n",
       " 'gen_code': False,\n",
       " 'mother': {'id': 0, 'second_id': 0},\n",
       " 'pol': {'has_info': 0.0, 'x': 0.0, 'y': 0.0, 'z': 0.0},\n",
       " 'vtx': {'has_info': True,\n",
       "  'id': 0,\n",
       "  'x': -0.0002629100828319597,\n",
       "  'y': 0.008004273764408541,\n",
       "  'z': 0.007348471013211623,\n",
       "  't': 0.0},\n",
       " 'smear': {'has_info': True,\n",
       "  'has_e': True,\n",
       "  'has_p': True,\n",
       "  'has_pid': False,\n",
       "  'has_vtx': True,\n",
       "  'has_any_eppid': True,\n",
       "  'orig': {'tot_e': 3.2399370783466463,\n",
       "   'p': 3.239937038049433,\n",
       "   'px': 0.08926990148430726,\n",
       "   'py': -0.5167277935337566,\n",
       "   'pz': 3.1972199302836906,\n",
       "   'vtx': {'x': 0.0, 'y': 0.0, 'z': 0.0}}}}"
      ]
     },
     "execution_count": 60,
     "metadata": {},
     "output_type": "execute_result"
    }
   ],
   "source": [
    "ak.to_list(events[0].prt[0])"
   ]
  },
  {
   "cell_type": "code",
   "execution_count": 61,
   "metadata": {},
   "outputs": [
    {
     "data": {
      "text/plain": [
       "[{'x': 0.0, 'y': 0.0, 'z': 0.0},\n",
       " {'x': -6.110853575363856e-12,\n",
       "  'y': -2.4888797620237205e-12,\n",
       "  'z': -1.0095678734711646e-10},\n",
       " {'x': -7.214024530021195e-12,\n",
       "  'y': -2.801047134360359e-12,\n",
       "  'z': -1.0233975313075053e-10},\n",
       " {'x': -5.4919761268507726e-12,\n",
       "  'y': -2.917934387215646e-12,\n",
       "  'z': -1.1234062954467295e-10},\n",
       " {'x': -5.4919761268507726e-12,\n",
       "  'y': -2.917934387215646e-12,\n",
       "  'z': -1.1234062954467295e-10},\n",
       " {'x': -2.1591646092697467, 'y': 0.9341721743864254, 'z': -527.4931103722447},\n",
       " {'x': -0.04441591031302863,\n",
       "  'y': -0.01372127111440278,\n",
       "  'z': -0.36504834939127456},\n",
       " {'x': -0.04441591031302863,\n",
       "  'y': -0.01372127111440278,\n",
       "  'z': -0.36504834939127456},\n",
       " {'x': -0.04441591031302863,\n",
       "  'y': -0.01372127111440278,\n",
       "  'z': -0.36504834939127456},\n",
       " {'x': -0.04451351075293813,\n",
       "  'y': -0.013705013997490656,\n",
       "  'z': -0.36581179515431195}]"
      ]
     },
     "execution_count": 61,
     "metadata": {},
     "output_type": "execute_result"
    }
   ],
   "source": [
    "ak.to_list(events[-1].prt[:10].smear.orig.vtx)"
   ]
  },
  {
   "cell_type": "markdown",
   "metadata": {},
   "source": [
    "Alternatively,"
   ]
  },
  {
   "cell_type": "code",
   "execution_count": 62,
   "metadata": {},
   "outputs": [
    {
     "data": {
      "text/plain": [
       "[{'x': 0.0, 'y': 0.0, 'z': 0.0},\n",
       " {'x': -6.110853575363856e-12,\n",
       "  'y': -2.4888797620237205e-12,\n",
       "  'z': -1.0095678734711646e-10},\n",
       " {'x': -7.214024530021195e-12,\n",
       "  'y': -2.801047134360359e-12,\n",
       "  'z': -1.0233975313075053e-10},\n",
       " {'x': -5.4919761268507726e-12,\n",
       "  'y': -2.917934387215646e-12,\n",
       "  'z': -1.1234062954467295e-10},\n",
       " {'x': -5.4919761268507726e-12,\n",
       "  'y': -2.917934387215646e-12,\n",
       "  'z': -1.1234062954467295e-10},\n",
       " {'x': -2.1591646092697467, 'y': 0.9341721743864254, 'z': -527.4931103722447},\n",
       " {'x': -0.04441591031302863,\n",
       "  'y': -0.01372127111440278,\n",
       "  'z': -0.36504834939127456},\n",
       " {'x': -0.04441591031302863,\n",
       "  'y': -0.01372127111440278,\n",
       "  'z': -0.36504834939127456},\n",
       " {'x': -0.04441591031302863,\n",
       "  'y': -0.01372127111440278,\n",
       "  'z': -0.36504834939127456},\n",
       " {'x': -0.04451351075293813,\n",
       "  'y': -0.013705013997490656,\n",
       "  'z': -0.36581179515431195}]"
      ]
     },
     "execution_count": 62,
     "metadata": {},
     "output_type": "execute_result"
    }
   ],
   "source": [
    "ak.to_list(events[-1, \"prt\", :10, \"smear\", \"orig\", \"vtx\"])"
   ]
  },
  {
   "cell_type": "markdown",
   "metadata": {},
   "source": [
    "<img src=\"../docs-images/diagrams/how-it-works-muons.png\" width=\"1000\">"
   ]
  },
  {
   "cell_type": "markdown",
   "metadata": {},
   "source": [
    "\"Zipping\" arrays together into structures costs nothing (time does not scale with size of data), nor does \"projecting\" arrays out of structures."
   ]
  },
  {
   "cell_type": "code",
   "execution_count": 63,
   "metadata": {},
   "outputs": [
    {
     "data": {
      "text/plain": [
       "<Array [[-0.516, -0.246, ... -0.0205, -0.377]] type='10000 * var * float64'>"
      ]
     },
     "execution_count": 63,
     "metadata": {},
     "output_type": "execute_result"
    }
   ],
   "source": [
    "events.prt.px"
   ]
  },
  {
   "cell_type": "code",
   "execution_count": 64,
   "metadata": {},
   "outputs": [
    {
     "data": {
      "text/plain": [
       "<Array [[0.0892, 0.548, ... 0.0232, 0.043]] type='10000 * var * float64'>"
      ]
     },
     "execution_count": 64,
     "metadata": {},
     "output_type": "execute_result"
    }
   ],
   "source": [
    "events.prt.py"
   ]
  },
  {
   "cell_type": "code",
   "execution_count": 65,
   "metadata": {},
   "outputs": [
    {
     "data": {
      "text/plain": [
       "<Array [[3.21, -2.11, ... -0.0904, -3.02]] type='10000 * var * float64'>"
      ]
     },
     "execution_count": 65,
     "metadata": {},
     "output_type": "execute_result"
    }
   ],
   "source": [
    "events.prt.pz"
   ]
  },
  {
   "cell_type": "markdown",
   "metadata": {},
   "source": [
    "This is called \"projection\" because the request for `\"pz\"` is slicing through arrays and jagged arrays.\n",
    "\n",
    "The following are equivalent:"
   ]
  },
  {
   "cell_type": "code",
   "execution_count": 66,
   "metadata": {},
   "outputs": [
    {
     "data": {
      "text/plain": [
       "-1.2469826742751766"
      ]
     },
     "execution_count": 66,
     "metadata": {},
     "output_type": "execute_result"
    }
   ],
   "source": [
    "events[999, \"prt\", 12, \"pz\"]"
   ]
  },
  {
   "cell_type": "code",
   "execution_count": 67,
   "metadata": {},
   "outputs": [
    {
     "data": {
      "text/plain": [
       "-1.2469826742751766"
      ]
     },
     "execution_count": 67,
     "metadata": {},
     "output_type": "execute_result"
    }
   ],
   "source": [
    "events[\"prt\", 999, 12, \"pz\"]"
   ]
  },
  {
   "cell_type": "code",
   "execution_count": 68,
   "metadata": {},
   "outputs": [
    {
     "data": {
      "text/plain": [
       "-1.2469826742751766"
      ]
     },
     "execution_count": 68,
     "metadata": {},
     "output_type": "execute_result"
    }
   ],
   "source": [
    "events[999, \"prt\", \"pz\", 12]"
   ]
  },
  {
   "cell_type": "code",
   "execution_count": 69,
   "metadata": {},
   "outputs": [
    {
     "data": {
      "text/plain": [
       "-1.2469826742751766"
      ]
     },
     "execution_count": 69,
     "metadata": {},
     "output_type": "execute_result"
    }
   ],
   "source": [
    "events[\"prt\", 999, \"pz\", 12]"
   ]
  },
  {
   "cell_type": "markdown",
   "metadata": {},
   "source": [
    "This \"object oriented view\" is a conceptual aid, not a constraint on computation. It's very fluid.\n",
    "\n",
    "Moreover, we can add behaviors to named records, like methods in object oriented programming. (See [ak.behavior](https://awkward-array.readthedocs.io/en/latest/ak.behavior.html) in the documentation.)\n",
    "\n",
    "(This is the sort of thing that a framework developer might do for the data analysts.)"
   ]
  },
  {
   "cell_type": "code",
   "execution_count": 10,
   "metadata": {},
   "outputs": [],
   "source": [
    "def point3_absolute(data):\n",
    "    return np.sqrt(data.x**2 + data.y**2 + data.z**2)\n",
    "\n",
    "def point3_distance(left, right):\n",
    "    return np.sqrt((left.x - right.x)**2 + (left.y - right.y)**2 + (left.z - right.z)**2)\n",
    "\n",
    "ak.behavior[np.absolute, \"point3\"] = point3_absolute\n",
    "ak.behavior[np.subtract, \"point3\", \"point3\"] = point3_distance"
   ]
  },
  {
   "cell_type": "code",
   "execution_count": 71,
   "metadata": {},
   "outputs": [
    {
     "data": {
      "text/plain": [
       "<Array [[0, 2.34e-10, ... 0.369, 0.369]] type='10000 * var * float64'>"
      ]
     },
     "execution_count": 71,
     "metadata": {},
     "output_type": "execute_result"
    }
   ],
   "source": [
    "# Absolute value of all smear origin vertexes\n",
    "abs(events.prt.smear.orig.vtx)"
   ]
  },
  {
   "cell_type": "code",
   "execution_count": 72,
   "metadata": {},
   "outputs": [
    {
     "data": {
      "text/plain": [
       "0.3687648973563558"
      ]
     },
     "execution_count": 72,
     "metadata": {},
     "output_type": "execute_result"
    }
   ],
   "source": [
    "# Absolute value of the last smear origin vertex\n",
    "abs(events[-1].prt[-1].smear.orig.vtx)"
   ]
  },
  {
   "cell_type": "code",
   "execution_count": 73,
   "metadata": {},
   "outputs": [
    {
     "data": {
      "text/plain": [
       "<Array [[0, 0, 0, 0, 0, 0, ... 0, 0, 0, 0, 0]] type='10000 * var * float64'>"
      ]
     },
     "execution_count": 73,
     "metadata": {},
     "output_type": "execute_result"
    }
   ],
   "source": [
    "# Distance between each particle vertex and itself\n",
    "events.prt.vtx - events.prt.vtx"
   ]
  },
  {
   "cell_type": "code",
   "execution_count": 74,
   "metadata": {},
   "outputs": [
    {
     "data": {
      "text/plain": [
       "<Array [3.18, 0.0284, 0.554, ... 45.1, 0.142] type='100 * float64'>"
      ]
     },
     "execution_count": 74,
     "metadata": {},
     "output_type": "execute_result"
    }
   ],
   "source": [
    "# Distances between the first and last particle vertexes in the first 100 events\n",
    "events.prt.vtx[:100, 0] - events.prt.vtx[:100, -1]"
   ]
  },
  {
   "cell_type": "markdown",
   "metadata": {},
   "source": [
    "More methods can be added by declaring subclasses of arrays and records."
   ]
  },
  {
   "cell_type": "code",
   "execution_count": 11,
   "metadata": {},
   "outputs": [],
   "source": [
    "class ParticleRecord(ak.Record):    \n",
    "    @property\n",
    "    def pt(self):\n",
    "        return np.sqrt(self.px**2 + self.py**2)\n",
    "\n",
    "class ParticleArray(ak.Array):\n",
    "    __name__ = \"Array\"   # prevent it from writing <ParticleArray [...] type='...'>\n",
    "                         # instead of              <Array [...] type='...'>\n",
    "    @property\n",
    "    def pt(self):\n",
    "        return np.sqrt(self.px**2 + self.py**2)\n",
    "\n",
    "ak.behavior[\"particle\"] = ParticleRecord\n",
    "ak.behavior[\"*\", \"particle\"] = ParticleArray"
   ]
  },
  {
   "cell_type": "code",
   "execution_count": 76,
   "metadata": {},
   "outputs": [
    {
     "data": {
      "text/plain": [
       "__main__.ParticleRecord"
      ]
     },
     "execution_count": 76,
     "metadata": {},
     "output_type": "execute_result"
    }
   ],
   "source": [
    "type(events[0].prt[0])"
   ]
  },
  {
   "cell_type": "code",
   "execution_count": 77,
   "metadata": {},
   "outputs": [
    {
     "data": {
      "text/plain": [
       "<ParticleRecord ... vtx: {x: 0, y: 0, z: 0}}}} type='particle[\"id\": uint64, \"pdg...'>"
      ]
     },
     "execution_count": 77,
     "metadata": {},
     "output_type": "execute_result"
    }
   ],
   "source": [
    "events[0].prt[0]"
   ]
  },
  {
   "cell_type": "code",
   "execution_count": 78,
   "metadata": {},
   "outputs": [
    {
     "data": {
      "text/plain": [
       "0.5240775673240523"
      ]
     },
     "execution_count": 78,
     "metadata": {},
     "output_type": "execute_result"
    }
   ],
   "source": [
    "events[0].prt[0].pt"
   ]
  },
  {
   "cell_type": "code",
   "execution_count": 79,
   "metadata": {},
   "outputs": [
    {
     "data": {
      "text/plain": [
       "__main__.ParticleArray"
      ]
     },
     "execution_count": 79,
     "metadata": {},
     "output_type": "execute_result"
    }
   ],
   "source": [
    "type(events.prt)"
   ]
  },
  {
   "cell_type": "code",
   "execution_count": 80,
   "metadata": {},
   "outputs": [
    {
     "data": {
      "text/plain": [
       "<Array [[{id: 12, pdg: 11, trk_id: 0, ... ] type='10000 * var * particle[\"id\": u...'>"
      ]
     },
     "execution_count": 80,
     "metadata": {},
     "output_type": "execute_result"
    }
   ],
   "source": [
    "events.prt"
   ]
  },
  {
   "cell_type": "code",
   "execution_count": 81,
   "metadata": {},
   "outputs": [
    {
     "data": {
      "text/plain": [
       "<Array [[0.524, 0.601, 0.72, ... 0.031, 0.38]] type='10000 * var * float64'>"
      ]
     },
     "execution_count": 81,
     "metadata": {},
     "output_type": "execute_result"
    }
   ],
   "source": [
    "events.prt.pt"
   ]
  },
  {
   "cell_type": "markdown",
   "metadata": {},
   "source": [
    "## Filtering (cutting) events and particles with advanced selections\n",
    "\n",
    "NumPy has a versatile selection mechanism:\n",
    "\n",
    "<img src=\"https://raw.githubusercontent.com/jpivarski/2019-07-23-codas-hep/master/img/numpy-slicing.png\" width=\"300\">\n",
    "\n",
    "The same expressions apply to Awkward Arrays, and more."
   ]
  },
  {
   "cell_type": "code",
   "execution_count": 82,
   "metadata": {},
   "outputs": [
    {
     "data": {
      "text/plain": [
       "<Array [3.26, 15.8, 17.9, 14.5, 7.33] type='5 * float64'>"
      ]
     },
     "execution_count": 82,
     "metadata": {},
     "output_type": "execute_result"
    }
   ],
   "source": [
    "# First particle momentum in the first 5 events\n",
    "events.prt.p[:5, 0]"
   ]
  },
  {
   "cell_type": "code",
   "execution_count": 83,
   "metadata": {},
   "outputs": [
    {
     "data": {
      "text/plain": [
       "<Array [[11, 211], [11, ... 2112], [11, -211]] type='10000 * var * int64'>"
      ]
     },
     "execution_count": 83,
     "metadata": {},
     "output_type": "execute_result"
    }
   ],
   "source": [
    "# First two particles in all events\n",
    "events.prt.pdg[:, :2]"
   ]
  },
  {
   "cell_type": "code",
   "execution_count": 84,
   "metadata": {},
   "outputs": [
    {
     "data": {
      "text/plain": [
       "<Record {x: 0.0809, y: 0.0151, z: 0.997} type='point3[\"x\": float64, \"y\": float64...'>"
      ]
     },
     "execution_count": 84,
     "metadata": {},
     "output_type": "execute_result"
    }
   ],
   "source": [
    "# First direction of the last event\n",
    "events.prt.dir[-1, 0]"
   ]
  },
  {
   "cell_type": "markdown",
   "metadata": {},
   "source": [
    "NumPy also lets you filter (cut) using an array of booleans."
   ]
  },
  {
   "cell_type": "code",
   "execution_count": 85,
   "metadata": {},
   "outputs": [
    {
     "data": {
      "text/plain": [
       "<Array [False, False, False, ... False, False] type='10000 * bool'>"
      ]
     },
     "execution_count": 85,
     "metadata": {},
     "output_type": "execute_result"
    }
   ],
   "source": [
    "events.prt_count > 100"
   ]
  },
  {
   "cell_type": "code",
   "execution_count": 86,
   "metadata": {},
   "outputs": [
    {
     "data": {
      "text/plain": [
       "16"
      ]
     },
     "execution_count": 86,
     "metadata": {},
     "output_type": "execute_result"
    }
   ],
   "source": [
    "np.count_nonzero(events.prt_count > 100)"
   ]
  },
  {
   "cell_type": "code",
   "execution_count": 87,
   "metadata": {},
   "outputs": [
    {
     "data": {
      "text/plain": [
       "<Array [{id: 734, true: {q2: 0, x: 0, ... ] type='16 * {\"id\": uint64, \"true\": {\"...'>"
      ]
     },
     "execution_count": 87,
     "metadata": {},
     "output_type": "execute_result"
    }
   ],
   "source": [
    "events[events.prt_count > 100]"
   ]
  },
  {
   "cell_type": "markdown",
   "metadata": {},
   "source": [
    "One dimension can be selected with an array while another is selected with a slice."
   ]
  },
  {
   "cell_type": "code",
   "execution_count": 88,
   "metadata": {},
   "outputs": [
    {
     "data": {
      "text/plain": [
       "<Array [[{id: 12, pdg: 11, trk_id: 0, ... ] type='9963 * var * particle[\"id\": ui...'>"
      ]
     },
     "execution_count": 88,
     "metadata": {},
     "output_type": "execute_result"
    }
   ],
   "source": [
    "# Select events with at least two particles, then select the first two particles\n",
    "events.prt[events.prt_count >= 2, :2]"
   ]
  },
  {
   "cell_type": "markdown",
   "metadata": {},
   "source": [
    "This can be a good way to avoid errors from trying to select what isn't there."
   ]
  },
  {
   "cell_type": "code",
   "execution_count": 89,
   "metadata": {},
   "outputs": [
    {
     "name": "stdout",
     "output_type": "stream",
     "text": [
      "ValueError in ListArray64 attempting to get 0, index out of range\n"
     ]
    }
   ],
   "source": [
    "try:\n",
    "    events.prt[:, 0]\n",
    "except Exception as err:\n",
    "    print(type(err).__name__, str(err))"
   ]
  },
  {
   "cell_type": "code",
   "execution_count": 90,
   "metadata": {},
   "outputs": [
    {
     "data": {
      "text/plain": [
       "<Array [{id: 12, pdg: 11, trk_id: 0, ... ] type='9964 * particle[\"id\": uint64, \"...'>"
      ]
     },
     "execution_count": 90,
     "metadata": {},
     "output_type": "execute_result"
    }
   ],
   "source": [
    "events.prt[events.prt_count > 0, 0]"
   ]
  },
  {
   "cell_type": "markdown",
   "metadata": {},
   "source": [
    "See also [awkward-array.readthedocs.io](https://awkward-array.readthedocs.io/) for a list of operations like [ak.num](https://awkward-array.readthedocs.io/en/latest/_auto/ak.num.html):"
   ]
  },
  {
   "cell_type": "code",
   "execution_count": 91,
   "metadata": {
    "collapsed": true,
    "jupyter": {
     "outputs_hidden": true
    }
   },
   "outputs": [
    {
     "data": {
      "text/plain": [
       "\u001b[0;31mSignature:\u001b[0m \u001b[0mak\u001b[0m\u001b[0;34m.\u001b[0m\u001b[0mnum\u001b[0m\u001b[0;34m(\u001b[0m\u001b[0marray\u001b[0m\u001b[0;34m,\u001b[0m \u001b[0maxis\u001b[0m\u001b[0;34m=\u001b[0m\u001b[0;36m1\u001b[0m\u001b[0;34m,\u001b[0m \u001b[0mhighlevel\u001b[0m\u001b[0;34m=\u001b[0m\u001b[0;32mTrue\u001b[0m\u001b[0;34m)\u001b[0m\u001b[0;34m\u001b[0m\u001b[0;34m\u001b[0m\u001b[0m\n",
       "\u001b[0;31mDocstring:\u001b[0m\n",
       "Args:\n",
       "    array: Data containing nested lists to count.\n",
       "    axis (int): The dimension at which this operation is applied. The\n",
       "        outermost dimension is `0`, followed by `1`, etc., and negative\n",
       "        values count backward from the innermost: `-1` is the innermost\n",
       "        dimension, `-2` is the next level up, etc.\n",
       "    highlevel (bool): If True, return an #ak.Array; otherwise, return\n",
       "        a low-level #ak.layout.Content subclass.\n",
       "\n",
       "Returns an array of integers specifying the number of elements at a\n",
       "particular level.\n",
       "\n",
       "For instance, given the following doubly nested `array`,\n",
       "\n",
       "    ak.Array([[\n",
       "               [1.1, 2.2, 3.3],\n",
       "               [],\n",
       "               [4.4, 5.5],\n",
       "               [6.6]\n",
       "              ],\n",
       "              [],\n",
       "              [\n",
       "               [7.7],\n",
       "               [8.8, 9.9]]\n",
       "              ])\n",
       "\n",
       "The number of elements in `axis=1` is\n",
       "\n",
       "    >>> ak.num(array, axis=1)\n",
       "    <Array [4, 0, 2] type='3 * int64'>\n",
       "\n",
       "and the number of elements at the next level down, `axis=2`, is\n",
       "\n",
       "    >>> ak.num(array, axis=2)\n",
       "    <Array [[3, 0, 2, 1], [], [1, 2]] type='3 * var * int64'>\n",
       "\n",
       "The `axis=0` case is special: it returns a scalar, the length of the array.\n",
       "\n",
       "    >>> ak.num(array, axis=0)\n",
       "    3\n",
       "\n",
       "This function is useful for ensuring that slices do not raise errors. For\n",
       "instance, suppose that we want to select the first element from each\n",
       "of the outermost nested lists of `array`. One of these lists is empty, so\n",
       "selecting the first element (`0`) would raise an error. However, if our\n",
       "first selection is `ak.num(array) > 0`, we are left with only those lists\n",
       "that *do* have a first element:\n",
       "\n",
       "    >>> array[ak.num(array) > 0, 0]\n",
       "    <Array [[1.1, 2.2, 3.3], [7.7]] type='2 * var * float64'>\n",
       "\n",
       "To keep a placeholder (None) in each place we do not want to select,\n",
       "consider using #ak.mask instead of a #ak.Array.__getitem__.\n",
       "\n",
       "    >>> ak.mask(array, ak.num(array) > 0)[:, 0]\n",
       "    <Array [[1.1, 2.2, 3.3], None, [7.7]] type='3 * option[var * float64]'>\n",
       "\u001b[0;31mFile:\u001b[0m      ~/irishep/awkward-1.0/awkward1/operations/structure.py\n",
       "\u001b[0;31mType:\u001b[0m      function\n"
      ]
     },
     "metadata": {},
     "output_type": "display_data"
    }
   ],
   "source": [
    "?ak.num"
   ]
  },
  {
   "cell_type": "code",
   "execution_count": 92,
   "metadata": {},
   "outputs": [
    {
     "data": {
      "text/plain": [
       "(<Array [51, 26, 27, 28, 30, ... 37, 42, 25, 11] type='10000 * int64'>,\n",
       " <Array [51, 26, 27, 28, 30, ... 37, 42, 25, 11] type='10000 * uint64'>)"
      ]
     },
     "execution_count": 92,
     "metadata": {},
     "output_type": "execute_result"
    }
   ],
   "source": [
    "ak.num(events.prt), events.prt_count"
   ]
  },
  {
   "cell_type": "markdown",
   "metadata": {},
   "source": [
    "You can even use an array of integers to select a set of indexes at once."
   ]
  },
  {
   "cell_type": "code",
   "execution_count": 93,
   "metadata": {},
   "outputs": [
    {
     "data": {
      "text/plain": [
       "<Array [[11, 22], [11, 22, ... 130], [11, 22]] type='9963 * 2 * int64'>"
      ]
     },
     "execution_count": 93,
     "metadata": {},
     "output_type": "execute_result"
    }
   ],
   "source": [
    "# First and last particle in each event that has at least two\n",
    "events.prt.pdg[ak.num(events.prt) >= 2][:, [0, -1]]"
   ]
  },
  {
   "cell_type": "markdown",
   "metadata": {},
   "source": [
    "But beyond NumPy, we can also use arrays of nested lists as boolean or integer selectors."
   ]
  },
  {
   "cell_type": "code",
   "execution_count": 94,
   "metadata": {},
   "outputs": [
    {
     "data": {
      "text/plain": [
       "<Array [[False, False, False, ... True, True]] type='10000 * var * bool'>"
      ]
     },
     "execution_count": 94,
     "metadata": {},
     "output_type": "execute_result"
    }
   ],
   "source": [
    "# Array of lists of True and False\n",
    "abs(events.prt.vtx) > 0.10"
   ]
  },
  {
   "cell_type": "code",
   "execution_count": 95,
   "metadata": {},
   "outputs": [
    {
     "data": {
      "text/plain": [
       "<Array [[{id: 125, pdg: 2212, ... ] type='10000 * var * particle[\"id\": uint64, \"...'>"
      ]
     },
     "execution_count": 95,
     "metadata": {},
     "output_type": "execute_result"
    }
   ],
   "source": [
    "# Particles that have vtx > 0.10 for all events (notice that there's still 10000)\n",
    "events.prt[abs(events.prt.vtx) > 0.10]"
   ]
  },
  {
   "cell_type": "markdown",
   "metadata": {},
   "source": [
    "See [awkward-array.readthedocs.io](https://awkward-array.readthedocs.io/) for more, but there are functions like [ak.max](https://awkward-array.readthedocs.io/en/latest/_auto/ak.max.html), which picks the maximum in a groups.\n",
    "\n",
    "   * With `axis=0`, the group is the set of all events.\n",
    "   * With `axis=1`, the groups are particles in each event."
   ]
  },
  {
   "cell_type": "code",
   "execution_count": 96,
   "metadata": {
    "collapsed": true,
    "jupyter": {
     "outputs_hidden": true
    }
   },
   "outputs": [
    {
     "data": {
      "text/plain": [
       "\u001b[0;31mSignature:\u001b[0m \u001b[0mak\u001b[0m\u001b[0;34m.\u001b[0m\u001b[0mmax\u001b[0m\u001b[0;34m(\u001b[0m\u001b[0marray\u001b[0m\u001b[0;34m,\u001b[0m \u001b[0maxis\u001b[0m\u001b[0;34m=\u001b[0m\u001b[0;32mNone\u001b[0m\u001b[0;34m,\u001b[0m \u001b[0mkeepdims\u001b[0m\u001b[0;34m=\u001b[0m\u001b[0;32mFalse\u001b[0m\u001b[0;34m,\u001b[0m \u001b[0mmask_identity\u001b[0m\u001b[0;34m=\u001b[0m\u001b[0;32mTrue\u001b[0m\u001b[0;34m)\u001b[0m\u001b[0;34m\u001b[0m\u001b[0;34m\u001b[0m\u001b[0m\n",
       "\u001b[0;31mDocstring:\u001b[0m\n",
       "Args:\n",
       "    array: Data to maximize.\n",
       "    axis (None or int): If None, combine all values from the array into\n",
       "        a single scalar result; if an int, group by that axis: `0` is the\n",
       "        outermost, `1` is the first level of nested lists, etc., and\n",
       "        negative `axis` counts from the innermost: `-1` is the innermost,\n",
       "        `-2` is the next level up, etc.\n",
       "    keepdims (bool): If False, this reducer descreases the number of\n",
       "        dimensions by 1; if True, the reduced values are wrapped in a new\n",
       "        length-1 dimension so that the result of this operation may be\n",
       "        broadcasted with the original array.\n",
       "    mask_identity (bool): If True, reducing over empty lists results in\n",
       "        None (an option type); otherwise, reducing over empty lists\n",
       "        results in the operation's identity.\n",
       "\n",
       "Returns the maximum value in each group of elements from `array` (many\n",
       "types supported, including all Awkward Arrays and Records). The identity\n",
       "of maximization is `-inf` if floating-point or the smallest integer value\n",
       "if applied to integers. This identity is usually masked: the maximum of\n",
       "an empty list is None, unless `mask_identity=False`.\n",
       "This operation is the same as NumPy's\n",
       "[amax](https://docs.scipy.org/doc/numpy/reference/generated/numpy.amax.html)\n",
       "if all lists at a given dimension have the same length and no None values,\n",
       "but it generalizes to cases where they do not.\n",
       "\n",
       "See #ak.sum for a more complete description of nested list and missing\n",
       "value (None) handling in reducers.\n",
       "\u001b[0;31mFile:\u001b[0m      ~/irishep/awkward-1.0/awkward1/operations/reducers.py\n",
       "\u001b[0;31mType:\u001b[0m      function\n"
      ]
     },
     "metadata": {},
     "output_type": "display_data"
    }
   ],
   "source": [
    "?ak.max"
   ]
  },
  {
   "cell_type": "code",
   "execution_count": 97,
   "metadata": {},
   "outputs": [
    {
     "data": {
      "text/plain": [
       "<Array [889, 132, 1.26, ... 15.5, 39.7, 527] type='10000 * ?float64'>"
      ]
     },
     "execution_count": 97,
     "metadata": {},
     "output_type": "execute_result"
    }
   ],
   "source": [
    "ak.max(abs(events.prt.vtx), axis=1)"
   ]
  },
  {
   "cell_type": "code",
   "execution_count": 98,
   "metadata": {},
   "outputs": [
    {
     "data": {
      "text/plain": [
       "<Array [{id: 0, true: {q2: 0, x: 0, ... ] type='5535 * ?{\"id\": uint64, \"true\": {...'>"
      ]
     },
     "execution_count": 98,
     "metadata": {},
     "output_type": "execute_result"
    }
   ],
   "source": [
    "# Selects *events* that have a maximum *particle vertex* greater than 100\n",
    "events[ak.max(abs(events.prt.vtx), axis=1) > 100]"
   ]
  },
  {
   "cell_type": "markdown",
   "metadata": {},
   "source": [
    "The difference between \"select particles\" and \"select events\" is the number of jagged dimensions in the array; \"reducers\" like ak.max reduce the dimensionality by one.\n",
    "\n",
    "There are other reducers like ak.any, ak.all, ak.sum..."
   ]
  },
  {
   "cell_type": "code",
   "execution_count": 99,
   "metadata": {
    "collapsed": true,
    "jupyter": {
     "outputs_hidden": true
    }
   },
   "outputs": [
    {
     "data": {
      "text/plain": [
       "\u001b[0;31mSignature:\u001b[0m \u001b[0mak\u001b[0m\u001b[0;34m.\u001b[0m\u001b[0msum\u001b[0m\u001b[0;34m(\u001b[0m\u001b[0marray\u001b[0m\u001b[0;34m,\u001b[0m \u001b[0maxis\u001b[0m\u001b[0;34m=\u001b[0m\u001b[0;32mNone\u001b[0m\u001b[0;34m,\u001b[0m \u001b[0mkeepdims\u001b[0m\u001b[0;34m=\u001b[0m\u001b[0;32mFalse\u001b[0m\u001b[0;34m,\u001b[0m \u001b[0mmask_identity\u001b[0m\u001b[0;34m=\u001b[0m\u001b[0;32mFalse\u001b[0m\u001b[0;34m)\u001b[0m\u001b[0;34m\u001b[0m\u001b[0;34m\u001b[0m\u001b[0m\n",
       "\u001b[0;31mDocstring:\u001b[0m\n",
       "Args:\n",
       "    array: Data to sum over.\n",
       "    axis (None or int): If None, combine all values from the array into\n",
       "        a single scalar result; if an int, group by that axis: `0` is the\n",
       "        outermost, `1` is the first level of nested lists, etc., and\n",
       "        negative `axis` counts from the innermost: `-1` is the innermost,\n",
       "        `-2` is the next level up, etc.\n",
       "    keepdims (bool): If False, this reducer descreases the number of\n",
       "        dimensions by 1; if True, the reduced values are wrapped in a new\n",
       "        length-1 dimension so that the result of this operation may be\n",
       "        broadcasted with the original array.\n",
       "    mask_identity (bool): If True, reducing over empty lists results in\n",
       "        None (an option type); otherwise, reducing over empty lists\n",
       "        results in the operation's identity.\n",
       "\n",
       "Sums over `array` (many types supported, including all Awkward Arrays\n",
       "and Records). The identity of addition is `0` and it is usually not\n",
       "masked. This operation is the same as NumPy's\n",
       "[sum](https://docs.scipy.org/doc/numpy/reference/generated/numpy.sum.html)\n",
       "if all lists at a given dimension have the same length and no None values,\n",
       "but it generalizes to cases where they do not.\n",
       "\n",
       "For example, consider this `array`, in which all lists at a given dimension\n",
       "have the same length.\n",
       "\n",
       "    ak.Array([[ 0.1,  0.2,  0.3],\n",
       "              [10.1, 10.2, 10.3],\n",
       "              [20.1, 20.2, 20.3],\n",
       "              [30.1, 30.2, 30.3]])\n",
       "\n",
       "A sum over `axis=-1` combines the inner lists, leaving one value per\n",
       "outer list:\n",
       "\n",
       "    >>> ak.sum(array, axis=-1)\n",
       "    <Array [0.6, 30.6, 60.6, 90.6] type='4 * float64'>\n",
       "\n",
       "while a sum over `axis=0` combines the outer lists, leaving one value\n",
       "per inner list:\n",
       "\n",
       "    >>> ak.sum(array, axis=0)\n",
       "    <Array [60.4, 60.8, 61.2] type='3 * float64'>\n",
       "\n",
       "Now with some values missing,\n",
       "\n",
       "    ak.Array([[ 0.1,  0.2      ],\n",
       "              [10.1            ],\n",
       "              [20.1, 20.2, 20.3],\n",
       "              [30.1, 30.2      ]])\n",
       "\n",
       "The sum over `axis=-1` results in\n",
       "\n",
       "    >>> ak.sum(array, axis=-1)\n",
       "    <Array [0.3, 10.1, 60.6, 60.3] type='4 * float64'>\n",
       "\n",
       "and the sum over `axis=0` results in\n",
       "\n",
       "    >>> ak.sum(array, axis=0)\n",
       "    <Array [60.4, 50.6, 20.3] type='3 * float64'>\n",
       "\n",
       "How we ought to sum over the innermost lists is unambiguous, but for all\n",
       "other `axis` values, we must choose whether to align contents to the\n",
       "left before summing, to the right before summing, or something else.\n",
       "As suggested by the way the text has been aligned, we choose the\n",
       "left-alignment convention: the first `axis=0` result is the sum of all\n",
       "first elements\n",
       "\n",
       "    60.4 = 0.1 + 10.1 + 20.1 + 30.1\n",
       "\n",
       "the second is the sum of all second elements\n",
       "\n",
       "    50.6 = 0.2 + 20.2 + 30.2\n",
       "\n",
       "and the third is the sum of the only third element\n",
       "\n",
       "    20.3 = 20.3\n",
       "\n",
       "The same is true if the values were None, rather than gaps:\n",
       "\n",
       "    ak.Array([[ 0.1,  0.2, None],\n",
       "              [10.1, None, None],\n",
       "              [20.1, 20.2, 20.3],\n",
       "              [30.1, 30.2, None]])\n",
       "\n",
       "    >>> ak.sum(array, axis=-1)\n",
       "    <Array [0.3, 10.1, 60.6, 60.3] type='4 * float64'>\n",
       "    >>> ak.sum(array, axis=0)\n",
       "    <Array [60.4, 50.6, 20.3] type='3 * float64'>\n",
       "\n",
       "However, the missing value placeholder, None, allows us to align the\n",
       "remaining data differently:\n",
       "\n",
       "    ak.Array([[None,  0.1,  0.2],\n",
       "              [None, None, 10.1],\n",
       "              [20.1, 20.2, 20.3],\n",
       "              [None, 30.1, 30.2]])\n",
       "\n",
       "Now the `axis=-1` result is the same but the `axis=0` result has changed:\n",
       "\n",
       "    >>> ak.sum(array, axis=-1)\n",
       "    <Array [0.3, 10.1, 60.6, 60.3] type='4 * float64'>\n",
       "    >>> ak.sum(array, axis=0)\n",
       "    <Array [20.1, 50.4, 60.8] type='3 * float64'>\n",
       "\n",
       "because\n",
       "\n",
       "    20.1 = 20.1\n",
       "    50.4 = 0.1 + 20.2 + 30.1\n",
       "    60.8 = 0.2 + 10.1 + 20.3 + 30.2\n",
       "\n",
       "If, instead of missing numbers, we had missing lists,\n",
       "\n",
       "    ak.Array([[ 0.1,  0.2,  0.3],\n",
       "              None,\n",
       "              [20.1, 20.2, 20.3],\n",
       "              [30.1, 30.2, 30.3]])\n",
       "\n",
       "then the placeholder would pass through the `axis=-1` sum because summing\n",
       "over the inner dimension shouldn't change the length of the outer\n",
       "dimension.\n",
       "\n",
       "    >>> ak.sum(array, axis=-1)\n",
       "    <Array [0.6, None, 60.6, 90.6] type='4 * ?float64'>\n",
       "\n",
       "However, the `axis=0` sum loses information about the None value.\n",
       "\n",
       "    >>> ak.sum(array, axis=0)\n",
       "    <Array [50.3, 50.6, 50.9] type='3 * float64'>\n",
       "\n",
       "which is\n",
       "\n",
       "    50.3 = 0.1 + (None) + 20.1 + 30.1\n",
       "    50.6 = 0.2 + (None) + 20.2 + 30.2\n",
       "    50.9 = 0.3 + (None) + 20.3 + 30.3\n",
       "\n",
       "An `axis=0` sum would be reducing that information if it had not been\n",
       "None, anyway. If the None values were replaced with `0`, the result for\n",
       "`axis=0` would be the same. The result for `axis=-1` would not be the\n",
       "same because this None is in the `0` axis, not the axis that `axis=-1`\n",
       "sums over.\n",
       "\n",
       "The `keepdims` parameter ensures that the number of dimensions does not\n",
       "change: scalar results are put into new length-1 dimensions:\n",
       "\n",
       "    >>> ak.sum(array, axis=-1, keepdims=True)\n",
       "    <Array [[0.6], None, [60.6], [90.6]] type='4 * option[1 * float64]'>\n",
       "    >>> ak.sum(array, axis=0, keepdims=True)\n",
       "    <Array [[50.3, 50.6, 50.9]] type='1 * var * float64'>\n",
       "\n",
       "and `axis=None` ignores all None values and adds up everything in the\n",
       "array (`keepdims` has no effect).\n",
       "\n",
       "    >>> ak.sum(array, axis=None)\n",
       "    151.8\n",
       "\n",
       "The `mask_identity`, which has no equivalent in NumPy, inserts None in\n",
       "the output wherever a reduction takes place over zero elements. This is\n",
       "different from reductions that are otherwise equal to the identity or\n",
       "are equal to the identity by cancellation.\n",
       "\n",
       "    >>> array = ak.Array([[2.2, 2.2], [4.4, -2.2, -2.2], [], [0.0]])\n",
       "    >>> ak.sum(array, axis=-1)\n",
       "    <Array [4.4, 0, 0, 0] type='4 * float64'>\n",
       "    >>> ak.sum(array, axis=-1, mask_identity=True)\n",
       "    <Array [4.4, 0, None, 0] type='4 * ?float64'>\n",
       "\n",
       "The third list is reduced to `0` if `mask_identity=False` because `0` is\n",
       "the identity of addition, but it is reduced to None if\n",
       "`mask_identity=True`.\n",
       "\u001b[0;31mFile:\u001b[0m      ~/irishep/awkward-1.0/awkward1/operations/reducers.py\n",
       "\u001b[0;31mType:\u001b[0m      function\n"
      ]
     },
     "metadata": {},
     "output_type": "display_data"
    }
   ],
   "source": [
    "?ak.sum"
   ]
  },
  {
   "cell_type": "code",
   "execution_count": 100,
   "metadata": {},
   "outputs": [
    {
     "data": {
      "text/plain": [
       "<Array [[False, False, ... False, False]] type='10000 * var * bool'>"
      ]
     },
     "execution_count": 100,
     "metadata": {},
     "output_type": "execute_result"
    }
   ],
   "source": [
    "# Is this particle an antineutron?\n",
    "events.prt.pdg == Particle.from_string(\"n~\").pdgid"
   ]
  },
  {
   "cell_type": "code",
   "execution_count": 101,
   "metadata": {},
   "outputs": [
    {
     "data": {
      "text/plain": [
       "<Array [False, True, False, ... False, False] type='10000 * bool'>"
      ]
     },
     "execution_count": 101,
     "metadata": {},
     "output_type": "execute_result"
    }
   ],
   "source": [
    "# Are any particles in the event antineutrons?\n",
    "ak.any(events.prt.pdg == Particle.from_string(\"n~\").pdgid, axis=1)"
   ]
  },
  {
   "cell_type": "code",
   "execution_count": 102,
   "metadata": {},
   "outputs": [
    {
     "data": {
      "text/plain": [
       "<Array [{id: 1, true: {q2: 0, x: 0, ... ] type='4130 * {\"id\": uint64, \"true\": {\"...'>"
      ]
     },
     "execution_count": 102,
     "metadata": {},
     "output_type": "execute_result"
    }
   ],
   "source": [
    "# Select events that contain an antineutron\n",
    "events[ak.any(events.prt.pdg == Particle.from_string(\"n~\").pdgid, axis=1)]"
   ]
  },
  {
   "cell_type": "markdown",
   "metadata": {},
   "source": [
    "We can use these techniques to make subcollections for specific particle types and attach them to the same `events` array for easy access."
   ]
  },
  {
   "cell_type": "code",
   "execution_count": 103,
   "metadata": {},
   "outputs": [
    {
     "data": {
      "text/plain": [
       "<Array [[{id: 125, pdg: 2212, ... [], []] type='10000 * var * particle[\"id\": uin...'>"
      ]
     },
     "execution_count": 103,
     "metadata": {},
     "output_type": "execute_result"
    }
   ],
   "source": [
    "events.prt[abs(events.prt.pdg) == abs(Particle.from_string(\"p\").pdgid)]"
   ]
  },
  {
   "cell_type": "code",
   "execution_count": 12,
   "metadata": {},
   "outputs": [],
   "source": [
    "# Assignments have to be through __setitem__ (brackets), not __setattr__ (as an attribute).\n",
    "# Is that a problem? (Assigning as an attribute would have to be implemented with care, if at all.)\n",
    "\n",
    "events[\"pions\"] = events.prt[abs(events.prt.pdg) == abs(Particle.from_string(\"pi+\").pdgid)]\n",
    "events[\"kaons\"] = events.prt[abs(events.prt.pdg) == abs(Particle.from_string(\"K+\").pdgid)]\n",
    "events[\"protons\"] = events.prt[abs(events.prt.pdg) == abs(Particle.from_string(\"p\").pdgid)]"
   ]
  },
  {
   "cell_type": "code",
   "execution_count": 105,
   "metadata": {},
   "outputs": [
    {
     "data": {
      "text/plain": [
       "<Array [[{id: 79, pdg: 211, ... ] type='10000 * var * particle[\"id\": uint64, \"pd...'>"
      ]
     },
     "execution_count": 105,
     "metadata": {},
     "output_type": "execute_result"
    }
   ],
   "source": [
    "events.pions"
   ]
  },
  {
   "cell_type": "code",
   "execution_count": 106,
   "metadata": {},
   "outputs": [
    {
     "data": {
      "text/plain": [
       "<Array [[{id: 81, pdg: -321, ... ] type='10000 * var * particle[\"id\": uint64, \"p...'>"
      ]
     },
     "execution_count": 106,
     "metadata": {},
     "output_type": "execute_result"
    }
   ],
   "source": [
    "events.kaons"
   ]
  },
  {
   "cell_type": "code",
   "execution_count": 107,
   "metadata": {},
   "outputs": [
    {
     "data": {
      "text/plain": [
       "<Array [[{id: 125, pdg: 2212, ... [], []] type='10000 * var * particle[\"id\": uin...'>"
      ]
     },
     "execution_count": 107,
     "metadata": {},
     "output_type": "execute_result"
    }
   ],
   "source": [
    "events.protons"
   ]
  },
  {
   "cell_type": "code",
   "execution_count": 108,
   "metadata": {},
   "outputs": [
    {
     "data": {
      "text/plain": [
       "(<Array [51, 26, 27, 28, 30, ... 37, 42, 25, 11] type='10000 * int64'>,\n",
       " <Array [23, 8, 13, 8, 12, ... 19, 11, 14, 9, 3] type='10000 * int64'>,\n",
       " <Array [6, 0, 2, 1, 2, 0, ... 6, 3, 1, 4, 2, 1] type='10000 * int64'>,\n",
       " <Array [1, 0, 1, 1, 1, 0, ... 0, 0, 0, 0, 0, 0] type='10000 * int64'>)"
      ]
     },
     "execution_count": 108,
     "metadata": {},
     "output_type": "execute_result"
    }
   ],
   "source": [
    "ak.num(events.prt), ak.num(events.pions), ak.num(events.kaons), ak.num(events.protons)"
   ]
  },
  {
   "cell_type": "markdown",
   "metadata": {},
   "source": [
    "## Flattening for plots and regularizing to NumPy for machine learning\n",
    "\n",
    "All of this structure is great, but eventually, we need to plot the data or ship it to some statistical process, such as machine learning.\n",
    "\n",
    "Most of these tools know about NumPy arrays and rectilinear data, but not Awkward Arrays."
   ]
  },
  {
   "cell_type": "markdown",
   "metadata": {},
   "source": [
    "As a design choice, Awkward Array **does not implicitly flatten**; you need to do this yourself, and you might make different choices of how to apply this lossy transformation in different circumstances.\n",
    "\n",
    "The basic tool for removing structure is [ak.flatten](https://awkward-array.readthedocs.io/en/latest/_auto/ak.flatten.html)."
   ]
  },
  {
   "cell_type": "code",
   "execution_count": 13,
   "metadata": {
    "collapsed": true,
    "jupyter": {
     "outputs_hidden": true
    }
   },
   "outputs": [
    {
     "data": {
      "text/plain": [
       "\u001b[0;31mSignature:\u001b[0m \u001b[0mak\u001b[0m\u001b[0;34m.\u001b[0m\u001b[0mflatten\u001b[0m\u001b[0;34m(\u001b[0m\u001b[0marray\u001b[0m\u001b[0;34m,\u001b[0m \u001b[0maxis\u001b[0m\u001b[0;34m=\u001b[0m\u001b[0;36m1\u001b[0m\u001b[0;34m,\u001b[0m \u001b[0mhighlevel\u001b[0m\u001b[0;34m=\u001b[0m\u001b[0;32mTrue\u001b[0m\u001b[0;34m)\u001b[0m\u001b[0;34m\u001b[0m\u001b[0;34m\u001b[0m\u001b[0m\n",
       "\u001b[0;31mDocstring:\u001b[0m\n",
       "Args:\n",
       "    array: Data containing nested lists to flatten.\n",
       "    axis (None or int): If None, the operation flattens all levels of\n",
       "        nesting, returning a 1-dimensional array. Otherwise, it flattens\n",
       "        at a specified depth. The outermost dimension is `0`, followed\n",
       "        by `1`, etc., and negative values count backward from the\n",
       "        innermost: `-1` is the innermost dimension, `-2` is the next\n",
       "        level up, etc.\n",
       "    highlevel (bool): If True, return an #ak.Array; otherwise, return\n",
       "        a low-level #ak.layout.Content subclass.\n",
       "\n",
       "Returns an array with one level of nesting removed by erasing the\n",
       "boundaries between consecutive lists. Since this operates on a level of\n",
       "nesting, `axis=0` is a special case that only removes values at the\n",
       "top level that are equal to None.\n",
       "\n",
       "Consider the following doubly nested `array`.\n",
       "\n",
       "    ak.Array([[\n",
       "               [1.1, 2.2, 3.3],\n",
       "               [],\n",
       "               [4.4, 5.5],\n",
       "               [6.6]],\n",
       "              [],\n",
       "              [\n",
       "               [7.7],\n",
       "               [8.8, 9.9]\n",
       "              ]])\n",
       "\n",
       "At `axis=1`, the outer lists (length 4, length 0, length 2) become a single\n",
       "list (of length 6).\n",
       "\n",
       "    >>> print(ak.flatten(array, axis=1))\n",
       "    [[1.1, 2.2, 3.3], [], [4.4, 5.5], [6.6], [7.7], [8.8, 9.9]]\n",
       "\n",
       "At `axis=2`, the inner lists (lengths 3, 0, 2, 1, 1, and 2) become three\n",
       "lists (of lengths 6, 0, and 3).\n",
       "\n",
       "    >>> print(ak.flatten(array, axis=2))\n",
       "    [[1.1, 2.2, 3.3, 4.4, 5.5, 6.6], [], [7.7, 8.8, 9.9]]\n",
       "\n",
       "There's also an option to completely flatten the array with `axis=None`.\n",
       "This is useful for passing the data to a function that doesn't care about\n",
       "nested structure, such as a plotting routine.\n",
       "\n",
       "    >>> print(ak.flatten(array, axis=None))\n",
       "    [1.1, 2.2, 3.3, 4.4, 5.5, 6.6, 7.7, 8.8, 9.9]\n",
       "\n",
       "Missing values are eliminated by flattening: there is no distinction\n",
       "between an empty list and a value of None at the level of flattening.\n",
       "\n",
       "    >>> array = ak.Array([[1.1, 2.2, 3.3], None, [4.4], [], [5.5]])\n",
       "    >>> ak.flatten(array, axis=1)\n",
       "    <Array [1.1, 2.2, 3.3, 4.4, 5.5] type='5 * float64'>\n",
       "\n",
       "As a consequence, flattening at `axis=0` does only one thing: it removes\n",
       "None values from the top level.\n",
       "\n",
       "    >>> ak.flatten(array, axis=0)\n",
       "    <Array [[1.1, 2.2, 3.3], [4.4], [], [5.5]] type='4 * var * float64'>\n",
       "\n",
       "As a technical detail, the flattening operation can be trivial in a common\n",
       "case, #ak.layout.ListOffsetArray in which the first `offset` is `0`.\n",
       "In that case, the flattened data is simply the array node's `content`.\n",
       "\n",
       "    >>> array.layout\n",
       "    <ListOffsetArray64>\n",
       "        <offsets><Index64 i=\"[0 4 4 6]\" offset=\"0\" length=\"4\"/></offsets>\n",
       "        <content><ListOffsetArray64>\n",
       "            <offsets><Index64 i=\"[0 3 3 5 6 7 9]\" offset=\"0\" length=\"7\"/></offsets>\n",
       "            <content>\n",
       "                <NumpyArray format=\"d\" shape=\"9\" data=\"1.1 2.2 3.3 4.4 5.5 6.6 7.7 8.8 9.9\"/>\n",
       "            </content>\n",
       "        </ListOffsetArray64></content>\n",
       "    </ListOffsetArray64>\n",
       "    >>> np.asarray(array.layout.content.content)\n",
       "    array([1.1, 2.2, 3.3, 4.4, 5.5, 6.6, 7.7, 8.8, 9.9])\n",
       "\n",
       "However, it is important to keep in mind that this is a special case:\n",
       "#ak.flatten and `content` are not interchangeable!\n",
       "\u001b[0;31mFile:\u001b[0m      ~/irishep/awkward-1.0/awkward1/operations/structure.py\n",
       "\u001b[0;31mType:\u001b[0m      function\n"
      ]
     },
     "metadata": {},
     "output_type": "display_data"
    }
   ],
   "source": [
    "?ak.flatten"
   ]
  },
  {
   "cell_type": "code",
   "execution_count": 14,
   "metadata": {},
   "outputs": [
    {
     "data": {
      "text/plain": [
       "<Array [{id: 12, pdg: 11, trk_id: 0, ... ] type='349274 * particle[\"id\": uint64,...'>"
      ]
     },
     "execution_count": 14,
     "metadata": {},
     "output_type": "execute_result"
    }
   ],
   "source": [
    "# Turn particles-grouped-by-event into one big array of particles\n",
    "ak.flatten(events.prt, axis=1)"
   ]
  },
  {
   "cell_type": "code",
   "execution_count": 15,
   "metadata": {},
   "outputs": [
    {
     "data": {
      "text/plain": [
       "<Array [12, 79, 80, ... -0.365, -0.366, -0.366] type='14669508 * float64'>"
      ]
     },
     "execution_count": 15,
     "metadata": {},
     "output_type": "execute_result"
    }
   ],
   "source": [
    "# Eliminate structure at all levels; produce one numerical array\n",
    "ak.flatten(events.prt, axis=None)"
   ]
  },
  {
   "cell_type": "markdown",
   "metadata": {},
   "source": [
    "For plotting, you probably want to pick one field and flatten it. Flattening with `axis=1` (the default) works for one level of structure and is safer than `axis=None`.\n",
    "\n",
    "The flattening is explicit as a reminder that a histogram whose entries are particles is different from a histogram whose entries are events."
   ]
  },
  {
   "cell_type": "code",
   "execution_count": 21,
   "metadata": {},
   "outputs": [
    {
     "data": {
      "text/plain": [
       "(array([  85.,  400.,  771., 1064., 1194., 1160., 1131., 1041., 1033.,\n",
       "         978.,  842.,  781.,  697.,  668.,  540.,  519.,  465.,  464.,\n",
       "         428.,  376.,  312.,  310.,  311.,  283.,  256.,  231.,  253.,\n",
       "         249.,  203.,  194.,  188.,  196.,  173.,  167.,  142.,  136.,\n",
       "         141.,  126.,  120.,  133.,  106.,  120.,  100.,  105.,   86.,\n",
       "          89.,   91.,   75.,   80.,   64.,   68.,   67.,   57.,   67.,\n",
       "          53.,   55.,   58.,   43.,   45.,   39.,   55.,   39.,   35.,\n",
       "          44.,   43.,   47.,   35.,   35.,   22.,   31.,   32.,   24.,\n",
       "          30.,   21.,   27.,   30.,   14.,   22.,   20.,   21.,   15.,\n",
       "          17.,   18.,   25.,   16.,   10.,   21.,   16.,   22.,   12.,\n",
       "          11.,   14.,   18.,   14.,   20.,   16.,    8.,   10.,   10.,\n",
       "          11.]),\n",
       " array([ 0. ,  0.1,  0.2,  0.3,  0.4,  0.5,  0.6,  0.7,  0.8,  0.9,  1. ,\n",
       "         1.1,  1.2,  1.3,  1.4,  1.5,  1.6,  1.7,  1.8,  1.9,  2. ,  2.1,\n",
       "         2.2,  2.3,  2.4,  2.5,  2.6,  2.7,  2.8,  2.9,  3. ,  3.1,  3.2,\n",
       "         3.3,  3.4,  3.5,  3.6,  3.7,  3.8,  3.9,  4. ,  4.1,  4.2,  4.3,\n",
       "         4.4,  4.5,  4.6,  4.7,  4.8,  4.9,  5. ,  5.1,  5.2,  5.3,  5.4,\n",
       "         5.5,  5.6,  5.7,  5.8,  5.9,  6. ,  6.1,  6.2,  6.3,  6.4,  6.5,\n",
       "         6.6,  6.7,  6.8,  6.9,  7. ,  7.1,  7.2,  7.3,  7.4,  7.5,  7.6,\n",
       "         7.7,  7.8,  7.9,  8. ,  8.1,  8.2,  8.3,  8.4,  8.5,  8.6,  8.7,\n",
       "         8.8,  8.9,  9. ,  9.1,  9.2,  9.3,  9.4,  9.5,  9.6,  9.7,  9.8,\n",
       "         9.9, 10. ]),\n",
       " <a list of 100 Patch objects>)"
      ]
     },
     "execution_count": 21,
     "metadata": {},
     "output_type": "execute_result"
    },
    {
     "data": {
      "image/png": "[encoded data removed]",
      "text/plain": [
       "<Figure size 432x288 with 1 Axes>"
      ]
     },
     "metadata": {
      "needs_background": "light"
     },
     "output_type": "display_data"
    }
   ],
   "source": [
    "# Directly through Matplotlib\n",
    "plt.hist(ak.flatten(events.kaons.p), bins=100, range=(0, 10))"
   ]
  },
  {
   "cell_type": "code",
   "execution_count": 22,
   "metadata": {},
   "outputs": [
    {
     "data": {
      "text/plain": [
       "<matplotlib.axes._subplots.AxesSubplot at 0x7f3d8b5796d0>"
      ]
     },
     "execution_count": 22,
     "metadata": {},
     "output_type": "execute_result"
    },
    {
     "data": {
      "image/png": "[encoded data removed]",
      "text/plain": [
       "<Figure size 432x288 with 1 Axes>"
      ]
     },
     "metadata": {
      "needs_background": "light"
     },
     "output_type": "display_data"
    }
   ],
   "source": [
    "# Through mplhep and boost-histgram, which are more HEP-friendly\n",
    "\n",
    "hep.histplot(bh.Histogram(bh.axis.Regular(100, 0, 10)).fill(\n",
    "    \n",
    "    ak.flatten(events.kaons.p)\n",
    "    \n",
    "))"
   ]
  },
  {
   "cell_type": "markdown",
   "metadata": {},
   "source": [
    "If the particles are sorted (`ak.sort`/`ak.argsort` is [in development](https://github.com/scikit-hep/awkward-1.0/pull/168)), you might want to pick the first kaon from every event that has them (i.e. *use* the event structure).\n",
    "\n",
    "This is an analysis choice: *you* have to decide you want this.\n",
    "\n",
    "The `ak.num(events.kaons) > 0` selection is explicit as a reminder that empty events are not counted in the histogram."
   ]
  },
  {
   "cell_type": "code",
   "execution_count": 23,
   "metadata": {},
   "outputs": [
    {
     "data": {
      "text/plain": [
       "<matplotlib.axes._subplots.AxesSubplot at 0x7f3d8b389210>"
      ]
     },
     "execution_count": 23,
     "metadata": {},
     "output_type": "execute_result"
    },
    {
     "data": {
      "image/png": "[encoded data removed]",
      "text/plain": [
       "<Figure size 432x288 with 1 Axes>"
      ]
     },
     "metadata": {
      "needs_background": "light"
     },
     "output_type": "display_data"
    }
   ],
   "source": [
    "hep.histplot(bh.Histogram(bh.axis.Regular(100, 0, 10)).fill(\n",
    "    \n",
    "    events.kaons.p[ak.num(events.kaons) > 0, 0]\n",
    "    \n",
    "))"
   ]
  },
  {
   "cell_type": "markdown",
   "metadata": {},
   "source": [
    "Or perhaps the maximum pion momentum in each event. This one must be flattened (with `axis=0`) to remove `None` values.\n",
    "\n",
    "This flattening is explicit as a reminder that empty events are not counted in the histogram."
   ]
  },
  {
   "cell_type": "code",
   "execution_count": 25,
   "metadata": {},
   "outputs": [
    {
     "data": {
      "text/plain": [
       "<Array [4.98, None, 4.04, ... 1.15, 6.44, 4.18] type='10000 * ?float64'>"
      ]
     },
     "execution_count": 25,
     "metadata": {},
     "output_type": "execute_result"
    }
   ],
   "source": [
    "ak.max(events.kaons.p, axis=1)"
   ]
  },
  {
   "cell_type": "code",
   "execution_count": 27,
   "metadata": {},
   "outputs": [
    {
     "data": {
      "text/plain": [
       "<Array [4.98, 4.04, 2.2, ... 1.15, 6.44, 4.18] type='8496 * float64'>"
      ]
     },
     "execution_count": 27,
     "metadata": {},
     "output_type": "execute_result"
    }
   ],
   "source": [
    "ak.flatten(ak.max(events.kaons.p, axis=1), axis=0)"
   ]
  },
  {
   "cell_type": "code",
   "execution_count": 28,
   "metadata": {},
   "outputs": [
    {
     "data": {
      "text/plain": [
       "<matplotlib.axes._subplots.AxesSubplot at 0x7f3d8b307310>"
      ]
     },
     "execution_count": 28,
     "metadata": {},
     "output_type": "execute_result"
    },
    {
     "data": {
      "image/png": "[encoded data removed]",
      "text/plain": [
       "<Figure size 432x288 with 1 Axes>"
      ]
     },
     "metadata": {
      "needs_background": "light"
     },
     "output_type": "display_data"
    }
   ],
   "source": [
    "hep.histplot(bh.Histogram(bh.axis.Regular(100, 0, 10)).fill(\n",
    "    \n",
    "    ak.flatten(ak.max(events.kaons.p, axis=1), axis=0)\n",
    "    \n",
    "))"
   ]
  },
  {
   "cell_type": "markdown",
   "metadata": {},
   "source": [
    "Or perhaps the momentum of the kaon with the farthest vertex. [ak.argmax](https://awkward-array.readthedocs.io/en/latest/_auto/ak.argmax.html) creates an array of integers selecting from each event."
   ]
  },
  {
   "cell_type": "code",
   "execution_count": 45,
   "metadata": {
    "collapsed": true,
    "jupyter": {
     "outputs_hidden": true
    }
   },
   "outputs": [
    {
     "data": {
      "text/plain": [
       "\u001b[0;31mSignature:\u001b[0m \u001b[0mak\u001b[0m\u001b[0;34m.\u001b[0m\u001b[0margmax\u001b[0m\u001b[0;34m(\u001b[0m\u001b[0marray\u001b[0m\u001b[0;34m,\u001b[0m \u001b[0maxis\u001b[0m\u001b[0;34m=\u001b[0m\u001b[0;32mNone\u001b[0m\u001b[0;34m,\u001b[0m \u001b[0mkeepdims\u001b[0m\u001b[0;34m=\u001b[0m\u001b[0;32mFalse\u001b[0m\u001b[0;34m,\u001b[0m \u001b[0mmask_identity\u001b[0m\u001b[0;34m=\u001b[0m\u001b[0;32mTrue\u001b[0m\u001b[0;34m)\u001b[0m\u001b[0;34m\u001b[0m\u001b[0;34m\u001b[0m\u001b[0m\n",
       "\u001b[0;31mDocstring:\u001b[0m\n",
       "Args:\n",
       "    array: Data to find the index positions of the maximum values.\n",
       "    axis (None or int): If None, combine all values from the array into\n",
       "        a single scalar result; if an int, group by that axis: `0` is the\n",
       "        outermost, `1` is the first level of nested lists, etc., and\n",
       "        negative `axis` counts from the innermost: `-1` is the innermost,\n",
       "        `-2` is the next level up, etc.\n",
       "    keepdims (bool): If False, this reducer descreases the number of\n",
       "        dimensions by 1; if True, the reduced values are wrapped in a new\n",
       "        length-1 dimension so that the result of this operation may be\n",
       "        broadcasted with the original array.\n",
       "    mask_identity (bool): If True, reducing over empty lists results in\n",
       "        None (an option type); otherwise, reducing over empty lists\n",
       "        results in the operation's identity.\n",
       "\n",
       "Returns the index position of the maximum value in each group of elements\n",
       "from `array` (many types supported, including all Awkward Arrays and\n",
       "Records). The identity of maximization would be negative infinity, but\n",
       "argmax must return the position of the maximum element, which has no value\n",
       "for empty lists. Therefore, the identity should be masked: the argmax of\n",
       "an empty list is None. If `mask_identity=False`, the result would be `-1`,\n",
       "which is distinct from all valid index positions, but care should be taken\n",
       "that it is not misinterpreted as \"the last element of the list.\"\n",
       "\n",
       "This operation is the same as NumPy's\n",
       "[argmax](https://docs.scipy.org/doc/numpy/reference/generated/numpy.argmax.html)\n",
       "if all lists at a given dimension have the same length and no None values,\n",
       "but it generalizes to cases where they do not.\n",
       "\n",
       "See #ak.sum for a more complete description of nested list and missing\n",
       "value (None) handling in reducers.\n",
       "\u001b[0;31mFile:\u001b[0m      ~/irishep/awkward-1.0/awkward1/operations/reducers.py\n",
       "\u001b[0;31mType:\u001b[0m      function\n"
      ]
     },
     "metadata": {},
     "output_type": "display_data"
    }
   ],
   "source": [
    "?ak.argmax"
   ]
  },
  {
   "cell_type": "code",
   "execution_count": 29,
   "metadata": {},
   "outputs": [
    {
     "data": {
      "text/plain": [
       "<Array [2, None, 0, 0, 1, ... 2, 0, 3, 1, 0] type='10000 * ?int64'>"
      ]
     },
     "execution_count": 29,
     "metadata": {},
     "output_type": "execute_result"
    }
   ],
   "source": [
    "ak.argmax(abs(events.kaons.vtx), axis=1)"
   ]
  },
  {
   "cell_type": "code",
   "execution_count": 23,
   "metadata": {
    "collapsed": true,
    "jupyter": {
     "outputs_hidden": true
    }
   },
   "outputs": [
    {
     "data": {
      "text/plain": [
       "\u001b[0;31mSignature:\u001b[0m \u001b[0mak\u001b[0m\u001b[0;34m.\u001b[0m\u001b[0msingletons\u001b[0m\u001b[0;34m(\u001b[0m\u001b[0marray\u001b[0m\u001b[0;34m,\u001b[0m \u001b[0mhighlevel\u001b[0m\u001b[0;34m=\u001b[0m\u001b[0;32mTrue\u001b[0m\u001b[0;34m)\u001b[0m\u001b[0;34m\u001b[0m\u001b[0;34m\u001b[0m\u001b[0m\n",
       "\u001b[0;31mDocstring:\u001b[0m\n",
       "Args:\n",
       "    array: Data to wrap in lists of length 1 if present and length 0\n",
       "        if missing (None).\n",
       "    highlevel (bool): If True, return an #ak.Array; otherwise, return\n",
       "        a low-level #ak.layout.Content subclass.\n",
       "\n",
       "Returns a singleton list (length 1) wrapping each non-missing value and\n",
       "an empty list (length 0) in place of each missing value.\n",
       "\n",
       "For example,\n",
       "\n",
       "    >>> array = ak.Array([1.1, 2.2, None, 3.3, None, None, 4.4, 5.5])\n",
       "    >>> print(ak.singletons(array))\n",
       "    [[1.1], [2.2], [], [3.3], [], [], [4.4], [5.5]]\n",
       "\u001b[0;31mFile:\u001b[0m      ~/irishep/awkward-1.0/awkward1/operations/structure.py\n",
       "\u001b[0;31mType:\u001b[0m      function\n"
      ]
     },
     "metadata": {},
     "output_type": "display_data"
    }
   ],
   "source": [
    "?ak.singletons"
   ]
  },
  {
   "cell_type": "code",
   "execution_count": 30,
   "metadata": {},
   "outputs": [
    {
     "data": {
      "text/plain": [
       "<Array [[2], [], [0], [0, ... [3], [1], [0]] type='10000 * var * int64'>"
      ]
     },
     "execution_count": 30,
     "metadata": {},
     "output_type": "execute_result"
    }
   ],
   "source": [
    "# Get a length-1 list containing the index of the biggest vertex when there is one\n",
    "# And a length-0 list when there isn't one\n",
    "ak.singletons(ak.argmax(abs(events.kaons.vtx), axis=1))"
   ]
  },
  {
   "cell_type": "code",
   "execution_count": 31,
   "metadata": {},
   "outputs": [
    {
     "data": {
      "text/plain": [
       "<Array [[{id: 130, pdg: 321, ... ] type='10000 * var * particle[\"id\": uint64, \"p...'>"
      ]
     },
     "execution_count": 31,
     "metadata": {},
     "output_type": "execute_result"
    }
   ],
   "source": [
    "# A nested integer array like this is what we need to select kaons with the biggest vertex\n",
    "events.kaons[ak.singletons(ak.argmax(abs(events.kaons.vtx), axis=1))]"
   ]
  },
  {
   "cell_type": "code",
   "execution_count": 32,
   "metadata": {},
   "outputs": [
    {
     "data": {
      "text/plain": [
       "<Array [[2.56], [], [2.74, ... [6.17], [4.18]] type='10000 * var * float64'>"
      ]
     },
     "execution_count": 32,
     "metadata": {},
     "output_type": "execute_result"
    }
   ],
   "source": [
    "events.kaons[ak.singletons(ak.argmax(abs(events.kaons.vtx), axis=1))].p"
   ]
  },
  {
   "cell_type": "code",
   "execution_count": 33,
   "metadata": {},
   "outputs": [
    {
     "data": {
      "text/plain": [
       "<Array [2.56, 2.74, 2.2, ... 0.941, 6.17, 4.18] type='8496 * float64'>"
      ]
     },
     "execution_count": 33,
     "metadata": {},
     "output_type": "execute_result"
    }
   ],
   "source": [
    "# Flatten the distinction between length-1 lists and length-0 lists\n",
    "ak.flatten(events.kaons[ak.singletons(ak.argmax(abs(events.kaons.vtx), axis=1))].p)"
   ]
  },
  {
   "cell_type": "code",
   "execution_count": 34,
   "metadata": {},
   "outputs": [
    {
     "data": {
      "text/plain": [
       "<matplotlib.axes._subplots.AxesSubplot at 0x7f3d8b6f39d0>"
      ]
     },
     "execution_count": 34,
     "metadata": {},
     "output_type": "execute_result"
    },
    {
     "data": {
      "image/png": "[encoded data removed]",
      "text/plain": [
       "<Figure size 432x288 with 1 Axes>"
      ]
     },
     "metadata": {
      "needs_background": "light"
     },
     "output_type": "display_data"
    }
   ],
   "source": [
    "# Putting it all together...\n",
    "hep.histplot(bh.Histogram(bh.axis.Regular(100, 0, 10)).fill(\n",
    "    \n",
    "    ak.flatten(events.kaons[ak.singletons(ak.argmax(abs(events.kaons.vtx), axis=1))].p)\n",
    "    \n",
    "))"
   ]
  },
  {
   "cell_type": "markdown",
   "metadata": {},
   "source": [
    "If you're sending the data to a library that expects rectilinear structure, you might need to pad and clip the variable length lists.\n",
    "\n",
    "[ak.pad_none](https://awkward-array.readthedocs.io/en/latest/_auto/ak.pad_none.html) puts `None` values at the end of each list to reach a minimum length."
   ]
  },
  {
   "cell_type": "code",
   "execution_count": 51,
   "metadata": {
    "collapsed": true,
    "jupyter": {
     "outputs_hidden": true
    }
   },
   "outputs": [
    {
     "data": {
      "text/plain": [
       "\u001b[0;31mSignature:\u001b[0m \u001b[0mak\u001b[0m\u001b[0;34m.\u001b[0m\u001b[0mpad_none\u001b[0m\u001b[0;34m(\u001b[0m\u001b[0marray\u001b[0m\u001b[0;34m,\u001b[0m \u001b[0mtarget\u001b[0m\u001b[0;34m,\u001b[0m \u001b[0maxis\u001b[0m\u001b[0;34m=\u001b[0m\u001b[0;36m1\u001b[0m\u001b[0;34m,\u001b[0m \u001b[0mclip\u001b[0m\u001b[0;34m=\u001b[0m\u001b[0;32mFalse\u001b[0m\u001b[0;34m,\u001b[0m \u001b[0mhighlevel\u001b[0m\u001b[0;34m=\u001b[0m\u001b[0;32mTrue\u001b[0m\u001b[0;34m)\u001b[0m\u001b[0;34m\u001b[0m\u001b[0;34m\u001b[0m\u001b[0m\n",
       "\u001b[0;31mDocstring:\u001b[0m\n",
       "Args:\n",
       "    array: Data containing nested lists to pad to a target length.\n",
       "    target (int): The intended length of the lists. If `clip=True`,\n",
       "        the output lists will have exactly this length; otherwise,\n",
       "        they will have *at least* this length.\n",
       "    axis (int): The dimension at which this operation is applied. The\n",
       "        outermost dimension is `0`, followed by `1`, etc., and negative\n",
       "        values count backward from the innermost: `-1` is the innermost\n",
       "        dimension, `-2` is the next level up, etc.\n",
       "    clip (bool): If True, the output lists will have regular lengths\n",
       "        (#ak.types.RegularType) of exactly `target`; otherwise the\n",
       "        output lists will have in-principle variable lengths\n",
       "        (#ak.types.ListType) of at least `target`.\n",
       "    highlevel (bool): If True, return an #ak.Array; otherwise, return\n",
       "        a low-level #ak.layout.Content subclass.\n",
       "\n",
       "Increase the lengths of lists to a target length by adding None values.\n",
       "\n",
       "Consider the following doubly nested `array`.\n",
       "\n",
       "    ak.Array([[\n",
       "               [1.1, 2.2, 3.3],\n",
       "               [],\n",
       "               [4.4, 5.5],\n",
       "               [6.6]],\n",
       "              [],\n",
       "              [\n",
       "               [7.7],\n",
       "               [8.8, 9.9]\n",
       "              ]])\n",
       "\n",
       "At `axis=0`, this operation pads the whole array, adding None at the\n",
       "outermost level:\n",
       "\n",
       "    >>> ak.to_list(ak.pad_none(array, 5, axis=0))\n",
       "    [[\n",
       "      [1.1, 2.2, 3.3],\n",
       "      [],\n",
       "      [4.4, 5.5],\n",
       "      [6.6]],\n",
       "     [],\n",
       "     [\n",
       "      [7.7],\n",
       "      [8.8, 9.9]\n",
       "     ],\n",
       "     None,\n",
       "     None]\n",
       "\n",
       "At `axis=1`, this operation pads the first nested level:\n",
       "\n",
       "    >>> ak.to_list(ak.pad_none(array, 3, axis=1))\n",
       "    [[\n",
       "      [1.1, 2.2, 3.3],\n",
       "      [],\n",
       "      [4.4, 5.5],\n",
       "      [6.6]\n",
       "     ],\n",
       "     [\n",
       "      None,\n",
       "      None,\n",
       "      None],\n",
       "     [\n",
       "      [7.7],\n",
       "      [8.8, 9.9],\n",
       "      None\n",
       "     ]]\n",
       "\n",
       "And so on for higher values of `axis`:\n",
       "\n",
       "    >>> ak.to_list(ak.pad_none(array, 2, axis=2))\n",
       "    [[\n",
       "      [1.1, 2.2, 3.3],\n",
       "      [None, None],\n",
       "      [4.4, 5.5],\n",
       "      [6.6, None]\n",
       "     ],\n",
       "     [],\n",
       "     [\n",
       "      [7.7, None],\n",
       "      [8.8, 9.9]\n",
       "     ]]\n",
       "\n",
       "Note that the `clip` parameter not only determines whether the lengths are\n",
       "at least `target` or exactly `target`, it also determines the type of the\n",
       "output:\n",
       "\n",
       "   * `clip=True` returns regular lists (#ak.types.RegularType), and\n",
       "   * `clip=False` returns in-principle variable lengths\n",
       "     (#ak.types.ListType).\n",
       "\n",
       "The in-principle variable-length lists might, in fact, all have the same\n",
       "length, but the type difference is significant, for instance in\n",
       "broadcasting rules (see #ak.broadcast_arrays).\n",
       "\n",
       "The difference between\n",
       "\n",
       "    >>> ak.pad_none(array, 2, axis=2)\n",
       "    <Array [[[1.1, 2.2, 3.3], ... [8.8, 9.9]]] type='3 * var * var * ?float64'>\n",
       "\n",
       "and\n",
       "\n",
       "    >>> ak.pad_none(array, 2, axis=2, clip=True)\n",
       "    <Array [[[1.1, 2.2], [None, ... [8.8, 9.9]]] type='3 * var * 2 * ?float64'>\n",
       "\n",
       "is not just in the length of `[1.1, 2.2, 3.3]` vs `[1.1, 2.2]`, but also\n",
       "in the distinction between the following types.\n",
       "\n",
       "    >>> ak.type(ak.pad_none(array, 2, axis=2))\n",
       "    3 * var * var * ?float64\n",
       "    >>> ak.type(ak.pad_none(array, 2, axis=2, clip=True))\n",
       "    3 * var *   2 * ?float64\n",
       "\u001b[0;31mFile:\u001b[0m      ~/irishep/awkward-1.0/awkward1/operations/structure.py\n",
       "\u001b[0;31mType:\u001b[0m      function\n"
      ]
     },
     "metadata": {},
     "output_type": "display_data"
    }
   ],
   "source": [
    "?ak.pad_none"
   ]
  },
  {
   "cell_type": "code",
   "execution_count": 35,
   "metadata": {},
   "outputs": [
    {
     "data": {
      "text/plain": [
       "[[81, 109, 130, 136, 137, 145],\n",
       " [None, None, None],\n",
       " [96, 98, None],\n",
       " [78, None, None],\n",
       " [62, 101, None],\n",
       " [None, None, None],\n",
       " [61, 63, 90],\n",
       " [None, None, None],\n",
       " [67, 70, 104, 105, 106, 107],\n",
       " [61, 62, 73, 99],\n",
       " [64, 65, None],\n",
       " [65, None, None],\n",
       " [93, 140, 153, 188],\n",
       " [52, 85, None],\n",
       " [35, 44, 70],\n",
       " [70, 74, None],\n",
       " [75, 76, None],\n",
       " [87, 88, 132, 153, 191, 193],\n",
       " [58, 70, 79, 88],\n",
       " [None, None, None],\n",
       " [None, None, None],\n",
       " [58, 98, 99],\n",
       " [109, 110, None],\n",
       " [51, 72, None],\n",
       " [83, None, None],\n",
       " [None, None, None],\n",
       " [45, None, None],\n",
       " [67, 98, 181],\n",
       " [None, None, None],\n",
       " [54, 57, None]]"
      ]
     },
     "execution_count": 35,
     "metadata": {},
     "output_type": "execute_result"
    }
   ],
   "source": [
    "# pad them                     look at the first 30\n",
    "ak.pad_none(events.kaons.id, 3)[:30].tolist()"
   ]
  },
  {
   "cell_type": "markdown",
   "metadata": {},
   "source": [
    "The lengths are still irregular, so you can also `clip=True` them."
   ]
  },
  {
   "cell_type": "code",
   "execution_count": 36,
   "metadata": {},
   "outputs": [
    {
     "data": {
      "text/plain": [
       "[[81, 109, 130],\n",
       " [None, None, None],\n",
       " [96, 98, None],\n",
       " [78, None, None],\n",
       " [62, 101, None],\n",
       " [None, None, None],\n",
       " [61, 63, 90],\n",
       " [None, None, None],\n",
       " [67, 70, 104],\n",
       " [61, 62, 73],\n",
       " [64, 65, None],\n",
       " [65, None, None],\n",
       " [93, 140, 153],\n",
       " [52, 85, None],\n",
       " [35, 44, 70],\n",
       " [70, 74, None],\n",
       " [75, 76, None],\n",
       " [87, 88, 132],\n",
       " [58, 70, 79],\n",
       " [None, None, None],\n",
       " [None, None, None],\n",
       " [58, 98, 99],\n",
       " [109, 110, None],\n",
       " [51, 72, None],\n",
       " [83, None, None],\n",
       " [None, None, None],\n",
       " [45, None, None],\n",
       " [67, 98, 181],\n",
       " [None, None, None],\n",
       " [54, 57, None]]"
      ]
     },
     "execution_count": 36,
     "metadata": {},
     "output_type": "execute_result"
    }
   ],
   "source": [
    "# pad them                                look at the first 30\n",
    "ak.pad_none(events.kaons.id, 3, clip=True)[:30].tolist()"
   ]
  },
  {
   "cell_type": "markdown",
   "metadata": {},
   "source": [
    "The library we're sending this to might not be able to deal with missing values, so choose a replacement to fill them with."
   ]
  },
  {
   "cell_type": "code",
   "execution_count": 59,
   "metadata": {
    "collapsed": true,
    "jupyter": {
     "outputs_hidden": true
    }
   },
   "outputs": [
    {
     "data": {
      "text/plain": [
       "\u001b[0;31mSignature:\u001b[0m \u001b[0mak\u001b[0m\u001b[0;34m.\u001b[0m\u001b[0mfill_none\u001b[0m\u001b[0;34m(\u001b[0m\u001b[0marray\u001b[0m\u001b[0;34m,\u001b[0m \u001b[0mvalue\u001b[0m\u001b[0;34m,\u001b[0m \u001b[0mhighlevel\u001b[0m\u001b[0;34m=\u001b[0m\u001b[0;32mTrue\u001b[0m\u001b[0;34m)\u001b[0m\u001b[0;34m\u001b[0m\u001b[0;34m\u001b[0m\u001b[0m\n",
       "\u001b[0;31mDocstring:\u001b[0m\n",
       "Args:\n",
       "    array: Data in which to replace None with a given value.\n",
       "    value: Data with which to replace None.\n",
       "    highlevel (bool): If True, return an #ak.Array; otherwise, return\n",
       "        a low-level #ak.layout.Content subclass.\n",
       "\n",
       "Replaces missing values (None) with a given `value`.\n",
       "\n",
       "For example, in the following `array`,\n",
       "\n",
       "    ak.Array([[1.1, None, 2.2], [], [None, 3.3, 4.4]])\n",
       "\n",
       "The None values could be replaced with `0` by\n",
       "\n",
       "    >>> ak.fill_none(array, 0)\n",
       "    <Array [[1.1, 0, 2.2], [], [0, 3.3, 4.4]] type='3 * var * float64'>\n",
       "\n",
       "The replacement value doesn't strictly need the same type as the\n",
       "surrounding data. For example, the None values could also be replaced\n",
       "by a string.\n",
       "\n",
       "    >>> ak.fill_none(array, \"hi\")\n",
       "    <Array [[1.1, 'hi', 2.2], ... ['hi', 3.3, 4.4]] type='3 * var * union[float64, s...'>\n",
       "\n",
       "The list content now has a union type:\n",
       "\n",
       "    >>> ak.type(ak.fill_none(array, \"hi\"))\n",
       "    3 * var * union[float64, string]\n",
       "\n",
       "The values could be floating-point numbers or strings.\n",
       "\u001b[0;31mFile:\u001b[0m      ~/irishep/awkward-1.0/awkward1/operations/structure.py\n",
       "\u001b[0;31mType:\u001b[0m      function\n"
      ]
     },
     "metadata": {},
     "output_type": "display_data"
    }
   ],
   "source": [
    "?ak.fill_none"
   ]
  },
  {
   "cell_type": "code",
   "execution_count": 37,
   "metadata": {},
   "outputs": [
    {
     "data": {
      "text/plain": [
       "[[81, 109, 130],\n",
       " [-1, -1, -1],\n",
       " [96, 98, -1],\n",
       " [78, -1, -1],\n",
       " [62, 101, -1],\n",
       " [-1, -1, -1],\n",
       " [61, 63, 90],\n",
       " [-1, -1, -1],\n",
       " [67, 70, 104],\n",
       " [61, 62, 73],\n",
       " [64, 65, -1],\n",
       " [65, -1, -1],\n",
       " [93, 140, 153],\n",
       " [52, 85, -1],\n",
       " [35, 44, 70],\n",
       " [70, 74, -1],\n",
       " [75, 76, -1],\n",
       " [87, 88, 132],\n",
       " [58, 70, 79],\n",
       " [-1, -1, -1],\n",
       " [-1, -1, -1],\n",
       " [58, 98, 99],\n",
       " [109, 110, -1],\n",
       " [51, 72, -1],\n",
       " [83, -1, -1],\n",
       " [-1, -1, -1],\n",
       " [45, -1, -1],\n",
       " [67, 98, 181],\n",
       " [-1, -1, -1],\n",
       " [54, 57, -1]]"
      ]
     },
     "execution_count": 37,
     "metadata": {},
     "output_type": "execute_result"
    }
   ],
   "source": [
    "# fill with -1 <- pad them                                  look at the first 30\n",
    "ak.fill_none(ak.pad_none(events.kaons.id, 3, clip=True), -1)[:30].tolist()"
   ]
  },
  {
   "cell_type": "markdown",
   "metadata": {},
   "source": [
    "These are still Awkward-brand arrays; the downstream library might complain if they're not NumPy-brand, so use [ak.to_numpy](https://awkward-array.readthedocs.io/en/latest/_auto/ak.to_numpy.html) or simply cast it with NumPy's `np.asarray`."
   ]
  },
  {
   "cell_type": "code",
   "execution_count": 67,
   "metadata": {
    "collapsed": true,
    "jupyter": {
     "outputs_hidden": true
    }
   },
   "outputs": [
    {
     "data": {
      "text/plain": [
       "\u001b[0;31mSignature:\u001b[0m \u001b[0mak\u001b[0m\u001b[0;34m.\u001b[0m\u001b[0mto_numpy\u001b[0m\u001b[0;34m(\u001b[0m\u001b[0marray\u001b[0m\u001b[0;34m)\u001b[0m\u001b[0;34m\u001b[0m\u001b[0;34m\u001b[0m\u001b[0m\n",
       "\u001b[0;31mDocstring:\u001b[0m\n",
       "Converts `array` (many types supported, including all Awkward Arrays and\n",
       "Records) into a NumPy array, if possible.\n",
       "\n",
       "If the data are numerical and regular (nested lists have equal lengths\n",
       "in each dimension, as described by the #type), they can be losslessly\n",
       "converted to a NumPy array and this function returns without an error.\n",
       "\n",
       "Otherwise, the function raises an error. It does not create a NumPy\n",
       "array with dtype `\"O\"` for `np.object_` (see the\n",
       "[note on object_ type](https://docs.scipy.org/doc/numpy/reference/arrays.scalars.html#arrays-scalars-built-in))\n",
       "since silent conversions to dtype `\"O\"` arrays would not only be a\n",
       "significant performance hit, but would also break functionality, since\n",
       "nested lists in a NumPy `\"O\"` array are severed from the array and\n",
       "cannot be sliced as dimensions.\n",
       "\n",
       "If `array` is a scalar, it is converted into a NumPy scalar.\n",
       "\n",
       "See also #ak.from_numpy.\n",
       "\u001b[0;31mFile:\u001b[0m      ~/irishep/awkward-1.0/awkward1/operations/convert.py\n",
       "\u001b[0;31mType:\u001b[0m      function\n"
      ]
     },
     "metadata": {},
     "output_type": "display_data"
    }
   ],
   "source": [
    "?ak.to_numpy"
   ]
  },
  {
   "cell_type": "code",
   "execution_count": 42,
   "metadata": {},
   "outputs": [
    {
     "data": {
      "text/plain": [
       "array([[ 81, 109, 130],\n",
       "       [ -1,  -1,  -1],\n",
       "       [ 96,  98,  -1],\n",
       "       ...,\n",
       "       [ 61,  66, 106],\n",
       "       [ 75,  81,  -1],\n",
       "       [ 40,  -1,  -1]])"
      ]
     },
     "execution_count": 42,
     "metadata": {},
     "output_type": "execute_result"
    }
   ],
   "source": [
    "np.asarray(ak.fill_none(ak.pad_none(events.kaons.id, 3, clip=True), -1))"
   ]
  },
  {
   "cell_type": "markdown",
   "metadata": {},
   "source": [
    "If you try to convert an Awkward Array as NumPy and structure would be lost, you get an error. (You won't accidentally eliminate structure.)"
   ]
  },
  {
   "cell_type": "code",
   "execution_count": 43,
   "metadata": {},
   "outputs": [
    {
     "name": "stdout",
     "output_type": "stream",
     "text": [
      "<class 'ValueError'> in ListOffsetArray64, cannot convert to RegularArray because subarray lengths are not regular\n"
     ]
    }
   ],
   "source": [
    "try:\n",
    "    np.asarray(events.kaons.id)\n",
    "except Exception as err:\n",
    "    print(type(err), str(err))"
   ]
  },
  {
   "cell_type": "markdown",
   "metadata": {},
   "source": [
    "## Broadcasting flat arrays and jagged arrays\n",
    "\n",
    "NumPy lets you combine arrays and scalars in a mathematical expression by first \"broadcasting\" the scalar to an array of the same length."
   ]
  },
  {
   "cell_type": "code",
   "execution_count": 47,
   "metadata": {},
   "outputs": [
    {
     "name": "stdout",
     "output_type": "stream",
     "text": [
      "[101 102 103 104 105]\n"
     ]
    }
   ],
   "source": [
    "print(np.array([1, 2, 3, 4, 5]) + 100)"
   ]
  },
  {
   "cell_type": "markdown",
   "metadata": {},
   "source": [
    "Awkward Array does the same thing, except that each element of a flat array can be broadcasted to each nested list of a jagged array.\n",
    "\n",
    "<img src=\"../docs-images/diagrams/cartoon-broadcasting.png\" width=\"300\">"
   ]
  },
  {
   "cell_type": "code",
   "execution_count": 46,
   "metadata": {},
   "outputs": [
    {
     "name": "stdout",
     "output_type": "stream",
     "text": [
      "[[101, 102, 103], [], [304, 305], [406]]\n"
     ]
    }
   ],
   "source": [
    "print(ak.Array([[1, 2, 3], [], [4, 5], [6]]) + np.array([100, 200, 300, 400]))"
   ]
  },
  {
   "cell_type": "markdown",
   "metadata": {},
   "source": [
    "This is useful for emulating\n",
    "\n",
    "```python\n",
    "all_vertices = []\n",
    "for event in events:\n",
    "    vertices = []\n",
    "    for kaon in events.kaons:\n",
    "        all_vertices.append((kaon.vtx.x - event.true.x,\n",
    "                             kaon.vtx.y - event.true.y))\n",
    "    all_vertices.append(vertices)\n",
    "```\n",
    "\n",
    "where `event.true.x` and `y` have only one value per event but `kaon.vtx.x` and `y` have one per kaon."
   ]
  },
  {
   "cell_type": "code",
   "execution_count": 54,
   "metadata": {},
   "outputs": [
    {
     "data": {
      "text/plain": [
       "<Array [[(0.0087, 0.00529), ... 0.00476)]] type='10000 * var * (float64, float64)'>"
      ]
     },
     "execution_count": 54,
     "metadata": {},
     "output_type": "execute_result"
    }
   ],
   "source": [
    "#       one value per kaon   one per event\n",
    "ak.zip([events.kaons.vtx.x - events.true.x,\n",
    "        events.kaons.vtx.y - events.true.y])"
   ]
  },
  {
   "cell_type": "markdown",
   "metadata": {},
   "source": [
    "You don't have to do anything special for this: broadcasting is a common feature of all functions that apply to more than one array.\n",
    "\n",
    "You can get it explicitly with [ak.broadcast_arrays](https://awkward-array.readthedocs.io/en/latest/_auto/ak.broadcast_arrays.html)."
   ]
  },
  {
   "cell_type": "code",
   "execution_count": 55,
   "metadata": {
    "collapsed": true,
    "jupyter": {
     "outputs_hidden": true
    }
   },
   "outputs": [
    {
     "data": {
      "text/plain": [
       "\u001b[0;31mSignature:\u001b[0m \u001b[0mak\u001b[0m\u001b[0;34m.\u001b[0m\u001b[0mbroadcast_arrays\u001b[0m\u001b[0;34m(\u001b[0m\u001b[0;34m*\u001b[0m\u001b[0marrays\u001b[0m\u001b[0;34m,\u001b[0m \u001b[0;34m**\u001b[0m\u001b[0mkwargs\u001b[0m\u001b[0;34m)\u001b[0m\u001b[0;34m\u001b[0m\u001b[0;34m\u001b[0m\u001b[0m\n",
       "\u001b[0;31mDocstring:\u001b[0m\n",
       "Args:\n",
       "    arrays: Arrays to broadcast into the same structure.\n",
       "    highlevel (bool, default is True): If True, return an #ak.Array;\n",
       "        otherwise, return a low-level #ak.layout.Content subclass.\n",
       "\n",
       "Like NumPy's\n",
       "[broadcast_arrays](https://docs.scipy.org/doc/numpy/reference/generated/numpy.broadcast_arrays.html)\n",
       "function, this function returns the input `arrays` with enough elements\n",
       "duplicated that they can be combined element-by-element.\n",
       "\n",
       "For NumPy arrays, this means that scalars are replaced with arrays with\n",
       "the same scalar value repeated at every element of the array, and regular\n",
       "dimensions are created to increase low-dimensional data into\n",
       "high-dimensional data.\n",
       "\n",
       "For example,\n",
       "\n",
       "    >>> ak.broadcast_arrays(5,\n",
       "    ...                     [1, 2, 3, 4, 5])\n",
       "    [<Array [5, 5, 5, 5, 5] type='5 * int64'>,\n",
       "     <Array [1, 2, 3, 4, 5] type='5 * int64'>]\n",
       "\n",
       "and\n",
       "\n",
       "    >>> ak.broadcast_arrays(np.array([1, 2, 3]),\n",
       "    ...                     np.array([[0.1, 0.2, 0.3], [10, 20, 30]]))\n",
       "    [<Array [[  1,   2,   3], [ 1,  2,  3]] type='2 * 3 * int64'>,\n",
       "     <Array [[0.1, 0.2, 0.3], [10, 20, 30]] type='2 * 3 * float64'>]\n",
       "\n",
       "Note that in the second example, when the `3 * int64` array is expanded\n",
       "to match the `2 * 3 * float64` array, it is the deepest dimension that\n",
       "is aligned. If we try to match a `2 * int64` with the `2 * 3 * float64`,\n",
       "\n",
       "    >>> ak.broadcast_arrays(np.array([1, 2]),\n",
       "    ...                     np.array([[0.1, 0.2, 0.3], [10, 20, 30]]))\n",
       "    ValueError: cannot broadcast RegularArray of size 2 with RegularArray of size 3\n",
       "\n",
       "NumPy has the same behavior: arrays with different numbers of dimensions\n",
       "are aligned to the right before expansion. One can control this by\n",
       "explicitly adding a new axis (reshape to add a dimension of length 1)\n",
       "where the expansion is supposed to take place because a dimension of\n",
       "length 1 can be expanded like a scalar.\n",
       "\n",
       "    >>> ak.broadcast_arrays(np.array([1, 2])[:, np.newaxis],\n",
       "    ...                     np.array([[0.1, 0.2, 0.3], [10, 20, 30]]))\n",
       "    [<Array [[  1,   1,   1], [ 2,  2,  2]] type='2 * 3 * int64'>,\n",
       "     <Array [[0.1, 0.2, 0.3], [10, 20, 30]] type='2 * 3 * float64'>]\n",
       "\n",
       "Again, NumPy does the same thing (`np.newaxis` is equal to None, so this\n",
       "trick is often shown with None in the slice-tuple). Where the broadcasting\n",
       "happens can be controlled, but numbers of dimensions that don't match are\n",
       "implicitly aligned to the right (fitting innermost structure, not\n",
       "outermost).\n",
       "\n",
       "While that might be an arbitrary decision for rectilinear arrays, it is\n",
       "much more natural for implicit broadcasting to align left for tree-like\n",
       "structures. That is, the root of each data structure should agree and\n",
       "leaves may be duplicated to match. For example,\n",
       "\n",
       "    >>> ak.broadcast_arrays([            100,   200,        300],\n",
       "    ...                     [[1.1, 2.2, 3.3],    [], [4.4, 5.5]])\n",
       "    [<Array [[100, 100, 100], [], [300, 300]] type='3 * var * int64'>,\n",
       "     <Array [[1.1, 2.2, 3.3], [], [4.4, 5.5]] type='3 * var * float64'>]\n",
       "\n",
       "One typically wants single-item-per-element data to be duplicated to\n",
       "match multiple-items-per-element data. Operations on the broadcasted\n",
       "arrays like\n",
       "\n",
       "    one_dimensional + nested_lists\n",
       "\n",
       "would then have the same effect as the procedural code\n",
       "\n",
       "    for x, outer in zip(one_dimensional, nested_lists):\n",
       "        output = []\n",
       "        for inner in outer:\n",
       "            output.append(x + inner)\n",
       "        yield output\n",
       "\n",
       "where `x` has the same value for each `inner` in the inner loop.\n",
       "\n",
       "Awkward Array's broadcasting manages to have it both ways by applying the\n",
       "following rules:\n",
       "\n",
       "   * If a dimension is regular (i.e. #ak.types.RegularType), like NumPy,\n",
       "     implicit broadcasting aligns to the right, like NumPy.\n",
       "   * If a dimension is variable (i.e. #ak.types.ListType), which can\n",
       "     never be true of NumPy, implicit broadcasting aligns to the left.\n",
       "   * Explicit broadcasting with a length-1 regular dimension always\n",
       "     broadcasts, like NumPy.\n",
       "\n",
       "Thus, it is important to be aware of the distinction between a dimension\n",
       "that is declared to be regular in the type specification and a dimension\n",
       "that is allowed to be variable (even if it happens to have the same length\n",
       "for all elements). This distinction is can be accessed through the\n",
       "#ak.Array.type, but it is lost when converting an array into JSON or\n",
       "Python objects.\n",
       "\u001b[0;31mFile:\u001b[0m      ~/irishep/awkward-1.0/awkward1/operations/structure.py\n",
       "\u001b[0;31mType:\u001b[0m      function\n"
      ]
     },
     "metadata": {},
     "output_type": "display_data"
    }
   ],
   "source": [
    "?ak.broadcast_arrays"
   ]
  },
  {
   "cell_type": "code",
   "execution_count": 58,
   "metadata": {},
   "outputs": [
    {
     "data": {
      "text/plain": [
       "[<Array [[0, 0, 0, 0, 0, 0], ... [0, 0], [0]] type='10000 * var * float64'>,\n",
       " <Array [[0.0087, -0.00317, ... [-0.00209]] type='10000 * var * float64'>]"
      ]
     },
     "execution_count": 58,
     "metadata": {},
     "output_type": "execute_result"
    }
   ],
   "source": [
    "ak.broadcast_arrays(events.true.x, events.kaons.vtx.x)"
   ]
  },
  {
   "cell_type": "markdown",
   "metadata": {},
   "source": [
    "## Combinatorics: cartesian and combinations\n",
    "\n",
    "At all levels of a physics analysis, we need to compare objects drawn from different collections.\n",
    "\n",
    "   * **Gen-reco matching:** to associate a reconstructed particle with its generator-level parameters.\n",
    "   * **Cleaning:** assocating soft photons with a reconstructed electron or leptons to a jet.\n",
    "   * **Bump-hunting:** looking for mass peaks in pairs of particles.\n",
    "   * **Dalitz analysis:** looking for resonance structure in triples of particles.\n",
    "\n",
    "To do this with array-at-a-time operations, use one function to generate all the combinations, \n",
    "\n",
    "<img src=\"https://github.com/diana-hep/femtocode/raw/master/docs/explode.png\" width=\"300\">\n",
    "\n",
    "apply \"flat\" operations,\n",
    "\n",
    "<img src=\"https://github.com/diana-hep/femtocode/raw/master/docs/flat.png\" width=\"300\">\n",
    "\n",
    "then use \"reducers\" to get one value per particle or per event again.\n",
    "\n",
    "<img src=\"https://github.com/diana-hep/femtocode/raw/master/docs/reduce.png\" width=\"300\">"
   ]
  },
  {
   "cell_type": "markdown",
   "metadata": {},
   "source": [
    "### Cartesian and combinations\n",
    "\n",
    "The two main \"explode\" operations are [ak.cartesian](https://awkward-array.readthedocs.io/en/latest/_auto/ak.cartesian.html) and [ak.combinations](https://awkward-array.readthedocs.io/en/latest/_auto/ak.combinations.html).\n",
    "\n",
    "The first generates the **Cartesian product** (a.k.a. cross product) of two collections **per nested list**.\n",
    "\n",
    "<img src=\"../docs-images/diagrams/cartoon-cartesian.png\" width=\"300\">\n",
    "\n",
    "The second generates **distinct combinations** (i.e. \"n choose k\") of a collection with itself **per nested list**.\n",
    "\n",
    "<img src=\"../docs-images/diagrams/cartoon-combinations.png\" width=\"300\">"
   ]
  },
  {
   "cell_type": "code",
   "execution_count": 59,
   "metadata": {
    "collapsed": true,
    "jupyter": {
     "outputs_hidden": true
    }
   },
   "outputs": [
    {
     "data": {
      "text/plain": [
       "\u001b[0;31mSignature:\u001b[0m\n",
       "\u001b[0mak\u001b[0m\u001b[0;34m.\u001b[0m\u001b[0mcartesian\u001b[0m\u001b[0;34m(\u001b[0m\u001b[0;34m\u001b[0m\n",
       "\u001b[0;34m\u001b[0m    \u001b[0marrays\u001b[0m\u001b[0;34m,\u001b[0m\u001b[0;34m\u001b[0m\n",
       "\u001b[0;34m\u001b[0m    \u001b[0maxis\u001b[0m\u001b[0;34m=\u001b[0m\u001b[0;36m1\u001b[0m\u001b[0;34m,\u001b[0m\u001b[0;34m\u001b[0m\n",
       "\u001b[0;34m\u001b[0m    \u001b[0mnested\u001b[0m\u001b[0;34m=\u001b[0m\u001b[0;32mNone\u001b[0m\u001b[0;34m,\u001b[0m\u001b[0;34m\u001b[0m\n",
       "\u001b[0;34m\u001b[0m    \u001b[0mparameters\u001b[0m\u001b[0;34m=\u001b[0m\u001b[0;32mNone\u001b[0m\u001b[0;34m,\u001b[0m\u001b[0;34m\u001b[0m\n",
       "\u001b[0;34m\u001b[0m    \u001b[0mwith_name\u001b[0m\u001b[0;34m=\u001b[0m\u001b[0;32mNone\u001b[0m\u001b[0;34m,\u001b[0m\u001b[0;34m\u001b[0m\n",
       "\u001b[0;34m\u001b[0m    \u001b[0mhighlevel\u001b[0m\u001b[0;34m=\u001b[0m\u001b[0;32mTrue\u001b[0m\u001b[0;34m,\u001b[0m\u001b[0;34m\u001b[0m\n",
       "\u001b[0;34m\u001b[0m\u001b[0;34m)\u001b[0m\u001b[0;34m\u001b[0m\u001b[0;34m\u001b[0m\u001b[0m\n",
       "\u001b[0;31mDocstring:\u001b[0m\n",
       "Args:\n",
       "    arrays (dict or iterable of arrays): Arrays on which to compute the\n",
       "        Cartesian product.\n",
       "    axis (int): The dimension at which this operation is applied. The\n",
       "        outermost dimension is `0`, followed by `1`, etc., and negative\n",
       "        values count backward from the innermost: `-1` is the innermost\n",
       "        dimension, `-2` is the next level up, etc.\n",
       "    nested (None, True, False, or iterable of str or int): If None or\n",
       "        False, all combinations of elements from the `arrays` are\n",
       "        produced at the same level of nesting; if True, they are grouped\n",
       "        in nested lists by combinations that share a common item from\n",
       "        each of the `arrays`; if an iterable of str or int, group common\n",
       "        items for a chosen set of keys from the `array` dict or slots\n",
       "        of the `array` iterable.\n",
       "    parameters (dict): Parameters for the new #ak.layout.RecordArray node\n",
       "        that is created by this operation.\n",
       "    with_name (None or str): Assigns a `\"__record__\"` name to the new\n",
       "        #ak.layout.RecordArray node that is created by this operation\n",
       "        (overriding `parameters`, if necessary).\n",
       "    highlevel (bool): If True, return an #ak.Array; otherwise, return\n",
       "        a low-level #ak.layout.Content subclass.\n",
       "\n",
       "Computes a Cartesian product (i.e. cross product) of data from a set of\n",
       "`arrays`. This operation creates records (if `arrays` is a dict) or tuples\n",
       "(if `arrays` is another kind of iterable) that hold the combinations\n",
       "of elements, and it can introduce new levels of nesting.\n",
       "\n",
       "As a simple example with `axis=0`, the Cartesian product of\n",
       "\n",
       "    >>> one = ak.Array([1, 2, 3])\n",
       "    >>> two = ak.Array([\"a\", \"b\"])\n",
       "\n",
       "is\n",
       "\n",
       "    >>> ak.to_list(ak.cartesian([one, two], axis=0))\n",
       "    [(1, 'a'), (1, 'b'), (2, 'a'), (2, 'b'), (3, 'a'), (3, 'b')]\n",
       "\n",
       "With nesting, a new level of nested lists is created to group combinations\n",
       "that share the same element from `one` into the same list.\n",
       "\n",
       "    >>> ak.to_list(ak.cartesian([one, two], axis=0, nested=True))\n",
       "    [[(1, 'a'), (1, 'b')], [(2, 'a'), (2, 'b')], [(3, 'a'), (3, 'b')]]\n",
       "\n",
       "The primary purpose of this function, however, is to compute a different\n",
       "Cartesian product for each element of an array: in other words, `axis=1`.\n",
       "The following arrays each have four elements.\n",
       "\n",
       "    >>> one = ak.Array([[1, 2, 3], [], [4, 5], [6]])\n",
       "    >>> two = ak.Array([[\"a\", \"b\"], [\"c\"], [\"d\"], [\"e\", \"f\"]])\n",
       "\n",
       "The default `axis=1` produces 6 pairs from the Cartesian product of\n",
       "`[1, 2, 3]` and `[\"a\", \"b\"]`, 0 pairs from `[]` and `[\"c\"]`, 1 pair from\n",
       "`[4, 5]` and `[\"d\"]`, and 1 pair from `[6]` and `[\"e\", \"f\"]`.\n",
       "\n",
       "    >>> ak.to_list(ak.cartesian([one, two]))\n",
       "    [[(1, 'a'), (1, 'b'), (2, 'a'), (2, 'b'), (3, 'a'), (3, 'b')],\n",
       "     [],\n",
       "     [(4, 'd'), (5, 'd')],\n",
       "     [(6, 'e'), (6, 'f')]]\n",
       "\n",
       "The nesting depth is the same as the original arrays; with `nested=True`,\n",
       "the nesting depth is increased by 1 and tuples are grouped by their\n",
       "first element.\n",
       "\n",
       "    >>> ak.to_list(ak.cartesian([one, two], nested=True))\n",
       "    [[[(1, 'a'), (1, 'b')], [(2, 'a'), (2, 'b')], [(3, 'a'), (3, 'b')]],\n",
       "     [],\n",
       "     [[(4, 'd')], [(5, 'd')]],\n",
       "     [[(6, 'e'), (6, 'f')]]]\n",
       "\n",
       "These tuples are #ak.layout.RecordArray nodes with unnamed fields. To\n",
       "name the fields, we can pass `one` and `two` in a dict, rather than a list.\n",
       "\n",
       "    >>> ak.to_list(ak.cartesian({\"x\": one, \"y\": two}))\n",
       "    [\n",
       "     [{'x': 1, 'y': 'a'},\n",
       "      {'x': 1, 'y': 'b'},\n",
       "      {'x': 2, 'y': 'a'},\n",
       "      {'x': 2, 'y': 'b'},\n",
       "      {'x': 3, 'y': 'a'},\n",
       "      {'x': 3, 'y': 'b'}],\n",
       "     [],\n",
       "     [{'x': 4, 'y': 'd'},\n",
       "      {'x': 5, 'y': 'd'}],\n",
       "     [{'x': 6, 'y': 'e'},\n",
       "      {'x': 6, 'y': 'f'}]\n",
       "    ]\n",
       "\n",
       "With more than two elements in the Cartesian product, `nested` can specify\n",
       "which are grouped and which are not. For example,\n",
       "\n",
       "    >>> one = ak.Array([1, 2, 3, 4])\n",
       "    >>> two = ak.Array([1.1, 2.2, 3.3])\n",
       "    >>> three = ak.Array([\"a\", \"b\"])\n",
       "\n",
       "can be left entirely ungrouped:\n",
       "\n",
       "    >>> ak.to_list(ak.cartesian([one, two, three], axis=0))\n",
       "    [\n",
       "     (1, 1.1, 'a'),\n",
       "     (1, 1.1, 'b'),\n",
       "     (1, 2.2, 'a'),\n",
       "     (1, 2.2, 'b'),\n",
       "     (1, 3.3, 'a'),\n",
       "     (1, 3.3, 'b'),\n",
       "     (2, 1.1, 'a'),\n",
       "     (2, 1.1, 'b'),\n",
       "     (2, 2.2, 'a'),\n",
       "     (2, 2.2, 'b'),\n",
       "     (2, 3.3, 'a'),\n",
       "     (2, 3.3, 'b'),\n",
       "     (3, 1.1, 'a'),\n",
       "     (3, 1.1, 'b'),\n",
       "     (3, 2.2, 'a'),\n",
       "     (3, 2.2, 'b'),\n",
       "     (3, 3.3, 'a'),\n",
       "     (3, 3.3, 'b'),\n",
       "     (4, 1.1, 'a'),\n",
       "     (4, 1.1, 'b'),\n",
       "     (4, 2.2, 'a'),\n",
       "     (4, 2.2, 'b'),\n",
       "     (4, 3.3, 'a'),\n",
       "     (4, 3.3, 'b')\n",
       "    ]\n",
       "\n",
       "can be grouped by `one` (adding 1 more dimension):\n",
       "\n",
       "    >>> ak.to_list(ak.cartesian([one, two, three], axis=0, nested=[0]))\n",
       "    [\n",
       "     [(1, 1.1, 'a'), (1, 1.1, 'b'), (1, 2.2, 'a')],\n",
       "     [(1, 2.2, 'b'), (1, 3.3, 'a'), (1, 3.3, 'b')],\n",
       "     [(2, 1.1, 'a'), (2, 1.1, 'b'), (2, 2.2, 'a')],\n",
       "     [(2, 2.2, 'b'), (2, 3.3, 'a'), (2, 3.3, 'b')],\n",
       "     [(3, 1.1, 'a'), (3, 1.1, 'b'), (3, 2.2, 'a')],\n",
       "     [(3, 2.2, 'b'), (3, 3.3, 'a'), (3, 3.3, 'b')],\n",
       "     [(4, 1.1, 'a'), (4, 1.1, 'b'), (4, 2.2, 'a')],\n",
       "     [(4, 2.2, 'b'), (4, 3.3, 'a'), (4, 3.3, 'b')]\n",
       "    ]\n",
       "\n",
       "can be grouped by `one` and `two` (adding 2 more dimensions):\n",
       "\n",
       "    >>> ak.to_list(ak.cartesian([one, two, three], axis=0, nested=[0, 1]))\n",
       "    [\n",
       "     [\n",
       "      [(1, 1.1, 'a'), (1, 1.1, 'b')],\n",
       "      [(1, 2.2, 'a'), (1, 2.2, 'b')],\n",
       "      [(1, 3.3, 'a'), (1, 3.3, 'b')]\n",
       "     ],\n",
       "     [\n",
       "      [(2, 1.1, 'a'), (2, 1.1, 'b')],\n",
       "      [(2, 2.2, 'a'), (2, 2.2, 'b')],\n",
       "      [(2, 3.3, 'a'), (2, 3.3, 'b')]\n",
       "     ],\n",
       "     [\n",
       "      [(3, 1.1, 'a'), (3, 1.1, 'b')],\n",
       "      [(3, 2.2, 'a'), (3, 2.2, 'b')],\n",
       "      [(3, 3.3, 'a'), (3, 3.3, 'b')]],\n",
       "     [\n",
       "      [(4, 1.1, 'a'), (4, 1.1, 'b')],\n",
       "      [(4, 2.2, 'a'), (4, 2.2, 'b')],\n",
       "      [(4, 3.3, 'a'), (4, 3.3, 'b')]]\n",
       "    ]\n",
       "\n",
       "or grouped by unique `one`-`two` pairs (adding 1 more dimension):\n",
       "\n",
       "    >>> ak.to_list(ak.cartesian([one, two, three], axis=0, nested=[1]))\n",
       "    [\n",
       "     [(1, 1.1, 'a'), (1, 1.1, 'b')],\n",
       "     [(1, 2.2, 'a'), (1, 2.2, 'b')],\n",
       "     [(1, 3.3, 'a'), (1, 3.3, 'b')],\n",
       "     [(2, 1.1, 'a'), (2, 1.1, 'b')],\n",
       "     [(2, 2.2, 'a'), (2, 2.2, 'b')],\n",
       "     [(2, 3.3, 'a'), (2, 3.3, 'b')],\n",
       "     [(3, 1.1, 'a'), (3, 1.1, 'b')],\n",
       "     [(3, 2.2, 'a'), (3, 2.2, 'b')],\n",
       "     [(3, 3.3, 'a'), (3, 3.3, 'b')],\n",
       "     [(4, 1.1, 'a'), (4, 1.1, 'b')],\n",
       "     [(4, 2.2, 'a'), (4, 2.2, 'b')],\n",
       "     [(4, 3.3, 'a'), (4, 3.3, 'b')]\n",
       "    ]\n",
       "\n",
       "The order of the output is fixed: it is always lexicographical in the\n",
       "order that the `arrays` are written. (Before Python 3.6, the order of\n",
       "keys in a dict were not guaranteed, so the dict interface is not\n",
       "recommended for these versions of Python.) Thus, it is not possible to\n",
       "group by `three` in the example above.\n",
       "\n",
       "To emulate an SQL or Pandas \"group by\" operation, put the keys that you\n",
       "wish to group by *first* and use `nested=[0]` or `nested=[n]` to group by\n",
       "unique n-tuples. If necessary, record keys can later be reordered with a\n",
       "list of strings in #ak.Array.__getitem__.\n",
       "\n",
       "To get list index positions in the tuples/records, rather than data from\n",
       "the original `arrays`, use #ak.argcartesian instead of #ak.cartesian. The\n",
       "#ak.argcartesian form can be particularly useful as nested indexing in\n",
       "#ak.Array.__getitem__.\n",
       "\u001b[0;31mFile:\u001b[0m      ~/irishep/awkward-1.0/awkward1/operations/structure.py\n",
       "\u001b[0;31mType:\u001b[0m      function\n"
      ]
     },
     "metadata": {},
     "output_type": "display_data"
    }
   ],
   "source": [
    "?ak.cartesian"
   ]
  },
  {
   "cell_type": "code",
   "execution_count": 60,
   "metadata": {
    "collapsed": true,
    "jupyter": {
     "outputs_hidden": true
    }
   },
   "outputs": [
    {
     "data": {
      "text/plain": [
       "\u001b[0;31mSignature:\u001b[0m\n",
       "\u001b[0mak\u001b[0m\u001b[0;34m.\u001b[0m\u001b[0mcombinations\u001b[0m\u001b[0;34m(\u001b[0m\u001b[0;34m\u001b[0m\n",
       "\u001b[0;34m\u001b[0m    \u001b[0marray\u001b[0m\u001b[0;34m,\u001b[0m\u001b[0;34m\u001b[0m\n",
       "\u001b[0;34m\u001b[0m    \u001b[0mn\u001b[0m\u001b[0;34m,\u001b[0m\u001b[0;34m\u001b[0m\n",
       "\u001b[0;34m\u001b[0m    \u001b[0mreplacement\u001b[0m\u001b[0;34m=\u001b[0m\u001b[0;32mFalse\u001b[0m\u001b[0;34m,\u001b[0m\u001b[0;34m\u001b[0m\n",
       "\u001b[0;34m\u001b[0m    \u001b[0maxis\u001b[0m\u001b[0;34m=\u001b[0m\u001b[0;36m1\u001b[0m\u001b[0;34m,\u001b[0m\u001b[0;34m\u001b[0m\n",
       "\u001b[0;34m\u001b[0m    \u001b[0mkeys\u001b[0m\u001b[0;34m=\u001b[0m\u001b[0;32mNone\u001b[0m\u001b[0;34m,\u001b[0m\u001b[0;34m\u001b[0m\n",
       "\u001b[0;34m\u001b[0m    \u001b[0mparameters\u001b[0m\u001b[0;34m=\u001b[0m\u001b[0;32mNone\u001b[0m\u001b[0;34m,\u001b[0m\u001b[0;34m\u001b[0m\n",
       "\u001b[0;34m\u001b[0m    \u001b[0mwith_name\u001b[0m\u001b[0;34m=\u001b[0m\u001b[0;32mNone\u001b[0m\u001b[0;34m,\u001b[0m\u001b[0;34m\u001b[0m\n",
       "\u001b[0;34m\u001b[0m    \u001b[0mhighlevel\u001b[0m\u001b[0;34m=\u001b[0m\u001b[0;32mTrue\u001b[0m\u001b[0;34m,\u001b[0m\u001b[0;34m\u001b[0m\n",
       "\u001b[0;34m\u001b[0m\u001b[0;34m)\u001b[0m\u001b[0;34m\u001b[0m\u001b[0;34m\u001b[0m\u001b[0m\n",
       "\u001b[0;31mDocstring:\u001b[0m\n",
       "Args:\n",
       "    array: Array from which to choose `n` items without replacement.\n",
       "    n (int): The number of items to choose in each list: `2` chooses\n",
       "        unique pairs, `3` chooses unique triples, etc.\n",
       "    replacement (bool): If True, combinations that include the same\n",
       "        item more than once are allowed; otherwise each item in a\n",
       "        combinations is strictly unique.\n",
       "    axis (int): The dimension at which this operation is applied. The\n",
       "        outermost dimension is `0`, followed by `1`, etc., and negative\n",
       "        values count backward from the innermost: `-1` is the innermost\n",
       "        dimension, `-2` is the next level up, etc.\n",
       "    keys (None or list of str): If None, the pairs/triples/etc. are\n",
       "        tuples with unnamed fields; otherwise, these `keys` name the\n",
       "        fields. The number of `keys` must be equal to `n`.\n",
       "    parameters (dict): Parameters for the new #ak.layout.RecordArray node\n",
       "        that is created by this operation.\n",
       "    with_name (None or str): Assigns a `\"__record__\"` name to the new\n",
       "        #ak.layout.RecordArray node that is created by this operation\n",
       "        (overriding `parameters`, if necessary).\n",
       "    highlevel (bool): If True, return an #ak.Array; otherwise, return\n",
       "        a low-level #ak.layout.Content subclass.\n",
       "\n",
       "Computes a Cartesian product (i.e. cross product) of `array` with itself\n",
       "that is restricted to combinations sampled without replacement. If the\n",
       "normal Cartesian product is thought of as an `n` dimensional tensor, these\n",
       "represent the \"upper triangle\" of sets without repetition. If\n",
       "`replacement=True`, the diagonal of this \"upper triangle\" is included.\n",
       "\n",
       "As a simple example with `axis=0`, consider the following `array`\n",
       "\n",
       "    ak.Array([\"a\", \"b\", \"c\", \"d\", \"e\"])\n",
       "\n",
       "The combinations choose `2` are:\n",
       "\n",
       "    >>> ak.to_list(ak.combinations(array, 2, axis=0))\n",
       "    [('a', 'b'), ('a', 'c'), ('a', 'd'), ('a', 'e'),\n",
       "                 ('b', 'c'), ('b', 'd'), ('b', 'e'),\n",
       "                             ('c', 'd'), ('c', 'e'),\n",
       "                                         ('d', 'e')]\n",
       "\n",
       "Including the diagonal allows pairs like `('a', 'a')`.\n",
       "\n",
       "    >>> ak.to_list(ak.combinations(array, 2, axis=0, replacement=True))\n",
       "    [('a', 'a'), ('a', 'b'), ('a', 'c'), ('a', 'd'), ('a', 'e'),\n",
       "                 ('b', 'b'), ('b', 'c'), ('b', 'd'), ('b', 'e'),\n",
       "                             ('c', 'c'), ('c', 'd'), ('c', 'e'),\n",
       "                                         ('d', 'd'), ('d', 'e'),\n",
       "                                                     ('e', 'e')]\n",
       "\n",
       "The combinations choose `3` can't be easily arranged as a triangle\n",
       "in two dimensions.\n",
       "\n",
       "    >>> ak.to_list(ak.combinations(array, 3, axis=0))\n",
       "    [('a', 'b', 'c'), ('a', 'b', 'd'), ('a', 'b', 'e'), ('a', 'c', 'd'), ('a', 'c', 'e'),\n",
       "     ('a', 'd', 'e'), ('b', 'c', 'd'), ('b', 'c', 'e'), ('b', 'd', 'e'), ('c', 'd', 'e')]\n",
       "\n",
       "Including the (three-dimensional) diagonal allows triples like\n",
       "`('a', 'a', 'a')`, but also `('a', 'a', 'b')`, `('a', 'b', 'b')`, etc.,\n",
       "but not `('a', 'b', 'a')`. All combinations are in the same order as\n",
       "the original array.\n",
       "\n",
       "    >>> ak.to_list(ak.combinations(array, 3, axis=0, replacement=True))\n",
       "    [('a', 'a', 'a'), ('a', 'a', 'b'), ('a', 'a', 'c'), ('a', 'a', 'd'), ('a', 'a', 'e'),\n",
       "     ('a', 'b', 'b'), ('a', 'b', 'c'), ('a', 'b', 'd'), ('a', 'b', 'e'), ('a', 'c', 'c'),\n",
       "     ('a', 'c', 'd'), ('a', 'c', 'e'), ('a', 'd', 'd'), ('a', 'd', 'e'), ('a', 'e', 'e'),\n",
       "     ('b', 'b', 'b'), ('b', 'b', 'c'), ('b', 'b', 'd'), ('b', 'b', 'e'), ('b', 'c', 'c'),\n",
       "     ('b', 'c', 'd'), ('b', 'c', 'e'), ('b', 'd', 'd'), ('b', 'd', 'e'), ('b', 'e', 'e'),\n",
       "     ('c', 'c', 'c'), ('c', 'c', 'd'), ('c', 'c', 'e'), ('c', 'd', 'd'), ('c', 'd', 'e'),\n",
       "     ('c', 'e', 'e'), ('d', 'd', 'd'), ('d', 'd', 'e'), ('d', 'e', 'e'), ('e', 'e', 'e')]\n",
       "\n",
       "The primary purpose of this function, however, is to compute a different\n",
       "set of combinations for each element of an array: in other words, `axis=1`.\n",
       "The following `array` has a different number of items in each element.\n",
       "\n",
       "    ak.Array([[1, 2, 3, 4], [], [5], [6, 7, 8]])\n",
       "\n",
       "There are 6 ways to choose pairs from 4 elements, 0 ways to choose pairs\n",
       "from 0 elements, 0 ways to choose pairs from 1 element, and 3 ways to\n",
       "choose pairs from 3 elements.\n",
       "\n",
       "    >>> ak.to_list(ak.combinations(array, 2))\n",
       "    [\n",
       "     [(1, 2), (1, 3), (1, 4), (2, 3), (2, 4), (3, 4)],\n",
       "     [],\n",
       "     [],\n",
       "     [(6, 7), (6, 8), (7, 8)]\n",
       "    ]\n",
       "\n",
       "Note, however, that the combinatorics isn't determined by equality of\n",
       "the data themselves, but by their placement in the array. For example,\n",
       "even if all elements of an array are equal, the output has the same\n",
       "structure.\n",
       "\n",
       "    >>> same = ak.Array([[7, 7, 7, 7], [], [7], [7, 7, 7]])\n",
       "    >>> ak.to_list(ak.combinations(same, 2))\n",
       "    [\n",
       "     [(7, 7), (7, 7), (7, 7), (7, 7), (7, 7), (7, 7)],\n",
       "     [],\n",
       "     [],\n",
       "     [(7, 7), (7, 7), (7, 7)]\n",
       "    ]\n",
       "\n",
       "To get records instead of tuples, pass a set of field names to `keys`.\n",
       "\n",
       "    >>> ak.to_list(ak.combinations(array, 2, keys=[\"x\", \"y\"]))\n",
       "    [\n",
       "     [{'x': 1, 'y': 2}, {'x': 1, 'y': 3}, {'x': 1, 'y': 4},\n",
       "                        {'x': 2, 'y': 3}, {'x': 2, 'y': 4},\n",
       "                                          {'x': 3, 'y': 4}],\n",
       "     [],\n",
       "     [],\n",
       "     [{'x': 6, 'y': 7}, {'x': 6, 'y': 8},\n",
       "                        {'x': 7, 'y': 8}]]\n",
       "\n",
       "This operation can be constructed from #ak.argcartesian and other\n",
       "primitives:\n",
       "\n",
       "    >>> left, right = ak.unzip(ak.argcartesian([array, array]))\n",
       "    >>> keep = left < right\n",
       "    >>> result = ak.zip([array[left][keep], array[right][keep]])\n",
       "    >>> ak.to_list(result)\n",
       "    [\n",
       "     [(1, 2), (1, 3), (1, 4), (2, 3), (2, 4), (3, 4)],\n",
       "     [],\n",
       "     [],\n",
       "     [(6, 7), (6, 8), (7, 8)]]\n",
       "\n",
       "but it is frequently needed for data analysis, and the logic of which\n",
       "indexes to `keep` (above) gets increasingly complicated for large `n`.\n",
       "\n",
       "To get list index positions in the tuples/records, rather than data from\n",
       "the original `array`, use #ak.argcombinations instead of #ak.combinations.\n",
       "The #ak.argcombinations form can be particularly useful as nested indexing\n",
       "in #ak.Array.__getitem__.\n",
       "\u001b[0;31mFile:\u001b[0m      ~/irishep/awkward-1.0/awkward1/operations/structure.py\n",
       "\u001b[0;31mType:\u001b[0m      function\n"
      ]
     },
     "metadata": {},
     "output_type": "display_data"
    }
   ],
   "source": [
    "?ak.combinations"
   ]
  },
  {
   "cell_type": "code",
   "execution_count": 64,
   "metadata": {},
   "outputs": [
    {
     "data": {
      "text/plain": [
       "[[(1, 'a'), (1, 'b'), (2, 'a'), (2, 'b'), (3, 'a'), (3, 'b')],\n",
       " [],\n",
       " [(4, 'd'), (4, 'e')]]"
      ]
     },
     "execution_count": 64,
     "metadata": {},
     "output_type": "execute_result"
    }
   ],
   "source": [
    "ak.to_list(ak.cartesian(([[1, 2, 3], [], [4]],\n",
    "                         [[\"a\", \"b\"], [\"c\"], [\"d\", \"e\"]])))"
   ]
  },
  {
   "cell_type": "code",
   "execution_count": 67,
   "metadata": {},
   "outputs": [
    {
     "data": {
      "text/plain": [
       "[[('a', 'b'), ('a', 'c'), ('a', 'd'), ('b', 'c'), ('b', 'd'), ('c', 'd')],\n",
       " [],\n",
       " [(1, 2)]]"
      ]
     },
     "execution_count": 67,
     "metadata": {},
     "output_type": "execute_result"
    }
   ],
   "source": [
    "ak.to_list(ak.combinations([[\"a\", \"b\", \"c\", \"d\"], [], [1, 2]], 2))"
   ]
  },
  {
   "cell_type": "markdown",
   "metadata": {},
   "source": [
    "To search for $\\Lambda^0 \\to \\pi p$, we need to compute the mass of pairs drawn from these two collections."
   ]
  },
  {
   "cell_type": "code",
   "execution_count": 69,
   "metadata": {},
   "outputs": [
    {
     "data": {
      "text/plain": [
       "<Array [[({id: 79, pdg: 211, ... [], []] type='10000 * var * (particle[\"id\": uin...'>"
      ]
     },
     "execution_count": 69,
     "metadata": {},
     "output_type": "execute_result"
    }
   ],
   "source": [
    "pairs = ak.cartesian([events.pions, events.protons])\n",
    "pairs"
   ]
  },
  {
   "cell_type": "code",
   "execution_count": 76,
   "metadata": {
    "collapsed": true,
    "jupyter": {
     "outputs_hidden": true
    }
   },
   "outputs": [
    {
     "data": {
      "text/plain": [
       "\u001b[0;31mSignature:\u001b[0m \u001b[0mak\u001b[0m\u001b[0;34m.\u001b[0m\u001b[0munzip\u001b[0m\u001b[0;34m(\u001b[0m\u001b[0marray\u001b[0m\u001b[0;34m)\u001b[0m\u001b[0;34m\u001b[0m\u001b[0;34m\u001b[0m\u001b[0m\n",
       "\u001b[0;31mDocstring:\u001b[0m\n",
       "If the `array` contains tuples or records, this operation splits them\n",
       "into a Python tuple of arrays, one for each field.\n",
       "\n",
       "If the `array` does not contain tuples or records, the single `array`\n",
       "is placed in a length 1 Python tuple.\n",
       "\n",
       "For example,\n",
       "\n",
       "    >>> array = ak.Array([{\"x\": 1.1, \"y\": [1]},\n",
       "    ...                   {\"x\": 2.2, \"y\": [2, 2]},\n",
       "    ...                   {\"x\": 3.3, \"y\": [3, 3, 3]}])\n",
       "    >>> x, y = ak.unzip(array)\n",
       "    >>> x\n",
       "    <Array [1.1, 2.2, 3.3] type='3 * float64'>\n",
       "    >>> y\n",
       "    <Array [[1], [2, 2], [3, 3, 3]] type='3 * var * int64'>\n",
       "\u001b[0;31mFile:\u001b[0m      ~/irishep/awkward-1.0/awkward1/operations/structure.py\n",
       "\u001b[0;31mType:\u001b[0m      function\n"
      ]
     },
     "metadata": {},
     "output_type": "display_data"
    }
   ],
   "source": [
    "?ak.unzip"
   ]
  },
  {
   "cell_type": "code",
   "execution_count": 24,
   "metadata": {},
   "outputs": [],
   "source": [
    "def mass(pairs, left_mass, right_mass):\n",
    "    left, right = ak.unzip(pairs)\n",
    "    left_energy = np.sqrt(left.p**2 + left_mass**2)\n",
    "    right_energy = np.sqrt(right.p**2 + right_mass**2)\n",
    "    return np.sqrt((left_energy + right_energy)**2 -\n",
    "                   (left.px + right.px)**2 -\n",
    "                   (left.py + right.py)**2 -\n",
    "                   (left.pz + right.pz)**2)"
   ]
  },
  {
   "cell_type": "code",
   "execution_count": 74,
   "metadata": {},
   "outputs": [
    {
     "data": {
      "text/plain": [
       "<Array [[1.36, 1.64, 1.16, 1.16, ... [], []] type='10000 * var * float64'>"
      ]
     },
     "execution_count": 74,
     "metadata": {},
     "output_type": "execute_result"
    }
   ],
   "source": [
    "mass(pairs, 0.139570, 0.938272)"
   ]
  },
  {
   "cell_type": "code",
   "execution_count": 75,
   "metadata": {},
   "outputs": [
    {
     "data": {
      "text/plain": [
       "<matplotlib.axes._subplots.AxesSubplot at 0x7f3d8afc0610>"
      ]
     },
     "execution_count": 75,
     "metadata": {},
     "output_type": "execute_result"
    },
    {
     "data": {
      "image/png": "[encoded data removed]",
      "text/plain": [
       "<Figure size 432x288 with 1 Axes>"
      ]
     },
     "metadata": {
      "needs_background": "light"
     },
     "output_type": "display_data"
    }
   ],
   "source": [
    "hep.histplot(bh.Histogram(bh.axis.Regular(100, 1.115683 - 0.01, 1.115683 + 0.01)).fill(\n",
    "    ak.flatten(mass(pairs, 0.139570, 0.938272))\n",
    "))"
   ]
  },
  {
   "cell_type": "markdown",
   "metadata": {},
   "source": [
    "We can improve the peak by selecting for opposite charges and large vertexes."
   ]
  },
  {
   "cell_type": "code",
   "execution_count": 90,
   "metadata": {},
   "outputs": [],
   "source": [
    "def opposite(pairs):\n",
    "    left, right = ak.unzip(pairs)\n",
    "    return pairs[left.charge != right.charge]\n",
    "\n",
    "def distant(pairs):\n",
    "    left, right = ak.unzip(pairs)\n",
    "    return pairs[np.logical_and(abs(left.vtx) > 0.10, abs(right.vtx) > 0.10)]"
   ]
  },
  {
   "cell_type": "code",
   "execution_count": 91,
   "metadata": {},
   "outputs": [
    {
     "data": {
      "text/plain": [
       "<matplotlib.axes._subplots.AxesSubplot at 0x7f3d8ae20a50>"
      ]
     },
     "execution_count": 91,
     "metadata": {},
     "output_type": "execute_result"
    },
    {
     "data": {
      "image/png": "[encoded data removed]",
      "text/plain": [
       "<Figure size 432x288 with 1 Axes>"
      ]
     },
     "metadata": {
      "needs_background": "light"
     },
     "output_type": "display_data"
    }
   ],
   "source": [
    "hep.histplot(bh.Histogram(bh.axis.Regular(100, 1.115683 - 0.01, 1.115683 + 0.01)).fill(\n",
    "    ak.flatten(mass(distant(opposite(pairs)), 0.139570, 0.938272))\n",
    "))"
   ]
  },
  {
   "cell_type": "markdown",
   "metadata": {},
   "source": [
    "Alternatively, all of these functions could have been methods on the pair objects for reuse.\n",
    "\n",
    "(This is to make the point that any kind of object can have methods, not just particles.)"
   ]
  },
  {
   "cell_type": "code",
   "execution_count": 13,
   "metadata": {},
   "outputs": [],
   "source": [
    "class ParticlePairArray(ak.Array):\n",
    "    __name__ = \"Pairs\"\n",
    "    \n",
    "    def mass(self, left_mass, right_mass):\n",
    "        left, right = self.slot0, self.slot1\n",
    "        left_energy = np.sqrt(left.p**2 + left_mass**2)\n",
    "        right_energy = np.sqrt(right.p**2 + right_mass**2)\n",
    "        return np.sqrt((left_energy + right_energy)**2 -\n",
    "                       (left.px + right.px)**2 -\n",
    "                       (left.py + right.py)**2 -\n",
    "                       (left.pz + right.pz)**2)\n",
    "    \n",
    "    def opposite(self):\n",
    "        return self[self.slot0.charge != self.slot1.charge]\n",
    "    \n",
    "    def distant(self, cut):\n",
    "        return self[np.logical_and(abs(self.slot0.vtx) > cut, abs(self.slot1.vtx) > cut)]\n",
    "\n",
    "ak.behavior[\"*\", \"pair\"] = ParticlePairArray"
   ]
  },
  {
   "cell_type": "code",
   "execution_count": 14,
   "metadata": {},
   "outputs": [
    {
     "data": {
      "text/plain": [
       "<Pairs [[({id: 79, pdg: 211, ... [], []] type='10000 * var * pair[particle[\"id\":...'>"
      ]
     },
     "execution_count": 14,
     "metadata": {},
     "output_type": "execute_result"
    }
   ],
   "source": [
    "pairs = ak.cartesian([events.pions, events.protons], with_name=\"pair\")\n",
    "pairs"
   ]
  },
  {
   "cell_type": "code",
   "execution_count": 15,
   "metadata": {},
   "outputs": [
    {
     "data": {
      "text/plain": [
       "<matplotlib.axes._subplots.AxesSubplot at 0x7f3f5fdaf590>"
      ]
     },
     "execution_count": 15,
     "metadata": {},
     "output_type": "execute_result"
    },
    {
     "data": {
      "image/png": "[encoded data removed]",
      "text/plain": [
       "<Figure size 432x288 with 1 Axes>"
      ]
     },
     "metadata": {
      "needs_background": "light"
     },
     "output_type": "display_data"
    }
   ],
   "source": [
    "hep.histplot(bh.Histogram(bh.axis.Regular(100, 1.115683 - 0.01, 1.115683 + 0.01)).fill(\n",
    "    ak.flatten(pairs.opposite().distant(0.10).mass(0.139570, 0.938272))\n",
    "))"
   ]
  },
  {
   "cell_type": "markdown",
   "metadata": {},
   "source": [
    "**Self-study question:** why does the call to `mass` have to be last?"
   ]
  },
  {
   "cell_type": "markdown",
   "metadata": {},
   "source": [
    "An example for `ak.combinations`: $K_S \\to \\pi\\pi$."
   ]
  },
  {
   "cell_type": "code",
   "execution_count": 16,
   "metadata": {},
   "outputs": [
    {
     "data": {
      "text/plain": [
       "<Pairs [[({id: 79, pdg: 211, ... )]] type='10000 * var * pair[particle[\"id\": uin...'>"
      ]
     },
     "execution_count": 16,
     "metadata": {},
     "output_type": "execute_result"
    }
   ],
   "source": [
    "pairs = ak.combinations(events.pions, 2, with_name=\"pair\")\n",
    "pairs"
   ]
  },
  {
   "cell_type": "code",
   "execution_count": 17,
   "metadata": {},
   "outputs": [
    {
     "data": {
      "text/plain": [
       "<matplotlib.axes._subplots.AxesSubplot at 0x7f3f5fcf2610>"
      ]
     },
     "execution_count": 17,
     "metadata": {},
     "output_type": "execute_result"
    },
    {
     "data": {
      "image/png": "[encoded data removed]",
      "text/plain": [
       "<Figure size 432x288 with 1 Axes>"
      ]
     },
     "metadata": {
      "needs_background": "light"
     },
     "output_type": "display_data"
    }
   ],
   "source": [
    "hep.histplot(bh.Histogram(bh.axis.Regular(100, 0.497611 - 0.015, 0.497611 + 0.015)).fill(\n",
    "    ak.flatten(pairs.opposite().distant(0.10).mass(0.139570, 0.139570))\n",
    "))"
   ]
  },
  {
   "cell_type": "markdown",
   "metadata": {},
   "source": [
    "**Bonus problem:** $D^0 \\to K^- \\pi^+ \\pi^0$"
   ]
  },
  {
   "cell_type": "code",
   "execution_count": 33,
   "metadata": {},
   "outputs": [
    {
     "data": {
      "text/plain": [
       "<Pairs [[{0: {id: 104, ... p: 3.14}]] type='10000 * var * pair[\"0\": particle[\"id...'>"
      ]
     },
     "execution_count": 33,
     "metadata": {},
     "output_type": "execute_result"
    }
   ],
   "source": [
    "pizero_candidates = ak.combinations(events.prt[events.prt.pdg == Particle.from_string(\"gamma\").pdgid], 2, with_name=\"pair\")\n",
    "pizero = pizero_candidates[pizero_candidates.mass(0, 0) - 0.13498 < 0.000001]\n",
    "pizero[\"px\"] = pizero.slot0.px + pizero.slot1.px\n",
    "pizero[\"py\"] = pizero.slot0.py + pizero.slot1.py\n",
    "pizero[\"pz\"] = pizero.slot0.pz + pizero.slot1.pz\n",
    "pizero[\"p\"] = np.sqrt(pizero.px**2 + pizero.py**2 + pizero.pz**2)\n",
    "pizero"
   ]
  },
  {
   "cell_type": "code",
   "execution_count": 58,
   "metadata": {},
   "outputs": [
    {
     "data": {
      "text/plain": [
       "<Array [[], [], ... p: 1.19}}], []] type='10000 * var * {\"kminus\": particle[\"id\"...'>"
      ]
     },
     "execution_count": 58,
     "metadata": {},
     "output_type": "execute_result"
    }
   ],
   "source": [
    "kminus = events.prt[events.prt.pdg == Particle.from_string(\"K-\").pdgid]\n",
    "piplus = events.prt[events.prt.pdg == Particle.from_string(\"pi+\").pdgid]\n",
    "\n",
    "triples = ak.cartesian({\"kminus\": kminus[abs(kminus.vtx) > 0.03],\n",
    "                        \"piplus\": piplus[abs(piplus.vtx) > 0.03],\n",
    "                        \"pizero\": pizero[np.logical_and(abs(pizero.slot0.vtx) > 0.03, abs(pizero.slot1.vtx) > 0.03)]})\n",
    "triples"
   ]
  },
  {
   "cell_type": "code",
   "execution_count": 59,
   "metadata": {},
   "outputs": [
    {
     "data": {
      "text/plain": [
       "<Array [0, 0, 2, 15, 0, 0, ... 5, 0, 3, 9, 0] type='10000 * int64'>"
      ]
     },
     "execution_count": 59,
     "metadata": {},
     "output_type": "execute_result"
    }
   ],
   "source": [
    "ak.num(triples)"
   ]
  },
  {
   "cell_type": "code",
   "execution_count": 60,
   "metadata": {},
   "outputs": [],
   "source": [
    "def mass2(left, left_mass, right, right_mass):\n",
    "    left_energy = np.sqrt(left.p**2 + left_mass**2)\n",
    "    right_energy = np.sqrt(right.p**2 + right_mass**2)\n",
    "    return ((left_energy + right_energy)**2 -\n",
    "            (left.px + right.px)**2 -\n",
    "            (left.py + right.py)**2 -\n",
    "            (left.pz + right.pz)**2)"
   ]
  },
  {
   "cell_type": "code",
   "execution_count": 61,
   "metadata": {},
   "outputs": [],
   "source": [
    "mKpi = mass2(triples.kminus, 0.493677, triples.piplus, 0.139570)"
   ]
  },
  {
   "cell_type": "code",
   "execution_count": 63,
   "metadata": {},
   "outputs": [],
   "source": [
    "mpipi = mass2(triples.piplus, 0.139570, triples.pizero, 0.1349766)"
   ]
  },
  {
   "cell_type": "markdown",
   "metadata": {},
   "source": [
    "This Dalitz plot doesn't look right (doesn't cut off at kinematic limits), but I'm going to leave it as an exercise for the reader."
   ]
  },
  {
   "cell_type": "code",
   "execution_count": null,
   "metadata": {},
   "outputs": [],
   "source": [
    "dalitz = bh.Histogram(bh.axis.Regular(50, 0, 3), bh.axis.Regular(50, 0, 2))\n",
    "dalitz.fill(ak.flatten(mKpi), ak.flatten(mpipi))\n",
    "\n",
    "X, Y = dalitz.axes.edges\n",
    "\n",
    "fig, ax = plt.subplots()\n",
    "mesh = ax.pcolormesh(X.T, Y.T, dalitz.view().T)\n",
    "fig.colorbar(mesh)"
   ]
  },
  {
   "cell_type": "markdown",
   "metadata": {},
   "source": [
    "## Reducing from combinations\n",
    "\n",
    "The mass-peak examples above don't need to \"reduce\" combinations, but many applications do.\n",
    "\n",
    "<img src=\"https://github.com/diana-hep/femtocode/raw/master/docs/reduce.png\" width=\"300\">"
   ]
  },
  {
   "cell_type": "markdown",
   "metadata": {},
   "source": [
    "Suppose that we want to find the \"nearest photon to each electron\" (e.g. bremsstrahlung)."
   ]
  },
  {
   "cell_type": "code",
   "execution_count": 12,
   "metadata": {},
   "outputs": [],
   "source": [
    "electrons = events.prt[abs(events.prt.pdg) == abs(Particle.from_string(\"e-\").pdgid)]\n",
    "photons   = events.prt[events.prt.pdg == Particle.from_string(\"gamma\").pdgid]"
   ]
  },
  {
   "cell_type": "markdown",
   "metadata": {},
   "source": [
    "The problem with the raw output of `ak.cartesian` is that all the combinations are mixed together in the same lists."
   ]
  },
  {
   "cell_type": "code",
   "execution_count": 13,
   "metadata": {},
   "outputs": [
    {
     "data": {
      "text/plain": [
       "[({'pdg': 11, 'id': 13}, {'pdg': 22, 'id': 86}),\n",
       " ({'pdg': 11, 'id': 13}, {'pdg': 22, 'id': 87}),\n",
       " ({'pdg': 11, 'id': 13}, {'pdg': 22, 'id': 99}),\n",
       " ({'pdg': 11, 'id': 13}, {'pdg': 22, 'id': 100}),\n",
       " ({'pdg': 11, 'id': 13}, {'pdg': 22, 'id': 112}),\n",
       " ({'pdg': 11, 'id': 13}, {'pdg': 22, 'id': 113}),\n",
       " ({'pdg': 11, 'id': 13}, {'pdg': 22, 'id': 116}),\n",
       " ({'pdg': 11, 'id': 13}, {'pdg': 22, 'id': 117}),\n",
       " ({'pdg': 11, 'id': 13}, {'pdg': 22, 'id': 118}),\n",
       " ({'pdg': 11, 'id': 13}, {'pdg': 22, 'id': 119}),\n",
       " ({'pdg': 11, 'id': 13}, {'pdg': 22, 'id': 120}),\n",
       " ({'pdg': 11, 'id': 13}, {'pdg': 22, 'id': 121}),\n",
       " ({'pdg': 11, 'id': 13}, {'pdg': 22, 'id': 124}),\n",
       " ({'pdg': 11, 'id': 13}, {'pdg': 22, 'id': 125}),\n",
       " ({'pdg': 11, 'id': 13}, {'pdg': 22, 'id': 133}),\n",
       " ({'pdg': 11, 'id': 13}, {'pdg': 22, 'id': 136}),\n",
       " ({'pdg': 11, 'id': 13}, {'pdg': 22, 'id': 137}),\n",
       " ({'pdg': 11, 'id': 13}, {'pdg': 22, 'id': 138}),\n",
       " ({'pdg': 11, 'id': 13}, {'pdg': 22, 'id': 139}),\n",
       " ({'pdg': 11, 'id': 13}, {'pdg': 22, 'id': 143}),\n",
       " ({'pdg': 11, 'id': 13}, {'pdg': 22, 'id': 144}),\n",
       " ({'pdg': 11, 'id': 13}, {'pdg': 22, 'id': 147}),\n",
       " ({'pdg': 11, 'id': 13}, {'pdg': 22, 'id': 148}),\n",
       " ({'pdg': 11, 'id': 13}, {'pdg': 22, 'id': 149}),\n",
       " ({'pdg': 11, 'id': 13}, {'pdg': 22, 'id': 150}),\n",
       " ({'pdg': 11, 'id': 13}, {'pdg': 22, 'id': 151}),\n",
       " ({'pdg': -11, 'id': 131}, {'pdg': 22, 'id': 86}),\n",
       " ({'pdg': -11, 'id': 131}, {'pdg': 22, 'id': 87}),\n",
       " ({'pdg': -11, 'id': 131}, {'pdg': 22, 'id': 99}),\n",
       " ({'pdg': -11, 'id': 131}, {'pdg': 22, 'id': 100}),\n",
       " ({'pdg': -11, 'id': 131}, {'pdg': 22, 'id': 112}),\n",
       " ({'pdg': -11, 'id': 131}, {'pdg': 22, 'id': 113}),\n",
       " ({'pdg': -11, 'id': 131}, {'pdg': 22, 'id': 116}),\n",
       " ({'pdg': -11, 'id': 131}, {'pdg': 22, 'id': 117}),\n",
       " ({'pdg': -11, 'id': 131}, {'pdg': 22, 'id': 118}),\n",
       " ({'pdg': -11, 'id': 131}, {'pdg': 22, 'id': 119}),\n",
       " ({'pdg': -11, 'id': 131}, {'pdg': 22, 'id': 120}),\n",
       " ({'pdg': -11, 'id': 131}, {'pdg': 22, 'id': 121}),\n",
       " ({'pdg': -11, 'id': 131}, {'pdg': 22, 'id': 124}),\n",
       " ({'pdg': -11, 'id': 131}, {'pdg': 22, 'id': 125}),\n",
       " ({'pdg': -11, 'id': 131}, {'pdg': 22, 'id': 133}),\n",
       " ({'pdg': -11, 'id': 131}, {'pdg': 22, 'id': 136}),\n",
       " ({'pdg': -11, 'id': 131}, {'pdg': 22, 'id': 137}),\n",
       " ({'pdg': -11, 'id': 131}, {'pdg': 22, 'id': 138}),\n",
       " ({'pdg': -11, 'id': 131}, {'pdg': 22, 'id': 139}),\n",
       " ({'pdg': -11, 'id': 131}, {'pdg': 22, 'id': 143}),\n",
       " ({'pdg': -11, 'id': 131}, {'pdg': 22, 'id': 144}),\n",
       " ({'pdg': -11, 'id': 131}, {'pdg': 22, 'id': 147}),\n",
       " ({'pdg': -11, 'id': 131}, {'pdg': 22, 'id': 148}),\n",
       " ({'pdg': -11, 'id': 131}, {'pdg': 22, 'id': 149}),\n",
       " ({'pdg': -11, 'id': 131}, {'pdg': 22, 'id': 150}),\n",
       " ({'pdg': -11, 'id': 131}, {'pdg': 22, 'id': 151}),\n",
       " ({'pdg': 11, 'id': 132}, {'pdg': 22, 'id': 86}),\n",
       " ({'pdg': 11, 'id': 132}, {'pdg': 22, 'id': 87}),\n",
       " ({'pdg': 11, 'id': 132}, {'pdg': 22, 'id': 99}),\n",
       " ({'pdg': 11, 'id': 132}, {'pdg': 22, 'id': 100}),\n",
       " ({'pdg': 11, 'id': 132}, {'pdg': 22, 'id': 112}),\n",
       " ({'pdg': 11, 'id': 132}, {'pdg': 22, 'id': 113}),\n",
       " ({'pdg': 11, 'id': 132}, {'pdg': 22, 'id': 116}),\n",
       " ({'pdg': 11, 'id': 132}, {'pdg': 22, 'id': 117}),\n",
       " ({'pdg': 11, 'id': 132}, {'pdg': 22, 'id': 118}),\n",
       " ({'pdg': 11, 'id': 132}, {'pdg': 22, 'id': 119}),\n",
       " ({'pdg': 11, 'id': 132}, {'pdg': 22, 'id': 120}),\n",
       " ({'pdg': 11, 'id': 132}, {'pdg': 22, 'id': 121}),\n",
       " ({'pdg': 11, 'id': 132}, {'pdg': 22, 'id': 124}),\n",
       " ({'pdg': 11, 'id': 132}, {'pdg': 22, 'id': 125}),\n",
       " ({'pdg': 11, 'id': 132}, {'pdg': 22, 'id': 133}),\n",
       " ({'pdg': 11, 'id': 132}, {'pdg': 22, 'id': 136}),\n",
       " ({'pdg': 11, 'id': 132}, {'pdg': 22, 'id': 137}),\n",
       " ({'pdg': 11, 'id': 132}, {'pdg': 22, 'id': 138}),\n",
       " ({'pdg': 11, 'id': 132}, {'pdg': 22, 'id': 139}),\n",
       " ({'pdg': 11, 'id': 132}, {'pdg': 22, 'id': 143}),\n",
       " ({'pdg': 11, 'id': 132}, {'pdg': 22, 'id': 144}),\n",
       " ({'pdg': 11, 'id': 132}, {'pdg': 22, 'id': 147}),\n",
       " ({'pdg': 11, 'id': 132}, {'pdg': 22, 'id': 148}),\n",
       " ({'pdg': 11, 'id': 132}, {'pdg': 22, 'id': 149}),\n",
       " ({'pdg': 11, 'id': 132}, {'pdg': 22, 'id': 150}),\n",
       " ({'pdg': 11, 'id': 132}, {'pdg': 22, 'id': 151}),\n",
       " ({'pdg': -11, 'id': 145}, {'pdg': 22, 'id': 86}),\n",
       " ({'pdg': -11, 'id': 145}, {'pdg': 22, 'id': 87}),\n",
       " ({'pdg': -11, 'id': 145}, {'pdg': 22, 'id': 99}),\n",
       " ({'pdg': -11, 'id': 145}, {'pdg': 22, 'id': 100}),\n",
       " ({'pdg': -11, 'id': 145}, {'pdg': 22, 'id': 112}),\n",
       " ({'pdg': -11, 'id': 145}, {'pdg': 22, 'id': 113}),\n",
       " ({'pdg': -11, 'id': 145}, {'pdg': 22, 'id': 116}),\n",
       " ({'pdg': -11, 'id': 145}, {'pdg': 22, 'id': 117}),\n",
       " ({'pdg': -11, 'id': 145}, {'pdg': 22, 'id': 118}),\n",
       " ({'pdg': -11, 'id': 145}, {'pdg': 22, 'id': 119}),\n",
       " ({'pdg': -11, 'id': 145}, {'pdg': 22, 'id': 120}),\n",
       " ({'pdg': -11, 'id': 145}, {'pdg': 22, 'id': 121}),\n",
       " ({'pdg': -11, 'id': 145}, {'pdg': 22, 'id': 124}),\n",
       " ({'pdg': -11, 'id': 145}, {'pdg': 22, 'id': 125}),\n",
       " ({'pdg': -11, 'id': 145}, {'pdg': 22, 'id': 133}),\n",
       " ({'pdg': -11, 'id': 145}, {'pdg': 22, 'id': 136}),\n",
       " ({'pdg': -11, 'id': 145}, {'pdg': 22, 'id': 137}),\n",
       " ({'pdg': -11, 'id': 145}, {'pdg': 22, 'id': 138}),\n",
       " ({'pdg': -11, 'id': 145}, {'pdg': 22, 'id': 139}),\n",
       " ({'pdg': -11, 'id': 145}, {'pdg': 22, 'id': 143}),\n",
       " ({'pdg': -11, 'id': 145}, {'pdg': 22, 'id': 144}),\n",
       " ({'pdg': -11, 'id': 145}, {'pdg': 22, 'id': 147}),\n",
       " ({'pdg': -11, 'id': 145}, {'pdg': 22, 'id': 148}),\n",
       " ({'pdg': -11, 'id': 145}, {'pdg': 22, 'id': 149}),\n",
       " ({'pdg': -11, 'id': 145}, {'pdg': 22, 'id': 150}),\n",
       " ({'pdg': -11, 'id': 145}, {'pdg': 22, 'id': 151}),\n",
       " ({'pdg': 11, 'id': 146}, {'pdg': 22, 'id': 86}),\n",
       " ({'pdg': 11, 'id': 146}, {'pdg': 22, 'id': 87}),\n",
       " ({'pdg': 11, 'id': 146}, {'pdg': 22, 'id': 99}),\n",
       " ({'pdg': 11, 'id': 146}, {'pdg': 22, 'id': 100}),\n",
       " ({'pdg': 11, 'id': 146}, {'pdg': 22, 'id': 112}),\n",
       " ({'pdg': 11, 'id': 146}, {'pdg': 22, 'id': 113}),\n",
       " ({'pdg': 11, 'id': 146}, {'pdg': 22, 'id': 116}),\n",
       " ({'pdg': 11, 'id': 146}, {'pdg': 22, 'id': 117}),\n",
       " ({'pdg': 11, 'id': 146}, {'pdg': 22, 'id': 118}),\n",
       " ({'pdg': 11, 'id': 146}, {'pdg': 22, 'id': 119}),\n",
       " ({'pdg': 11, 'id': 146}, {'pdg': 22, 'id': 120}),\n",
       " ({'pdg': 11, 'id': 146}, {'pdg': 22, 'id': 121}),\n",
       " ({'pdg': 11, 'id': 146}, {'pdg': 22, 'id': 124}),\n",
       " ({'pdg': 11, 'id': 146}, {'pdg': 22, 'id': 125}),\n",
       " ({'pdg': 11, 'id': 146}, {'pdg': 22, 'id': 133}),\n",
       " ({'pdg': 11, 'id': 146}, {'pdg': 22, 'id': 136}),\n",
       " ({'pdg': 11, 'id': 146}, {'pdg': 22, 'id': 137}),\n",
       " ({'pdg': 11, 'id': 146}, {'pdg': 22, 'id': 138}),\n",
       " ({'pdg': 11, 'id': 146}, {'pdg': 22, 'id': 139}),\n",
       " ({'pdg': 11, 'id': 146}, {'pdg': 22, 'id': 143}),\n",
       " ({'pdg': 11, 'id': 146}, {'pdg': 22, 'id': 144}),\n",
       " ({'pdg': 11, 'id': 146}, {'pdg': 22, 'id': 147}),\n",
       " ({'pdg': 11, 'id': 146}, {'pdg': 22, 'id': 148}),\n",
       " ({'pdg': 11, 'id': 146}, {'pdg': 22, 'id': 149}),\n",
       " ({'pdg': 11, 'id': 146}, {'pdg': 22, 'id': 150}),\n",
       " ({'pdg': 11, 'id': 146}, {'pdg': 22, 'id': 151})]"
      ]
     },
     "execution_count": 13,
     "metadata": {},
     "output_type": "execute_result"
    }
   ],
   "source": [
    "ak.to_list(ak.cartesian([electrons[[\"pdg\", \"id\"]], photons[[\"pdg\", \"id\"]]])[8])"
   ]
  },
  {
   "cell_type": "markdown",
   "metadata": {},
   "source": [
    "We can fix this by asking for `nested=True`, which adds another level of nesting to the output."
   ]
  },
  {
   "cell_type": "code",
   "execution_count": 14,
   "metadata": {},
   "outputs": [
    {
     "data": {
      "text/plain": [
       "[[({'pdg': 11, 'id': 13}, {'pdg': 22, 'id': 86}),\n",
       "  ({'pdg': 11, 'id': 13}, {'pdg': 22, 'id': 87}),\n",
       "  ({'pdg': 11, 'id': 13}, {'pdg': 22, 'id': 99}),\n",
       "  ({'pdg': 11, 'id': 13}, {'pdg': 22, 'id': 100}),\n",
       "  ({'pdg': 11, 'id': 13}, {'pdg': 22, 'id': 112}),\n",
       "  ({'pdg': 11, 'id': 13}, {'pdg': 22, 'id': 113}),\n",
       "  ({'pdg': 11, 'id': 13}, {'pdg': 22, 'id': 116}),\n",
       "  ({'pdg': 11, 'id': 13}, {'pdg': 22, 'id': 117}),\n",
       "  ({'pdg': 11, 'id': 13}, {'pdg': 22, 'id': 118}),\n",
       "  ({'pdg': 11, 'id': 13}, {'pdg': 22, 'id': 119}),\n",
       "  ({'pdg': 11, 'id': 13}, {'pdg': 22, 'id': 120}),\n",
       "  ({'pdg': 11, 'id': 13}, {'pdg': 22, 'id': 121}),\n",
       "  ({'pdg': 11, 'id': 13}, {'pdg': 22, 'id': 124}),\n",
       "  ({'pdg': 11, 'id': 13}, {'pdg': 22, 'id': 125}),\n",
       "  ({'pdg': 11, 'id': 13}, {'pdg': 22, 'id': 133}),\n",
       "  ({'pdg': 11, 'id': 13}, {'pdg': 22, 'id': 136}),\n",
       "  ({'pdg': 11, 'id': 13}, {'pdg': 22, 'id': 137}),\n",
       "  ({'pdg': 11, 'id': 13}, {'pdg': 22, 'id': 138}),\n",
       "  ({'pdg': 11, 'id': 13}, {'pdg': 22, 'id': 139}),\n",
       "  ({'pdg': 11, 'id': 13}, {'pdg': 22, 'id': 143}),\n",
       "  ({'pdg': 11, 'id': 13}, {'pdg': 22, 'id': 144}),\n",
       "  ({'pdg': 11, 'id': 13}, {'pdg': 22, 'id': 147}),\n",
       "  ({'pdg': 11, 'id': 13}, {'pdg': 22, 'id': 148}),\n",
       "  ({'pdg': 11, 'id': 13}, {'pdg': 22, 'id': 149}),\n",
       "  ({'pdg': 11, 'id': 13}, {'pdg': 22, 'id': 150}),\n",
       "  ({'pdg': 11, 'id': 13}, {'pdg': 22, 'id': 151})],\n",
       " [({'pdg': -11, 'id': 131}, {'pdg': 22, 'id': 86}),\n",
       "  ({'pdg': -11, 'id': 131}, {'pdg': 22, 'id': 87}),\n",
       "  ({'pdg': -11, 'id': 131}, {'pdg': 22, 'id': 99}),\n",
       "  ({'pdg': -11, 'id': 131}, {'pdg': 22, 'id': 100}),\n",
       "  ({'pdg': -11, 'id': 131}, {'pdg': 22, 'id': 112}),\n",
       "  ({'pdg': -11, 'id': 131}, {'pdg': 22, 'id': 113}),\n",
       "  ({'pdg': -11, 'id': 131}, {'pdg': 22, 'id': 116}),\n",
       "  ({'pdg': -11, 'id': 131}, {'pdg': 22, 'id': 117}),\n",
       "  ({'pdg': -11, 'id': 131}, {'pdg': 22, 'id': 118}),\n",
       "  ({'pdg': -11, 'id': 131}, {'pdg': 22, 'id': 119}),\n",
       "  ({'pdg': -11, 'id': 131}, {'pdg': 22, 'id': 120}),\n",
       "  ({'pdg': -11, 'id': 131}, {'pdg': 22, 'id': 121}),\n",
       "  ({'pdg': -11, 'id': 131}, {'pdg': 22, 'id': 124}),\n",
       "  ({'pdg': -11, 'id': 131}, {'pdg': 22, 'id': 125}),\n",
       "  ({'pdg': -11, 'id': 131}, {'pdg': 22, 'id': 133}),\n",
       "  ({'pdg': -11, 'id': 131}, {'pdg': 22, 'id': 136}),\n",
       "  ({'pdg': -11, 'id': 131}, {'pdg': 22, 'id': 137}),\n",
       "  ({'pdg': -11, 'id': 131}, {'pdg': 22, 'id': 138}),\n",
       "  ({'pdg': -11, 'id': 131}, {'pdg': 22, 'id': 139}),\n",
       "  ({'pdg': -11, 'id': 131}, {'pdg': 22, 'id': 143}),\n",
       "  ({'pdg': -11, 'id': 131}, {'pdg': 22, 'id': 144}),\n",
       "  ({'pdg': -11, 'id': 131}, {'pdg': 22, 'id': 147}),\n",
       "  ({'pdg': -11, 'id': 131}, {'pdg': 22, 'id': 148}),\n",
       "  ({'pdg': -11, 'id': 131}, {'pdg': 22, 'id': 149}),\n",
       "  ({'pdg': -11, 'id': 131}, {'pdg': 22, 'id': 150}),\n",
       "  ({'pdg': -11, 'id': 131}, {'pdg': 22, 'id': 151})],\n",
       " [({'pdg': 11, 'id': 132}, {'pdg': 22, 'id': 86}),\n",
       "  ({'pdg': 11, 'id': 132}, {'pdg': 22, 'id': 87}),\n",
       "  ({'pdg': 11, 'id': 132}, {'pdg': 22, 'id': 99}),\n",
       "  ({'pdg': 11, 'id': 132}, {'pdg': 22, 'id': 100}),\n",
       "  ({'pdg': 11, 'id': 132}, {'pdg': 22, 'id': 112}),\n",
       "  ({'pdg': 11, 'id': 132}, {'pdg': 22, 'id': 113}),\n",
       "  ({'pdg': 11, 'id': 132}, {'pdg': 22, 'id': 116}),\n",
       "  ({'pdg': 11, 'id': 132}, {'pdg': 22, 'id': 117}),\n",
       "  ({'pdg': 11, 'id': 132}, {'pdg': 22, 'id': 118}),\n",
       "  ({'pdg': 11, 'id': 132}, {'pdg': 22, 'id': 119}),\n",
       "  ({'pdg': 11, 'id': 132}, {'pdg': 22, 'id': 120}),\n",
       "  ({'pdg': 11, 'id': 132}, {'pdg': 22, 'id': 121}),\n",
       "  ({'pdg': 11, 'id': 132}, {'pdg': 22, 'id': 124}),\n",
       "  ({'pdg': 11, 'id': 132}, {'pdg': 22, 'id': 125}),\n",
       "  ({'pdg': 11, 'id': 132}, {'pdg': 22, 'id': 133}),\n",
       "  ({'pdg': 11, 'id': 132}, {'pdg': 22, 'id': 136}),\n",
       "  ({'pdg': 11, 'id': 132}, {'pdg': 22, 'id': 137}),\n",
       "  ({'pdg': 11, 'id': 132}, {'pdg': 22, 'id': 138}),\n",
       "  ({'pdg': 11, 'id': 132}, {'pdg': 22, 'id': 139}),\n",
       "  ({'pdg': 11, 'id': 132}, {'pdg': 22, 'id': 143}),\n",
       "  ({'pdg': 11, 'id': 132}, {'pdg': 22, 'id': 144}),\n",
       "  ({'pdg': 11, 'id': 132}, {'pdg': 22, 'id': 147}),\n",
       "  ({'pdg': 11, 'id': 132}, {'pdg': 22, 'id': 148}),\n",
       "  ({'pdg': 11, 'id': 132}, {'pdg': 22, 'id': 149}),\n",
       "  ({'pdg': 11, 'id': 132}, {'pdg': 22, 'id': 150}),\n",
       "  ({'pdg': 11, 'id': 132}, {'pdg': 22, 'id': 151})],\n",
       " [({'pdg': -11, 'id': 145}, {'pdg': 22, 'id': 86}),\n",
       "  ({'pdg': -11, 'id': 145}, {'pdg': 22, 'id': 87}),\n",
       "  ({'pdg': -11, 'id': 145}, {'pdg': 22, 'id': 99}),\n",
       "  ({'pdg': -11, 'id': 145}, {'pdg': 22, 'id': 100}),\n",
       "  ({'pdg': -11, 'id': 145}, {'pdg': 22, 'id': 112}),\n",
       "  ({'pdg': -11, 'id': 145}, {'pdg': 22, 'id': 113}),\n",
       "  ({'pdg': -11, 'id': 145}, {'pdg': 22, 'id': 116}),\n",
       "  ({'pdg': -11, 'id': 145}, {'pdg': 22, 'id': 117}),\n",
       "  ({'pdg': -11, 'id': 145}, {'pdg': 22, 'id': 118}),\n",
       "  ({'pdg': -11, 'id': 145}, {'pdg': 22, 'id': 119}),\n",
       "  ({'pdg': -11, 'id': 145}, {'pdg': 22, 'id': 120}),\n",
       "  ({'pdg': -11, 'id': 145}, {'pdg': 22, 'id': 121}),\n",
       "  ({'pdg': -11, 'id': 145}, {'pdg': 22, 'id': 124}),\n",
       "  ({'pdg': -11, 'id': 145}, {'pdg': 22, 'id': 125}),\n",
       "  ({'pdg': -11, 'id': 145}, {'pdg': 22, 'id': 133}),\n",
       "  ({'pdg': -11, 'id': 145}, {'pdg': 22, 'id': 136}),\n",
       "  ({'pdg': -11, 'id': 145}, {'pdg': 22, 'id': 137}),\n",
       "  ({'pdg': -11, 'id': 145}, {'pdg': 22, 'id': 138}),\n",
       "  ({'pdg': -11, 'id': 145}, {'pdg': 22, 'id': 139}),\n",
       "  ({'pdg': -11, 'id': 145}, {'pdg': 22, 'id': 143}),\n",
       "  ({'pdg': -11, 'id': 145}, {'pdg': 22, 'id': 144}),\n",
       "  ({'pdg': -11, 'id': 145}, {'pdg': 22, 'id': 147}),\n",
       "  ({'pdg': -11, 'id': 145}, {'pdg': 22, 'id': 148}),\n",
       "  ({'pdg': -11, 'id': 145}, {'pdg': 22, 'id': 149}),\n",
       "  ({'pdg': -11, 'id': 145}, {'pdg': 22, 'id': 150}),\n",
       "  ({'pdg': -11, 'id': 145}, {'pdg': 22, 'id': 151})],\n",
       " [({'pdg': 11, 'id': 146}, {'pdg': 22, 'id': 86}),\n",
       "  ({'pdg': 11, 'id': 146}, {'pdg': 22, 'id': 87}),\n",
       "  ({'pdg': 11, 'id': 146}, {'pdg': 22, 'id': 99}),\n",
       "  ({'pdg': 11, 'id': 146}, {'pdg': 22, 'id': 100}),\n",
       "  ({'pdg': 11, 'id': 146}, {'pdg': 22, 'id': 112}),\n",
       "  ({'pdg': 11, 'id': 146}, {'pdg': 22, 'id': 113}),\n",
       "  ({'pdg': 11, 'id': 146}, {'pdg': 22, 'id': 116}),\n",
       "  ({'pdg': 11, 'id': 146}, {'pdg': 22, 'id': 117}),\n",
       "  ({'pdg': 11, 'id': 146}, {'pdg': 22, 'id': 118}),\n",
       "  ({'pdg': 11, 'id': 146}, {'pdg': 22, 'id': 119}),\n",
       "  ({'pdg': 11, 'id': 146}, {'pdg': 22, 'id': 120}),\n",
       "  ({'pdg': 11, 'id': 146}, {'pdg': 22, 'id': 121}),\n",
       "  ({'pdg': 11, 'id': 146}, {'pdg': 22, 'id': 124}),\n",
       "  ({'pdg': 11, 'id': 146}, {'pdg': 22, 'id': 125}),\n",
       "  ({'pdg': 11, 'id': 146}, {'pdg': 22, 'id': 133}),\n",
       "  ({'pdg': 11, 'id': 146}, {'pdg': 22, 'id': 136}),\n",
       "  ({'pdg': 11, 'id': 146}, {'pdg': 22, 'id': 137}),\n",
       "  ({'pdg': 11, 'id': 146}, {'pdg': 22, 'id': 138}),\n",
       "  ({'pdg': 11, 'id': 146}, {'pdg': 22, 'id': 139}),\n",
       "  ({'pdg': 11, 'id': 146}, {'pdg': 22, 'id': 143}),\n",
       "  ({'pdg': 11, 'id': 146}, {'pdg': 22, 'id': 144}),\n",
       "  ({'pdg': 11, 'id': 146}, {'pdg': 22, 'id': 147}),\n",
       "  ({'pdg': 11, 'id': 146}, {'pdg': 22, 'id': 148}),\n",
       "  ({'pdg': 11, 'id': 146}, {'pdg': 22, 'id': 149}),\n",
       "  ({'pdg': 11, 'id': 146}, {'pdg': 22, 'id': 150}),\n",
       "  ({'pdg': 11, 'id': 146}, {'pdg': 22, 'id': 151})]]"
      ]
     },
     "execution_count": 14,
     "metadata": {},
     "output_type": "execute_result"
    }
   ],
   "source": [
    "ak.to_list(ak.cartesian([electrons[[\"pdg\", \"id\"]], photons[[\"pdg\", \"id\"]]], nested=True)[8])"
   ]
  },
  {
   "cell_type": "markdown",
   "metadata": {},
   "source": [
    "All electron-photon pairs associated with a given electron are grouped in a list-within-each-list.\n",
    "\n",
    "Now we can apply reducers to this inner dimension to sum over some quantity, pick the best one, etc."
   ]
  },
  {
   "cell_type": "code",
   "execution_count": 15,
   "metadata": {},
   "outputs": [],
   "source": [
    "def cos_angle(pairs):\n",
    "    left, right = ak.unzip(pairs)\n",
    "    return left.dir.x*right.dir.x + left.dir.y*right.dir.y + left.dir.z*right.dir.z"
   ]
  },
  {
   "cell_type": "code",
   "execution_count": 16,
   "metadata": {},
   "outputs": [],
   "source": [
    "electron_photons = ak.cartesian([electrons, photons], nested=True)"
   ]
  },
  {
   "cell_type": "code",
   "execution_count": 17,
   "metadata": {},
   "outputs": [
    {
     "data": {
      "text/plain": [
       "<Array [[[0.155, -0.413, ... -0.957, -0.999]]] type='10000 * var * var * float64'>"
      ]
     },
     "execution_count": 17,
     "metadata": {},
     "output_type": "execute_result"
    }
   ],
   "source": [
    "cos_angle(electron_photons)"
   ]
  },
  {
   "cell_type": "code",
   "execution_count": 18,
   "metadata": {},
   "outputs": [
    {
     "data": {
      "text/plain": [
       "<matplotlib.axes._subplots.AxesSubplot at 0x7f83082f6c50>"
      ]
     },
     "execution_count": 18,
     "metadata": {},
     "output_type": "execute_result"
    },
    {
     "data": {
      "image/png": "[encoded data removed]",
      "text/plain": [
       "<Figure size 432x288 with 1 Axes>"
      ]
     },
     "metadata": {
      "needs_background": "light"
     },
     "output_type": "display_data"
    }
   ],
   "source": [
    "hep.histplot(bh.Histogram(bh.axis.Regular(100, 0, 1)).fill(\n",
    "    ak.flatten(cos_angle(electron_photons), axis=None)    # a good reason to use flatten axis=None\n",
    "))"
   ]
  },
  {
   "cell_type": "markdown",
   "metadata": {},
   "source": [
    "We pick the \"maximum according to a function\" using the same `ak.singletons(ak.argmax(f(x))` trick as above."
   ]
  },
  {
   "cell_type": "code",
   "execution_count": 19,
   "metadata": {},
   "outputs": [
    {
     "data": {
      "text/plain": [
       "<matplotlib.axes._subplots.AxesSubplot at 0x7f8308253350>"
      ]
     },
     "execution_count": 19,
     "metadata": {},
     "output_type": "execute_result"
    },
    {
     "data": {
      "image/png": "[encoded data removed]",
      "text/plain": [
       "<Figure size 432x288 with 1 Axes>"
      ]
     },
     "metadata": {
      "needs_background": "light"
     },
     "output_type": "display_data"
    }
   ],
   "source": [
    "best_electron_photons = electron_photons[ak.singletons(ak.argmax(cos_angle(electron_photons), axis=2))]\n",
    "\n",
    "hep.histplot(bh.Histogram(bh.axis.Regular(100, 0, 1)).fill(\n",
    "    ak.flatten(cos_angle(best_electron_photons), axis=None)\n",
    "))"
   ]
  },
  {
   "cell_type": "markdown",
   "metadata": {},
   "source": [
    "By construction, `best_electron_photons` has zero or one elements in each *inner* nested list."
   ]
  },
  {
   "cell_type": "code",
   "execution_count": 20,
   "metadata": {},
   "outputs": [
    {
     "data": {
      "text/plain": [
       "(<Array [[16], [14], [9], ... 18], [10], [4]] type='10000 * var * int64'>,\n",
       " <Array [[1], [1], [1], ... [1, 1], [1], [1]] type='10000 * var * int64'>)"
      ]
     },
     "execution_count": 20,
     "metadata": {},
     "output_type": "execute_result"
    }
   ],
   "source": [
    "ak.num(electron_photons, axis=2), ak.num(best_electron_photons, axis=2)"
   ]
  },
  {
   "cell_type": "markdown",
   "metadata": {},
   "source": [
    "Since we no longer care about that *inner* structure, we could flatten it at `axis=2` (leaving `axis=1` untouched)."
   ]
  },
  {
   "cell_type": "code",
   "execution_count": 21,
   "metadata": {},
   "outputs": [
    {
     "data": {
      "text/plain": [
       "<Array [[[({id: 12, pdg: 11, ... )]]] type='10000 * var * var * (particle[\"id\": ...'>"
      ]
     },
     "execution_count": 21,
     "metadata": {},
     "output_type": "execute_result"
    }
   ],
   "source": [
    "best_electron_photons"
   ]
  },
  {
   "cell_type": "code",
   "execution_count": 22,
   "metadata": {},
   "outputs": [
    {
     "data": {
      "text/plain": [
       "<Array [[({id: 12, pdg: 11, ... )]] type='10000 * var * (particle[\"id\": uint64, ...'>"
      ]
     },
     "execution_count": 22,
     "metadata": {},
     "output_type": "execute_result"
    }
   ],
   "source": [
    "ak.flatten(best_electron_photons, axis=2)"
   ]
  },
  {
   "cell_type": "markdown",
   "metadata": {},
   "source": [
    "But it would be better to invert the `ak.singletons` by calling `ak.firsts`."
   ]
  },
  {
   "cell_type": "code",
   "execution_count": 24,
   "metadata": {
    "collapsed": true,
    "jupyter": {
     "outputs_hidden": true
    }
   },
   "outputs": [
    {
     "data": {
      "text/plain": [
       "\u001b[0;31mSignature:\u001b[0m \u001b[0mak\u001b[0m\u001b[0;34m.\u001b[0m\u001b[0msingletons\u001b[0m\u001b[0;34m(\u001b[0m\u001b[0marray\u001b[0m\u001b[0;34m,\u001b[0m \u001b[0mhighlevel\u001b[0m\u001b[0;34m=\u001b[0m\u001b[0;32mTrue\u001b[0m\u001b[0;34m)\u001b[0m\u001b[0;34m\u001b[0m\u001b[0;34m\u001b[0m\u001b[0m\n",
       "\u001b[0;31mDocstring:\u001b[0m\n",
       "Args:\n",
       "    array: Data to wrap in lists of length 1 if present and length 0\n",
       "        if missing (None).\n",
       "    highlevel (bool): If True, return an #ak.Array; otherwise, return\n",
       "        a low-level #ak.layout.Content subclass.\n",
       "\n",
       "Returns a singleton list (length 1) wrapping each non-missing value and\n",
       "an empty list (length 0) in place of each missing value.\n",
       "\n",
       "For example,\n",
       "\n",
       "    >>> array = ak.Array([1.1, 2.2, None, 3.3, None, None, 4.4, 5.5])\n",
       "    >>> print(ak.singletons(array))\n",
       "    [[1.1], [2.2], [], [3.3], [], [], [4.4], [5.5]]\n",
       "\n",
       "See #ak.firsts to invert this function.\n",
       "\u001b[0;31mFile:\u001b[0m      ~/irishep/awkward-1.0/awkward1/operations/structure.py\n",
       "\u001b[0;31mType:\u001b[0m      function\n"
      ]
     },
     "metadata": {},
     "output_type": "display_data"
    }
   ],
   "source": [
    "?ak.singletons"
   ]
  },
  {
   "cell_type": "code",
   "execution_count": 25,
   "metadata": {
    "collapsed": true,
    "jupyter": {
     "outputs_hidden": true
    }
   },
   "outputs": [
    {
     "data": {
      "text/plain": [
       "\u001b[0;31mSignature:\u001b[0m \u001b[0mak\u001b[0m\u001b[0;34m.\u001b[0m\u001b[0mfirsts\u001b[0m\u001b[0;34m(\u001b[0m\u001b[0marray\u001b[0m\u001b[0;34m,\u001b[0m \u001b[0maxis\u001b[0m\u001b[0;34m=\u001b[0m\u001b[0;36m1\u001b[0m\u001b[0;34m,\u001b[0m \u001b[0mhighlevel\u001b[0m\u001b[0;34m=\u001b[0m\u001b[0;32mTrue\u001b[0m\u001b[0;34m)\u001b[0m\u001b[0;34m\u001b[0m\u001b[0;34m\u001b[0m\u001b[0m\n",
       "\u001b[0;31mDocstring:\u001b[0m\n",
       "Args:\n",
       "    array: Data from which to select the first elements from nested lists.\n",
       "    axis (int): The dimension at which this operation is applied. The\n",
       "        outermost dimension is `0`, followed by `1`, etc., and negative\n",
       "        values count backward from the innermost: `-1` is the innermost\n",
       "        dimension, `-2` is the next level up, etc.\n",
       "    highlevel (bool): If True, return an #ak.Array; otherwise, return\n",
       "        a low-level #ak.layout.Content subclass.\n",
       "\n",
       "Selects the first element of each non-empty list and inserts None for each\n",
       "empty list.\n",
       "\n",
       "For example,\n",
       "\n",
       "    >>> array = ak.Array([[1.1], [2.2], [], [3.3], [], [], [4.4], [5.5]])\n",
       "    >>> print(ak.firsts(array))\n",
       "    [1.1, 2.2, None, 3.3, None, None, 4.4, 5.5]\n",
       "\n",
       "See #ak.singletons to invert this function.\n",
       "\u001b[0;31mFile:\u001b[0m      ~/irishep/awkward-1.0/awkward1/operations/structure.py\n",
       "\u001b[0;31mType:\u001b[0m      function\n"
      ]
     },
     "metadata": {},
     "output_type": "display_data"
    }
   ],
   "source": [
    "?ak.firsts"
   ]
  },
  {
   "cell_type": "code",
   "execution_count": 23,
   "metadata": {},
   "outputs": [
    {
     "data": {
      "text/plain": [
       "<Array [[({id: 12, pdg: 11, ... )]] type='10000 * var * ?(particle[\"id\": uint64,...'>"
      ]
     },
     "execution_count": 23,
     "metadata": {},
     "output_type": "execute_result"
    }
   ],
   "source": [
    "ak.firsts(best_electron_photons, axis=2)"
   ]
  },
  {
   "cell_type": "markdown",
   "metadata": {},
   "source": [
    "Because then we can get back one value for each electron (with `None` if `ak.argmax` resulted in `None` because there were no pairs)."
   ]
  },
  {
   "cell_type": "code",
   "execution_count": 26,
   "metadata": {},
   "outputs": [
    {
     "data": {
      "text/plain": [
       "(<Array [1, 1, 1, 1, 1, 1, ... 2, 1, 1, 2, 1, 1] type='10000 * int64'>,\n",
       " <Array [1, 1, 1, 1, 1, 1, ... 2, 1, 1, 2, 1, 1] type='10000 * int64'>)"
      ]
     },
     "execution_count": 26,
     "metadata": {},
     "output_type": "execute_result"
    }
   ],
   "source": [
    "ak.num(electrons), ak.num(ak.firsts(best_electron_photons, axis=2))"
   ]
  },
  {
   "cell_type": "code",
   "execution_count": 27,
   "metadata": {},
   "outputs": [
    {
     "data": {
      "text/plain": [
       "True"
      ]
     },
     "execution_count": 27,
     "metadata": {},
     "output_type": "execute_result"
    }
   ],
   "source": [
    "ak.all(ak.num(electrons) == ak.num(ak.firsts(best_electron_photons, axis=2)))"
   ]
  },
  {
   "cell_type": "markdown",
   "metadata": {},
   "source": [
    "And that means that we can make this \"closest photon\" an attribute of the electrons. We have now performed electron-photon matching."
   ]
  },
  {
   "cell_type": "code",
   "execution_count": 29,
   "metadata": {},
   "outputs": [
    {
     "data": {
      "text/plain": [
       "[{'id': 13,\n",
       "  'pdg': 11,\n",
       "  'trk_id': 0.0,\n",
       "  'charge': -1.0,\n",
       "  'dir': {'x': -0.09588639882904162,\n",
       "   'y': 0.09112746606282955,\n",
       "   'z': 0.9912121788237702},\n",
       "  'p': 9.375209905971012,\n",
       "  'px': 0.8557761175294573,\n",
       "  'py': -0.8985850776773974,\n",
       "  'pz': 9.292725804405222,\n",
       "  'm': 0.0,\n",
       "  'time': 0.0,\n",
       "  'is_beam': False,\n",
       "  'is_stable': False,\n",
       "  'gen_code': False,\n",
       "  'mother': {'id': 0, 'second_id': 0},\n",
       "  'pol': {'has_info': 0.0, 'x': 0.0, 'y': 0.0, 'z': 0.0},\n",
       "  'vtx': {'has_info': True,\n",
       "   'id': 0,\n",
       "   'x': 0.018693160610243204,\n",
       "   'y': -0.00831403948815941,\n",
       "   'z': 0.00955870729245701,\n",
       "   't': 0.0},\n",
       "  'smear': {'has_info': True,\n",
       "   'has_e': True,\n",
       "   'has_p': True,\n",
       "   'has_pid': False,\n",
       "   'has_vtx': True,\n",
       "   'has_any_eppid': True,\n",
       "   'orig': {'tot_e': 9.160443640616137,\n",
       "    'p': 9.160443626363536,\n",
       "    'px': -0.8783619510084464,\n",
       "    'py': 0.8347680156819064,\n",
       "    'pz': 9.07994328588012,\n",
       "    'vtx': {'x': 0.0, 'y': 0.0, 'z': 0.0}}},\n",
       "  'photon': ({'id': 13,\n",
       "    'pdg': 11,\n",
       "    'trk_id': 0.0,\n",
       "    'charge': -1.0,\n",
       "    'dir': {'x': -0.09588639882904162,\n",
       "     'y': 0.09112746606282955,\n",
       "     'z': 0.9912121788237702},\n",
       "    'p': 9.375209905971012,\n",
       "    'px': 0.8557761175294573,\n",
       "    'py': -0.8985850776773974,\n",
       "    'pz': 9.292725804405222,\n",
       "    'm': 0.0,\n",
       "    'time': 0.0,\n",
       "    'is_beam': False,\n",
       "    'is_stable': False,\n",
       "    'gen_code': False,\n",
       "    'mother': {'id': 0, 'second_id': 0},\n",
       "    'pol': {'has_info': 0.0, 'x': 0.0, 'y': 0.0, 'z': 0.0},\n",
       "    'vtx': {'has_info': True,\n",
       "     'id': 0,\n",
       "     'x': 0.018693160610243204,\n",
       "     'y': -0.00831403948815941,\n",
       "     'z': 0.00955870729245701,\n",
       "     't': 0.0},\n",
       "    'smear': {'has_info': True,\n",
       "     'has_e': True,\n",
       "     'has_p': True,\n",
       "     'has_pid': False,\n",
       "     'has_vtx': True,\n",
       "     'has_any_eppid': True,\n",
       "     'orig': {'tot_e': 9.160443640616137,\n",
       "      'p': 9.160443626363536,\n",
       "      'px': -0.8783619510084464,\n",
       "      'py': 0.8347680156819064,\n",
       "      'pz': 9.07994328588012,\n",
       "      'vtx': {'x': 0.0, 'y': 0.0, 'z': 0.0}}}},\n",
       "   {'id': 133,\n",
       "    'pdg': 22,\n",
       "    'trk_id': 0.0,\n",
       "    'charge': 0.0,\n",
       "    'dir': {'x': 0.5334282024639113,\n",
       "     'y': 0.032388647251493374,\n",
       "     'z': 0.8452250163982008},\n",
       "    'p': 1.447960469177318,\n",
       "    'px': 0.7723829503120584,\n",
       "    'py': 0.046897480870291,\n",
       "    'pz': 1.2238524113043452,\n",
       "    'm': 0.0,\n",
       "    'time': 0.0,\n",
       "    'is_beam': False,\n",
       "    'is_stable': False,\n",
       "    'gen_code': False,\n",
       "    'mother': {'id': 0, 'second_id': 0},\n",
       "    'pol': {'has_info': 0.0, 'x': 0.0, 'y': 0.0, 'z': 0.0},\n",
       "    'vtx': {'has_info': True,\n",
       "     'id': 0,\n",
       "     'x': 0.019220909521422535,\n",
       "     'y': 0.0001218427816470299,\n",
       "     'z': 0.02100575726818872,\n",
       "     't': 0.031082770889927006},\n",
       "    'smear': {'has_info': True,\n",
       "     'has_e': True,\n",
       "     'has_p': False,\n",
       "     'has_pid': False,\n",
       "     'has_vtx': False,\n",
       "     'has_any_eppid': True,\n",
       "     'orig': {'tot_e': 1.4479604691773331,\n",
       "      'p': 1.447960469177318,\n",
       "      'px': 0.7723829503120584,\n",
       "      'py': 0.046897480870291,\n",
       "      'pz': 1.2238524113043452,\n",
       "      'vtx': {'x': 0.019220909521422535,\n",
       "       'y': 0.0001218427816470299,\n",
       "       'z': 0.02100575726818872}}}})},\n",
       " {'id': 131,\n",
       "  'pdg': -11,\n",
       "  'trk_id': 0.0,\n",
       "  'charge': 1.0,\n",
       "  'dir': {'x': 0.6594579368612474,\n",
       "   'y': 0.11085596754519969,\n",
       "   'z': 0.7435228200736845},\n",
       "  'p': 0.1883863797410668,\n",
       "  'px': 0.021035905876228774,\n",
       "  'py': 0.12422320213173356,\n",
       "  'pz': 0.14005539899643404,\n",
       "  'm': 0.0,\n",
       "  'time': 0.0,\n",
       "  'is_beam': False,\n",
       "  'is_stable': False,\n",
       "  'gen_code': False,\n",
       "  'mother': {'id': 0, 'second_id': 0},\n",
       "  'pol': {'has_info': 0.0, 'x': 0.0, 'y': 0.0, 'z': 0.0},\n",
       "  'vtx': {'has_info': True,\n",
       "   'id': 0,\n",
       "   'x': 0.005533210617169413,\n",
       "   'y': -0.021648516148754925,\n",
       "   'z': 0.01957925467198092,\n",
       "   't': 0.031082770889927006},\n",
       "  'smear': {'has_info': True,\n",
       "   'has_e': True,\n",
       "   'has_p': True,\n",
       "   'has_pid': False,\n",
       "   'has_vtx': True,\n",
       "   'has_any_eppid': True,\n",
       "   'orig': {'tot_e': 0.1873153081349629,\n",
       "    'p': 0.18731461112442663,\n",
       "    'px': 0.12352610699608124,\n",
       "    'py': 0.02076494245155114,\n",
       "    'pz': 0.13927268790423925,\n",
       "    'vtx': {'x': 0.019220909521422535,\n",
       "     'y': 0.0001218427816470299,\n",
       "     'z': 0.02100575726818872}}},\n",
       "  'photon': ({'id': 131,\n",
       "    'pdg': -11,\n",
       "    'trk_id': 0.0,\n",
       "    'charge': 1.0,\n",
       "    'dir': {'x': 0.6594579368612474,\n",
       "     'y': 0.11085596754519969,\n",
       "     'z': 0.7435228200736845},\n",
       "    'p': 0.1883863797410668,\n",
       "    'px': 0.021035905876228774,\n",
       "    'py': 0.12422320213173356,\n",
       "    'pz': 0.14005539899643404,\n",
       "    'm': 0.0,\n",
       "    'time': 0.0,\n",
       "    'is_beam': False,\n",
       "    'is_stable': False,\n",
       "    'gen_code': False,\n",
       "    'mother': {'id': 0, 'second_id': 0},\n",
       "    'pol': {'has_info': 0.0, 'x': 0.0, 'y': 0.0, 'z': 0.0},\n",
       "    'vtx': {'has_info': True,\n",
       "     'id': 0,\n",
       "     'x': 0.005533210617169413,\n",
       "     'y': -0.021648516148754925,\n",
       "     'z': 0.01957925467198092,\n",
       "     't': 0.031082770889927006},\n",
       "    'smear': {'has_info': True,\n",
       "     'has_e': True,\n",
       "     'has_p': True,\n",
       "     'has_pid': False,\n",
       "     'has_vtx': True,\n",
       "     'has_any_eppid': True,\n",
       "     'orig': {'tot_e': 0.1873153081349629,\n",
       "      'p': 0.18731461112442663,\n",
       "      'px': 0.12352610699608124,\n",
       "      'py': 0.02076494245155114,\n",
       "      'pz': 0.13927268790423925,\n",
       "      'vtx': {'x': 0.019220909521422535,\n",
       "       'y': 0.0001218427816470299,\n",
       "       'z': 0.02100575726818872}}}},\n",
       "   {'id': 133,\n",
       "    'pdg': 22,\n",
       "    'trk_id': 0.0,\n",
       "    'charge': 0.0,\n",
       "    'dir': {'x': 0.5334282024639113,\n",
       "     'y': 0.032388647251493374,\n",
       "     'z': 0.8452250163982008},\n",
       "    'p': 1.447960469177318,\n",
       "    'px': 0.7723829503120584,\n",
       "    'py': 0.046897480870291,\n",
       "    'pz': 1.2238524113043452,\n",
       "    'm': 0.0,\n",
       "    'time': 0.0,\n",
       "    'is_beam': False,\n",
       "    'is_stable': False,\n",
       "    'gen_code': False,\n",
       "    'mother': {'id': 0, 'second_id': 0},\n",
       "    'pol': {'has_info': 0.0, 'x': 0.0, 'y': 0.0, 'z': 0.0},\n",
       "    'vtx': {'has_info': True,\n",
       "     'id': 0,\n",
       "     'x': 0.019220909521422535,\n",
       "     'y': 0.0001218427816470299,\n",
       "     'z': 0.02100575726818872,\n",
       "     't': 0.031082770889927006},\n",
       "    'smear': {'has_info': True,\n",
       "     'has_e': True,\n",
       "     'has_p': False,\n",
       "     'has_pid': False,\n",
       "     'has_vtx': False,\n",
       "     'has_any_eppid': True,\n",
       "     'orig': {'tot_e': 1.4479604691773331,\n",
       "      'p': 1.447960469177318,\n",
       "      'px': 0.7723829503120584,\n",
       "      'py': 0.046897480870291,\n",
       "      'pz': 1.2238524113043452,\n",
       "      'vtx': {'x': 0.019220909521422535,\n",
       "       'y': 0.0001218427816470299,\n",
       "       'z': 0.02100575726818872}}}})},\n",
       " {'id': 132,\n",
       "  'pdg': 11,\n",
       "  'trk_id': 0.0,\n",
       "  'charge': -1.0,\n",
       "  'dir': {'x': 0.570325795475992,\n",
       "   'y': -0.0656089762775372,\n",
       "   'z': 0.8187942044534088},\n",
       "  'p': 0.37334993967602653,\n",
       "  'px': -0.024816053982264084,\n",
       "  'py': 0.21297371129116557,\n",
       "  'pz': 0.30564119359096426,\n",
       "  'm': 0.0,\n",
       "  'time': 0.0,\n",
       "  'is_beam': False,\n",
       "  'is_stable': False,\n",
       "  'gen_code': False,\n",
       "  'mother': {'id': 0, 'second_id': 0},\n",
       "  'pol': {'has_info': 0.0, 'x': 0.0, 'y': 0.0, 'z': 0.0},\n",
       "  'vtx': {'has_info': True,\n",
       "   'id': 0,\n",
       "   'x': 0.020061532363306066,\n",
       "   'y': -0.0017139090416370382,\n",
       "   'z': 0.02029083729167696,\n",
       "   't': 0.031082770889927006},\n",
       "  'smear': {'has_info': True,\n",
       "   'has_e': True,\n",
       "   'has_p': True,\n",
       "   'has_pid': False,\n",
       "   'has_vtx': True,\n",
       "   'has_any_eppid': True,\n",
       "   'orig': {'tot_e': 0.3732418491438916,\n",
       "    'p': 0.37324149934238376,\n",
       "    'px': 0.21286925501709697,\n",
       "    'py': -0.024487992676146875,\n",
       "    'pz': 0.3056079765230446,\n",
       "    'vtx': {'x': 0.019220909521422535,\n",
       "     'y': 0.0001218427816470299,\n",
       "     'z': 0.02100575726818872}}},\n",
       "  'photon': ({'id': 132,\n",
       "    'pdg': 11,\n",
       "    'trk_id': 0.0,\n",
       "    'charge': -1.0,\n",
       "    'dir': {'x': 0.570325795475992,\n",
       "     'y': -0.0656089762775372,\n",
       "     'z': 0.8187942044534088},\n",
       "    'p': 0.37334993967602653,\n",
       "    'px': -0.024816053982264084,\n",
       "    'py': 0.21297371129116557,\n",
       "    'pz': 0.30564119359096426,\n",
       "    'm': 0.0,\n",
       "    'time': 0.0,\n",
       "    'is_beam': False,\n",
       "    'is_stable': False,\n",
       "    'gen_code': False,\n",
       "    'mother': {'id': 0, 'second_id': 0},\n",
       "    'pol': {'has_info': 0.0, 'x': 0.0, 'y': 0.0, 'z': 0.0},\n",
       "    'vtx': {'has_info': True,\n",
       "     'id': 0,\n",
       "     'x': 0.020061532363306066,\n",
       "     'y': -0.0017139090416370382,\n",
       "     'z': 0.02029083729167696,\n",
       "     't': 0.031082770889927006},\n",
       "    'smear': {'has_info': True,\n",
       "     'has_e': True,\n",
       "     'has_p': True,\n",
       "     'has_pid': False,\n",
       "     'has_vtx': True,\n",
       "     'has_any_eppid': True,\n",
       "     'orig': {'tot_e': 0.3732418491438916,\n",
       "      'p': 0.37324149934238376,\n",
       "      'px': 0.21286925501709697,\n",
       "      'py': -0.024487992676146875,\n",
       "      'pz': 0.3056079765230446,\n",
       "      'vtx': {'x': 0.019220909521422535,\n",
       "       'y': 0.0001218427816470299,\n",
       "       'z': 0.02100575726818872}}}},\n",
       "   {'id': 133,\n",
       "    'pdg': 22,\n",
       "    'trk_id': 0.0,\n",
       "    'charge': 0.0,\n",
       "    'dir': {'x': 0.5334282024639113,\n",
       "     'y': 0.032388647251493374,\n",
       "     'z': 0.8452250163982008},\n",
       "    'p': 1.447960469177318,\n",
       "    'px': 0.7723829503120584,\n",
       "    'py': 0.046897480870291,\n",
       "    'pz': 1.2238524113043452,\n",
       "    'm': 0.0,\n",
       "    'time': 0.0,\n",
       "    'is_beam': False,\n",
       "    'is_stable': False,\n",
       "    'gen_code': False,\n",
       "    'mother': {'id': 0, 'second_id': 0},\n",
       "    'pol': {'has_info': 0.0, 'x': 0.0, 'y': 0.0, 'z': 0.0},\n",
       "    'vtx': {'has_info': True,\n",
       "     'id': 0,\n",
       "     'x': 0.019220909521422535,\n",
       "     'y': 0.0001218427816470299,\n",
       "     'z': 0.02100575726818872,\n",
       "     't': 0.031082770889927006},\n",
       "    'smear': {'has_info': True,\n",
       "     'has_e': True,\n",
       "     'has_p': False,\n",
       "     'has_pid': False,\n",
       "     'has_vtx': False,\n",
       "     'has_any_eppid': True,\n",
       "     'orig': {'tot_e': 1.4479604691773331,\n",
       "      'p': 1.447960469177318,\n",
       "      'px': 0.7723829503120584,\n",
       "      'py': 0.046897480870291,\n",
       "      'pz': 1.2238524113043452,\n",
       "      'vtx': {'x': 0.019220909521422535,\n",
       "       'y': 0.0001218427816470299,\n",
       "       'z': 0.02100575726818872}}}})},\n",
       " {'id': 145,\n",
       "  'pdg': -11,\n",
       "  'trk_id': 0.0,\n",
       "  'charge': 1.0,\n",
       "  'dir': {'x': 0.08571059194169607,\n",
       "   'y': 0.9209313720131881,\n",
       "   'z': -0.3801829855094923},\n",
       "  'p': 0.11746844585973157,\n",
       "  'px': 0.1081413401649814,\n",
       "  'py': 0.01013570821492027,\n",
       "  'pz': -0.04473872750765787,\n",
       "  'm': 0.0,\n",
       "  'time': 0.0,\n",
       "  'is_beam': False,\n",
       "  'is_stable': False,\n",
       "  'gen_code': False,\n",
       "  'mother': {'id': 0, 'second_id': 0},\n",
       "  'pol': {'has_info': 0.0, 'x': 0.0, 'y': 0.0, 'z': 0.0},\n",
       "  'vtx': {'has_info': True,\n",
       "   'id': 0,\n",
       "   'x': -0.02983742277132802,\n",
       "   'y': 0.017162678552584187,\n",
       "   'z': -0.013690625033659356,\n",
       "   't': 0.025756672599310075},\n",
       "  'smear': {'has_info': True,\n",
       "   'has_e': True,\n",
       "   'has_p': True,\n",
       "   'has_pid': False,\n",
       "   'has_vtx': True,\n",
       "   'has_any_eppid': True,\n",
       "   'orig': {'tot_e': 0.11610442398949394,\n",
       "    'p': 0.11610329947478751,\n",
       "    'px': 0.009951282524368048,\n",
       "    'py': 0.10692317088057413,\n",
       "    'pz': -0.04414049902182739,\n",
       "    'vtx': {'x': -0.011863220347100908,\n",
       "     'y': 0.01455626892825513,\n",
       "     'z': -0.003653900730309051}}},\n",
       "  'photon': ({'id': 145,\n",
       "    'pdg': -11,\n",
       "    'trk_id': 0.0,\n",
       "    'charge': 1.0,\n",
       "    'dir': {'x': 0.08571059194169607,\n",
       "     'y': 0.9209313720131881,\n",
       "     'z': -0.3801829855094923},\n",
       "    'p': 0.11746844585973157,\n",
       "    'px': 0.1081413401649814,\n",
       "    'py': 0.01013570821492027,\n",
       "    'pz': -0.04473872750765787,\n",
       "    'm': 0.0,\n",
       "    'time': 0.0,\n",
       "    'is_beam': False,\n",
       "    'is_stable': False,\n",
       "    'gen_code': False,\n",
       "    'mother': {'id': 0, 'second_id': 0},\n",
       "    'pol': {'has_info': 0.0, 'x': 0.0, 'y': 0.0, 'z': 0.0},\n",
       "    'vtx': {'has_info': True,\n",
       "     'id': 0,\n",
       "     'x': -0.02983742277132802,\n",
       "     'y': 0.017162678552584187,\n",
       "     'z': -0.013690625033659356,\n",
       "     't': 0.025756672599310075},\n",
       "    'smear': {'has_info': True,\n",
       "     'has_e': True,\n",
       "     'has_p': True,\n",
       "     'has_pid': False,\n",
       "     'has_vtx': True,\n",
       "     'has_any_eppid': True,\n",
       "     'orig': {'tot_e': 0.11610442398949394,\n",
       "      'p': 0.11610329947478751,\n",
       "      'px': 0.009951282524368048,\n",
       "      'py': 0.10692317088057413,\n",
       "      'pz': -0.04414049902182739,\n",
       "      'vtx': {'x': -0.011863220347100908,\n",
       "       'y': 0.01455626892825513,\n",
       "       'z': -0.003653900730309051}}}},\n",
       "   {'id': 144,\n",
       "    'pdg': 22,\n",
       "    'trk_id': 0.0,\n",
       "    'charge': 0.0,\n",
       "    'dir': {'x': 0.07985312785507935,\n",
       "     'y': 0.9887524130390897,\n",
       "     'z': 0.12646004776662764},\n",
       "    'p': 0.2407457797970618,\n",
       "    'px': 0.019224303534705556,\n",
       "    'py': 0.23803797070332217,\n",
       "    'pz': 0.030444722812750458,\n",
       "    'm': 0.0,\n",
       "    'time': 0.0,\n",
       "    'is_beam': False,\n",
       "    'is_stable': False,\n",
       "    'gen_code': False,\n",
       "    'mother': {'id': 0, 'second_id': 0},\n",
       "    'pol': {'has_info': 0.0, 'x': 0.0, 'y': 0.0, 'z': 0.0},\n",
       "    'vtx': {'has_info': True,\n",
       "     'id': 0,\n",
       "     'x': -0.011866865988321,\n",
       "     'y': 0.014585518744076808,\n",
       "     'z': -0.0036360194054353284,\n",
       "     't': 0.025782776393793044},\n",
       "    'smear': {'has_info': True,\n",
       "     'has_e': True,\n",
       "     'has_p': False,\n",
       "     'has_pid': False,\n",
       "     'has_vtx': False,\n",
       "     'has_any_eppid': True,\n",
       "     'orig': {'tot_e': 0.24074577979706188,\n",
       "      'p': 0.2407457797970618,\n",
       "      'px': 0.019224303534705556,\n",
       "      'py': 0.23803797070332217,\n",
       "      'pz': 0.030444722812750458,\n",
       "      'vtx': {'x': -0.011866865988321,\n",
       "       'y': 0.014585518744076808,\n",
       "       'z': -0.0036360194054353284}}}})},\n",
       " {'id': 146,\n",
       "  'pdg': 11,\n",
       "  'trk_id': 0.0,\n",
       "  'charge': -1.0,\n",
       "  'dir': {'x': -0.7609856161414928,\n",
       "   'y': 0.5872671333062407,\n",
       "   'z': -0.2757139934135057},\n",
       "  'p': 0.0758291841424346,\n",
       "  'px': 0.0445524121034814,\n",
       "  'py': -0.057660189552594755,\n",
       "  'pz': -0.020986907447922438,\n",
       "  'm': 0.0,\n",
       "  'time': 0.0,\n",
       "  'is_beam': False,\n",
       "  'is_stable': False,\n",
       "  'gen_code': False,\n",
       "  'mother': {'id': 0, 'second_id': 0},\n",
       "  'pol': {'has_info': 0.0, 'x': 0.0, 'y': 0.0, 'z': 0.0},\n",
       "  'vtx': {'has_info': True,\n",
       "   'id': 0,\n",
       "   'x': -0.01674808521528379,\n",
       "   'y': 0.004640781971839175,\n",
       "   'z': -0.004058593980632708,\n",
       "   't': 0.025756672599310075},\n",
       "  'smear': {'has_info': True,\n",
       "   'has_e': True,\n",
       "   'has_p': True,\n",
       "   'has_pid': False,\n",
       "   'has_vtx': True,\n",
       "   'has_any_eppid': True,\n",
       "   'orig': {'tot_e': 0.07582326757146512,\n",
       "    'p': 0.07582154564643216,\n",
       "    'px': -0.0576991056305505,\n",
       "    'py': 0.04452750175462849,\n",
       "    'pz': -0.020905061136962222,\n",
       "    'vtx': {'x': -0.011863220347100908,\n",
       "     'y': 0.01455626892825513,\n",
       "     'z': -0.003653900730309051}}},\n",
       "  'photon': ({'id': 146,\n",
       "    'pdg': 11,\n",
       "    'trk_id': 0.0,\n",
       "    'charge': -1.0,\n",
       "    'dir': {'x': -0.7609856161414928,\n",
       "     'y': 0.5872671333062407,\n",
       "     'z': -0.2757139934135057},\n",
       "    'p': 0.0758291841424346,\n",
       "    'px': 0.0445524121034814,\n",
       "    'py': -0.057660189552594755,\n",
       "    'pz': -0.020986907447922438,\n",
       "    'm': 0.0,\n",
       "    'time': 0.0,\n",
       "    'is_beam': False,\n",
       "    'is_stable': False,\n",
       "    'gen_code': False,\n",
       "    'mother': {'id': 0, 'second_id': 0},\n",
       "    'pol': {'has_info': 0.0, 'x': 0.0, 'y': 0.0, 'z': 0.0},\n",
       "    'vtx': {'has_info': True,\n",
       "     'id': 0,\n",
       "     'x': -0.01674808521528379,\n",
       "     'y': 0.004640781971839175,\n",
       "     'z': -0.004058593980632708,\n",
       "     't': 0.025756672599310075},\n",
       "    'smear': {'has_info': True,\n",
       "     'has_e': True,\n",
       "     'has_p': True,\n",
       "     'has_pid': False,\n",
       "     'has_vtx': True,\n",
       "     'has_any_eppid': True,\n",
       "     'orig': {'tot_e': 0.07582326757146512,\n",
       "      'p': 0.07582154564643216,\n",
       "      'px': -0.0576991056305505,\n",
       "      'py': 0.04452750175462849,\n",
       "      'pz': -0.020905061136962222,\n",
       "      'vtx': {'x': -0.011863220347100908,\n",
       "       'y': 0.01455626892825513,\n",
       "       'z': -0.003653900730309051}}}},\n",
       "   {'id': 139,\n",
       "    'pdg': 22,\n",
       "    'trk_id': 0.0,\n",
       "    'charge': 0.0,\n",
       "    'dir': {'x': -0.8037735513514992,\n",
       "     'y': 0.5681293637812281,\n",
       "     'z': -0.17657039433986607},\n",
       "    'p': 0.3046227743001191,\n",
       "    'px': -0.2448477291217529,\n",
       "    'py': 0.1730651429563993,\n",
       "    'pz': -0.05378736338307605,\n",
       "    'm': 0.0,\n",
       "    'time': 0.0,\n",
       "    'is_beam': False,\n",
       "    'is_stable': False,\n",
       "    'gen_code': False,\n",
       "    'mother': {'id': 0, 'second_id': 0},\n",
       "    'pol': {'has_info': 0.0, 'x': 0.0, 'y': 0.0, 'z': 0.0},\n",
       "    'vtx': {'has_info': True,\n",
       "     'id': 0,\n",
       "     'x': -0.011865499628553575,\n",
       "     'y': 0.01454801958179631,\n",
       "     'z': -0.003647761479852449,\n",
       "     't': 0.02574572242423563},\n",
       "    'smear': {'has_info': True,\n",
       "     'has_e': True,\n",
       "     'has_p': False,\n",
       "     'has_pid': False,\n",
       "     'has_vtx': False,\n",
       "     'has_any_eppid': True,\n",
       "     'orig': {'tot_e': 0.3046227743001188,\n",
       "      'p': 0.3046227743001191,\n",
       "      'px': -0.2448477291217529,\n",
       "      'py': 0.1730651429563993,\n",
       "      'pz': -0.05378736338307605,\n",
       "      'vtx': {'x': -0.011865499628553575,\n",
       "       'y': 0.01454801958179631,\n",
       "       'z': -0.003647761479852449}}}})}]"
      ]
     },
     "execution_count": 29,
     "metadata": {},
     "output_type": "execute_result"
    }
   ],
   "source": [
    "electrons[\"photon\"] = ak.firsts(best_electron_photons, axis=2)\n",
    "ak.to_list(electrons[8])"
   ]
  },
  {
   "cell_type": "markdown",
   "metadata": {},
   "source": [
    "## Imperative, but still fast, programming in Numba"
   ]
  },
  {
   "cell_type": "markdown",
   "metadata": {},
   "source": [
    "## Grafting jagged data onto Pandas"
   ]
  },
  {
   "cell_type": "markdown",
   "metadata": {},
   "source": [
    "## NumExpr, Autograd, and other third-party libraries"
   ]
  },
  {
   "cell_type": "code",
   "execution_count": null,
   "metadata": {},
   "outputs": [],
   "source": []
  }
 ],
 "metadata": {
  "kernelspec": {
   "display_name": "Python 3",
   "language": "python",
   "name": "python3"
  },
  "language_info": {
   "codemirror_mode": {
    "name": "ipython",
    "version": 3
   },
   "file_extension": ".py",
   "mimetype": "text/x-python",
   "name": "python",
   "nbconvert_exporter": "python",
   "pygments_lexer": "ipython3",
   "version": "3.7.6"
  }
 },
 "nbformat": 4,
 "nbformat_minor": 4
}
