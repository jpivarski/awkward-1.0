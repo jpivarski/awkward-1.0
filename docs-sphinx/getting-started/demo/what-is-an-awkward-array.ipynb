{
 "cells": [
  {
   "cell_type": "markdown",
   "id": "301a2ae3",
   "metadata": {
    "tags": []
   },
   "source": [
    "# What is an Awkward Array?\n",
    "\n",
    "Awkward Array is a library for *nested, variable-sized data*, including arbitrary-length lists, records, mixed types, and missing data, using *NumPy-like idioms*.\n",
    "\n",
    "Arrays are *dynamically typed*, but operations on them are *compiled and fast*. Their behavior coincides with NumPy when array dimensions are regular and generalizes when they're not."
   ]
  },
  {
   "cell_type": "code",
   "execution_count": null,
   "outputs": [],
   "source": [
    "# Make assignments show in outputs\n",
    "%config InteractiveShell.ast_node_interactivity = \"last_expr_or_assign\"\n",
    "\n",
    "# Install Awkward Array in the browser\n",
    "import piplite\n",
    "await piplite.install(\"awkward\")\n",
    "\n",
    "# Import normal libraries\n",
    "import numpy as np\n",
    "import awkward as ak"
   ],
   "metadata": {
    "collapsed": false
   }
  },
  {
   "cell_type": "markdown",
   "id": "09a7a05b",
   "metadata": {},
   "source": [
    "## Versatile Arrays"
   ]
  },
  {
   "cell_type": "markdown",
   "id": "8edbfc5d",
   "metadata": {
    "tags": []
   },
   "source": [
    "Awkward Arrays are general tree-like data structures, like JSON, but contiguous in memory and operated upon with compiled, vectorized code like NumPy."
   ]
  },
  {
   "cell_type": "markdown",
   "id": "f99fdec4",
   "metadata": {},
   "source": [
    "They look like NumPy arrays:"
   ]
  },
  {
   "cell_type": "code",
   "execution_count": null,
   "id": "40f65c4c",
   "metadata": {},
   "outputs": [],
   "source": [
    "ak.Array([1, 2, 3])"
   ]
  },
  {
   "cell_type": "markdown",
   "id": "e7596a1a",
   "metadata": {},
   "source": [
    "Like NumPy, they can have multiple dimensions:"
   ]
  },
  {
   "cell_type": "code",
   "execution_count": null,
   "id": "cd736ae1",
   "metadata": {},
   "outputs": [],
   "source": [
    "ak.Array([\n",
    "    [1, 2, 3],\n",
    "    [4, 5, 6]\n",
    "])"
   ]
  },
  {
   "cell_type": "markdown",
   "id": "6199f6d9",
   "metadata": {},
   "source": [
    "These dimensions can have varying lengths; arrays can be [ragged](https://en.wikipedia.org/wiki/Jagged_array):"
   ]
  },
  {
   "cell_type": "code",
   "execution_count": null,
   "id": "63a7a773",
   "metadata": {},
   "outputs": [],
   "source": [
    "ak.Array([\n",
    "    [1, 2, 3],\n",
    "    [4],\n",
    "    [5, 6]\n",
    "])"
   ]
  },
  {
   "cell_type": "markdown",
   "id": "091d3df4",
   "metadata": {},
   "source": [
    "Each dimension can contain missing values:"
   ]
  },
  {
   "cell_type": "code",
   "execution_count": null,
   "id": "cbfcbdd6",
   "metadata": {},
   "outputs": [],
   "source": [
    "ak.Array([\n",
    "    [1, 2, 3],\n",
    "    [4],\n",
    "    [5, 6, None]\n",
    "])"
   ]
  },
  {
   "cell_type": "markdown",
   "id": "ec93ba10",
   "metadata": {},
   "source": [
    "Awkward Arrays can store _numbers_:"
   ]
  },
  {
   "cell_type": "code",
   "execution_count": null,
   "id": "9dd42099",
   "metadata": {},
   "outputs": [],
   "source": [
    "ak.Array([\n",
    "    [3, 141], \n",
    "    [59, 26, 535], \n",
    "    [8]\n",
    "])"
   ]
  },
  {
   "cell_type": "markdown",
   "id": "dc15be67",
   "metadata": {},
   "source": [
    "They can also work with _dates_:"
   ]
  },
  {
   "cell_type": "code",
   "execution_count": null,
   "id": "64bccb8e",
   "metadata": {},
   "outputs": [],
   "source": [
    "ak.Array(\n",
    "    [\n",
    "        [np.datetime64(\"1815-12-10\"), np.datetime64(\"1969-07-16\")],\n",
    "        [np.datetime64(\"1564-04-26\")],\n",
    "    ]\n",
    ")"
   ]
  },
  {
   "cell_type": "markdown",
   "id": "869b728d",
   "metadata": {},
   "source": [
    "They can even work with _strings_:"
   ]
  },
  {
   "cell_type": "code",
   "execution_count": null,
   "id": "43113b1b",
   "metadata": {},
   "outputs": [],
   "source": [
    "ak.Array(\n",
    "    [\n",
    "        [\n",
    "            \"Benjamin List\",\n",
    "            \"David MacMillan\",\n",
    "        ],\n",
    "        [\n",
    "            \"Emmanuelle Charpentier\",\n",
    "            \"Jennifer A. Doudna\",\n",
    "        ],\n",
    "    ]\n",
    ")"
   ]
  },
  {
   "cell_type": "markdown",
   "id": "9d3b0ce6",
   "metadata": {},
   "source": [
    "Awkward Arrays can have structure through _records_:"
   ]
  },
  {
   "cell_type": "code",
   "execution_count": null,
   "id": "68a76335",
   "metadata": {},
   "outputs": [],
   "source": [
    "ak.Array(\n",
    "    [\n",
    "        [\n",
    "            {\"name\": \"Benjamin List\", \"age\": 53},\n",
    "            {\"name\": \"David MacMillan\", \"age\": 53},\n",
    "        ],\n",
    "        [\n",
    "            {\"name\": \"Emmanuelle Charpentier\", \"age\": 52},\n",
    "            {\"name\": \"Jennifer A. Doudna\", \"age\": 57},\n",
    "        ],\n",
    "        [\n",
    "            {\"name\": \"Akira Yoshino\", \"age\": 73},\n",
    "            {\"name\": \"M. Stanley Whittingham\", \"age\": 79},\n",
    "            {\"name\": \"John B. Goodenough\", \"age\": 98},\n",
    "        ],\n",
    "    ]\n",
    ")"
   ]
  },
  {
   "cell_type": "markdown",
   "id": "381cdf35",
   "metadata": {},
   "source": [
    "In fact, Awkward Arrays can represent many kinds of jagged data. They can possess complex structures that mix records, and primitive types."
   ]
  },
  {
   "cell_type": "code",
   "execution_count": null,
   "id": "01648e73",
   "metadata": {
    "tags": []
   },
   "outputs": [],
   "source": [
    "ak.Array(\n",
    "    [\n",
    "        [\n",
    "            {\n",
    "                \"name\": \"Benjamin List\",\n",
    "                \"age\": 53,\n",
    "                \"institutions\": [\n",
    "                    \"University of Cologne\",\n",
    "                    \"Max Planck Institute for Coal Research\",\n",
    "                    \"Hokkaido University\",\n",
    "                ],\n",
    "            },\n",
    "            {\n",
    "                \"name\": \"David MacMillan\",\n",
    "                \"age\": 53,\n",
    "                \"institutions\": None,\n",
    "            },\n",
    "        ]\n",
    "    ]\n",
    ")"
   ]
  },
  {
   "cell_type": "markdown",
   "id": "9381871f",
   "metadata": {},
   "source": [
    "They can even contain unions!"
   ]
  },
  {
   "cell_type": "code",
   "execution_count": null,
   "id": "6ac9308a",
   "metadata": {},
   "outputs": [],
   "source": [
    "ak.Array(\n",
    "    [\n",
    "        [np.datetime64(\"1815-12-10\"), \"Cassini\"],\n",
    "        [np.datetime64(\"1564-04-26\")],\n",
    "    ]\n",
    ")"
   ]
  },
  {
   "cell_type": "markdown",
   "id": "ee78ace7",
   "metadata": {},
   "source": [
    "## NumPy-like interface\n",
    "\n",
    "Awkward Array _looks like_ NumPy. It behaves identically to NumPy for regular arrays"
   ]
  },
  {
   "cell_type": "code",
   "execution_count": null,
   "id": "19f6deee",
   "metadata": {},
   "outputs": [],
   "source": [
    "x = ak.Array([\n",
    "    [1, 2, 3],\n",
    "    [4, 5, 6]\n",
    "]);"
   ]
  },
  {
   "cell_type": "code",
   "execution_count": null,
   "id": "873d18e0",
   "metadata": {},
   "outputs": [],
   "source": [
    "ak.sum(x, axis=-1)"
   ]
  },
  {
   "cell_type": "markdown",
   "id": "d9dc3977",
   "metadata": {},
   "source": [
    "providing a similar high-level API, and implementing the [ufunc](https://numpy.org/doc/stable/reference/ufuncs.html) mechanism:"
   ]
  },
  {
   "cell_type": "code",
   "execution_count": null,
   "id": "bb1574b2",
   "metadata": {},
   "outputs": [],
   "source": [
    "powers_of_two = ak.Array(\n",
    "    [\n",
    "        [1, 2, 4],\n",
    "        [None, 8],\n",
    "        [16],\n",
    "    ]\n",
    ");"
   ]
  },
  {
   "cell_type": "code",
   "execution_count": null,
   "id": "381b261e",
   "metadata": {},
   "outputs": [],
   "source": [
    "ak.sum(powers_of_two)"
   ]
  },
  {
   "cell_type": "markdown",
   "id": "63f458d7",
   "metadata": {},
   "source": [
    "But generalises to the tricky kinds of data that NumPy struggles to work with. It can perform reductions through varying length lists:"
   ]
  },
  {
   "cell_type": "markdown",
   "id": "23162a51",
   "metadata": {},
   "source": [
    "![](example-reduction-sum.svg)"
   ]
  },
  {
   "cell_type": "code",
   "execution_count": null,
   "id": "323d1251",
   "metadata": {},
   "outputs": [],
   "source": [
    "ak.sum(powers_of_two, axis=0)"
   ]
  },
  {
   "cell_type": "markdown",
   "id": "ffc12d7e",
   "metadata": {},
   "source": [
    "## Lightweight structures"
   ]
  },
  {
   "cell_type": "markdown",
   "id": "5db403c8",
   "metadata": {},
   "source": [
    "Awkward makes it east to pull apart record structures:"
   ]
  },
  {
   "cell_type": "code",
   "execution_count": null,
   "id": "44ebfac5",
   "metadata": {},
   "outputs": [],
   "source": [
    "nobel_prize_winner = ak.Array(\n",
    "    [\n",
    "        [\n",
    "            {\"name\": \"Benjamin List\", \"age\": 53},\n",
    "            {\"name\": \"David MacMillan\", \"age\": 53},\n",
    "        ],\n",
    "        [\n",
    "            {\"name\": \"Emmanuelle Charpentier\", \"age\": 52},\n",
    "            {\"name\": \"Jennifer A. Doudna\", \"age\": 57},\n",
    "        ],\n",
    "        [\n",
    "            {\"name\": \"Akira Yoshino\", \"age\": 73},\n",
    "            {\"name\": \"M. Stanley Whittingham\", \"age\": 79},\n",
    "            {\"name\": \"John B. Goodenough\", \"age\": 98},\n",
    "        ],\n",
    "    ]\n",
    ");"
   ]
  },
  {
   "cell_type": "code",
   "execution_count": null,
   "id": "f85d3a15",
   "metadata": {},
   "outputs": [],
   "source": [
    "nobel_prize_winner.name"
   ]
  },
  {
   "cell_type": "code",
   "execution_count": null,
   "id": "5f86d04e",
   "metadata": {},
   "outputs": [],
   "source": [
    "nobel_prize_winner.age"
   ]
  },
  {
   "cell_type": "markdown",
   "id": "e76d242f",
   "metadata": {},
   "source": [
    "These records are lightweight, and simple to compose:"
   ]
  },
  {
   "cell_type": "code",
   "execution_count": null,
   "id": "0cd9ce6a",
   "metadata": {},
   "outputs": [],
   "source": [
    "nobel_prize_winner_with_birth_year = ak.zip({\n",
    "    \"name\": nobel_prize_winner.name,\n",
    "    \"age\": nobel_prize_winner.age,\n",
    "    \"birth_year\": 2021 - nobel_prize_winner.age\n",
    "});"
   ]
  },
  {
   "cell_type": "code",
   "execution_count": null,
   "id": "1edaa175",
   "metadata": {},
   "outputs": [],
   "source": [
    "nobel_prize_winner_with_birth_year.show()"
   ]
  },
  {
   "cell_type": "markdown",
   "id": "05ded07f",
   "metadata": {},
   "source": [
    "## High performance"
   ]
  },
  {
   "cell_type": "markdown",
   "id": "d687da2c",
   "metadata": {},
   "source": [
    "Like NumPy, Awkward Array performs computations in fast, optimised kernels."
   ]
  },
  {
   "cell_type": "code",
   "execution_count": null,
   "id": "7a69e76b",
   "metadata": {},
   "outputs": [],
   "source": [
    "large_array = ak.Array([[1, 2, 3], [], [4, 5]] * 1_000_000)"
   ]
  },
  {
   "cell_type": "markdown",
   "id": "2164baeb",
   "metadata": {},
   "source": [
    "We can compute the sum in `3.37 ms ± 107 µs` on a reference CPU:"
   ]
  },
  {
   "cell_type": "code",
   "execution_count": null,
   "id": "bd134b5f",
   "metadata": {},
   "outputs": [],
   "source": [
    "ak.sum(large_array)"
   ]
  },
  {
   "cell_type": "markdown",
   "id": "b88287a0",
   "metadata": {},
   "source": [
    "The same sum can be computed with pure-Python over the flattened array in `369 ms ± 8.07 ms`:"
   ]
  },
  {
   "cell_type": "code",
   "execution_count": null,
   "id": "1c2951aa",
   "metadata": {},
   "outputs": [],
   "source": [
    "large_flat_array = ak.ravel(large_array)\n",
    "\n",
    "sum(large_flat_array)"
   ]
  },
  {
   "cell_type": "markdown",
   "id": "68ac1b74",
   "metadata": {},
   "source": [
    "These performance values are not benchmarks; they are only an indication of the speed of Awkward Array."
   ]
  },
  {
   "cell_type": "markdown",
   "id": "10feaa92",
   "metadata": {},
   "source": [
    "Some problems are hard to solve with array-oriented programming. Awkward Array supports [Numba](https://numba.pydata.org/) out of the box:\n",
    "\n",
    "```python\n",
    "import numba as nb\n",
    "ak.numba.register_and_check()\n",
    "\n",
    "@nb.njit\n",
    "def cumulative_sum(arr):\n",
    "    result = 0\n",
    "    for x in arr:\n",
    "        for y in x:\n",
    "            result += y\n",
    "    return result\n",
    "    \n",
    "result = cumulative_sum(large_array)\n",
    "```"
   ]
  }
 ],
 "metadata": {
  "kernelspec": {
   "display_name": "Python 3 (ipykernel)",
   "language": "python",
   "name": "python3"
  },
  "mystnb": {
   "execution_mode": "off"
  }
 },
 "nbformat": 4,
 "nbformat_minor": 5
}
