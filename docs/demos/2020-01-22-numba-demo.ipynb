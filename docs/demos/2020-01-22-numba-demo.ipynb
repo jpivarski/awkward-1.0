{
 "cells": [
  {
   "cell_type": "markdown",
   "metadata": {},
   "source": [
    "# 2020-01-22-numba-demo"
   ]
  },
  {
   "cell_type": "markdown",
   "metadata": {},
   "source": [
    "## 1. This notebook\n",
    "\n",
    "This demo of Awkward Array was presented on January 22, 2020, before the first stable version (1.0) was released. Some interfaces may have changed. To run this notebook, make sure you have version 0.1.87  ([GitHub](https://github.com/scikit-hep/awkward-1.0/releases/tag/0.1.87), [pip](https://pypi.org/project/awkward1/0.1.87/)) by installing\n",
    "\n",
    "```bash\n",
    "pip install 'awkward1==0.1.87'\n",
    "```\n",
    "\n",
    "before executing it in Jupyter (or include that release number in the Binder URL).\n",
    "\n",
    "Depending on where you execute this notebook and how you installed or didn't install Awkward Array, you might need the following."
   ]
  },
  {
   "cell_type": "code",
   "execution_count": 2,
   "metadata": {},
   "outputs": [],
   "source": [
    "# The base of the GitHub repo is two levels up from this notebook.\n",
    "import sys\n",
    "import os\n",
    "sys.path.insert(0, os.path.join(os.getcwd(), \"..\", \"..\"))"
   ]
  },
  {
   "cell_type": "markdown",
   "metadata": {},
   "source": [
    "## 2. Introduction to Awkward Array\n",
    "\n",
    "Awkward Array is a library for manipulating data structures with NumPy-like idioms. For a core set of NumPy features—slicing, broadcasting, array-at-a-time operations, and such—it is a strict generalization from rectilinear arrays of numeric data types to unequal-width and heterogeneous lists and nested objects.\n",
    "\n",
    "The name arose organically: these kinds of arrays are usually awkward to deal with."
   ]
  },
  {
   "cell_type": "markdown",
   "metadata": {},
   "source": [
    "### 2.1 Distinction from NumPy object arrays\n",
    "\n",
    "Although NumPy arrays can contain arbitrary objects with `dtype('O')` type, such arrays can't be sliced or operated on with NumPy's usual idioms because they're really just pointers to pure Python objects."
   ]
  },
  {
   "cell_type": "code",
   "execution_count": 12,
   "metadata": {},
   "outputs": [],
   "source": [
    "import numpy as np\n",
    "import awkward1 as ak\n",
    "\n",
    "nparray = np.array([[1, 2, 3], [], [4, None, 5], [{\"something\": 1, \"else\": [2, 3]}]])\n",
    "akarray = ak.Array([[1, 2, 3], [], [4, None, 5], [{\"something\": 1, \"else\": [2, 3]}]])"
   ]
  },
  {
   "cell_type": "code",
   "execution_count": 13,
   "metadata": {},
   "outputs": [
    {
     "ename": "IndexError",
     "evalue": "too many indices for array",
     "output_type": "error",
     "traceback": [
      "\u001b[0;31m---------------------------------------------------------------------------\u001b[0m",
      "\u001b[0;31mIndexError\u001b[0m                                Traceback (most recent call last)",
      "\u001b[0;32m<ipython-input-13-8abc32c57bfe>\u001b[0m in \u001b[0;36m<module>\u001b[0;34m\u001b[0m\n\u001b[1;32m      1\u001b[0m \u001b[0;31m# NumPy can't slice into Python objects\u001b[0m\u001b[0;34m\u001b[0m\u001b[0;34m\u001b[0m\u001b[0;34m\u001b[0m\u001b[0m\n\u001b[0;32m----> 2\u001b[0;31m \u001b[0mnparray\u001b[0m\u001b[0;34m[\u001b[0m\u001b[0;36m2\u001b[0m\u001b[0;34m:\u001b[0m\u001b[0;34m,\u001b[0m \u001b[0;36m0\u001b[0m\u001b[0;34m]\u001b[0m\u001b[0;34m\u001b[0m\u001b[0;34m\u001b[0m\u001b[0m\n\u001b[0m",
      "\u001b[0;31mIndexError\u001b[0m: too many indices for array"
     ]
    }
   ],
   "source": [
    "# NumPy can't slice into Python objects\n",
    "nparray[2:, 0]"
   ]
  },
  {
   "cell_type": "code",
   "execution_count": 14,
   "metadata": {},
   "outputs": [
    {
     "data": {
      "text/plain": [
       "<Array [4, {something: 1, else: [2, 3]}] type='2 * ?union[int64, {\"something\": i...'>"
      ]
     },
     "execution_count": 14,
     "metadata": {},
     "output_type": "execute_result"
    }
   ],
   "source": [
    "# Awkward can\n",
    "akarray[2:, 0]"
   ]
  },
  {
   "cell_type": "code",
   "execution_count": 15,
   "metadata": {},
   "outputs": [
    {
     "ename": "TypeError",
     "evalue": "loop of ufunc does not support argument 0 of type list which has no callable sin method",
     "output_type": "error",
     "traceback": [
      "\u001b[0;31m---------------------------------------------------------------------------\u001b[0m",
      "\u001b[0;31mAttributeError\u001b[0m                            Traceback (most recent call last)",
      "\u001b[0;31mAttributeError\u001b[0m: 'list' object has no attribute 'sin'",
      "\nThe above exception was the direct cause of the following exception:\n",
      "\u001b[0;31mTypeError\u001b[0m                                 Traceback (most recent call last)",
      "\u001b[0;32m<ipython-input-15-25d23431ed70>\u001b[0m in \u001b[0;36m<module>\u001b[0;34m\u001b[0m\n\u001b[1;32m      1\u001b[0m \u001b[0;31m# NumPy can't pass ufuncs down to numerical data\u001b[0m\u001b[0;34m\u001b[0m\u001b[0;34m\u001b[0m\u001b[0;34m\u001b[0m\u001b[0m\n\u001b[0;32m----> 2\u001b[0;31m \u001b[0mnp\u001b[0m\u001b[0;34m.\u001b[0m\u001b[0msin\u001b[0m\u001b[0;34m(\u001b[0m\u001b[0mnparray\u001b[0m\u001b[0;34m)\u001b[0m\u001b[0;34m\u001b[0m\u001b[0;34m\u001b[0m\u001b[0m\n\u001b[0m",
      "\u001b[0;31mTypeError\u001b[0m: loop of ufunc does not support argument 0 of type list which has no callable sin method"
     ]
    }
   ],
   "source": [
    "# NumPy can't pass ufuncs down to numerical data\n",
    "np.sin(nparray)"
   ]
  },
  {
   "cell_type": "code",
   "execution_count": 16,
   "metadata": {},
   "outputs": [
    {
     "data": {
      "text/plain": [
       "<Array [[0.841, 0.909, 0.141], ... 0.141]}]] type='4 * var * ?union[float64, {\"s...'>"
      ]
     },
     "execution_count": 16,
     "metadata": {},
     "output_type": "execute_result"
    }
   ],
   "source": [
    "# Awkward can\n",
    "np.sin(akarray)"
   ]
  },
  {
   "cell_type": "code",
   "execution_count": 17,
   "metadata": {},
   "outputs": [
    {
     "data": {
      "text/plain": [
       "[[0.8414709848078965, 0.9092974268256817, 0.1411200080598672],\n",
       " [],\n",
       " [-0.7568024953079282, None, -0.9589242746631385],\n",
       " [{'something': 0.8414709848078965,\n",
       "   'else': [0.9092974268256817, 0.1411200080598672]}]]"
      ]
     },
     "execution_count": 17,
     "metadata": {},
     "output_type": "execute_result"
    }
   ],
   "source": [
    "# Here's a little more detail on the above:\n",
    "ak.tolist(np.sin(akarray))"
   ]
  },
  {
   "cell_type": "markdown",
   "metadata": {},
   "source": [
    "Like NumPy (as well as [Apache Arrow](https://arrow.apache.org/) and [XND](https://xnd.io/)), Awkward Array operates on columnar arrays and prefers _O(1)_ views, rather than _O(n)_ computations (where _n_ is the number of elements in the array) wherever possible."
   ]
  },
  {
   "cell_type": "code",
   "execution_count": 18,
   "metadata": {},
   "outputs": [
    {
     "data": {
      "text/plain": [
       "<ListOffsetArray64>\n",
       "    <offsets><Index64 i=\"[0 3 3 6 7]\" offset=\"0\" at=\"0x55f4d7fda0c0\"/></offsets>\n",
       "    <content><IndexedOptionArray64>\n",
       "        <index><Index64 i=\"[0 1 2 3 -1 4 5]\" offset=\"0\" at=\"0x55f4d7fde0e0\"/></index>\n",
       "        <content><UnionArray8_64>\n",
       "            <content index=\"0\">\n",
       "                <NumpyArray format=\"l\" shape=\"5\" data=\"1 2 3 4 5\" at=\"0x55f4d7fdc0d0\"/>\n",
       "            </content>\n",
       "            <content index=\"1\">\n",
       "                <RecordArray>\n",
       "                    <field index=\"0\" key=\"something\">\n",
       "                        <NumpyArray format=\"l\" shape=\"1\" data=\"1\" at=\"0x55f4d7fe2100\"/>\n",
       "                    </field>\n",
       "                    <field index=\"1\" key=\"else\">\n",
       "                        <ListOffsetArray64>\n",
       "                            <offsets><Index64 i=\"[0 2]\" offset=\"0\" at=\"0x55f4d7fe4110\"/></offsets>\n",
       "                            <content><NumpyArray format=\"l\" shape=\"2\" data=\"2 3\" at=\"0x55f4d7fe6120\"/></content>\n",
       "                        </ListOffsetArray64>\n",
       "                    </field>\n",
       "                </RecordArray>\n",
       "            </content>\n",
       "        </UnionArray8_64></content>\n",
       "    </IndexedOptionArray64></content>\n",
       "</ListOffsetArray64>"
      ]
     },
     "execution_count": 18,
     "metadata": {},
     "output_type": "execute_result"
    }
   ],
   "source": [
    "# Columnar structure of the above array\n",
    "akarray.layout"
   ]
  },
  {
   "cell_type": "markdown",
   "metadata": {},
   "source": [
    "A major goal of this project is to use existing standards wherever possible. The columnar layout above is expressed in XML notation simply because it is a readable, standard way to express nesting (and generalizes from Python's convention of representing objects in `<angle brackets>`).\n",
    "\n",
    "High-level data types are expressed in [Datashape](https://datashape.readthedocs.io/en/latest/) notation"
   ]
  },
  {
   "cell_type": "code",
   "execution_count": 19,
   "metadata": {},
   "outputs": [
    {
     "data": {
      "text/plain": [
       "4 * var * ?union[int64, {\"something\": int64, \"else\": var * int64}]"
      ]
     },
     "execution_count": 19,
     "metadata": {},
     "output_type": "execute_result"
    }
   ],
   "source": [
    "ak.typeof(akarray)"
   ]
  },
  {
   "cell_type": "markdown",
   "metadata": {},
   "source": [
    "with [extensions where necessary](https://github.com/blaze/datashape/issues/237). Similarly, these arrays will be portable to and from Apache Arrow (and other formats, if requested). The idea is that Awkward Array provides **manipulation** capabilities, not **serialization** or **transport**."
   ]
  },
  {
   "cell_type": "markdown",
   "metadata": {},
   "source": [
    "### 2.2 Relevance for Numba\n",
    "\n",
    "Numba, as you know, provides **computation** capabilities in a way that complements NumPy. Whereas NumPy requires array-at-a-time operations for performance, Numba enables imperative, pure Python code to have equal and often exceeding performance.\n",
    "\n",
    "The analogy with Awkward is one-to-one:\n",
    "\n",
    "|   | without Numba | with Numba |\n",
    "|:-:|:-------------:|:----------:|\n",
    "| **with NumPy** | array-at-a-time processing on numbers | general code on NumPy arrays and Python objects |\n",
    "| **with Awkward** | array-at-a-time processing on data structures | general code on Awkward data structures |\n",
    "\n",
    "The Awkward Array library includes Numba extensions with near feature parity: most operations that run outside of JIT-compiled functions run inside them as well."
   ]
  },
  {
   "cell_type": "code",
   "execution_count": 33,
   "metadata": {},
   "outputs": [
    {
     "data": {
      "text/plain": [
       "array([103.3, 200. , 303.3])"
      ]
     },
     "execution_count": 33,
     "metadata": {},
     "output_type": "execute_result"
    }
   ],
   "source": [
    "import numba as nb\n",
    "\n",
    "@nb.jit(nopython=True)\n",
    "def run(array):\n",
    "    out = np.empty(len(array), np.float64)\n",
    "    for i in range(len(array)):\n",
    "        out[i] = array[i][\"x\"]\n",
    "        for y in array[i][\"y\"]:\n",
    "            out[i] += y\n",
    "    return out\n",
    "\n",
    "run(ak.Array([{\"x\": 100, \"y\": [1.1, 2.2]}, {\"x\": 200, \"y\": []}, {\"x\": 300, \"y\": [3.3]}]).layout)"
   ]
  },
  {
   "cell_type": "markdown",
   "metadata": {},
   "source": [
    "Although Numba and take and return builtin Python objects (e.g. tuples, lists, dicts) and can define extensions for class instances with `@jitclass`, these objects need to be boxed and unboxed, which can be a bottleneck.\n",
    "\n",
    "Data in an Awkward Array are columnar, and therefore boxing and unboxing is limited to the depth of the columnar layout, rather than the number of elements in the array. In this example, 4 nodes get unboxed, but there can be a million array elements.\n",
    "\n",
    "![](img/example-hierarchy.png)"
   ]
  },
  {
   "cell_type": "code",
   "execution_count": 59,
   "metadata": {},
   "outputs": [
    {
     "name": "stdout",
     "output_type": "stream",
     "text": [
      "[{x: 100, y: []}, {x: 200, y: [1.1]}, ... {x: 100, y: [3.3, 0, 2.2, 4.4]}]\n",
      "24.4 s ± 0 ns per loop (mean ± std. dev. of 1 run, 1 loop each)\n"
     ]
    }
   ],
   "source": [
    "%%timeit -n 1 -r 1\n",
    "\n",
    "builder = ak.FillableArray()\n",
    "\n",
    "for i in range(1000000):\n",
    "    builder.beginrecord()\n",
    "    builder.field(\"x\")\n",
    "    builder.integer(np.random.poisson(3) * 100)\n",
    "    builder.field(\"y\")\n",
    "    builder.beginlist()\n",
    "    for j in range(np.random.poisson(3)):\n",
    "        builder.real(np.random.randint(5) * 1.1)\n",
    "    builder.endlist()\n",
    "    builder.endrecord()\n",
    "\n",
    "akarray = builder.snapshot()\n",
    "print(akarray)"
   ]
  },
  {
   "cell_type": "code",
   "execution_count": 57,
   "metadata": {},
   "outputs": [
    {
     "data": {
      "text/plain": [
       "array([509.9, 403.3, 317.6, ..., 213.2, 409.9, 406.6])"
      ]
     },
     "execution_count": 57,
     "metadata": {},
     "output_type": "execute_result"
    }
   ],
   "source": [
    "run(akarray.layout)"
   ]
  },
  {
   "cell_type": "markdown",
   "metadata": {},
   "source": [
    "Even dynamically typed data like this `FillableArray` can be used in Numba, with a dramatic speedup (50×)."
   ]
  },
  {
   "cell_type": "code",
   "execution_count": 60,
   "metadata": {},
   "outputs": [
    {
     "name": "stdout",
     "output_type": "stream",
     "text": [
      "[{x: 400, y: [3.3, 0, 1.1]}, {x: 300, y: [3.3, ... {x: 300, y: [2.2, 2.2, 1.1]}]\n",
      "571 ms ± 0 ns per loop (mean ± std. dev. of 1 run, 1 loop each)\n"
     ]
    }
   ],
   "source": [
    "%%timeit -n 1 -r 1\n",
    "\n",
    "@nb.jit(nopython=True)\n",
    "def build(builder):\n",
    "    for i in range(1000000):\n",
    "        builder.beginrecord()\n",
    "        builder.field(\"x\")\n",
    "        builder.integer(np.random.poisson(3) * 100)\n",
    "        builder.field(\"y\")\n",
    "        builder.beginlist()\n",
    "        for j in range(np.random.poisson(3)):\n",
    "            builder.real(np.random.randint(5) * 1.1)\n",
    "        builder.endlist()\n",
    "        builder.endrecord()\n",
    "    return builder\n",
    "\n",
    "print(ak.Array(build(ak.layout.FillableArray()).snapshot()))"
   ]
  },
  {
   "cell_type": "markdown",
   "metadata": {},
   "source": [
    "The equivalent in Numba is about as fast, though it has to box _O(million)_ lists and numbers."
   ]
  },
  {
   "cell_type": "code",
   "execution_count": 64,
   "metadata": {},
   "outputs": [
    {
     "name": "stdout",
     "output_type": "stream",
     "text": [
      "[600, 500, 400, 500, 200]\n",
      "[[2.2, 0.0, 2.2, 2.2, 3.3000000000000003], [4.4, 2.2, 3.3000000000000003], [0.0, 0.0, 4.4, 2.2], [2.2], [4.4]]\n",
      "684 ms ± 0 ns per loop (mean ± std. dev. of 1 run, 1 loop each)\n"
     ]
    }
   ],
   "source": [
    "%%timeit -n 1 -r 1\n",
    "\n",
    "@nb.jit(nopython=True)\n",
    "def build():\n",
    "    outx = []\n",
    "    outy = []\n",
    "    for i in range(1000000):\n",
    "        outx.append(np.random.poisson(3) * 100)\n",
    "        tmp = []\n",
    "        for j in range(np.random.poisson(3)):\n",
    "            tmp.append(np.random.randint(5) * 1.1)\n",
    "        outy.append(tmp)\n",
    "    return (outx, outy)\n",
    "\n",
    "outx, outy = build()\n",
    "print(outx[:5])\n",
    "print(outy[:5])"
   ]
  },
  {
   "cell_type": "markdown",
   "metadata": {},
   "source": [
    "### 2.3 Why did this come from particle physics?\n",
    "\n",
    "HERE"
   ]
  }
 ],
 "metadata": {
  "kernelspec": {
   "display_name": "Python 3",
   "language": "python",
   "name": "python3"
  },
  "language_info": {
   "codemirror_mode": {
    "name": "ipython",
    "version": 3
   },
   "file_extension": ".py",
   "mimetype": "text/x-python",
   "name": "python",
   "nbconvert_exporter": "python",
   "pygments_lexer": "ipython3",
   "version": "3.7.6"
  }
 },
 "nbformat": 4,
 "nbformat_minor": 4
}
