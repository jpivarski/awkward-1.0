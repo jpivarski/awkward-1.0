{
 "cells": [
  {
   "cell_type": "markdown",
   "metadata": {},
   "source": [
    "# 2020-01-22-numba-demo"
   ]
  },
  {
   "cell_type": "markdown",
   "metadata": {},
   "source": [
    "## 1. This notebook\n",
    "\n",
    "This demo of Awkward Array was presented on January 22, 2020, before the first stable version (1.0) was released. Some interfaces may have changed. To run this notebook, make sure you have version 0.1.87  ([GitHub](https://github.com/scikit-hep/awkward-1.0/releases/tag/0.1.87), [pip](https://pypi.org/project/awkward1/0.1.87/)) by installing\n",
    "\n",
    "```bash\n",
    "pip install 'awkward1==0.1.87'\n",
    "```\n",
    "\n",
    "before executing it in Jupyter (or include that release number in the Binder URL).\n",
    "\n",
    "Depending on where you execute this notebook and how you installed or didn't install Awkward Array, you might need the following."
   ]
  },
  {
   "cell_type": "code",
   "execution_count": 1,
   "metadata": {},
   "outputs": [],
   "source": [
    "# The base of the GitHub repo is two levels up from this notebook.\n",
    "import sys\n",
    "import os\n",
    "sys.path.insert(0, os.path.join(os.getcwd(), \"..\", \"..\"))"
   ]
  },
  {
   "cell_type": "markdown",
   "metadata": {},
   "source": [
    "## 2. Introduction to Awkward Array\n",
    "\n",
    "Awkward Array is a library for manipulating data structures with NumPy-like idioms. For a core set of NumPy features—slicing, broadcasting, array-at-a-time operations, and such—it is a strict generalization from rectilinear arrays of numeric data types to unequal-width and heterogeneous lists and nested objects.\n",
    "\n",
    "The name arose organically: these kinds of arrays are usually awkward to deal with."
   ]
  },
  {
   "cell_type": "markdown",
   "metadata": {},
   "source": [
    "### 2.1 Distinction from NumPy object arrays\n",
    "\n",
    "Although NumPy arrays can contain arbitrary objects with `dtype('O')` type, such arrays can't be sliced or operated on with NumPy's usual idioms because they're really just pointers to pure Python objects."
   ]
  },
  {
   "cell_type": "code",
   "execution_count": 2,
   "metadata": {},
   "outputs": [],
   "source": [
    "import numpy as np\n",
    "import awkward1 as ak\n",
    "\n",
    "nparray = np.array([[1, 2, 3], [], [4, None, 5], [{\"something\": 1, \"else\": [2, 3]}]])\n",
    "akarray = ak.Array([[1, 2, 3], [], [4, None, 5], [{\"something\": 1, \"else\": [2, 3]}]])"
   ]
  },
  {
   "cell_type": "code",
   "execution_count": 3,
   "metadata": {},
   "outputs": [
    {
     "ename": "IndexError",
     "evalue": "too many indices for array",
     "output_type": "error",
     "traceback": [
      "\u001b[0;31m---------------------------------------------------------------------------\u001b[0m",
      "\u001b[0;31mIndexError\u001b[0m                                Traceback (most recent call last)",
      "\u001b[0;32m<ipython-input-3-8abc32c57bfe>\u001b[0m in \u001b[0;36m<module>\u001b[0;34m\u001b[0m\n\u001b[1;32m      1\u001b[0m \u001b[0;31m# NumPy can't slice into Python objects\u001b[0m\u001b[0;34m\u001b[0m\u001b[0;34m\u001b[0m\u001b[0;34m\u001b[0m\u001b[0m\n\u001b[0;32m----> 2\u001b[0;31m \u001b[0mnparray\u001b[0m\u001b[0;34m[\u001b[0m\u001b[0;36m2\u001b[0m\u001b[0;34m:\u001b[0m\u001b[0;34m,\u001b[0m \u001b[0;36m0\u001b[0m\u001b[0;34m]\u001b[0m\u001b[0;34m\u001b[0m\u001b[0;34m\u001b[0m\u001b[0m\n\u001b[0m",
      "\u001b[0;31mIndexError\u001b[0m: too many indices for array"
     ]
    }
   ],
   "source": [
    "# NumPy can't slice the substructure of Python objects\n",
    "nparray[2:, 0]"
   ]
  },
  {
   "cell_type": "code",
   "execution_count": 4,
   "metadata": {},
   "outputs": [
    {
     "data": {
      "text/plain": [
       "<Array [4, {something: 1, else: [2, 3]}] type='2 * ?union[int64, {\"something\": i...'>"
      ]
     },
     "execution_count": 4,
     "metadata": {},
     "output_type": "execute_result"
    }
   ],
   "source": [
    "# Awkward can slice this substructure\n",
    "akarray[2:, 0]"
   ]
  },
  {
   "cell_type": "code",
   "execution_count": 5,
   "metadata": {},
   "outputs": [
    {
     "ename": "TypeError",
     "evalue": "loop of ufunc does not support argument 0 of type list which has no callable sin method",
     "output_type": "error",
     "traceback": [
      "\u001b[0;31m---------------------------------------------------------------------------\u001b[0m",
      "\u001b[0;31mAttributeError\u001b[0m                            Traceback (most recent call last)",
      "\u001b[0;31mAttributeError\u001b[0m: 'list' object has no attribute 'sin'",
      "\nThe above exception was the direct cause of the following exception:\n",
      "\u001b[0;31mTypeError\u001b[0m                                 Traceback (most recent call last)",
      "\u001b[0;32m<ipython-input-5-3f403655a220>\u001b[0m in \u001b[0;36m<module>\u001b[0;34m\u001b[0m\n\u001b[1;32m      1\u001b[0m \u001b[0;31m# NumPy can't pass ufuncs into Python objects\u001b[0m\u001b[0;34m\u001b[0m\u001b[0;34m\u001b[0m\u001b[0;34m\u001b[0m\u001b[0m\n\u001b[0;32m----> 2\u001b[0;31m \u001b[0mnp\u001b[0m\u001b[0;34m.\u001b[0m\u001b[0msin\u001b[0m\u001b[0;34m(\u001b[0m\u001b[0mnparray\u001b[0m\u001b[0;34m)\u001b[0m\u001b[0;34m\u001b[0m\u001b[0;34m\u001b[0m\u001b[0m\n\u001b[0m",
      "\u001b[0;31mTypeError\u001b[0m: loop of ufunc does not support argument 0 of type list which has no callable sin method"
     ]
    }
   ],
   "source": [
    "# NumPy can't pass ufuncs into Python objects\n",
    "np.sin(nparray)"
   ]
  },
  {
   "cell_type": "code",
   "execution_count": 6,
   "metadata": {},
   "outputs": [
    {
     "data": {
      "text/plain": [
       "<Array [[0.841, 0.909, 0.141], ... 0.141]}]] type='4 * var * ?union[float64, {\"s...'>"
      ]
     },
     "execution_count": 6,
     "metadata": {},
     "output_type": "execute_result"
    }
   ],
   "source": [
    "# Awkward can pass ufuncs all the way down to the numericl data\n",
    "np.sin(akarray)"
   ]
  },
  {
   "cell_type": "code",
   "execution_count": 7,
   "metadata": {},
   "outputs": [
    {
     "data": {
      "text/plain": [
       "[[0.8414709848078965, 0.9092974268256817, 0.1411200080598672],\n",
       " [],\n",
       " [-0.7568024953079282, None, -0.9589242746631385],\n",
       " [{'something': 0.8414709848078965,\n",
       "   'else': [0.9092974268256817, 0.1411200080598672]}]]"
      ]
     },
     "execution_count": 7,
     "metadata": {},
     "output_type": "execute_result"
    }
   ],
   "source": [
    "# Here's a little more detail on the above:\n",
    "ak.tolist(np.sin(akarray))"
   ]
  },
  {
   "cell_type": "markdown",
   "metadata": {},
   "source": [
    "Like NumPy (as well as [Apache Arrow](https://arrow.apache.org/) and [XND](https://xnd.io/)), Awkward Array operates on columnar arrays and prefers _O(1)_ views, rather than _O(n)_ computations (where _n_ is the number of elements in the array) wherever possible."
   ]
  },
  {
   "cell_type": "code",
   "execution_count": 8,
   "metadata": {},
   "outputs": [
    {
     "data": {
      "text/plain": [
       "<ListOffsetArray64>\n",
       "    <offsets><Index64 i=\"[0 3 3 6 7]\" offset=\"0\" at=\"0x55e744c23530\"/></offsets>\n",
       "    <content><IndexedOptionArray64>\n",
       "        <index><Index64 i=\"[0 1 2 3 -1 4 5]\" offset=\"0\" at=\"0x55e744c73710\"/></index>\n",
       "        <content><UnionArray8_64>\n",
       "            <content index=\"0\">\n",
       "                <NumpyArray format=\"l\" shape=\"5\" data=\"1 2 3 4 5\" at=\"0x55e744c71700\"/>\n",
       "            </content>\n",
       "            <content index=\"1\">\n",
       "                <RecordArray>\n",
       "                    <field index=\"0\" key=\"something\">\n",
       "                        <NumpyArray format=\"l\" shape=\"1\" data=\"1\" at=\"0x55e744c77730\"/>\n",
       "                    </field>\n",
       "                    <field index=\"1\" key=\"else\">\n",
       "                        <ListOffsetArray64>\n",
       "                            <offsets><Index64 i=\"[0 2]\" offset=\"0\" at=\"0x55e744c79740\"/></offsets>\n",
       "                            <content><NumpyArray format=\"l\" shape=\"2\" data=\"2 3\" at=\"0x55e744c7b750\"/></content>\n",
       "                        </ListOffsetArray64>\n",
       "                    </field>\n",
       "                </RecordArray>\n",
       "            </content>\n",
       "        </UnionArray8_64></content>\n",
       "    </IndexedOptionArray64></content>\n",
       "</ListOffsetArray64>"
      ]
     },
     "execution_count": 8,
     "metadata": {},
     "output_type": "execute_result"
    }
   ],
   "source": [
    "# Columnar structure of the above array\n",
    "akarray.layout"
   ]
  },
  {
   "cell_type": "markdown",
   "metadata": {},
   "source": [
    "A major goal of this project is to use existing standards wherever possible. The columnar layout above is expressed in XML simply because that's a readable, standard way to express nesting (and generalizes from Python's convention of representing objects in `<angle brackets>`).\n",
    "\n",
    "High-level data types are expressed in [Datashape](https://datashape.readthedocs.io/en/latest/) notation:"
   ]
  },
  {
   "cell_type": "code",
   "execution_count": 9,
   "metadata": {},
   "outputs": [
    {
     "data": {
      "text/plain": [
       "4 * var * ?union[int64, {\"something\": int64, \"else\": var * int64}]"
      ]
     },
     "execution_count": 9,
     "metadata": {},
     "output_type": "execute_result"
    }
   ],
   "source": [
    "ak.typeof(akarray)"
   ]
  },
  {
   "cell_type": "markdown",
   "metadata": {},
   "source": [
    "with [extensions where necessary](https://github.com/blaze/datashape/issues/237). Similarly, these arrays will be portable to and from Apache Arrow (and other formats, if requested). The idea is that Awkward Array provides **manipulation** capabilities, not **serialization** or **transport**."
   ]
  },
  {
   "cell_type": "markdown",
   "metadata": {},
   "source": [
    "### 2.2 Relevance for Numba\n",
    "\n",
    "Numba, as you know, provides **computation** capabilities in a way that complements NumPy. Whereas NumPy requires array-at-a-time operations for performance, Numba enables imperative, pure Python code to have equal and often exceeding performance.\n",
    "\n",
    "The analogy with Awkward is one-to-one:\n",
    "\n",
    "|   | without Numba | with Numba |\n",
    "|:-:|:-------------:|:----------:|\n",
    "| **with NumPy** | array-at-a-time processing on numbers | general code on NumPy arrays and Python objects |\n",
    "| **with Awkward** | array-at-a-time processing on data structures | general code on Awkward data structures |\n",
    "\n",
    "The Awkward Array library includes Numba extensions with near feature parity: most operations that run outside of JIT-compiled functions run inside them as well."
   ]
  },
  {
   "cell_type": "code",
   "execution_count": 10,
   "metadata": {},
   "outputs": [
    {
     "data": {
      "text/plain": [
       "array([103.3, 200. , 303.3])"
      ]
     },
     "execution_count": 10,
     "metadata": {},
     "output_type": "execute_result"
    }
   ],
   "source": [
    "import numba as nb\n",
    "\n",
    "@nb.jit(nopython=True)\n",
    "def run(array):\n",
    "    out = np.empty(len(array), np.float64)\n",
    "    for i in range(len(array)):\n",
    "        out[i] = array[i][\"x\"]\n",
    "        for y in array[i][\"y\"]:\n",
    "            out[i] += y\n",
    "    return out\n",
    "\n",
    "akarray = ak.Array([{\"x\": 100, \"y\": [1.1, 2.2]}, {\"x\": 200, \"y\": []}, {\"x\": 300, \"y\": [3.3]}])\n",
    "run(akarray.layout)"
   ]
  },
  {
   "cell_type": "markdown",
   "metadata": {},
   "source": [
    "Although Numba and take and return builtin Python objects (e.g. tuples, lists, dicts) and can define extensions for class instances with `@jitclass`, these objects need to be boxed and unboxed, which can be a bottleneck.\n",
    "\n",
    "Data in an Awkward Array are columnar, and therefore boxing and unboxing is limited to the depth of the columnar layout, rather than the number of elements in the array. In this example, 4 nodes get unboxed, but there can be a million array elements."
   ]
  },
  {
   "cell_type": "code",
   "execution_count": 11,
   "metadata": {},
   "outputs": [
    {
     "data": {
      "text/plain": [
       "<RecordArray>\n",
       "    <field index=\"0\" key=\"x\">\n",
       "        <NumpyArray format=\"l\" shape=\"3\" data=\"100 200 300\" at=\"0x55e744ca7640\"/>\n",
       "    </field>\n",
       "    <field index=\"1\" key=\"y\">\n",
       "        <ListOffsetArray64>\n",
       "            <offsets><Index64 i=\"[0 2 2 3]\" offset=\"0\" at=\"0x55e744ca9650\"/></offsets>\n",
       "            <content><NumpyArray format=\"d\" shape=\"3\" data=\"1.1 2.2 3.3\" at=\"0x55e744cab660\"/></content>\n",
       "        </ListOffsetArray64>\n",
       "    </field>\n",
       "</RecordArray>"
      ]
     },
     "execution_count": 11,
     "metadata": {},
     "output_type": "execute_result"
    }
   ],
   "source": [
    "akarray.layout"
   ]
  },
  {
   "cell_type": "markdown",
   "metadata": {},
   "source": [
    "<img src=\"img/example-hierarchy.png\" style=\"width: 800px;\">"
   ]
  },
  {
   "cell_type": "code",
   "execution_count": 12,
   "metadata": {},
   "outputs": [
    {
     "name": "stdout",
     "output_type": "stream",
     "text": [
      "[{x: 1100, y: [4.4, 0, 2.2]}, {x: 100, y: [, ... {x: 200, y: [3.3, 1.1, 2.2, 1.1]}]\n",
      "\n",
      "23.7 s ± 0 ns per loop (mean ± std. dev. of 1 run, 1 loop each)\n"
     ]
    }
   ],
   "source": [
    "%%timeit -n 1 -r 1\n",
    "\n",
    "builder = ak.FillableArray()\n",
    "\n",
    "for i in range(1000000):\n",
    "    builder.beginrecord()\n",
    "    builder.field(\"x\")\n",
    "    builder.integer(np.random.poisson(3) * 100)\n",
    "    builder.field(\"y\")\n",
    "    builder.beginlist()\n",
    "    for j in range(np.random.poisson(3)):\n",
    "        builder.real(np.random.randint(5) * 1.1)\n",
    "    builder.endlist()\n",
    "    builder.endrecord()\n",
    "\n",
    "akarray = builder.snapshot()\n",
    "print(akarray, end=\"\\n\\n\")"
   ]
  },
  {
   "cell_type": "code",
   "execution_count": 13,
   "metadata": {},
   "outputs": [
    {
     "data": {
      "text/plain": [
       "array([103.3, 200. , 303.3])"
      ]
     },
     "execution_count": 13,
     "metadata": {},
     "output_type": "execute_result"
    }
   ],
   "source": [
    "run(akarray.layout)"
   ]
  },
  {
   "cell_type": "markdown",
   "metadata": {},
   "source": [
    "Even dynamically typed data like this `FillableArray` can be used in Numba, with a dramatic speedup (50×)."
   ]
  },
  {
   "cell_type": "code",
   "execution_count": 14,
   "metadata": {},
   "outputs": [
    {
     "name": "stdout",
     "output_type": "stream",
     "text": [
      "[{x: 100, y: [4.4, 2.2, 3.3, 0]}, {x: 200, y: [, ... y: [3.3]}, {x: 300, y: [0]}]\n",
      "\n",
      "604 ms ± 0 ns per loop (mean ± std. dev. of 1 run, 1 loop each)\n"
     ]
    }
   ],
   "source": [
    "%%timeit -n 1 -r 1\n",
    "\n",
    "@nb.jit(nopython=True)\n",
    "def build(builder):\n",
    "    for i in range(1000000):\n",
    "        builder.beginrecord()\n",
    "        builder.field(\"x\")\n",
    "        builder.integer(np.random.poisson(3) * 100)\n",
    "        builder.field(\"y\")\n",
    "        builder.beginlist()\n",
    "        for j in range(np.random.poisson(3)):\n",
    "            builder.real(np.random.randint(5) * 1.1)\n",
    "        builder.endlist()\n",
    "        builder.endrecord()\n",
    "    return builder\n",
    "\n",
    "print(ak.Array(build(ak.layout.FillableArray()).snapshot()), end=\"\\n\\n\")"
   ]
  },
  {
   "cell_type": "markdown",
   "metadata": {},
   "source": [
    "The equivalent in Numba is about as fast, though it has to box _O(million)_ lists and numbers."
   ]
  },
  {
   "cell_type": "code",
   "execution_count": 15,
   "metadata": {},
   "outputs": [
    {
     "name": "stdout",
     "output_type": "stream",
     "text": [
      "[500, 400, 200, 200, 300]\n",
      "[[2.2, 3.3000000000000003], [3.3000000000000003, 3.3000000000000003], [4.4, 0.0, 4.4, 3.3000000000000003], [4.4, 1.1], [2.2, 4.4, 0.0, 0.0]]\n",
      "\n",
      "704 ms ± 0 ns per loop (mean ± std. dev. of 1 run, 1 loop each)\n"
     ]
    }
   ],
   "source": [
    "%%timeit -n 1 -r 1\n",
    "\n",
    "@nb.jit(nopython=True)\n",
    "def build():\n",
    "    outx = []\n",
    "    outy = []\n",
    "    for i in range(1000000):\n",
    "        outx.append(np.random.poisson(3) * 100)\n",
    "        tmp = []\n",
    "        for j in range(np.random.poisson(3)):\n",
    "            tmp.append(np.random.randint(5) * 1.1)\n",
    "        outy.append(tmp)\n",
    "    return (outx, outy)\n",
    "\n",
    "outx, outy = build()\n",
    "print(outx[:5])\n",
    "print(outy[:5], end=\"\\n\\n\")"
   ]
  },
  {
   "cell_type": "markdown",
   "metadata": {},
   "source": [
    "### 2.3 Why particle physics?\n",
    "\n",
    "In our field, big datasets and nested data structures are ubiquitous. The most generic analysis is an attempt to associate undiffentiated final-state particle trajectories to a hypothetical, hierarchical decay chain, such as this one:\n",
    "\n",
    "<img src=\"img/ttbarHDecayDiagram_expanded.png\" style=\"width: 800px;\">\n",
    "\n",
    "for billions of collision events."
   ]
  },
  {
   "cell_type": "markdown",
   "metadata": {},
   "source": [
    "Once the match has been made, the labeled particles could be represented by a rectilinear table, but the problem of looping through candidate combinations and uncertainties associated with pruning candidates is _the whole analysis, not a preprocessing step_. For most of the analysis, we are working with unequal-sized collections of objects (momentum vector components, energy, and other variables derived from detector measurements)."
   ]
  },
  {
   "cell_type": "markdown",
   "metadata": {},
   "source": [
    "Our field has always had this problem, before Fortran had objects (or even a \"block IF\" statement), specialized physics software added these features. This is an exerpt from [Initiation to Hydra (1974)](https://cds.cern.ch/record/864527) by R.K. Böck, describing the concept of a non-numerical data structure.\n",
    "\n",
    "<img src=\"img/hydra-2.png\" style=\"width: 500px;\">"
   ]
  },
  {
   "cell_type": "markdown",
   "metadata": {},
   "source": [
    "Since the 90's, object-oriented programming in C++ has been good for our field: it's natural to think of each particle as a C++ object with statically typed attributes, collected in variable-length `std::vector<Particle>`s.\n",
    "\n",
    "**However,**\n",
    "\n",
    "   * **we want to use Python:** last year marked a crossover threshold in which more physicist's GitHub repositories were [written in Python than C++](img/github-fraction.png),\n",
    "   * **but we still have huge datasets:** 10's of TB after considerable reduction (from the original 100's of PB)."
   ]
  },
  {
   "cell_type": "markdown",
   "metadata": {},
   "source": [
    "NumPy would be good for our analysis scripts if only it had more data types than rectilinear arrays of numbers. Pandas's [MultiIndex](https://pandas.pydata.org/pandas-docs/stable/user_guide/advanced.html) is good for a single ragged dimension, but doesn't come close to what we need. Numba is excellent, but we need to get large datasets in and out efficiently. (Our [file format is already columnar](https://github.com/scikit-hep/uproot#readme).)\n",
    "\n",
    "Awkward Array was introduced to particle physicists in September 2019 and [is very popular in our community](../img/awkward-0-popularity.png). Emboldened by this response, I'm reimplementing it in a way that will make Numba, C++, and GPU integration easier to maintain."
   ]
  },
  {
   "cell_type": "markdown",
   "metadata": {},
   "source": [
    "### 2.4 Why not particle physics?\n",
    "\n",
    "There's nothing domain-specific about data structures. The kinds of operations we want to do are [logical extensions of NumPy](https://github.com/jpivarski/2019-07-29-dpf-python/blob/master/03-columnar-data-analysis.ipynb) and can also be expressed as [per-array-item SQL](https://github.com/lgray/AwkwardQL#readme). Additionally wanting a general programming environment in Numba also has nothing, specifically, to do with particle physics.\n",
    "\n",
    "There must be many other applications."
   ]
  },
  {
   "cell_type": "code",
   "execution_count": 75,
   "metadata": {},
   "outputs": [
    {
     "name": "stdout",
     "output_type": "stream",
     "text": [
      "--2020-01-21 11:58:23--  https://datahub.io/core/geo-countries/r/countries.geojson\n",
      "Resolving datahub.io (datahub.io)... 104.24.113.103, 104.24.112.103, 2606:4700:3035::6818:7167, ...\n",
      "Connecting to datahub.io (datahub.io)|104.24.113.103|:443... connected.\n",
      "HTTP request sent, awaiting response... 302 Found\n",
      "Location: https://pkgstore.datahub.io/core/geo-countries/countries/archive/23f420f929e0e09c39d916b8aaa166fb/countries.geojson [following]\n",
      "--2020-01-21 11:58:25--  https://pkgstore.datahub.io/core/geo-countries/countries/archive/23f420f929e0e09c39d916b8aaa166fb/countries.geojson\n",
      "Resolving pkgstore.datahub.io (pkgstore.datahub.io)... 104.24.112.103, 104.24.113.103, 2606:4700:3035::6818:7167, ...\n",
      "Connecting to pkgstore.datahub.io (pkgstore.datahub.io)|104.24.112.103|:443... connected.\n",
      "HTTP request sent, awaiting response... 200 OK\n",
      "Length: 24090863 (23M) [application/octet-stream]\n",
      "Saving to: ‘countries.geojson’\n",
      "\n",
      "countries.geojson   100%[===================>]  22.97M  9.35MB/s    in 2.5s    \n",
      "\n",
      "2020-01-21 11:58:27 (9.35 MB/s) - ‘countries.geojson’ saved [24090863/24090863]\n",
      "\n"
     ]
    }
   ],
   "source": [
    "!wget https://datahub.io/core/geo-countries/r/countries.geojson"
   ]
  },
  {
   "cell_type": "code",
   "execution_count": 16,
   "metadata": {},
   "outputs": [
    {
     "data": {
      "text/plain": [
       "<Array [... [30, -15.6], [30, -15.6]]]}}]}]] type='1 * var * {\"type\": string, \"f...'>"
      ]
     },
     "execution_count": 16,
     "metadata": {},
     "output_type": "execute_result"
    }
   ],
   "source": [
    "countries = ak.Array(\"countries.geojson\")\n",
    "countries"
   ]
  },
  {
   "cell_type": "code",
   "execution_count": 17,
   "metadata": {},
   "outputs": [
    {
     "data": {
      "text/plain": [
       "1 * var * {\"type\": string, \"features\": var * {\"type\": string, \"properties\": {\"ADMIN\": string, \"ISO_A3\": string}, \"geometry\": {\"type\": string, \"coordinates\": var * var * var * union[float64, var * float64]}}}"
      ]
     },
     "execution_count": 17,
     "metadata": {},
     "output_type": "execute_result"
    }
   ],
   "source": [
    "ak.typeof(countries)"
   ]
  },
  {
   "cell_type": "code",
   "execution_count": 18,
   "metadata": {},
   "outputs": [
    {
     "data": {
      "text/plain": [
       "<Array [... 29.8, 29.8, 29.9, 30, 30]]]]] type='1 * var * var * var * var * unio...'>"
      ]
     },
     "execution_count": 18,
     "metadata": {},
     "output_type": "execute_result"
    }
   ],
   "source": [
    "# longitude coordinates\n",
    "countries[\"features\", \"geometry\", \"coordinates\", :, :, :, :, :, 0]"
   ]
  },
  {
   "cell_type": "code",
   "execution_count": 19,
   "metadata": {},
   "outputs": [
    {
     "data": {
      "text/plain": [
       "<Array [... -15.6, -15.6, -15.6, -15.6]]]]] type='1 * var * var * var * var * un...'>"
      ]
     },
     "execution_count": 19,
     "metadata": {},
     "output_type": "execute_result"
    }
   ],
   "source": [
    "# latitude coordinates\n",
    "countries[\"features\", \"geometry\", \"coordinates\", :, :, :, :, :, 1]"
   ]
  },
  {
   "cell_type": "markdown",
   "metadata": {},
   "source": [
    "The fact that data analysts have managed so far with table-oriented tools like Pandas and SQL doesn't mean that they couldn't get more done with irregular data structures, particularly if they can write arbitrary algorithms on them with Numba."
   ]
  },
  {
   "cell_type": "markdown",
   "metadata": {},
   "source": [
    "## 3. Architecture of Awkward 1.0\n",
    "\n",
    "HERE\n",
    "\n",
    "<table><tr style=\"background: white\"><td style=\"width: 50%;\">\n",
    "<p>\n",
    "    HERE\n",
    "</p>\n",
    "</td>\n",
    "<td style=\"width: 50%;\"><img src=\"../img/awkward-1-0-layers.png\"></td>\n",
    "</tr></table>"
   ]
  }
 ],
 "metadata": {
  "kernelspec": {
   "display_name": "Python 3",
   "language": "python",
   "name": "python3"
  },
  "language_info": {
   "codemirror_mode": {
    "name": "ipython",
    "version": 3
   },
   "file_extension": ".py",
   "mimetype": "text/x-python",
   "name": "python",
   "nbconvert_exporter": "python",
   "pygments_lexer": "ipython3",
   "version": "3.7.6"
  }
 },
 "nbformat": 4,
 "nbformat_minor": 4
}
