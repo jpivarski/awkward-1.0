{
 "cells": [
  {
   "cell_type": "markdown",
   "metadata": {},
   "source": [
    "# 2019-12-20-coffea-demo\n",
    "\n",
    "This demo of the new Awkward Array was presented on December 20, 2019, before the final 1.0 version was released. Some interfaces may have changed. To run this notebook, make sure you have version 0.1.33 ([GitHub](https://github.com/scikit-hep/awkward-1.0/releases/tag/0.1.33), [pip](https://pypi.org/project/awkward1/0.1.33/)) by installing\n",
    "\n",
    "```bash\n",
    "pip install 'awkward1==0.1.33'\n",
    "```\n",
    "\n",
    "The basic concepts of Awkward arrays are presented on the [old Awkward README](https://github.com/scikit-hep/awkward-array/tree/0.12.17#readme) and the motivation for a 1.0 rewrite are presented on the [new Awkward README](https://github.com/scikit-hep/awkward-1.0/tree/0.1.32#readme)."
   ]
  },
  {
   "cell_type": "markdown",
   "metadata": {},
   "source": [
    "## High-level array class\n",
    "\n",
    "The biggest user-facing change is that, instead of mixing NumPy arrays and `JaggedArray` objects, the new Awkward has a single `Array` class."
   ]
  },
  {
   "cell_type": "code",
   "execution_count": 1,
   "metadata": {},
   "outputs": [],
   "source": [
    "# FIXME: remove this!\n",
    "import sys\n",
    "sys.path.insert(0, \"/home/jpivarski/irishep/awkward-1.0\")\n",
    "sys.path.insert(0, \"/home/pivarski/irishep/awkward-1.0\")"
   ]
  },
  {
   "cell_type": "code",
   "execution_count": 2,
   "metadata": {},
   "outputs": [
    {
     "data": {
      "text/plain": [
       "<Array [[1.1, 2.2, 3.3], [], [4.4, 5.5]] type='3 * var * float64'>"
      ]
     },
     "execution_count": 2,
     "metadata": {},
     "output_type": "execute_result"
    }
   ],
   "source": [
    "import numpy as np\n",
    "import awkward1 as ak\n",
    "\n",
    "array1 = ak.Array([[1.1, 2.2, 3.3], [], [4.4, 5.5]])\n",
    "array1"
   ]
  },
  {
   "cell_type": "code",
   "execution_count": 3,
   "metadata": {},
   "outputs": [
    {
     "data": {
      "text/plain": [
       "<Array [{x: 0, y: []}, ... y: [1.1, 2.2]}] type='3 * {\"x\": int64, \"y\": var * flo...'>"
      ]
     },
     "execution_count": 3,
     "metadata": {},
     "output_type": "execute_result"
    }
   ],
   "source": [
    "array2 = ak.Array([{\"x\": 0, \"y\": []}, {\"x\": 1, \"y\": [1.1]}, {\"x\": 2, \"y\": [1.1, 2.2]}])\n",
    "array2"
   ]
  },
  {
   "cell_type": "markdown",
   "metadata": {},
   "source": [
    "The same `Array` class is used for all data structures, such as the array of lists in `array1` and the array of records in `array2`.\n",
    "\n",
    "There won't be any user-level functions that apply to some data types and not others. The result of an operation is likely type-dependent, but its accessibility is not. (At this time, the only existing operations are conversions and descriptions.)\n",
    "\n",
    "(Incidentally, the width of that string representation is exactly large enough to fit into GitHub and StackOverflow text boxes without scrolling.)"
   ]
  },
  {
   "cell_type": "code",
   "execution_count": 4,
   "metadata": {},
   "outputs": [
    {
     "data": {
      "text/plain": [
       "[[1.1, 2.2, 3.3], [], [4.4, 5.5]]"
      ]
     },
     "execution_count": 4,
     "metadata": {},
     "output_type": "execute_result"
    }
   ],
   "source": [
    "ak.tolist(array1)"
   ]
  },
  {
   "cell_type": "code",
   "execution_count": 5,
   "metadata": {},
   "outputs": [
    {
     "data": {
      "text/plain": [
       "'[[1.1,2.2,3.3],[],[4.4,5.5]]'"
      ]
     },
     "execution_count": 5,
     "metadata": {},
     "output_type": "execute_result"
    }
   ],
   "source": [
    "ak.tojson(array1)"
   ]
  },
  {
   "cell_type": "code",
   "execution_count": 6,
   "metadata": {},
   "outputs": [
    {
     "data": {
      "text/plain": [
       "[{'x': 0, 'y': []}, {'x': 1, 'y': [1.1]}, {'x': 2, 'y': [1.1, 2.2]}]"
      ]
     },
     "execution_count": 6,
     "metadata": {},
     "output_type": "execute_result"
    }
   ],
   "source": [
    "ak.tolist(array2)"
   ]
  },
  {
   "cell_type": "code",
   "execution_count": 7,
   "metadata": {},
   "outputs": [
    {
     "data": {
      "text/plain": [
       "'[{\"x\":0,\"y\":[]},{\"x\":1,\"y\":[1.1]},{\"x\":2,\"y\":[1.1,2.2]}]'"
      ]
     },
     "execution_count": 7,
     "metadata": {},
     "output_type": "execute_result"
    }
   ],
   "source": [
    "ak.tojson(array2)"
   ]
  },
  {
   "cell_type": "code",
   "execution_count": 8,
   "metadata": {},
   "outputs": [
    {
     "data": {
      "text/plain": [
       "3 * var * float64"
      ]
     },
     "execution_count": 8,
     "metadata": {},
     "output_type": "execute_result"
    }
   ],
   "source": [
    "ak.typeof(array1)"
   ]
  },
  {
   "cell_type": "code",
   "execution_count": 9,
   "metadata": {},
   "outputs": [
    {
     "data": {
      "text/plain": [
       "3 * {\"x\": int64, \"y\": var * float64}"
      ]
     },
     "execution_count": 9,
     "metadata": {},
     "output_type": "execute_result"
    }
   ],
   "source": [
    "ak.typeof(array2)"
   ]
  },
  {
   "cell_type": "markdown",
   "metadata": {},
   "source": [
    "(Data types are described using the [datashape language](https://datashape.readthedocs.io/en/latest/). Some Awkward features are [not expressible](https://github.com/blaze/datashape/issues/237) in the current datashape specification, so they're expressed in an extension of the language using the same style of syntax.)"
   ]
  },
  {
   "cell_type": "markdown",
   "metadata": {},
   "source": [
    "The next major change in interface is that operations on arrays, such as `ak.tolist` and `ak.typeof` above, are free-standing functions, rather than class methods. This is because it's desirable to put domain specific (e.g. physics) methods on the array object itself; using free-standing functions for array manipulations avoids conflicts. For example,\n",
    "\n",
    "   * `ak.cross(array1, array2)` is an array-manipulation function (the cross-join of `array1` and `array2`)\n",
    "   * `array1.cross(array2)` could be a user-defined method, such as the 3D cross-product, if `array1` and `array2` represent (arrays of) 3D vectors.\n",
    "   * `array1.somefield` is a shortcut for `array1[\"somefield\"]`."
   ]
  },
  {
   "cell_type": "markdown",
   "metadata": {},
   "source": [
    "## Low-level array classes\n",
    "\n",
    "The old `JaggedArray` and `Table` are still available, but you have to ask for them explicitly with `layout`. They're not \"private\" or \"internal implementations\" (there's no underscore in `layout`): they're public for frameworks like Coffea but hidden from data analysts.\n",
    "\n",
    "As such, their string representations have more low-level detail: the contents of indexes, rather than what they mean as high-level types. (The XML formatting is just an elaboration on Python's angle-bracket convention for `repr` and the fact that we need to denote nesting.)"
   ]
  },
  {
   "cell_type": "code",
   "execution_count": 10,
   "metadata": {},
   "outputs": [
    {
     "data": {
      "text/plain": [
       "<ListOffsetArray64>\n",
       "    <type>var * float64</type>\n",
       "    <offsets><Index64 i=\"[0 3 3 5]\" offset=\"0\" at=\"0x5565c67760d0\"/></offsets>\n",
       "    <content><NumpyArray format=\"d\" shape=\"5\" data=\"1.1 2.2 3.3 4.4 5.5\" at=\"0x5565c67780e0\">\n",
       "        <type>float64</type>\n",
       "    </NumpyArray></content>\n",
       "</ListOffsetArray64>"
      ]
     },
     "execution_count": 10,
     "metadata": {},
     "output_type": "execute_result"
    }
   ],
   "source": [
    "array1.layout"
   ]
  },
  {
   "cell_type": "code",
   "execution_count": 11,
   "metadata": {},
   "outputs": [
    {
     "data": {
      "text/plain": [
       "<RecordArray>\n",
       "    <type>{\"x\": int64, \"y\": var * float64}</type>\n",
       "    <field index=\"0\" key=\"x\">\n",
       "        <NumpyArray format=\"l\" shape=\"3\" data=\"0 1 2\" at=\"0x5565c677f040\">\n",
       "            <type>int64</type>\n",
       "        </NumpyArray>\n",
       "    </field>\n",
       "    <field index=\"1\" key=\"y\">\n",
       "        <ListOffsetArray64>\n",
       "            <type>var * float64</type>\n",
       "            <offsets><Index64 i=\"[0 0 1 3]\" offset=\"0\" at=\"0x5565c6781050\"/></offsets>\n",
       "            <content><NumpyArray format=\"d\" shape=\"3\" data=\"1.1 1.1 2.2\" at=\"0x5565c6783060\">\n",
       "                <type>float64</type>\n",
       "            </NumpyArray></content>\n",
       "        </ListOffsetArray64>\n",
       "    </field>\n",
       "</RecordArray>"
      ]
     },
     "execution_count": 11,
     "metadata": {},
     "output_type": "execute_result"
    }
   ],
   "source": [
    "array2.layout"
   ]
  },
  {
   "cell_type": "markdown",
   "metadata": {},
   "source": [
    "These classes are defined in C++ and wrapped by pybind11. The `awkward1.Array` class is pure Python. Many of the same operations work for layout classes, though less attention has been paid to its interface."
   ]
  },
  {
   "cell_type": "code",
   "execution_count": 12,
   "metadata": {},
   "outputs": [
    {
     "data": {
      "text/plain": [
       "3 * var * float64"
      ]
     },
     "execution_count": 12,
     "metadata": {},
     "output_type": "execute_result"
    }
   ],
   "source": [
    "ak.typeof(array1)"
   ]
  },
  {
   "cell_type": "code",
   "execution_count": 13,
   "metadata": {},
   "outputs": [
    {
     "data": {
      "text/plain": [
       "var * float64"
      ]
     },
     "execution_count": 13,
     "metadata": {},
     "output_type": "execute_result"
    }
   ],
   "source": [
    "ak.typeof(array1.layout)"
   ]
  },
  {
   "cell_type": "code",
   "execution_count": 14,
   "metadata": {},
   "outputs": [
    {
     "data": {
      "text/plain": [
       "'[[1.1,2.2,3.3],[],[4.4,5.5]]'"
      ]
     },
     "execution_count": 14,
     "metadata": {},
     "output_type": "execute_result"
    }
   ],
   "source": [
    "ak.tojson(array1)"
   ]
  },
  {
   "cell_type": "code",
   "execution_count": 15,
   "metadata": {},
   "outputs": [
    {
     "data": {
      "text/plain": [
       "'[[1.1,2.2,3.3],[],[4.4,5.5]]'"
      ]
     },
     "execution_count": 15,
     "metadata": {},
     "output_type": "execute_result"
    }
   ],
   "source": [
    "ak.tojson(array1.layout)"
   ]
  },
  {
   "cell_type": "code",
   "execution_count": 16,
   "metadata": {},
   "outputs": [
    {
     "data": {
      "text/plain": [
       "'[[1.1,2.2,3.3],[],[4.4,5.5]]'"
      ]
     },
     "execution_count": 16,
     "metadata": {},
     "output_type": "execute_result"
    }
   ],
   "source": [
    "array1.layout.tojson()"
   ]
  },
  {
   "cell_type": "markdown",
   "metadata": {},
   "source": [
    "## Behavioral mix-ins\n",
    "\n",
    "The primary use of Awkward arrays so far has been to represent arrays or jagged arrays of physics objects with physics methods on the array objects themselves. In Awkward 0.x, this was implemented with Python multiple inheritance, but that's a Python-only solution that can't be passed into C++ (and it was brittle: easy for an array component to lose its methods).\n",
    "\n",
    "Now behavioral mix-ins are a \"first class citizen,\" built into Awkward 1.0's type system."
   ]
  },
  {
   "cell_type": "code",
   "execution_count": 17,
   "metadata": {},
   "outputs": [],
   "source": [
    "class PointClass(ak.Record):\n",
    "    def __repr__(self):\n",
    "        return \"<Point({}, {})>\".format(self[\"x\"], self[\"y\"])\n",
    "    \n",
    "    def mag(self):\n",
    "        return abs(np.sqrt(self[\"x\"]**2 + self[\"y\"]**2))\n",
    "\n",
    "ak.namespace[\"Point\"] = PointClass"
   ]
  },
  {
   "cell_type": "code",
   "execution_count": 18,
   "metadata": {},
   "outputs": [
    {
     "data": {
      "text/plain": [
       "<Array [{x: 1, y: 1.1}, ... {x: 3, y: 3.3}] type='3 * {\"x\": int64, \"y\": float64}'>"
      ]
     },
     "execution_count": 18,
     "metadata": {},
     "output_type": "execute_result"
    }
   ],
   "source": [
    "array3 = ak.Array([{\"x\": 1, \"y\": 1.1}, {\"x\": 2, \"y\": 2.2}, {\"x\": 3, \"y\": 3.3}])\n",
    "array3"
   ]
  },
  {
   "cell_type": "code",
   "execution_count": 19,
   "metadata": {},
   "outputs": [
    {
     "data": {
      "text/plain": [
       "{\"x\": int64, \"y\": float64}"
      ]
     },
     "execution_count": 19,
     "metadata": {},
     "output_type": "execute_result"
    }
   ],
   "source": [
    "array3.layout.type"
   ]
  },
  {
   "cell_type": "markdown",
   "metadata": {},
   "source": [
    "Types can have arbitrary parameters, which modify their meaning. These types are JSON-encoded and passed through C++ or wherever the arrays get sent."
   ]
  },
  {
   "cell_type": "code",
   "execution_count": 20,
   "metadata": {},
   "outputs": [
    {
     "data": {
      "text/plain": [
       "struct[[\"x\", \"y\"], [int64, float64], parameters={\"__class__\": \"Point\"}]"
      ]
     },
     "execution_count": 20,
     "metadata": {},
     "output_type": "execute_result"
    }
   ],
   "source": [
    "pointtype = array3.layout.type\n",
    "pointtype[\"__class__\"] = \"Point\"\n",
    "pointtype"
   ]
  },
  {
   "cell_type": "code",
   "execution_count": 21,
   "metadata": {},
   "outputs": [
    {
     "data": {
      "text/plain": [
       "PointType[int64, float64]"
      ]
     },
     "execution_count": 21,
     "metadata": {},
     "output_type": "execute_result"
    }
   ],
   "source": [
    "pointtype[\"__str__\"] = \"PointType[{}, {}]\".format(pointtype.field(\"x\"), pointtype.field(\"y\"))\n",
    "pointtype"
   ]
  },
  {
   "cell_type": "code",
   "execution_count": 22,
   "metadata": {},
   "outputs": [
    {
     "data": {
      "text/plain": [
       "<Array [<Point(1, 1.1)>, ... <Point(3, 3.3)>] type='3 * PointType[int64, float64]'>"
      ]
     },
     "execution_count": 22,
     "metadata": {},
     "output_type": "execute_result"
    }
   ],
   "source": [
    "# There will be a better interface for assigning types...\n",
    "array4 = ak.Array(array3.layout, type=ak.ArrayType(pointtype, len(array3.layout)))\n",
    "array4"
   ]
  },
  {
   "cell_type": "code",
   "execution_count": 23,
   "metadata": {},
   "outputs": [
    {
     "data": {
      "text/plain": [
       "[1.4866068747318506, 2.973213749463701, 4.459820624195552]"
      ]
     },
     "execution_count": 23,
     "metadata": {},
     "output_type": "execute_result"
    }
   ],
   "source": [
    "[x.mag() for x in array4]"
   ]
  },
  {
   "cell_type": "markdown",
   "metadata": {},
   "source": [
    "The elements of this array are `PointClass` instances because the `__class__` parameter is `\"Point\"`, a name that is recognized in Awkward's class namespace."
   ]
  },
  {
   "cell_type": "code",
   "execution_count": 24,
   "metadata": {},
   "outputs": [
    {
     "data": {
      "text/plain": [
       "{'char': awkward1.behavior.string.CharBehavior,\n",
       " 'string': awkward1.behavior.string.StringBehavior,\n",
       " 'Point': __main__.PointClass}"
      ]
     },
     "execution_count": 24,
     "metadata": {},
     "output_type": "execute_result"
    }
   ],
   "source": [
    "ak.namespace"
   ]
  },
  {
   "cell_type": "markdown",
   "metadata": {},
   "source": [
    "As you can see, arrays of characters and variable-length strings are implemented as mix-ins. Apart from this type annotation, a string is just a jagged array of 8-bit integers."
   ]
  },
  {
   "cell_type": "code",
   "execution_count": 28,
   "metadata": {},
   "outputs": [
    {
     "data": {
      "text/plain": [
       "<Array ['Daisy', 'Daisy', ... 'answer', 'do.'] type='7 * string'>"
      ]
     },
     "execution_count": 28,
     "metadata": {},
     "output_type": "execute_result"
    }
   ],
   "source": [
    "array5 = ak.Array([\"Daisy\", \"Daisy\", \"give\", \"me\", \"your\", \"answer\", \"do.\"])\n",
    "array5"
   ]
  },
  {
   "cell_type": "code",
   "execution_count": 30,
   "metadata": {},
   "outputs": [
    {
     "data": {
      "text/plain": [
       "<ListOffsetArray64>\n",
       "    <type>string</type>\n",
       "    <offsets><Index64 i=\"[0 5 10 14 16 20 26 29]\" offset=\"0\" at=\"0x5565c67a3b20\"/></offsets>\n",
       "    <content><NumpyArray format=\"B\" shape=\"29\" data=\"0x 44616973 79446169 73796769 76656d65 796f7572 616e7377 6572646f 2e\" at=\"0x5565c677e590\">\n",
       "        <type>utf8</type>\n",
       "    </NumpyArray></content>\n",
       "</ListOffsetArray64>"
      ]
     },
     "execution_count": 30,
     "metadata": {},
     "output_type": "execute_result"
    }
   ],
   "source": [
    "array5.layout"
   ]
  },
  {
   "cell_type": "code",
   "execution_count": 33,
   "metadata": {},
   "outputs": [
    {
     "data": {
      "text/plain": [
       "[[68, 97, 105, 115, 121],\n",
       " [68, 97, 105, 115, 121],\n",
       " [103, 105, 118, 101],\n",
       " [109, 101],\n",
       " [121, 111, 117, 114],\n",
       " [97, 110, 115, 119, 101, 114],\n",
       " [100, 111, 46]]"
      ]
     },
     "execution_count": 33,
     "metadata": {},
     "output_type": "execute_result"
    }
   ],
   "source": [
    "ak.tolist(array5.layout)"
   ]
  },
  {
   "cell_type": "code",
   "execution_count": 34,
   "metadata": {},
   "outputs": [
    {
     "data": {
      "text/plain": [
       "[[97, 105, 115, 121],\n",
       " [97, 105, 115, 121],\n",
       " [105, 118, 101],\n",
       " [101],\n",
       " [111, 117, 114],\n",
       " [110, 115, 119, 101, 114],\n",
       " [111, 46]]"
      ]
     },
     "execution_count": 34,
     "metadata": {},
     "output_type": "execute_result"
    }
   ],
   "source": [
    "ak.tolist(array5.layout[:, 1:])"
   ]
  },
  {
   "cell_type": "code",
   "execution_count": 29,
   "metadata": {},
   "outputs": [
    {
     "data": {
      "text/plain": [
       "<Array ['aisy', 'aisy', ... 'nswer', 'o.'] type='7 * string'>"
      ]
     },
     "execution_count": 29,
     "metadata": {},
     "output_type": "execute_result"
    }
   ],
   "source": [
    "array5[:, 1:]"
   ]
  },
  {
   "cell_type": "markdown",
   "metadata": {},
   "source": [
    "The string interpretation is _only_ applied to the high-level `Array` and _not_ to the layout classes. Thus,\n",
    "\n",
    "   * superclass-based mix-ins don't have to be captured and passed on through all operations,\n",
    "   * mix-ins can pass through C++ because they are only JSON-encoded type parameters, not a Python class,\n",
    "   * mix-in classes don't have to be dynamically generated (`PointClass` has a \"fixed address\" for pickling),\n",
    "   * the mechanism for array mix-ins (e.g. `string`) is the same as for producing objects (e.g. `PointClass`); there is no need to introduce an `ObjectArray`,\n",
    "   * unlike old Awkward's `ObjectArray`, these records remain Awkward data structures when instantiated."
   ]
  },
  {
   "cell_type": "code",
   "execution_count": 35,
   "metadata": {},
   "outputs": [
    {
     "data": {
      "text/plain": [
       "<Point(3, 3.3)>"
      ]
     },
     "execution_count": 35,
     "metadata": {},
     "output_type": "execute_result"
    }
   ],
   "source": [
    "array4[2]"
   ]
  },
  {
   "cell_type": "code",
   "execution_count": 36,
   "metadata": {},
   "outputs": [
    {
     "data": {
      "text/plain": [
       "<Record at=\"2\">\n",
       "    <RecordArray>\n",
       "        <type>PointType[int64, float64]</type>\n",
       "        <field index=\"0\" key=\"x\">\n",
       "            <NumpyArray format=\"l\" shape=\"3\" data=\"1 2 3\" at=\"0x5565c6796910\">\n",
       "                <type>int64</type>\n",
       "            </NumpyArray>\n",
       "        </field>\n",
       "        <field index=\"1\" key=\"y\">\n",
       "            <NumpyArray format=\"d\" shape=\"3\" data=\"1.1 2.2 3.3\" at=\"0x5565c6798920\">\n",
       "                <type>float64</type>\n",
       "            </NumpyArray>\n",
       "        </field>\n",
       "    </RecordArray>\n",
       "</Record>"
      ]
     },
     "execution_count": 36,
     "metadata": {},
     "output_type": "execute_result"
    }
   ],
   "source": [
    "array4[2].layout"
   ]
  },
  {
   "cell_type": "markdown",
   "metadata": {},
   "source": [
    "## Interaction with C++"
   ]
  },
  {
   "cell_type": "code",
   "execution_count": null,
   "metadata": {},
   "outputs": [],
   "source": []
  }
 ],
 "metadata": {
  "kernelspec": {
   "display_name": "Python 3",
   "language": "python",
   "name": "python3"
  },
  "language_info": {
   "codemirror_mode": {
    "name": "ipython",
    "version": 3
   },
   "file_extension": ".py",
   "mimetype": "text/x-python",
   "name": "python",
   "nbconvert_exporter": "python",
   "pygments_lexer": "ipython3",
   "version": "3.7.3"
  }
 },
 "nbformat": 4,
 "nbformat_minor": 4
}
