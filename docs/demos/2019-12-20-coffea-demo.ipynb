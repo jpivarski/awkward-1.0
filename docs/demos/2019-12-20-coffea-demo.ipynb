{
 "cells": [
  {
   "cell_type": "markdown",
   "metadata": {},
   "source": [
    "# 2019-12-20-coffea-demo\n",
    "\n",
    "This demo of the new Awkward Array was presented on December 20, 2019, before the final 1.0 version was released. Some interfaces may have changed. To run this notebook, make sure you have version 0.1.33 ([GitHub](https://github.com/scikit-hep/awkward-1.0/releases/tag/0.1.33), [pip](https://pypi.org/project/awkward1/0.1.33/)) by installing\n",
    "\n",
    "```bash\n",
    "pip install 'awkward1==0.1.33'\n",
    "```\n",
    "\n",
    "The basic concepts of Awkward arrays are presented on the [old Awkward README](https://github.com/scikit-hep/awkward-array/tree/0.12.17#readme) and the motivation for a 1.0 rewrite are presented on the [new Awkward README](https://github.com/scikit-hep/awkward-1.0/tree/0.1.32#readme)."
   ]
  },
  {
   "cell_type": "code",
   "execution_count": 1,
   "metadata": {},
   "outputs": [],
   "source": [
    "# The base of the GitHub repo is two levels up from this notebook.\n",
    "import sys\n",
    "import os\n",
    "sys.path.insert(0, os.path.join(os.getcwd(), \"..\", \"..\"))"
   ]
  },
  {
   "cell_type": "markdown",
   "metadata": {},
   "source": [
    "## High-level array class\n",
    "\n",
    "The biggest user-facing change is that, instead of mixing NumPy arrays and `JaggedArray` objects, the new Awkward has a single `Array` class."
   ]
  },
  {
   "cell_type": "code",
   "execution_count": 2,
   "metadata": {},
   "outputs": [
    {
     "data": {
      "text/plain": [
       "<Array [[1.1, 2.2, 3.3], [], [4.4, 5.5]] type='3 * var * float64'>"
      ]
     },
     "execution_count": 2,
     "metadata": {},
     "output_type": "execute_result"
    }
   ],
   "source": [
    "import numpy as np\n",
    "import awkward1 as ak\n",
    "\n",
    "array1 = ak.Array([[1.1, 2.2, 3.3], [], [4.4, 5.5]])\n",
    "array1"
   ]
  },
  {
   "cell_type": "code",
   "execution_count": 3,
   "metadata": {},
   "outputs": [
    {
     "data": {
      "text/plain": [
       "<Array [{x: 0, y: []}, ... y: [1.1, 2.2]}] type='3 * {\"x\": int64, \"y\": var * flo...'>"
      ]
     },
     "execution_count": 3,
     "metadata": {},
     "output_type": "execute_result"
    }
   ],
   "source": [
    "array2 = ak.Array([{\"x\": 0, \"y\": []}, {\"x\": 1, \"y\": [1.1]}, {\"x\": 2, \"y\": [1.1, 2.2]}])\n",
    "array2"
   ]
  },
  {
   "cell_type": "markdown",
   "metadata": {},
   "source": [
    "The same `Array` class is used for all data structures, such as the array of lists in `array1` and the array of records in `array2`.\n",
    "\n",
    "There won't be any user-level functions that apply to some data types and not others. The result of an operation is likely type-dependent, but its accessibility is not. (At this time, the only existing operations are conversions and descriptions.)\n",
    "\n",
    "(Incidentally, the width of that string representation is exactly large enough to fit into GitHub and StackOverflow text boxes without scrolling.)"
   ]
  },
  {
   "cell_type": "code",
   "execution_count": 4,
   "metadata": {},
   "outputs": [
    {
     "data": {
      "text/plain": [
       "[[1.1, 2.2, 3.3], [], [4.4, 5.5]]"
      ]
     },
     "execution_count": 4,
     "metadata": {},
     "output_type": "execute_result"
    }
   ],
   "source": [
    "ak.tolist(array1)"
   ]
  },
  {
   "cell_type": "code",
   "execution_count": 5,
   "metadata": {},
   "outputs": [
    {
     "data": {
      "text/plain": [
       "'[[1.1,2.2,3.3],[],[4.4,5.5]]'"
      ]
     },
     "execution_count": 5,
     "metadata": {},
     "output_type": "execute_result"
    }
   ],
   "source": [
    "ak.tojson(array1)"
   ]
  },
  {
   "cell_type": "code",
   "execution_count": 6,
   "metadata": {},
   "outputs": [
    {
     "data": {
      "text/plain": [
       "[{'x': 0, 'y': []}, {'x': 1, 'y': [1.1]}, {'x': 2, 'y': [1.1, 2.2]}]"
      ]
     },
     "execution_count": 6,
     "metadata": {},
     "output_type": "execute_result"
    }
   ],
   "source": [
    "ak.tolist(array2)"
   ]
  },
  {
   "cell_type": "code",
   "execution_count": 7,
   "metadata": {},
   "outputs": [
    {
     "data": {
      "text/plain": [
       "'[{\"x\":0,\"y\":[]},{\"x\":1,\"y\":[1.1]},{\"x\":2,\"y\":[1.1,2.2]}]'"
      ]
     },
     "execution_count": 7,
     "metadata": {},
     "output_type": "execute_result"
    }
   ],
   "source": [
    "ak.tojson(array2)"
   ]
  },
  {
   "cell_type": "code",
   "execution_count": 8,
   "metadata": {},
   "outputs": [
    {
     "data": {
      "text/plain": [
       "3 * var * float64"
      ]
     },
     "execution_count": 8,
     "metadata": {},
     "output_type": "execute_result"
    }
   ],
   "source": [
    "ak.typeof(array1)"
   ]
  },
  {
   "cell_type": "code",
   "execution_count": 9,
   "metadata": {},
   "outputs": [
    {
     "data": {
      "text/plain": [
       "3 * {\"x\": int64, \"y\": var * float64}"
      ]
     },
     "execution_count": 9,
     "metadata": {},
     "output_type": "execute_result"
    }
   ],
   "source": [
    "ak.typeof(array2)"
   ]
  },
  {
   "cell_type": "markdown",
   "metadata": {},
   "source": [
    "(Data types are described using the [datashape language](https://datashape.readthedocs.io/en/latest/). Some Awkward features are [not expressible](https://github.com/blaze/datashape/issues/237) in the current datashape specification, so they're expressed in an extension of the language using the same style of syntax.)"
   ]
  },
  {
   "cell_type": "markdown",
   "metadata": {},
   "source": [
    "The next major change in interface is that operations on arrays, such as `ak.tolist` and `ak.typeof` above, are free-standing functions, rather than class methods. This is because it's desirable to put domain specific (e.g. physics) methods on the array object itself; using free-standing functions for array manipulations avoids conflicts. For example,\n",
    "\n",
    "   * `ak.cross(array1, array2)` is an array-manipulation function (the cross-join of `array1` and `array2`)\n",
    "   * `array1.cross(array2)` could be a user-defined method, such as the 3D cross-product, if `array1` and `array2` represent (arrays of) 3D vectors.\n",
    "   * `array1.somefield` is a shortcut for `array1[\"somefield\"]`."
   ]
  },
  {
   "cell_type": "markdown",
   "metadata": {},
   "source": [
    "## Low-level array classes\n",
    "\n",
    "The old `JaggedArray` and `Table` are still available, but you have to ask for them explicitly with `layout`. They're not \"private\" or \"internal implementations\" (there's no underscore in `layout`): they're public for frameworks like Coffea but hidden from data analysts.\n",
    "\n",
    "As such, their string representations have more low-level detail: the contents of indexes, rather than what they mean as high-level types. (The XML formatting is just an elaboration on Python's angle-bracket convention for `repr` and the fact that we need to denote nesting.)"
   ]
  },
  {
   "cell_type": "code",
   "execution_count": 10,
   "metadata": {},
   "outputs": [
    {
     "data": {
      "text/plain": [
       "<ListOffsetArray64>\n",
       "    <type>var * float64</type>\n",
       "    <offsets><Index64 i=\"[0 3 3 5]\" offset=\"0\" at=\"0x55ef2ea807f0\"/></offsets>\n",
       "    <content><NumpyArray format=\"d\" shape=\"5\" data=\"1.1 2.2 3.3 4.4 5.5\" at=\"0x55ef2ea82800\">\n",
       "        <type>float64</type>\n",
       "    </NumpyArray></content>\n",
       "</ListOffsetArray64>"
      ]
     },
     "execution_count": 10,
     "metadata": {},
     "output_type": "execute_result"
    }
   ],
   "source": [
    "array1.layout"
   ]
  },
  {
   "cell_type": "code",
   "execution_count": 11,
   "metadata": {},
   "outputs": [
    {
     "data": {
      "text/plain": [
       "<RecordArray>\n",
       "    <type>{\"x\": int64, \"y\": var * float64}</type>\n",
       "    <field index=\"0\" key=\"x\">\n",
       "        <NumpyArray format=\"l\" shape=\"3\" data=\"0 1 2\" at=\"0x55ef2ea89650\">\n",
       "            <type>int64</type>\n",
       "        </NumpyArray>\n",
       "    </field>\n",
       "    <field index=\"1\" key=\"y\">\n",
       "        <ListOffsetArray64>\n",
       "            <type>var * float64</type>\n",
       "            <offsets><Index64 i=\"[0 0 1 3]\" offset=\"0\" at=\"0x55ef2ea8b660\"/></offsets>\n",
       "            <content><NumpyArray format=\"d\" shape=\"3\" data=\"1.1 1.1 2.2\" at=\"0x55ef2ea8d670\">\n",
       "                <type>float64</type>\n",
       "            </NumpyArray></content>\n",
       "        </ListOffsetArray64>\n",
       "    </field>\n",
       "</RecordArray>"
      ]
     },
     "execution_count": 11,
     "metadata": {},
     "output_type": "execute_result"
    }
   ],
   "source": [
    "array2.layout"
   ]
  },
  {
   "cell_type": "markdown",
   "metadata": {},
   "source": [
    "These classes are defined in C++ and wrapped by pybind11. The `awkward1.Array` class is pure Python. Many of the same operations work for layout classes, though less attention has been paid to its interface."
   ]
  },
  {
   "cell_type": "code",
   "execution_count": 12,
   "metadata": {},
   "outputs": [
    {
     "data": {
      "text/plain": [
       "3 * var * float64"
      ]
     },
     "execution_count": 12,
     "metadata": {},
     "output_type": "execute_result"
    }
   ],
   "source": [
    "ak.typeof(array1)"
   ]
  },
  {
   "cell_type": "code",
   "execution_count": 13,
   "metadata": {},
   "outputs": [
    {
     "data": {
      "text/plain": [
       "var * float64"
      ]
     },
     "execution_count": 13,
     "metadata": {},
     "output_type": "execute_result"
    }
   ],
   "source": [
    "ak.typeof(array1.layout)"
   ]
  },
  {
   "cell_type": "code",
   "execution_count": 14,
   "metadata": {},
   "outputs": [
    {
     "data": {
      "text/plain": [
       "'[[1.1,2.2,3.3],[],[4.4,5.5]]'"
      ]
     },
     "execution_count": 14,
     "metadata": {},
     "output_type": "execute_result"
    }
   ],
   "source": [
    "ak.tojson(array1)"
   ]
  },
  {
   "cell_type": "code",
   "execution_count": 15,
   "metadata": {},
   "outputs": [
    {
     "data": {
      "text/plain": [
       "'[[1.1,2.2,3.3],[],[4.4,5.5]]'"
      ]
     },
     "execution_count": 15,
     "metadata": {},
     "output_type": "execute_result"
    }
   ],
   "source": [
    "ak.tojson(array1.layout)"
   ]
  },
  {
   "cell_type": "code",
   "execution_count": 16,
   "metadata": {},
   "outputs": [
    {
     "data": {
      "text/plain": [
       "'[[1.1,2.2,3.3],[],[4.4,5.5]]'"
      ]
     },
     "execution_count": 16,
     "metadata": {},
     "output_type": "execute_result"
    }
   ],
   "source": [
    "array1.layout.tojson()"
   ]
  },
  {
   "cell_type": "markdown",
   "metadata": {},
   "source": [
    "## Behavioral mix-ins\n",
    "\n",
    "The primary use of Awkward arrays so far has been to represent arrays or jagged arrays of physics objects with physics methods on the array objects themselves. In Awkward 0.x, this was implemented with Python multiple inheritance, but that's a Python-only solution that can't be passed into C++ (and it was brittle: easy for an array component to lose its methods).\n",
    "\n",
    "Now behavioral mix-ins are a \"first class citizen,\" built into Awkward 1.0's type system."
   ]
  },
  {
   "cell_type": "code",
   "execution_count": 17,
   "metadata": {},
   "outputs": [],
   "source": [
    "class PointClass(ak.Record):\n",
    "    def __repr__(self):\n",
    "        return \"<Point({}, {})>\".format(self[\"x\"], self[\"y\"])\n",
    "    \n",
    "    def mag(self):\n",
    "        return abs(np.sqrt(self[\"x\"]**2 + self[\"y\"]**2))\n",
    "\n",
    "ak.namespace[\"Point\"] = PointClass"
   ]
  },
  {
   "cell_type": "code",
   "execution_count": 18,
   "metadata": {},
   "outputs": [
    {
     "data": {
      "text/plain": [
       "<Array [{x: 1, y: 1.1}, ... {x: 3, y: 3.3}] type='3 * {\"x\": int64, \"y\": float64}'>"
      ]
     },
     "execution_count": 18,
     "metadata": {},
     "output_type": "execute_result"
    }
   ],
   "source": [
    "array3 = ak.Array([{\"x\": 1, \"y\": 1.1}, {\"x\": 2, \"y\": 2.2}, {\"x\": 3, \"y\": 3.3}])\n",
    "array3"
   ]
  },
  {
   "cell_type": "code",
   "execution_count": 19,
   "metadata": {},
   "outputs": [
    {
     "data": {
      "text/plain": [
       "{\"x\": int64, \"y\": float64}"
      ]
     },
     "execution_count": 19,
     "metadata": {},
     "output_type": "execute_result"
    }
   ],
   "source": [
    "array3.layout.type"
   ]
  },
  {
   "cell_type": "markdown",
   "metadata": {},
   "source": [
    "Types can have arbitrary parameters, which modify their meaning. These types are JSON-encoded and passed through C++ or wherever the arrays get sent."
   ]
  },
  {
   "cell_type": "code",
   "execution_count": 20,
   "metadata": {},
   "outputs": [
    {
     "data": {
      "text/plain": [
       "struct[[\"x\", \"y\"], [int64, float64], parameters={\"__class__\": \"Point\"}]"
      ]
     },
     "execution_count": 20,
     "metadata": {},
     "output_type": "execute_result"
    }
   ],
   "source": [
    "pointtype = array3.layout.type\n",
    "pointtype[\"__class__\"] = \"Point\"\n",
    "pointtype"
   ]
  },
  {
   "cell_type": "code",
   "execution_count": 21,
   "metadata": {},
   "outputs": [
    {
     "data": {
      "text/plain": [
       "PointType[int64, float64]"
      ]
     },
     "execution_count": 21,
     "metadata": {},
     "output_type": "execute_result"
    }
   ],
   "source": [
    "pointtype[\"__str__\"] = \"PointType[{}, {}]\".format(pointtype.field(\"x\"), pointtype.field(\"y\"))\n",
    "pointtype"
   ]
  },
  {
   "cell_type": "code",
   "execution_count": 22,
   "metadata": {},
   "outputs": [
    {
     "data": {
      "text/plain": [
       "<Array [<Point(1, 1.1)>, ... <Point(3, 3.3)>] type='3 * PointType[int64, float64]'>"
      ]
     },
     "execution_count": 22,
     "metadata": {},
     "output_type": "execute_result"
    }
   ],
   "source": [
    "# There will be a better interface for assigning types...\n",
    "array4 = ak.Array(array3.layout, type=ak.ArrayType(pointtype, len(array3.layout)))\n",
    "array4"
   ]
  },
  {
   "cell_type": "code",
   "execution_count": 23,
   "metadata": {},
   "outputs": [
    {
     "data": {
      "text/plain": [
       "[1.4866068747318506, 2.973213749463701, 4.459820624195552]"
      ]
     },
     "execution_count": 23,
     "metadata": {},
     "output_type": "execute_result"
    }
   ],
   "source": [
    "[x.mag() for x in array4]"
   ]
  },
  {
   "cell_type": "markdown",
   "metadata": {},
   "source": [
    "The elements of this array are `PointClass` instances because the `__class__` parameter is `\"Point\"`, a name that is recognized in Awkward's class namespace."
   ]
  },
  {
   "cell_type": "code",
   "execution_count": 24,
   "metadata": {},
   "outputs": [
    {
     "data": {
      "text/plain": [
       "{'char': awkward1.behavior.string.CharBehavior,\n",
       " 'string': awkward1.behavior.string.StringBehavior,\n",
       " 'Point': __main__.PointClass}"
      ]
     },
     "execution_count": 24,
     "metadata": {},
     "output_type": "execute_result"
    }
   ],
   "source": [
    "ak.namespace"
   ]
  },
  {
   "cell_type": "markdown",
   "metadata": {},
   "source": [
    "As you can see, arrays of characters and variable-length strings are implemented as mix-ins. Apart from this type annotation, a string is just a jagged array of 8-bit integers."
   ]
  },
  {
   "cell_type": "code",
   "execution_count": 25,
   "metadata": {},
   "outputs": [
    {
     "data": {
      "text/plain": [
       "<Array ['Daisy', 'Daisy', ... 'answer', 'do.'] type='7 * string'>"
      ]
     },
     "execution_count": 25,
     "metadata": {},
     "output_type": "execute_result"
    }
   ],
   "source": [
    "array5 = ak.Array([\"Daisy\", \"Daisy\", \"give\", \"me\", \"your\", \"answer\", \"do.\"])\n",
    "array5"
   ]
  },
  {
   "cell_type": "code",
   "execution_count": 26,
   "metadata": {},
   "outputs": [
    {
     "data": {
      "text/plain": [
       "<ListOffsetArray64>\n",
       "    <type>string</type>\n",
       "    <offsets><Index64 i=\"[0 5 10 14 16 20 26 29]\" offset=\"0\" at=\"0x55ef2eaa8aa0\"/></offsets>\n",
       "    <content><NumpyArray format=\"B\" shape=\"29\" data=\"0x 44616973 79446169 73796769 76656d65 796f7572 616e7377 6572646f 2e\" at=\"0x55ef2ea4aae0\">\n",
       "        <type>utf8</type>\n",
       "    </NumpyArray></content>\n",
       "</ListOffsetArray64>"
      ]
     },
     "execution_count": 26,
     "metadata": {},
     "output_type": "execute_result"
    }
   ],
   "source": [
    "array5.layout"
   ]
  },
  {
   "cell_type": "code",
   "execution_count": 27,
   "metadata": {},
   "outputs": [
    {
     "data": {
      "text/plain": [
       "[[68, 97, 105, 115, 121],\n",
       " [68, 97, 105, 115, 121],\n",
       " [103, 105, 118, 101],\n",
       " [109, 101],\n",
       " [121, 111, 117, 114],\n",
       " [97, 110, 115, 119, 101, 114],\n",
       " [100, 111, 46]]"
      ]
     },
     "execution_count": 27,
     "metadata": {},
     "output_type": "execute_result"
    }
   ],
   "source": [
    "ak.tolist(array5.layout)"
   ]
  },
  {
   "cell_type": "code",
   "execution_count": 28,
   "metadata": {},
   "outputs": [
    {
     "data": {
      "text/plain": [
       "[[97, 105, 115, 121],\n",
       " [97, 105, 115, 121],\n",
       " [105, 118, 101],\n",
       " [101],\n",
       " [111, 117, 114],\n",
       " [110, 115, 119, 101, 114],\n",
       " [111, 46]]"
      ]
     },
     "execution_count": 28,
     "metadata": {},
     "output_type": "execute_result"
    }
   ],
   "source": [
    "ak.tolist(array5.layout[:, 1:])"
   ]
  },
  {
   "cell_type": "code",
   "execution_count": 29,
   "metadata": {},
   "outputs": [
    {
     "data": {
      "text/plain": [
       "<Array ['aisy', 'aisy', ... 'nswer', 'o.'] type='7 * string'>"
      ]
     },
     "execution_count": 29,
     "metadata": {},
     "output_type": "execute_result"
    }
   ],
   "source": [
    "array5[:, 1:]"
   ]
  },
  {
   "cell_type": "markdown",
   "metadata": {},
   "source": [
    "The string interpretation is _only_ applied to the high-level `Array` and _not_ to the layout classes. Thus,\n",
    "\n",
    "   * superclass-based mix-ins don't have to be captured and passed on through all operations,\n",
    "   * mix-ins can pass through C++ because they are only JSON-encoded type parameters, not a Python class,\n",
    "   * mix-in classes don't have to be dynamically generated (`PointClass` has a \"fixed address\" for pickling),\n",
    "   * the mechanism for array mix-ins (e.g. `string`) is the same as for producing objects (e.g. `PointClass`); there is no need to introduce an `ObjectArray`,\n",
    "   * unlike old Awkward's `ObjectArray`, these records remain Awkward data structures when instantiated."
   ]
  },
  {
   "cell_type": "code",
   "execution_count": 30,
   "metadata": {},
   "outputs": [
    {
     "data": {
      "text/plain": [
       "<Point(3, 3.3)>"
      ]
     },
     "execution_count": 30,
     "metadata": {},
     "output_type": "execute_result"
    }
   ],
   "source": [
    "array4[2]"
   ]
  },
  {
   "cell_type": "code",
   "execution_count": 31,
   "metadata": {},
   "outputs": [
    {
     "data": {
      "text/plain": [
       "<Record at=\"2\">\n",
       "    <RecordArray>\n",
       "        <type>PointType[int64, float64]</type>\n",
       "        <field index=\"0\" key=\"x\">\n",
       "            <NumpyArray format=\"l\" shape=\"3\" data=\"1 2 3\" at=\"0x55ef2ea9eeb0\">\n",
       "                <type>int64</type>\n",
       "            </NumpyArray>\n",
       "        </field>\n",
       "        <field index=\"1\" key=\"y\">\n",
       "            <NumpyArray format=\"d\" shape=\"3\" data=\"1.1 2.2 3.3\" at=\"0x55ef2eaa0ec0\">\n",
       "                <type>float64</type>\n",
       "            </NumpyArray>\n",
       "        </field>\n",
       "    </RecordArray>\n",
       "</Record>"
      ]
     },
     "execution_count": 31,
     "metadata": {},
     "output_type": "execute_result"
    }
   ],
   "source": [
    "array4[2].layout"
   ]
  },
  {
   "cell_type": "markdown",
   "metadata": {},
   "source": [
    "## Agreement with NumPy\n",
    "\n",
    "Awkward array represents a superset of NumPy's core, so it must return the same results as NumPy. This was tricky in old Awkward, when we limited ourselves to vectorized functions, so there are hidden limits: slices were limited to depth `2`, concatenation was limited to `axis <= 1`, and `choose(n)` was limited to `n < 5`. But now that we can write compiled for loops, there are no such limitations."
   ]
  },
  {
   "cell_type": "code",
   "execution_count": 78,
   "metadata": {},
   "outputs": [
    {
     "data": {
      "text/plain": [
       "<Array [[[[0, 1, 2, 3, ... 207, 208, 209]]]] type='2 * 3 * 5 * 7 * int64'>"
      ]
     },
     "execution_count": 78,
     "metadata": {},
     "output_type": "execute_result"
    }
   ],
   "source": [
    "deepnumpy = np.arange(2*3*5*7).reshape(2, 3, 5, 7)\n",
    "deepawkward = ak.Array(deepnumpy)\n",
    "deepawkward"
   ]
  },
  {
   "cell_type": "code",
   "execution_count": 79,
   "metadata": {},
   "outputs": [
    {
     "data": {
      "text/plain": [
       "array([[[[139, 138, 137, 136, 135, 134, 133],\n",
       "         [118, 117, 116, 115, 114, 113, 112],\n",
       "         [118, 117, 116, 115, 114, 113, 112],\n",
       "         [132, 131, 130, 129, 128, 127, 126]],\n",
       "\n",
       "        [[174, 173, 172, 171, 170, 169, 168],\n",
       "         [153, 152, 151, 150, 149, 148, 147],\n",
       "         [153, 152, 151, 150, 149, 148, 147],\n",
       "         [167, 166, 165, 164, 163, 162, 161]]]])"
      ]
     },
     "execution_count": 79,
     "metadata": {},
     "output_type": "execute_result"
    }
   ],
   "source": [
    "deepnumpy[1:, :2, [4, 1, 1, -2], ::-1]"
   ]
  },
  {
   "cell_type": "code",
   "execution_count": 80,
   "metadata": {},
   "outputs": [
    {
     "data": {
      "text/plain": [
       "<Array [... 166, 165, 164, 163, 162, 161]]]] type='1 * 2 * 4 * 7 * int64'>"
      ]
     },
     "execution_count": 80,
     "metadata": {},
     "output_type": "execute_result"
    }
   ],
   "source": [
    "deepawkward[1:, :2, [4, 1, 1, -2], ::-1]"
   ]
  },
  {
   "cell_type": "code",
   "execution_count": 81,
   "metadata": {},
   "outputs": [
    {
     "data": {
      "text/plain": [
       "True"
      ]
     },
     "execution_count": 81,
     "metadata": {},
     "output_type": "execute_result"
    }
   ],
   "source": [
    "ak.tolist(deepnumpy[1:, :2, [4, 1, 1, -2], ::-1]) == ak.tolist(deepawkward[1:, :2, [4, 1, 1, -2], ::-1])"
   ]
  },
  {
   "cell_type": "markdown",
   "metadata": {},
   "source": [
    "## Creating arrays\n",
    "\n",
    "A few of the examples above create arrays by passing them to the `Array` constructor. This is like old Awkward's `fromiter` function. In fact, new Awkward has a `fromiter` function, but it's implicitly called by the `Array` constructor."
   ]
  },
  {
   "cell_type": "code",
   "execution_count": 32,
   "metadata": {},
   "outputs": [
    {
     "data": {
      "text/plain": [
       "<Array [[1.1, 2.2, 3.3], [], [4.4, 5.5]] type='3 * var * float64'>"
      ]
     },
     "execution_count": 32,
     "metadata": {},
     "output_type": "execute_result"
    }
   ],
   "source": [
    "# Calls ak.fromiter, which converts rowwise → columnar data.\n",
    "ak.Array([[1.1, 2.2, 3.3], [], [4.4, 5.5]])"
   ]
  },
  {
   "cell_type": "code",
   "execution_count": 33,
   "metadata": {},
   "outputs": [
    {
     "data": {
      "text/plain": [
       "<Array [[1.1, 2.2, 3.3], [], [4.4, 5.5]] type='3 * var * float64'>"
      ]
     },
     "execution_count": 33,
     "metadata": {},
     "output_type": "execute_result"
    }
   ],
   "source": [
    "# Calls ak.fromjson, which deserializes.\n",
    "ak.Array(\"[[1.1, 2.2, 3.3], [], [4.4, 5.5]]\")"
   ]
  },
  {
   "cell_type": "code",
   "execution_count": 34,
   "metadata": {},
   "outputs": [
    {
     "data": {
      "text/plain": [
       "<Array [[1.1, 2.2, 3.3], [4.4, 5.5, 6.6]] type='2 * 3 * float64'>"
      ]
     },
     "execution_count": 34,
     "metadata": {},
     "output_type": "execute_result"
    }
   ],
   "source": [
    "# Calls ak.fromnumpy, which views.\n",
    "nparray = np.array([[1.1, 2.2, 3.3], [4.4, 5.5, 6.6]])\n",
    "akarray = ak.Array(nparray)\n",
    "akarray"
   ]
  },
  {
   "cell_type": "code",
   "execution_count": 35,
   "metadata": {},
   "outputs": [
    {
     "data": {
      "text/plain": [
       "<Array [[1.1, 999, 3.3], [4.4, 5.5, 6.6]] type='2 * 3 * float64'>"
      ]
     },
     "execution_count": 35,
     "metadata": {},
     "output_type": "execute_result"
    }
   ],
   "source": [
    "nparray[0, 1] = 999\n",
    "akarray"
   ]
  },
  {
   "cell_type": "markdown",
   "metadata": {},
   "source": [
    "You can also build these manually from the layouts, but it's a lot of work!"
   ]
  },
  {
   "cell_type": "code",
   "execution_count": 36,
   "metadata": {},
   "outputs": [
    {
     "data": {
      "text/plain": [
       "<ListOffsetArray64>\n",
       "    <offsets><Index64 i=\"[0 3 3 5]\" offset=\"0\" at=\"0x55ef2ea89200\"/></offsets>\n",
       "    <content><NumpyArray format=\"d\" shape=\"5\" data=\"1.1 2.2 3.3 4.4 5.5\" at=\"0x55ef2e555e30\"/></content>\n",
       "</ListOffsetArray64>"
      ]
     },
     "execution_count": 36,
     "metadata": {},
     "output_type": "execute_result"
    }
   ],
   "source": [
    "content = ak.layout.NumpyArray(np.array([1.1, 2.2, 3.3, 4.4, 5.5]))\n",
    "offsets = ak.layout.Index64(np.array([0, 3, 3, 5], dtype=np.int64))   # match 64-bit to avoid copy\n",
    "listoffsetarray = ak.layout.ListOffsetArray64(offsets, content)\n",
    "listoffsetarray"
   ]
  },
  {
   "cell_type": "code",
   "execution_count": 37,
   "metadata": {},
   "outputs": [
    {
     "data": {
      "text/plain": [
       "<Array [[1.1, 2.2, 3.3], [], [4.4, 5.5]] type='3 * var * float64'>"
      ]
     },
     "execution_count": 37,
     "metadata": {},
     "output_type": "execute_result"
    }
   ],
   "source": [
    "ak.Array(listoffsetarray)"
   ]
  },
  {
   "cell_type": "markdown",
   "metadata": {},
   "source": [
    "## FillableArray\n",
    "\n",
    "The `fromiter` algorithm has been expanded into a builder interface, so that you can accumulate Awkward arrays."
   ]
  },
  {
   "cell_type": "code",
   "execution_count": 38,
   "metadata": {},
   "outputs": [
    {
     "data": {
      "text/plain": [
       "<FillableArray [{x: -0.163, y: [8], ... y: []}] type='10 * {\"x\": float64, \"y\": v...'>"
      ]
     },
     "execution_count": 38,
     "metadata": {},
     "output_type": "execute_result"
    }
   ],
   "source": [
    "builder = ak.FillableArray()\n",
    "\n",
    "for i in range(10):\n",
    "    builder.beginrecord()\n",
    "    builder.field(\"x\")\n",
    "    builder.real(np.random.normal())\n",
    "    builder.field(\"y\")\n",
    "    builder.beginlist()\n",
    "    for j in range(np.random.poisson(2.5)):\n",
    "        builder.integer(np.random.randint(0, 10))\n",
    "    builder.endlist()\n",
    "    builder.endrecord()\n",
    "\n",
    "builder"
   ]
  },
  {
   "cell_type": "markdown",
   "metadata": {},
   "source": [
    "This is not a regular array, but you can `snapshot` it to get one (and keep filling the `builder`). A `snapshot` does not copy array data: if you take several snapshots while filling, they might share data."
   ]
  },
  {
   "cell_type": "code",
   "execution_count": 39,
   "metadata": {},
   "outputs": [
    {
     "data": {
      "text/plain": [
       "<Array [{x: -0.163, y: [8], ... y: []}] type='10 * {\"x\": float64, \"y\": var * int64}'>"
      ]
     },
     "execution_count": 39,
     "metadata": {},
     "output_type": "execute_result"
    }
   ],
   "source": [
    "array6 = builder.snapshot()\n",
    "array6"
   ]
  },
  {
   "cell_type": "code",
   "execution_count": 40,
   "metadata": {},
   "outputs": [
    {
     "data": {
      "text/plain": [
       "[{'x': -0.16302194878953216, 'y': [8]},\n",
       " {'x': -0.10882172945446447, 'y': [2, 4, 6, 4, 7, 4, 9]},\n",
       " {'x': -0.4306358742620851, 'y': [4]},\n",
       " {'x': -0.05719839160163431, 'y': [1, 1, 8, 1, 0]},\n",
       " {'x': 1.649916417282093, 'y': [7]},\n",
       " {'x': -0.6185580350679073, 'y': [7, 7, 2]},\n",
       " {'x': 0.06867177659893597, 'y': [5, 6]},\n",
       " {'x': -0.14881480841670805, 'y': [4]},\n",
       " {'x': 1.2952580110107734, 'y': [2, 1]},\n",
       " {'x': -0.8193386063801751, 'y': []}]"
      ]
     },
     "execution_count": 40,
     "metadata": {},
     "output_type": "execute_result"
    }
   ],
   "source": [
    "ak.tolist(array6)"
   ]
  },
  {
   "cell_type": "code",
   "execution_count": 41,
   "metadata": {},
   "outputs": [
    {
     "data": {
      "text/plain": [
       "10 * {\"x\": float64, \"y\": var * int64}"
      ]
     },
     "execution_count": 41,
     "metadata": {},
     "output_type": "execute_result"
    }
   ],
   "source": [
    "ak.typeof(array6)"
   ]
  },
  {
   "cell_type": "markdown",
   "metadata": {},
   "source": [
    "The array that you produce can have nested structure, as shown above. The structure was determined by the order in which `builder` methods were called.\n",
    "\n",
    "You can write algorithms that build arrays as if you were printing out JSON:\n",
    "\n",
    "   * call `beginlist()` instead of printing `\"[\"`,\n",
    "   * call `endlist()` instead of printing `\"]\"`,\n",
    "   * call `beginrecord()` instead of printing `\"{\"`,\n",
    "   * call `endrecord()` instead of printing `\"}\"`,\n",
    "   * call `field(key)` instead of printing `\"key\":`, etc."
   ]
  },
  {
   "cell_type": "code",
   "execution_count": 42,
   "metadata": {},
   "outputs": [],
   "source": [
    "deepbuilder = ak.FillableArray()\n",
    "\n",
    "def deepnesting(depth):\n",
    "    if depth == 0:\n",
    "        deepbuilder.integer(np.random.randint(0, 10))\n",
    "    else:\n",
    "        deepbuilder.beginlist()\n",
    "        for j in range(np.random.poisson(2.5)):\n",
    "            deepnesting(depth - 1)\n",
    "        deepbuilder.endlist()\n",
    "\n",
    "deepnesting(5)"
   ]
  },
  {
   "cell_type": "code",
   "execution_count": 43,
   "metadata": {},
   "outputs": [
    {
     "data": {
      "text/plain": [
       "[[[[[[], [7, 9, 2], [0, 1, 0, 9, 3, 6]]]],\n",
       "  [[[[9, 3, 6], [6, 4, 6], [8, 8]], [[8]], []],\n",
       "   [[[2, 9, 4]], [], [[4, 2, 4, 4], [0, 2, 9, 7]]],\n",
       "   []],\n",
       "  [[[[6, 8, 4, 4, 0]],\n",
       "    [[6], [], [1]],\n",
       "    [[1, 2, 5, 7], [4, 8, 0, 4], [7], [6, 3, 8]]],\n",
       "   [[[5], [1, 5]], [[1, 8, 4], [6], [6, 4]], [[5, 7], []]]],\n",
       "  [[[[6, 5, 4]], [[4], [1, 8, 1, 0, 3, 1]]],\n",
       "   [[[5, 7]], [[9, 4], [6], [1, 5, 3, 1], [4, 0, 2], [4, 7, 2]]]],\n",
       "  [[[[2, 1], [7, 0, 2, 0], [7, 7, 8, 9], [6, 0]], [[4, 7, 1], [1], [9, 9]]]],\n",
       "  [[[[5, 3], [9, 3, 5], [4, 2]],\n",
       "    [[5], [1, 7], [9, 4, 2, 4], [8, 6]],\n",
       "    [[4, 4, 7, 2, 4, 0, 0], [], [2, 3, 6, 3]],\n",
       "    [[7, 2, 7]]],\n",
       "   [[[9, 9], [2, 8]],\n",
       "    [[8, 1, 6, 0, 7, 4], [1, 2, 4, 4], [8, 2, 0], [3, 2, 2, 3]],\n",
       "    [[1, 5], [1, 8], [8, 6, 4], [8], [7, 9]],\n",
       "    [[], [], [1, 5], [4, 1, 1], [8], [8, 5, 8, 9, 5, 2]],\n",
       "    [[3, 1, 9, 1]],\n",
       "    [[9]]],\n",
       "   [[[4, 2, 9, 6], [4, 1]]],\n",
       "   [[[6, 3], [2, 2], [1, 1]]]]]]"
      ]
     },
     "execution_count": 43,
     "metadata": {},
     "output_type": "execute_result"
    }
   ],
   "source": [
    "ak.tolist(deepbuilder.snapshot())"
   ]
  },
  {
   "cell_type": "code",
   "execution_count": 44,
   "metadata": {},
   "outputs": [
    {
     "data": {
      "text/plain": [
       "1 * var * var * var * var * var * int64"
      ]
     },
     "execution_count": 44,
     "metadata": {},
     "output_type": "execute_result"
    }
   ],
   "source": [
    "ak.typeof(deepbuilder)"
   ]
  },
  {
   "cell_type": "code",
   "execution_count": 45,
   "metadata": {},
   "outputs": [
    {
     "data": {
      "text/plain": [
       "<ListOffsetArray64>\n",
       "    <type>var * var * var * var * var * int64</type>\n",
       "    <offsets><Index64 i=\"[0 6]\" offset=\"0\" at=\"0x55ef2eabec70\"/></offsets>\n",
       "    <content><ListOffsetArray64>\n",
       "        <type>var * var * var * var * int64</type>\n",
       "        <offsets><Index64 i=\"[0 1 4 6 8 9 13]\" offset=\"0\" at=\"0x55ef2eac0c80\"/></offsets>\n",
       "        <content><ListOffsetArray64>\n",
       "            <type>var * var * var * int64</type>\n",
       "            <offsets><Index64 i=\"[0 1 4 7 7 ... 19 23 29 30 31]\" offset=\"0\" at=\"0x55ef2eac2c90\"/></offsets>\n",
       "            <content><ListOffsetArray64>\n",
       "                <type>var * var * int64</type>\n",
       "                <offsets><Index64 i=\"[0 3 6 7 7 ... 69 70 71 73 76]\" offset=\"0\" at=\"0x55ef2eac4ca0\"/></offsets>\n",
       "                <content><ListOffsetArray64>\n",
       "                    <type>var * int64</type>\n",
       "                    <offsets><Index64 i=\"[0 0 3 9 12 ... 184 186 188 190 192]\" offset=\"0\" at=\"0x55ef2eac6cb0\"/></offsets>\n",
       "                    <content><NumpyArray format=\"l\" shape=\"192\" data=\"7 9 2 0 1 ... 3 2 2 1 1\" at=\"0x55ef2eac8cc0\">\n",
       "                        <type>int64</type>\n",
       "                    </NumpyArray></content>\n",
       "                </ListOffsetArray64></content>\n",
       "            </ListOffsetArray64></content>\n",
       "        </ListOffsetArray64></content>\n",
       "    </ListOffsetArray64></content>\n",
       "</ListOffsetArray64>"
      ]
     },
     "execution_count": 45,
     "metadata": {},
     "output_type": "execute_result"
    }
   ],
   "source": [
    "deepbuilder.snapshot().layout"
   ]
  },
  {
   "cell_type": "markdown",
   "metadata": {},
   "source": [
    "Both `fromiter` and `fromjson` are implemented using `FillableArray`, the latter using the RapidJSON C++ library for deserialization."
   ]
  },
  {
   "cell_type": "code",
   "execution_count": 46,
   "metadata": {},
   "outputs": [
    {
     "name": "stdout",
     "output_type": "stream",
     "text": [
      "--2019-12-19 14:30:35--  https://scikit-hep.org/uproot/examples/HZZ.json\n",
      "Resolving scikit-hep.org (scikit-hep.org)... 185.199.111.153, 185.199.108.153, 185.199.109.153, ...\n",
      "Connecting to scikit-hep.org (scikit-hep.org)|185.199.111.153|:443... connected.\n",
      "HTTP request sent, awaiting response... 200 OK\n",
      "Length: 2120623 (2.0M) [application/json]\n",
      "Saving to: ‘HZZ.json’\n",
      "\n",
      "HZZ.json            100%[===================>]   2.02M  10.7MB/s    in 0.2s    \n",
      "\n",
      "2019-12-19 14:30:36 (10.7 MB/s) - ‘HZZ.json’ saved [2120623/2120623]\n",
      "\n"
     ]
    }
   ],
   "source": [
    "# !wget https://scikit-hep.org/uproot/examples/HZZ.json"
   ]
  },
  {
   "cell_type": "code",
   "execution_count": 47,
   "metadata": {},
   "outputs": [
    {
     "data": {
      "text/plain": [
       "<Array [{jets: [], ... weight: 0.00876}] type='2421 * {\"jets\": var * {\"px\": floa...'>"
      ]
     },
     "execution_count": 47,
     "metadata": {},
     "output_type": "execute_result"
    }
   ],
   "source": [
    "hzz = ak.fromjson(\"HZZ.json\")\n",
    "hzz"
   ]
  },
  {
   "cell_type": "code",
   "execution_count": 48,
   "metadata": {},
   "outputs": [
    {
     "name": "stdout",
     "output_type": "stream",
     "text": [
      "jets               2421 * var * {\"px\": float64, \"py\": float64, \"pz\": float64, \"E\": float64, \"id\": bool}\n",
      "muons              2421 * var * {\"px\": float64, \"py\": float64, \"pz\": float64, \"E\": float64, \"q\": int64, \"iso\": float64}\n",
      "electrons          2421 * var * {\"px\": float64, \"py\": float64, \"pz\": float64, \"E\": float64, \"q\": int64, \"iso\": float64}\n",
      "photons            2421 * var * {\"px\": float64, \"py\": float64, \"pz\": float64, \"E\": float64, \"iso\": float64}\n",
      "MET                2421 * {\"x\": float64, \"y\": float64}\n",
      "MC_hadronic_b      2421 * {\"px\": float64, \"py\": float64, \"pz\": float64}\n",
      "MC_leptonic_b      2421 * {\"px\": float64, \"py\": float64, \"pz\": float64}\n",
      "MC_hadronicW_q     2421 * {\"px\": float64, \"py\": float64, \"pz\": float64}\n",
      "MC_hadronicW_qbar  2421 * {\"px\": float64, \"py\": float64, \"pz\": float64}\n",
      "MC_lepton          2421 * {\"px\": float64, \"py\": float64, \"pz\": float64, \"pdgid\": int64}\n",
      "MC_neutrino        2421 * {\"px\": float64, \"py\": float64, \"pz\": float64}\n",
      "num_PV             2421 * int64\n",
      "trigger_isomu24    2421 * bool\n",
      "weight             2421 * float64\n"
     ]
    }
   ],
   "source": [
    "for key in hzz.layout.keys():\n",
    "    print(\"{:18s} {}\".format(key, hzz[key].type))"
   ]
  },
  {
   "cell_type": "markdown",
   "metadata": {},
   "source": [
    "As such, it's about 10× faster than the old version."
   ]
  },
  {
   "cell_type": "code",
   "execution_count": 49,
   "metadata": {},
   "outputs": [],
   "source": [
    "import awkward as oldawkward\n",
    "import json\n",
    "asjson = open(\"HZZ.json\").read()\n",
    "aslist = json.load(open(\"HZZ.json\"))"
   ]
  },
  {
   "cell_type": "code",
   "execution_count": 50,
   "metadata": {},
   "outputs": [
    {
     "name": "stdout",
     "output_type": "stream",
     "text": [
      "182 ms ± 5.41 ms per loop (mean ± std. dev. of 7 runs, 10 loops each)\n"
     ]
    }
   ],
   "source": [
    "%%timeit\n",
    "\n",
    "oldawkward.fromiter(aslist)"
   ]
  },
  {
   "cell_type": "code",
   "execution_count": 51,
   "metadata": {},
   "outputs": [
    {
     "name": "stdout",
     "output_type": "stream",
     "text": [
      "26.6 ms ± 3.35 ms per loop (mean ± std. dev. of 7 runs, 10 loops each)\n"
     ]
    }
   ],
   "source": [
    "%%timeit\n",
    "\n",
    "ak.fromiter(aslist)"
   ]
  },
  {
   "cell_type": "code",
   "execution_count": 52,
   "metadata": {},
   "outputs": [
    {
     "name": "stdout",
     "output_type": "stream",
     "text": [
      "217 ms ± 11.5 ms per loop (mean ± std. dev. of 7 runs, 1 loop each)\n"
     ]
    }
   ],
   "source": [
    "%%timeit\n",
    "\n",
    "oldawkward.fromiter(json.loads(asjson))"
   ]
  },
  {
   "cell_type": "code",
   "execution_count": 53,
   "metadata": {},
   "outputs": [
    {
     "name": "stdout",
     "output_type": "stream",
     "text": [
      "19 ms ± 378 µs per loop (mean ± std. dev. of 7 runs, 100 loops each)\n"
     ]
    }
   ],
   "source": [
    "%%timeit\n",
    "\n",
    "ak.fromjson(asjson)"
   ]
  },
  {
   "cell_type": "markdown",
   "metadata": {},
   "source": [
    "## Awkward arrays in Numba\n",
    "\n",
    "One of the motivating goals of the Awkward re-write was to incorporate Numba on the same footing."
   ]
  },
  {
   "cell_type": "code",
   "execution_count": null,
   "metadata": {},
   "outputs": [],
   "source": []
  },
  {
   "cell_type": "markdown",
   "metadata": {},
   "source": [
    "## FillableArray in Numba\n",
    "\n",
    "One of the essential things we need to be able to do is create complex data structures in Numba. Numba has support for Python objects, but that means turning data into and out of "
   ]
  },
  {
   "cell_type": "markdown",
   "metadata": {},
   "source": [
    "## Awkward arrays in C++\n",
    "\n",
    "Since everything has been implemented in C++, it can be used in C++ programs. More importantly, we will (someday) be able to create Awkward arrays in C++ and access them in Python or vice-versa."
   ]
  },
  {
   "cell_type": "code",
   "execution_count": 57,
   "metadata": {},
   "outputs": [
    {
     "data": {
      "text/plain": [
       "597"
      ]
     },
     "execution_count": 57,
     "metadata": {},
     "output_type": "execute_result"
    }
   ],
   "source": [
    "open(\"test-program.cpp\", \"w\").write(\"\"\"\n",
    "\n",
    "#include <iostream>\n",
    "\n",
    "#include \"awkward/fillable/FillableArray.h\"\n",
    "#include \"awkward/fillable/FillableOptions.h\"\n",
    "\n",
    "namespace ak = awkward;\n",
    "\n",
    "int main(int, char**) {\n",
    "  ak::FillableArray builder(ak::FillableOptions(1024, 2.0));\n",
    "  for (int i = 0;  i < 10;  i++) {\n",
    "    builder.beginrecord();\n",
    "\n",
    "    builder.field_fast(\"x\");    // (field_fast means don't check the whole string, just its pointer)\n",
    "    builder.real(i*1.1);\n",
    "\n",
    "    builder.field_fast(\"y\");\n",
    "    builder.beginlist();\n",
    "    for (int j = 0;  j < i;  j++) {\n",
    "      builder.integer(j);\n",
    "    }\n",
    "    builder.endlist();\n",
    "\n",
    "    builder.endrecord();\n",
    "  }\n",
    "  \n",
    "  std::cout << builder.snapshot()->tojson(false, 1) << std::endl;\n",
    "  return 0;\n",
    "}\n",
    "\"\"\")"
   ]
  },
  {
   "cell_type": "code",
   "execution_count": 59,
   "metadata": {},
   "outputs": [],
   "source": [
    "!g++ -I../../include -L../../awkward1 test-program.cpp -lawkward-static -lawkward-cpu-kernels-static -o test-program"
   ]
  },
  {
   "cell_type": "code",
   "execution_count": 60,
   "metadata": {},
   "outputs": [
    {
     "name": "stdout",
     "output_type": "stream",
     "text": [
      "[{\"x\":0.0,\"y\":[]},{\"x\":1.1,\"y\":[0]},{\"x\":2.2,\"y\":[0,1]},{\"x\":3.3,\"y\":[0,1,2]},{\"x\":4.4,\"y\":[0,1,2,3]},{\"x\":5.5,\"y\":[0,1,2,3,4]},{\"x\":6.6,\"y\":[0,1,2,3,4,5]},{\"x\":7.7,\"y\":[0,1,2,3,4,5,6]},{\"x\":8.8,\"y\":[0,1,2,3,4,5,6,7]},{\"x\":9.9,\"y\":[0,1,2,3,4,5,6,7,8]}]\n"
     ]
    }
   ],
   "source": [
    "!./test-program"
   ]
  },
  {
   "cell_type": "markdown",
   "metadata": {},
   "source": [
    "## Identities: database-like index for arrays\n",
    "\n",
    "In the [PartiQL toy language](https://github.com/jpivarski/PartiQL#readme), it became apparent that set operations, in which unique records are identified by reference, rather than by value, are important. They provide such operations as joins and lossless unions.\n",
    "\n",
    "No set operations have been implemented, but implementing them will require an index that tracks particle identities through all other operations. This concept of an index is the primary distinction between an array library like NumPy and a relational library like Pandas. In Awkward, this index is called an `Identity` and can optionally be attached to arrays."
   ]
  },
  {
   "cell_type": "code",
   "execution_count": 56,
   "metadata": {},
   "outputs": [
    {
     "data": {
      "text/plain": [
       "<Array [{jets: [], ... weight: 0.00876}] type='2421 * {\"jets\": var * {\"px\": floa...'>"
      ]
     },
     "execution_count": 56,
     "metadata": {},
     "output_type": "execute_result"
    }
   ],
   "source": [
    "hzz = ak.fromjson(\"HZZ.json\")\n",
    "hzz"
   ]
  }
 ],
 "metadata": {
  "kernelspec": {
   "display_name": "Python 3",
   "language": "python",
   "name": "python3"
  },
  "language_info": {
   "codemirror_mode": {
    "name": "ipython",
    "version": 3
   },
   "file_extension": ".py",
   "mimetype": "text/x-python",
   "name": "python",
   "nbconvert_exporter": "python",
   "pygments_lexer": "ipython3",
   "version": "3.7.3"
  }
 },
 "nbformat": 4,
 "nbformat_minor": 4
}
