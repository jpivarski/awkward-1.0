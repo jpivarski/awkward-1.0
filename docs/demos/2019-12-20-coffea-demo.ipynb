{
 "cells": [
  {
   "cell_type": "markdown",
   "metadata": {},
   "source": [
    "# 2019-12-20-coffea-demo\n",
    "\n",
    "This demo of the new Awkward Array was presented on December 20, 2019, before the final 1.0 version was released. Some interfaces may have changed. To run this notebook, make sure you have version 0.1.36 ([GitHub](https://github.com/scikit-hep/awkward-1.0/releases/tag/0.1.36), [pip](https://pypi.org/project/awkward1/0.1.36/)) by installing\n",
    "\n",
    "```bash\n",
    "pip install 'awkward1==0.1.36'\n",
    "```\n",
    "\n",
    "The basic concepts of Awkward arrays are presented on the [old Awkward README](https://github.com/scikit-hep/awkward-array/tree/0.12.17#readme) and the motivation for a 1.0 rewrite are presented on the [new Awkward README](https://github.com/scikit-hep/awkward-1.0/tree/0.1.32#readme)."
   ]
  },
  {
   "cell_type": "code",
   "execution_count": 1,
   "metadata": {},
   "outputs": [],
   "source": [
    "# The base of the GitHub repo is two levels up from this notebook.\n",
    "import sys\n",
    "import os\n",
    "sys.path.insert(0, os.path.join(os.getcwd(), \"..\", \"..\"))"
   ]
  },
  {
   "cell_type": "markdown",
   "metadata": {},
   "source": [
    "## High-level array class\n",
    "\n",
    "The biggest user-facing change is that, instead of mixing NumPy arrays and `JaggedArray` objects, the new Awkward has a single `Array` class."
   ]
  },
  {
   "cell_type": "code",
   "execution_count": 2,
   "metadata": {},
   "outputs": [
    {
     "data": {
      "text/plain": [
       "<Array [[1.1, 2.2, 3.3], [], [4.4, 5.5]] type='3 * var * float64'>"
      ]
     },
     "execution_count": 2,
     "metadata": {},
     "output_type": "execute_result"
    }
   ],
   "source": [
    "import numpy as np\n",
    "import awkward1 as ak\n",
    "\n",
    "array1 = ak.Array([[1.1, 2.2, 3.3], [], [4.4, 5.5]])\n",
    "array1"
   ]
  },
  {
   "cell_type": "code",
   "execution_count": 3,
   "metadata": {},
   "outputs": [
    {
     "data": {
      "text/plain": [
       "<Array [{x: 0, y: []}, ... y: [1.1, 2.2]}] type='3 * {\"x\": int64, \"y\": var * flo...'>"
      ]
     },
     "execution_count": 3,
     "metadata": {},
     "output_type": "execute_result"
    }
   ],
   "source": [
    "array2 = ak.Array([{\"x\": 0, \"y\": []}, {\"x\": 1, \"y\": [1.1]}, {\"x\": 2, \"y\": [1.1, 2.2]}])\n",
    "array2"
   ]
  },
  {
   "cell_type": "markdown",
   "metadata": {},
   "source": [
    "The same `Array` class is used for all data structures, such as the array of lists in `array1` and the array of records in `array2`.\n",
    "\n",
    "There won't be any user-level functions that apply to some data types and not others. The result of an operation is likely type-dependent, but its accessibility is not. (At this time, the only existing operations are conversions and descriptions.)\n",
    "\n",
    "(Incidentally, the width of that string representation is exactly large enough to fit into GitHub and StackOverflow text boxes without scrolling.)"
   ]
  },
  {
   "cell_type": "code",
   "execution_count": 4,
   "metadata": {},
   "outputs": [
    {
     "data": {
      "text/plain": [
       "[[1.1, 2.2, 3.3], [], [4.4, 5.5]]"
      ]
     },
     "execution_count": 4,
     "metadata": {},
     "output_type": "execute_result"
    }
   ],
   "source": [
    "ak.tolist(array1)"
   ]
  },
  {
   "cell_type": "code",
   "execution_count": 5,
   "metadata": {},
   "outputs": [
    {
     "data": {
      "text/plain": [
       "'[[1.1,2.2,3.3],[],[4.4,5.5]]'"
      ]
     },
     "execution_count": 5,
     "metadata": {},
     "output_type": "execute_result"
    }
   ],
   "source": [
    "ak.tojson(array1)"
   ]
  },
  {
   "cell_type": "code",
   "execution_count": 6,
   "metadata": {},
   "outputs": [
    {
     "data": {
      "text/plain": [
       "[{'x': 0, 'y': []}, {'x': 1, 'y': [1.1]}, {'x': 2, 'y': [1.1, 2.2]}]"
      ]
     },
     "execution_count": 6,
     "metadata": {},
     "output_type": "execute_result"
    }
   ],
   "source": [
    "ak.tolist(array2)"
   ]
  },
  {
   "cell_type": "code",
   "execution_count": 7,
   "metadata": {},
   "outputs": [
    {
     "data": {
      "text/plain": [
       "'[{\"x\":0,\"y\":[]},{\"x\":1,\"y\":[1.1]},{\"x\":2,\"y\":[1.1,2.2]}]'"
      ]
     },
     "execution_count": 7,
     "metadata": {},
     "output_type": "execute_result"
    }
   ],
   "source": [
    "ak.tojson(array2)"
   ]
  },
  {
   "cell_type": "code",
   "execution_count": 8,
   "metadata": {},
   "outputs": [
    {
     "data": {
      "text/plain": [
       "3 * var * float64"
      ]
     },
     "execution_count": 8,
     "metadata": {},
     "output_type": "execute_result"
    }
   ],
   "source": [
    "ak.typeof(array1)"
   ]
  },
  {
   "cell_type": "code",
   "execution_count": 9,
   "metadata": {},
   "outputs": [
    {
     "data": {
      "text/plain": [
       "3 * {\"x\": int64, \"y\": var * float64}"
      ]
     },
     "execution_count": 9,
     "metadata": {},
     "output_type": "execute_result"
    }
   ],
   "source": [
    "ak.typeof(array2)"
   ]
  },
  {
   "cell_type": "markdown",
   "metadata": {},
   "source": [
    "(Data types are described using the [datashape language](https://datashape.readthedocs.io/en/latest/). Some Awkward features are [not expressible](https://github.com/blaze/datashape/issues/237) in the current datashape specification, so they're expressed in an extension of the language using the same style of syntax.)"
   ]
  },
  {
   "cell_type": "markdown",
   "metadata": {},
   "source": [
    "The next major change in interface is that operations on arrays, such as `ak.tolist` and `ak.typeof` above, are free-standing functions, rather than class methods. This is because it's desirable to put domain specific (e.g. physics) methods on the array object itself; using free-standing functions for array manipulations avoids conflicts. For example,\n",
    "\n",
    "   * `ak.cross(array1, array2)` is an array-manipulation function (the cross-join of `array1` and `array2`)\n",
    "   * `array1.cross(array2)` could be a user-defined method, such as the 3D cross-product, if `array1` and `array2` represent (arrays of) 3D vectors.\n",
    "   * `array1.somefield` is a shortcut for `array1[\"somefield\"]`."
   ]
  },
  {
   "cell_type": "markdown",
   "metadata": {},
   "source": [
    "## Low-level array classes\n",
    "\n",
    "The old `JaggedArray` and `Table` are still available, but you have to ask for them explicitly with `layout`. They're not \"private\" or \"internal implementations\" (there's no underscore in `layout`): they're public for frameworks like Coffea but hidden from data analysts.\n",
    "\n",
    "As such, their string representations have more low-level detail: the contents of indexes, rather than what they mean as high-level types. (The XML formatting is just an elaboration on Python's angle-bracket convention for `repr` and the fact that we need to denote nesting.)"
   ]
  },
  {
   "cell_type": "code",
   "execution_count": 10,
   "metadata": {},
   "outputs": [
    {
     "data": {
      "text/plain": [
       "<ListOffsetArray64>\n",
       "    <type>var * float64</type>\n",
       "    <offsets><Index64 i=\"[0 3 3 5]\" offset=\"0\" at=\"0x5648829fb770\"/></offsets>\n",
       "    <content><NumpyArray format=\"d\" shape=\"5\" data=\"1.1 2.2 3.3 4.4 5.5\" at=\"0x564882a02340\">\n",
       "        <type>float64</type>\n",
       "    </NumpyArray></content>\n",
       "</ListOffsetArray64>"
      ]
     },
     "execution_count": 10,
     "metadata": {},
     "output_type": "execute_result"
    }
   ],
   "source": [
    "array1.layout"
   ]
  },
  {
   "cell_type": "code",
   "execution_count": 11,
   "metadata": {},
   "outputs": [
    {
     "data": {
      "text/plain": [
       "<RecordArray>\n",
       "    <type>{\"x\": int64, \"y\": var * float64}</type>\n",
       "    <field index=\"0\" key=\"x\">\n",
       "        <NumpyArray format=\"l\" shape=\"3\" data=\"0 1 2\" at=\"0x564882a06780\">\n",
       "            <type>int64</type>\n",
       "        </NumpyArray>\n",
       "    </field>\n",
       "    <field index=\"1\" key=\"y\">\n",
       "        <ListOffsetArray64>\n",
       "            <type>var * float64</type>\n",
       "            <offsets><Index64 i=\"[0 0 1 3]\" offset=\"0\" at=\"0x564882a0d240\"/></offsets>\n",
       "            <content><NumpyArray format=\"d\" shape=\"3\" data=\"1.1 1.1 2.2\" at=\"0x564882a0f250\">\n",
       "                <type>float64</type>\n",
       "            </NumpyArray></content>\n",
       "        </ListOffsetArray64>\n",
       "    </field>\n",
       "</RecordArray>"
      ]
     },
     "execution_count": 11,
     "metadata": {},
     "output_type": "execute_result"
    }
   ],
   "source": [
    "array2.layout"
   ]
  },
  {
   "cell_type": "markdown",
   "metadata": {},
   "source": [
    "These classes are defined in C++ and wrapped by pybind11. The `awkward1.Array` class is pure Python. Many of the same operations work for layout classes, though less attention has been paid to its interface."
   ]
  },
  {
   "cell_type": "code",
   "execution_count": 12,
   "metadata": {},
   "outputs": [
    {
     "data": {
      "text/plain": [
       "3 * var * float64"
      ]
     },
     "execution_count": 12,
     "metadata": {},
     "output_type": "execute_result"
    }
   ],
   "source": [
    "ak.typeof(array1)"
   ]
  },
  {
   "cell_type": "code",
   "execution_count": 13,
   "metadata": {},
   "outputs": [
    {
     "data": {
      "text/plain": [
       "var * float64"
      ]
     },
     "execution_count": 13,
     "metadata": {},
     "output_type": "execute_result"
    }
   ],
   "source": [
    "ak.typeof(array1.layout)"
   ]
  },
  {
   "cell_type": "code",
   "execution_count": 14,
   "metadata": {},
   "outputs": [
    {
     "data": {
      "text/plain": [
       "'[[1.1,2.2,3.3],[],[4.4,5.5]]'"
      ]
     },
     "execution_count": 14,
     "metadata": {},
     "output_type": "execute_result"
    }
   ],
   "source": [
    "ak.tojson(array1)"
   ]
  },
  {
   "cell_type": "code",
   "execution_count": 15,
   "metadata": {},
   "outputs": [
    {
     "data": {
      "text/plain": [
       "'[[1.1,2.2,3.3],[],[4.4,5.5]]'"
      ]
     },
     "execution_count": 15,
     "metadata": {},
     "output_type": "execute_result"
    }
   ],
   "source": [
    "ak.tojson(array1.layout)"
   ]
  },
  {
   "cell_type": "code",
   "execution_count": 16,
   "metadata": {},
   "outputs": [
    {
     "data": {
      "text/plain": [
       "'[[1.1,2.2,3.3],[],[4.4,5.5]]'"
      ]
     },
     "execution_count": 16,
     "metadata": {},
     "output_type": "execute_result"
    }
   ],
   "source": [
    "array1.layout.tojson()"
   ]
  },
  {
   "cell_type": "markdown",
   "metadata": {},
   "source": [
    "## Behavioral mix-ins\n",
    "\n",
    "The primary use of Awkward arrays so far has been to represent arrays or jagged arrays of physics objects with physics methods on the array objects themselves. In Awkward 0.x, this was implemented with Python multiple inheritance, but that's a Python-only solution that can't be passed into C++ (and it was brittle: easy for an array component to lose its methods).\n",
    "\n",
    "Now behavioral mix-ins are a \"first class citizen,\" built into Awkward 1.0's type system."
   ]
  },
  {
   "cell_type": "code",
   "execution_count": 17,
   "metadata": {},
   "outputs": [],
   "source": [
    "class PointClass(ak.Record):\n",
    "    def __repr__(self):\n",
    "        return \"<Point({}, {})>\".format(self[\"x\"], self[\"y\"])\n",
    "    \n",
    "    def mag(self):\n",
    "        return abs(np.sqrt(self[\"x\"]**2 + self[\"y\"]**2))\n",
    "\n",
    "ak.namespace[\"Point\"] = PointClass"
   ]
  },
  {
   "cell_type": "code",
   "execution_count": 18,
   "metadata": {},
   "outputs": [
    {
     "data": {
      "text/plain": [
       "<Array [{x: 1, y: 1.1}, ... {x: 3, y: 3.3}] type='3 * {\"x\": int64, \"y\": float64}'>"
      ]
     },
     "execution_count": 18,
     "metadata": {},
     "output_type": "execute_result"
    }
   ],
   "source": [
    "array3 = ak.Array([{\"x\": 1, \"y\": 1.1}, {\"x\": 2, \"y\": 2.2}, {\"x\": 3, \"y\": 3.3}])\n",
    "array3"
   ]
  },
  {
   "cell_type": "code",
   "execution_count": 19,
   "metadata": {},
   "outputs": [
    {
     "data": {
      "text/plain": [
       "{\"x\": int64, \"y\": float64}"
      ]
     },
     "execution_count": 19,
     "metadata": {},
     "output_type": "execute_result"
    }
   ],
   "source": [
    "array3.layout.type"
   ]
  },
  {
   "cell_type": "markdown",
   "metadata": {},
   "source": [
    "Types can have arbitrary parameters, which modify their meaning. These types are JSON-encoded and passed through C++ or wherever the arrays get sent."
   ]
  },
  {
   "cell_type": "code",
   "execution_count": 20,
   "metadata": {},
   "outputs": [
    {
     "data": {
      "text/plain": [
       "struct[[\"x\", \"y\"], [int64, float64], parameters={\"__class__\": \"Point\"}]"
      ]
     },
     "execution_count": 20,
     "metadata": {},
     "output_type": "execute_result"
    }
   ],
   "source": [
    "pointtype = array3.layout.type\n",
    "pointtype[\"__class__\"] = \"Point\"\n",
    "pointtype"
   ]
  },
  {
   "cell_type": "code",
   "execution_count": 21,
   "metadata": {},
   "outputs": [
    {
     "data": {
      "text/plain": [
       "PointType[int64, float64]"
      ]
     },
     "execution_count": 21,
     "metadata": {},
     "output_type": "execute_result"
    }
   ],
   "source": [
    "pointtype[\"__str__\"] = \"PointType[{}, {}]\".format(pointtype.field(\"x\"), pointtype.field(\"y\"))\n",
    "pointtype"
   ]
  },
  {
   "cell_type": "code",
   "execution_count": 22,
   "metadata": {},
   "outputs": [
    {
     "data": {
      "text/plain": [
       "<Array [<Point(1, 1.1)>, ... <Point(3, 3.3)>] type='3 * PointType[int64, float64]'>"
      ]
     },
     "execution_count": 22,
     "metadata": {},
     "output_type": "execute_result"
    }
   ],
   "source": [
    "# There will be a better interface for assigning types...\n",
    "array4 = ak.Array(array3.layout, type=ak.ArrayType(pointtype, len(array3.layout)))\n",
    "array4"
   ]
  },
  {
   "cell_type": "code",
   "execution_count": 23,
   "metadata": {},
   "outputs": [
    {
     "data": {
      "text/plain": [
       "[1.4866068747318506, 2.973213749463701, 4.459820624195552]"
      ]
     },
     "execution_count": 23,
     "metadata": {},
     "output_type": "execute_result"
    }
   ],
   "source": [
    "[x.mag() for x in array4]"
   ]
  },
  {
   "cell_type": "markdown",
   "metadata": {},
   "source": [
    "The elements of this array are `PointClass` instances because the `__class__` parameter is `\"Point\"`, a name that is recognized in Awkward's class namespace."
   ]
  },
  {
   "cell_type": "code",
   "execution_count": 24,
   "metadata": {},
   "outputs": [
    {
     "data": {
      "text/plain": [
       "{'char': awkward1.behavior.string.CharBehavior,\n",
       " 'string': awkward1.behavior.string.StringBehavior,\n",
       " 'Point': __main__.PointClass}"
      ]
     },
     "execution_count": 24,
     "metadata": {},
     "output_type": "execute_result"
    }
   ],
   "source": [
    "ak.namespace"
   ]
  },
  {
   "cell_type": "markdown",
   "metadata": {},
   "source": [
    "As you can see, arrays of characters and variable-length strings are implemented as mix-ins. Apart from this type annotation, a string is just a jagged array of 8-bit integers."
   ]
  },
  {
   "cell_type": "code",
   "execution_count": 25,
   "metadata": {},
   "outputs": [
    {
     "data": {
      "text/plain": [
       "<Array ['Daisy', 'Daisy', ... 'answer', 'do.'] type='7 * string'>"
      ]
     },
     "execution_count": 25,
     "metadata": {},
     "output_type": "execute_result"
    }
   ],
   "source": [
    "array5 = ak.Array([\"Daisy\", \"Daisy\", \"give\", \"me\", \"your\", \"answer\", \"do.\"])\n",
    "array5"
   ]
  },
  {
   "cell_type": "code",
   "execution_count": 26,
   "metadata": {},
   "outputs": [
    {
     "data": {
      "text/plain": [
       "<ListOffsetArray64>\n",
       "    <type>string</type>\n",
       "    <offsets><Index64 i=\"[0 5 10 14 16 20 26 29]\" offset=\"0\" at=\"0x564882a1ec60\"/></offsets>\n",
       "    <content><NumpyArray format=\"B\" shape=\"29\" data=\"0x 44616973 79446169 73796769 76656d65 796f7572 616e7377 6572646f 2e\" at=\"0x564882a05490\">\n",
       "        <type>utf8</type>\n",
       "    </NumpyArray></content>\n",
       "</ListOffsetArray64>"
      ]
     },
     "execution_count": 26,
     "metadata": {},
     "output_type": "execute_result"
    }
   ],
   "source": [
    "array5.layout"
   ]
  },
  {
   "cell_type": "code",
   "execution_count": 27,
   "metadata": {},
   "outputs": [
    {
     "data": {
      "text/plain": [
       "[[68, 97, 105, 115, 121],\n",
       " [68, 97, 105, 115, 121],\n",
       " [103, 105, 118, 101],\n",
       " [109, 101],\n",
       " [121, 111, 117, 114],\n",
       " [97, 110, 115, 119, 101, 114],\n",
       " [100, 111, 46]]"
      ]
     },
     "execution_count": 27,
     "metadata": {},
     "output_type": "execute_result"
    }
   ],
   "source": [
    "ak.tolist(array5.layout)"
   ]
  },
  {
   "cell_type": "code",
   "execution_count": 28,
   "metadata": {},
   "outputs": [
    {
     "data": {
      "text/plain": [
       "[[97, 105, 115, 121],\n",
       " [97, 105, 115, 121],\n",
       " [105, 118, 101],\n",
       " [101],\n",
       " [111, 117, 114],\n",
       " [110, 115, 119, 101, 114],\n",
       " [111, 46]]"
      ]
     },
     "execution_count": 28,
     "metadata": {},
     "output_type": "execute_result"
    }
   ],
   "source": [
    "ak.tolist(array5.layout[:, 1:])"
   ]
  },
  {
   "cell_type": "code",
   "execution_count": 29,
   "metadata": {},
   "outputs": [
    {
     "data": {
      "text/plain": [
       "<Array ['aisy', 'aisy', ... 'nswer', 'o.'] type='7 * string'>"
      ]
     },
     "execution_count": 29,
     "metadata": {},
     "output_type": "execute_result"
    }
   ],
   "source": [
    "array5[:, 1:]"
   ]
  },
  {
   "cell_type": "markdown",
   "metadata": {},
   "source": [
    "The string interpretation is _only_ applied to the high-level `Array` and _not_ to the layout classes. Thus,\n",
    "\n",
    "   * superclass-based mix-ins don't have to be captured and passed on through all operations,\n",
    "   * mix-ins can pass through C++ because they are only JSON-encoded type parameters, not a Python class,\n",
    "   * mix-in classes don't have to be dynamically generated (`PointClass` has a \"fixed address\" for pickling),\n",
    "   * the mechanism for array mix-ins (e.g. `string`) is the same as for producing objects (e.g. `PointClass`); there is no need to introduce an `ObjectArray`,\n",
    "   * unlike old Awkward's `ObjectArray`, these records remain Awkward data structures when instantiated."
   ]
  },
  {
   "cell_type": "code",
   "execution_count": 30,
   "metadata": {},
   "outputs": [
    {
     "data": {
      "text/plain": [
       "<Point(3, 3.3)>"
      ]
     },
     "execution_count": 30,
     "metadata": {},
     "output_type": "execute_result"
    }
   ],
   "source": [
    "array4[2]"
   ]
  },
  {
   "cell_type": "code",
   "execution_count": 31,
   "metadata": {},
   "outputs": [
    {
     "data": {
      "text/plain": [
       "<Record at=\"2\">\n",
       "    <RecordArray>\n",
       "        <type>PointType[int64, float64]</type>\n",
       "        <field index=\"0\" key=\"x\">\n",
       "            <NumpyArray format=\"l\" shape=\"3\" data=\"1 2 3\" at=\"0x5648829f85e0\">\n",
       "                <type>int64</type>\n",
       "            </NumpyArray>\n",
       "        </field>\n",
       "        <field index=\"1\" key=\"y\">\n",
       "            <NumpyArray format=\"d\" shape=\"3\" data=\"1.1 2.2 3.3\" at=\"0x564882a1a820\">\n",
       "                <type>float64</type>\n",
       "            </NumpyArray>\n",
       "        </field>\n",
       "    </RecordArray>\n",
       "</Record>"
      ]
     },
     "execution_count": 31,
     "metadata": {},
     "output_type": "execute_result"
    }
   ],
   "source": [
    "array4[2].layout"
   ]
  },
  {
   "cell_type": "markdown",
   "metadata": {},
   "source": [
    "## Agreement with NumPy\n",
    "\n",
    "Awkward array represents a superset of NumPy's core, so it must return the same results as NumPy. This was tricky in old Awkward, when we restricted ourselves to vectorized functions, so there are hidden limitations: slices were limited to depth `2`, concatenation was limited to `axis <= 1`, and `choose(n)` was limited to `n < 5`. But now that we can write compiled for loops, there are no such limitations."
   ]
  },
  {
   "cell_type": "code",
   "execution_count": 32,
   "metadata": {},
   "outputs": [
    {
     "data": {
      "text/plain": [
       "<Array [[[[0, 1, 2, 3, ... 207, 208, 209]]]] type='2 * 3 * 5 * 7 * int64'>"
      ]
     },
     "execution_count": 32,
     "metadata": {},
     "output_type": "execute_result"
    }
   ],
   "source": [
    "deepnumpy = np.arange(2*3*5*7).reshape(2, 3, 5, 7)\n",
    "deepawkward = ak.Array(deepnumpy)\n",
    "deepawkward"
   ]
  },
  {
   "cell_type": "code",
   "execution_count": 33,
   "metadata": {},
   "outputs": [
    {
     "data": {
      "text/plain": [
       "array([[[[139, 138, 137, 136, 135, 134, 133],\n",
       "         [118, 117, 116, 115, 114, 113, 112],\n",
       "         [118, 117, 116, 115, 114, 113, 112],\n",
       "         [132, 131, 130, 129, 128, 127, 126]],\n",
       "\n",
       "        [[174, 173, 172, 171, 170, 169, 168],\n",
       "         [153, 152, 151, 150, 149, 148, 147],\n",
       "         [153, 152, 151, 150, 149, 148, 147],\n",
       "         [167, 166, 165, 164, 163, 162, 161]]]])"
      ]
     },
     "execution_count": 33,
     "metadata": {},
     "output_type": "execute_result"
    }
   ],
   "source": [
    "deepnumpy[1:, :2, [4, 1, 1, -2], ::-1]"
   ]
  },
  {
   "cell_type": "code",
   "execution_count": 34,
   "metadata": {},
   "outputs": [
    {
     "data": {
      "text/plain": [
       "<Array [... 166, 165, 164, 163, 162, 161]]]] type='1 * 2 * 4 * 7 * int64'>"
      ]
     },
     "execution_count": 34,
     "metadata": {},
     "output_type": "execute_result"
    }
   ],
   "source": [
    "deepawkward[1:, :2, [4, 1, 1, -2], ::-1]"
   ]
  },
  {
   "cell_type": "code",
   "execution_count": 35,
   "metadata": {},
   "outputs": [
    {
     "data": {
      "text/plain": [
       "True"
      ]
     },
     "execution_count": 35,
     "metadata": {},
     "output_type": "execute_result"
    }
   ],
   "source": [
    "ak.tolist(deepnumpy[1:, :2, [4, 1, 1, -2], ::-1]) == ak.tolist(deepawkward[1:, :2, [4, 1, 1, -2], ::-1])"
   ]
  },
  {
   "cell_type": "markdown",
   "metadata": {},
   "source": [
    "## Creating arrays\n",
    "\n",
    "A few of the examples above create arrays by passing them to the `Array` constructor. This is like old Awkward's `fromiter` function. In fact, new Awkward has a `fromiter` function, but it's implicitly called by the `Array` constructor."
   ]
  },
  {
   "cell_type": "code",
   "execution_count": 36,
   "metadata": {},
   "outputs": [
    {
     "data": {
      "text/plain": [
       "<Array [[1.1, 2.2, 3.3], [], [4.4, 5.5]] type='3 * var * float64'>"
      ]
     },
     "execution_count": 36,
     "metadata": {},
     "output_type": "execute_result"
    }
   ],
   "source": [
    "# Calls ak.fromiter, which converts rowwise → columnar data.\n",
    "ak.Array([[1.1, 2.2, 3.3], [], [4.4, 5.5]])"
   ]
  },
  {
   "cell_type": "code",
   "execution_count": 37,
   "metadata": {},
   "outputs": [
    {
     "data": {
      "text/plain": [
       "<Array [[1.1, 2.2, 3.3], [], [4.4, 5.5]] type='3 * var * float64'>"
      ]
     },
     "execution_count": 37,
     "metadata": {},
     "output_type": "execute_result"
    }
   ],
   "source": [
    "# Calls ak.fromjson, which deserializes.\n",
    "ak.Array(\"[[1.1, 2.2, 3.3], [], [4.4, 5.5]]\")"
   ]
  },
  {
   "cell_type": "code",
   "execution_count": 38,
   "metadata": {},
   "outputs": [
    {
     "data": {
      "text/plain": [
       "<Array [[1.1, 2.2, 3.3], [4.4, 5.5, 6.6]] type='2 * 3 * float64'>"
      ]
     },
     "execution_count": 38,
     "metadata": {},
     "output_type": "execute_result"
    }
   ],
   "source": [
    "# Calls ak.fromnumpy, which views.\n",
    "nparray = np.array([[1.1, 2.2, 3.3], [4.4, 5.5, 6.6]])\n",
    "akarray = ak.Array(nparray)\n",
    "akarray"
   ]
  },
  {
   "cell_type": "code",
   "execution_count": 39,
   "metadata": {},
   "outputs": [
    {
     "data": {
      "text/plain": [
       "<Array [[1.1, 999, 3.3], [4.4, 5.5, 6.6]] type='2 * 3 * float64'>"
      ]
     },
     "execution_count": 39,
     "metadata": {},
     "output_type": "execute_result"
    }
   ],
   "source": [
    "nparray[0, 1] = 999\n",
    "akarray"
   ]
  },
  {
   "cell_type": "markdown",
   "metadata": {},
   "source": [
    "You can also build these manually from the layouts, but it's a lot of work!"
   ]
  },
  {
   "cell_type": "code",
   "execution_count": 40,
   "metadata": {},
   "outputs": [
    {
     "data": {
      "text/plain": [
       "<ListOffsetArray64>\n",
       "    <offsets><Index64 i=\"[0 3 3 5]\" offset=\"0\" at=\"0x5648829f23f0\"/></offsets>\n",
       "    <content><NumpyArray format=\"d\" shape=\"5\" data=\"1.1 2.2 3.3 4.4 5.5\" at=\"0x564882a22bf0\"/></content>\n",
       "</ListOffsetArray64>"
      ]
     },
     "execution_count": 40,
     "metadata": {},
     "output_type": "execute_result"
    }
   ],
   "source": [
    "content = ak.layout.NumpyArray(np.array([1.1, 2.2, 3.3, 4.4, 5.5]))\n",
    "offsets = ak.layout.Index64(np.array([0, 3, 3, 5], dtype=np.int64))   # match 64-bit to 64-bit to avoid copy\n",
    "listoffsetarray = ak.layout.ListOffsetArray64(offsets, content)\n",
    "listoffsetarray"
   ]
  },
  {
   "cell_type": "code",
   "execution_count": 41,
   "metadata": {},
   "outputs": [
    {
     "data": {
      "text/plain": [
       "<Array [[1.1, 2.2, 3.3], [], [4.4, 5.5]] type='3 * var * float64'>"
      ]
     },
     "execution_count": 41,
     "metadata": {},
     "output_type": "execute_result"
    }
   ],
   "source": [
    "ak.Array(listoffsetarray)"
   ]
  },
  {
   "cell_type": "markdown",
   "metadata": {},
   "source": [
    "## FillableArray\n",
    "\n",
    "The `fromiter` algorithm has been expanded into a builder interface, so that you can accumulate Awkward arrays."
   ]
  },
  {
   "cell_type": "code",
   "execution_count": 42,
   "metadata": {},
   "outputs": [
    {
     "data": {
      "text/plain": [
       "<FillableArray [{x: -0.25, y: [8, 2, 1, ... 6, 6, 4]}] type='10 * {\"x\": float64,...'>"
      ]
     },
     "execution_count": 42,
     "metadata": {},
     "output_type": "execute_result"
    }
   ],
   "source": [
    "builder = ak.FillableArray()\n",
    "\n",
    "for i in range(10):\n",
    "    builder.beginrecord()\n",
    "    builder.field(\"x\")\n",
    "    builder.real(np.random.normal())\n",
    "    builder.field(\"y\")\n",
    "    builder.beginlist()\n",
    "    for j in range(np.random.poisson(2.5)):\n",
    "        builder.integer(np.random.randint(0, 10))\n",
    "    builder.endlist()\n",
    "    builder.endrecord()\n",
    "\n",
    "builder"
   ]
  },
  {
   "cell_type": "markdown",
   "metadata": {},
   "source": [
    "This is not a regular array, but you can `snapshot` it to get one (and keep filling the `builder`). A `snapshot` does not copy array data: if you take several snapshots while filling, they _might_ share data. (And they _might_ not, if it has allocated new buffers to grow beyond its reserved space!)"
   ]
  },
  {
   "cell_type": "code",
   "execution_count": 43,
   "metadata": {},
   "outputs": [
    {
     "data": {
      "text/plain": [
       "<Array [{x: -0.25, y: [8, 2, 1, ... 6, 6, 4]}] type='10 * {\"x\": float64, \"y\": va...'>"
      ]
     },
     "execution_count": 43,
     "metadata": {},
     "output_type": "execute_result"
    }
   ],
   "source": [
    "array6 = builder.snapshot()\n",
    "array6"
   ]
  },
  {
   "cell_type": "code",
   "execution_count": 44,
   "metadata": {},
   "outputs": [
    {
     "data": {
      "text/plain": [
       "[{'x': -0.2502049714838009, 'y': [8, 2, 1, 4]},\n",
       " {'x': 1.8220652176976366, 'y': [8]},\n",
       " {'x': -0.5538841098196848, 'y': [5]},\n",
       " {'x': -0.8057139895507321, 'y': []},\n",
       " {'x': 0.8116459346283147, 'y': [8]},\n",
       " {'x': 0.3021475387471296, 'y': [2, 6]},\n",
       " {'x': 0.8321850650446265, 'y': [7, 2]},\n",
       " {'x': -0.1662542511062629, 'y': [3, 9, 2, 8]},\n",
       " {'x': 0.981756807450879, 'y': [8]},\n",
       " {'x': 0.5787180852091849, 'y': [8, 1, 9, 6, 6, 4]}]"
      ]
     },
     "execution_count": 44,
     "metadata": {},
     "output_type": "execute_result"
    }
   ],
   "source": [
    "ak.tolist(array6)"
   ]
  },
  {
   "cell_type": "code",
   "execution_count": 45,
   "metadata": {},
   "outputs": [
    {
     "data": {
      "text/plain": [
       "10 * {\"x\": float64, \"y\": var * int64}"
      ]
     },
     "execution_count": 45,
     "metadata": {},
     "output_type": "execute_result"
    }
   ],
   "source": [
    "ak.typeof(array6)"
   ]
  },
  {
   "cell_type": "markdown",
   "metadata": {},
   "source": [
    "The array that you produce can have nested structure, as shown above. The structure was determined by the order in which `builder` methods were called.\n",
    "\n",
    "You can write algorithms that build arrays as if you were printing out JSON:\n",
    "\n",
    "   * call `beginlist()` instead of printing `\"[\"`,\n",
    "   * call `endlist()` instead of printing `\"]\"`,\n",
    "   * call `beginrecord()` instead of printing `\"{\"`,\n",
    "   * call `endrecord()` instead of printing `\"}\"`,\n",
    "   * call `field(key)` instead of printing `\"key\":`, etc."
   ]
  },
  {
   "cell_type": "code",
   "execution_count": 46,
   "metadata": {},
   "outputs": [],
   "source": [
    "deepbuilder = ak.FillableArray()\n",
    "\n",
    "def deepnesting(depth):\n",
    "    if depth == 0:\n",
    "        deepbuilder.integer(np.random.randint(0, 10))\n",
    "    else:\n",
    "        deepbuilder.beginlist()\n",
    "        for j in range(np.random.poisson(2.5)):\n",
    "            deepnesting(depth - 1)\n",
    "        deepbuilder.endlist()\n",
    "\n",
    "deepnesting(5)"
   ]
  },
  {
   "cell_type": "code",
   "execution_count": 47,
   "metadata": {},
   "outputs": [
    {
     "data": {
      "text/plain": [
       "[[[[[[4, 1], [1], [3], [4, 3], [7, 8]], [[2, 2, 7, 2, 3]]],\n",
       "   [[[2, 8, 0, 5, 4], [8], [3, 2]],\n",
       "    [[9, 0, 2], [0]],\n",
       "    [[0, 9, 9], [6], [9], [6, 3, 3], [7, 3, 5, 0, 1, 0, 6]],\n",
       "    [],\n",
       "    [[8, 9, 9], [7, 2, 5, 0], [7], [9, 9, 2], [7, 1, 0], [3, 7]],\n",
       "    [[5, 9, 2, 8, 0]]]],\n",
       "  [[[[9, 2, 1], [6, 7, 9]]],\n",
       "   [[[8, 7, 1, 2],\n",
       "     [7, 7, 5, 8, 7, 6],\n",
       "     [0, 7, 7],\n",
       "     [6, 0, 1, 9],\n",
       "     [6, 6],\n",
       "     [6, 7, 7, 8, 5]],\n",
       "    [[9, 4, 7, 6, 8], [6], [9, 6, 1], [4, 7, 3]],\n",
       "    [[4, 1], [7, 6, 0], [2], [0], [4], [0, 7, 9]]],\n",
       "   [[[5, 6, 0, 2], [4]], [[6, 9, 3, 0, 1], [2, 0, 5, 6], [5, 0, 8], [0]], []]],\n",
       "  [[[[0], [3, 2]], [[6], [5, 1, 6]]],\n",
       "   [[[], [8, 9]], [[6, 5], [9, 5], [3, 8, 3, 9, 0]]],\n",
       "   [[[5, 3, 9], [5, 1, 6]]]]]]"
      ]
     },
     "execution_count": 47,
     "metadata": {},
     "output_type": "execute_result"
    }
   ],
   "source": [
    "ak.tolist(deepbuilder.snapshot())"
   ]
  },
  {
   "cell_type": "code",
   "execution_count": 48,
   "metadata": {},
   "outputs": [
    {
     "data": {
      "text/plain": [
       "1 * var * var * var * var * var * int64"
      ]
     },
     "execution_count": 48,
     "metadata": {},
     "output_type": "execute_result"
    }
   ],
   "source": [
    "ak.typeof(deepbuilder)"
   ]
  },
  {
   "cell_type": "code",
   "execution_count": 49,
   "metadata": {},
   "outputs": [
    {
     "data": {
      "text/plain": [
       "<ListOffsetArray64>\n",
       "    <type>var * var * var * var * var * int64</type>\n",
       "    <offsets><Index64 i=\"[0 3]\" offset=\"0\" at=\"0x564882a45f90\"/></offsets>\n",
       "    <content><ListOffsetArray64>\n",
       "        <type>var * var * var * var * int64</type>\n",
       "        <offsets><Index64 i=\"[0 2 5 8]\" offset=\"0\" at=\"0x564882a47fa0\"/></offsets>\n",
       "        <content><ListOffsetArray64>\n",
       "            <type>var * var * var * int64</type>\n",
       "            <offsets><Index64 i=\"[0 2 8 9 12 15 17 19 20]\" offset=\"0\" at=\"0x564882a49fb0\"/></offsets>\n",
       "            <content><ListOffsetArray64>\n",
       "                <type>var * var * int64</type>\n",
       "                <offsets><Index64 i=\"[0 5 6 9 11 ... 49 51 53 56 58]\" offset=\"0\" at=\"0x564882a4bfc0\"/></offsets>\n",
       "                <content><ListOffsetArray64>\n",
       "                    <type>var * int64</type>\n",
       "                    <offsets><Index64 i=\"[0 2 3 4 6 ... 143 145 150 153 156]\" offset=\"0\" at=\"0x564882a4dfd0\"/></offsets>\n",
       "                    <content><NumpyArray format=\"l\" shape=\"156\" data=\"4 1 1 3 4 ... 3 9 5 1 6\" at=\"0x564882a4ffe0\">\n",
       "                        <type>int64</type>\n",
       "                    </NumpyArray></content>\n",
       "                </ListOffsetArray64></content>\n",
       "            </ListOffsetArray64></content>\n",
       "        </ListOffsetArray64></content>\n",
       "    </ListOffsetArray64></content>\n",
       "</ListOffsetArray64>"
      ]
     },
     "execution_count": 49,
     "metadata": {},
     "output_type": "execute_result"
    }
   ],
   "source": [
    "deepbuilder.snapshot().layout"
   ]
  },
  {
   "cell_type": "markdown",
   "metadata": {},
   "source": [
    "Both `fromiter` and `fromjson` are implemented using `FillableArray`, the latter using the RapidJSON C++ library for deserialization."
   ]
  },
  {
   "cell_type": "code",
   "execution_count": 50,
   "metadata": {},
   "outputs": [],
   "source": [
    "# !wget https://scikit-hep.org/uproot/examples/HZZ.json"
   ]
  },
  {
   "cell_type": "code",
   "execution_count": 51,
   "metadata": {},
   "outputs": [
    {
     "data": {
      "text/plain": [
       "<Array [{jets: [], ... weight: 0.00876}] type='2421 * {\"jets\": var * {\"px\": floa...'>"
      ]
     },
     "execution_count": 51,
     "metadata": {},
     "output_type": "execute_result"
    }
   ],
   "source": [
    "hzz = ak.fromjson(\"HZZ.json\")\n",
    "hzz"
   ]
  },
  {
   "cell_type": "code",
   "execution_count": 52,
   "metadata": {},
   "outputs": [
    {
     "name": "stdout",
     "output_type": "stream",
     "text": [
      "jets               2421 * var * {\"px\": float64, \"py\": float64, \"pz\": float64, \"E\": float64, \"id\": bool}\n",
      "muons              2421 * var * {\"px\": float64, \"py\": float64, \"pz\": float64, \"E\": float64, \"q\": int64, \"iso\": float64}\n",
      "electrons          2421 * var * {\"px\": float64, \"py\": float64, \"pz\": float64, \"E\": float64, \"q\": int64, \"iso\": float64}\n",
      "photons            2421 * var * {\"px\": float64, \"py\": float64, \"pz\": float64, \"E\": float64, \"iso\": float64}\n",
      "MET                2421 * {\"x\": float64, \"y\": float64}\n",
      "MC_hadronic_b      2421 * {\"px\": float64, \"py\": float64, \"pz\": float64}\n",
      "MC_leptonic_b      2421 * {\"px\": float64, \"py\": float64, \"pz\": float64}\n",
      "MC_hadronicW_q     2421 * {\"px\": float64, \"py\": float64, \"pz\": float64}\n",
      "MC_hadronicW_qbar  2421 * {\"px\": float64, \"py\": float64, \"pz\": float64}\n",
      "MC_lepton          2421 * {\"px\": float64, \"py\": float64, \"pz\": float64, \"pdgid\": int64}\n",
      "MC_neutrino        2421 * {\"px\": float64, \"py\": float64, \"pz\": float64}\n",
      "num_PV             2421 * int64\n",
      "trigger_isomu24    2421 * bool\n",
      "weight             2421 * float64\n"
     ]
    }
   ],
   "source": [
    "for key in hzz.layout.keys():\n",
    "    print(\"{:18s} {}\".format(key, hzz[key].type))"
   ]
  },
  {
   "cell_type": "markdown",
   "metadata": {},
   "source": [
    "The loop over Python objects or JSON nodes was moved from Python into C++, so it's faster. However, the implementation requires vtable-lookups (the type is discovered at runtime), so it's not _a lot_ faster. There's room for specialized methods when the type is known in advance. (See [src/libawkward/io/root.cpp](https://github.com/scikit-hep/awkward-1.0/blob/master/src/libawkward/io/root.cpp) for a ${\\tt vector}^N{\\tt<number>}$ implementation.)\n",
    "\n",
    "In general, turning rowwise data into columnar data is about 10× to 20× faster than it used to be."
   ]
  },
  {
   "cell_type": "code",
   "execution_count": 53,
   "metadata": {},
   "outputs": [],
   "source": [
    "import awkward as oldawkward\n",
    "import json\n",
    "asjson = open(\"HZZ.json\").read()\n",
    "aslist = json.load(open(\"HZZ.json\"))"
   ]
  },
  {
   "cell_type": "code",
   "execution_count": 54,
   "metadata": {},
   "outputs": [
    {
     "name": "stdout",
     "output_type": "stream",
     "text": [
      "409 ms ± 11 ms per loop (mean ± std. dev. of 7 runs, 1 loop each)\n"
     ]
    }
   ],
   "source": [
    "%%timeit\n",
    "\n",
    "oldawkward.fromiter(aslist)"
   ]
  },
  {
   "cell_type": "code",
   "execution_count": 55,
   "metadata": {},
   "outputs": [
    {
     "name": "stdout",
     "output_type": "stream",
     "text": [
      "40.8 ms ± 1.13 ms per loop (mean ± std. dev. of 7 runs, 10 loops each)\n"
     ]
    }
   ],
   "source": [
    "%%timeit\n",
    "\n",
    "ak.fromiter(aslist)"
   ]
  },
  {
   "cell_type": "code",
   "execution_count": 56,
   "metadata": {},
   "outputs": [
    {
     "name": "stdout",
     "output_type": "stream",
     "text": [
      "522 ms ± 32.9 ms per loop (mean ± std. dev. of 7 runs, 1 loop each)\n"
     ]
    }
   ],
   "source": [
    "%%timeit\n",
    "\n",
    "oldawkward.fromiter(json.loads(asjson))"
   ]
  },
  {
   "cell_type": "code",
   "execution_count": 57,
   "metadata": {},
   "outputs": [
    {
     "name": "stdout",
     "output_type": "stream",
     "text": [
      "28.6 ms ± 2.14 ms per loop (mean ± std. dev. of 7 runs, 10 loops each)\n"
     ]
    }
   ],
   "source": [
    "%%timeit\n",
    "\n",
    "ak.fromjson(asjson)"
   ]
  },
  {
   "cell_type": "markdown",
   "metadata": {},
   "source": [
    "## Awkward arrays in Numba\n",
    "\n",
    "One of the motivating goals of the Awkward re-write was to incorporate Numba on the same footing."
   ]
  },
  {
   "cell_type": "code",
   "execution_count": 58,
   "metadata": {},
   "outputs": [],
   "source": [
    "import numba\n",
    "\n",
    "@numba.jit(nopython=True)\n",
    "def muon_sumpt(events):\n",
    "    out = np.zeros(len(events), np.float64)\n",
    "    i = 0\n",
    "    for event in events:\n",
    "        for muon in event[\"muons\"]:\n",
    "            out[i] += np.sqrt(muon[\"px\"]**2 + muon[\"py\"]**2)\n",
    "        i += 1\n",
    "    return out"
   ]
  },
  {
   "cell_type": "code",
   "execution_count": 59,
   "metadata": {},
   "outputs": [
    {
     "data": {
      "text/plain": [
       "array([91.91225969, 24.41791248, 83.40026411, ..., 33.46153652,\n",
       "       63.61981771, 42.93994828])"
      ]
     },
     "execution_count": 59,
     "metadata": {},
     "output_type": "execute_result"
    }
   ],
   "source": [
    "muon_sumpt(hzz.layout)"
   ]
  },
  {
   "cell_type": "markdown",
   "metadata": {},
   "source": [
    "Notice that we can write for loops on event _records_ and muon _records_—we don't have to take apart `JaggedArrays` and write algorithms on offsets and indexes.\n",
    "\n",
    "My first version of the above raised segfaults because the `i += 1` was in the inner loop, rather than the outer loop (indentation error). Since it's Numba, I could debug it by running the pure Python version."
   ]
  },
  {
   "cell_type": "code",
   "execution_count": 60,
   "metadata": {},
   "outputs": [
    {
     "data": {
      "text/plain": [
       "<function __main__.muon_sumpt(events)>"
      ]
     },
     "execution_count": 60,
     "metadata": {},
     "output_type": "execute_result"
    }
   ],
   "source": [
    "muon_sumpt.py_func"
   ]
  },
  {
   "cell_type": "code",
   "execution_count": 61,
   "metadata": {},
   "outputs": [
    {
     "data": {
      "text/plain": [
       "array([91.91225969, 24.41791248, 83.40026411, ..., 33.46153652,\n",
       "       63.61981771, 42.93994828])"
      ]
     },
     "execution_count": 61,
     "metadata": {},
     "output_type": "execute_result"
    }
   ],
   "source": [
    "muon_sumpt.py_func(hzz.layout)"
   ]
  },
  {
   "cell_type": "code",
   "execution_count": 62,
   "metadata": {},
   "outputs": [
    {
     "name": "stdout",
     "output_type": "stream",
     "text": [
      "9.78 ms ± 864 µs per loop (mean ± std. dev. of 7 runs, 100 loops each)\n"
     ]
    }
   ],
   "source": [
    "%%timeit\n",
    "\n",
    "muon_sumpt(hzz.layout)"
   ]
  },
  {
   "cell_type": "code",
   "execution_count": 63,
   "metadata": {},
   "outputs": [
    {
     "name": "stdout",
     "output_type": "stream",
     "text": [
      "210 ms ± 9.5 ms per loop (mean ± std. dev. of 7 runs, 1 loop each)\n"
     ]
    }
   ],
   "source": [
    "%%timeit\n",
    "\n",
    "muon_sumpt.py_func(hzz.layout)"
   ]
  },
  {
   "cell_type": "markdown",
   "metadata": {},
   "source": [
    "So, a 20× speedup over Python without changing any code. Debug in Python, accelerate with Numba."
   ]
  },
  {
   "cell_type": "markdown",
   "metadata": {},
   "source": [
    "Awkward arrays could be a benefit to Numba users in general: Numba can handle complex data types by converting Python objects to and from equivalent structs, but that puts a translation burden at the entry and exit of every Numba function. Awkward leaves the data in the same form (big array buffers), transforming only its handles to the data. JSON → Awkward arrays → Numba could become an important workflow."
   ]
  },
  {
   "cell_type": "markdown",
   "metadata": {},
   "source": [
    "## FillableArray in Numba\n",
    "\n",
    "The example above took an Awkward array into a Numba function and did some processing on it. To write data out, we can use `FillableArrays`."
   ]
  },
  {
   "cell_type": "code",
   "execution_count": 64,
   "metadata": {},
   "outputs": [],
   "source": [
    "@numba.jit(nopython=True)\n",
    "def make_data(builder):\n",
    "    for i in range(10):\n",
    "        builder.beginrecord()\n",
    "\n",
    "        builder.field(\"x\")\n",
    "        builder.real(i*1.1)\n",
    "\n",
    "        builder.field(\"y\")\n",
    "        builder.beginlist()\n",
    "        for j in range(i):\n",
    "            builder.integer(j)\n",
    "        builder.endlist()\n",
    "\n",
    "        builder.endrecord()\n",
    "\n",
    "    return builder"
   ]
  },
  {
   "cell_type": "code",
   "execution_count": 65,
   "metadata": {},
   "outputs": [
    {
     "data": {
      "text/plain": [
       "<FillableArray length=\"10\" type=\"{\"x\": float64, \"y\": var * int64}\"/>"
      ]
     },
     "execution_count": 65,
     "metadata": {},
     "output_type": "execute_result"
    }
   ],
   "source": [
    "builder = ak.layout.FillableArray()\n",
    "make_data(builder)"
   ]
  },
  {
   "cell_type": "code",
   "execution_count": 66,
   "metadata": {},
   "outputs": [
    {
     "data": {
      "text/plain": [
       "<RecordArray>\n",
       "    <type>{\"x\": float64, \"y\": var * int64}</type>\n",
       "    <field index=\"0\" key=\"x\">\n",
       "        <NumpyArray format=\"d\" shape=\"10\" data=\"0 1.1 2.2 3.3 4.4 5.5 6.6 7.7 8.8 9.9\" at=\"0x564892858680\">\n",
       "            <type>float64</type>\n",
       "        </NumpyArray>\n",
       "    </field>\n",
       "    <field index=\"1\" key=\"y\">\n",
       "        <ListOffsetArray64>\n",
       "            <type>var * int64</type>\n",
       "            <offsets><Index64 i=\"[0 0 1 3 6 ... 15 21 28 36 45]\" offset=\"0\" at=\"0x564892863e90\"/></offsets>\n",
       "            <content><NumpyArray format=\"l\" shape=\"45\" data=\"0 0 1 0 1 ... 4 5 6 7 8\" at=\"0x564891bb1200\">\n",
       "                <type>int64</type>\n",
       "            </NumpyArray></content>\n",
       "        </ListOffsetArray64>\n",
       "    </field>\n",
       "</RecordArray>"
      ]
     },
     "execution_count": 66,
     "metadata": {},
     "output_type": "execute_result"
    }
   ],
   "source": [
    "builder.snapshot()"
   ]
  },
  {
   "cell_type": "code",
   "execution_count": 67,
   "metadata": {},
   "outputs": [
    {
     "data": {
      "text/plain": [
       "[{'x': 0.0, 'y': []},\n",
       " {'x': 1.1, 'y': [0]},\n",
       " {'x': 2.2, 'y': [0, 1]},\n",
       " {'x': 3.3000000000000003, 'y': [0, 1, 2]},\n",
       " {'x': 4.4, 'y': [0, 1, 2, 3]},\n",
       " {'x': 5.5, 'y': [0, 1, 2, 3, 4]},\n",
       " {'x': 6.6000000000000005, 'y': [0, 1, 2, 3, 4, 5]},\n",
       " {'x': 7.700000000000001, 'y': [0, 1, 2, 3, 4, 5, 6]},\n",
       " {'x': 8.8, 'y': [0, 1, 2, 3, 4, 5, 6, 7]},\n",
       " {'x': 9.9, 'y': [0, 1, 2, 3, 4, 5, 6, 7, 8]}]"
      ]
     },
     "execution_count": 67,
     "metadata": {},
     "output_type": "execute_result"
    }
   ],
   "source": [
    "ak.tolist(builder.snapshot())"
   ]
  },
  {
   "cell_type": "markdown",
   "metadata": {},
   "source": [
    "Since you can walk over data structures and create data structures (and later, assign fields to datasets like the old `Table`), you have complete freedom to manipulate data\n",
    "\n",
    "   * at compiled-code speeds,\n",
    "   * without having to leave the Python environment,\n",
    "   * without having to rethink your algorithm in terms of array-at-a-time functions.\n",
    "\n",
    "(Of course, you'll have the array-at-a-time functions, too.)"
   ]
  },
  {
   "cell_type": "markdown",
   "metadata": {},
   "source": [
    "## Awkward arrays in C++\n",
    "\n",
    "Since everything has been implemented in C++, Awkward 1.0 can be used in C++ programs. More importantly, we will (someday) be able to create Awkward arrays in C++ and access them in Python or vice-versa."
   ]
  },
  {
   "cell_type": "code",
   "execution_count": 68,
   "metadata": {},
   "outputs": [
    {
     "data": {
      "text/plain": [
       "672"
      ]
     },
     "execution_count": 68,
     "metadata": {},
     "output_type": "execute_result"
    }
   ],
   "source": [
    "open(\"test-program.cpp\", \"w\").write(\"\"\"\n",
    "\n",
    "#include <iostream>\n",
    "\n",
    "#include \"awkward/fillable/FillableArray.h\"\n",
    "#include \"awkward/fillable/FillableOptions.h\"\n",
    "\n",
    "namespace ak = awkward;\n",
    "\n",
    "int main(int, char**) {\n",
    "  ak::FillableArray builder(ak::FillableOptions(1024, 2.0));\n",
    "  for (int i = 0;  i < 10;  i++) {\n",
    "    builder.beginrecord();\n",
    "\n",
    "    builder.field_fast(\"x\");    // (field_fast means don't check the whole string, just its pointer)\n",
    "    builder.real(i*1.1);\n",
    "\n",
    "    builder.field_fast(\"y\");\n",
    "    builder.beginlist();\n",
    "    for (int j = 0;  j < i;  j++) {\n",
    "      builder.integer(j);\n",
    "    }\n",
    "    builder.endlist();\n",
    "\n",
    "    builder.endrecord();\n",
    "  }\n",
    "  \n",
    "  std::cout << builder.snapshot()->tojson(false, 1) << std::endl;\n",
    "  return 0;\n",
    "}\n",
    "\"\"\")"
   ]
  },
  {
   "cell_type": "code",
   "execution_count": 69,
   "metadata": {},
   "outputs": [
    {
     "name": "stdout",
     "output_type": "stream",
     "text": [
      "\u001b[38;5;136m#\u001b[39m\u001b[38;5;136minclude\u001b[39m \u001b[38;5;66m<iostream>\u001b[39m\n",
      "\n",
      "\u001b[38;5;136m#\u001b[39m\u001b[38;5;136minclude\u001b[39m \u001b[38;5;66m\"awkward/fillable/FillableArray.h\"\u001b[39m\n",
      "\u001b[38;5;136m#\u001b[39m\u001b[38;5;136minclude\u001b[39m \u001b[38;5;66m\"awkward/fillable/FillableOptions.h\"\u001b[39m\n",
      "\n",
      "\u001b[38;5;28;01mnamespace\u001b[39;00m ak \u001b[38;5;241m=\u001b[39m awkward;\n",
      "\n",
      "\u001b[38;5;125mint\u001b[39m \u001b[38;5;21mmain\u001b[39m(\u001b[38;5;125mint\u001b[39m, \u001b[38;5;125mchar\u001b[39m\u001b[38;5;241m*\u001b[39m\u001b[38;5;241m*\u001b[39m) {\n",
      "  ak\u001b[38;5;241m:\u001b[39m\u001b[38;5;241m:\u001b[39mFillableArray builder(ak\u001b[38;5;241m:\u001b[39m\u001b[38;5;241m:\u001b[39mFillableOptions(\u001b[38;5;241m1024\u001b[39m, \u001b[38;5;241m2.0\u001b[39m));\n",
      "  \u001b[38;5;28;01mfor\u001b[39;00m (\u001b[38;5;125mint\u001b[39m i \u001b[38;5;241m=\u001b[39m \u001b[38;5;241m0\u001b[39m;  i \u001b[38;5;241m<\u001b[39m \u001b[38;5;241m10\u001b[39m;  i\u001b[38;5;241m+\u001b[39m\u001b[38;5;241m+\u001b[39m) {\n",
      "    builder.beginrecord();\n",
      "\n",
      "    builder.field_fast(\u001b[38;5;124m\"\u001b[39m\u001b[38;5;124mx\u001b[39m\u001b[38;5;124m\"\u001b[39m);    \u001b[38;5;66m// (field_fast means don't check the whole string, just its pointer)\u001b[39m\n",
      "    builder.real(i\u001b[38;5;241m*\u001b[39m\u001b[38;5;241m1.1\u001b[39m);\n",
      "\n",
      "    builder.field_fast(\u001b[38;5;124m\"\u001b[39m\u001b[38;5;124my\u001b[39m\u001b[38;5;124m\"\u001b[39m);\n",
      "    builder.beginlist();\n",
      "    \u001b[38;5;28;01mfor\u001b[39;00m (\u001b[38;5;125mint\u001b[39m j \u001b[38;5;241m=\u001b[39m \u001b[38;5;241m0\u001b[39m;  j \u001b[38;5;241m<\u001b[39m i;  j\u001b[38;5;241m+\u001b[39m\u001b[38;5;241m+\u001b[39m) {\n",
      "      builder.integer(j);\n",
      "    }\n",
      "    builder.endlist();\n",
      "\n",
      "    builder.endrecord();\n",
      "  }\n",
      "  \n",
      "  std\u001b[38;5;241m:\u001b[39m\u001b[38;5;241m:\u001b[39mcout \u001b[38;5;241m<\u001b[39m\u001b[38;5;241m<\u001b[39m builder.snapshot()\u001b[38;5;241m-\u001b[39m\u001b[38;5;241m>\u001b[39mtojson(\u001b[38;5;28mfalse\u001b[39m, \u001b[38;5;241m1\u001b[39m) \u001b[38;5;241m<\u001b[39m\u001b[38;5;241m<\u001b[39m std\u001b[38;5;241m:\u001b[39m\u001b[38;5;241m:\u001b[39mendl;\n",
      "  \u001b[38;5;28;01mreturn\u001b[39;00m \u001b[38;5;241m0\u001b[39m;\n",
      "}\n",
      "\n"
     ]
    }
   ],
   "source": [
    "import pygments.formatters\n",
    "import pygments.lexers.c_cpp\n",
    "print(pygments.highlight(open(\"test-program.cpp\").read(),\n",
    "                         pygments.lexers.c_cpp.CppLexer(),\n",
    "                         pygments.formatters.Terminal256Formatter()))"
   ]
  },
  {
   "cell_type": "code",
   "execution_count": 70,
   "metadata": {},
   "outputs": [],
   "source": [
    "!g++ -I../../include -L../../awkward1 test-program.cpp -lawkward-static -lawkward-cpu-kernels-static -o test-program"
   ]
  },
  {
   "cell_type": "code",
   "execution_count": 71,
   "metadata": {},
   "outputs": [
    {
     "name": "stdout",
     "output_type": "stream",
     "text": [
      "[{\"x\":0.0,\"y\":[]},{\"x\":1.1,\"y\":[0]},{\"x\":2.2,\"y\":[0,1]},{\"x\":3.3,\"y\":[0,1,2]},{\"x\":4.4,\"y\":[0,1,2,3]},{\"x\":5.5,\"y\":[0,1,2,3,4]},{\"x\":6.6,\"y\":[0,1,2,3,4,5]},{\"x\":7.7,\"y\":[0,1,2,3,4,5,6]},{\"x\":8.8,\"y\":[0,1,2,3,4,5,6,7]},{\"x\":9.9,\"y\":[0,1,2,3,4,5,6,7,8]}]\n"
     ]
    }
   ],
   "source": [
    "!./test-program"
   ]
  },
  {
   "cell_type": "markdown",
   "metadata": {},
   "source": [
    "## Identities: database-like index for arrays\n",
    "\n",
    "In the [PartiQL toy language](https://github.com/jpivarski/PartiQL#readme), it became apparent that set operations, in which unique records are identified by reference, rather than by value, are important. They provide such operations as joins and lossless unions.\n",
    "\n",
    "No set operations have been implemented, but implementing them will require an index that tracks particle identities through all other operations. This concept of an index is the primary distinction between an array library like NumPy and a relational library like Pandas. In Awkward, this index is called an `Identity` and can optionally be attached to arrays.\n",
    "\n",
    "**Note:** this interface is the most likely to change. Identities have only been implemented at this early stage so that they don't have to be painfully retrofitted later."
   ]
  },
  {
   "cell_type": "code",
   "execution_count": 80,
   "metadata": {},
   "outputs": [],
   "source": [
    "hzzlayout = ak.fromjson(\"HZZ.json\").layout"
   ]
  },
  {
   "cell_type": "code",
   "execution_count": 81,
   "metadata": {},
   "outputs": [
    {
     "data": {
      "text/plain": [
       "<Identity32 ref=\"5\" fieldloc=\"[]\" width=\"1\" offset=\"0\" length=\"2421\" at=\"0x564890270540\"/>"
      ]
     },
     "execution_count": 81,
     "metadata": {},
     "output_type": "execute_result"
    }
   ],
   "source": [
    "hzzlayout.setid()\n",
    "hzzlayout.id"
   ]
  },
  {
   "cell_type": "code",
   "execution_count": 88,
   "metadata": {},
   "outputs": [
    {
     "data": {
      "text/plain": [
       "<Identity64 ref=\"7\" fieldloc=\"[(0, 'muons') (1, 'px')]\" width=\"2\" offset=\"0\" length=\"3825\" at=\"0x5648900cc5f0\"/>"
      ]
     },
     "execution_count": 88,
     "metadata": {},
     "output_type": "execute_result"
    }
   ],
   "source": [
    "hzzlayout.field(\"muons\").content.field(\"px\").id"
   ]
  },
  {
   "cell_type": "code",
   "execution_count": 89,
   "metadata": {},
   "outputs": [
    {
     "data": {
      "text/plain": [
       "array([[   0,    0],\n",
       "       [   0,    1],\n",
       "       [   1,    0],\n",
       "       ...,\n",
       "       [2418,    0],\n",
       "       [2419,    0],\n",
       "       [2420,    0]], dtype=int64)"
      ]
     },
     "execution_count": 89,
     "metadata": {},
     "output_type": "execute_result"
    }
   ],
   "source": [
    "np.asarray(hzzlayout.field(\"muons\").content.field(\"px\").id)"
   ]
  },
  {
   "cell_type": "markdown",
   "metadata": {},
   "source": [
    "An `Identity` is a 2-dimensional array with the same structure as a Pandas row `MultiIndex` with a `fieldloc` for the nested columns. They're equivalent to paths from root (wherever you called `setid`) to the element in question."
   ]
  },
  {
   "cell_type": "code",
   "execution_count": 91,
   "metadata": {},
   "outputs": [
    {
     "data": {
      "text/plain": [
       "(1000, 'muons', 1)"
      ]
     },
     "execution_count": 91,
     "metadata": {},
     "output_type": "execute_result"
    }
   ],
   "source": [
    "hzzlayout[1000, \"muons\", 1].location"
   ]
  },
  {
   "cell_type": "markdown",
   "metadata": {},
   "source": [
    "As a nice side-effect of having indexes, we can give better error messages about where an indexing error occurs. You might use `Identities` just for debugging."
   ]
  },
  {
   "cell_type": "code",
   "execution_count": 84,
   "metadata": {},
   "outputs": [
    {
     "name": "stdout",
     "output_type": "stream",
     "text": [
      "in ListArray64 at id[1000, \"muons\"] attempting to get 2, index out of range\n"
     ]
    }
   ],
   "source": [
    "# Indexing error with an Identity:\n",
    "try:\n",
    "    hzzlayout[1000, \"muons\", 2]\n",
    "except Exception as err:\n",
    "    print(err)"
   ]
  },
  {
   "cell_type": "code",
   "execution_count": 92,
   "metadata": {},
   "outputs": [
    {
     "name": "stdout",
     "output_type": "stream",
     "text": [
      "in ListArray64 attempting to get 2, index out of range\n"
     ]
    }
   ],
   "source": [
    "# Indexing error without an Identity:\n",
    "try:\n",
    "    ak.fromjson(\"HZZ.json\").layout[1000, \"muons\", 2]\n",
    "except Exception as err:\n",
    "    print(err)"
   ]
  },
  {
   "cell_type": "markdown",
   "metadata": {},
   "source": [
    "When the array goes through any kind of transformation, such as the boolean filter below, the `Identity` is similarly selected."
   ]
  },
  {
   "cell_type": "code",
   "execution_count": 113,
   "metadata": {},
   "outputs": [
    {
     "data": {
      "text/plain": [
       "array([False, False, False, ..., False, False, False])"
      ]
     },
     "execution_count": 113,
     "metadata": {},
     "output_type": "execute_result"
    }
   ],
   "source": [
    "mask = np.random.randint(0, 100, len(hzzlayout)) == 0\n",
    "mask"
   ]
  },
  {
   "cell_type": "code",
   "execution_count": 114,
   "metadata": {},
   "outputs": [
    {
     "data": {
      "text/plain": [
       "array([[  17],\n",
       "       [ 192],\n",
       "       [ 366],\n",
       "       [ 492],\n",
       "       [ 494],\n",
       "       [ 711],\n",
       "       [ 743],\n",
       "       [ 868],\n",
       "       [1094],\n",
       "       [1121],\n",
       "       [1281],\n",
       "       [1354],\n",
       "       [1368],\n",
       "       [1399],\n",
       "       [1614],\n",
       "       [1630],\n",
       "       [1666],\n",
       "       [1718],\n",
       "       [1824],\n",
       "       [2218]], dtype=int32)"
      ]
     },
     "execution_count": 114,
     "metadata": {},
     "output_type": "execute_result"
    }
   ],
   "source": [
    "selected = hzzlayout[mask]\n",
    "np.asarray(selected.id)"
   ]
  },
  {
   "cell_type": "markdown",
   "metadata": {},
   "source": [
    "In this way, the `Identity` acts as a set of labels that are permanently glued to the array elements."
   ]
  }
 ],
 "metadata": {
  "kernelspec": {
   "display_name": "Python 3",
   "language": "python",
   "name": "python3"
  },
  "language_info": {
   "codemirror_mode": {
    "name": "ipython",
    "version": 3
   },
   "file_extension": ".py",
   "mimetype": "text/x-python",
   "name": "python",
   "nbconvert_exporter": "python",
   "pygments_lexer": "ipython3",
   "version": "3.7.3"
  }
 },
 "nbformat": 4,
 "nbformat_minor": 4
}
