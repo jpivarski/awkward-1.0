{
 "cells": [
  {
   "cell_type": "markdown",
   "id": "90cb2418",
   "metadata": {},
   "source": [
    "How to use Awkward Arrays in Numba's CUDA target\n",
    "================================================\n",
    "\n",
    "Awkward Array defines extentions to the Numba compiler so that Numba can understand Awkward Array types, and use them to generate efficient compiled code for execution on GPUs or multicore CPUs. The programming effort required is as simple as adding a function decorator to instruct Numba to compile for the GPU."
   ]
  },
  {
   "cell_type": "code",
   "execution_count": 1,
   "id": "a87d01b8",
   "metadata": {},
   "outputs": [],
   "source": [
    "import numpy as np\n",
    "import awkward as ak\n",
    "import numba\n",
    "from numba import cuda\n",
    "import cupy as cp"
   ]
  },
  {
   "cell_type": "markdown",
   "id": "84394395",
   "metadata": {},
   "source": [
    "The Numba entry point registration happens too late for the Awkward CUDA extention, that is why we need to register it manually:"
   ]
  },
  {
   "cell_type": "code",
   "execution_count": 2,
   "id": "97f90216",
   "metadata": {},
   "outputs": [],
   "source": [
    "ak.numba.register_and_check()"
   ]
  },
  {
   "cell_type": "markdown",
   "id": "39b1877e",
   "metadata": {},
   "source": [
    "Note, CUDA has an execution model unlike the traditional sequential model used for programming CPUs. In CUDA, the code you write will be executed by multiple threads at once (often hundreds or thousands). Your solution will be modeled by defining a thread hierarchy of grid, blocks, and threads."
   ]
  },
  {
   "cell_type": "code",
   "execution_count": 3,
   "id": "657a8213",
   "metadata": {},
   "outputs": [],
   "source": [
    "blockspergrid = (128, 128)\n",
    "threadsperblock = (32, 32)"
   ]
  },
  {
   "cell_type": "markdown",
   "id": "d58110f5",
   "metadata": {},
   "source": [
    "Writing CUDA kernels that understand Awkward Array types \n",
    "--------------------------------------------------------\n",
    "\n",
    "The `@cuda.jit` decorator is used to create a CUDA kernel. A kernel function is a GPU function that is meant to be called from CPU code. To understand Awkward Array types the decorator extensions must include an `ak.numba.cuda` object that prepares the `ak.Array` arguments to be passed into Numba’s default argument marshalling logic."
   ]
  },
  {
   "cell_type": "code",
   "execution_count": 4,
   "id": "92c3f5f3",
   "metadata": {},
   "outputs": [],
   "source": [
    "@cuda.jit(extensions=[ak.numba.cuda])\n",
    "def average(out, array):\n",
    "    tid = cuda.grid(1)\n",
    "    if tid < len(array):\n",
    "        out[tid] = 0\n",
    "        for i in range(len(array[tid])):\n",
    "            out[tid] = out[tid] + array[tid][i]/len(array[tid])"
   ]
  },
  {
   "cell_type": "markdown",
   "id": "cc14493f",
   "metadata": {},
   "source": [
    "The kernels cannot explicitly return a value. The result data must be written to an `out` array passed to the function (if computing a scalar, you will probably pass a one-element array).\n",
    "\n",
    "The kernels explicitly declare their thread hierarchy when called: i.e. the number of thread blocks and the number of threads per block (note that while a kernel is compiled once, it can be called multiple times with different block sizes or grid sizes). The `tid` is the absolute position of the current thread in the entire grid of blocks.\n",
    "\n",
    "Memory management\n",
    "-----------------\n",
    "\n",
    "It is a user responsibility to allocate and manage memory, for example, transferring device memory back to the host when a kernel finishes. The `ak.numba.cuda` extention only accepts `ak.Array` with a cuda backend. That way the array data are already on the device and do not need to be copied."
   ]
  },
  {
   "cell_type": "code",
   "execution_count": 5,
   "id": "03ab8a70",
   "metadata": {},
   "outputs": [],
   "source": [
    "counts = ak.Array(cp.random.poisson(1.5, 1000000))\n",
    "content = ak.Array(cp.random.normal(0, 45.0, int(ak.sum(counts))))\n",
    "array = ak.unflatten(content, counts)"
   ]
  },
  {
   "cell_type": "markdown",
   "id": "bc04225c",
   "metadata": {},
   "source": [
    "For all but the simplest algorithms, it is important that you carefully consider how to use and access memory in order to minimize bandwidth requirements and contention.\n",
    "\n",
    "Awkward Array can operate on CUDA-device arrays through the `cupy` library. Let's allocate the result array with `cp.empty`:"
   ]
  },
  {
   "cell_type": "code",
   "execution_count": 6,
   "id": "ee2bbd0e",
   "metadata": {},
   "outputs": [],
   "source": [
    "result = cp.empty(len(array), dtype=np.float32)"
   ]
  },
  {
   "cell_type": "markdown",
   "id": "b8c73eac",
   "metadata": {},
   "source": [
    "Kernel invocation\n",
    "-----------------\n",
    "\n",
    "Numba can use the CUDA array protocol (`__cuda_array_interface__`) to obtain a zero-copy reference to the CuPy array. We can launch a Numba kernel that operates upon our source `array` and target `result` as follows:"
   ]
  },
  {
   "cell_type": "code",
   "execution_count": 7,
   "id": "9816c766-d661-4c0b-9071-a36288c97dd5",
   "metadata": {
    "tags": []
   },
   "outputs": [],
   "source": [
    "average[blockspergrid, threadsperblock](result, array)"
   ]
  },
  {
   "cell_type": "markdown",
   "id": "c3378e84-e7e5-4e0b-b6ef-a1d6bc5b96f7",
   "metadata": {
    "tags": []
   },
   "source": [
    "The result matches our expectations:"
   ]
  },
  {
   "cell_type": "code",
   "execution_count": 8,
   "id": "5a0629fc",
   "metadata": {},
   "outputs": [],
   "source": [
    "cpu_array = ak.to_backend(array, \"cpu\")"
   ]
  },
  {
   "cell_type": "code",
   "execution_count": 9,
   "id": "c88d4dbd",
   "metadata": {},
   "outputs": [],
   "source": [
    "check_result = ak.mean(cpu_array, axis=-1)"
   ]
  },
  {
   "cell_type": "code",
   "execution_count": 10,
   "id": "05cfe072",
   "metadata": {},
   "outputs": [
    {
     "data": {
      "text/html": [
       "<pre>[True,\n",
       " True,\n",
       " True,\n",
       " True,\n",
       " False]\n",
       "--------------\n",
       "type: 5 * bool</pre>"
      ],
      "text/plain": [
       "<Array [True, True, True, True, False] type='5 * bool'>"
      ]
     },
     "execution_count": 10,
     "metadata": {},
     "output_type": "execute_result"
    }
   ],
   "source": [
    "ak.operations.isclose(check_result[0:5], ak.Array(result[0:5], backend=\"cpu\"))"
   ]
  },
  {
   "cell_type": "code",
   "execution_count": null,
   "id": "73dddc32",
   "metadata": {},
   "outputs": [],
   "source": []
  }
 ],
 "metadata": {
  "kernelspec": {
   "display_name": "Python 3 (ipykernel)",
   "language": "python",
   "name": "python3"
  },
  "language_info": {
   "codemirror_mode": {
    "name": "ipython",
    "version": 3
   },
   "file_extension": ".py",
   "mimetype": "text/x-python",
   "name": "python",
   "nbconvert_exporter": "python",
   "pygments_lexer": "ipython3",
   "version": "3.10.8"
  }
 },
 "nbformat": 4,
 "nbformat_minor": 5
}
