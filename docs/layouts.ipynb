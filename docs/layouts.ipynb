{
 "cells": [
  {
   "cell_type": "markdown",
   "metadata": {},
   "source": [
    "# Array node layouts\n",
    "\n",
    "This document describes, in a minimal way, each of the composable array layout nodes that collectively describe structured data in a columnar way.\n",
    "\n",
    "All of the constraints on allowed values in an Awkward Array are expressed here as assertions in `__init__`. The `random` constructors create a random valid array. The data structure is defined by its length `__len__`, its `__getitem__` behavior for integers, slices (without step), and string fields. Iteration with `__iter__` converts the columnar data into rowwise data."
   ]
  },
  {
   "cell_type": "markdown",
   "metadata": {},
   "source": [
    "## General structure\n",
    "\n",
    "Arrays are composed of [Content](https://github.com/scikit-hep/awkward-1.0/blob/master/include/awkward/Content.h) subclasses and integer arrays. Integer arrays (called [Index](https://github.com/scikit-hep/awkward-1.0/blob/master/include/awkward/Index.h)) determine the structure, but not the content of the data structure.\n",
    "\n",
    "We'll define a Content base class with some facilities that will be used by all subclasses."
   ]
  },
  {
   "cell_type": "code",
   "execution_count": 1,
   "metadata": {},
   "outputs": [],
   "source": [
    "class Content:\n",
    "    def __iter__(self):\n",
    "        \"Iterate over the data structure, converting columnar data into rowwise.\"\n",
    "        \n",
    "        def convert(x):\n",
    "            if isinstance(x, Content):\n",
    "                return list(x)\n",
    "            elif isinstance(x, tuple):\n",
    "                return tuple(convert(y) for y in x)\n",
    "            elif isinstance(x, dict):\n",
    "                return {n: convert(y) for n, y in x.items()}\n",
    "            else:\n",
    "                return x\n",
    "\n",
    "        for i in range(len(self)):\n",
    "            yield convert(self[i])\n",
    "\n",
    "    def __repr__(self):\n",
    "        \"Print an XML representation of the data.\"\n",
    "        \n",
    "        return self.tostring_part(\"\", \"\", \"\").rstrip()\n",
    "\n",
    "    @staticmethod\n",
    "    def random(minlen=0, choices=None):\n",
    "        \"Generate a random array from a set of possible classes.\"\n",
    "        \n",
    "        if choices is None:\n",
    "            choices = [x for x in globals().values() if isinstance(x, type) and issubclass(x, Content)]\n",
    "        else:\n",
    "            choices = list(choices)\n",
    "        if minlen != 0 and EmptyArray in choices:\n",
    "            choices.remove(EmptyArray)\n",
    "        assert len(choices) > 0\n",
    "        cls = random.choice(choices)\n",
    "        return cls.random(minlen, choices)"
   ]
  },
  {
   "cell_type": "markdown",
   "metadata": {},
   "source": [
    "These are some utilities for generating random data."
   ]
  },
  {
   "cell_type": "code",
   "execution_count": 2,
   "metadata": {},
   "outputs": [],
   "source": [
    "import math\n",
    "import random\n",
    "\n",
    "def random_number():\n",
    "    return round(random.gauss(5, 3), 1)\n",
    "\n",
    "def random_length(minlen=0, maxlen=None):\n",
    "    if maxlen is None:\n",
    "        return minlen + int(math.floor(random.expovariate(0.1)))\n",
    "    else:\n",
    "        return random.randint(minlen, maxlen)"
   ]
  },
  {
   "cell_type": "markdown",
   "metadata": {},
   "source": [
    "## Leaf nodes\n",
    "\n",
    "Only three types of nodes can terminate an array data structure: RawArray, NumpyArray, and EmptyArray."
   ]
  },
  {
   "cell_type": "markdown",
   "metadata": {},
   "source": [
    "### RawArray\n",
    "\n",
    "The [RawArray](https://github.com/scikit-hep/awkward-1.0/blob/master/include/awkward/array/RawArray.h) class is intended for use in C++. (Its implementation is is header-only and templated.) RawArray is defined by\n",
    "\n",
    "   * `ptr`: the data themselves, a raw buffer. It can contain anything; the RawArray is just wraps the data as a Content.\n",
    "\n",
    "If the type is a numerical type, a RawArray corresponds to an Apache Arrow [Primitive array](primitive-value-arrays)."
   ]
  },
  {
   "cell_type": "code",
   "execution_count": 3,
   "metadata": {},
   "outputs": [],
   "source": [
    "class RawArray(Content):\n",
    "    def __init__(self, ptr):\n",
    "        assert isinstance(ptr, list)\n",
    "        self.ptr = ptr\n",
    "\n",
    "    @staticmethod\n",
    "    def random(minlen=0, choices=None):\n",
    "        return RawArray([random_number() for i in range(random_length(minlen))])\n",
    "\n",
    "    def __len__(self):\n",
    "        return len(self.ptr)\n",
    "\n",
    "    def __getitem__(self, where):\n",
    "        if isinstance(where, int):\n",
    "            assert 0 <= where < len(self)\n",
    "            return self.ptr[where]\n",
    "        elif isinstance(where, slice) and where.step is None:\n",
    "            return RawArray(self.ptr[where])\n",
    "        else:\n",
    "            raise AssertionError(where)\n",
    "\n",
    "    def tostring_part(self, indent, pre, post):\n",
    "        out = indent + pre + \"<RawArray>\\n\"\n",
    "        out += indent + \"    <ptr>\" + \" \".join(repr(x) for x in self.ptr) + \"</ptr>\\n\"\n",
    "        out += indent + \"</RawArray>\" + post\n",
    "        return out"
   ]
  },
  {
   "cell_type": "markdown",
   "metadata": {},
   "source": [
    "Here is an example."
   ]
  },
  {
   "cell_type": "code",
   "execution_count": 7,
   "metadata": {},
   "outputs": [
    {
     "data": {
      "text/plain": [
       "<RawArray>\n",
       "    <ptr>4.2 6.8 3.1 3.4 7.6 9.4</ptr>\n",
       "</RawArray>"
      ]
     },
     "execution_count": 7,
     "metadata": {},
     "output_type": "execute_result"
    }
   ],
   "source": [
    "x = RawArray.random()\n",
    "x"
   ]
  },
  {
   "cell_type": "code",
   "execution_count": 8,
   "metadata": {},
   "outputs": [
    {
     "data": {
      "text/plain": [
       "[4.2, 6.8, 3.1, 3.4, 7.6, 9.4]"
      ]
     },
     "execution_count": 8,
     "metadata": {},
     "output_type": "execute_result"
    }
   ],
   "source": [
    "list(x)"
   ]
  },
  {
   "cell_type": "markdown",
   "metadata": {},
   "source": [
    "### NumpyArray\n",
    "\n",
    "The [NumpyArray](https://github.com/scikit-hep/awkward-1.0/blob/master/include/awkward/array/NumpyArray.h) class is more general, describing multidimensional data with\n",
    "\n",
    "   * `ptr`: the data themselves, a raw buffer.\n",
    "   * `shape`: non-negative integers, at least one. Each represents the number of components in a dimension; a `shape` of length _N_ represents an _N_ dimensional tensor. The number of items in the array is the product of all values in `shape` (may be zero).\n",
    "   * `strides`: the same number of integers as `shape`. The `strides` describes how many items in `ptr` to skip per element in a dimension. (Strides can be negative or zero.)\n",
    "   * `offset`: the number of items in `ptr` to skip before the first element of the array.\n",
    "\n",
    "In NumPy and Awkward, there is also\n",
    "\n",
    "   * `itemsize`: the number of bytes per item (i.e. 1 for characters, 4 for `int32`, 8 for `double` types).\n",
    "\n",
    "The `strides` and `offset` are measured in bytes, but in this simplified representation, we ignore this, assuming all items have `itemsize` of 1.\n",
    "\n",
    "If the `shape` is one-dimensional, a NumpyArray corresponds to an Apache Arrow [Primitive array](primitive-value-arrays)."
   ]
  },
  {
   "cell_type": "code",
   "execution_count": 9,
   "metadata": {},
   "outputs": [],
   "source": [
    "class NumpyArray(Content):\n",
    "    def __init__(self, ptr, shape, strides, offset):\n",
    "        assert isinstance(ptr, list)\n",
    "        assert isinstance(shape, list)\n",
    "        assert isinstance(strides, list)\n",
    "        for x in ptr:\n",
    "            assert isinstance(x, (bool, int, float))\n",
    "        assert len(shape) > 0\n",
    "        assert len(strides) == len(shape)\n",
    "        for x in shape:\n",
    "            assert isinstance(x, int)\n",
    "            assert x >= 0\n",
    "        for x in strides:\n",
    "            assert isinstance(x, int)\n",
    "        assert isinstance(offset, int)\n",
    "        if all(x != 0 for x in shape):\n",
    "            assert 0 <= offset < len(ptr)\n",
    "            assert shape[0] * strides[0] + offset <= len(ptr)\n",
    "        self.ptr = ptr\n",
    "        self.shape = shape\n",
    "        self.strides = strides\n",
    "        self.offset = offset\n",
    "\n",
    "    @staticmethod\n",
    "    def random(minlen=0, choices=None):\n",
    "        shape = [random_length(minlen)]\n",
    "        for i in range(random_length(0, 2)):\n",
    "            shape.append(random_length(1, 3))\n",
    "        strides = [1]\n",
    "        for x in shape[:0:-1]:\n",
    "            skip = random_length(0, 2)\n",
    "            strides.insert(0, x * strides[0] + skip)\n",
    "        offset = random_length()\n",
    "        ptr = [random_number() for i in range(shape[0] * strides[0] + offset)]\n",
    "        return NumpyArray(ptr, shape, strides, offset)\n",
    "\n",
    "    def __len__(self):\n",
    "        return self.shape[0]\n",
    "\n",
    "    def __getitem__(self, where):\n",
    "        if isinstance(where, int):\n",
    "            assert 0 <= where < len(self)\n",
    "            offset = self.offset + self.strides[0] * where\n",
    "            if len(self.shape) == 1:\n",
    "                return self.ptr[offset]\n",
    "            else:\n",
    "                return NumpyArray(self.ptr, self.shape[1:], self.strides[1:], offset)\n",
    "        elif isinstance(where, slice) and where.step is None:\n",
    "            offset = self.offset + self.strides[0] * where.start\n",
    "            shape = [where.stop - where.start] + self.shape[1:]\n",
    "            return NumpyArray(self.ptr, shape, self.strides, offset)\n",
    "        else:\n",
    "            raise AssertionError(where)\n",
    "\n",
    "    def tostring_part(self, indent, pre, post):\n",
    "        out = indent + pre + \"<NumpyArray>\\n\"\n",
    "        out += indent + \"    <ptr>\" + \" \".join(str(x) for x in self.ptr) + \"</ptr>\\n\"\n",
    "        out += indent + \"    <shape>\" + \" \".join(str(x) for x in self.shape) + \"</shape>\\n\"\n",
    "        out += indent + \"    <strides>\" + \" \".join(str(x) for x in self.strides) + \"</strides>\\n\"\n",
    "        out += indent + \"    <offset>\" + str(self.offset) + \"</offset>\\n\"\n",
    "        out += indent + \"</NumpyArray>\" + post\n",
    "        return out"
   ]
  },
  {
   "cell_type": "markdown",
   "metadata": {},
   "source": [
    "Here is an example."
   ]
  },
  {
   "cell_type": "code",
   "execution_count": 13,
   "metadata": {},
   "outputs": [
    {
     "data": {
      "text/plain": [
       "<NumpyArray>\n",
       "    <ptr>5.4 1.0 3.5 7.0 2.2 6.6</ptr>\n",
       "    <shape>2 2</shape>\n",
       "    <strides>2 1</strides>\n",
       "    <offset>2</offset>\n",
       "</NumpyArray>"
      ]
     },
     "execution_count": 13,
     "metadata": {},
     "output_type": "execute_result"
    }
   ],
   "source": [
    "x = NumpyArray.random()\n",
    "x"
   ]
  },
  {
   "cell_type": "code",
   "execution_count": 14,
   "metadata": {},
   "outputs": [
    {
     "data": {
      "text/plain": [
       "[[3.5, 7.0], [2.2, 6.6]]"
      ]
     },
     "execution_count": 14,
     "metadata": {},
     "output_type": "execute_result"
    }
   ],
   "source": [
    "list(x)"
   ]
  },
  {
   "cell_type": "markdown",
   "metadata": {},
   "source": [
    "### EmptyArray\n",
    "\n",
    "The [EmptyArray](https://github.com/scikit-hep/awkward-1.0/blob/master/include/awkward/array/EmptyArray.h) class is used whenever an array's type is not known because it is empty (when determining types from observed elements).\n",
    "\n",
    "EmptyArray has no equivalent in Apache Arrow."
   ]
  },
  {
   "cell_type": "code",
   "execution_count": 15,
   "metadata": {},
   "outputs": [],
   "source": [
    "class EmptyArray(Content):\n",
    "    def __init__(self):\n",
    "        pass\n",
    "\n",
    "    @staticmethod\n",
    "    def random(minlen=0, choices=None):\n",
    "        assert minlen == 0\n",
    "        return EmptyArray()\n",
    "\n",
    "    def __len__(self):\n",
    "        return 0\n",
    "\n",
    "    def __getitem__(self, where):\n",
    "        if isinstance(where, int):\n",
    "            assert False\n",
    "        elif isinstance(where, slice) and where.step is None:\n",
    "            return EmptyArray()\n",
    "        else:\n",
    "            raise AssertionError(where)\n",
    "\n",
    "    def tostring_part(self, indent, pre, post):\n",
    "        return indent + pre + \"<EmptyArray/>\" + post"
   ]
  },
  {
   "cell_type": "markdown",
   "metadata": {},
   "source": [
    "Here is an example."
   ]
  },
  {
   "cell_type": "code",
   "execution_count": 16,
   "metadata": {},
   "outputs": [
    {
     "data": {
      "text/plain": [
       "<EmptyArray/>"
      ]
     },
     "execution_count": 16,
     "metadata": {},
     "output_type": "execute_result"
    }
   ],
   "source": [
    "x = EmptyArray.random()\n",
    "x"
   ]
  },
  {
   "cell_type": "code",
   "execution_count": 17,
   "metadata": {},
   "outputs": [
    {
     "data": {
      "text/plain": [
       "[]"
      ]
     },
     "execution_count": 17,
     "metadata": {},
     "output_type": "execute_result"
    }
   ],
   "source": [
    "list(x)"
   ]
  },
  {
   "cell_type": "markdown",
   "metadata": {},
   "source": [
    "## Arrays of lists\n",
    "\n",
    "Lists may have uniform lengths or unequal lengths. RegularArray describes the first case and ListOffsetArray and ListArray are two ways of describing the second case."
   ]
  },
  {
   "cell_type": "markdown",
   "metadata": {},
   "source": [
    "### RegularArray\n",
    "\n",
    "The [RegularArray](https://github.com/scikit-hep/awkward-1.0/blob/master/include/awkward/array/RegularArray.h) class describes lists that all have the same length, the single integer `size`. Its underlying `content` is a flattened view of the data—that is, each list is not stored separately in memory, but is inferred as a subinterval of the underlying data.\n",
    "\n",
    "If the `content` is not an integer multiple of `size`, then the length of the RegularArray is truncated to the largest integer multiple.\n",
    "\n",
    "A multidimensional NumpyArray is equivalent to a one-dimensional NumpyArray nested within several RegularArrays, one for each dimension. However, RegularArrays can be used to make lists of _any_ other type.\n",
    "\n",
    "RegularArray corresponds to an Apache Arrow [Tensor](https://arrow.apache.org/docs/python/generated/pyarrow.Tensor.html)."
   ]
  },
  {
   "cell_type": "code",
   "execution_count": 18,
   "metadata": {},
   "outputs": [],
   "source": [
    "class RegularArray(Content):\n",
    "    def __init__(self, content, size):\n",
    "        assert isinstance(content, Content)\n",
    "        assert isinstance(size, int)\n",
    "        assert size > 0\n",
    "        self.content = content\n",
    "        self.size = size\n",
    "\n",
    "    @staticmethod\n",
    "    def random(minlen=0, choices=None):\n",
    "        size = random_length(1, 5)\n",
    "        return RegularArray(Content.random(random_length(minlen) * size, choices), size)\n",
    "\n",
    "    def __len__(self):\n",
    "        return len(self.content) // self.size   # floor division\n",
    "\n",
    "    def __getitem__(self, where):\n",
    "        if isinstance(where, int):\n",
    "            return self.content[(where) * self.size:(where + 1) * self.size]\n",
    "        elif isinstance(where, slice) and where.step is None:\n",
    "            start = where.start * self.size\n",
    "            stop = where.stop * self.size\n",
    "            return RegularArray(self.content[start:stop], self.size)\n",
    "        else:\n",
    "            raise AssertionError(where)\n",
    "\n",
    "    def tostring_part(self, indent, pre, post):\n",
    "        out = indent + pre + \"<RegularArray>\\n\"\n",
    "        out += self.content.tostring_part(indent + \"    \", \"<content>\", \"</content>\\n\")\n",
    "        out += indent + \"    <size>\" + str(self.size) + \"</size>\\n\"\n",
    "        out += indent + \"</RegularArray>\" + post\n",
    "        return out"
   ]
  },
  {
   "cell_type": "markdown",
   "metadata": {},
   "source": [
    "Here is an example."
   ]
  },
  {
   "cell_type": "code",
   "execution_count": 25,
   "metadata": {},
   "outputs": [
    {
     "data": {
      "text/plain": [
       "<RegularArray>\n",
       "    <content><RawArray>\n",
       "        <ptr>2.1 5.0 3.9 4.4 7.9 8.8 7.8 3.4 3.8 5.1 7.5 5.7</ptr>\n",
       "    </RawArray></content>\n",
       "    <size>4</size>\n",
       "</RegularArray>"
      ]
     },
     "execution_count": 25,
     "metadata": {},
     "output_type": "execute_result"
    }
   ],
   "source": [
    "x = RegularArray.random(choices=[RawArray])\n",
    "x"
   ]
  },
  {
   "cell_type": "code",
   "execution_count": 26,
   "metadata": {},
   "outputs": [
    {
     "data": {
      "text/plain": [
       "[[2.1, 5.0, 3.9, 4.4], [7.9, 8.8, 7.8, 3.4], [3.8, 5.1, 7.5, 5.7]]"
      ]
     },
     "execution_count": 26,
     "metadata": {},
     "output_type": "execute_result"
    }
   ],
   "source": [
    "list(x)"
   ]
  },
  {
   "cell_type": "markdown",
   "metadata": {},
   "source": [
    "### ListOffsetArray\n",
    "\n",
    "The [ListOffsetArray](https://github.com/scikit-hep/awkward-1.0/blob/master/include/awkward/array/ListOffsetArray.h) class describes unequal-length lists (often called a \"jagged\" or \"ragged\" array). Like RegularArray, the underlying data for all lists are in a contiguous `content`. It is subdivided into lists according to an `offsets` array, which specifies the starting and stopping index of each list.\n",
    "\n",
    "The `offsets` must have at least length 1 (an empty array), but it need not start with zero or completely cover the `content`. Just as RegularArray can have unreachable `content` if it is not an integer multiple of `size`, a ListOffsetArray can have unreachable `content` before the first list and after the last list.\n",
    "\n",
    "ListOffsetArray corresponds to Apache Arrow [List type](https://arrow.apache.org/docs/memory_layout.html#list-type)."
   ]
  },
  {
   "cell_type": "code",
   "execution_count": 27,
   "metadata": {},
   "outputs": [],
   "source": [
    "class ListOffsetArray(Content):\n",
    "    def __init__(self, offsets, content):\n",
    "        assert isinstance(offsets, list)\n",
    "        assert isinstance(content, Content)\n",
    "        assert len(offsets) != 0\n",
    "        for i in range(len(offsets) - 1):\n",
    "            start = offsets[i]\n",
    "            stop = offsets[i + 1]\n",
    "            assert isinstance(start, int)\n",
    "            assert isinstance(stop, int)\n",
    "            if start != stop:\n",
    "                assert start < stop   # i.e. start <= stop\n",
    "                assert start >= 0\n",
    "                assert stop <= len(content)\n",
    "        self.offsets = offsets\n",
    "        self.content = content\n",
    "\n",
    "    @staticmethod\n",
    "    def random(minlen=0, choices=None):\n",
    "        counts = [random_length() for i in range(random_length(minlen))]\n",
    "        offsets = [random_length()]\n",
    "        for x in counts:\n",
    "            offsets.append(offsets[-1] + x)\n",
    "        return ListOffsetArray(offsets, Content.random(offsets[-1], choices))\n",
    "        \n",
    "    def __len__(self):\n",
    "        return len(self.offsets) - 1\n",
    "\n",
    "    def __getitem__(self, where):\n",
    "        if isinstance(where, int):\n",
    "            assert 0 <= where < len(self)\n",
    "            return self.content[self.offsets[where]:self.offsets[where + 1]]\n",
    "        elif isinstance(where, slice) and where.step is None:\n",
    "            offsets = self.offsets[where.start : where.stop + 1]\n",
    "            if len(offsets) == 0:\n",
    "                offsets = [0]\n",
    "            return ListOffsetArray(offsets, self.content)\n",
    "        else:\n",
    "            raise AssertionError(where)\n",
    "\n",
    "    def tostring_part(self, indent, pre, post):\n",
    "        out = indent + pre + \"<ListOffsetArray>\\n\"\n",
    "        out += indent + \"    <offsets>\" + \" \".join(str(x) for x in self.offsets) + \"</offsets>\\n\"\n",
    "        out += self.content.tostring_part(indent + \"    \", \"<content>\", \"</content>\\n\")\n",
    "        out += indent + \"</ListOffsetArray>\" + post\n",
    "        return out"
   ]
  },
  {
   "cell_type": "markdown",
   "metadata": {},
   "source": [
    "Here is an example."
   ]
  },
  {
   "cell_type": "code",
   "execution_count": 32,
   "metadata": {},
   "outputs": [
    {
     "data": {
      "text/plain": [
       "<ListOffsetArray>\n",
       "    <offsets>0 0 9 11</offsets>\n",
       "    <content><RawArray>\n",
       "        <ptr>7.7 5.1 -2.3 3.7 5.5 9.0 7.1 6.9 7.3 5.8 7.6 2.3 -0.4 8.2 8.1 5.3 3.4 2.0 -1.7 1.7 6.6 6.7 6.6 3.5 3.0 8.8 6.8 8.7 6.1 3.7 8.5 3.7 3.8 8.1</ptr>\n",
       "    </RawArray></content>\n",
       "</ListOffsetArray>"
      ]
     },
     "execution_count": 32,
     "metadata": {},
     "output_type": "execute_result"
    }
   ],
   "source": [
    "x = ListOffsetArray.random(choices=[RawArray])\n",
    "x"
   ]
  },
  {
   "cell_type": "code",
   "execution_count": 33,
   "metadata": {},
   "outputs": [
    {
     "data": {
      "text/plain": [
       "[[], [7.7, 5.1, -2.3, 3.7, 5.5, 9.0, 7.1, 6.9, 7.3], [5.8, 7.6]]"
      ]
     },
     "execution_count": 33,
     "metadata": {},
     "output_type": "execute_result"
    }
   ],
   "source": [
    "list(x)"
   ]
  },
  {
   "cell_type": "markdown",
   "metadata": {},
   "source": [
    "### ListArray\n",
    "\n",
    "The [ListArray](https://github.com/scikit-hep/awkward-1.0/blob/master/include/awkward/array/ListArray.h) class generalizes ListOffsetArray by not requiring its `content` to be in order or not have unreachable elements between lists. Instead of a single `offsets` array, ListArray has\n",
    "\n",
    "   * `starts`: the starting index of each list.\n",
    "   * `stops`: the stopping index of each list.\n",
    "\n",
    "ListOffsetArray's `offsets` may be related to `starts` and `stops`:\n",
    "\n",
    "```python\n",
    "starts = offsets[:-1]\n",
    "stops = offsets[1:]\n",
    "```\n",
    "\n",
    "ListArrays are a useful byproduct of structure manipulation: as a result of some operation, we might want to view slices or permutations of the `content` without copying it to make a contiguous version of it. For that reason, ListArrays are more useful in a data-manipulation library like Awkward Array than in a data-representation library like Apache Arrow. There is not equivalent of ListArray in Apache Arrow."
   ]
  },
  {
   "cell_type": "code",
   "execution_count": 34,
   "metadata": {},
   "outputs": [],
   "source": [
    "class ListArray(Content):\n",
    "    def __init__(self, starts, stops, content):\n",
    "        assert isinstance(starts, list)\n",
    "        assert isinstance(stops, list)\n",
    "        assert isinstance(content, Content)\n",
    "        assert len(stops) >= len(starts)   # usually equal\n",
    "        for i in range(len(starts)):\n",
    "            start = starts[i]\n",
    "            stop = stops[i]\n",
    "            assert isinstance(start, int)\n",
    "            assert isinstance(stop, int)\n",
    "            if start != stop:\n",
    "                assert start < stop   # i.e. start <= stop\n",
    "                assert start >= 0\n",
    "                assert stop <= len(content)\n",
    "        self.starts = starts\n",
    "        self.stops = stops\n",
    "        self.content = content\n",
    "\n",
    "    @staticmethod\n",
    "    def random(minlen=0, choices=None):\n",
    "        content = Content.random(0, choices)\n",
    "        length = random_length(minlen)\n",
    "        if len(content) == 0:\n",
    "            starts = [random.randint(0, 10) for i in range(length)]\n",
    "            stops = list(starts)\n",
    "        else:\n",
    "            starts = [random.randint(0, len(content) - 1) for i in range(length)]\n",
    "            stops = [x + min(random_length(), len(content) - x) for x in starts]\n",
    "        return ListArray(starts, stops, content)\n",
    "        \n",
    "    def __len__(self):\n",
    "        return len(self.starts)\n",
    "\n",
    "    def __getitem__(self, where):\n",
    "        if isinstance(where, int):\n",
    "            assert 0 <= where < len(self)\n",
    "            return self.content[self.starts[where]:self.stops[where]]\n",
    "        elif isinstance(where, slice) and where.step is None:\n",
    "            starts = self.starts[where.start:where.stop]\n",
    "            stops = self.stops[where.start:where.stop]\n",
    "            return ListArray(starts, stops, self.content)\n",
    "        else:\n",
    "            raise AssertionError(where)\n",
    "\n",
    "    def tostring_part(self, indent, pre, post):\n",
    "        out = indent + pre + \"<ListArray>\\n\"\n",
    "        out += indent + \"    <starts>\" + \" \".join(str(x) for x in self.starts) + \"</starts>\\n\"\n",
    "        out += indent + \"    <stops>\" + \" \".join(str(x) for x in self.stops) + \"</stops>\\n\"\n",
    "        out += self.content.tostring_part(indent + \"    \", \"<content>\", \"</content>\\n\")\n",
    "        out += indent + \"</ListArray>\" + post\n",
    "        return out"
   ]
  },
  {
   "cell_type": "markdown",
   "metadata": {},
   "source": [
    "Here is an example."
   ]
  },
  {
   "cell_type": "code",
   "execution_count": 37,
   "metadata": {},
   "outputs": [
    {
     "data": {
      "text/plain": [
       "<ListArray>\n",
       "    <starts>1 2 0 1 2 3 2 2 1 1 2 1 0 2 3 3 3</starts>\n",
       "    <stops>4 4 4 4 4 4 4 4 4 4 4 4 4 4 4 4 4</stops>\n",
       "    <content><RawArray>\n",
       "        <ptr>9.8 2.2 3.6 5.7</ptr>\n",
       "    </RawArray></content>\n",
       "</ListArray>"
      ]
     },
     "execution_count": 37,
     "metadata": {},
     "output_type": "execute_result"
    }
   ],
   "source": [
    "x = ListArray.random(choices=[RawArray])\n",
    "x"
   ]
  },
  {
   "cell_type": "code",
   "execution_count": 38,
   "metadata": {},
   "outputs": [
    {
     "data": {
      "text/plain": [
       "[[2.2, 3.6, 5.7],\n",
       " [3.6, 5.7],\n",
       " [9.8, 2.2, 3.6, 5.7],\n",
       " [2.2, 3.6, 5.7],\n",
       " [3.6, 5.7],\n",
       " [5.7],\n",
       " [3.6, 5.7],\n",
       " [3.6, 5.7],\n",
       " [2.2, 3.6, 5.7],\n",
       " [2.2, 3.6, 5.7],\n",
       " [3.6, 5.7],\n",
       " [2.2, 3.6, 5.7],\n",
       " [9.8, 2.2, 3.6, 5.7],\n",
       " [3.6, 5.7],\n",
       " [5.7],\n",
       " [5.7],\n",
       " [5.7]]"
      ]
     },
     "execution_count": 38,
     "metadata": {},
     "output_type": "execute_result"
    }
   ],
   "source": [
    "list(x)"
   ]
  },
  {
   "cell_type": "markdown",
   "metadata": {},
   "source": [
    "## Indirection\n",
    "\n",
    "Data structures consist of more than just lists, so several nodes are dedicated to building structure."
   ]
  },
  {
   "cell_type": "markdown",
   "metadata": {},
   "source": [
    "### RedirectArray\n",
    "\n",
    "**TODO:** points to another node within the data structure, allowing for the creation of directed acyclic graphs and fully cyclic graphs."
   ]
  },
  {
   "cell_type": "markdown",
   "metadata": {},
   "source": [
    "### SlicedArray\n",
    "\n",
    "**TODO:** represents an array to be sliced (lazily) by a `start:stop:step` slice (internally represented by `offset:length:stride`)."
   ]
  },
  {
   "cell_type": "markdown",
   "metadata": {},
   "source": [
    "### IndexedArray\n",
    "\n",
    "The [IndexedArray](https://github.com/scikit-hep/awkward-1.0/blob/master/include/awkward/array/IndexedArray.h) class is a general-purpose tool for restructuring its `content`. Its `index` array is a lazily applied [numpy.take](https://docs.scipy.org/doc/numpy/reference/generated/numpy.take.html) (integer-array slice, also known as \"advanced indexing\"). It has many uses:\n",
    "\n",
    "   * generalizing SlicedArray to advanced indexing.\n",
    "   * emulating pointers when paired with RedirectArray.\n",
    "   * emulating Apache Arrow's [dictionary encoding](https://arrow.apache.org/docs/memory_layout.html#dictionary-encoding)."
   ]
  },
  {
   "cell_type": "code",
   "execution_count": 39,
   "metadata": {},
   "outputs": [],
   "source": [
    "class IndexedArray(Content):\n",
    "    def __init__(self, index, content):\n",
    "        assert isinstance(index, list)\n",
    "        assert isinstance(content, Content)\n",
    "        for x in index:\n",
    "            assert isinstance(x, int)\n",
    "            assert 0 <= x < len(content)   # index[i] must not be negative\n",
    "        self.index = index\n",
    "        self.content = content\n",
    "\n",
    "    @staticmethod\n",
    "    def random(minlen=0, choices=None):\n",
    "        if minlen == 0:\n",
    "            content = Content.random(0, choices)\n",
    "        else:\n",
    "            content = Content.random(1, choices)\n",
    "        if len(content) == 0:\n",
    "            index = []\n",
    "        else:\n",
    "            index = [random.randint(0, len(content) - 1) for i in range(random_length(minlen))]\n",
    "        return IndexedArray(index, content)\n",
    "\n",
    "    def __len__(self):\n",
    "        return len(self.index)\n",
    "\n",
    "    def __getitem__(self, where):\n",
    "        if isinstance(where, int):\n",
    "            assert 0 <= where < len(self)\n",
    "            return self.content[self.index[where]]\n",
    "        elif isinstance(where, slice) and where.step is None:\n",
    "            return IndexedArray(self.index[where.start:where.stop], self.content)\n",
    "        else:\n",
    "            raise AssertionError(where)\n",
    "\n",
    "    def tostring_part(self, indent, pre, post):\n",
    "        out = indent + pre + \"<IndexedArray>\\n\"\n",
    "        out += indent + \"    <index>\" + \" \".join(str(x) for x in self.index) + \"</index>\\n\"\n",
    "        out += self.content.tostring_part(indent + \"    \", \"<content>\", \"</content>\\n\")\n",
    "        out += indent + \"</IndexedArray>\\n\"\n",
    "        return out"
   ]
  },
  {
   "cell_type": "markdown",
   "metadata": {},
   "source": [
    "Here is an example."
   ]
  },
  {
   "cell_type": "code",
   "execution_count": 42,
   "metadata": {},
   "outputs": [
    {
     "data": {
      "text/plain": [
       "<IndexedArray>\n",
       "    <index>4 0 4 3 4 6 8 7 1 5</index>\n",
       "    <content><RawArray>\n",
       "        <ptr>3.7 4.5 5.3 4.9 2.9 5.8 6.7 4.3 1.4 6.7 1.7</ptr>\n",
       "    </RawArray></content>\n",
       "</IndexedArray>"
      ]
     },
     "execution_count": 42,
     "metadata": {},
     "output_type": "execute_result"
    }
   ],
   "source": [
    "x = IndexedArray.random(choices=[RawArray])\n",
    "x"
   ]
  },
  {
   "cell_type": "code",
   "execution_count": 43,
   "metadata": {},
   "outputs": [
    {
     "data": {
      "text/plain": [
       "[2.9, 3.7, 2.9, 4.9, 2.9, 6.7, 1.4, 4.3, 4.5, 5.8]"
      ]
     },
     "execution_count": 43,
     "metadata": {},
     "output_type": "execute_result"
    }
   ],
   "source": [
    "list(x)"
   ]
  },
  {
   "cell_type": "markdown",
   "metadata": {},
   "source": [
    "## Missing data\n",
    "\n",
    "Missing values may be represented as _n/a_, floating-point `NaN`, or a value like `null` or `None`. [Data of this type](https://en.wikipedia.org/wiki/Nullable_type) are variously called \"nullable\", \"maybe\", \"option\", or \"optional.\"\n",
    "\n",
    "Awkward Array has several methods of representing missing data, the most general of which is IndexedOptionArray."
   ]
  },
  {
   "cell_type": "markdown",
   "metadata": {},
   "source": [
    "### IndexedOptionArray\n",
    "\n",
    "The [IndexedOptionArray](https://github.com/scikit-hep/awkward-1.0/blob/master/include/awkward/array/IndexedArray.h) class is an IndexedArray for which negative values in the `index` are interpreted as missing. In C++, it is implemented as a template specialization of IndexedArray."
   ]
  },
  {
   "cell_type": "code",
   "execution_count": 45,
   "metadata": {},
   "outputs": [],
   "source": [
    "class IndexedOptionArray(Content):\n",
    "    def __init__(self, index, content):\n",
    "        assert isinstance(index, list)\n",
    "        assert isinstance(content, Content)\n",
    "        for x in index:\n",
    "            assert isinstance(x, int)\n",
    "            assert x < len(content)   # index[i] may be negative\n",
    "        self.index = index\n",
    "        self.content = content\n",
    "\n",
    "    @staticmethod\n",
    "    def random(minlen=0, choices=None):\n",
    "        content = Content.random(0, choices)\n",
    "        index = []\n",
    "        for i in range(random_length(minlen)):\n",
    "            if len(content) == 0 or random.randint(0, 4) == 0:\n",
    "                index.append(-random_length(1))   # a random number, but not necessarily -1\n",
    "            else:\n",
    "                index.append(random.randint(0, len(content) - 1))\n",
    "        return IndexedOptionArray(index, content)\n",
    "\n",
    "    def __len__(self):\n",
    "        return len(self.index)\n",
    "\n",
    "    def __getitem__(self, where):\n",
    "        if isinstance(where, int):\n",
    "            assert 0 <= where < len(self)\n",
    "            if self.index[where] < 0:\n",
    "                return None\n",
    "            else:\n",
    "                return self.content[self.index[where]]\n",
    "        elif isinstance(where, slice) and where.step is None:\n",
    "            return IndexedOptionArray(self.index[where.start:where.stop], self.content)\n",
    "        else:\n",
    "            raise AssertionError(where)\n",
    "\n",
    "    def tostring_part(self, indent, pre, post):\n",
    "        out = indent + pre + \"<IndexedOptionArray>\\n\"\n",
    "        out += indent + \"    <index>\" + \" \".join(str(x) for x in self.index) + \"</index>\\n\"\n",
    "        out += self.content.tostring_part(indent + \"    \", \"<content>\", \"</content>\\n\")\n",
    "        out += indent + \"</IndexedOptionArray>\\n\"\n",
    "        return out"
   ]
  },
  {
   "cell_type": "markdown",
   "metadata": {},
   "source": [
    "Here is an example."
   ]
  },
  {
   "cell_type": "code",
   "execution_count": 46,
   "metadata": {},
   "outputs": [
    {
     "data": {
      "text/plain": [
       "<IndexedOptionArray>\n",
       "    <index>0 -1 0 1 -2 -69</index>\n",
       "    <content><RawArray>\n",
       "        <ptr>6.8 9.4</ptr>\n",
       "    </RawArray></content>\n",
       "</IndexedOptionArray>"
      ]
     },
     "execution_count": 46,
     "metadata": {},
     "output_type": "execute_result"
    }
   ],
   "source": [
    "x = IndexedOptionArray.random(choices=[RawArray])\n",
    "x"
   ]
  },
  {
   "cell_type": "code",
   "execution_count": 47,
   "metadata": {},
   "outputs": [
    {
     "data": {
      "text/plain": [
       "[6.8, None, 6.8, 9.4, None, None]"
      ]
     },
     "execution_count": 47,
     "metadata": {},
     "output_type": "execute_result"
    }
   ],
   "source": [
    "list(x)"
   ]
  },
  {
   "cell_type": "markdown",
   "metadata": {},
   "source": [
    "### ByteMaskedArray\n",
    "\n",
    "**TODO:** option-typed data defined by a `mask` of bytes."
   ]
  },
  {
   "cell_type": "markdown",
   "metadata": {},
   "source": [
    "### BitMaskedArray\n",
    "\n",
    "**TODO:** option-typed data defined by a `mask` of bits."
   ]
  },
  {
   "cell_type": "markdown",
   "metadata": {},
   "source": [
    "### UnmaskedArray\n",
    "\n",
    "**TODO:** option-typed data in which all values are valid (i.e. no mask). This is a placeholder for possibly missing data that are not actually missing."
   ]
  },
  {
   "cell_type": "markdown",
   "metadata": {},
   "source": [
    "## Lazily-loaded data\n",
    "\n",
    "It can be advantageous to represent data that are not loaded into memory yet. Virtual arrays are functions that produce arrays on demand."
   ]
  },
  {
   "cell_type": "markdown",
   "metadata": {},
   "source": [
    "### PyVirtualArray\n",
    "\n",
    "**TODO:** materializes arrays by calling a Python function."
   ]
  },
  {
   "cell_type": "markdown",
   "metadata": {},
   "source": [
    "## Discontiguous data\n",
    "\n",
    "It can also be advantagous for arrays that represent a single sequence to be physically separate, particularly if they are lazily loaded. ChunkedArray and RegularChunkedArray often contain PyVirtualArrays."
   ]
  },
  {
   "cell_type": "markdown",
   "metadata": {},
   "source": [
    "### ChunkedArray\n",
    "\n",
    "**TODO:** independently allocated arrays representing a single sequence.\n",
    "\n",
    "ChunkedArrays correspond to Apache Arrow [Chunked Arrays](https://arrow.apache.org/docs/cpp/arrays.html#chunked-arrays)."
   ]
  },
  {
   "cell_type": "markdown",
   "metadata": {},
   "source": [
    "### RegularChunkedArray\n",
    "\n",
    "**TODO:** a `ChunkedArray` with equal-sized chunks."
   ]
  },
  {
   "cell_type": "markdown",
   "metadata": {},
   "source": [
    "## Records and tuples\n",
    "\n",
    "All of the above types are linearly nested: they each have zero or one `content`. It's common for data to be packaged together, variously called \"records\", \"structs\", or [product types](https://en.wikipedia.org/wiki/Product_type).\n",
    "\n",
    "   * If the joined data are unnamed, they are \"tuples\" (a fixed number of ordered fields; each may have a different type).\n",
    "   * If they are named, they are \"fields\" (a fixed number of unordered fields; each may have a different type)."
   ]
  },
  {
   "cell_type": "markdown",
   "metadata": {},
   "source": [
    "### RecordArray\n",
    "\n",
    "The [RecordArray](https://github.com/scikit-hep/awkward-1.0/blob/master/include/awkward/array/RecordArray.h) class represents an array of tuples or records, all with the same type. Its `contents` is an ordered _list_ of array Contents.\n",
    "\n",
    "   * If a `recordlookup` is absent, the data are tuples, defined only by their order.\n",
    "   * If a `recordlookup` is present, it is an ordered list of names with the same length as the `contents`, associating a field name to every content.\n",
    "\n",
    "The length of the RecordArray is the length of its shortest content; all are aligned element-by-element. If a RecordArray has zero `contents`, it may still represent a non-empty array. In that case, its length is specified by a `length` parameter (only used for this case).\n",
    "\n",
    "`RecordArrays` correspond to Apache Arrow's [struct type](https://arrow.apache.org/docs/memory_layout.html#struct-type)."
   ]
  },
  {
   "cell_type": "code",
   "execution_count": 48,
   "metadata": {},
   "outputs": [],
   "source": [
    "class RecordArray(Content):\n",
    "    def __init__(self, contents, recordlookup, length):\n",
    "        assert isinstance(contents, list)\n",
    "        if len(contents) == 0:\n",
    "            assert isinstance(length, int)\n",
    "            assert length >= 0\n",
    "        else:\n",
    "            assert length is None\n",
    "            for x in contents:\n",
    "                assert isinstance(x, Content)\n",
    "        assert recordlookup is None or isinstance(recordlookup, list)\n",
    "        if isinstance(recordlookup, list):\n",
    "            assert len(recordlookup) == len(contents)\n",
    "            for x in recordlookup:\n",
    "                assert isinstance(x, str)\n",
    "        self.contents = contents\n",
    "        self.recordlookup = recordlookup\n",
    "        self.length = length\n",
    "\n",
    "    @staticmethod\n",
    "    def random(minlen=0, choices=None):\n",
    "        length = random_length(minlen)\n",
    "        contents = []\n",
    "        for i in range(random.randint(0, 2)):\n",
    "            contents.append(Content.random(length, choices))\n",
    "        if len(contents) != 0:\n",
    "            length = None\n",
    "        if random.randint(0, 1) == 0:\n",
    "            recordlookup = None\n",
    "        else:\n",
    "            recordlookup = [\"x\" + str(i) for i in range(len(contents))]\n",
    "        return RecordArray(contents, recordlookup, length)\n",
    "\n",
    "    def __len__(self):\n",
    "        if len(self.contents) == 0:\n",
    "            return self.length\n",
    "        else:\n",
    "            return min(len(x) for x in self.contents)\n",
    "\n",
    "    def __getitem__(self, where):\n",
    "        if isinstance(where, int):\n",
    "            assert 0 <= where < len(self)\n",
    "            record = [x[where] for x in self.contents]\n",
    "            if self.recordlookup is None:\n",
    "                return tuple(record)\n",
    "            else:\n",
    "                return dict(zip(self.recordlookup, record))\n",
    "        elif isinstance(where, slice) and where.step is None:\n",
    "            if len(self.contents) == 0:\n",
    "                start = min(max(where.start, 0), self.length)\n",
    "                stop = min(max(where.stop, 0), self.length)\n",
    "                if stop < start:\n",
    "                    stop = start\n",
    "                return RecordArray([], self.recordlookup, stop - start)\n",
    "            else:\n",
    "                return RecordArray([x[where] for x in self.contents], self.recordlookup, self.length)\n",
    "        else:\n",
    "            raise AssertionError(where)\n",
    "\n",
    "    def tostring_part(self, indent, pre, post):\n",
    "        out = indent + pre + \"<RecordArray>\\n\"\n",
    "        if len(self.contents) == 0:\n",
    "            out += indent + \"    <length>\" + str(self.length) + \"</length>\\n\"\n",
    "        if self.recordlookup is None:\n",
    "            for i, content in enumerate(self.contents):\n",
    "                out += content.tostring_part(indent + \"    \", \"<content i=\\\"\" + str(i) + \"\\\">\", \"</content>\\n\")\n",
    "        else:\n",
    "            for i, (key, content) in enumerate(zip(self.recordlookup, self.contents)):\n",
    "                out += content.tostring_part(indent + \"    \", \"<content i=\\\"\" + str(i) + \"\\\" key=\\\"\" + repr(key) + \"\\\">\", \"</content>\\n\")\n",
    "        out += indent + \"</RecordArray>\" + post\n",
    "        return out"
   ]
  },
  {
   "cell_type": "markdown",
   "metadata": {},
   "source": [
    "Here are some examples."
   ]
  },
  {
   "cell_type": "code",
   "execution_count": 51,
   "metadata": {},
   "outputs": [
    {
     "data": {
      "text/plain": [
       "<RecordArray>\n",
       "    <content i=\"0\"><RawArray>\n",
       "        <ptr>8.4 3.8 6.3 5.4 3.8 2.5 0.1 4.1 4.1 5.1 8.8 7.2 5.8 7.7 2.4 7.9 2.3 -0.9 6.1 -0.2 7.9 6.2 5.0 3.5 3.0 3.4 4.0 7.9 6.9 2.5 6.0 3.6 5.4 3.5</ptr>\n",
       "    </RawArray></content>\n",
       "    <content i=\"1\"><RawArray>\n",
       "        <ptr>3.8 5.2 5.9 6.4 3.0</ptr>\n",
       "    </RawArray></content>\n",
       "</RecordArray>"
      ]
     },
     "execution_count": 51,
     "metadata": {},
     "output_type": "execute_result"
    }
   ],
   "source": [
    "x = RecordArray.random(choices=[RawArray])\n",
    "x"
   ]
  },
  {
   "cell_type": "code",
   "execution_count": 52,
   "metadata": {},
   "outputs": [
    {
     "data": {
      "text/plain": [
       "[(8.4, 3.8), (3.8, 5.2), (6.3, 5.9), (5.4, 6.4), (3.8, 3.0)]"
      ]
     },
     "execution_count": 52,
     "metadata": {},
     "output_type": "execute_result"
    }
   ],
   "source": [
    "list(x)"
   ]
  },
  {
   "cell_type": "code",
   "execution_count": 71,
   "metadata": {},
   "outputs": [
    {
     "data": {
      "text/plain": [
       "<RecordArray>\n",
       "    <content i=\"0\" key=\"'x0'\"><RawArray>\n",
       "        <ptr>6.0 7.1 4.1 7.6 1.6 7.8 5.0 3.0 10.1 17.3 0.0 5.1 0.2 5.0 7.4 4.9 7.3 11.4 5.2 2.5 9.6 -0.3 6.0</ptr>\n",
       "    </RawArray></content>\n",
       "    <content i=\"1\" key=\"'x1'\"><RawArray>\n",
       "        <ptr>2.4 7.0 6.4 7.0 5.7 7.6 6.0 2.6 0.3 5.9 6.8 3.8 6.2 5.3 4.3 3.0 0.3 5.2 4.9 6.3 8.7 4.5 3.8 1.8 4.8 2.1 7.3 3.8 1.1 3.3 0.5 5.7 5.0 6.3 5.4 3.9 10.7 6.3 4.2 6.3 3.8 7.4</ptr>\n",
       "    </RawArray></content>\n",
       "</RecordArray>"
      ]
     },
     "execution_count": 71,
     "metadata": {},
     "output_type": "execute_result"
    }
   ],
   "source": [
    "x = RecordArray.random(choices=[RawArray])\n",
    "x"
   ]
  },
  {
   "cell_type": "code",
   "execution_count": 72,
   "metadata": {},
   "outputs": [
    {
     "data": {
      "text/plain": [
       "[{'x0': 6.0, 'x1': 2.4},\n",
       " {'x0': 7.1, 'x1': 7.0},\n",
       " {'x0': 4.1, 'x1': 6.4},\n",
       " {'x0': 7.6, 'x1': 7.0},\n",
       " {'x0': 1.6, 'x1': 5.7},\n",
       " {'x0': 7.8, 'x1': 7.6},\n",
       " {'x0': 5.0, 'x1': 6.0},\n",
       " {'x0': 3.0, 'x1': 2.6},\n",
       " {'x0': 10.1, 'x1': 0.3},\n",
       " {'x0': 17.3, 'x1': 5.9},\n",
       " {'x0': 0.0, 'x1': 6.8},\n",
       " {'x0': 5.1, 'x1': 3.8},\n",
       " {'x0': 0.2, 'x1': 6.2},\n",
       " {'x0': 5.0, 'x1': 5.3},\n",
       " {'x0': 7.4, 'x1': 4.3},\n",
       " {'x0': 4.9, 'x1': 3.0},\n",
       " {'x0': 7.3, 'x1': 0.3},\n",
       " {'x0': 11.4, 'x1': 5.2},\n",
       " {'x0': 5.2, 'x1': 4.9},\n",
       " {'x0': 2.5, 'x1': 6.3},\n",
       " {'x0': 9.6, 'x1': 8.7},\n",
       " {'x0': -0.3, 'x1': 4.5},\n",
       " {'x0': 6.0, 'x1': 3.8}]"
      ]
     },
     "execution_count": 72,
     "metadata": {},
     "output_type": "execute_result"
    }
   ],
   "source": [
    "list(x)"
   ]
  },
  {
   "cell_type": "code",
   "execution_count": 55,
   "metadata": {},
   "outputs": [
    {
     "data": {
      "text/plain": [
       "<RecordArray>\n",
       "    <length>7</length>\n",
       "</RecordArray>"
      ]
     },
     "execution_count": 55,
     "metadata": {},
     "output_type": "execute_result"
    }
   ],
   "source": [
    "x = RecordArray.random(choices=[RawArray])\n",
    "x"
   ]
  },
  {
   "cell_type": "code",
   "execution_count": 56,
   "metadata": {},
   "outputs": [
    {
     "data": {
      "text/plain": [
       "[{}, {}, {}, {}, {}, {}, {}]"
      ]
     },
     "execution_count": 56,
     "metadata": {},
     "output_type": "execute_result"
    }
   ],
   "source": [
    "list(x)"
   ]
  },
  {
   "cell_type": "markdown",
   "metadata": {},
   "source": [
    "## Heterogeneous data\n",
    "\n",
    "All of the above types represent arrays of identically typed data. To allow different data types in the same array, we build a \"[tagged union](https://en.wikipedia.org/wiki/Tagged_union)\" or \"sum type\" with a UnionArray.\n",
    "\n",
    "RecordArrays and UnionArrays are the only types with multiple `contents`. Product types and sum types have a fundamental duality in type theory."
   ]
  },
  {
   "cell_type": "markdown",
   "metadata": {},
   "source": [
    "### UnionArray\n",
    "\n",
    "The [UnionArray](https://github.com/scikit-hep/awkward-1.0/blob/master/include/awkward/array/UnionArray.h) class represents data drawn from an ordered list of `contents`, which can have different types, using\n",
    "\n",
    "   * `tags`: array of integers indicating which content each array element draws from.\n",
    "   * `index`: array of integers indicating which element from the content to draw from.\n",
    "\n",
    "`UnionArrays` correspond to Apache Arrow's [dense union type](https://arrow.apache.org/docs/memory_layout.html#dense-union-type). Awkward Array has no direct equivalent for Apache Arrow's [sparse union type](https://arrow.apache.org/docs/memory_layout.html#sparse-union-type), but an appropriate `index` may be generated as needed."
   ]
  },
  {
   "cell_type": "code",
   "execution_count": 73,
   "metadata": {},
   "outputs": [],
   "source": [
    "class UnionArray(Content):\n",
    "    def __init__(self, tags, index, contents):\n",
    "        assert isinstance(tags, list)\n",
    "        assert isinstance(index, list)\n",
    "        assert isinstance(contents, list)\n",
    "        assert len(index) >= len(tags)   # usually equal\n",
    "        for x in tags:\n",
    "            assert isinstance(x, int)\n",
    "            assert 0 <= x < len(contents)\n",
    "        for i, x in enumerate(index):\n",
    "            assert isinstance(x, int)\n",
    "            assert 0 <= x < len(contents[tags[i]])\n",
    "        self.tags = tags\n",
    "        self.index = index\n",
    "        self.contents = contents\n",
    "\n",
    "    @staticmethod\n",
    "    def random(minlen=0, choices=None):\n",
    "        contents = []\n",
    "        unshuffled_tags = []\n",
    "        unshuffled_index = []\n",
    "        for i in range(random.randint(1, 3)):\n",
    "            if minlen == 0:\n",
    "                contents.append(Content.random(0, choices))\n",
    "            else:\n",
    "                contents.append(Content.random(1, choices))\n",
    "            if len(contents[-1]) != 0:\n",
    "                thisindex = [random.randint(0, len(contents[-1]) - 1) for i in range(random_length(minlen))]\n",
    "                unshuffled_tags.extend([i] * len(thisindex))\n",
    "                unshuffled_index.extend(thisindex)\n",
    "        permutation = list(range(len(unshuffled_tags)))\n",
    "        random.shuffle(permutation)\n",
    "        tags = [unshuffled_tags[i] for i in permutation]\n",
    "        index = [unshuffled_index[i] for i in permutation]\n",
    "        return UnionArray(tags, index, contents)\n",
    "\n",
    "    def __len__(self):\n",
    "        return len(self.tags)\n",
    "\n",
    "    def __getitem__(self, where):\n",
    "        if isinstance(where, int):\n",
    "            assert 0 <= where < len(self)\n",
    "            return self.contents[self.tags[where]][self.index[where]]\n",
    "        elif isinstance(where, slice) and where.step is None:\n",
    "            return UnionArray(self.tags[where], self.index[where], self.contents)\n",
    "        else:\n",
    "            raise AssertionError(where)\n",
    "\n",
    "    def tostring_part(self, indent, pre, post):\n",
    "        out = indent + pre + \"<UnionArray>\\n\"\n",
    "        out += indent + \"    <tags>\" + \" \".join(str(x) for x in self.tags) + \"</tags>\\n\"\n",
    "        out += indent + \"    <index>\" + \" \".join(str(x) for x in self.index) + \"</index>\\n\"\n",
    "        for i, content in enumerate(self.contents):\n",
    "            out += content.tostring_part(indent + \"    \", \"<content i=\\\"\" + str(i) + \"\\\">\", \"</content>\\n\")\n",
    "        out += indent + \"</UnionArray>\" + post\n",
    "        return out"
   ]
  },
  {
   "cell_type": "markdown",
   "metadata": {},
   "source": [
    "Here is an example."
   ]
  },
  {
   "cell_type": "code",
   "execution_count": 93,
   "metadata": {},
   "outputs": [
    {
     "data": {
      "text/plain": [
       "<UnionArray>\n",
       "    <tags>0 1 2 0 2 2 1</tags>\n",
       "    <index>0 16 9 0 10 0 13</index>\n",
       "    <content i=\"0\"><ListOffsetArray>\n",
       "        <offsets>12 13 13</offsets>\n",
       "        <content><ListOffsetArray>\n",
       "            <offsets>10 21 22 50 54 55 59 89 92 101 111 119 120 131 138 158 165 171 173</offsets>\n",
       "            <content><RawArray>\n",
       "                <ptr>0.5 4.8 8.6 -1.3 4.0 2.5 5.0 3.3 5.0 1.5 9.3 2.5 5.4 2.1 7.1 5.3 10.8 -2.1 6.4 7.6 5.6 6.2 4.9 8.0 6.2 4.1 6.6 -1.3 4.0 3.8 0.3 5.7 9.9 5.6 9.9 9.4 1.4 3.9 6.2 6.3 3.4 6.2 10.1 3.7 8.3 -0.6 2.8 9.7 3.3 6.5 6.5 2.1 4.9 5.8 1.0 6.8 2.7 3.2 6.0 6.4 1.9 8.1 5.5 6.3 4.8 5.5 1.1 0.1 4.0 1.8 10.0 3.8 3.9 2.5 1.8 6.0 5.2 6.0 9.6 11.7 6.4 7.9 4.3 5.3 4.4 7.0 8.6 6.1 11.2 4.7 5.9 9.3 7.0 5.1 8.0 6.9 8.4 3.7 5.8 4.8 1.6 -1.5 -0.9 6.0 2.8 -0.2 8.1 2.9 7.6 5.7 8.3 8.1 5.5 7.1 6.5 0.8 4.3 1.9 0.2 7.7 5.6 -0.5 2.1 6.1 7.1 4.5 4.5 4.2 9.1 5.7 2.2 9.0 2.6 3.8 7.2 3.2 5.1 6.6 3.0 6.6 6.3 4.8 2.6 3.7 7.0 5.2 1.8 4.2 5.9 2.2 7.1 6.1 1.8 4.2 3.6 3.0 5.7 2.1 7.7 1.5 3.8 6.4 5.1 7.4 2.8 3.3 10.1 8.0 2.3 4.5 5.9 6.0 4.2 2.6 1.1 2.5 12.2</ptr>\n",
       "            </RawArray></content>\n",
       "        </ListOffsetArray></content>\n",
       "    </ListOffsetArray></content>\n",
       "    <content i=\"1\"><RawArray>\n",
       "        <ptr>3.8 5.3 2.2 4.9 6.9 5.6 -0.6 3.2 2.5 2.6 3.6 6.9 7.7 4.7 4.0 5.1 0.5 4.0</ptr>\n",
       "    </RawArray></content>\n",
       "    <content i=\"2\"><RawArray>\n",
       "        <ptr>6.2 7.6 7.6 -1.2 5.0 6.3 6.8 6.0 3.2 5.6 2.3 9.4 1.6 5.2 6.1 1.2</ptr>\n",
       "    </RawArray></content>\n",
       "</UnionArray>"
      ]
     },
     "execution_count": 93,
     "metadata": {},
     "output_type": "execute_result"
    }
   ],
   "source": [
    "x = UnionArray.random(choices=[RawArray, ListOffsetArray])\n",
    "x"
   ]
  },
  {
   "cell_type": "code",
   "execution_count": 94,
   "metadata": {},
   "outputs": [
    {
     "data": {
      "text/plain": [
       "[[[5.6, -0.5, 2.1, 6.1, 7.1, 4.5, 4.5, 4.2, 9.1, 5.7, 2.2]],\n",
       " 0.5,\n",
       " 5.6,\n",
       " [[5.6, -0.5, 2.1, 6.1, 7.1, 4.5, 4.5, 4.2, 9.1, 5.7, 2.2]],\n",
       " 2.3,\n",
       " 6.2,\n",
       " 4.7]"
      ]
     },
     "execution_count": 94,
     "metadata": {},
     "output_type": "execute_result"
    }
   ],
   "source": [
    "list(x)"
   ]
  },
  {
   "cell_type": "markdown",
   "metadata": {},
   "source": [
    "## All together\n",
    "\n",
    "Here is an example that draws from all the possible node types. Any node type may be the content for any that has a `content` or `contents` attribute."
   ]
  },
  {
   "cell_type": "code",
   "execution_count": 105,
   "metadata": {},
   "outputs": [
    {
     "data": {
      "text/plain": [
       "<UnionArray>\n",
       "    <tags>1 1 1 2 2 1 1 1 2 2 1 1</tags>\n",
       "    <index>0 0 0 8 25 1 1 0 5 4 0 1</index>\n",
       "    <content i=\"0\"><IndexedArray>\n",
       "        <index></index>\n",
       "        <content><IndexedArray>\n",
       "            <index></index>\n",
       "            <content><RawArray>\n",
       "                <ptr>3.4 5.5 9.6 9.2 5.3</ptr>\n",
       "            </RawArray></content>\n",
       "        </IndexedArray>\n",
       "    </IndexedArray>\n",
       "    <content i=\"1\"><NumpyArray>\n",
       "        <ptr>6.6 9.3 8.1 3.6</ptr>\n",
       "        <shape>2 1</shape>\n",
       "        <strides>1 1</strides>\n",
       "        <offset>2</offset>\n",
       "    </NumpyArray></content>\n",
       "    <content i=\"2\"><RecordArray>\n",
       "        <content i=\"0\" key=\"'x0'\"><IndexedArray>\n",
       "            <index>5 14 5 0 6 5 5 14 3 12 6 1 9 12 11 13 15 6 10 4 13 7 3 14 7 10 13 0 5 15 6 1 6 15 6 13 15 7 1 12 13 7 5 4 11 10 8 7 7 8 7 4 11 0 9 11</index>\n",
       "            <content><RawArray>\n",
       "                <ptr>2.7 8.1 1.3 5.6 7.1 4.8 2.1 5.1 5.0 3.8 -2.6 5.8 5.1 2.6 4.8 9.1</ptr>\n",
       "            </RawArray></content>\n",
       "        </IndexedArray>\n",
       "        <content i=\"1\" key=\"'x1'\"><RecordArray>\n",
       "            <length>32</length>\n",
       "        </RecordArray></content>\n",
       "    </RecordArray></content>\n",
       "</UnionArray>"
      ]
     },
     "execution_count": 105,
     "metadata": {},
     "output_type": "execute_result"
    }
   ],
   "source": [
    "x = Content.random()\n",
    "x"
   ]
  },
  {
   "cell_type": "code",
   "execution_count": 106,
   "metadata": {},
   "outputs": [
    {
     "data": {
      "text/plain": [
       "[[8.1],\n",
       " [8.1],\n",
       " [8.1],\n",
       " {'x0': 5.6, 'x1': {}},\n",
       " {'x0': -2.6, 'x1': {}},\n",
       " [3.6],\n",
       " [3.6],\n",
       " [8.1],\n",
       " {'x0': 4.8, 'x1': {}},\n",
       " {'x0': 2.1, 'x1': {}},\n",
       " [8.1],\n",
       " [3.6]]"
      ]
     },
     "execution_count": 106,
     "metadata": {},
     "output_type": "execute_result"
    }
   ],
   "source": [
    "list(x)"
   ]
  }
 ],
 "metadata": {
  "kernelspec": {
   "display_name": "Python 3",
   "language": "python",
   "name": "python3"
  },
  "language_info": {
   "codemirror_mode": {
    "name": "ipython",
    "version": 3
   },
   "file_extension": ".py",
   "mimetype": "text/x-python",
   "name": "python",
   "nbconvert_exporter": "python",
   "pygments_lexer": "ipython3",
   "version": "3.7.6"
  }
 },
 "nbformat": 4,
 "nbformat_minor": 4
}
