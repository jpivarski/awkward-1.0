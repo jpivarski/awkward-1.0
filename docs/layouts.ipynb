{
 "cells": [
  {
   "cell_type": "markdown",
   "metadata": {},
   "source": [
    "# Array node layouts\n",
    "\n",
    "This document describes, in a minimal way, each of the composable array layout nodes that collectively describe structured data in a columnar way.\n",
    "\n",
    "All of the constraints on allowed values in an Awkward Array are expressed here as assertions in `__init__`. The `random` constructors create a random valid array. The data structure is defined by its length `__len__`, its `__getitem__` behavior for integers, slices (without step), and string fields. Iteration with `__iter__` converts the columnar data into rowwise data."
   ]
  },
  {
   "cell_type": "markdown",
   "metadata": {},
   "source": [
    "## General structure\n",
    "\n",
    "Arrays are composed of `Content` subclasses and integer arrays. Integer arrays (called `Indexes`) determine the structure, but not the content of the data structure."
   ]
  },
  {
   "cell_type": "code",
   "execution_count": null,
   "metadata": {},
   "outputs": [],
   "source": [
    "class Content:\n",
    "    def __iter__(self):\n",
    "        \"Iterate over the data structure, converting columnar data into rowwise.\"\n",
    "        \n",
    "        def convert(x):\n",
    "            if isinstance(x, Content):\n",
    "                return list(x)\n",
    "            elif isinstance(x, tuple):\n",
    "                return tuple(convert(y) for y in x)\n",
    "            elif isinstance(x, dict):\n",
    "                return {n: convert(y) for n, y in x.items()}\n",
    "            else:\n",
    "                return x\n",
    "\n",
    "        for i in range(len(self)):\n",
    "            yield convert(self[i])\n",
    "\n",
    "    def __repr__(self):\n",
    "        return self.tostring_part(\"\", \"\", \"\").rstrip()\n",
    "\n",
    "    @staticmethod\n",
    "    def random(minlen=0, choices=None):\n",
    "        if choices is None:\n",
    "            choices = [x for x in globals().values() if isinstance(x, type) and issubclass(x, Content)]\n",
    "        else:\n",
    "            choices = list(choices)\n",
    "        if minlen != 0 and EmptyArray in choices:\n",
    "            choices.remove(EmptyArray)\n",
    "        assert len(choices) > 0\n",
    "        cls = random.choice(choices)\n",
    "        return cls.random(minlen, choices)"
   ]
  },
  {
   "cell_type": "code",
   "execution_count": null,
   "metadata": {},
   "outputs": [],
   "source": [
    "def random_number():\n",
    "    return round(random.gauss(5, 3), 1)\n",
    "\n",
    "def random_length(minlen=0, maxlen=None):\n",
    "    if maxlen is None:\n",
    "        return minlen + int(math.floor(random.expovariate(0.1)))\n",
    "    else:\n",
    "        return random.randint(minlen, maxlen)"
   ]
  }
 ],
 "metadata": {
  "kernelspec": {
   "display_name": "Python 3",
   "language": "python",
   "name": "python3"
  },
  "language_info": {
   "codemirror_mode": {
    "name": "ipython",
    "version": 3
   },
   "file_extension": ".py",
   "mimetype": "text/x-python",
   "name": "python",
   "nbconvert_exporter": "python",
   "pygments_lexer": "ipython3",
   "version": "3.7.6"
  }
 },
 "nbformat": 4,
 "nbformat_minor": 4
}
