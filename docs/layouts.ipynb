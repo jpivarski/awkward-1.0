{
 "cells": [
  {
   "cell_type": "markdown",
   "metadata": {},
   "source": [
    "# Array node layouts\n",
    "\n",
    "This document describes, in a minimal way, each of the composable array layout nodes that collectively describe structured data in a columnar way.\n",
    "\n",
    "All of the constraints on allowed values in an Awkward Array are expressed here as assertions in `__init__`. The `random` constructors create a random valid array. The data structure is defined by its length `__len__`, its `__getitem__` behavior for integers, slices (without step), and string fields. Iteration with `__iter__` converts the columnar data into rowwise data."
   ]
  },
  {
   "cell_type": "markdown",
   "metadata": {},
   "source": [
    "## General structure\n",
    "\n",
    "Arrays are composed of `Content` subclasses and integer arrays. Integer arrays (called `Indexes`) determine the structure, but not the content of the data structure.\n",
    "\n",
    "We'll define a `Content` base class with some facilities that will be used by all subclasses."
   ]
  },
  {
   "cell_type": "code",
   "execution_count": 1,
   "metadata": {},
   "outputs": [],
   "source": [
    "class Content:\n",
    "    def __iter__(self):\n",
    "        \"Iterate over the data structure, converting columnar data into rowwise.\"\n",
    "        \n",
    "        def convert(x):\n",
    "            if isinstance(x, Content):\n",
    "                return list(x)\n",
    "            elif isinstance(x, tuple):\n",
    "                return tuple(convert(y) for y in x)\n",
    "            elif isinstance(x, dict):\n",
    "                return {n: convert(y) for n, y in x.items()}\n",
    "            else:\n",
    "                return x\n",
    "\n",
    "        for i in range(len(self)):\n",
    "            yield convert(self[i])\n",
    "\n",
    "    def __repr__(self):\n",
    "        \"Print an XML representation of the data.\"\n",
    "        \n",
    "        return self.tostring_part(\"\", \"\", \"\").rstrip()\n",
    "\n",
    "    @staticmethod\n",
    "    def random(minlen=0, choices=None):\n",
    "        \"Generate a random array from a set of possible classes.\"\n",
    "        \n",
    "        if choices is None:\n",
    "            choices = [x for x in globals().values() if isinstance(x, type) and issubclass(x, Content)]\n",
    "        else:\n",
    "            choices = list(choices)\n",
    "        if minlen != 0 and EmptyArray in choices:\n",
    "            choices.remove(EmptyArray)\n",
    "        assert len(choices) > 0\n",
    "        cls = random.choice(choices)\n",
    "        return cls.random(minlen, choices)"
   ]
  },
  {
   "cell_type": "markdown",
   "metadata": {},
   "source": [
    "These are some utilities for generating random data."
   ]
  },
  {
   "cell_type": "code",
   "execution_count": 2,
   "metadata": {},
   "outputs": [],
   "source": [
    "import math\n",
    "import random\n",
    "\n",
    "def random_number():\n",
    "    return round(random.gauss(5, 3), 1)\n",
    "\n",
    "def random_length(minlen=0, maxlen=None):\n",
    "    if maxlen is None:\n",
    "        return minlen + int(math.floor(random.expovariate(0.1)))\n",
    "    else:\n",
    "        return random.randint(minlen, maxlen)"
   ]
  },
  {
   "cell_type": "markdown",
   "metadata": {},
   "source": [
    "## Leaf nodes\n",
    "\n",
    "Only three types of nodes can terminate an array data structure: `RawArray`, a one-dimensional array of a fixed-width data, `NumpyArray`, a rectilinear tensor equivalent to NumPy data, and `EmptyArray`, data of unknown type and zero length."
   ]
  },
  {
   "cell_type": "markdown",
   "metadata": {},
   "source": [
    "### RawArray\n",
    "\n",
    "The `RawArray` class is intended for use in C++, the [RawArray](https://github.com/scikit-hep/awkward-1.0/blob/master/include/awkward/array/RawArray.h) class is header-only and templated. It is defined by\n",
    "\n",
    "   * `ptr`: the data themselves, a raw buffer. It can contain anything; the `RawArray` is just wraps the data as a `Content`.\n",
    "\n",
    "If the type is a numerical type, a `RawArray` corresponds to an Apache Arrow [Primitive array](primitive-value-arrays)."
   ]
  },
  {
   "cell_type": "code",
   "execution_count": 3,
   "metadata": {},
   "outputs": [],
   "source": [
    "class RawArray(Content):\n",
    "    def __init__(self, ptr):\n",
    "        assert isinstance(ptr, list)\n",
    "        self.ptr = ptr\n",
    "\n",
    "    @staticmethod\n",
    "    def random(minlen=0, choices=None):\n",
    "        return RawArray([random_number() for i in range(random_length(minlen))])\n",
    "\n",
    "    def __len__(self):\n",
    "        return len(self.ptr)\n",
    "\n",
    "    def __getitem__(self, where):\n",
    "        if isinstance(where, int):\n",
    "            assert 0 <= where < len(self)\n",
    "            return self.ptr[where]\n",
    "        elif isinstance(where, slice) and where.step is None:\n",
    "            return RawArray(self.ptr[where])\n",
    "        else:\n",
    "            raise AssertionError(where)\n",
    "\n",
    "    def tostring_part(self, indent, pre, post):\n",
    "        out = indent + pre + \"<RawArray>\\n\"\n",
    "        out += indent + \"    <ptr>\" + \" \".join(repr(x) for x in self.ptr) + \"</ptr>\\n\"\n",
    "        out += indent + \"</RawArray>\" + post\n",
    "        return out"
   ]
  },
  {
   "cell_type": "markdown",
   "metadata": {},
   "source": [
    "Here is an example."
   ]
  },
  {
   "cell_type": "code",
   "execution_count": 7,
   "metadata": {},
   "outputs": [
    {
     "data": {
      "text/plain": [
       "<RawArray>\n",
       "    <ptr>4.2 6.8 3.1 3.4 7.6 9.4</ptr>\n",
       "</RawArray>"
      ]
     },
     "execution_count": 7,
     "metadata": {},
     "output_type": "execute_result"
    }
   ],
   "source": [
    "x = RawArray.random()\n",
    "x"
   ]
  },
  {
   "cell_type": "code",
   "execution_count": 8,
   "metadata": {},
   "outputs": [
    {
     "data": {
      "text/plain": [
       "[4.2, 6.8, 3.1, 3.4, 7.6, 9.4]"
      ]
     },
     "execution_count": 8,
     "metadata": {},
     "output_type": "execute_result"
    }
   ],
   "source": [
    "list(x)"
   ]
  },
  {
   "cell_type": "markdown",
   "metadata": {},
   "source": [
    "### NumpyArray\n",
    "\n",
    "The `NumpyArray` class is more general, describing multidimensional data with\n",
    "\n",
    "   * `ptr`: the data themselves, a raw buffer.\n",
    "   * `shape`: non-negative integers, at least one. Each represents the number of components in a dimension; a `shape` of length _N_ represents an _N_ dimensional tensor. The number of items in the array is the product of all values in `shape` (may be zero).\n",
    "   * `strides`: the same number of integers as `shape`. The `strides` describes how many items in `ptr` to skip per element in a dimension. (Strides can be negative or zero.)\n",
    "   * `offset`: the number of items in `ptr` to skip before the first element of the array.\n",
    "\n",
    "In NumPy and Awkward, there is also\n",
    "\n",
    "   * `itemsize`: the number of bytes per item (i.e. 1 for characters, 4 for `int32`, 8 for `double` types).\n",
    "\n",
    "The `strides` and `offset` are measured in bytes, but in this simplified representation, we ignore this, assuming all items have `itemsize` of 1.\n",
    "\n",
    "If the `shape` is one-dimensional, a `NumpyArray` corresponds to an Apache Arrow [Primitive array](primitive-value-arrays)."
   ]
  },
  {
   "cell_type": "code",
   "execution_count": 9,
   "metadata": {},
   "outputs": [],
   "source": [
    "class NumpyArray(Content):\n",
    "    def __init__(self, ptr, shape, strides, offset):\n",
    "        assert isinstance(ptr, list)\n",
    "        assert isinstance(shape, list)\n",
    "        assert isinstance(strides, list)\n",
    "        for x in ptr:\n",
    "            assert isinstance(x, (bool, int, float))\n",
    "        assert len(shape) > 0\n",
    "        assert len(strides) == len(shape)\n",
    "        for x in shape:\n",
    "            assert isinstance(x, int)\n",
    "            assert x >= 0\n",
    "        for x in strides:\n",
    "            assert isinstance(x, int)\n",
    "        assert isinstance(offset, int)\n",
    "        if all(x != 0 for x in shape):\n",
    "            assert 0 <= offset < len(ptr)\n",
    "            assert shape[0] * strides[0] + offset <= len(ptr)\n",
    "        self.ptr = ptr\n",
    "        self.shape = shape\n",
    "        self.strides = strides\n",
    "        self.offset = offset\n",
    "\n",
    "    @staticmethod\n",
    "    def random(minlen=0, choices=None):\n",
    "        shape = [random_length(minlen)]\n",
    "        for i in range(random_length(0, 2)):\n",
    "            shape.append(random_length(1, 3))\n",
    "        strides = [1]\n",
    "        for x in shape[:0:-1]:\n",
    "            skip = random_length(0, 2)\n",
    "            strides.insert(0, x * strides[0] + skip)\n",
    "        offset = random_length()\n",
    "        ptr = [random_number() for i in range(shape[0] * strides[0] + offset)]\n",
    "        return NumpyArray(ptr, shape, strides, offset)\n",
    "\n",
    "    def __len__(self):\n",
    "        return self.shape[0]\n",
    "\n",
    "    def __getitem__(self, where):\n",
    "        if isinstance(where, int):\n",
    "            assert 0 <= where < len(self)\n",
    "            offset = self.offset + self.strides[0] * where\n",
    "            if len(self.shape) == 1:\n",
    "                return self.ptr[offset]\n",
    "            else:\n",
    "                return NumpyArray(self.ptr, self.shape[1:], self.strides[1:], offset)\n",
    "        elif isinstance(where, slice) and where.step is None:\n",
    "            offset = self.offset + self.strides[0] * where.start\n",
    "            shape = [where.stop - where.start] + self.shape[1:]\n",
    "            return NumpyArray(self.ptr, shape, self.strides, offset)\n",
    "        else:\n",
    "            raise AssertionError(where)\n",
    "\n",
    "    def tostring_part(self, indent, pre, post):\n",
    "        out = indent + pre + \"<NumpyArray>\\n\"\n",
    "        out += indent + \"    <ptr>\" + \" \".join(str(x) for x in self.ptr) + \"</ptr>\\n\"\n",
    "        out += indent + \"    <shape>\" + \" \".join(str(x) for x in self.shape) + \"</shape>\\n\"\n",
    "        out += indent + \"    <strides>\" + \" \".join(str(x) for x in self.strides) + \"</strides>\\n\"\n",
    "        out += indent + \"    <offset>\" + str(self.offset) + \"</offset>\\n\"\n",
    "        out += indent + \"</NumpyArray>\" + post\n",
    "        return out"
   ]
  },
  {
   "cell_type": "markdown",
   "metadata": {},
   "source": [
    "Here is an example."
   ]
  },
  {
   "cell_type": "code",
   "execution_count": 13,
   "metadata": {},
   "outputs": [
    {
     "data": {
      "text/plain": [
       "<NumpyArray>\n",
       "    <ptr>5.4 1.0 3.5 7.0 2.2 6.6</ptr>\n",
       "    <shape>2 2</shape>\n",
       "    <strides>2 1</strides>\n",
       "    <offset>2</offset>\n",
       "</NumpyArray>"
      ]
     },
     "execution_count": 13,
     "metadata": {},
     "output_type": "execute_result"
    }
   ],
   "source": [
    "x = NumpyArray.random()\n",
    "x"
   ]
  },
  {
   "cell_type": "code",
   "execution_count": 14,
   "metadata": {},
   "outputs": [
    {
     "data": {
      "text/plain": [
       "[[3.5, 7.0], [2.2, 6.6]]"
      ]
     },
     "execution_count": 14,
     "metadata": {},
     "output_type": "execute_result"
    }
   ],
   "source": [
    "list(x)"
   ]
  },
  {
   "cell_type": "markdown",
   "metadata": {},
   "source": [
    "### EmptyArray\n",
    "\n",
    "The `EmptyArray` class is used whenever an array's type is not known because it is empty (when determining types from observed elements).\n",
    "\n",
    "`EmptyArray` has no equivalent in Apache Arrow."
   ]
  },
  {
   "cell_type": "code",
   "execution_count": 15,
   "metadata": {},
   "outputs": [],
   "source": [
    "class EmptyArray(Content):\n",
    "    def __init__(self):\n",
    "        pass\n",
    "\n",
    "    @staticmethod\n",
    "    def random(minlen=0, choices=None):\n",
    "        assert minlen == 0\n",
    "        return EmptyArray()\n",
    "\n",
    "    def __len__(self):\n",
    "        return 0\n",
    "\n",
    "    def __getitem__(self, where):\n",
    "        if isinstance(where, int):\n",
    "            assert False\n",
    "        elif isinstance(where, slice) and where.step is None:\n",
    "            return EmptyArray()\n",
    "        else:\n",
    "            raise AssertionError(where)\n",
    "\n",
    "    def tostring_part(self, indent, pre, post):\n",
    "        return indent + pre + \"<EmptyArray/>\" + post"
   ]
  },
  {
   "cell_type": "markdown",
   "metadata": {},
   "source": [
    "Here is an example."
   ]
  },
  {
   "cell_type": "code",
   "execution_count": 16,
   "metadata": {},
   "outputs": [
    {
     "data": {
      "text/plain": [
       "<EmptyArray/>"
      ]
     },
     "execution_count": 16,
     "metadata": {},
     "output_type": "execute_result"
    }
   ],
   "source": [
    "x = EmptyArray.random()\n",
    "x"
   ]
  },
  {
   "cell_type": "code",
   "execution_count": 17,
   "metadata": {},
   "outputs": [
    {
     "data": {
      "text/plain": [
       "[]"
      ]
     },
     "execution_count": 17,
     "metadata": {},
     "output_type": "execute_result"
    }
   ],
   "source": [
    "list(x)"
   ]
  },
  {
   "cell_type": "markdown",
   "metadata": {},
   "source": [
    "## Arrays of lists\n",
    "\n",
    "Lists may have uniform lengths or unequal lengths. `RegularArray` describes the first case and `ListOffsetArray` and `ListArray` are two ways of describing the second case."
   ]
  },
  {
   "cell_type": "markdown",
   "metadata": {},
   "source": [
    "### RegularArray\n",
    "\n",
    "The `RegularArray` class describes lists that all have the same length, the single integer `size`. Its underlying `content` is a flattened view of the data—that is, each list is not stored separately in memory, but is inferred as a subinterval of the underlying data.\n",
    "\n",
    "If the `content` is not an integer multiple of `size`, then the length of the `RegularArray` is truncated to the largest integer multiple.\n",
    "\n",
    "A multidimensional `NumpyArray` is equivalent to a one-dimensional `NumpyArray` nested within several `RegularArrays`, one for each dimension. However, `RegularArrays` can be used to make lists of _any_ other type.\n",
    "\n",
    "`RegularArray` corresponds to an Apache Arrow [Tensor](https://arrow.apache.org/docs/python/generated/pyarrow.Tensor.html)."
   ]
  },
  {
   "cell_type": "code",
   "execution_count": 18,
   "metadata": {},
   "outputs": [],
   "source": [
    "class RegularArray(Content):\n",
    "    def __init__(self, content, size):\n",
    "        assert isinstance(content, Content)\n",
    "        assert isinstance(size, int)\n",
    "        assert size > 0\n",
    "        self.content = content\n",
    "        self.size = size\n",
    "\n",
    "    @staticmethod\n",
    "    def random(minlen=0, choices=None):\n",
    "        size = random_length(1, 5)\n",
    "        return RegularArray(Content.random(random_length(minlen) * size, choices), size)\n",
    "\n",
    "    def __len__(self):\n",
    "        return len(self.content) // self.size   # floor division\n",
    "\n",
    "    def __getitem__(self, where):\n",
    "        if isinstance(where, int):\n",
    "            return self.content[(where) * self.size:(where + 1) * self.size]\n",
    "        elif isinstance(where, slice) and where.step is None:\n",
    "            start = where.start * self.size\n",
    "            stop = where.stop * self.size\n",
    "            return RegularArray(self.content[start:stop], self.size)\n",
    "        else:\n",
    "            raise AssertionError(where)\n",
    "\n",
    "    def tostring_part(self, indent, pre, post):\n",
    "        out = indent + pre + \"<RegularArray>\\n\"\n",
    "        out += self.content.tostring_part(indent + \"    \", \"<content>\", \"</content>\\n\")\n",
    "        out += indent + \"    <size>\" + str(self.size) + \"</size>\\n\"\n",
    "        out += indent + \"</RegularArray>\" + post\n",
    "        return out"
   ]
  },
  {
   "cell_type": "markdown",
   "metadata": {},
   "source": [
    "Here is an example."
   ]
  },
  {
   "cell_type": "code",
   "execution_count": 25,
   "metadata": {},
   "outputs": [
    {
     "data": {
      "text/plain": [
       "<RegularArray>\n",
       "    <content><RawArray>\n",
       "        <ptr>2.1 5.0 3.9 4.4 7.9 8.8 7.8 3.4 3.8 5.1 7.5 5.7</ptr>\n",
       "    </RawArray></content>\n",
       "    <size>4</size>\n",
       "</RegularArray>"
      ]
     },
     "execution_count": 25,
     "metadata": {},
     "output_type": "execute_result"
    }
   ],
   "source": [
    "x = RegularArray.random(choices=[RawArray])\n",
    "x"
   ]
  },
  {
   "cell_type": "code",
   "execution_count": 26,
   "metadata": {},
   "outputs": [
    {
     "data": {
      "text/plain": [
       "[[2.1, 5.0, 3.9, 4.4], [7.9, 8.8, 7.8, 3.4], [3.8, 5.1, 7.5, 5.7]]"
      ]
     },
     "execution_count": 26,
     "metadata": {},
     "output_type": "execute_result"
    }
   ],
   "source": [
    "list(x)"
   ]
  },
  {
   "cell_type": "markdown",
   "metadata": {},
   "source": [
    "### ListOffsetArray\n",
    "\n",
    "The `ListOffsetArray` class describes unequal-length lists (often called a \"jagged\" or \"ragged\" array). Like `RegularArray`, the underlying data for all lists are in a contiguous `content`. It is subdivided into lists according to an `offsets` array, which specifies the starting and stopping index of each list.\n",
    "\n",
    "The `offsets` must have at least length 1 (an empty array), but it need not start with zero or completely cover the `content`. Just as `RegularArray` can have unreachable `content` if it is not an integer multiple of `size`, a `ListOffsetArray` can have unreachable `content` before the first list and after the last list.\n",
    "\n",
    "`ListOffsetArray` corresponds to Apache Arrow [List type](https://arrow.apache.org/docs/memory_layout.html#list-type)."
   ]
  },
  {
   "cell_type": "code",
   "execution_count": 27,
   "metadata": {},
   "outputs": [],
   "source": [
    "class ListOffsetArray(Content):\n",
    "    def __init__(self, offsets, content):\n",
    "        assert isinstance(offsets, list)\n",
    "        assert isinstance(content, Content)\n",
    "        assert len(offsets) != 0\n",
    "        for i in range(len(offsets) - 1):\n",
    "            start = offsets[i]\n",
    "            stop = offsets[i + 1]\n",
    "            assert isinstance(start, int)\n",
    "            assert isinstance(stop, int)\n",
    "            if start != stop:\n",
    "                assert start < stop   # i.e. start <= stop\n",
    "                assert start >= 0\n",
    "                assert stop <= len(content)\n",
    "        self.offsets = offsets\n",
    "        self.content = content\n",
    "\n",
    "    @staticmethod\n",
    "    def random(minlen=0, choices=None):\n",
    "        counts = [random_length() for i in range(random_length(minlen))]\n",
    "        offsets = [random_length()]\n",
    "        for x in counts:\n",
    "            offsets.append(offsets[-1] + x)\n",
    "        return ListOffsetArray(offsets, Content.random(offsets[-1], choices))\n",
    "        \n",
    "    def __len__(self):\n",
    "        return len(self.offsets) - 1\n",
    "\n",
    "    def __getitem__(self, where):\n",
    "        if isinstance(where, int):\n",
    "            assert 0 <= where < len(self)\n",
    "            return self.content[self.offsets[where]:self.offsets[where + 1]]\n",
    "        elif isinstance(where, slice) and where.step is None:\n",
    "            offsets = self.offsets[where.start : where.stop + 1]\n",
    "            if len(offsets) == 0:\n",
    "                offsets = [0]\n",
    "            return ListOffsetArray(offsets, self.content)\n",
    "        else:\n",
    "            raise AssertionError(where)\n",
    "\n",
    "    def tostring_part(self, indent, pre, post):\n",
    "        out = indent + pre + \"<ListOffsetArray>\\n\"\n",
    "        out += indent + \"    <offsets>\" + \" \".join(str(x) for x in self.offsets) + \"</offsets>\\n\"\n",
    "        out += self.content.tostring_part(indent + \"    \", \"<content>\", \"</content>\\n\")\n",
    "        out += indent + \"</ListOffsetArray>\" + post\n",
    "        return out"
   ]
  },
  {
   "cell_type": "markdown",
   "metadata": {},
   "source": [
    "Here is an example."
   ]
  },
  {
   "cell_type": "code",
   "execution_count": 32,
   "metadata": {},
   "outputs": [
    {
     "data": {
      "text/plain": [
       "<ListOffsetArray>\n",
       "    <offsets>0 0 9 11</offsets>\n",
       "    <content><RawArray>\n",
       "        <ptr>7.7 5.1 -2.3 3.7 5.5 9.0 7.1 6.9 7.3 5.8 7.6 2.3 -0.4 8.2 8.1 5.3 3.4 2.0 -1.7 1.7 6.6 6.7 6.6 3.5 3.0 8.8 6.8 8.7 6.1 3.7 8.5 3.7 3.8 8.1</ptr>\n",
       "    </RawArray></content>\n",
       "</ListOffsetArray>"
      ]
     },
     "execution_count": 32,
     "metadata": {},
     "output_type": "execute_result"
    }
   ],
   "source": [
    "x = ListOffsetArray.random(choices=[RawArray])\n",
    "x"
   ]
  },
  {
   "cell_type": "code",
   "execution_count": 33,
   "metadata": {},
   "outputs": [
    {
     "data": {
      "text/plain": [
       "[[], [7.7, 5.1, -2.3, 3.7, 5.5, 9.0, 7.1, 6.9, 7.3], [5.8, 7.6]]"
      ]
     },
     "execution_count": 33,
     "metadata": {},
     "output_type": "execute_result"
    }
   ],
   "source": [
    "list(x)"
   ]
  },
  {
   "cell_type": "markdown",
   "metadata": {},
   "source": [
    "### ListArray\n",
    "\n",
    "The `ListArray` class generalizes `ListOffsetArray` by not requiring its `content` to be in order or not have unreachable elements between lists. Instead of a single `offsets` array, `ListArray` has\n",
    "\n",
    "   * `starts`: the starting index of each list.\n",
    "   * `stops`: the stopping index of each list.\n",
    "\n",
    "`offsets` may be related to `starts` and `stops`:\n",
    "\n",
    "```python\n",
    "starts = offsets[:-1]\n",
    "stops = offsets[1:]\n",
    "```\n",
    "\n",
    "`ListArrays` are a useful byproduct of structure manipulation: as a result of some operation, we might want to view slices or permutations of the `content` without copying it to make a contiguous version of it. For that reason, `ListArrays` are more useful in a data-manipulation library like Awkward Array than in a data-representation library like Apache Arrow. There is not equivalent of `ListArray` in Apache Arrow."
   ]
  },
  {
   "cell_type": "code",
   "execution_count": 34,
   "metadata": {},
   "outputs": [],
   "source": [
    "class ListArray(Content):\n",
    "    def __init__(self, starts, stops, content):\n",
    "        assert isinstance(starts, list)\n",
    "        assert isinstance(stops, list)\n",
    "        assert isinstance(content, Content)\n",
    "        assert len(stops) >= len(starts)   # usually equal\n",
    "        for i in range(len(starts)):\n",
    "            start = starts[i]\n",
    "            stop = stops[i]\n",
    "            assert isinstance(start, int)\n",
    "            assert isinstance(stop, int)\n",
    "            if start != stop:\n",
    "                assert start < stop   # i.e. start <= stop\n",
    "                assert start >= 0\n",
    "                assert stop <= len(content)\n",
    "        self.starts = starts\n",
    "        self.stops = stops\n",
    "        self.content = content\n",
    "\n",
    "    @staticmethod\n",
    "    def random(minlen=0, choices=None):\n",
    "        content = Content.random(0, choices)\n",
    "        length = random_length(minlen)\n",
    "        if len(content) == 0:\n",
    "            starts = [random.randint(0, 10) for i in range(length)]\n",
    "            stops = list(starts)\n",
    "        else:\n",
    "            starts = [random.randint(0, len(content) - 1) for i in range(length)]\n",
    "            stops = [x + min(random_length(), len(content) - x) for x in starts]\n",
    "        return ListArray(starts, stops, content)\n",
    "        \n",
    "    def __len__(self):\n",
    "        return len(self.starts)\n",
    "\n",
    "    def __getitem__(self, where):\n",
    "        if isinstance(where, int):\n",
    "            assert 0 <= where < len(self)\n",
    "            return self.content[self.starts[where]:self.stops[where]]\n",
    "        elif isinstance(where, slice) and where.step is None:\n",
    "            starts = self.starts[where.start:where.stop]\n",
    "            stops = self.stops[where.start:where.stop]\n",
    "            return ListArray(starts, stops, self.content)\n",
    "        else:\n",
    "            raise AssertionError(where)\n",
    "\n",
    "    def tostring_part(self, indent, pre, post):\n",
    "        out = indent + pre + \"<ListArray>\\n\"\n",
    "        out += indent + \"    <starts>\" + \" \".join(str(x) for x in self.starts) + \"</starts>\\n\"\n",
    "        out += indent + \"    <stops>\" + \" \".join(str(x) for x in self.stops) + \"</stops>\\n\"\n",
    "        out += self.content.tostring_part(indent + \"    \", \"<content>\", \"</content>\\n\")\n",
    "        out += indent + \"</ListArray>\" + post\n",
    "        return out"
   ]
  },
  {
   "cell_type": "markdown",
   "metadata": {},
   "source": [
    "Here is an example."
   ]
  },
  {
   "cell_type": "code",
   "execution_count": 37,
   "metadata": {},
   "outputs": [
    {
     "data": {
      "text/plain": [
       "<ListArray>\n",
       "    <starts>1 2 0 1 2 3 2 2 1 1 2 1 0 2 3 3 3</starts>\n",
       "    <stops>4 4 4 4 4 4 4 4 4 4 4 4 4 4 4 4 4</stops>\n",
       "    <content><RawArray>\n",
       "        <ptr>9.8 2.2 3.6 5.7</ptr>\n",
       "    </RawArray></content>\n",
       "</ListArray>"
      ]
     },
     "execution_count": 37,
     "metadata": {},
     "output_type": "execute_result"
    }
   ],
   "source": [
    "x = ListArray.random(choices=[RawArray])\n",
    "x"
   ]
  },
  {
   "cell_type": "code",
   "execution_count": 38,
   "metadata": {},
   "outputs": [
    {
     "data": {
      "text/plain": [
       "[[2.2, 3.6, 5.7],\n",
       " [3.6, 5.7],\n",
       " [9.8, 2.2, 3.6, 5.7],\n",
       " [2.2, 3.6, 5.7],\n",
       " [3.6, 5.7],\n",
       " [5.7],\n",
       " [3.6, 5.7],\n",
       " [3.6, 5.7],\n",
       " [2.2, 3.6, 5.7],\n",
       " [2.2, 3.6, 5.7],\n",
       " [3.6, 5.7],\n",
       " [2.2, 3.6, 5.7],\n",
       " [9.8, 2.2, 3.6, 5.7],\n",
       " [3.6, 5.7],\n",
       " [5.7],\n",
       " [5.7],\n",
       " [5.7]]"
      ]
     },
     "execution_count": 38,
     "metadata": {},
     "output_type": "execute_result"
    }
   ],
   "source": [
    "list(x)"
   ]
  },
  {
   "cell_type": "markdown",
   "metadata": {},
   "source": [
    "## Indirection\n",
    "\n"
   ]
  }
 ],
 "metadata": {
  "kernelspec": {
   "display_name": "Python 3",
   "language": "python",
   "name": "python3"
  },
  "language_info": {
   "codemirror_mode": {
    "name": "ipython",
    "version": 3
   },
   "file_extension": ".py",
   "mimetype": "text/x-python",
   "name": "python",
   "nbconvert_exporter": "python",
   "pygments_lexer": "ipython3",
   "version": "3.7.6"
  }
 },
 "nbformat": 4,
 "nbformat_minor": 4
}
