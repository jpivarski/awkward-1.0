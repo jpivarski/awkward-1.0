{
 "cells": [
  {
   "cell_type": "markdown",
   "metadata": {},
   "source": [
    "# 2019-12-20-coffea-demo\n",
    "\n",
    "## 1. Introduction\n",
    "\n",
    "This demo of the new Awkward Array was presented on December 20, 2019, before the final 1.0 version was released. Some interfaces may have changed. To run this notebook, make sure you have version 0.1.36 ([GitHub](https://github.com/scikit-hep/awkward-1.0/releases/tag/0.1.36), [pip](https://pypi.org/project/awkward1/0.1.36/)) by installing\n",
    "\n",
    "```bash\n",
    "pip install 'awkward1==0.1.36'\n",
    "```\n",
    "\n",
    "The basic concepts of Awkward arrays are presented on the [old Awkward README](https://github.com/scikit-hep/awkward-array/tree/0.12.17#readme) and the motivation for a 1.0 rewrite are presented on the [new Awkward README](https://github.com/scikit-hep/awkward-1.0/tree/0.1.32#readme)."
   ]
  },
  {
   "cell_type": "code",
   "execution_count": 1,
   "metadata": {},
   "outputs": [],
   "source": [
    "# The base of the GitHub repo is two levels up from this notebook.\n",
    "import sys\n",
    "import os\n",
    "sys.path.insert(0, os.path.join(os.getcwd(), \"..\", \"..\"))"
   ]
  },
  {
   "cell_type": "markdown",
   "metadata": {},
   "source": [
    "## 2. High-level array class\n",
    "\n",
    "The biggest user-facing change is that, instead of mixing NumPy arrays and `JaggedArray` objects, the new Awkward has a single `Array` class for data analysis."
   ]
  },
  {
   "cell_type": "code",
   "execution_count": 2,
   "metadata": {},
   "outputs": [
    {
     "data": {
      "text/plain": [
       "<Array [[1.1, 2.2, 3.3], [], [4.4, 5.5]] type='3 * var * float64'>"
      ]
     },
     "execution_count": 2,
     "metadata": {},
     "output_type": "execute_result"
    }
   ],
   "source": [
    "import numpy as np\n",
    "import awkward1 as ak\n",
    "\n",
    "array1 = ak.Array([[1.1, 2.2, 3.3], [], [4.4, 5.5]])\n",
    "array1"
   ]
  },
  {
   "cell_type": "code",
   "execution_count": 3,
   "metadata": {},
   "outputs": [
    {
     "data": {
      "text/plain": [
       "<Array [{x: 0, y: []}, ... y: [1.1, 2.2]}] type='3 * {\"x\": int64, \"y\": var * flo...'>"
      ]
     },
     "execution_count": 3,
     "metadata": {},
     "output_type": "execute_result"
    }
   ],
   "source": [
    "array2 = ak.Array([{\"x\": 0, \"y\": []}, {\"x\": 1, \"y\": [1.1]}, {\"x\": 2, \"y\": [1.1, 2.2]}])\n",
    "array2"
   ]
  },
  {
   "cell_type": "markdown",
   "metadata": {},
   "source": [
    "The same `Array` class is used for all data structures, such as the array of lists in `array1` and the array of records in `array2`. (Incidentally, the width of that string representation is exactly large enough to fit into GitHub and StackOverflow text boxes without scrolling!)\n",
    "\n",
    "There won't be any user-level functions that apply to some data types and not others. The result of an operation is likely type-dependent, but its accessibility is not. (At this time, the only existing operations are conversions like `ak.tolist` and descriptions like `ak.typeof`.)"
   ]
  },
  {
   "cell_type": "code",
   "execution_count": 4,
   "metadata": {},
   "outputs": [
    {
     "data": {
      "text/plain": [
       "[[1.1, 2.2, 3.3], [], [4.4, 5.5]]"
      ]
     },
     "execution_count": 4,
     "metadata": {},
     "output_type": "execute_result"
    }
   ],
   "source": [
    "ak.tolist(array1)"
   ]
  },
  {
   "cell_type": "code",
   "execution_count": 5,
   "metadata": {},
   "outputs": [
    {
     "data": {
      "text/plain": [
       "'[[1.1,2.2,3.3],[],[4.4,5.5]]'"
      ]
     },
     "execution_count": 5,
     "metadata": {},
     "output_type": "execute_result"
    }
   ],
   "source": [
    "ak.tojson(array1)"
   ]
  },
  {
   "cell_type": "code",
   "execution_count": 6,
   "metadata": {},
   "outputs": [
    {
     "data": {
      "text/plain": [
       "[{'x': 0, 'y': []}, {'x': 1, 'y': [1.1]}, {'x': 2, 'y': [1.1, 2.2]}]"
      ]
     },
     "execution_count": 6,
     "metadata": {},
     "output_type": "execute_result"
    }
   ],
   "source": [
    "ak.tolist(array2)"
   ]
  },
  {
   "cell_type": "code",
   "execution_count": 7,
   "metadata": {},
   "outputs": [
    {
     "data": {
      "text/plain": [
       "'[{\"x\":0,\"y\":[]},{\"x\":1,\"y\":[1.1]},{\"x\":2,\"y\":[1.1,2.2]}]'"
      ]
     },
     "execution_count": 7,
     "metadata": {},
     "output_type": "execute_result"
    }
   ],
   "source": [
    "ak.tojson(array2)"
   ]
  },
  {
   "cell_type": "code",
   "execution_count": 8,
   "metadata": {},
   "outputs": [
    {
     "data": {
      "text/plain": [
       "3 * var * float64"
      ]
     },
     "execution_count": 8,
     "metadata": {},
     "output_type": "execute_result"
    }
   ],
   "source": [
    "ak.typeof(array1)"
   ]
  },
  {
   "cell_type": "code",
   "execution_count": 9,
   "metadata": {},
   "outputs": [
    {
     "data": {
      "text/plain": [
       "3 * {\"x\": int64, \"y\": var * float64}"
      ]
     },
     "execution_count": 9,
     "metadata": {},
     "output_type": "execute_result"
    }
   ],
   "source": [
    "ak.typeof(array2)"
   ]
  },
  {
   "cell_type": "markdown",
   "metadata": {},
   "source": [
    "Data types are described using the [datashape language](https://datashape.readthedocs.io/en/latest/). Some Awkward features are [not expressible](https://github.com/blaze/datashape/issues/237) in the current datashape specification, so they're expressed in an extension of the language using the same _style_ of syntax."
   ]
  },
  {
   "cell_type": "markdown",
   "metadata": {},
   "source": [
    "## 3. Low-level array classes\n",
    "\n",
    "The old `JaggedArray` and `Table` are still available, but you have to ask for them explicitly with `layout`. They're not \"private\" or \"internal implementations\" (there's no underscore in `layout`): they're public for frameworks like Coffea but hidden from data analysts.\n",
    "\n",
    "As such, their string representations have more low-level detail: the contents of indexes, rather than what they mean as high-level types. (The XML formatting is just an elaboration on Python's angle-bracket convention for `repr` and the fact that we need to denote nesting.)"
   ]
  },
  {
   "cell_type": "code",
   "execution_count": 10,
   "metadata": {},
   "outputs": [
    {
     "data": {
      "text/plain": [
       "<ListOffsetArray64>\n",
       "    <type>var * float64</type>\n",
       "    <offsets><Index64 i=\"[0 3 3 5]\" offset=\"0\" at=\"0x5616f0eb8070\"/></offsets>\n",
       "    <content><NumpyArray format=\"d\" shape=\"5\" data=\"1.1 2.2 3.3 4.4 5.5\" at=\"0x5616f0eba080\">\n",
       "        <type>float64</type>\n",
       "    </NumpyArray></content>\n",
       "</ListOffsetArray64>"
      ]
     },
     "execution_count": 10,
     "metadata": {},
     "output_type": "execute_result"
    }
   ],
   "source": [
    "array1.layout"
   ]
  },
  {
   "cell_type": "code",
   "execution_count": 11,
   "metadata": {},
   "outputs": [
    {
     "data": {
      "text/plain": [
       "<RecordArray>\n",
       "    <type>{\"x\": int64, \"y\": var * float64}</type>\n",
       "    <field index=\"0\" key=\"x\">\n",
       "        <NumpyArray format=\"l\" shape=\"3\" data=\"0 1 2\" at=\"0x5616f0ec0d00\">\n",
       "            <type>int64</type>\n",
       "        </NumpyArray>\n",
       "    </field>\n",
       "    <field index=\"1\" key=\"y\">\n",
       "        <ListOffsetArray64>\n",
       "            <type>var * float64</type>\n",
       "            <offsets><Index64 i=\"[0 0 1 3]\" offset=\"0\" at=\"0x5616f0ec2d10\"/></offsets>\n",
       "            <content><NumpyArray format=\"d\" shape=\"3\" data=\"1.1 1.1 2.2\" at=\"0x5616f0ec4d20\">\n",
       "                <type>float64</type>\n",
       "            </NumpyArray></content>\n",
       "        </ListOffsetArray64>\n",
       "    </field>\n",
       "</RecordArray>"
      ]
     },
     "execution_count": 11,
     "metadata": {},
     "output_type": "execute_result"
    }
   ],
   "source": [
    "array2.layout"
   ]
  },
  {
   "cell_type": "markdown",
   "metadata": {},
   "source": [
    "These classes are defined in C++ and wrapped by pybind11. The `awkward1.Array` class is pure Python. Many of the same operations work for layout classes, though less attention has been paid to its interface."
   ]
  },
  {
   "cell_type": "code",
   "execution_count": 12,
   "metadata": {},
   "outputs": [
    {
     "data": {
      "text/plain": [
       "3 * var * float64"
      ]
     },
     "execution_count": 12,
     "metadata": {},
     "output_type": "execute_result"
    }
   ],
   "source": [
    "ak.typeof(array1)"
   ]
  },
  {
   "cell_type": "code",
   "execution_count": 13,
   "metadata": {},
   "outputs": [
    {
     "data": {
      "text/plain": [
       "var * float64"
      ]
     },
     "execution_count": 13,
     "metadata": {},
     "output_type": "execute_result"
    }
   ],
   "source": [
    "ak.typeof(array1.layout)"
   ]
  },
  {
   "cell_type": "code",
   "execution_count": 14,
   "metadata": {},
   "outputs": [
    {
     "data": {
      "text/plain": [
       "'[[1.1,2.2,3.3],[],[4.4,5.5]]'"
      ]
     },
     "execution_count": 14,
     "metadata": {},
     "output_type": "execute_result"
    }
   ],
   "source": [
    "ak.tojson(array1)"
   ]
  },
  {
   "cell_type": "code",
   "execution_count": 15,
   "metadata": {},
   "outputs": [
    {
     "data": {
      "text/plain": [
       "'[[1.1,2.2,3.3],[],[4.4,5.5]]'"
      ]
     },
     "execution_count": 15,
     "metadata": {},
     "output_type": "execute_result"
    }
   ],
   "source": [
    "ak.tojson(array1.layout)"
   ]
  },
  {
   "cell_type": "code",
   "execution_count": 16,
   "metadata": {},
   "outputs": [
    {
     "data": {
      "text/plain": [
       "'[[1.1,2.2,3.3],[],[4.4,5.5]]'"
      ]
     },
     "execution_count": 16,
     "metadata": {},
     "output_type": "execute_result"
    }
   ],
   "source": [
    "array1.layout.tojson()"
   ]
  },
  {
   "cell_type": "markdown",
   "metadata": {},
   "source": [
    "## 4. Behavioral mix-ins\n",
    "\n",
    "In the original Awkward library, we added behaviors to objects and arrays of objects, like computing `pt` or boosting for arrays of Lorentz vectors, by letting structure classes such as `JaggedArray` multiply inherit from classes providing the implementations. That technique was not fully thought-through: it was easy to lose an array's \"Lorentzness\" when slicing it or performing other operations. It also relies on a Python language feature that can't pass through C++.\n",
    "\n",
    "It has since become clear that behavioral mix-ins aren't an obscure use-case but a primary one, so its implementation requires more thought. Adding behaviors to arrays is now a \"first-class feature,\" built into the array types themselves."
   ]
  },
  {
   "cell_type": "code",
   "execution_count": 17,
   "metadata": {},
   "outputs": [],
   "source": [
    "class PointClass(ak.Record):\n",
    "    def __repr__(self):\n",
    "        return \"<Point({}, {})>\".format(self[\"x\"], self[\"y\"])\n",
    "    \n",
    "    def mag(self):\n",
    "        return abs(np.sqrt(self[\"x\"]**2 + self[\"y\"]**2))\n",
    "\n",
    "ak.namespace[\"Point\"] = PointClass"
   ]
  },
  {
   "cell_type": "code",
   "execution_count": 18,
   "metadata": {},
   "outputs": [
    {
     "data": {
      "text/plain": [
       "<Array [{x: 1, y: 1.1}, ... {x: 3, y: 3.3}] type='3 * {\"x\": int64, \"y\": float64}'>"
      ]
     },
     "execution_count": 18,
     "metadata": {},
     "output_type": "execute_result"
    }
   ],
   "source": [
    "array3 = ak.Array([{\"x\": 1, \"y\": 1.1}, {\"x\": 2, \"y\": 2.2}, {\"x\": 3, \"y\": 3.3}])\n",
    "array3"
   ]
  },
  {
   "cell_type": "code",
   "execution_count": 19,
   "metadata": {},
   "outputs": [
    {
     "data": {
      "text/plain": [
       "{\"x\": int64, \"y\": float64}"
      ]
     },
     "execution_count": 19,
     "metadata": {},
     "output_type": "execute_result"
    }
   ],
   "source": [
    "array3.layout.type"
   ]
  },
  {
   "cell_type": "markdown",
   "metadata": {},
   "source": [
    "Types can have arbitrary parameters, which modify their meaning. These types are JSON-encoded and passed through C++ or wherever the arrays get sent."
   ]
  },
  {
   "cell_type": "code",
   "execution_count": 20,
   "metadata": {},
   "outputs": [
    {
     "data": {
      "text/plain": [
       "struct[[\"x\", \"y\"], [int64, float64], parameters={\"__class__\": \"Point\"}]"
      ]
     },
     "execution_count": 20,
     "metadata": {},
     "output_type": "execute_result"
    }
   ],
   "source": [
    "pointtype = array3.layout.type\n",
    "pointtype[\"__class__\"] = \"Point\"\n",
    "pointtype"
   ]
  },
  {
   "cell_type": "code",
   "execution_count": 21,
   "metadata": {},
   "outputs": [
    {
     "data": {
      "text/plain": [
       "PointType[int64, float64]"
      ]
     },
     "execution_count": 21,
     "metadata": {},
     "output_type": "execute_result"
    }
   ],
   "source": [
    "pointtype[\"__str__\"] = \"PointType[{}, {}]\".format(pointtype.field(\"x\"), pointtype.field(\"y\"))\n",
    "pointtype"
   ]
  },
  {
   "cell_type": "code",
   "execution_count": 22,
   "metadata": {},
   "outputs": [
    {
     "data": {
      "text/plain": [
       "<Array [<Point(1, 1.1)>, ... <Point(3, 3.3)>] type='3 * PointType[int64, float64]'>"
      ]
     },
     "execution_count": 22,
     "metadata": {},
     "output_type": "execute_result"
    }
   ],
   "source": [
    "# There will be a better interface for assigning types...\n",
    "array4 = ak.Array(array3.layout, type=ak.ArrayType(pointtype, len(array3.layout)))\n",
    "array4"
   ]
  },
  {
   "cell_type": "code",
   "execution_count": 23,
   "metadata": {},
   "outputs": [
    {
     "data": {
      "text/plain": [
       "[1.4866068747318506, 2.973213749463701, 4.459820624195552]"
      ]
     },
     "execution_count": 23,
     "metadata": {},
     "output_type": "execute_result"
    }
   ],
   "source": [
    "[x.mag() for x in array4]"
   ]
  },
  {
   "cell_type": "markdown",
   "metadata": {},
   "source": [
    "The elements of this array are `PointClass` instances because the `__class__` parameter is `\"Point\"`, a name that is recognized in Awkward's class namespace. The global namespace is in `ak.namespace`, but custom ones can be passed into the `Array` constructor to turn on/off or change behaviors."
   ]
  },
  {
   "cell_type": "code",
   "execution_count": 24,
   "metadata": {},
   "outputs": [
    {
     "data": {
      "text/plain": [
       "{'char': awkward1.behavior.string.CharBehavior,\n",
       " 'string': awkward1.behavior.string.StringBehavior,\n",
       " 'Point': __main__.PointClass}"
      ]
     },
     "execution_count": 24,
     "metadata": {},
     "output_type": "execute_result"
    }
   ],
   "source": [
    "ak.namespace"
   ]
  },
  {
   "cell_type": "markdown",
   "metadata": {},
   "source": [
    "As you can see, variable-length strings are also implemented as mix-ins. Apart from this type annotation, a string is just a jagged array of 8-bit integers."
   ]
  },
  {
   "cell_type": "code",
   "execution_count": 25,
   "metadata": {},
   "outputs": [
    {
     "data": {
      "text/plain": [
       "<Array ['Daisy', 'Daisy', ... 'answer', 'do.'] type='7 * string'>"
      ]
     },
     "execution_count": 25,
     "metadata": {},
     "output_type": "execute_result"
    }
   ],
   "source": [
    "array5 = ak.Array([\"Daisy\", \"Daisy\", \"give\", \"me\", \"your\", \"answer\", \"do.\"])\n",
    "array5"
   ]
  },
  {
   "cell_type": "code",
   "execution_count": 26,
   "metadata": {},
   "outputs": [
    {
     "data": {
      "text/plain": [
       "<ListOffsetArray64>\n",
       "    <type>string</type>\n",
       "    <offsets><Index64 i=\"[0 5 10 14 16 20 26 29]\" offset=\"0\" at=\"0x5616f0edfc00\"/></offsets>\n",
       "    <content><NumpyArray format=\"B\" shape=\"29\" data=\"0x 44616973 79446169 73796769 76656d65 796f7572 616e7377 6572646f 2e\" at=\"0x5616f0e821e0\">\n",
       "        <type>utf8</type>\n",
       "    </NumpyArray></content>\n",
       "</ListOffsetArray64>"
      ]
     },
     "execution_count": 26,
     "metadata": {},
     "output_type": "execute_result"
    }
   ],
   "source": [
    "array5.layout"
   ]
  },
  {
   "cell_type": "code",
   "execution_count": 27,
   "metadata": {},
   "outputs": [
    {
     "data": {
      "text/plain": [
       "[[68, 97, 105, 115, 121],\n",
       " [68, 97, 105, 115, 121],\n",
       " [103, 105, 118, 101],\n",
       " [109, 101],\n",
       " [121, 111, 117, 114],\n",
       " [97, 110, 115, 119, 101, 114],\n",
       " [100, 111, 46]]"
      ]
     },
     "execution_count": 27,
     "metadata": {},
     "output_type": "execute_result"
    }
   ],
   "source": [
    "ak.tolist(array5.layout)"
   ]
  },
  {
   "cell_type": "code",
   "execution_count": 28,
   "metadata": {},
   "outputs": [
    {
     "data": {
      "text/plain": [
       "[[97, 105, 115, 121],\n",
       " [97, 105, 115, 121],\n",
       " [105, 118, 101],\n",
       " [101],\n",
       " [111, 117, 114],\n",
       " [110, 115, 119, 101, 114],\n",
       " [111, 46]]"
      ]
     },
     "execution_count": 28,
     "metadata": {},
     "output_type": "execute_result"
    }
   ],
   "source": [
    "# Slice it!\n",
    "ak.tolist(array5.layout[:, 1:])"
   ]
  },
  {
   "cell_type": "code",
   "execution_count": 29,
   "metadata": {},
   "outputs": [
    {
     "data": {
      "text/plain": [
       "<Array ['aisy', 'aisy', ... 'nswer', 'o.'] type='7 * string'>"
      ]
     },
     "execution_count": 29,
     "metadata": {},
     "output_type": "execute_result"
    }
   ],
   "source": [
    "# Slice it!\n",
    "array5[:, 1:]"
   ]
  },
  {
   "cell_type": "markdown",
   "metadata": {},
   "source": [
    "Like all behavioral mix-ins, the string interpretation is _only_ applied in the high-level `Array` view, not the layout classes. Thus, a C++ function that generates or uses jagged arrays of Lorentz vectors (e.g. a nice FastJet interface?) does not depend on Python. It only has to manipulate a map of strings.\n",
    "\n",
    "The old Awkward also had an `ObjectArray`, which generated Python objects on demand, such as individual Lorentz vectors, and these had to have the same set of methods as arrays of Lorentz vectors. Keeping those coordinated was difficult. Now, however, the individual objects don't disinherit from the Awkward arrays they come from: the strings above are merely a view (which is why the slice worked). Instead of `Methods` and `ObjectArrays`, we now have a unified mechanism.\n",
    "\n",
    "For instance, this `PointClass` object,"
   ]
  },
  {
   "cell_type": "code",
   "execution_count": 30,
   "metadata": {},
   "outputs": [
    {
     "data": {
      "text/plain": [
       "<Point(3, 3.3)>"
      ]
     },
     "execution_count": 30,
     "metadata": {},
     "output_type": "execute_result"
    }
   ],
   "source": [
    "array4[2]"
   ]
  },
  {
   "cell_type": "markdown",
   "metadata": {},
   "source": [
    "is still an Awkward `Record`."
   ]
  },
  {
   "cell_type": "code",
   "execution_count": 31,
   "metadata": {},
   "outputs": [
    {
     "data": {
      "text/plain": [
       "<Record at=\"2\">\n",
       "    <RecordArray>\n",
       "        <type>PointType[int64, float64]</type>\n",
       "        <field index=\"0\" key=\"x\">\n",
       "            <NumpyArray format=\"l\" shape=\"3\" data=\"1 2 3\" at=\"0x5616f0ed6a90\">\n",
       "                <type>int64</type>\n",
       "            </NumpyArray>\n",
       "        </field>\n",
       "        <field index=\"1\" key=\"y\">\n",
       "            <NumpyArray format=\"d\" shape=\"3\" data=\"1.1 2.2 3.3\" at=\"0x5616f0ed8aa0\">\n",
       "                <type>float64</type>\n",
       "            </NumpyArray>\n",
       "        </field>\n",
       "    </RecordArray>\n",
       "</Record>"
      ]
     },
     "execution_count": 31,
     "metadata": {},
     "output_type": "execute_result"
    }
   ],
   "source": [
    "array4[2].layout"
   ]
  },
  {
   "cell_type": "markdown",
   "metadata": {},
   "source": [
    "## 5. Agreement with NumPy\n",
    "\n",
    "Awkward array represents a superset of NumPy's core, so it must return the same results as NumPy. This was tricky in the old Awkward, when we restricted ourselves to vectorized functions, and this led to hidden limitations: slices were limited to depth `2`, concatenation was limited to `axis <= 1`, and `choose(n)` was limited to `n < 5`. But now that we can write compiled for loops, there are no such limitations."
   ]
  },
  {
   "cell_type": "code",
   "execution_count": 32,
   "metadata": {},
   "outputs": [
    {
     "data": {
      "text/plain": [
       "<Array [[[[0, 1, 2, 3, ... 207, 208, 209]]]] type='2 * 3 * 5 * 7 * int64'>"
      ]
     },
     "execution_count": 32,
     "metadata": {},
     "output_type": "execute_result"
    }
   ],
   "source": [
    "deepnumpy = np.arange(2*3*5*7).reshape(2, 3, 5, 7)\n",
    "deepawkward = ak.Array(deepnumpy)\n",
    "deepawkward"
   ]
  },
  {
   "cell_type": "code",
   "execution_count": 33,
   "metadata": {},
   "outputs": [
    {
     "data": {
      "text/plain": [
       "array([[[[139, 138, 137, 136, 135, 134, 133],\n",
       "         [118, 117, 116, 115, 114, 113, 112],\n",
       "         [118, 117, 116, 115, 114, 113, 112],\n",
       "         [132, 131, 130, 129, 128, 127, 126]],\n",
       "\n",
       "        [[174, 173, 172, 171, 170, 169, 168],\n",
       "         [153, 152, 151, 150, 149, 148, 147],\n",
       "         [153, 152, 151, 150, 149, 148, 147],\n",
       "         [167, 166, 165, 164, 163, 162, 161]]]])"
      ]
     },
     "execution_count": 33,
     "metadata": {},
     "output_type": "execute_result"
    }
   ],
   "source": [
    "deepnumpy[1:, :2, [4, 1, 1, -2], ::-1]"
   ]
  },
  {
   "cell_type": "code",
   "execution_count": 34,
   "metadata": {},
   "outputs": [
    {
     "data": {
      "text/plain": [
       "<Array [... 166, 165, 164, 163, 162, 161]]]] type='1 * 2 * 4 * 7 * int64'>"
      ]
     },
     "execution_count": 34,
     "metadata": {},
     "output_type": "execute_result"
    }
   ],
   "source": [
    "deepawkward[1:, :2, [4, 1, 1, -2], ::-1]"
   ]
  },
  {
   "cell_type": "code",
   "execution_count": 35,
   "metadata": {},
   "outputs": [
    {
     "data": {
      "text/plain": [
       "True"
      ]
     },
     "execution_count": 35,
     "metadata": {},
     "output_type": "execute_result"
    }
   ],
   "source": [
    "ak.tolist(deepnumpy[1:, :2, [4, 1, 1, -2], ::-1]) == ak.tolist(deepawkward[1:, :2, [4, 1, 1, -2], ::-1])"
   ]
  },
  {
   "cell_type": "markdown",
   "metadata": {},
   "source": [
    "## 6. Creating arrays\n",
    "\n",
    "A few of the examples above create arrays by passing them to the `Array` constructor. This is like old Awkward's `fromiter` function. In fact, new Awkward has a `fromiter` function, but it's implicitly called by the `Array` constructor."
   ]
  },
  {
   "cell_type": "code",
   "execution_count": 36,
   "metadata": {},
   "outputs": [
    {
     "data": {
      "text/plain": [
       "<Array [[1.1, 2.2, 3.3], [], [4.4, 5.5]] type='3 * var * float64'>"
      ]
     },
     "execution_count": 36,
     "metadata": {},
     "output_type": "execute_result"
    }
   ],
   "source": [
    "# Calls ak.fromiter, which converts rowwise → columnar data.\n",
    "ak.Array([[1.1, 2.2, 3.3], [], [4.4, 5.5]])"
   ]
  },
  {
   "cell_type": "code",
   "execution_count": 37,
   "metadata": {},
   "outputs": [
    {
     "data": {
      "text/plain": [
       "<Array [[1.1, 2.2, 3.3], [], [4.4, 5.5]] type='3 * var * float64'>"
      ]
     },
     "execution_count": 37,
     "metadata": {},
     "output_type": "execute_result"
    }
   ],
   "source": [
    "# Calls ak.fromjson, which deserializes.\n",
    "ak.Array(\"[[1.1, 2.2, 3.3], [], [4.4, 5.5]]\")"
   ]
  },
  {
   "cell_type": "code",
   "execution_count": 38,
   "metadata": {},
   "outputs": [
    {
     "data": {
      "text/plain": [
       "<Array [[1.1, 2.2, 3.3], [4.4, 5.5, 6.6]] type='2 * 3 * float64'>"
      ]
     },
     "execution_count": 38,
     "metadata": {},
     "output_type": "execute_result"
    }
   ],
   "source": [
    "# Calls ak.fromnumpy, which views.\n",
    "nparray = np.array([[1.1, 2.2, 3.3], [4.4, 5.5, 6.6]])\n",
    "akarray = ak.Array(nparray)\n",
    "akarray"
   ]
  },
  {
   "cell_type": "code",
   "execution_count": 39,
   "metadata": {},
   "outputs": [
    {
     "data": {
      "text/plain": [
       "<Array [[1.1, 999, 3.3], [4.4, 5.5, 6.6]] type='2 * 3 * float64'>"
      ]
     },
     "execution_count": 39,
     "metadata": {},
     "output_type": "execute_result"
    }
   ],
   "source": [
    "nparray[0, 1] = 999\n",
    "akarray"
   ]
  },
  {
   "cell_type": "markdown",
   "metadata": {},
   "source": [
    "You can also build these manually from the low-level layouts, but it's a lot of work!"
   ]
  },
  {
   "cell_type": "code",
   "execution_count": 40,
   "metadata": {},
   "outputs": [
    {
     "data": {
      "text/plain": [
       "<ListOffsetArray64>\n",
       "    <offsets><Index64 i=\"[0 3 3 5]\" offset=\"0\" at=\"0x5616f0ec99a0\"/></offsets>\n",
       "    <content><NumpyArray format=\"d\" shape=\"5\" data=\"1.1 2.2 3.3 4.4 5.5\" at=\"0x5616f0ee3090\"/></content>\n",
       "</ListOffsetArray64>"
      ]
     },
     "execution_count": 40,
     "metadata": {},
     "output_type": "execute_result"
    }
   ],
   "source": [
    "content = ak.layout.NumpyArray(np.array([1.1, 2.2, 3.3, 4.4, 5.5]))\n",
    "offsets = ak.layout.Index64(np.array([0, 3, 3, 5], dtype=np.int64))   # match 64-bit to 64-bit to avoid copy\n",
    "listoffsetarray = ak.layout.ListOffsetArray64(offsets, content)\n",
    "listoffsetarray"
   ]
  },
  {
   "cell_type": "code",
   "execution_count": 41,
   "metadata": {},
   "outputs": [
    {
     "data": {
      "text/plain": [
       "<Array [[1.1, 2.2, 3.3], [], [4.4, 5.5]] type='3 * var * float64'>"
      ]
     },
     "execution_count": 41,
     "metadata": {},
     "output_type": "execute_result"
    }
   ],
   "source": [
    "ak.Array(listoffsetarray)"
   ]
  },
  {
   "cell_type": "markdown",
   "metadata": {},
   "source": [
    "## 7. FillableArray\n",
    "\n",
    "The `fromiter` algorithm has been expanded into a builder interface, so that you can accumulate Awkward arrays gradually."
   ]
  },
  {
   "cell_type": "code",
   "execution_count": 42,
   "metadata": {},
   "outputs": [
    {
     "data": {
      "text/plain": [
       "<FillableArray [{x: -1.67, y: [3, 0, 4, ... y: [3]}] type='10 * {\"x\": float64, \"...'>"
      ]
     },
     "execution_count": 42,
     "metadata": {},
     "output_type": "execute_result"
    }
   ],
   "source": [
    "builder = ak.FillableArray()\n",
    "\n",
    "for i in range(10):\n",
    "    builder.beginrecord()\n",
    "    builder.field(\"x\")\n",
    "    builder.real(np.random.normal())\n",
    "    builder.field(\"y\")\n",
    "    builder.beginlist()\n",
    "    for j in range(np.random.poisson(2.5)):\n",
    "        builder.integer(np.random.randint(0, 10))\n",
    "    builder.endlist()\n",
    "    builder.endrecord()\n",
    "\n",
    "builder"
   ]
  },
  {
   "cell_type": "markdown",
   "metadata": {},
   "source": [
    "This is not a regular array, but you can `snapshot` it to get one (and keep filling the `builder`). A `snapshot` does not copy array data: if you take several snapshots while filling, they _might_ share data. (And they _might_ not, if it has allocated new buffers to grow beyond its reserved space!)"
   ]
  },
  {
   "cell_type": "code",
   "execution_count": 43,
   "metadata": {},
   "outputs": [
    {
     "data": {
      "text/plain": [
       "<Array [{x: -1.67, y: [3, 0, 4, ... y: [3]}] type='10 * {\"x\": float64, \"y\": var ...'>"
      ]
     },
     "execution_count": 43,
     "metadata": {},
     "output_type": "execute_result"
    }
   ],
   "source": [
    "array6 = builder.snapshot()\n",
    "array6"
   ]
  },
  {
   "cell_type": "code",
   "execution_count": 44,
   "metadata": {},
   "outputs": [
    {
     "data": {
      "text/plain": [
       "[{'x': -1.6703813313070799, 'y': [3, 0, 4, 7]},\n",
       " {'x': -0.10744690340458463, 'y': [9, 9, 7]},\n",
       " {'x': 0.4079343007449045, 'y': [2]},\n",
       " {'x': -0.10967551671000512, 'y': [0, 5]},\n",
       " {'x': -0.3754715393782491, 'y': []},\n",
       " {'x': 0.8496379166275715, 'y': [8, 5]},\n",
       " {'x': -1.6003262252921946, 'y': [7, 9]},\n",
       " {'x': 0.7493345808171183, 'y': [3, 3, 1]},\n",
       " {'x': 0.5646686087544998, 'y': [7, 1, 6, 3]},\n",
       " {'x': 2.071962004838478, 'y': [3]}]"
      ]
     },
     "execution_count": 44,
     "metadata": {},
     "output_type": "execute_result"
    }
   ],
   "source": [
    "ak.tolist(array6)"
   ]
  },
  {
   "cell_type": "code",
   "execution_count": 45,
   "metadata": {},
   "outputs": [
    {
     "data": {
      "text/plain": [
       "10 * {\"x\": float64, \"y\": var * int64}"
      ]
     },
     "execution_count": 45,
     "metadata": {},
     "output_type": "execute_result"
    }
   ],
   "source": [
    "ak.typeof(array6)"
   ]
  },
  {
   "cell_type": "markdown",
   "metadata": {},
   "source": [
    "The array that you produce can have nested structure, as shown above. The structure was determined by the order in which `builder` methods were called.\n",
    "\n",
    "You can write algorithms that build arrays as if you were printing out JSON:\n",
    "\n",
    "   * call `beginlist()` instead of printing `\"[\"`,\n",
    "   * call `endlist()` instead of printing `\"]\"`,\n",
    "   * call `beginrecord()` instead of printing `\"{\"`,\n",
    "   * call `endrecord()` instead of printing `\"}\"`,\n",
    "   * call `field(key)` instead of printing `\"key\":`, etc."
   ]
  },
  {
   "cell_type": "code",
   "execution_count": 46,
   "metadata": {},
   "outputs": [],
   "source": [
    "deepbuilder = ak.FillableArray()\n",
    "\n",
    "def deepnesting(depth):\n",
    "    if depth == 0:\n",
    "        deepbuilder.integer(np.random.randint(0, 10))\n",
    "    else:\n",
    "        deepbuilder.beginlist()\n",
    "        for j in range(np.random.poisson(2.5)):\n",
    "            deepnesting(depth - 1)\n",
    "        deepbuilder.endlist()\n",
    "\n",
    "deepnesting(5)"
   ]
  },
  {
   "cell_type": "code",
   "execution_count": 47,
   "metadata": {},
   "outputs": [
    {
     "data": {
      "text/plain": [
       "[[[[[[5, 0, 4, 7, 3]],\n",
       "    [[5, 7, 0, 6, 2], [6]],\n",
       "    [[5, 2, 0]],\n",
       "    [[8, 3], [6], [9, 0, 0, 7], [6]]],\n",
       "   [[[4, 0, 0, 8], [3, 6, 5, 8], [8], [6], [9, 3], []],\n",
       "    [[9, 6]],\n",
       "    [[2, 2, 5, 7, 1], [2, 7, 4, 8], [6, 1], [2], [6, 6, 3, 3]],\n",
       "    [[], [5]]],\n",
       "   [],\n",
       "   [[[0, 6]]]],\n",
       "  [[[[8, 9, 6], [1, 0]],\n",
       "    [[9], [6, 6, 3, 3, 1], [8]],\n",
       "    [[0, 7], [0]],\n",
       "    [[6], [1, 1], [9, 8, 7, 0]],\n",
       "    [[0, 9, 1, 5, 2]]],\n",
       "   [[[1, 9, 8, 3], [7, 5, 6], []], [[3, 8, 9]]],\n",
       "   [[[4, 5], [7, 9, 8, 7], [2]]]]]]"
      ]
     },
     "execution_count": 47,
     "metadata": {},
     "output_type": "execute_result"
    }
   ],
   "source": [
    "ak.tolist(deepbuilder.snapshot())"
   ]
  },
  {
   "cell_type": "code",
   "execution_count": 48,
   "metadata": {},
   "outputs": [
    {
     "data": {
      "text/plain": [
       "1 * var * var * var * var * var * int64"
      ]
     },
     "execution_count": 48,
     "metadata": {},
     "output_type": "execute_result"
    }
   ],
   "source": [
    "ak.typeof(deepbuilder)"
   ]
  },
  {
   "cell_type": "code",
   "execution_count": 49,
   "metadata": {},
   "outputs": [
    {
     "data": {
      "text/plain": [
       "<ListOffsetArray64>\n",
       "    <type>var * var * var * var * var * int64</type>\n",
       "    <offsets><Index64 i=\"[0 2]\" offset=\"0\" at=\"0x5616f0f00520\"/></offsets>\n",
       "    <content><ListOffsetArray64>\n",
       "        <type>var * var * var * var * int64</type>\n",
       "        <offsets><Index64 i=\"[0 4 7]\" offset=\"0\" at=\"0x5616f0f02530\"/></offsets>\n",
       "        <content><ListOffsetArray64>\n",
       "            <type>var * var * var * int64</type>\n",
       "            <offsets><Index64 i=\"[0 4 8 8 9 14 16 17]\" offset=\"0\" at=\"0x5616f0f04540\"/></offsets>\n",
       "            <content><ListOffsetArray64>\n",
       "                <type>var * var * int64</type>\n",
       "                <offsets><Index64 i=\"[0 1 3 4 8 ... 33 34 37 38 41]\" offset=\"0\" at=\"0x5616f0f06550\"/></offsets>\n",
       "                <content><ListOffsetArray64>\n",
       "                    <type>var * int64</type>\n",
       "                    <offsets><Index64 i=\"[0 5 10 11 14 ... 89 92 94 98 99]\" offset=\"0\" at=\"0x5616f0f08560\"/></offsets>\n",
       "                    <content><NumpyArray format=\"l\" shape=\"99\" data=\"5 0 4 7 3 ... 7 9 8 7 2\" at=\"0x5616f0f0a570\">\n",
       "                        <type>int64</type>\n",
       "                    </NumpyArray></content>\n",
       "                </ListOffsetArray64></content>\n",
       "            </ListOffsetArray64></content>\n",
       "        </ListOffsetArray64></content>\n",
       "    </ListOffsetArray64></content>\n",
       "</ListOffsetArray64>"
      ]
     },
     "execution_count": 49,
     "metadata": {},
     "output_type": "execute_result"
    }
   ],
   "source": [
    "deepbuilder.snapshot().layout"
   ]
  },
  {
   "cell_type": "markdown",
   "metadata": {},
   "source": [
    "Both `fromiter` and `fromjson` are implemented using `FillableArray`, the latter using the RapidJSON C++ library for deserialization."
   ]
  },
  {
   "cell_type": "code",
   "execution_count": 50,
   "metadata": {},
   "outputs": [],
   "source": [
    "# !wget https://scikit-hep.org/uproot/examples/HZZ.json"
   ]
  },
  {
   "cell_type": "code",
   "execution_count": 51,
   "metadata": {},
   "outputs": [
    {
     "data": {
      "text/plain": [
       "<Array [{jets: [], ... weight: 0.00876}] type='2421 * {\"jets\": var * {\"px\": floa...'>"
      ]
     },
     "execution_count": 51,
     "metadata": {},
     "output_type": "execute_result"
    }
   ],
   "source": [
    "hzz = ak.fromjson(\"HZZ.json\")\n",
    "hzz"
   ]
  },
  {
   "cell_type": "code",
   "execution_count": 52,
   "metadata": {},
   "outputs": [
    {
     "name": "stdout",
     "output_type": "stream",
     "text": [
      "jets               2421 * var * {\"px\": float64, \"py\": float64, \"pz\": float64, \"E\": float64, \"id\": bool}\n",
      "muons              2421 * var * {\"px\": float64, \"py\": float64, \"pz\": float64, \"E\": float64, \"q\": int64, \"iso\": float64}\n",
      "electrons          2421 * var * {\"px\": float64, \"py\": float64, \"pz\": float64, \"E\": float64, \"q\": int64, \"iso\": float64}\n",
      "photons            2421 * var * {\"px\": float64, \"py\": float64, \"pz\": float64, \"E\": float64, \"iso\": float64}\n",
      "MET                2421 * {\"x\": float64, \"y\": float64}\n",
      "MC_hadronic_b      2421 * {\"px\": float64, \"py\": float64, \"pz\": float64}\n",
      "MC_leptonic_b      2421 * {\"px\": float64, \"py\": float64, \"pz\": float64}\n",
      "MC_hadronicW_q     2421 * {\"px\": float64, \"py\": float64, \"pz\": float64}\n",
      "MC_hadronicW_qbar  2421 * {\"px\": float64, \"py\": float64, \"pz\": float64}\n",
      "MC_lepton          2421 * {\"px\": float64, \"py\": float64, \"pz\": float64, \"pdgid\": int64}\n",
      "MC_neutrino        2421 * {\"px\": float64, \"py\": float64, \"pz\": float64}\n",
      "num_PV             2421 * int64\n",
      "trigger_isomu24    2421 * bool\n",
      "weight             2421 * float64\n"
     ]
    }
   ],
   "source": [
    "for key in hzz.layout.keys():\n",
    "    print(\"{:18s} {}\".format(key, hzz[key].type))"
   ]
  },
  {
   "cell_type": "markdown",
   "metadata": {},
   "source": [
    "The loop over Python objects or JSON nodes was moved from Python into C++, so it's faster. However, the implementation requires vtable-lookups (the type is discovered at runtime), so it's not _a lot_ faster. There's room for specialized methods when the type is known in advance. (See [src/libawkward/io/root.cpp](https://github.com/scikit-hep/awkward-1.0/blob/master/src/libawkward/io/root.cpp) for a ${\\tt std::vector}^N{\\tt<number>}$ implementation.)\n",
    "\n",
    "In general, turning rowwise data into columnar data is about 10× faster than it used to be."
   ]
  },
  {
   "cell_type": "code",
   "execution_count": 53,
   "metadata": {},
   "outputs": [],
   "source": [
    "import awkward as oldawkward\n",
    "import json\n",
    "aslist = json.load(open(\"HZZ.json\")) * 10\n",
    "asjson = json.dumps(aslist)"
   ]
  },
  {
   "cell_type": "code",
   "execution_count": 54,
   "metadata": {},
   "outputs": [
    {
     "name": "stdout",
     "output_type": "stream",
     "text": [
      "253 ms ± 15.1 ms per loop (mean ± std. dev. of 3 runs, 1 loop each)\n"
     ]
    }
   ],
   "source": [
    "%%timeit -r 3\n",
    "\n",
    "ak.fromiter(aslist)                       # new fromiter"
   ]
  },
  {
   "cell_type": "code",
   "execution_count": 55,
   "metadata": {},
   "outputs": [
    {
     "name": "stdout",
     "output_type": "stream",
     "text": [
      "1.87 s ± 80.4 ms per loop (mean ± std. dev. of 3 runs, 1 loop each)\n"
     ]
    }
   ],
   "source": [
    "%%timeit -r 3\n",
    "\n",
    "oldawkward.fromiter(aslist)               # old fromiter"
   ]
  },
  {
   "cell_type": "code",
   "execution_count": 56,
   "metadata": {},
   "outputs": [
    {
     "name": "stdout",
     "output_type": "stream",
     "text": [
      "191 ms ± 1.55 ms per loop (mean ± std. dev. of 3 runs, 10 loops each)\n"
     ]
    }
   ],
   "source": [
    "%%timeit -r 3\n",
    "\n",
    "ak.fromjson(asjson)                       # new fromjson"
   ]
  },
  {
   "cell_type": "code",
   "execution_count": 57,
   "metadata": {},
   "outputs": [
    {
     "name": "stdout",
     "output_type": "stream",
     "text": [
      "2.29 s ± 97.2 ms per loop (mean ± std. dev. of 3 runs, 1 loop each)\n"
     ]
    }
   ],
   "source": [
    "%%timeit -r 3\n",
    "\n",
    "oldawkward.fromiter(json.loads(asjson))   # old equivalent of fromjson"
   ]
  },
  {
   "cell_type": "markdown",
   "metadata": {},
   "source": [
    "## 8. Awkward arrays in Numba\n",
    "\n",
    "One of the motivating goals of the Awkward re-write was to incorporate Numba on the same footing."
   ]
  },
  {
   "cell_type": "code",
   "execution_count": 58,
   "metadata": {},
   "outputs": [],
   "source": [
    "import numba\n",
    "\n",
    "@numba.jit(nopython=True)\n",
    "def muon_sumpt(events):\n",
    "    out = np.zeros(len(events), np.float64)\n",
    "    i = 0\n",
    "    for event in events:\n",
    "        for muon in event[\"muons\"]:\n",
    "            out[i] += np.sqrt(muon[\"px\"]**2 + muon[\"py\"]**2)\n",
    "        i += 1\n",
    "    return out"
   ]
  },
  {
   "cell_type": "code",
   "execution_count": 59,
   "metadata": {},
   "outputs": [
    {
     "data": {
      "text/plain": [
       "array([91.91225969, 24.41791248, 83.40026411, ..., 33.46153652,\n",
       "       63.61981771, 42.93994828])"
      ]
     },
     "execution_count": 59,
     "metadata": {},
     "output_type": "execute_result"
    }
   ],
   "source": [
    "hzz = ak.Array(json.load(open(\"HZZ.json\")) * 100).layout\n",
    "muon_sumpt(hzz)"
   ]
  },
  {
   "cell_type": "markdown",
   "metadata": {},
   "source": [
    "Notice that we can write for loops on event _records_ and muon _records_. We don't have to take apart `JaggedArrays` and write algorithms on offsets and indexes.\n",
    "\n",
    "Incidentally, my first version of the above raised segfaults because the `i += 1` was in the inner loop, rather than the outer loop (indentation error). Since it's Numba, I could debug it by running the pure Python version."
   ]
  },
  {
   "cell_type": "code",
   "execution_count": 60,
   "metadata": {},
   "outputs": [
    {
     "data": {
      "text/plain": [
       "<function __main__.muon_sumpt(events)>"
      ]
     },
     "execution_count": 60,
     "metadata": {},
     "output_type": "execute_result"
    }
   ],
   "source": [
    "muon_sumpt.py_func"
   ]
  },
  {
   "cell_type": "code",
   "execution_count": 61,
   "metadata": {},
   "outputs": [
    {
     "data": {
      "text/plain": [
       "array([91.91225969, 24.41791248, 83.40026411, ..., 33.46153652,\n",
       "       63.61981771, 42.93994828])"
      ]
     },
     "execution_count": 61,
     "metadata": {},
     "output_type": "execute_result"
    }
   ],
   "source": [
    "muon_sumpt.py_func(hzz)"
   ]
  },
  {
   "cell_type": "code",
   "execution_count": 62,
   "metadata": {},
   "outputs": [
    {
     "name": "stdout",
     "output_type": "stream",
     "text": [
      "234 ms ± 5.36 ms per loop (mean ± std. dev. of 3 runs, 1 loop each)\n"
     ]
    }
   ],
   "source": [
    "%%timeit -r 3\n",
    "\n",
    "muon_sumpt(hzz)                           # in Numba"
   ]
  },
  {
   "cell_type": "code",
   "execution_count": 63,
   "metadata": {},
   "outputs": [
    {
     "name": "stdout",
     "output_type": "stream",
     "text": [
      "11.4 s ± 0 ns per loop (mean ± std. dev. of 1 run, 1 loop each)\n"
     ]
    }
   ],
   "source": [
    "%%timeit -r 1\n",
    "\n",
    "muon_sumpt.py_func(hzz)                   # pure Python"
   ]
  },
  {
   "cell_type": "markdown",
   "metadata": {},
   "source": [
    "So, a 50× speedup over Python without changing any code. Debug in Python, accelerate with Numba."
   ]
  },
  {
   "cell_type": "markdown",
   "metadata": {},
   "source": [
    "Awkward arrays could be a benefit to Numba users in general: Numba can handle complex data types by converting Python objects to and from equivalent structs, but that puts a translation burden at the entry and exit of every Numba function. Awkward leaves the data in the same form (big array buffers), transforming only its handles to the data. (JSON → Awkward arrays → Numba could become a useful workflow in industry.)"
   ]
  },
  {
   "cell_type": "markdown",
   "metadata": {},
   "source": [
    "#### Side note...\n",
    "\n",
    "It looks like there's a performance bug in the current implementation: if we remove all particles but muons from what we pass through Numba, we see a 3× speedup relative to leaving them in that scales with the size of the dataset (100× vs 1000×). That shouldn't happen: unused fields are supposed to be ignored in the compiled code. Once everything is operational, we'll investigate these performance issues."
   ]
  },
  {
   "cell_type": "code",
   "execution_count": 64,
   "metadata": {},
   "outputs": [
    {
     "name": "stdout",
     "output_type": "stream",
     "text": [
      "76.2 ms ± 916 µs per loop (mean ± std. dev. of 3 runs, 1 loop each)\n"
     ]
    }
   ],
   "source": [
    "%%timeit -r 3\n",
    "\n",
    "muon_sumpt(hzz.astype(None)[[\"muons\"]])   # in Numba, passing only muons through"
   ]
  },
  {
   "cell_type": "code",
   "execution_count": 65,
   "metadata": {},
   "outputs": [
    {
     "name": "stdout",
     "output_type": "stream",
     "text": [
      "232 ms ± 5.31 ms per loop (mean ± std. dev. of 3 runs, 1 loop each)\n"
     ]
    }
   ],
   "source": [
    "%%timeit -r 3\n",
    "\n",
    "muon_sumpt(hzz.astype(None))              # in Numba, passing everything through"
   ]
  },
  {
   "cell_type": "markdown",
   "metadata": {},
   "source": [
    "## 9. FillableArray in Numba\n",
    "\n",
    "The example above took an Awkward array into a Numba function and did some processing on it. To write data out, we can use `FillableArrays`."
   ]
  },
  {
   "cell_type": "code",
   "execution_count": 66,
   "metadata": {},
   "outputs": [],
   "source": [
    "@numba.jit(nopython=True)\n",
    "def make_data(builder):\n",
    "    for i in range(10):\n",
    "        builder.beginrecord()\n",
    "\n",
    "        builder.field(\"x\")\n",
    "        builder.real(i*1.1)\n",
    "\n",
    "        builder.field(\"y\")\n",
    "        builder.beginlist()\n",
    "        for j in range(i):\n",
    "            builder.integer(j)\n",
    "        builder.endlist()\n",
    "\n",
    "        builder.endrecord()\n",
    "\n",
    "    return builder"
   ]
  },
  {
   "cell_type": "code",
   "execution_count": 67,
   "metadata": {},
   "outputs": [
    {
     "data": {
      "text/plain": [
       "<FillableArray length=\"10\" type=\"{\"x\": float64, \"y\": var * int64}\"/>"
      ]
     },
     "execution_count": 67,
     "metadata": {},
     "output_type": "execute_result"
    }
   ],
   "source": [
    "builder = ak.layout.FillableArray()\n",
    "make_data(builder)"
   ]
  },
  {
   "cell_type": "code",
   "execution_count": 68,
   "metadata": {},
   "outputs": [
    {
     "data": {
      "text/plain": [
       "<RecordArray>\n",
       "    <type>{\"x\": float64, \"y\": var * int64}</type>\n",
       "    <field index=\"0\" key=\"x\">\n",
       "        <NumpyArray format=\"d\" shape=\"10\" data=\"0 1.1 2.2 3.3 4.4 5.5 6.6 7.7 8.8 9.9\" at=\"0x561719fb6470\">\n",
       "            <type>float64</type>\n",
       "        </NumpyArray>\n",
       "    </field>\n",
       "    <field index=\"1\" key=\"y\">\n",
       "        <ListOffsetArray64>\n",
       "            <type>var * int64</type>\n",
       "            <offsets><Index64 i=\"[0 0 1 3 6 ... 15 21 28 36 45]\" offset=\"0\" at=\"0x56171a1d0470\"/></offsets>\n",
       "            <content><NumpyArray format=\"l\" shape=\"45\" data=\"0 0 1 0 1 ... 4 5 6 7 8\" at=\"0x561719b661f0\">\n",
       "                <type>int64</type>\n",
       "            </NumpyArray></content>\n",
       "        </ListOffsetArray64>\n",
       "    </field>\n",
       "</RecordArray>"
      ]
     },
     "execution_count": 68,
     "metadata": {},
     "output_type": "execute_result"
    }
   ],
   "source": [
    "builder.snapshot()"
   ]
  },
  {
   "cell_type": "code",
   "execution_count": 69,
   "metadata": {},
   "outputs": [
    {
     "data": {
      "text/plain": [
       "[{'x': 0.0, 'y': []},\n",
       " {'x': 1.1, 'y': [0]},\n",
       " {'x': 2.2, 'y': [0, 1]},\n",
       " {'x': 3.3000000000000003, 'y': [0, 1, 2]},\n",
       " {'x': 4.4, 'y': [0, 1, 2, 3]},\n",
       " {'x': 5.5, 'y': [0, 1, 2, 3, 4]},\n",
       " {'x': 6.6000000000000005, 'y': [0, 1, 2, 3, 4, 5]},\n",
       " {'x': 7.700000000000001, 'y': [0, 1, 2, 3, 4, 5, 6]},\n",
       " {'x': 8.8, 'y': [0, 1, 2, 3, 4, 5, 6, 7]},\n",
       " {'x': 9.9, 'y': [0, 1, 2, 3, 4, 5, 6, 7, 8]}]"
      ]
     },
     "execution_count": 69,
     "metadata": {},
     "output_type": "execute_result"
    }
   ],
   "source": [
    "ak.tolist(builder.snapshot())"
   ]
  },
  {
   "cell_type": "markdown",
   "metadata": {},
   "source": [
    "Since you can walk over data structures and create data structures (and later, assign fields to datasets like the old `Table`), you have complete freedom to manipulate data\n",
    "\n",
    "   * at compiled-code speeds,\n",
    "   * without having to leave the Python environment,\n",
    "   * without having to rethink your algorithm in terms of array-at-a-time functions.\n",
    "\n",
    "(This _supplements_ the array-at-a-time approach introduced last year.)"
   ]
  },
  {
   "cell_type": "markdown",
   "metadata": {},
   "source": [
    "## 10. Awkward arrays in C++\n",
    "\n",
    "Since everything has been implemented in C++, Awkward 1.0 can be used in C++ programs. More importantly, we will (someday) be able to create Awkward arrays in C++ and access them in Python or vice-versa."
   ]
  },
  {
   "cell_type": "code",
   "execution_count": 70,
   "metadata": {},
   "outputs": [
    {
     "data": {
      "text/plain": [
       "672"
      ]
     },
     "execution_count": 70,
     "metadata": {},
     "output_type": "execute_result"
    }
   ],
   "source": [
    "open(\"test-program.cpp\", \"w\").write(\"\"\"\n",
    "\n",
    "#include <iostream>\n",
    "\n",
    "#include \"awkward/fillable/FillableArray.h\"\n",
    "#include \"awkward/fillable/FillableOptions.h\"\n",
    "\n",
    "namespace ak = awkward;\n",
    "\n",
    "int main(int, char**) {\n",
    "  ak::FillableArray builder(ak::FillableOptions(1024, 2.0));\n",
    "  for (int i = 0;  i < 10;  i++) {\n",
    "    builder.beginrecord();\n",
    "\n",
    "    builder.field_fast(\"x\");    // (field_fast means don't check the whole string, just its pointer)\n",
    "    builder.real(i*1.1);\n",
    "\n",
    "    builder.field_fast(\"y\");\n",
    "    builder.beginlist();\n",
    "    for (int j = 0;  j < i;  j++) {\n",
    "      builder.integer(j);\n",
    "    }\n",
    "    builder.endlist();\n",
    "\n",
    "    builder.endrecord();\n",
    "  }\n",
    "  \n",
    "  std::cout << builder.snapshot()->tojson(false, 1) << std::endl;\n",
    "  return 0;\n",
    "}\n",
    "\"\"\")"
   ]
  },
  {
   "cell_type": "code",
   "execution_count": 71,
   "metadata": {},
   "outputs": [
    {
     "name": "stdout",
     "output_type": "stream",
     "text": [
      "\u001b[38;5;136m#\u001b[39m\u001b[38;5;136minclude\u001b[39m \u001b[38;5;66m<iostream>\u001b[39m\n",
      "\n",
      "\u001b[38;5;136m#\u001b[39m\u001b[38;5;136minclude\u001b[39m \u001b[38;5;66m\"awkward/fillable/FillableArray.h\"\u001b[39m\n",
      "\u001b[38;5;136m#\u001b[39m\u001b[38;5;136minclude\u001b[39m \u001b[38;5;66m\"awkward/fillable/FillableOptions.h\"\u001b[39m\n",
      "\n",
      "\u001b[38;5;28;01mnamespace\u001b[39;00m ak \u001b[38;5;241m=\u001b[39m awkward;\n",
      "\n",
      "\u001b[38;5;125mint\u001b[39m \u001b[38;5;21mmain\u001b[39m(\u001b[38;5;125mint\u001b[39m, \u001b[38;5;125mchar\u001b[39m\u001b[38;5;241m*\u001b[39m\u001b[38;5;241m*\u001b[39m) {\n",
      "  ak\u001b[38;5;241m:\u001b[39m\u001b[38;5;241m:\u001b[39mFillableArray builder(ak\u001b[38;5;241m:\u001b[39m\u001b[38;5;241m:\u001b[39mFillableOptions(\u001b[38;5;241m1024\u001b[39m, \u001b[38;5;241m2.0\u001b[39m));\n",
      "  \u001b[38;5;28;01mfor\u001b[39;00m (\u001b[38;5;125mint\u001b[39m i \u001b[38;5;241m=\u001b[39m \u001b[38;5;241m0\u001b[39m;  i \u001b[38;5;241m<\u001b[39m \u001b[38;5;241m10\u001b[39m;  i\u001b[38;5;241m+\u001b[39m\u001b[38;5;241m+\u001b[39m) {\n",
      "    builder.beginrecord();\n",
      "\n",
      "    builder.field_fast(\u001b[38;5;124m\"\u001b[39m\u001b[38;5;124mx\u001b[39m\u001b[38;5;124m\"\u001b[39m);    \u001b[38;5;66m// (field_fast means don't check the whole string, just its pointer)\u001b[39m\n",
      "    builder.real(i\u001b[38;5;241m*\u001b[39m\u001b[38;5;241m1.1\u001b[39m);\n",
      "\n",
      "    builder.field_fast(\u001b[38;5;124m\"\u001b[39m\u001b[38;5;124my\u001b[39m\u001b[38;5;124m\"\u001b[39m);\n",
      "    builder.beginlist();\n",
      "    \u001b[38;5;28;01mfor\u001b[39;00m (\u001b[38;5;125mint\u001b[39m j \u001b[38;5;241m=\u001b[39m \u001b[38;5;241m0\u001b[39m;  j \u001b[38;5;241m<\u001b[39m i;  j\u001b[38;5;241m+\u001b[39m\u001b[38;5;241m+\u001b[39m) {\n",
      "      builder.integer(j);\n",
      "    }\n",
      "    builder.endlist();\n",
      "\n",
      "    builder.endrecord();\n",
      "  }\n",
      "  \n",
      "  std\u001b[38;5;241m:\u001b[39m\u001b[38;5;241m:\u001b[39mcout \u001b[38;5;241m<\u001b[39m\u001b[38;5;241m<\u001b[39m builder.snapshot()\u001b[38;5;241m-\u001b[39m\u001b[38;5;241m>\u001b[39mtojson(\u001b[38;5;28mfalse\u001b[39m, \u001b[38;5;241m1\u001b[39m) \u001b[38;5;241m<\u001b[39m\u001b[38;5;241m<\u001b[39m std\u001b[38;5;241m:\u001b[39m\u001b[38;5;241m:\u001b[39mendl;\n",
      "  \u001b[38;5;28;01mreturn\u001b[39;00m \u001b[38;5;241m0\u001b[39m;\n",
      "}\n",
      "\n"
     ]
    }
   ],
   "source": [
    "import pygments.formatters\n",
    "import pygments.lexers.c_cpp\n",
    "print(pygments.highlight(open(\"test-program.cpp\").read(),\n",
    "                         pygments.lexers.c_cpp.CppLexer(),\n",
    "                         pygments.formatters.Terminal256Formatter()))"
   ]
  },
  {
   "cell_type": "code",
   "execution_count": 72,
   "metadata": {},
   "outputs": [],
   "source": [
    "!g++ -I../../include -L../../awkward1 test-program.cpp -lawkward-static -lawkward-cpu-kernels-static -o test-program"
   ]
  },
  {
   "cell_type": "code",
   "execution_count": 73,
   "metadata": {},
   "outputs": [
    {
     "name": "stdout",
     "output_type": "stream",
     "text": [
      "[{\"x\":0.0,\"y\":[]},{\"x\":1.1,\"y\":[0]},{\"x\":2.2,\"y\":[0,1]},{\"x\":3.3,\"y\":[0,1,2]},{\"x\":4.4,\"y\":[0,1,2,3]},{\"x\":5.5,\"y\":[0,1,2,3,4]},{\"x\":6.6,\"y\":[0,1,2,3,4,5]},{\"x\":7.7,\"y\":[0,1,2,3,4,5,6]},{\"x\":8.8,\"y\":[0,1,2,3,4,5,6,7]},{\"x\":9.9,\"y\":[0,1,2,3,4,5,6,7,8]}]\n"
     ]
    }
   ],
   "source": [
    "!./test-program"
   ]
  },
  {
   "cell_type": "markdown",
   "metadata": {},
   "source": [
    "## 11. Identities: database-like index for arrays\n",
    "\n",
    "In the [PartiQL toy language](https://github.com/jpivarski/PartiQL#readme), it became apparent that set operations, in which unique records are identified by reference, rather than by value, are important. They provide such operations as joins and lossless unions.\n",
    "\n",
    "No set operations have been implemented, but implementing them will require an index that tracks particle identities through all other operations. This concept of an index is the primary distinction between an array library like NumPy and a relational library like Pandas. In Awkward, this index is called an `Identity` and can optionally be attached to arrays.\n",
    "\n",
    "**Note:** this interface is the most likely to change. Identities have only been implemented at this early stage so that they don't have to be painfully retrofitted later."
   ]
  },
  {
   "cell_type": "code",
   "execution_count": 74,
   "metadata": {},
   "outputs": [],
   "source": [
    "hzzlayout = ak.fromjson(\"HZZ.json\").layout"
   ]
  },
  {
   "cell_type": "code",
   "execution_count": 75,
   "metadata": {},
   "outputs": [
    {
     "data": {
      "text/plain": [
       "<Identity32 ref=\"0\" fieldloc=\"[]\" width=\"1\" offset=\"0\" length=\"2421\" at=\"0x561719a2a800\"/>"
      ]
     },
     "execution_count": 75,
     "metadata": {},
     "output_type": "execute_result"
    }
   ],
   "source": [
    "hzzlayout.setid()\n",
    "hzzlayout.id"
   ]
  },
  {
   "cell_type": "code",
   "execution_count": 76,
   "metadata": {},
   "outputs": [
    {
     "data": {
      "text/plain": [
       "<Identity64 ref=\"2\" fieldloc=\"[(0, 'muons') (1, 'px')]\" width=\"2\" offset=\"0\" length=\"3825\" at=\"0x561719cb5530\"/>"
      ]
     },
     "execution_count": 76,
     "metadata": {},
     "output_type": "execute_result"
    }
   ],
   "source": [
    "hzzlayout.field(\"muons\").content.field(\"px\").id"
   ]
  },
  {
   "cell_type": "code",
   "execution_count": 77,
   "metadata": {},
   "outputs": [
    {
     "data": {
      "text/plain": [
       "array([[   0,    0],\n",
       "       [   0,    1],\n",
       "       [   1,    0],\n",
       "       ...,\n",
       "       [2418,    0],\n",
       "       [2419,    0],\n",
       "       [2420,    0]], dtype=int64)"
      ]
     },
     "execution_count": 77,
     "metadata": {},
     "output_type": "execute_result"
    }
   ],
   "source": [
    "np.asarray(hzzlayout.field(\"muons\").content.field(\"px\").id)"
   ]
  },
  {
   "cell_type": "markdown",
   "metadata": {},
   "source": [
    "An `Identity` is a 2-dimensional array with the same structure as a Pandas row `MultiIndex` with a `fieldloc` for the nested columns. They're equivalent to paths from root (wherever you called `setid`) to the element in question."
   ]
  },
  {
   "cell_type": "code",
   "execution_count": 78,
   "metadata": {},
   "outputs": [
    {
     "data": {
      "text/plain": [
       "(1000, 'muons', 1)"
      ]
     },
     "execution_count": 78,
     "metadata": {},
     "output_type": "execute_result"
    }
   ],
   "source": [
    "hzzlayout[1000, \"muons\", 1].location"
   ]
  },
  {
   "cell_type": "markdown",
   "metadata": {},
   "source": [
    "As a nice side-effect of having indexes, we can give better error messages about where an indexing error occurs. You might use `Identities` just for debugging."
   ]
  },
  {
   "cell_type": "code",
   "execution_count": 79,
   "metadata": {},
   "outputs": [
    {
     "name": "stdout",
     "output_type": "stream",
     "text": [
      "in ListArray64 at id[1000, \"muons\"] attempting to get 2, index out of range\n"
     ]
    }
   ],
   "source": [
    "# Indexing error with an Identity:\n",
    "try:\n",
    "    hzzlayout[1000, \"muons\", 2]\n",
    "except Exception as err:\n",
    "    print(err)"
   ]
  },
  {
   "cell_type": "code",
   "execution_count": 80,
   "metadata": {},
   "outputs": [
    {
     "name": "stdout",
     "output_type": "stream",
     "text": [
      "in ListArray64 attempting to get 2, index out of range\n"
     ]
    }
   ],
   "source": [
    "# Indexing error without an Identity:\n",
    "try:\n",
    "    ak.fromjson(\"HZZ.json\").layout[1000, \"muons\", 2]\n",
    "except Exception as err:\n",
    "    print(err)"
   ]
  },
  {
   "cell_type": "markdown",
   "metadata": {},
   "source": [
    "When the array goes through any kind of transformation, such as the boolean filter below, the `Identity` is similarly selected."
   ]
  },
  {
   "cell_type": "code",
   "execution_count": 81,
   "metadata": {},
   "outputs": [
    {
     "data": {
      "text/plain": [
       "array([False, False, False, ..., False, False, False])"
      ]
     },
     "execution_count": 81,
     "metadata": {},
     "output_type": "execute_result"
    }
   ],
   "source": [
    "mask = np.random.randint(0, 100, len(hzzlayout)) == 0\n",
    "mask"
   ]
  },
  {
   "cell_type": "code",
   "execution_count": 82,
   "metadata": {},
   "outputs": [
    {
     "data": {
      "text/plain": [
       "array([[  14],\n",
       "       [ 190],\n",
       "       [ 322],\n",
       "       [ 336],\n",
       "       [ 357],\n",
       "       [ 531],\n",
       "       [ 600],\n",
       "       [ 932],\n",
       "       [ 934],\n",
       "       [1077],\n",
       "       [1080],\n",
       "       [1484],\n",
       "       [1606],\n",
       "       [1619],\n",
       "       [1682],\n",
       "       [1684],\n",
       "       [1763],\n",
       "       [1767],\n",
       "       [1876],\n",
       "       [2074],\n",
       "       [2091],\n",
       "       [2144]], dtype=int32)"
      ]
     },
     "execution_count": 82,
     "metadata": {},
     "output_type": "execute_result"
    }
   ],
   "source": [
    "selected = hzzlayout[mask]\n",
    "np.asarray(selected.id)"
   ]
  },
  {
   "cell_type": "markdown",
   "metadata": {},
   "source": [
    "In this way, the `Identity` acts as a set of labels that are permanently glued to the array elements."
   ]
  },
  {
   "cell_type": "markdown",
   "metadata": {},
   "source": [
    "## 12. Conclusions\n",
    "\n",
    "Four months into the six-month sprint, the basic shape of the new library is established. It is lacking many features, mostly the ones that worked well in the old library and can be copied over. Yana has started working with me, Josh is beginning to use Awkward in an external (C++) library, and I'll be collaborating with Henry on behavioral mix-ins for Lorentz vectors, and maybe with Lukas on ATLAS data types, soon.\n",
    "\n",
    "In the next two months, Yana and I will be solidifying and feature-loading the internals. I'll also be developing the high-level interface (e.g. adding NumPy ufuncs, NumExpr and Pandas interoperability) and keeping the Numba port up-to-date. I'm also open to contributions to the high-level interface from Coffea. Perhaps we can eliminate the need for a `JaggedCandidateArray` by integrating the ease-of-use features and putting all of the domain-specific methods in a thin behavioral mix-in."
   ]
  }
 ],
 "metadata": {
  "kernelspec": {
   "display_name": "Python 3",
   "language": "python",
   "name": "python3"
  },
  "language_info": {
   "codemirror_mode": {
    "name": "ipython",
    "version": 3
   },
   "file_extension": ".py",
   "mimetype": "text/x-python",
   "name": "python",
   "nbconvert_exporter": "python",
   "pygments_lexer": "ipython3",
   "version": "3.7.6"
  }
 },
 "nbformat": 4,
 "nbformat_minor": 4
}
