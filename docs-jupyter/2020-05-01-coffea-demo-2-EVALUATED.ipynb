{
 "cells": [
  {
   "cell_type": "markdown",
   "metadata": {},
   "source": [
    "# 2020-05-01-coffea-demo-2\n",
    "\n",
    "## 1. Introduction\n",
    "\n",
    "This demo of the new Awkward Array was presented on May 1, 2020, before the version was named 1.0, but the interface is pretty nearly finalized. Nevertheless, It is only guaranteed to work in the current version, 0.2.18, so be sure to install that (from [GitHub](https://github.com/scikit-hep/awkward-1.0/releases/tag/0.2.18) or [pip](https://pypi.org/project/awkward1/0.2.18/)) before running this notebook.\n",
    "\n",
    "```bash\n",
    "pip install 'awkward1==0.2.18'\n",
    "```\n",
    "\n",
    "This demo is also based on [one I presented for the EIC collaboration](https://github.com/jpivarski/2020-04-08-eic-jlab#readme) and it uses the same file."
   ]
  },
  {
   "cell_type": "code",
   "execution_count": 5,
   "metadata": {},
   "outputs": [
    {
     "name": "stdout",
     "output_type": "stream",
     "text": [
      "--2020-04-30 08:33:58--  https://github.com/jpivarski/2020-04-08-eic-jlab/raw/master/open_charm_18x275_10k.root\n",
      "Resolving github.com (github.com)... 140.82.114.3\n",
      "Connecting to github.com (github.com)|140.82.114.3|:443... connected.\n",
      "HTTP request sent, awaiting response... 302 Found\n",
      "Location: https://raw.githubusercontent.com/jpivarski/2020-04-08-eic-jlab/master/open_charm_18x275_10k.root [following]\n",
      "--2020-04-30 08:33:58--  https://raw.githubusercontent.com/jpivarski/2020-04-08-eic-jlab/master/open_charm_18x275_10k.root\n",
      "Resolving raw.githubusercontent.com (raw.githubusercontent.com)... 199.232.28.133\n",
      "Connecting to raw.githubusercontent.com (raw.githubusercontent.com)|199.232.28.133|:443... connected.\n",
      "HTTP request sent, awaiting response... 200 OK\n",
      "Length: 51484369 (49M) [application/octet-stream]\n",
      "Saving to: ‘open_charm_18x275_10k.root’\n",
      "\n",
      "open_charm_18x275_1 100%[===================>]  49.10M   648KB/s    in 79s     \n",
      "\n",
      "2020-04-30 08:35:18 (634 KB/s) - ‘open_charm_18x275_10k.root’ saved [51484369/51484369]\n",
      "\n"
     ]
    }
   ],
   "source": [
    "!wget https://github.com/jpivarski/2020-04-08-eic-jlab/raw/master/open_charm_18x275_10k.root"
   ]
  },
  {
   "cell_type": "code",
   "execution_count": 1,
   "metadata": {},
   "outputs": [],
   "source": [
    "# The base of the GitHub repo is one level up from this notebook.\n",
    "import sys\n",
    "import os\n",
    "sys.path.insert(0, os.path.join(os.getcwd(), \"..\"))"
   ]
  },
  {
   "cell_type": "markdown",
   "metadata": {},
   "source": [
    "## 2. Awkward 1 is ready for users, Uproot 4 is not\n",
    "\n",
    "The only hold-up is that Uproot does not yet produce Awkward 1 arrays, so there's an extra step to turn Awkward 0 arrays into Awkward 1. This conversion is zero-copy (changing names and metadata, but not the array buffers.)"
   ]
  },
  {
   "cell_type": "code",
   "execution_count": 2,
   "metadata": {},
   "outputs": [],
   "source": [
    "import awkward1 as ak\n",
    "import uproot"
   ]
  },
  {
   "cell_type": "code",
   "execution_count": 3,
   "metadata": {},
   "outputs": [],
   "source": [
    "dataset = uproot.open(\"open_charm_18x275_10k.root\")[\"events/tree\"]"
   ]
  },
  {
   "cell_type": "code",
   "execution_count": 4,
   "metadata": {},
   "outputs": [
    {
     "data": {
      "text/plain": [
       "<JaggedArray [[3.2559399993304847 2.196008973692167 2.2949584126781573 ... 0.2419069110316996 0.07194669925781395 0.17262100274545228] [15.846170317435083 0.25560661725265565 1.6318635601175377 ... 0.5642153466643426 0.6807703422724426 0.22676951924278516] [17.897245463728172 42.704132482765466 7.375745975693497 ... 1.4577356674201494 0.12523958867283935 1.5252133879925078] ... [14.275052868713722 0.9663850084397464 0.5160838480632304 ... 0.28541577237872157 0.2146085477379938 1.2414678978190163] [15.889411465092804 52.81059318615546 3.0411592432914123 ... 1.148414045783123 0.06047451686329056 6.562005262653488] [18.518626487094572 1.6368244960746605 4.179017474861343 ... 6.980027298771285 0.09555171117336275 3.043827450063815]] at 0x7ff303377790>"
      ]
     },
     "execution_count": 4,
     "metadata": {},
     "output_type": "execute_result"
    }
   ],
   "source": [
    "# old style\n",
    "dataset.array(\"p\")"
   ]
  },
  {
   "cell_type": "code",
   "execution_count": 5,
   "metadata": {},
   "outputs": [
    {
     "data": {
      "text/plain": [
       "<Array [[3.26, 2.2, 2.29, ... 0.0956, 3.04]] type='10000 * var * float64'>"
      ]
     },
     "execution_count": 5,
     "metadata": {},
     "output_type": "execute_result"
    }
   ],
   "source": [
    "# new style\n",
    "ak.from_awkward0(dataset.array(\"p\"))"
   ]
  },
  {
   "cell_type": "markdown",
   "metadata": {},
   "source": [
    "Let's read them all into new-style arrays."
   ]
  },
  {
   "cell_type": "code",
   "execution_count": 6,
   "metadata": {},
   "outputs": [
    {
     "data": {
      "text/plain": [
       "{'evt_id': <Array [0, 1, 2, 3, ... 9996, 9997, 9998, 9999] type='10000 * uint64'>,\n",
       " 'evt_true_q2': <Array [0, 0, 0, 0, 0, 0, ... 0, 0, 0, 0, 0, 0] type='10000 * float64'>,\n",
       " 'evt_true_x': <Array [0, 0, 0, 0, 0, 0, ... 0, 0, 0, 0, 0, 0] type='10000 * float64'>,\n",
       " 'evt_true_y': <Array [0, 0, 0, 0, 0, 0, ... 0, 0, 0, 0, 0, 0] type='10000 * float64'>,\n",
       " 'evt_true_w2': <Array [0, 0, 0, 0, 0, 0, ... 0, 0, 0, 0, 0, 0] type='10000 * float64'>,\n",
       " 'evt_true_nu': <Array [0, 0, 0, 0, 0, 0, ... 0, 0, 0, 0, 0, 0] type='10000 * float64'>,\n",
       " 'evt_has_dis_info': <Array [0, 0, 0, 0, 0, 0, ... 0, 0, 0, 0, 0, 0] type='10000 * int8'>,\n",
       " 'evt_prt_count': <Array [51, 26, 27, 28, 30, ... 37, 42, 25, 11] type='10000 * uint64'>,\n",
       " 'evt_weight': <Array [0, 0, 0, 0, 0, 0, ... 0, 0, 0, 0, 0, 0] type='10000 * float64'>,\n",
       " 'id': <Array [[12, 79, 80, 81, ... 54, 60, 61, 62]] type='10000 * var * uint64'>,\n",
       " 'pdg': <Array [[11, 211, -211, -321, ... 130, 22, 22]] type='10000 * var * int64'>,\n",
       " 'trk_id': <Array [[0, 0, 0, 0, 0, 0, ... 0, 0, 0, 0, 0]] type='10000 * var * float64'>,\n",
       " 'charge': <Array [[-1, 1, -1, -1, 1, ... -1, 1, 0, 0, 0]] type='10000 * var * float64'>,\n",
       " 'dir_x': <Array [[0.0276, 0.248, ... -0.215, -0.124]] type='10000 * var * float64'>,\n",
       " 'dir_y': <Array [[-0.159, -0.112, ... 0.243, 0.0141]] type='10000 * var * float64'>,\n",
       " 'dir_z': <Array [[0.987, -0.962, ... -0.946, -0.992]] type='10000 * var * float64'>,\n",
       " 'p': <Array [[3.26, 2.2, 2.29, ... 0.0956, 3.04]] type='10000 * var * float64'>,\n",
       " 'px': <Array [[-0.516, -0.246, ... -0.0205, -0.377]] type='10000 * var * float64'>,\n",
       " 'py': <Array [[0.0892, 0.548, ... 0.0232, 0.043]] type='10000 * var * float64'>,\n",
       " 'pz': <Array [[3.21, -2.11, ... -0.0904, -3.02]] type='10000 * var * float64'>,\n",
       " 'tot_e': <Array [[3.46, 2.25, 2.25, ... 0.109, 3.03]] type='10000 * var * float64'>,\n",
       " 'm': <Array [[0, 0, 0, 0, 0, 0, ... 0, 0, 0, 0, 0]] type='10000 * var * float64'>,\n",
       " 'time': <Array [[0, 0, 0, 0, 0, 0, ... 0, 0, 0, 0, 0]] type='10000 * var * float64'>,\n",
       " 'is_beam': <Array [[False, False, ... False, False]] type='10000 * var * bool'>,\n",
       " 'is_stable': <Array [[False, False, ... False, False]] type='10000 * var * bool'>,\n",
       " 'gen_code': <Array [[False, False, ... False, False]] type='10000 * var * bool'>,\n",
       " 'mother_id': <Array [[0, 0, 0, 0, 0, 0, ... 0, 0, 0, 0, 0]] type='10000 * var * uint64'>,\n",
       " 'mother_second_id': <Array [[0, 0, 0, 0, 0, 0, ... 0, 0, 0, 0, 0]] type='10000 * var * uint64'>,\n",
       " 'has_pol_info': <Array [[0, 0, 0, 0, 0, 0, ... 0, 0, 0, 0, 0]] type='10000 * var * float64'>,\n",
       " 'pol_x': <Array [[0, 0, 0, 0, 0, 0, ... 0, 0, 0, 0, 0]] type='10000 * var * float64'>,\n",
       " 'pol_y': <Array [[0, 0, 0, 0, 0, 0, ... 0, 0, 0, 0, 0]] type='10000 * var * float64'>,\n",
       " 'pol_z': <Array [[0, 0, 0, 0, 0, 0, ... 0, 0, 0, 0, 0]] type='10000 * var * float64'>,\n",
       " 'has_vtx_info': <Array [[True, True, True, ... True, True]] type='10000 * var * bool'>,\n",
       " 'vtx_id': <Array [[0, 0, 0, 0, 0, 0, ... 0, 0, 0, 0, 0]] type='10000 * var * uint64'>,\n",
       " 'vtx_x': <Array [[-0.000263, -0.0298, ... -0.0445]] type='10000 * var * float64'>,\n",
       " 'vtx_y': <Array [[0.008, -0.0308, ... -0.0137, -0.0137]] type='10000 * var * float64'>,\n",
       " 'vtx_z': <Array [[0.00735, 0.0124, ... -0.366, -0.366]] type='10000 * var * float64'>,\n",
       " 'vtx_t': <Array [[0, 2.48e-10, ... 0.371, 0.371]] type='10000 * var * float64'>,\n",
       " 'has_smear_info': <Array [[True, True, True, ... True, True]] type='10000 * var * bool'>,\n",
       " 'smear_has_e': <Array [[True, False, False, ... True, True]] type='10000 * var * bool'>,\n",
       " 'smear_has_p': <Array [[True, True, True, ... False, False]] type='10000 * var * bool'>,\n",
       " 'smear_has_pid': <Array [[False, False, ... False, False]] type='10000 * var * bool'>,\n",
       " 'smear_has_vtx': <Array [[True, True, True, ... False, False]] type='10000 * var * bool'>,\n",
       " 'smear_has_any_eppid': <Array [[True, True, True, ... True, True]] type='10000 * var * bool'>,\n",
       " 'smear_orig_tot_e': <Array [[3.24, 2.25, 2.25, ... 0.0956, 3.04]] type='10000 * var * float64'>,\n",
       " 'smear_orig_p': <Array [[3.24, 2.24, 2.25, ... 0.0956, 3.04]] type='10000 * var * float64'>,\n",
       " 'smear_orig_px': <Array [[0.0893, 0.557, ... -0.0205, -0.377]] type='10000 * var * float64'>,\n",
       " 'smear_orig_py': <Array [[-0.517, -0.251, ... 0.0232, 0.043]] type='10000 * var * float64'>,\n",
       " 'smear_orig_pz': <Array [[3.2, -2.16, ... -0.0904, -3.02]] type='10000 * var * float64'>,\n",
       " 'smear_orig_vtx_x': <Array [[0, -3.8e-12, ... -0.0445, -0.0445]] type='10000 * var * float64'>,\n",
       " 'smear_orig_vtx_y': <Array [[0, 7.25e-12, ... -0.0137, -0.0137]] type='10000 * var * float64'>,\n",
       " 'smear_orig_vtx_z': <Array [[0, -2.34e-10, ... -0.366, -0.366]] type='10000 * var * float64'>}"
      ]
     },
     "execution_count": 6,
     "metadata": {},
     "output_type": "execute_result"
    }
   ],
   "source": [
    "arrays = {name: ak.from_awkward0(array) for name, array in dataset.arrays(namedecode=\"utf-8\").items()}\n",
    "arrays"
   ]
  },
  {
   "cell_type": "markdown",
   "metadata": {},
   "source": [
    "In general, it's more useful for data to be combined into a single structure (like NanoEvents), rather than a dict or variables pointing to separate arrays.\n",
    "\n",
    "There are tools for building structures (and they're zero-copy, as much as possible)."
   ]
  },
  {
   "cell_type": "code",
   "execution_count": 7,
   "metadata": {},
   "outputs": [
    {
     "data": {
      "text/plain": [
       "<Array [[{px: -0.516, ... pz: -3.02}]] type='10000 * var * {\"px\": float64, \"py\":...'>"
      ]
     },
     "execution_count": 7,
     "metadata": {},
     "output_type": "execute_result"
    }
   ],
   "source": [
    "example = ak.zip({\"px\": arrays[\"px\"], \"py\": arrays[\"py\"], \"pz\": arrays[\"pz\"]})\n",
    "example"
   ]
  },
  {
   "cell_type": "code",
   "execution_count": 8,
   "metadata": {},
   "outputs": [
    {
     "data": {
      "text/plain": [
       "<Record {px: -0.516, py: 0.0892, pz: 3.21} type='{\"px\": float64, \"py\": float64, ...'>"
      ]
     },
     "execution_count": 8,
     "metadata": {},
     "output_type": "execute_result"
    }
   ],
   "source": [
    "example[0, 0]"
   ]
  },
  {
   "cell_type": "markdown",
   "metadata": {},
   "source": [
    "Building such a structure requires some knowledge of what the ROOT branches mean, but this can be done once for NanoAOD (NanoEvents!)."
   ]
  },
  {
   "cell_type": "code",
   "execution_count": 9,
   "metadata": {},
   "outputs": [],
   "source": [
    "events = ak.zip({\"id\": arrays[\"evt_id\"],\n",
    "                 \"true\": ak.zip({\"q2\": arrays[\"evt_true_q2\"],\n",
    "                                 \"x\": arrays[\"evt_true_x\"],\n",
    "                                 \"y\": arrays[\"evt_true_y\"],\n",
    "                                 \"w2\": arrays[\"evt_true_w2\"],\n",
    "                                 \"nu\": arrays[\"evt_true_nu\"]}),\n",
    "                 \"has_dis_info\": arrays[\"evt_has_dis_info\"],\n",
    "                 \"prt_count\": arrays[\"evt_prt_count\"],\n",
    "                 \"prt\": ak.zip({\"id\": arrays[\"id\"],\n",
    "                                \"pdg\": arrays[\"pdg\"],\n",
    "                                \"trk_id\": arrays[\"trk_id\"],\n",
    "                                \"charge\": arrays[\"charge\"],\n",
    "                                \"dir\": ak.zip({\"x\": arrays[\"dir_x\"],\n",
    "                                               \"y\": arrays[\"dir_y\"],\n",
    "                                               \"z\": arrays[\"dir_z\"]}, with_name=\"point3\"),\n",
    "                                \"p\": arrays[\"p\"],\n",
    "                                \"px\": arrays[\"px\"],\n",
    "                                \"py\": arrays[\"py\"],\n",
    "                                \"pz\": arrays[\"pz\"],\n",
    "                                \"m\": arrays[\"m\"],\n",
    "                                \"time\": arrays[\"time\"],\n",
    "                                \"is_beam\": arrays[\"is_beam\"],\n",
    "                                \"is_stable\": arrays[\"is_stable\"],\n",
    "                                \"gen_code\": arrays[\"gen_code\"],\n",
    "                                \"mother\": ak.zip({\"id\": arrays[\"mother_id\"],\n",
    "                                                  \"second_id\": arrays[\"mother_second_id\"]}),\n",
    "                                \"pol\": ak.zip({\"has_info\": arrays[\"has_pol_info\"],\n",
    "                                               \"x\": arrays[\"pol_x\"],\n",
    "                                               \"y\": arrays[\"pol_y\"],\n",
    "                                               \"z\": arrays[\"pol_z\"]}, with_name=\"point3\"),\n",
    "                                \"vtx\": ak.zip({\"has_info\": arrays[\"has_vtx_info\"],\n",
    "                                               \"id\": arrays[\"vtx_id\"],\n",
    "                                               \"x\": arrays[\"vtx_x\"],\n",
    "                                               \"y\": arrays[\"vtx_y\"],\n",
    "                                               \"z\": arrays[\"vtx_z\"],\n",
    "                                               \"t\": arrays[\"vtx_t\"]}, with_name=\"point3\"),\n",
    "                                \"smear\": ak.zip({\"has_info\": arrays[\"has_smear_info\"],\n",
    "                                                 \"has_e\": arrays[\"smear_has_e\"],\n",
    "                                                 \"has_p\": arrays[\"smear_has_p\"],\n",
    "                                                 \"has_pid\": arrays[\"smear_has_pid\"],\n",
    "                                                 \"has_vtx\": arrays[\"smear_has_vtx\"],\n",
    "                                                 \"has_any_eppid\": arrays[\"smear_has_any_eppid\"],\n",
    "                                                 \"orig\": ak.zip({\"tot_e\": arrays[\"smear_orig_tot_e\"],\n",
    "                                                                 \"p\": arrays[\"smear_orig_p\"],\n",
    "                                                                 \"px\": arrays[\"smear_orig_px\"],\n",
    "                                                                 \"py\": arrays[\"smear_orig_py\"],\n",
    "                                                                 \"pz\": arrays[\"smear_orig_pz\"],\n",
    "                                                                 \"vtx\": ak.zip({\"x\": arrays[\"smear_orig_vtx_x\"],\n",
    "                                                                                \"y\": arrays[\"smear_orig_vtx_y\"],\n",
    "                                                                                \"z\": arrays[\"smear_orig_vtx_z\"]},\n",
    "                                                                               with_name=\"point3\")})})}, with_name=\"particle\")},\n",
    "                depth_limit=1)"
   ]
  },
  {
   "cell_type": "markdown",
   "metadata": {},
   "source": [
    "Conceptually at least, this is now an array of objects.\n",
    "\n",
    "<img src=\"../docs-img/diagrams/cartoon-schematic.png\" width=\"600\">"
   ]
  },
  {
   "cell_type": "code",
   "execution_count": 10,
   "metadata": {},
   "outputs": [
    {
     "data": {
      "text/plain": [
       "{'id': 12,\n",
       " 'pdg': 11,\n",
       " 'trk_id': 0.0,\n",
       " 'charge': -1.0,\n",
       " 'dir': {'x': 0.027552974158427224,\n",
       "  'y': -0.159486986156017,\n",
       "  'z': 0.9868154512683186},\n",
       " 'p': 3.2559399993304847,\n",
       " 'px': -0.5164342370904987,\n",
       " 'py': 0.08917945577907008,\n",
       " 'pz': 3.2134853325739483,\n",
       " 'm': 0.0,\n",
       " 'time': 0.0,\n",
       " 'is_beam': False,\n",
       " 'is_stable': False,\n",
       " 'gen_code': False,\n",
       " 'mother': {'id': 0, 'second_id': 0},\n",
       " 'pol': {'has_info': 0.0, 'x': 0.0, 'y': 0.0, 'z': 0.0},\n",
       " 'vtx': {'has_info': True,\n",
       "  'id': 0,\n",
       "  'x': -0.0002629100828319597,\n",
       "  'y': 0.008004273764408541,\n",
       "  'z': 0.007348471013211623,\n",
       "  't': 0.0},\n",
       " 'smear': {'has_info': True,\n",
       "  'has_e': True,\n",
       "  'has_p': True,\n",
       "  'has_pid': False,\n",
       "  'has_vtx': True,\n",
       "  'has_any_eppid': True,\n",
       "  'orig': {'tot_e': 3.2399370783466463,\n",
       "   'p': 3.239937038049433,\n",
       "   'px': 0.08926990148430726,\n",
       "   'py': -0.5167277935337566,\n",
       "   'pz': 3.1972199302836906,\n",
       "   'vtx': {'x': 0.0, 'y': 0.0, 'z': 0.0}}}}"
      ]
     },
     "execution_count": 10,
     "metadata": {},
     "output_type": "execute_result"
    }
   ],
   "source": [
    "# event 0, particle 0\n",
    "ak.to_list(events[0].prt[0])"
   ]
  },
  {
   "cell_type": "markdown",
   "metadata": {},
   "source": [
    "<img src=\"../docs-img/diagrams/how-it-works-muons.png\" width=\"1000\">"
   ]
  },
  {
   "cell_type": "markdown",
   "metadata": {},
   "source": [
    "## 3. What's new?\n",
    "\n",
    "The most important new features are **robustness** and **uniformity**.\n",
    "\n",
    "The majority of Awkward 0 issues were NumPy corner cases like `np.max([])`, ChunkedArrays not working like all the other types (to such an extent that I recommended against Uproot lazy arrays), and unimplemented special cases.\n",
    "\n",
    "For example:"
   ]
  },
  {
   "cell_type": "code",
   "execution_count": 11,
   "metadata": {},
   "outputs": [
    {
     "ename": "NotImplementedError",
     "evalue": "this implementation cannot slice a JaggedArray in more than two dimensions",
     "output_type": "error",
     "traceback": [
      "\u001b[0;31m---------------------------------------------------------------------------\u001b[0m",
      "\u001b[0;31mNotImplementedError\u001b[0m                       Traceback (most recent call last)",
      "\u001b[0;32m<ipython-input-11-f16f811aa4c8>\u001b[0m in \u001b[0;36m<module>\u001b[0;34m\u001b[0m\n\u001b[1;32m      2\u001b[0m \u001b[0;34m\u001b[0m\u001b[0m\n\u001b[1;32m      3\u001b[0m \u001b[0mold\u001b[0m \u001b[0;34m=\u001b[0m \u001b[0mold_awkward\u001b[0m\u001b[0;34m.\u001b[0m\u001b[0mfromiter\u001b[0m\u001b[0;34m(\u001b[0m\u001b[0;34m[\u001b[0m\u001b[0;34m[\u001b[0m\u001b[0;34m[\u001b[0m\u001b[0;36m0.0\u001b[0m\u001b[0;34m,\u001b[0m \u001b[0;36m1.1\u001b[0m\u001b[0;34m,\u001b[0m \u001b[0;36m2.2\u001b[0m\u001b[0;34m]\u001b[0m\u001b[0;34m,\u001b[0m \u001b[0;34m[\u001b[0m\u001b[0;34m]\u001b[0m\u001b[0;34m,\u001b[0m \u001b[0;34m[\u001b[0m\u001b[0;36m3.3\u001b[0m\u001b[0;34m,\u001b[0m \u001b[0;36m4.4\u001b[0m\u001b[0;34m]\u001b[0m\u001b[0;34m]\u001b[0m\u001b[0;34m,\u001b[0m \u001b[0;34m[\u001b[0m\u001b[0;34m[\u001b[0m\u001b[0;36m5.5\u001b[0m\u001b[0;34m]\u001b[0m\u001b[0;34m]\u001b[0m\u001b[0;34m,\u001b[0m \u001b[0;34m[\u001b[0m\u001b[0;34m]\u001b[0m\u001b[0;34m,\u001b[0m \u001b[0;34m[\u001b[0m\u001b[0;34m[\u001b[0m\u001b[0;36m6.6\u001b[0m\u001b[0;34m,\u001b[0m \u001b[0;36m7.7\u001b[0m\u001b[0;34m,\u001b[0m \u001b[0;36m8.8\u001b[0m\u001b[0;34m,\u001b[0m \u001b[0;36m9.9\u001b[0m\u001b[0;34m]\u001b[0m\u001b[0;34m]\u001b[0m\u001b[0;34m]\u001b[0m\u001b[0;34m)\u001b[0m\u001b[0;34m\u001b[0m\u001b[0;34m\u001b[0m\u001b[0m\n\u001b[0;32m----> 4\u001b[0;31m \u001b[0mold\u001b[0m\u001b[0;34m[\u001b[0m\u001b[0;34m:\u001b[0m\u001b[0;34m,\u001b[0m \u001b[0;34m:\u001b[0m\u001b[0;34m:\u001b[0m\u001b[0;34m-\u001b[0m\u001b[0;36m1\u001b[0m\u001b[0;34m,\u001b[0m \u001b[0;34m:\u001b[0m\u001b[0;34m:\u001b[0m\u001b[0;36m2\u001b[0m\u001b[0;34m]\u001b[0m\u001b[0;34m\u001b[0m\u001b[0;34m\u001b[0m\u001b[0m\n\u001b[0m",
      "\u001b[0;32m~/miniconda3/lib/python3.7/site-packages/awkward-0.12.20-py3.7.egg/awkward/array/jagged.py\u001b[0m in \u001b[0;36m__getitem__\u001b[0;34m(self, where)\u001b[0m\n\u001b[1;32m    627\u001b[0m                 \u001b[0mnslices\u001b[0m \u001b[0;34m+=\u001b[0m \u001b[0;36m1\u001b[0m\u001b[0;34m\u001b[0m\u001b[0;34m\u001b[0m\u001b[0m\n\u001b[1;32m    628\u001b[0m                 \u001b[0;32mif\u001b[0m \u001b[0mnslices\u001b[0m \u001b[0;34m>=\u001b[0m \u001b[0;36m2\u001b[0m\u001b[0;34m:\u001b[0m\u001b[0;34m\u001b[0m\u001b[0;34m\u001b[0m\u001b[0m\n\u001b[0;32m--> 629\u001b[0;31m                     \u001b[0;32mraise\u001b[0m \u001b[0mNotImplementedError\u001b[0m\u001b[0;34m(\u001b[0m\u001b[0;34m\"this implementation cannot slice a JaggedArray in more than two dimensions\"\u001b[0m\u001b[0;34m)\u001b[0m\u001b[0;34m\u001b[0m\u001b[0;34m\u001b[0m\u001b[0m\n\u001b[0m\u001b[1;32m    630\u001b[0m \u001b[0;34m\u001b[0m\u001b[0m\n\u001b[1;32m    631\u001b[0m                 \u001b[0;31m# If we sliced down to an empty jagged array, take a shortcut\u001b[0m\u001b[0;34m\u001b[0m\u001b[0;34m\u001b[0m\u001b[0;34m\u001b[0m\u001b[0m\n",
      "\u001b[0;31mNotImplementedError\u001b[0m: this implementation cannot slice a JaggedArray in more than two dimensions"
     ]
    }
   ],
   "source": [
    "import awkward as old_awkward\n",
    "\n",
    "old = old_awkward.fromiter([[[0.0, 1.1, 2.2], [], [3.3, 4.4]], [[5.5]], [], [[6.6, 7.7, 8.8, 9.9]]])\n",
    "old[:, ::-1, ::2]"
   ]
  },
  {
   "cell_type": "code",
   "execution_count": 12,
   "metadata": {},
   "outputs": [
    {
     "data": {
      "text/plain": [
       "<Array [[[3.3], [], [0, ... [], [[6.6, 8.8]]] type='4 * var * var * float64'>"
      ]
     },
     "execution_count": 12,
     "metadata": {},
     "output_type": "execute_result"
    }
   ],
   "source": [
    "new = ak.from_iter([[[0.0, 1.1, 2.2], [], [3.3, 4.4]], [[5.5]], [], [[6.6, 7.7, 8.8, 9.9]]])\n",
    "new[:, ::-1, ::2]"
   ]
  },
  {
   "cell_type": "markdown",
   "metadata": {},
   "source": [
    "Many slices in many jagged dimensions? No problem!\n",
    "\n",
    "It's because these functions are now written in C++, functionality like slicing can be written in a more natural way (recursive), allowing for generality. The restriction to only NumPy calls in the old library limited implementations to special cases. C++ type-checking also ensures that no methods are missing.\n",
    "\n",
    "<img src=\"../docs-img/diagrams/awkward-1-0-layers.png\" width=\"600\">"
   ]
  },
  {
   "cell_type": "markdown",
   "metadata": {},
   "source": [
    "Beyond uniformity, the main new features are:\n",
    "\n",
    "   * Single high-level ak.Array class\n",
    "   * Masking, rather than cutting\n",
    "   * Easier to override with physics behaviors\n",
    "   * Everything can be used in Numba\n",
    "   * Everything can be used in Pandas\n",
    "   * NumPy conformance and the \"axis\" parameter\n",
    "   * Producing and consuming arrays in pure C++\n",
    "   * Documentation!"
   ]
  },
  {
   "cell_type": "markdown",
   "metadata": {},
   "source": [
    "## 4. Single high-level ak.Array class\n",
    "\n",
    "(Its printed representation is exactly wide enough to fit in GitHub and StackOverflow boxes without scrolling. :)"
   ]
  },
  {
   "cell_type": "code",
   "execution_count": 13,
   "metadata": {},
   "outputs": [
    {
     "data": {
      "text/plain": [
       "<Array [{id: 0, true: {q2: 0, x: 0, ... ] type='10000 * {\"id\": uint64, \"true\": {...'>"
      ]
     },
     "execution_count": 13,
     "metadata": {},
     "output_type": "execute_result"
    }
   ],
   "source": [
    "events"
   ]
  },
  {
   "cell_type": "code",
   "execution_count": 14,
   "metadata": {},
   "outputs": [
    {
     "data": {
      "text/plain": [
       "10000 * {\"id\": uint64, \"true\": {\"q2\": float64, \"x\": float64, \"y\": float64, \"w2\": float64, \"nu\": float64}, \"has_dis_info\": int8, \"prt_count\": uint64, \"prt\": var * particle[\"id\": uint64, \"pdg\": int64, \"trk_id\": float64, \"charge\": float64, \"dir\": point3[\"x\": float64, \"y\": float64, \"z\": float64], \"p\": float64, \"px\": float64, \"py\": float64, \"pz\": float64, \"m\": float64, \"time\": float64, \"is_beam\": bool, \"is_stable\": bool, \"gen_code\": bool, \"mother\": {\"id\": uint64, \"second_id\": uint64}, \"pol\": point3[\"has_info\": float64, \"x\": float64, \"y\": float64, \"z\": float64], \"vtx\": point3[\"has_info\": bool, \"id\": uint64, \"x\": float64, \"y\": float64, \"z\": float64, \"t\": float64], \"smear\": {\"has_info\": bool, \"has_e\": bool, \"has_p\": bool, \"has_pid\": bool, \"has_vtx\": bool, \"has_any_eppid\": bool, \"orig\": {\"tot_e\": float64, \"p\": float64, \"px\": float64, \"py\": float64, \"pz\": float64, \"vtx\": point3[\"x\": float64, \"y\": float64, \"z\": float64]}}]}"
      ]
     },
     "execution_count": 14,
     "metadata": {},
     "output_type": "execute_result"
    }
   ],
   "source": [
    "ak.type(events)"
   ]
  },
  {
   "cell_type": "markdown",
   "metadata": {},
   "source": [
    "You can use dots or strings for \"column\" slices."
   ]
  },
  {
   "cell_type": "code",
   "execution_count": 15,
   "metadata": {},
   "outputs": [
    {
     "data": {
      "text/plain": [
       "(<Array [[{x: 0, y: 0, z: 0, ... z: -0.366}]] type='10000 * var * point3[\"x\": flo...'>,\n",
       " <Array [[{x: 0, y: 0, z: 0, ... z: -0.366}]] type='10000 * var * point3[\"x\": flo...'>)"
      ]
     },
     "execution_count": 15,
     "metadata": {},
     "output_type": "execute_result"
    }
   ],
   "source": [
    "events.prt.smear.orig.vtx, events[\"prt\", \"smear\", \"orig\", \"vtx\"]"
   ]
  },
  {
   "cell_type": "code",
   "execution_count": 16,
   "metadata": {},
   "outputs": [
    {
     "data": {
      "text/plain": [
       "10000 * var * point3[\"x\": float64, \"y\": float64, \"z\": float64]"
      ]
     },
     "execution_count": 16,
     "metadata": {},
     "output_type": "execute_result"
    }
   ],
   "source": [
    "ak.type(events.prt.smear.orig.vtx)"
   ]
  },
  {
   "cell_type": "markdown",
   "metadata": {},
   "source": [
    "You can slice them as before (with more generality)."
   ]
  },
  {
   "cell_type": "code",
   "execution_count": 17,
   "metadata": {},
   "outputs": [
    {
     "data": {
      "text/plain": [
       "(<Particle: name=\"p\", pdgid=2212, mass=938.272081 ± 0.000006 MeV>,\n",
       " <Particle: name=\"pi+\", pdgid=211, mass=139.57061 ± 0.00024 MeV>,\n",
       " <Particle: name=\"K+\", pdgid=321, mass=493.677 ± 0.016 MeV>)"
      ]
     },
     "execution_count": 17,
     "metadata": {},
     "output_type": "execute_result"
    }
   ],
   "source": [
    "from particle import Particle     # https://github.com/scikit-hep/particle\n",
    "Particle.from_string(\"p\"), Particle.from_string(\"pi+\"), Particle.from_string(\"K+\")"
   ]
  },
  {
   "cell_type": "code",
   "execution_count": 18,
   "metadata": {},
   "outputs": [
    {
     "data": {
      "text/plain": [
       "<Array [[{id: 79, pdg: 211, ... ] type='10000 * var * particle[\"id\": uint64, \"pd...'>"
      ]
     },
     "execution_count": 18,
     "metadata": {},
     "output_type": "execute_result"
    }
   ],
   "source": [
    "events.prt[abs(events.prt.pdg) == abs(Particle.from_string(\"pi+\").pdgid)]"
   ]
  },
  {
   "cell_type": "markdown",
   "metadata": {},
   "source": [
    "And assign new collections to objects (which follow the normal broadcasting rules)."
   ]
  },
  {
   "cell_type": "code",
   "execution_count": 19,
   "metadata": {},
   "outputs": [],
   "source": [
    "# Assignments have to be through __setitem__ (brackets), not __setattr__ (as an attribute).\n",
    "# Is that a problem? (Assigning as an attribute would have to be implemented with care, if at all.)\n",
    "\n",
    "events[\"protons\"] = events.prt[abs(events.prt.pdg) == abs(Particle.from_string(\"p\").pdgid)]\n",
    "events[\"pions\"] = events.prt[abs(events.prt.pdg) == abs(Particle.from_string(\"pi+\").pdgid)]\n",
    "events[\"kaons\"] = events.prt[abs(events.prt.pdg) == abs(Particle.from_string(\"K+\").pdgid)]"
   ]
  },
  {
   "cell_type": "markdown",
   "metadata": {},
   "source": [
    "The nested structures you remember from Awkward 0 (e.g. JaggedArray of JaggedArray) are hidden inside the `layout` parameter."
   ]
  },
  {
   "cell_type": "code",
   "execution_count": 20,
   "metadata": {
    "collapsed": true,
    "jupyter": {
     "outputs_hidden": true
    }
   },
   "outputs": [
    {
     "data": {
      "text/plain": [
       "<RecordArray>\n",
       "    <field index=\"0\" key=\"id\">\n",
       "        <NumpyArray format=\"L\" shape=\"10000\" data=\"0x 00000000 00000000 01000000 00000000 ... 0e270000 00000000 0f270000 00000000\" at=\"0x559169ffb130\"/>\n",
       "    </field>\n",
       "    <field index=\"1\" key=\"true\">\n",
       "        <RecordArray>\n",
       "            <field index=\"0\" key=\"q2\">\n",
       "                <NumpyArray format=\"d\" shape=\"10000\" data=\"0 0 0 0 0 ... 0 0 0 0 0\" at=\"0x55916a02a280\"/>\n",
       "            </field>\n",
       "            <field index=\"1\" key=\"x\">\n",
       "                <NumpyArray format=\"d\" shape=\"10000\" data=\"0 0 0 0 0 ... 0 0 0 0 0\" at=\"0x55916a03db10\"/>\n",
       "            </field>\n",
       "            <field index=\"2\" key=\"y\">\n",
       "                <NumpyArray format=\"d\" shape=\"10000\" data=\"0 0 0 0 0 ... 0 0 0 0 0\" at=\"0x55916a0513a0\"/>\n",
       "            </field>\n",
       "            <field index=\"3\" key=\"w2\">\n",
       "                <NumpyArray format=\"d\" shape=\"10000\" data=\"0 0 0 0 0 ... 0 0 0 0 0\" at=\"0x55916a064c30\"/>\n",
       "            </field>\n",
       "            <field index=\"4\" key=\"nu\">\n",
       "                <NumpyArray format=\"d\" shape=\"10000\" data=\"0 0 0 0 0 ... 0 0 0 0 0\" at=\"0x55916a0784c0\"/>\n",
       "            </field>\n",
       "        </RecordArray>\n",
       "    </field>\n",
       "    <field index=\"2\" key=\"has_dis_info\">\n",
       "        <NumpyArray format=\"b\" shape=\"10000\" data=\"0x 00000000 00000000 00000000 00000000 ... 00000000 00000000 00000000 00000000\" at=\"0x559169fe0b40\"/>\n",
       "    </field>\n",
       "    <field index=\"3\" key=\"prt_count\">\n",
       "        <NumpyArray format=\"L\" shape=\"10000\" data=\"0x 33000000 00000000 1a000000 00000000 ... 19000000 00000000 0b000000 00000000\" at=\"0x55916a08bd50\"/>\n",
       "    </field>\n",
       "    <field index=\"4\" key=\"prt\">\n",
       "        <ListOffsetArray64>\n",
       "            <offsets><Index64 i=\"[0 51 77 104 132 ... 349159 349196 349238 349263 349274]\" offset=\"0\" length=\"10001\" at=\"0x55916a777bf0\"/></offsets>\n",
       "            <content><RecordArray>\n",
       "                <parameters>\n",
       "                    <param key=\"__record__\">\"particle\"</param>\n",
       "                </parameters>\n",
       "                <field index=\"0\" key=\"id\">\n",
       "                    <NumpyArray format=\"L\" shape=\"349274\" data=\"0x 0c000000 00000000 4f000000 00000000 ... 3d000000 00000000 3e000000 00000000\" at=\"0x55916ddb6730\"/>\n",
       "                </field>\n",
       "                <field index=\"1\" key=\"pdg\">\n",
       "                    <NumpyArray format=\"l\" shape=\"349274\" data=\"11 211 -211 -321 211 ... -211 211 130 22 22\" at=\"0x55916e060a10\"/>\n",
       "                </field>\n",
       "                <field index=\"2\" key=\"trk_id\">\n",
       "                    <NumpyArray format=\"d\" shape=\"349274\" data=\"0 0 0 0 0 ... 0 0 0 0 0\" at=\"0x55916e30acf0\"/>\n",
       "                </field>\n",
       "                <field index=\"3\" key=\"charge\">\n",
       "                    <NumpyArray format=\"d\" shape=\"349274\" data=\"-1 1 -1 -1 1 ... -1 1 0 0 0\" at=\"0x55916e5b4fd0\"/>\n",
       "                </field>\n",
       "                <field index=\"4\" key=\"dir\">\n",
       "                    <RecordArray>\n",
       "                        <parameters>\n",
       "                            <param key=\"__record__\">\"point3\"</param>\n",
       "                        </parameters>\n",
       "                        <field index=\"0\" key=\"x\">\n",
       "                            <NumpyArray format=\"d\" shape=\"349274\" data=\"0.027553 0.248434 -0.277899 0.309572 -0.167544 ... -0.108699 -0.0518003 -0.141061 -0.214623 -0.123903\" at=\"0x55916e85f2b0\"/>\n",
       "                        </field>\n",
       "                        <field index=\"1\" key=\"y\">\n",
       "                            <NumpyArray format=\"d\" shape=\"349274\" data=\"-0.159487 -0.111816 0.142611 -0.923673 0.0469602 ... -0.142527 -0.0331373 0.0365915 0.242795 0.0141387\" at=\"0x55916eb09590\"/>\n",
       "                        </field>\n",
       "                        <field index=\"2\" key=\"z\">\n",
       "                            <NumpyArray format=\"d\" shape=\"349274\" data=\"0.986815 -0.962173 -0.949965 -0.225819 -0.984746 ... -0.983804 -0.998108 -0.989324 -0.946038 -0.992194\" at=\"0x55916edb3870\"/>\n",
       "                        </field>\n",
       "                    </RecordArray>\n",
       "                </field>\n",
       "                <field index=\"5\" key=\"p\">\n",
       "                    <NumpyArray format=\"d\" shape=\"349274\" data=\"3.25594 2.19601 2.29496 0.421673 0.762466 ... 6.65947 1.35225 6.98003 0.0955517 3.04383\" at=\"0x55916f05db50\"/>\n",
       "                </field>\n",
       "                <field index=\"6\" key=\"px\">\n",
       "                    <NumpyArray format=\"d\" shape=\"349274\" data=\"-0.516434 -0.246332 0.32777 -0.389352 0.0358586 ... -0.943958 -0.0431158 -0.984608 -0.0205076 -0.37714\" at=\"0x559170559de0\"/>\n",
       "                </field>\n",
       "                <field index=\"7\" key=\"py\">\n",
       "                    <NumpyArray format=\"d\" shape=\"349274\" data=\"0.0891795 0.548427 -0.640543 0.130388 -0.127838 ... -0.721661 -0.0671122 0.25541 0.0231995 0.0430359\" at=\"0x5591708040c0\"/>\n",
       "                </field>\n",
       "                <field index=\"8\" key=\"pz\">\n",
       "                    <NumpyArray format=\"d\" shape=\"349274\" data=\"3.21349 -2.11211 -2.17924 -0.0959791 -0.750817 ... -6.55261 -1.34989 -6.90551 -0.0903955 -3.02007\" at=\"0x559170aae3a0\"/>\n",
       "                </field>\n",
       "                <field index=\"9\" key=\"m\">\n",
       "                    <NumpyArray format=\"d\" shape=\"349274\" data=\"0 0 0 0 0 ... 0 0 0 0 0\" at=\"0x559170d58680\"/>\n",
       "                </field>\n",
       "                <field index=\"10\" key=\"time\">\n",
       "                    <NumpyArray format=\"d\" shape=\"349274\" data=\"0 0 0 0 0 ... 0 0 0 0 0\" at=\"0x559171002960\"/>\n",
       "                </field>\n",
       "                <field index=\"11\" key=\"is_beam\">\n",
       "                    <NumpyArray format=\"?\" shape=\"349274\" data=\"false false false false false ... false false false false false\" at=\"0x55916f307e30\"/>\n",
       "                </field>\n",
       "                <field index=\"12\" key=\"is_stable\">\n",
       "                    <NumpyArray format=\"?\" shape=\"349274\" data=\"false false false false false ... false false false false false\" at=\"0x55916f35d2a0\"/>\n",
       "                </field>\n",
       "                <field index=\"13\" key=\"gen_code\">\n",
       "                    <NumpyArray format=\"?\" shape=\"349274\" data=\"false false false false false ... false false false false false\" at=\"0x55916f3b2710\"/>\n",
       "                </field>\n",
       "                <field index=\"14\" key=\"mother\">\n",
       "                    <RecordArray>\n",
       "                        <field index=\"0\" key=\"id\">\n",
       "                            <NumpyArray format=\"L\" shape=\"349274\" data=\"0x 00000000 00000000 00000000 00000000 ... 00000000 00000000 00000000 00000000\" at=\"0x5591712acc40\"/>\n",
       "                        </field>\n",
       "                        <field index=\"1\" key=\"second_id\">\n",
       "                            <NumpyArray format=\"L\" shape=\"349274\" data=\"0x 00000000 00000000 00000000 00000000 ... 00000000 00000000 00000000 00000000\" at=\"0x559171556f20\"/>\n",
       "                        </field>\n",
       "                    </RecordArray>\n",
       "                </field>\n",
       "                <field index=\"15\" key=\"pol\">\n",
       "                    <RecordArray>\n",
       "                        <parameters>\n",
       "                            <param key=\"__record__\">\"point3\"</param>\n",
       "                        </parameters>\n",
       "                        <field index=\"0\" key=\"has_info\">\n",
       "                            <NumpyArray format=\"d\" shape=\"349274\" data=\"0 0 0 0 0 ... 0 0 0 0 0\" at=\"0x559171801200\"/>\n",
       "                        </field>\n",
       "                        <field index=\"1\" key=\"x\">\n",
       "                            <NumpyArray format=\"d\" shape=\"349274\" data=\"0 0 0 0 0 ... 0 0 0 0 0\" at=\"0x559171aab4e0\"/>\n",
       "                        </field>\n",
       "                        <field index=\"2\" key=\"y\">\n",
       "                            <NumpyArray format=\"d\" shape=\"349274\" data=\"0 0 0 0 0 ... 0 0 0 0 0\" at=\"0x559171d557c0\"/>\n",
       "                        </field>\n",
       "                        <field index=\"3\" key=\"z\">\n",
       "                            <NumpyArray format=\"d\" shape=\"349274\" data=\"0 0 0 0 0 ... 0 0 0 0 0\" at=\"0x559171fffaa0\"/>\n",
       "                        </field>\n",
       "                    </RecordArray>\n",
       "                </field>\n",
       "                <field index=\"16\" key=\"vtx\">\n",
       "                    <RecordArray>\n",
       "                        <parameters>\n",
       "                            <param key=\"__record__\">\"point3\"</param>\n",
       "                        </parameters>\n",
       "                        <field index=\"0\" key=\"has_info\">\n",
       "                            <NumpyArray format=\"?\" shape=\"349274\" data=\"true true true true true ... true true true true true\" at=\"0x55916f407b80\"/>\n",
       "                        </field>\n",
       "                        <field index=\"1\" key=\"id\">\n",
       "                            <NumpyArray format=\"L\" shape=\"349274\" data=\"0x 00000000 00000000 00000000 00000000 ... 00000000 00000000 00000000 00000000\" at=\"0x5591722a9d80\"/>\n",
       "                        </field>\n",
       "                        <field index=\"2\" key=\"x\">\n",
       "                            <NumpyArray format=\"d\" shape=\"349274\" data=\"-0.00026291 -0.0298481 0.0148263 0.00869691 0.00108291 ... -0.0269033 -0.0366606 -0.0444159 -0.0445135 -0.0445135\" at=\"0x559172554060\"/>\n",
       "                        </field>\n",
       "                        <field index=\"3\" key=\"y\">\n",
       "                            <NumpyArray format=\"d\" shape=\"349274\" data=\"0.00800427 -0.0307572 0.00616288 0.00529068 -0.00954817 ... -0.0443382 -0.0207049 -0.0137213 -0.013705 -0.013705\" at=\"0x5591727fe340\"/>\n",
       "                        </field>\n",
       "                        <field index=\"4\" key=\"z\">\n",
       "                            <NumpyArray format=\"d\" shape=\"349274\" data=\"0.00734847 0.0123955 0.00898812 -0.00503089 0.00436542 ... -0.401909 -0.356779 -0.365048 -0.365812 -0.365812\" at=\"0x559172aa8620\"/>\n",
       "                        </field>\n",
       "                        <field index=\"5\" key=\"t\">\n",
       "                            <NumpyArray format=\"d\" shape=\"349274\" data=\"0 2.47988e-10 2.47988e-10 -1.63291e-10 -1.40206e-10 ... 0.369963 0.369963 0.369963 0.370733 0.370733\" at=\"0x559172d52900\"/>\n",
       "                        </field>\n",
       "                    </RecordArray>\n",
       "                </field>\n",
       "                <field index=\"17\" key=\"smear\">\n",
       "                    <RecordArray>\n",
       "                        <field index=\"0\" key=\"has_info\">\n",
       "                            <NumpyArray format=\"?\" shape=\"349274\" data=\"true true true true true ... true true true true true\" at=\"0x55916f45cff0\"/>\n",
       "                        </field>\n",
       "                        <field index=\"1\" key=\"has_e\">\n",
       "                            <NumpyArray format=\"?\" shape=\"349274\" data=\"true false false false false ... false false true true true\" at=\"0x55916f4b2460\"/>\n",
       "                        </field>\n",
       "                        <field index=\"2\" key=\"has_p\">\n",
       "                            <NumpyArray format=\"?\" shape=\"349274\" data=\"true true true true true ... true true false false false\" at=\"0x559172ffcbe0\"/>\n",
       "                        </field>\n",
       "                        <field index=\"3\" key=\"has_pid\">\n",
       "                            <NumpyArray format=\"?\" shape=\"349274\" data=\"false false false false false ... false false false false false\" at=\"0x559173052050\"/>\n",
       "                        </field>\n",
       "                        <field index=\"4\" key=\"has_vtx\">\n",
       "                            <NumpyArray format=\"?\" shape=\"349274\" data=\"true true true true true ... true true false false false\" at=\"0x5591730a74c0\"/>\n",
       "                        </field>\n",
       "                        <field index=\"5\" key=\"has_any_eppid\">\n",
       "                            <NumpyArray format=\"?\" shape=\"349274\" data=\"true true true true true ... true true true true true\" at=\"0x5591730fc930\"/>\n",
       "                        </field>\n",
       "                        <field index=\"6\" key=\"orig\">\n",
       "                            <RecordArray>\n",
       "                                <field index=\"0\" key=\"tot_e\">\n",
       "                                    <NumpyArray format=\"d\" shape=\"349274\" data=\"3.23994 2.24694 2.25221 0.64959 0.769988 ... 6.66943 1.30333 6.99775 0.0955517 3.04383\" at=\"0x559173151da0\"/>\n",
       "                                </field>\n",
       "                                <field index=\"1\" key=\"p\">\n",
       "                                    <NumpyArray format=\"d\" shape=\"349274\" data=\"3.23994 2.2426 2.24788 0.422194 0.757233 ... 6.66797 1.29583 6.98003 0.0955517 3.04383\" at=\"0x5591733fc080\"/>\n",
       "                                </field>\n",
       "                                <field index=\"2\" key=\"px\">\n",
       "                                    <NumpyArray format=\"d\" shape=\"349274\" data=\"0.0892699 0.557139 -0.624684 0.130699 -0.12687 ... -0.724804 -0.0671245 -0.984608 -0.0205076 -0.37714\" at=\"0x5591736a6360\"/>\n",
       "                                </field>\n",
       "                                <field index=\"3\" key=\"py\">\n",
       "                                    <NumpyArray format=\"d\" shape=\"349274\" data=\"-0.516728 -0.250759 0.320574 -0.389969 0.0355598 ... -0.950369 -0.0429404 0.25541 0.0231995 0.0430359\" at=\"0x559173950640\"/>\n",
       "                                </field>\n",
       "                                <field index=\"4\" key=\"pz\">\n",
       "                                    <NumpyArray format=\"d\" shape=\"349274\" data=\"3.19722 -2.15777 -2.13541 -0.0953392 -0.745682 ... -6.55998 -1.29338 -6.90551 -0.0903955 -3.02007\" at=\"0x559173bfa920\"/>\n",
       "                                </field>\n",
       "                                <field index=\"5\" key=\"vtx\">\n",
       "                                    <RecordArray>\n",
       "                                        <parameters>\n",
       "                                            <param key=\"__record__\">\"point3\"</param>\n",
       "                                        </parameters>\n",
       "                                        <field index=\"0\" key=\"x\">\n",
       "                                            <NumpyArray format=\"d\" shape=\"349274\" data=\"0 -3.80262e-12 -3.80262e-12 -1.84679e-12 -1.25212e-12 ... -0.0444159 -0.0444159 -0.0444159 -0.0445135 -0.0445135\" at=\"0x559173ea4c00\"/>\n",
       "                                        </field>\n",
       "                                        <field index=\"1\" key=\"y\">\n",
       "                                            <NumpyArray format=\"d\" shape=\"349274\" data=\"0 7.24513e-12 7.24513e-12 4.00892e-12 3.23978e-12 ... -0.0137213 -0.0137213 -0.0137213 -0.013705 -0.013705\" at=\"0x55917414eee0\"/>\n",
       "                                        </field>\n",
       "                                        <field index=\"2\" key=\"z\">\n",
       "                                            <NumpyArray format=\"d\" shape=\"349274\" data=\"0 -2.34332e-10 -2.34332e-10 1.81961e-10 1.50073e-10 ... -0.365048 -0.365048 -0.365048 -0.365812 -0.365812\" at=\"0x5591743f91c0\"/>\n",
       "                                        </field>\n",
       "                                    </RecordArray>\n",
       "                                </field>\n",
       "                            </RecordArray>\n",
       "                        </field>\n",
       "                    </RecordArray>\n",
       "                </field>\n",
       "            </RecordArray></content>\n",
       "        </ListOffsetArray64>\n",
       "    </field>\n",
       "    <field index=\"5\" key=\"protons\">\n",
       "        <ListOffsetArray64>\n",
       "            <offsets><Index64 i=\"[0 1 1 2 3 ... 6999 6999 6999 6999 6999]\" offset=\"0\" length=\"10001\" at=\"0x55916a6e5410\"/></offsets>\n",
       "            <content><RecordArray>\n",
       "                <parameters>\n",
       "                    <param key=\"__record__\">\"particle\"</param>\n",
       "                </parameters>\n",
       "                <field index=\"0\" key=\"id\">\n",
       "                    <NumpyArray format=\"L\" shape=\"6999\" data=\"0x 7d000000 00000000 33000000 00000000 ... 2b000000 00000000 39000000 00000000\" at=\"0x55916a6f8ca0\"/>\n",
       "                </field>\n",
       "                <field index=\"1\" key=\"pdg\">\n",
       "                    <NumpyArray format=\"l\" shape=\"6999\" data=\"2212 2212 -2212 -2212 2212 ... 2212 -2212 -2212 2212 -2212\" at=\"0x55916a706760\"/>\n",
       "                </field>\n",
       "                <field index=\"2\" key=\"trk_id\">\n",
       "                    <NumpyArray format=\"d\" shape=\"6999\" data=\"0 0 0 0 0 ... 0 0 0 0 0\" at=\"0x55916a714220\"/>\n",
       "                </field>\n",
       "                <field index=\"3\" key=\"charge\">\n",
       "                    <NumpyArray format=\"d\" shape=\"6999\" data=\"1 1 -1 -1 1 ... 1 -1 -1 1 -1\" at=\"0x55916a721ce0\"/>\n",
       "                </field>\n",
       "                <field index=\"4\" key=\"dir\">\n",
       "                    <RecordArray>\n",
       "                        <parameters>\n",
       "                            <param key=\"__record__\">\"point3\"</param>\n",
       "                        </parameters>\n",
       "                        <field index=\"0\" key=\"x\">\n",
       "                            <NumpyArray format=\"d\" shape=\"6999\" data=\"0.0682326 -0.016418 0.0903978 -0.310142 -0.483286 ... 0.731453 -0.18319 -0.119458 0.721691 -0.381436\" at=\"0x55916a72f7a0\"/>\n",
       "                        </field>\n",
       "                        <field index=\"1\" key=\"y\">\n",
       "                            <NumpyArray format=\"d\" shape=\"6999\" data=\"0.0149287 0.124503 0.0539932 -0.103179 0.431807 ... -0.441589 0.862657 -0.14349 0.662295 -0.267553\" at=\"0x55916a73d260\"/>\n",
       "                        </field>\n",
       "                        <field index=\"2\" key=\"z\">\n",
       "                            <NumpyArray format=\"d\" shape=\"6999\" data=\"-0.997558 -0.992083 -0.994441 -0.945075 -0.761563 ... 0.519593 0.471449 -0.982416 -0.201313 -0.884829\" at=\"0x55916a74ad20\"/>\n",
       "                        </field>\n",
       "                    </RecordArray>\n",
       "                </field>\n",
       "                <field index=\"5\" key=\"p\">\n",
       "                    <NumpyArray format=\"d\" shape=\"6999\" data=\"3.95525 7.37575 5.32781 1.54688 0.999196 ... 0.29678 0.768566 3.58268 0.659256 2.45556\" at=\"0x55916a7587e0\"/>\n",
       "                </field>\n",
       "                <field index=\"6\" key=\"px\">\n",
       "                    <NumpyArray format=\"d\" shape=\"6999\" data=\"0.059783 0.928475 0.288073 -0.159379 0.432162 ... -0.131461 0.662459 -0.516434 0.436471 -0.658873\" at=\"0x55917049aea0\"/>\n",
       "                </field>\n",
       "                <field index=\"7\" key=\"py\">\n",
       "                    <NumpyArray format=\"d\" shape=\"6999\" data=\"0.272123 -0.122713 0.484074 -0.479307 -0.482233 ... 0.217161 -0.141141 -0.428661 0.475915 -0.938463\" at=\"0x5591704a8960\"/>\n",
       "                </field>\n",
       "                <field index=\"8\" key=\"pz\">\n",
       "                    <NumpyArray format=\"d\" shape=\"6999\" data=\"-3.94543 -7.31604 -5.29795 -1.46208 -0.760973 ... 0.153745 0.363209 -3.51925 -0.132729 -2.17139\" at=\"0x5591704b6420\"/>\n",
       "                </field>\n",
       "                <field index=\"9\" key=\"m\">\n",
       "                    <NumpyArray format=\"d\" shape=\"6999\" data=\"0 0 0 0 0 ... 0 0 0 0 0\" at=\"0x5591704c3ee0\"/>\n",
       "                </field>\n",
       "                <field index=\"10\" key=\"time\">\n",
       "                    <NumpyArray format=\"d\" shape=\"6999\" data=\"0 0 0 0 0 ... 0 0 0 0 0\" at=\"0x5591704d19a0\"/>\n",
       "                </field>\n",
       "                <field index=\"11\" key=\"is_beam\">\n",
       "                    <NumpyArray format=\"?\" shape=\"6999\" data=\"false false false false false ... false false false false false\" at=\"0x55916a184570\"/>\n",
       "                </field>\n",
       "                <field index=\"12\" key=\"is_stable\">\n",
       "                    <NumpyArray format=\"?\" shape=\"6999\" data=\"false false false false false ... false false false false false\" at=\"0x55916a396530\"/>\n",
       "                </field>\n",
       "                <field index=\"13\" key=\"gen_code\">\n",
       "                    <NumpyArray format=\"?\" shape=\"6999\" data=\"false false false false false ... false false false false false\" at=\"0x55916a398090\"/>\n",
       "                </field>\n",
       "                <field index=\"14\" key=\"mother\">\n",
       "                    <RecordArray>\n",
       "                        <field index=\"0\" key=\"id\">\n",
       "                            <NumpyArray format=\"L\" shape=\"6999\" data=\"0x 00000000 00000000 00000000 00000000 ... 00000000 00000000 00000000 00000000\" at=\"0x5591704df460\"/>\n",
       "                        </field>\n",
       "                        <field index=\"1\" key=\"second_id\">\n",
       "                            <NumpyArray format=\"L\" shape=\"6999\" data=\"0x 00000000 00000000 00000000 00000000 ... 00000000 00000000 00000000 00000000\" at=\"0x5591704ecf20\"/>\n",
       "                        </field>\n",
       "                    </RecordArray>\n",
       "                </field>\n",
       "                <field index=\"15\" key=\"pol\">\n",
       "                    <RecordArray>\n",
       "                        <parameters>\n",
       "                            <param key=\"__record__\">\"point3\"</param>\n",
       "                        </parameters>\n",
       "                        <field index=\"0\" key=\"has_info\">\n",
       "                            <NumpyArray format=\"d\" shape=\"6999\" data=\"0 0 0 0 0 ... 0 0 0 0 0\" at=\"0x5591704fa9e0\"/>\n",
       "                        </field>\n",
       "                        <field index=\"1\" key=\"x\">\n",
       "                            <NumpyArray format=\"d\" shape=\"6999\" data=\"0 0 0 0 0 ... 0 0 0 0 0\" at=\"0x5591705084a0\"/>\n",
       "                        </field>\n",
       "                        <field index=\"2\" key=\"y\">\n",
       "                            <NumpyArray format=\"d\" shape=\"6999\" data=\"0 0 0 0 0 ... 0 0 0 0 0\" at=\"0x559170515f60\"/>\n",
       "                        </field>\n",
       "                        <field index=\"3\" key=\"z\">\n",
       "                            <NumpyArray format=\"d\" shape=\"6999\" data=\"0 0 0 0 0 ... 0 0 0 0 0\" at=\"0x559170523a20\"/>\n",
       "                        </field>\n",
       "                    </RecordArray>\n",
       "                </field>\n",
       "                <field index=\"16\" key=\"vtx\">\n",
       "                    <RecordArray>\n",
       "                        <parameters>\n",
       "                            <param key=\"__record__\">\"point3\"</param>\n",
       "                        </parameters>\n",
       "                        <field index=\"0\" key=\"has_info\">\n",
       "                            <NumpyArray format=\"?\" shape=\"6999\" data=\"true true true true true ... true true true true true\" at=\"0x55916a399bf0\"/>\n",
       "                        </field>\n",
       "                        <field index=\"1\" key=\"id\">\n",
       "                            <NumpyArray format=\"L\" shape=\"6999\" data=\"0x 00000000 00000000 00000000 00000000 ... 00000000 00000000 00000000 00000000\" at=\"0x5591705314e0\"/>\n",
       "                        </field>\n",
       "                        <field index=\"2\" key=\"x\">\n",
       "                            <NumpyArray format=\"d\" shape=\"6999\" data=\"3.15355 -0.0207362 0.0163689 -26.1901 -0.0120004 ... 0.00212758 -23.5586 -8.17097 0.00297227 -0.0087613\" at=\"0x55917053efa0\"/>\n",
       "                        </field>\n",
       "                        <field index=\"3\" key=\"y\">\n",
       "                            <NumpyArray format=\"d\" shape=\"6999\" data=\"1.37217 0.0277999 0.00767936 -12.3931 -0.00189663 ... -0.00110075 148.605 -14.8574 0.0103879 -0.00238783\" at=\"0x55916aabfc20\"/>\n",
       "                        </field>\n",
       "                        <field index=\"4\" key=\"z\">\n",
       "                            <NumpyArray format=\"d\" shape=\"6999\" data=\"-51.0527 0.0273418 0.00321018 -75.1904 0.0275791 ... -0.000680827 103.026 -98.7725 0.00176639 -0.0114439\" at=\"0x55916aacd6e0\"/>\n",
       "                        </field>\n",
       "                        <field index=\"5\" key=\"t\">\n",
       "                            <NumpyArray format=\"d\" shape=\"6999\" data=\"52.8911 4.99011e-11 4.30549e-12 92.7263 4.03951e-12 ... 1.76138e-11 278.039 104.816 3.12274e-10 3.12135e-10\" at=\"0x55916aadb1a0\"/>\n",
       "                        </field>\n",
       "                    </RecordArray>\n",
       "                </field>\n",
       "                <field index=\"17\" key=\"smear\">\n",
       "                    <RecordArray>\n",
       "                        <field index=\"0\" key=\"has_info\">\n",
       "                            <NumpyArray format=\"?\" shape=\"6999\" data=\"true true true true true ... true true true true true\" at=\"0x55916a168f60\"/>\n",
       "                        </field>\n",
       "                        <field index=\"1\" key=\"has_e\">\n",
       "                            <NumpyArray format=\"?\" shape=\"6999\" data=\"false false false false false ... false false false false false\" at=\"0x55916a16aac0\"/>\n",
       "                        </field>\n",
       "                        <field index=\"2\" key=\"has_p\">\n",
       "                            <NumpyArray format=\"?\" shape=\"6999\" data=\"true true true true true ... true true true true true\" at=\"0x55916a16c620\"/>\n",
       "                        </field>\n",
       "                        <field index=\"3\" key=\"has_pid\">\n",
       "                            <NumpyArray format=\"?\" shape=\"6999\" data=\"false false false false false ... false false false false false\" at=\"0x55916a0fd880\"/>\n",
       "                        </field>\n",
       "                        <field index=\"4\" key=\"has_vtx\">\n",
       "                            <NumpyArray format=\"?\" shape=\"6999\" data=\"true true true true true ... true true true true true\" at=\"0x55916a0ff3e0\"/>\n",
       "                        </field>\n",
       "                        <field index=\"5\" key=\"has_any_eppid\">\n",
       "                            <NumpyArray format=\"?\" shape=\"6999\" data=\"true true true true true ... true true true true true\" at=\"0x55916a100f40\"/>\n",
       "                        </field>\n",
       "                        <field index=\"6\" key=\"orig\">\n",
       "                            <RecordArray>\n",
       "                                <field index=\"0\" key=\"tot_e\">\n",
       "                                    <NumpyArray format=\"d\" shape=\"6999\" data=\"4.10129 7.40965 5.40619 1.80872 1.36991 ... 0.983289 1.21152 3.69245 1.14412 2.67811\" at=\"0x55916aae8c60\"/>\n",
       "                                </field>\n",
       "                                <field index=\"1\" key=\"p\">\n",
       "                                    <NumpyArray format=\"d\" shape=\"6999\" data=\"3.99252 7.35 5.32414 1.54632 0.998152 ... 0.294118 0.766444 3.57125 0.654725 2.50837\" at=\"0x55916aaf6720\"/>\n",
       "                                </field>\n",
       "                                <field index=\"2\" key=\"px\">\n",
       "                                    <NumpyArray format=\"d\" shape=\"6999\" data=\"0.27242 -0.120672 0.481291 -0.47958 -0.482393 ... 0.215134 -0.140405 -0.426614 0.472509 -0.956781\" at=\"0x55916ab041e0\"/>\n",
       "                                </field>\n",
       "                                <field index=\"3\" key=\"py\">\n",
       "                                    <NumpyArray format=\"d\" shape=\"6999\" data=\"0.0596032 0.915094 0.287468 -0.159548 0.431009 ... -0.129879 0.661178 -0.512438 0.433621 -0.67112\" at=\"0x55916ab11ca0\"/>\n",
       "                                </field>\n",
       "                                <field index=\"4\" key=\"pz\">\n",
       "                                    <NumpyArray format=\"d\" shape=\"6999\" data=\"-3.98277 -7.29182 -5.29455 -1.46139 -0.760155 ... 0.152822 0.361339 -3.50845 -0.131804 -2.21948\" at=\"0x55916ab1f760\"/>\n",
       "                                </field>\n",
       "                                <field index=\"5\" key=\"vtx\">\n",
       "                                    <RecordArray>\n",
       "                                        <parameters>\n",
       "                                            <param key=\"__record__\">\"point3\"</param>\n",
       "                                        </parameters>\n",
       "                                        <field index=\"0\" key=\"x\">\n",
       "                                            <NumpyArray format=\"d\" shape=\"6999\" data=\"3.1566 1.0187e-12 7.91211e-13 -26.1893 8.84169e-13 ... -3.03898e-14 -23.5562 -8.17231 -9.13158e-12 -8.95472e-12\" at=\"0x55916ab2d220\"/>\n",
       "                                        </field>\n",
       "                                        <field index=\"1\" key=\"y\">\n",
       "                                            <NumpyArray format=\"d\" shape=\"6999\" data=\"1.3715 3.45821e-12 2.01496e-13 -12.3989 -9.90438e-14 ... -9.42088e-12 148.602 -14.8607 -8.21802e-12 -8.02271e-12\" at=\"0x55916ab3ace0\"/>\n",
       "                                        </field>\n",
       "                                        <field index=\"2\" key=\"z\">\n",
       "                                            <NumpyArray format=\"d\" shape=\"6999\" data=\"-51.0944 -4.87595e-11 -2.88438e-12 -75.1811 -5.70598e-12 ... -1.39258e-12 103.019 -98.7734 -2.79783e-10 -2.79767e-10\" at=\"0x55916ab487a0\"/>\n",
       "                                        </field>\n",
       "                                    </RecordArray>\n",
       "                                </field>\n",
       "                            </RecordArray>\n",
       "                        </field>\n",
       "                    </RecordArray>\n",
       "                </field>\n",
       "            </RecordArray></content>\n",
       "        </ListOffsetArray64>\n",
       "    </field>\n",
       "    <field index=\"6\" key=\"pions\">\n",
       "        <ListOffsetArray64>\n",
       "            <offsets><Index64 i=\"[0 23 31 44 52 ... 120052 120063 120077 120086 120089]\" offset=\"0\" length=\"10001\" at=\"0x55916a4495a0\"/></offsets>\n",
       "            <content><RecordArray>\n",
       "                <parameters>\n",
       "                    <param key=\"__record__\">\"particle\"</param>\n",
       "                </parameters>\n",
       "                <field index=\"0\" key=\"id\">\n",
       "                    <NumpyArray format=\"L\" shape=\"120089\" data=\"0x 4f000000 00000000 50000000 00000000 ... 35000000 00000000 36000000 00000000\" at=\"0x55916c07c8f0\"/>\n",
       "                </field>\n",
       "                <field index=\"1\" key=\"pdg\">\n",
       "                    <NumpyArray format=\"l\" shape=\"120089\" data=\"211 -211 211 -211 -211 ... 211 -211 -211 -211 211\" at=\"0x55916c1671c0\"/>\n",
       "                </field>\n",
       "                <field index=\"2\" key=\"trk_id\">\n",
       "                    <NumpyArray format=\"d\" shape=\"120089\" data=\"0 0 0 0 0 ... 0 0 0 0 0\" at=\"0x55916c251a90\"/>\n",
       "                </field>\n",
       "                <field index=\"3\" key=\"charge\">\n",
       "                    <NumpyArray format=\"d\" shape=\"120089\" data=\"1 -1 1 -1 -1 ... 1 -1 -1 -1 1\" at=\"0x55916c33c360\"/>\n",
       "                </field>\n",
       "                <field index=\"4\" key=\"dir\">\n",
       "                    <RecordArray>\n",
       "                        <parameters>\n",
       "                            <param key=\"__record__\">\"point3\"</param>\n",
       "                        </parameters>\n",
       "                        <field index=\"0\" key=\"x\">\n",
       "                            <NumpyArray format=\"d\" shape=\"120089\" data=\"0.248434 -0.277899 -0.167544 0.112003 -0.782573 ... -0.572138 -0.843908 0.077928 -0.108699 -0.0518003\" at=\"0x55916c426c30\"/>\n",
       "                        </field>\n",
       "                        <field index=\"1\" key=\"y\">\n",
       "                            <NumpyArray format=\"d\" shape=\"120089\" data=\"-0.111816 0.142611 0.0469602 -0.164189 -0.253045 ... -0.499148 -0.247465 -0.106763 -0.142527 -0.0331373\" at=\"0x55916c511500\"/>\n",
       "                        </field>\n",
       "                        <field index=\"2\" key=\"z\">\n",
       "                            <NumpyArray format=\"d\" shape=\"120089\" data=\"-0.962173 -0.949965 -0.984746 -0.98005 0.568812 ... -0.650776 -0.476005 -0.991226 -0.983804 -0.998108\" at=\"0x55916c5fbdd0\"/>\n",
       "                        </field>\n",
       "                    </RecordArray>\n",
       "                </field>\n",
       "                <field index=\"5\" key=\"p\">\n",
       "                    <NumpyArray format=\"d\" shape=\"120089\" data=\"2.19601 2.29496 0.762466 1.04544 0.43134 ... 1.79626 0.389343 1.63682 6.65947 1.35225\" at=\"0x55916c6e66a0\"/>\n",
       "                </field>\n",
       "                <field index=\"6\" key=\"px\">\n",
       "                    <NumpyArray format=\"d\" shape=\"120089\" data=\"-0.246332 0.32777 0.0358586 -0.171637 -0.10904 ... -0.898446 -0.0959296 -0.173771 -0.943958 -0.0431158\" at=\"0x55916c7d0f70\"/>\n",
       "                </field>\n",
       "                <field index=\"7\" key=\"py\">\n",
       "                    <NumpyArray format=\"d\" shape=\"120089\" data=\"0.548427 -0.640543 -0.127838 0.117089 -0.337505 ... -1.02564 -0.328569 0.127173 -0.721661 -0.0671122\" at=\"0x55916c8bb840\"/>\n",
       "                </field>\n",
       "                <field index=\"8\" key=\"pz\">\n",
       "                    <NumpyArray format=\"d\" shape=\"120089\" data=\"-2.11211 -2.17924 -0.750817 -1.02459 0.245469 ... -1.16937 -0.185548 -1.6226 -6.55261 -1.34989\" at=\"0x55916c9a6110\"/>\n",
       "                </field>\n",
       "                <field index=\"9\" key=\"m\">\n",
       "                    <NumpyArray format=\"d\" shape=\"120089\" data=\"0 0 0 0 0 ... 0 0 0 0 0\" at=\"0x55916ca909e0\"/>\n",
       "                </field>\n",
       "                <field index=\"10\" key=\"time\">\n",
       "                    <NumpyArray format=\"d\" shape=\"120089\" data=\"0 0 0 0 0 ... 0 0 0 0 0\" at=\"0x55916cb7b2b0\"/>\n",
       "                </field>\n",
       "                <field index=\"11\" key=\"is_beam\">\n",
       "                    <NumpyArray format=\"?\" shape=\"120089\" data=\"false false false false false ... false false false false false\" at=\"0x55916ad2b400\"/>\n",
       "                </field>\n",
       "                <field index=\"12\" key=\"is_stable\">\n",
       "                    <NumpyArray format=\"?\" shape=\"120089\" data=\"false false false false false ... false false false false false\" at=\"0x55916ad48930\"/>\n",
       "                </field>\n",
       "                <field index=\"13\" key=\"gen_code\">\n",
       "                    <NumpyArray format=\"?\" shape=\"120089\" data=\"false false false false false ... false false false false false\" at=\"0x55916cc65b80\"/>\n",
       "                </field>\n",
       "                <field index=\"14\" key=\"mother\">\n",
       "                    <RecordArray>\n",
       "                        <field index=\"0\" key=\"id\">\n",
       "                            <NumpyArray format=\"L\" shape=\"120089\" data=\"0x 00000000 00000000 00000000 00000000 ... 00000000 00000000 00000000 00000000\" at=\"0x55916cc830b0\"/>\n",
       "                        </field>\n",
       "                        <field index=\"1\" key=\"second_id\">\n",
       "                            <NumpyArray format=\"L\" shape=\"120089\" data=\"0x 00000000 00000000 00000000 00000000 ... 00000000 00000000 00000000 00000000\" at=\"0x55916cd6d980\"/>\n",
       "                        </field>\n",
       "                    </RecordArray>\n",
       "                </field>\n",
       "                <field index=\"15\" key=\"pol\">\n",
       "                    <RecordArray>\n",
       "                        <parameters>\n",
       "                            <param key=\"__record__\">\"point3\"</param>\n",
       "                        </parameters>\n",
       "                        <field index=\"0\" key=\"has_info\">\n",
       "                            <NumpyArray format=\"d\" shape=\"120089\" data=\"0 0 0 0 0 ... 0 0 0 0 0\" at=\"0x55916ce58250\"/>\n",
       "                        </field>\n",
       "                        <field index=\"1\" key=\"x\">\n",
       "                            <NumpyArray format=\"d\" shape=\"120089\" data=\"0 0 0 0 0 ... 0 0 0 0 0\" at=\"0x55916cf42b20\"/>\n",
       "                        </field>\n",
       "                        <field index=\"2\" key=\"y\">\n",
       "                            <NumpyArray format=\"d\" shape=\"120089\" data=\"0 0 0 0 0 ... 0 0 0 0 0\" at=\"0x55916d02d3f0\"/>\n",
       "                        </field>\n",
       "                        <field index=\"3\" key=\"z\">\n",
       "                            <NumpyArray format=\"d\" shape=\"120089\" data=\"0 0 0 0 0 ... 0 0 0 0 0\" at=\"0x55916d117cc0\"/>\n",
       "                        </field>\n",
       "                    </RecordArray>\n",
       "                </field>\n",
       "                <field index=\"16\" key=\"vtx\">\n",
       "                    <RecordArray>\n",
       "                        <parameters>\n",
       "                            <param key=\"__record__\">\"point3\"</param>\n",
       "                        </parameters>\n",
       "                        <field index=\"0\" key=\"has_info\">\n",
       "                            <NumpyArray format=\"?\" shape=\"120089\" data=\"true true true true true ... true true true true true\" at=\"0x55916d202590\"/>\n",
       "                        </field>\n",
       "                        <field index=\"1\" key=\"id\">\n",
       "                            <NumpyArray format=\"L\" shape=\"120089\" data=\"0x 00000000 00000000 00000000 00000000 ... 00000000 00000000 00000000 00000000\" at=\"0x55916d21fac0\"/>\n",
       "                        </field>\n",
       "                        <field index=\"2\" key=\"x\">\n",
       "                            <NumpyArray format=\"d\" shape=\"120089\" data=\"-0.0298481 0.0148263 0.00108291 -0.00718889 -0.000653203 ... -24.961 -24.9656 -0.000364591 -0.0269033 -0.0366606\" at=\"0x55916d30a390\"/>\n",
       "                        </field>\n",
       "                        <field index=\"3\" key=\"y\">\n",
       "                            <NumpyArray format=\"d\" shape=\"120089\" data=\"-0.0307572 0.00616288 -0.00954817 -0.00129182 -0.0016533 ... -18.1125 -18.1107 0.00253703 -0.0443382 -0.0207049\" at=\"0x55916d3f4c60\"/>\n",
       "                        </field>\n",
       "                        <field index=\"4\" key=\"z\">\n",
       "                            <NumpyArray format=\"d\" shape=\"120089\" data=\"0.0123955 0.00898812 0.00436542 -0.000766148 0.000114142 ... -25.0366 -25.0369 -0.000765327 -0.401909 -0.356779\" at=\"0x55916d4df530\"/>\n",
       "                        </field>\n",
       "                        <field index=\"5\" key=\"t\">\n",
       "                            <NumpyArray format=\"d\" shape=\"120089\" data=\"2.47988e-10 2.47988e-10 -1.40206e-10 2.66609e-10 -1.49972e-10 ... 40.7635 40.7635 1.01726e-10 0.369963 0.369963\" at=\"0x55916d5c9e00\"/>\n",
       "                        </field>\n",
       "                    </RecordArray>\n",
       "                </field>\n",
       "                <field index=\"17\" key=\"smear\">\n",
       "                    <RecordArray>\n",
       "                        <field index=\"0\" key=\"has_info\">\n",
       "                            <NumpyArray format=\"?\" shape=\"120089\" data=\"true true true true true ... true true true true true\" at=\"0x55916d6b46d0\"/>\n",
       "                        </field>\n",
       "                        <field index=\"1\" key=\"has_e\">\n",
       "                            <NumpyArray format=\"?\" shape=\"120089\" data=\"false false false false false ... false false false false false\" at=\"0x55916d6d1c00\"/>\n",
       "                        </field>\n",
       "                        <field index=\"2\" key=\"has_p\">\n",
       "                            <NumpyArray format=\"?\" shape=\"120089\" data=\"true true true true true ... true true true true true\" at=\"0x55916d6ef130\"/>\n",
       "                        </field>\n",
       "                        <field index=\"3\" key=\"has_pid\">\n",
       "                            <NumpyArray format=\"?\" shape=\"120089\" data=\"false false false false false ... false false false false false\" at=\"0x55916d70c660\"/>\n",
       "                        </field>\n",
       "                        <field index=\"4\" key=\"has_vtx\">\n",
       "                            <NumpyArray format=\"?\" shape=\"120089\" data=\"true true true true true ... true true true true true\" at=\"0x55916d729b90\"/>\n",
       "                        </field>\n",
       "                        <field index=\"5\" key=\"has_any_eppid\">\n",
       "                            <NumpyArray format=\"?\" shape=\"120089\" data=\"true true true true true ... true true true true true\" at=\"0x55916d7470c0\"/>\n",
       "                        </field>\n",
       "                        <field index=\"6\" key=\"orig\">\n",
       "                            <RecordArray>\n",
       "                                <field index=\"0\" key=\"tot_e\">\n",
       "                                    <NumpyArray format=\"d\" shape=\"120089\" data=\"2.24694 2.25221 0.769988 1.06326 0.447278 ... 1.79762 0.415614 1.62251 6.66943 1.30333\" at=\"0x55916d7645f0\"/>\n",
       "                                </field>\n",
       "                                <field index=\"1\" key=\"p\">\n",
       "                                    <NumpyArray format=\"d\" shape=\"120089\" data=\"2.2426 2.24788 0.757233 1.05406 0.424944 ... 1.7922 0.391478 1.61649 6.66797 1.29583\" at=\"0x55916d84eec0\"/>\n",
       "                                </field>\n",
       "                                <field index=\"2\" key=\"px\">\n",
       "                                    <NumpyArray format=\"d\" shape=\"120089\" data=\"0.557139 -0.624684 -0.12687 0.118057 -0.33255 ... -1.02538 -0.330372 0.12597 -0.724804 -0.0671245\" at=\"0x55916d939790\"/>\n",
       "                                </field>\n",
       "                                <field index=\"3\" key=\"py\">\n",
       "                                    <NumpyArray format=\"d\" shape=\"120089\" data=\"-0.250759 0.320574 0.0355598 -0.173064 -0.10753 ... -0.894571 -0.096877 -0.172583 -0.950369 -0.0429404\" at=\"0x55916da24060\"/>\n",
       "                                </field>\n",
       "                                <field index=\"4\" key=\"pz\">\n",
       "                                    <NumpyArray format=\"d\" shape=\"120089\" data=\"-2.15777 -2.13541 -0.745682 -1.03303 0.241713 ... -1.16632 -0.186345 -1.60231 -6.55998 -1.29338\" at=\"0x55916db0e930\"/>\n",
       "                                </field>\n",
       "                                <field index=\"5\" key=\"vtx\">\n",
       "                                    <RecordArray>\n",
       "                                        <parameters>\n",
       "                                            <param key=\"__record__\">\"point3\"</param>\n",
       "                                        </parameters>\n",
       "                                        <field index=\"0\" key=\"x\">\n",
       "                                            <NumpyArray format=\"d\" shape=\"120089\" data=\"-3.80262e-12 -3.80262e-12 -1.25212e-12 -3.92192e-12 -1.92952e-12 ... -24.959 -24.959 -6.11085e-12 -0.0444159 -0.0444159\" at=\"0x55916dbf9200\"/>\n",
       "                                        </field>\n",
       "                                        <field index=\"1\" key=\"y\">\n",
       "                                            <NumpyArray format=\"d\" shape=\"120089\" data=\"7.24513e-12 7.24513e-12 3.23978e-12 7.24974e-12 3.45867e-12 ... -18.111 -18.111 -2.48888e-12 -0.0137213 -0.0137213\" at=\"0x5591746a34a0\"/>\n",
       "                                        </field>\n",
       "                                        <field index=\"2\" key=\"z\">\n",
       "                                            <NumpyArray format=\"d\" shape=\"120089\" data=\"-2.34332e-10 -2.34332e-10 1.50073e-10 -2.53211e-10 1.61244e-10 ... -25.0355 -25.0355 -1.00957e-10 -0.365048 -0.365048\" at=\"0x55917478dd70\"/>\n",
       "                                        </field>\n",
       "                                    </RecordArray>\n",
       "                                </field>\n",
       "                            </RecordArray>\n",
       "                        </field>\n",
       "                    </RecordArray>\n",
       "                </field>\n",
       "            </RecordArray></content>\n",
       "        </ListOffsetArray64>\n",
       "    </field>\n",
       "    <field index=\"7\" key=\"kaons\">\n",
       "        <ListOffsetArray64>\n",
       "            <offsets><Index64 i=\"[0 6 6 8 9 ... 21460 21461 21465 21467 21468]\" offset=\"0\" length=\"10001\" at=\"0x55916dce3ad0\"/></offsets>\n",
       "            <content><RecordArray>\n",
       "                <parameters>\n",
       "                    <param key=\"__record__\">\"particle\"</param>\n",
       "                </parameters>\n",
       "                <field index=\"0\" key=\"id\">\n",
       "                    <NumpyArray format=\"L\" shape=\"21468\" data=\"0x 51000000 00000000 6d000000 00000000 ... 51000000 00000000 28000000 00000000\" at=\"0x55916dd617a0\"/>\n",
       "                </field>\n",
       "                <field index=\"1\" key=\"pdg\">\n",
       "                    <NumpyArray format=\"l\" shape=\"21468\" data=\"-321 321 321 321 -321 ... -321 321 -321 -321 -321\" at=\"0x55916dd8b690\"/>\n",
       "                </field>\n",
       "                <field index=\"2\" key=\"trk_id\">\n",
       "                    <NumpyArray format=\"d\" shape=\"21468\" data=\"0 0 0 0 0 ... 0 0 0 0 0\" at=\"0x55916ab56260\"/>\n",
       "                </field>\n",
       "                <field index=\"3\" key=\"charge\">\n",
       "                    <NumpyArray format=\"d\" shape=\"21468\" data=\"-1 1 1 1 -1 ... -1 1 -1 -1 -1\" at=\"0x55916ab80150\"/>\n",
       "                </field>\n",
       "                <field index=\"4\" key=\"dir\">\n",
       "                    <RecordArray>\n",
       "                        <parameters>\n",
       "                            <param key=\"__record__\">\"point3\"</param>\n",
       "                        </parameters>\n",
       "                        <field index=\"0\" key=\"x\">\n",
       "                            <NumpyArray format=\"d\" shape=\"21468\" data=\"0.309572 0.0988239 0.0443685 -0.257589 -0.171343 ... 0.301374 -0.465039 -0.149242 -0.00336147 -0.0700037\" at=\"0x55916abaa040\"/>\n",
       "                        </field>\n",
       "                        <field index=\"1\" key=\"y\">\n",
       "                            <NumpyArray format=\"d\" shape=\"21468\" data=\"-0.923673 0.058584 -0.0555836 0.959715 0.829765 ... -0.330486 -0.242003 0.0118354 -0.0619821 -0.0258474\" at=\"0x55916abd3f30\"/>\n",
       "                        </field>\n",
       "                        <field index=\"2\" key=\"z\">\n",
       "                            <NumpyArray format=\"d\" shape=\"21468\" data=\"-0.225819 -0.993379 0.997468 -0.11223 -0.53116 ... 0.894401 -0.851571 -0.98873 -0.998072 -0.997212\" at=\"0x55916abfde20\"/>\n",
       "                        </field>\n",
       "                    </RecordArray>\n",
       "                </field>\n",
       "                <field index=\"5\" key=\"p\">\n",
       "                    <NumpyArray format=\"d\" shape=\"21468\" data=\"0.421673 4.97989 2.5611 0.323863 0.527475 ... 0.175353 0.940727 6.43892 6.16596 4.17902\" at=\"0x55916ac27d10\"/>\n",
       "                </field>\n",
       "                <field index=\"6\" key=\"px\">\n",
       "                    <NumpyArray format=\"d\" shape=\"21468\" data=\"-0.389352 0.290562 -0.140306 0.310842 0.437811 ... -0.0576753 -0.228168 0.0775203 -0.382089 -0.110846\" at=\"0x55916ac51c00\"/>\n",
       "                </field>\n",
       "                <field index=\"7\" key=\"py\">\n",
       "                    <NumpyArray format=\"d\" shape=\"21468\" data=\"0.130388 0.490766 0.111943 -0.0832106 -0.0907743 ... 0.05267 -0.438648 -0.955711 -0.0209859 -0.300075\" at=\"0x55916ac7baf0\"/>\n",
       "                </field>\n",
       "                <field index=\"8\" key=\"pz\">\n",
       "                    <NumpyArray format=\"d\" shape=\"21468\" data=\"-0.0959791 -4.94713 2.5548 -0.0366095 -0.279841 ... 0.156998 -0.800309 -6.36712 -6.15407 -4.16676\" at=\"0x55916aca59e0\"/>\n",
       "                </field>\n",
       "                <field index=\"9\" key=\"m\">\n",
       "                    <NumpyArray format=\"d\" shape=\"21468\" data=\"0 0 0 0 0 ... 0 0 0 0 0\" at=\"0x55916accf8d0\"/>\n",
       "                </field>\n",
       "                <field index=\"10\" key=\"time\">\n",
       "                    <NumpyArray format=\"d\" shape=\"21468\" data=\"0 0 0 0 0 ... 0 0 0 0 0\" at=\"0x55916acf97c0\"/>\n",
       "                </field>\n",
       "                <field index=\"11\" key=\"is_beam\">\n",
       "                    <NumpyArray format=\"?\" shape=\"21468\" data=\"false false false false false ... false false false false false\" at=\"0x55916a0c6700\"/>\n",
       "                </field>\n",
       "                <field index=\"12\" key=\"is_stable\">\n",
       "                    <NumpyArray format=\"?\" shape=\"21468\" data=\"false false false false false ... false false false false false\" at=\"0x55916ad236b0\"/>\n",
       "                </field>\n",
       "                <field index=\"13\" key=\"gen_code\">\n",
       "                    <NumpyArray format=\"?\" shape=\"21468\" data=\"false false false false false ... false false false false false\" at=\"0x55916a0e0790\"/>\n",
       "                </field>\n",
       "                <field index=\"14\" key=\"mother\">\n",
       "                    <RecordArray>\n",
       "                        <field index=\"0\" key=\"id\">\n",
       "                            <NumpyArray format=\"L\" shape=\"21468\" data=\"0x 00000000 00000000 00000000 00000000 ... 00000000 00000000 00000000 00000000\" at=\"0x559174878640\"/>\n",
       "                        </field>\n",
       "                        <field index=\"1\" key=\"second_id\">\n",
       "                            <NumpyArray format=\"L\" shape=\"21468\" data=\"0x 00000000 00000000 00000000 00000000 ... 00000000 00000000 00000000 00000000\" at=\"0x5591748a2530\"/>\n",
       "                        </field>\n",
       "                    </RecordArray>\n",
       "                </field>\n",
       "                <field index=\"15\" key=\"pol\">\n",
       "                    <RecordArray>\n",
       "                        <parameters>\n",
       "                            <param key=\"__record__\">\"point3\"</param>\n",
       "                        </parameters>\n",
       "                        <field index=\"0\" key=\"has_info\">\n",
       "                            <NumpyArray format=\"d\" shape=\"21468\" data=\"0 0 0 0 0 ... 0 0 0 0 0\" at=\"0x5591748cc420\"/>\n",
       "                        </field>\n",
       "                        <field index=\"1\" key=\"x\">\n",
       "                            <NumpyArray format=\"d\" shape=\"21468\" data=\"0 0 0 0 0 ... 0 0 0 0 0\" at=\"0x5591748f6310\"/>\n",
       "                        </field>\n",
       "                        <field index=\"2\" key=\"y\">\n",
       "                            <NumpyArray format=\"d\" shape=\"21468\" data=\"0 0 0 0 0 ... 0 0 0 0 0\" at=\"0x559174920200\"/>\n",
       "                        </field>\n",
       "                        <field index=\"3\" key=\"z\">\n",
       "                            <NumpyArray format=\"d\" shape=\"21468\" data=\"0 0 0 0 0 ... 0 0 0 0 0\" at=\"0x55917494a0f0\"/>\n",
       "                        </field>\n",
       "                    </RecordArray>\n",
       "                </field>\n",
       "                <field index=\"16\" key=\"vtx\">\n",
       "                    <RecordArray>\n",
       "                        <parameters>\n",
       "                            <param key=\"__record__\">\"point3\"</param>\n",
       "                        </parameters>\n",
       "                        <field index=\"0\" key=\"has_info\">\n",
       "                            <NumpyArray format=\"?\" shape=\"21468\" data=\"true true true true true ... true true true true true\" at=\"0x55916a45ce30\"/>\n",
       "                        </field>\n",
       "                        <field index=\"1\" key=\"id\">\n",
       "                            <NumpyArray format=\"L\" shape=\"21468\" data=\"0x 00000000 00000000 00000000 00000000 ... 00000000 00000000 00000000 00000000\" at=\"0x559174973fe0\"/>\n",
       "                        </field>\n",
       "                        <field index=\"2\" key=\"x\">\n",
       "                            <NumpyArray format=\"d\" shape=\"21468\" data=\"0.00869691 -0.00316656 0.0461774 0.00523944 0.000542601 ... -0.0313859 -0.0481557 -0.0197481 -0.062655 -0.00208507\" at=\"0x55917499ded0\"/>\n",
       "                        </field>\n",
       "                        <field index=\"3\" key=\"y\">\n",
       "                            <NumpyArray format=\"d\" shape=\"21468\" data=\"0.00529068 -0.000133465 0.0192892 0.00526403 0.00399061 ... 0.0129811 -0.464266 0.0114021 -0.262677 0.00476266\" at=\"0x5591749c7dc0\"/>\n",
       "                        </field>\n",
       "                        <field index=\"4\" key=\"z\">\n",
       "                            <NumpyArray format=\"d\" shape=\"21468\" data=\"-0.00503089 0.000292609 1.27538 -0.00678128 -0.000794623 ... -0.0236443 -1.22153 0.00365723 -8.54664 -0.00675752\" at=\"0x5591749f1cb0\"/>\n",
       "                        </field>\n",
       "                        <field index=\"5\" key=\"t\">\n",
       "                            <NumpyArray format=\"d\" shape=\"21468\" data=\"-1.63291e-10 -1.44569e-10 1.30673 0.00827801 0.00827801 ... 0.116714 1.51126 2.87854e-10 8.56315 1.03166e-10\" at=\"0x559174a1bba0\"/>\n",
       "                        </field>\n",
       "                    </RecordArray>\n",
       "                </field>\n",
       "                <field index=\"17\" key=\"smear\">\n",
       "                    <RecordArray>\n",
       "                        <field index=\"0\" key=\"has_info\">\n",
       "                            <NumpyArray format=\"?\" shape=\"21468\" data=\"true true true true true ... true true true true true\" at=\"0x55916a7662a0\"/>\n",
       "                        </field>\n",
       "                        <field index=\"1\" key=\"has_e\">\n",
       "                            <NumpyArray format=\"?\" shape=\"21468\" data=\"false false false false false ... false false false false false\" at=\"0x55916a76b690\"/>\n",
       "                        </field>\n",
       "                        <field index=\"2\" key=\"has_p\">\n",
       "                            <NumpyArray format=\"?\" shape=\"21468\" data=\"true true true true true ... true true true true true\" at=\"0x55916a1e00e0\"/>\n",
       "                        </field>\n",
       "                        <field index=\"3\" key=\"has_pid\">\n",
       "                            <NumpyArray format=\"?\" shape=\"21468\" data=\"false false false false false ... false false false false false\" at=\"0x55916a1e54d0\"/>\n",
       "                        </field>\n",
       "                        <field index=\"4\" key=\"has_vtx\">\n",
       "                            <NumpyArray format=\"?\" shape=\"21468\" data=\"true true true true true ... true true true true true\" at=\"0x55917054ca60\"/>\n",
       "                        </field>\n",
       "                        <field index=\"5\" key=\"has_any_eppid\">\n",
       "                            <NumpyArray format=\"?\" shape=\"21468\" data=\"true true true true true ... true true true true true\" at=\"0x559170551e50\"/>\n",
       "                        </field>\n",
       "                        <field index=\"6\" key=\"orig\">\n",
       "                            <RecordArray>\n",
       "                                <field index=\"0\" key=\"tot_e\">\n",
       "                                    <NumpyArray format=\"d\" shape=\"21468\" data=\"0.64959 4.92673 2.54815 0.590881 0.723961 ... 0.523146 1.0643 6.43805 6.1709 4.30229\" at=\"0x559174a45a90\"/>\n",
       "                                </field>\n",
       "                                <field index=\"1\" key=\"p\">\n",
       "                                    <NumpyArray format=\"d\" shape=\"21468\" data=\"0.422194 4.90194 2.49987 0.324685 0.529528 ... 0.173094 0.942881 6.4191 6.15112 4.27387\" at=\"0x559174a6f980\"/>\n",
       "                                </field>\n",
       "                                <field index=\"2\" key=\"px\">\n",
       "                                    <NumpyArray format=\"d\" shape=\"21468\" data=\"0.130699 0.484428 0.110915 -0.0836354 -0.0907311 ... 0.0521659 -0.438476 -0.958 -0.0206768 -0.299187\" at=\"0x559174a99870\"/>\n",
       "                                </field>\n",
       "                                <field index=\"3\" key=\"py\">\n",
       "                                    <NumpyArray format=\"d\" shape=\"21468\" data=\"-0.389969 0.287175 -0.138952 0.311605 0.439384 ... -0.0572049 -0.22818 0.0759726 -0.381259 -0.110469\" at=\"0x559174ac3760\"/>\n",
       "                                </field>\n",
       "                                <field index=\"4\" key=\"pz\">\n",
       "                                    <NumpyArray format=\"d\" shape=\"21468\" data=\"-0.0953392 -4.86948 2.49353 -0.0364393 -0.281264 ... 0.154815 -0.80293 -6.34675 -6.13926 -4.26195\" at=\"0x559174aed650\"/>\n",
       "                                </field>\n",
       "                                <field index=\"5\" key=\"vtx\">\n",
       "                                    <RecordArray>\n",
       "                                        <parameters>\n",
       "                                            <param key=\"__record__\">\"point3\"</param>\n",
       "                                        </parameters>\n",
       "                                        <field index=\"0\" key=\"x\">\n",
       "                                            <NumpyArray format=\"d\" shape=\"21468\" data=\"-1.84679e-12 -1.42676e-12 0.0528046 -0.00044139 -0.00044139 ... -0.0327738 -0.0591621 -3.99103e-11 -0.0661825 -7.21402e-12\" at=\"0x559174b17540\"/>\n",
       "                                        </field>\n",
       "                                        <field index=\"1\" key=\"y\">\n",
       "                                            <NumpyArray format=\"d\" shape=\"21468\" data=\"4.00892e-12 3.23955e-12 0.0401174 0.00361243 0.00361243 ... 0.0178672 -0.458093 -2.15598e-11 -0.272714 -2.80105e-12\" at=\"0x559174b41430\"/>\n",
       "                                        </field>\n",
       "                                        <field index=\"2\" key=\"z\">\n",
       "                                            <NumpyArray format=\"d\" shape=\"21468\" data=\"1.81961e-10 1.54117e-10 1.28154 -0.00152716 -0.00152716 ... -0.03143 -1.21769 -2.67072e-10 -8.53921 -1.0234e-10\" at=\"0x559174b6b320\"/>\n",
       "                                        </field>\n",
       "                                    </RecordArray>\n",
       "                                </field>\n",
       "                            </RecordArray>\n",
       "                        </field>\n",
       "                    </RecordArray>\n",
       "                </field>\n",
       "            </RecordArray></content>\n",
       "        </ListOffsetArray64>\n",
       "    </field>\n",
       "</RecordArray>"
      ]
     },
     "execution_count": 20,
     "metadata": {},
     "output_type": "execute_result"
    }
   ],
   "source": [
    "events.layout"
   ]
  },
  {
   "cell_type": "markdown",
   "metadata": {},
   "source": [
    "For Nick: there's also a view of this without array data:"
   ]
  },
  {
   "cell_type": "code",
   "execution_count": 21,
   "metadata": {
    "collapsed": true,
    "jupyter": {
     "outputs_hidden": true
    }
   },
   "outputs": [
    {
     "data": {
      "text/plain": [
       "{\n",
       "    \"class\": \"RecordArray\",\n",
       "    \"contents\": {\n",
       "        \"id\": \"uint64\",\n",
       "        \"true\": {\n",
       "            \"class\": \"RecordArray\",\n",
       "            \"contents\": {\n",
       "                \"q2\": \"float64\",\n",
       "                \"x\": \"float64\",\n",
       "                \"y\": \"float64\",\n",
       "                \"w2\": \"float64\",\n",
       "                \"nu\": \"float64\"\n",
       "            }\n",
       "        },\n",
       "        \"has_dis_info\": \"int8\",\n",
       "        \"prt_count\": \"uint64\",\n",
       "        \"prt\": {\n",
       "            \"class\": \"ListOffsetArray64\",\n",
       "            \"offsets\": \"i64\",\n",
       "            \"content\": {\n",
       "                \"class\": \"RecordArray\",\n",
       "                \"contents\": {\n",
       "                    \"id\": \"uint64\",\n",
       "                    \"pdg\": \"int64\",\n",
       "                    \"trk_id\": \"float64\",\n",
       "                    \"charge\": \"float64\",\n",
       "                    \"dir\": {\n",
       "                        \"class\": \"RecordArray\",\n",
       "                        \"contents\": {\n",
       "                            \"x\": \"float64\",\n",
       "                            \"y\": \"float64\",\n",
       "                            \"z\": \"float64\"\n",
       "                        },\n",
       "                        \"parameters\": {\n",
       "                            \"__record__\": \"point3\"\n",
       "                        }\n",
       "                    },\n",
       "                    \"p\": \"float64\",\n",
       "                    \"px\": \"float64\",\n",
       "                    \"py\": \"float64\",\n",
       "                    \"pz\": \"float64\",\n",
       "                    \"m\": \"float64\",\n",
       "                    \"time\": \"float64\",\n",
       "                    \"is_beam\": \"bool\",\n",
       "                    \"is_stable\": \"bool\",\n",
       "                    \"gen_code\": \"bool\",\n",
       "                    \"mother\": {\n",
       "                        \"class\": \"RecordArray\",\n",
       "                        \"contents\": {\n",
       "                            \"id\": \"uint64\",\n",
       "                            \"second_id\": \"uint64\"\n",
       "                        }\n",
       "                    },\n",
       "                    \"pol\": {\n",
       "                        \"class\": \"RecordArray\",\n",
       "                        \"contents\": {\n",
       "                            \"has_info\": \"float64\",\n",
       "                            \"x\": \"float64\",\n",
       "                            \"y\": \"float64\",\n",
       "                            \"z\": \"float64\"\n",
       "                        },\n",
       "                        \"parameters\": {\n",
       "                            \"__record__\": \"point3\"\n",
       "                        }\n",
       "                    },\n",
       "                    \"vtx\": {\n",
       "                        \"class\": \"RecordArray\",\n",
       "                        \"contents\": {\n",
       "                            \"has_info\": \"bool\",\n",
       "                            \"id\": \"uint64\",\n",
       "                            \"x\": \"float64\",\n",
       "                            \"y\": \"float64\",\n",
       "                            \"z\": \"float64\",\n",
       "                            \"t\": \"float64\"\n",
       "                        },\n",
       "                        \"parameters\": {\n",
       "                            \"__record__\": \"point3\"\n",
       "                        }\n",
       "                    },\n",
       "                    \"smear\": {\n",
       "                        \"class\": \"RecordArray\",\n",
       "                        \"contents\": {\n",
       "                            \"has_info\": \"bool\",\n",
       "                            \"has_e\": \"bool\",\n",
       "                            \"has_p\": \"bool\",\n",
       "                            \"has_pid\": \"bool\",\n",
       "                            \"has_vtx\": \"bool\",\n",
       "                            \"has_any_eppid\": \"bool\",\n",
       "                            \"orig\": {\n",
       "                                \"class\": \"RecordArray\",\n",
       "                                \"contents\": {\n",
       "                                    \"tot_e\": \"float64\",\n",
       "                                    \"p\": \"float64\",\n",
       "                                    \"px\": \"float64\",\n",
       "                                    \"py\": \"float64\",\n",
       "                                    \"pz\": \"float64\",\n",
       "                                    \"vtx\": {\n",
       "                                        \"class\": \"RecordArray\",\n",
       "                                        \"contents\": {\n",
       "                                            \"x\": \"float64\",\n",
       "                                            \"y\": \"float64\",\n",
       "                                            \"z\": \"float64\"\n",
       "                                        },\n",
       "                                        \"parameters\": {\n",
       "                                            \"__record__\": \"point3\"\n",
       "                                        }\n",
       "                                    }\n",
       "                                }\n",
       "                            }\n",
       "                        }\n",
       "                    }\n",
       "                },\n",
       "                \"parameters\": {\n",
       "                    \"__record__\": \"particle\"\n",
       "                }\n",
       "            }\n",
       "        },\n",
       "        \"protons\": {\n",
       "            \"class\": \"ListOffsetArray64\",\n",
       "            \"offsets\": \"i64\",\n",
       "            \"content\": {\n",
       "                \"class\": \"RecordArray\",\n",
       "                \"contents\": {\n",
       "                    \"id\": \"uint64\",\n",
       "                    \"pdg\": \"int64\",\n",
       "                    \"trk_id\": \"float64\",\n",
       "                    \"charge\": \"float64\",\n",
       "                    \"dir\": {\n",
       "                        \"class\": \"RecordArray\",\n",
       "                        \"contents\": {\n",
       "                            \"x\": \"float64\",\n",
       "                            \"y\": \"float64\",\n",
       "                            \"z\": \"float64\"\n",
       "                        },\n",
       "                        \"parameters\": {\n",
       "                            \"__record__\": \"point3\"\n",
       "                        }\n",
       "                    },\n",
       "                    \"p\": \"float64\",\n",
       "                    \"px\": \"float64\",\n",
       "                    \"py\": \"float64\",\n",
       "                    \"pz\": \"float64\",\n",
       "                    \"m\": \"float64\",\n",
       "                    \"time\": \"float64\",\n",
       "                    \"is_beam\": \"bool\",\n",
       "                    \"is_stable\": \"bool\",\n",
       "                    \"gen_code\": \"bool\",\n",
       "                    \"mother\": {\n",
       "                        \"class\": \"RecordArray\",\n",
       "                        \"contents\": {\n",
       "                            \"id\": \"uint64\",\n",
       "                            \"second_id\": \"uint64\"\n",
       "                        }\n",
       "                    },\n",
       "                    \"pol\": {\n",
       "                        \"class\": \"RecordArray\",\n",
       "                        \"contents\": {\n",
       "                            \"has_info\": \"float64\",\n",
       "                            \"x\": \"float64\",\n",
       "                            \"y\": \"float64\",\n",
       "                            \"z\": \"float64\"\n",
       "                        },\n",
       "                        \"parameters\": {\n",
       "                            \"__record__\": \"point3\"\n",
       "                        }\n",
       "                    },\n",
       "                    \"vtx\": {\n",
       "                        \"class\": \"RecordArray\",\n",
       "                        \"contents\": {\n",
       "                            \"has_info\": \"bool\",\n",
       "                            \"id\": \"uint64\",\n",
       "                            \"x\": \"float64\",\n",
       "                            \"y\": \"float64\",\n",
       "                            \"z\": \"float64\",\n",
       "                            \"t\": \"float64\"\n",
       "                        },\n",
       "                        \"parameters\": {\n",
       "                            \"__record__\": \"point3\"\n",
       "                        }\n",
       "                    },\n",
       "                    \"smear\": {\n",
       "                        \"class\": \"RecordArray\",\n",
       "                        \"contents\": {\n",
       "                            \"has_info\": \"bool\",\n",
       "                            \"has_e\": \"bool\",\n",
       "                            \"has_p\": \"bool\",\n",
       "                            \"has_pid\": \"bool\",\n",
       "                            \"has_vtx\": \"bool\",\n",
       "                            \"has_any_eppid\": \"bool\",\n",
       "                            \"orig\": {\n",
       "                                \"class\": \"RecordArray\",\n",
       "                                \"contents\": {\n",
       "                                    \"tot_e\": \"float64\",\n",
       "                                    \"p\": \"float64\",\n",
       "                                    \"px\": \"float64\",\n",
       "                                    \"py\": \"float64\",\n",
       "                                    \"pz\": \"float64\",\n",
       "                                    \"vtx\": {\n",
       "                                        \"class\": \"RecordArray\",\n",
       "                                        \"contents\": {\n",
       "                                            \"x\": \"float64\",\n",
       "                                            \"y\": \"float64\",\n",
       "                                            \"z\": \"float64\"\n",
       "                                        },\n",
       "                                        \"parameters\": {\n",
       "                                            \"__record__\": \"point3\"\n",
       "                                        }\n",
       "                                    }\n",
       "                                }\n",
       "                            }\n",
       "                        }\n",
       "                    }\n",
       "                },\n",
       "                \"parameters\": {\n",
       "                    \"__record__\": \"particle\"\n",
       "                }\n",
       "            }\n",
       "        },\n",
       "        \"pions\": {\n",
       "            \"class\": \"ListOffsetArray64\",\n",
       "            \"offsets\": \"i64\",\n",
       "            \"content\": {\n",
       "                \"class\": \"RecordArray\",\n",
       "                \"contents\": {\n",
       "                    \"id\": \"uint64\",\n",
       "                    \"pdg\": \"int64\",\n",
       "                    \"trk_id\": \"float64\",\n",
       "                    \"charge\": \"float64\",\n",
       "                    \"dir\": {\n",
       "                        \"class\": \"RecordArray\",\n",
       "                        \"contents\": {\n",
       "                            \"x\": \"float64\",\n",
       "                            \"y\": \"float64\",\n",
       "                            \"z\": \"float64\"\n",
       "                        },\n",
       "                        \"parameters\": {\n",
       "                            \"__record__\": \"point3\"\n",
       "                        }\n",
       "                    },\n",
       "                    \"p\": \"float64\",\n",
       "                    \"px\": \"float64\",\n",
       "                    \"py\": \"float64\",\n",
       "                    \"pz\": \"float64\",\n",
       "                    \"m\": \"float64\",\n",
       "                    \"time\": \"float64\",\n",
       "                    \"is_beam\": \"bool\",\n",
       "                    \"is_stable\": \"bool\",\n",
       "                    \"gen_code\": \"bool\",\n",
       "                    \"mother\": {\n",
       "                        \"class\": \"RecordArray\",\n",
       "                        \"contents\": {\n",
       "                            \"id\": \"uint64\",\n",
       "                            \"second_id\": \"uint64\"\n",
       "                        }\n",
       "                    },\n",
       "                    \"pol\": {\n",
       "                        \"class\": \"RecordArray\",\n",
       "                        \"contents\": {\n",
       "                            \"has_info\": \"float64\",\n",
       "                            \"x\": \"float64\",\n",
       "                            \"y\": \"float64\",\n",
       "                            \"z\": \"float64\"\n",
       "                        },\n",
       "                        \"parameters\": {\n",
       "                            \"__record__\": \"point3\"\n",
       "                        }\n",
       "                    },\n",
       "                    \"vtx\": {\n",
       "                        \"class\": \"RecordArray\",\n",
       "                        \"contents\": {\n",
       "                            \"has_info\": \"bool\",\n",
       "                            \"id\": \"uint64\",\n",
       "                            \"x\": \"float64\",\n",
       "                            \"y\": \"float64\",\n",
       "                            \"z\": \"float64\",\n",
       "                            \"t\": \"float64\"\n",
       "                        },\n",
       "                        \"parameters\": {\n",
       "                            \"__record__\": \"point3\"\n",
       "                        }\n",
       "                    },\n",
       "                    \"smear\": {\n",
       "                        \"class\": \"RecordArray\",\n",
       "                        \"contents\": {\n",
       "                            \"has_info\": \"bool\",\n",
       "                            \"has_e\": \"bool\",\n",
       "                            \"has_p\": \"bool\",\n",
       "                            \"has_pid\": \"bool\",\n",
       "                            \"has_vtx\": \"bool\",\n",
       "                            \"has_any_eppid\": \"bool\",\n",
       "                            \"orig\": {\n",
       "                                \"class\": \"RecordArray\",\n",
       "                                \"contents\": {\n",
       "                                    \"tot_e\": \"float64\",\n",
       "                                    \"p\": \"float64\",\n",
       "                                    \"px\": \"float64\",\n",
       "                                    \"py\": \"float64\",\n",
       "                                    \"pz\": \"float64\",\n",
       "                                    \"vtx\": {\n",
       "                                        \"class\": \"RecordArray\",\n",
       "                                        \"contents\": {\n",
       "                                            \"x\": \"float64\",\n",
       "                                            \"y\": \"float64\",\n",
       "                                            \"z\": \"float64\"\n",
       "                                        },\n",
       "                                        \"parameters\": {\n",
       "                                            \"__record__\": \"point3\"\n",
       "                                        }\n",
       "                                    }\n",
       "                                }\n",
       "                            }\n",
       "                        }\n",
       "                    }\n",
       "                },\n",
       "                \"parameters\": {\n",
       "                    \"__record__\": \"particle\"\n",
       "                }\n",
       "            }\n",
       "        },\n",
       "        \"kaons\": {\n",
       "            \"class\": \"ListOffsetArray64\",\n",
       "            \"offsets\": \"i64\",\n",
       "            \"content\": {\n",
       "                \"class\": \"RecordArray\",\n",
       "                \"contents\": {\n",
       "                    \"id\": \"uint64\",\n",
       "                    \"pdg\": \"int64\",\n",
       "                    \"trk_id\": \"float64\",\n",
       "                    \"charge\": \"float64\",\n",
       "                    \"dir\": {\n",
       "                        \"class\": \"RecordArray\",\n",
       "                        \"contents\": {\n",
       "                            \"x\": \"float64\",\n",
       "                            \"y\": \"float64\",\n",
       "                            \"z\": \"float64\"\n",
       "                        },\n",
       "                        \"parameters\": {\n",
       "                            \"__record__\": \"point3\"\n",
       "                        }\n",
       "                    },\n",
       "                    \"p\": \"float64\",\n",
       "                    \"px\": \"float64\",\n",
       "                    \"py\": \"float64\",\n",
       "                    \"pz\": \"float64\",\n",
       "                    \"m\": \"float64\",\n",
       "                    \"time\": \"float64\",\n",
       "                    \"is_beam\": \"bool\",\n",
       "                    \"is_stable\": \"bool\",\n",
       "                    \"gen_code\": \"bool\",\n",
       "                    \"mother\": {\n",
       "                        \"class\": \"RecordArray\",\n",
       "                        \"contents\": {\n",
       "                            \"id\": \"uint64\",\n",
       "                            \"second_id\": \"uint64\"\n",
       "                        }\n",
       "                    },\n",
       "                    \"pol\": {\n",
       "                        \"class\": \"RecordArray\",\n",
       "                        \"contents\": {\n",
       "                            \"has_info\": \"float64\",\n",
       "                            \"x\": \"float64\",\n",
       "                            \"y\": \"float64\",\n",
       "                            \"z\": \"float64\"\n",
       "                        },\n",
       "                        \"parameters\": {\n",
       "                            \"__record__\": \"point3\"\n",
       "                        }\n",
       "                    },\n",
       "                    \"vtx\": {\n",
       "                        \"class\": \"RecordArray\",\n",
       "                        \"contents\": {\n",
       "                            \"has_info\": \"bool\",\n",
       "                            \"id\": \"uint64\",\n",
       "                            \"x\": \"float64\",\n",
       "                            \"y\": \"float64\",\n",
       "                            \"z\": \"float64\",\n",
       "                            \"t\": \"float64\"\n",
       "                        },\n",
       "                        \"parameters\": {\n",
       "                            \"__record__\": \"point3\"\n",
       "                        }\n",
       "                    },\n",
       "                    \"smear\": {\n",
       "                        \"class\": \"RecordArray\",\n",
       "                        \"contents\": {\n",
       "                            \"has_info\": \"bool\",\n",
       "                            \"has_e\": \"bool\",\n",
       "                            \"has_p\": \"bool\",\n",
       "                            \"has_pid\": \"bool\",\n",
       "                            \"has_vtx\": \"bool\",\n",
       "                            \"has_any_eppid\": \"bool\",\n",
       "                            \"orig\": {\n",
       "                                \"class\": \"RecordArray\",\n",
       "                                \"contents\": {\n",
       "                                    \"tot_e\": \"float64\",\n",
       "                                    \"p\": \"float64\",\n",
       "                                    \"px\": \"float64\",\n",
       "                                    \"py\": \"float64\",\n",
       "                                    \"pz\": \"float64\",\n",
       "                                    \"vtx\": {\n",
       "                                        \"class\": \"RecordArray\",\n",
       "                                        \"contents\": {\n",
       "                                            \"x\": \"float64\",\n",
       "                                            \"y\": \"float64\",\n",
       "                                            \"z\": \"float64\"\n",
       "                                        },\n",
       "                                        \"parameters\": {\n",
       "                                            \"__record__\": \"point3\"\n",
       "                                        }\n",
       "                                    }\n",
       "                                }\n",
       "                            }\n",
       "                        }\n",
       "                    }\n",
       "                },\n",
       "                \"parameters\": {\n",
       "                    \"__record__\": \"particle\"\n",
       "                }\n",
       "            }\n",
       "        }\n",
       "    }\n",
       "}"
      ]
     },
     "execution_count": 21,
     "metadata": {},
     "output_type": "execute_result"
    }
   ],
   "source": [
    "events.layout.form"
   ]
  },
  {
   "cell_type": "markdown",
   "metadata": {},
   "source": [
    "Let's do some bump-hunting..."
   ]
  },
  {
   "cell_type": "code",
   "execution_count": 22,
   "metadata": {},
   "outputs": [],
   "source": [
    "import numpy as np\n",
    "import matplotlib.pyplot as plt\n",
    "import mplhep as hep             # https://github.com/scikit-hep/mplhep\n",
    "import boost_histogram as bh     # https://github.com/scikit-hep/boost-histogram\n",
    "\n",
    "def mass(pairs, left_mass, right_mass):\n",
    "    left, right = ak.unzip(pairs)\n",
    "    left_energy = np.sqrt(left.p**2 + left_mass**2)\n",
    "    right_energy = np.sqrt(right.p**2 + right_mass**2)\n",
    "    return np.sqrt((left_energy + right_energy)**2 -\n",
    "                   (left.px + right.px)**2 -\n",
    "                   (left.py + right.py)**2 -\n",
    "                   (left.pz + right.pz)**2)"
   ]
  },
  {
   "cell_type": "markdown",
   "metadata": {},
   "source": [
    "$\\Lambda^0 \\to p \\pi$ requires a Cartesian product of protons in each event with pions in each event.\n",
    "\n",
    "<img src=\"../docs-img/diagrams/cartoon-cartesian.png\" width=\"300\">"
   ]
  },
  {
   "cell_type": "code",
   "execution_count": 23,
   "metadata": {},
   "outputs": [
    {
     "data": {
      "text/plain": [
       "<Array [[({id: 79, pdg: 211, ... [], []] type='10000 * var * (particle[\"id\": uin...'>"
      ]
     },
     "execution_count": 23,
     "metadata": {},
     "output_type": "execute_result"
    }
   ],
   "source": [
    "pairs = ak.cartesian([events.pions, events.protons])\n",
    "pairs"
   ]
  },
  {
   "cell_type": "code",
   "execution_count": 24,
   "metadata": {},
   "outputs": [
    {
     "data": {
      "text/plain": [
       "<Array [[1.36, 1.64, 1.16, 1.16, ... [], []] type='10000 * var * float64'>"
      ]
     },
     "execution_count": 24,
     "metadata": {},
     "output_type": "execute_result"
    }
   ],
   "source": [
    "mass(pairs, 0.139570, 0.938272)"
   ]
  },
  {
   "cell_type": "code",
   "execution_count": 25,
   "metadata": {},
   "outputs": [
    {
     "data": {
      "text/plain": [
       "<matplotlib.axes._subplots.AxesSubplot at 0x7ff2f650eb50>"
      ]
     },
     "execution_count": 25,
     "metadata": {},
     "output_type": "execute_result"
    },
    {
     "data": {
      "image/png": "[encoded data removed]",
      "text/plain": [
       "<Figure size 432x288 with 1 Axes>"
      ]
     },
     "metadata": {
      "needs_background": "light"
     },
     "output_type": "display_data"
    }
   ],
   "source": [
    "hep.histplot(bh.Histogram(bh.axis.Regular(100, 1.115683 - 0.01, 1.115683 + 0.01)).fill(\n",
    "    ak.flatten(mass(pairs, 0.139570, 0.938272))\n",
    "))"
   ]
  },
  {
   "cell_type": "markdown",
   "metadata": {},
   "source": [
    "$K_S \\to \\pi\\pi$ requires unique combinations of pions in each event with themselves.\n",
    "\n",
    "<img src=\"../docs-img/diagrams/cartoon-combinations.png\" width=\"300\">"
   ]
  },
  {
   "cell_type": "code",
   "execution_count": 26,
   "metadata": {},
   "outputs": [
    {
     "data": {
      "text/plain": [
       "<Array [[({id: 79, pdg: 211, ... )]] type='10000 * var * pair[particle[\"id\": uin...'>"
      ]
     },
     "execution_count": 26,
     "metadata": {},
     "output_type": "execute_result"
    }
   ],
   "source": [
    "pairs = ak.combinations(events.pions, 2, with_name=\"pair\")\n",
    "pairs"
   ]
  },
  {
   "cell_type": "code",
   "execution_count": 27,
   "metadata": {},
   "outputs": [
    {
     "data": {
      "text/plain": [
       "<Array [[1.35, 0.661, 0.374, ... 0.356, 0.529]] type='10000 * var * float64'>"
      ]
     },
     "execution_count": 27,
     "metadata": {},
     "output_type": "execute_result"
    }
   ],
   "source": [
    "mass(pairs, 0.139570, 0.139570)"
   ]
  },
  {
   "cell_type": "code",
   "execution_count": 28,
   "metadata": {},
   "outputs": [
    {
     "data": {
      "text/plain": [
       "<matplotlib.axes._subplots.AxesSubplot at 0x7ff2f650bb90>"
      ]
     },
     "execution_count": 28,
     "metadata": {},
     "output_type": "execute_result"
    },
    {
     "data": {
      "image/png": "[encoded data removed]",
      "text/plain": [
       "<Figure size 432x288 with 1 Axes>"
      ]
     },
     "metadata": {
      "needs_background": "light"
     },
     "output_type": "display_data"
    }
   ],
   "source": [
    "hep.histplot(bh.Histogram(bh.axis.Regular(100, 0.497611 - 0.015, 0.497611 + 0.015)).fill(\n",
    "    ak.flatten(mass(pairs, 0.139570, 0.139570))\n",
    "))"
   ]
  },
  {
   "cell_type": "markdown",
   "metadata": {},
   "source": [
    "## 5. Masking, rather than cutting\n",
    "\n",
    "One of the problems with using NumPy slicing to cut events is that it changes the shape of arrays; they don't line up."
   ]
  },
  {
   "cell_type": "code",
   "execution_count": 29,
   "metadata": {},
   "outputs": [
    {
     "data": {
      "text/plain": [
       "<Array [0, 1, 2, 3, 4, 5, 6, 7, 8, 9] type='10 * int64'>"
      ]
     },
     "execution_count": 29,
     "metadata": {},
     "output_type": "execute_result"
    }
   ],
   "source": [
    "sample = ak.Array(np.arange(10))\n",
    "sample"
   ]
  },
  {
   "cell_type": "code",
   "execution_count": 30,
   "metadata": {},
   "outputs": [
    {
     "data": {
      "text/plain": [
       "<Array [True, False, True, ... True, False] type='10 * bool'>"
      ]
     },
     "execution_count": 30,
     "metadata": {},
     "output_type": "execute_result"
    }
   ],
   "source": [
    "cut = (sample % 2 == 0)\n",
    "cut"
   ]
  },
  {
   "cell_type": "code",
   "execution_count": 31,
   "metadata": {},
   "outputs": [
    {
     "data": {
      "text/plain": [
       "<Array [0, 2, 4, 6, 8] type='5 * int64'>"
      ]
     },
     "execution_count": 31,
     "metadata": {},
     "output_type": "execute_result"
    }
   ],
   "source": [
    "sample[cut]"
   ]
  },
  {
   "cell_type": "markdown",
   "metadata": {},
   "source": [
    "One of the data types that can be expressed with Awkward Arrays allows for missing data (arrays containing `None`).\n",
    "\n",
    "`ak.mask` or `array.mask[...]` can make these arrays."
   ]
  },
  {
   "cell_type": "code",
   "execution_count": 32,
   "metadata": {},
   "outputs": [
    {
     "data": {
      "text/plain": [
       "<Array [0, None, 2, None, ... 6, None, 8, None] type='10 * ?int64'>"
      ]
     },
     "execution_count": 32,
     "metadata": {},
     "output_type": "execute_result"
    }
   ],
   "source": [
    "sample.mask[cut]"
   ]
  },
  {
   "cell_type": "markdown",
   "metadata": {},
   "source": [
    "This still has 10 entries, so we can use it in formulae with other arrays with 10 entries."
   ]
  },
  {
   "cell_type": "code",
   "execution_count": 33,
   "metadata": {},
   "outputs": [
    {
     "data": {
      "text/plain": [
       "<Array [0, None, 0, None, ... 0, None, 0, None] type='10 * ?int64'>"
      ]
     },
     "execution_count": 33,
     "metadata": {},
     "output_type": "execute_result"
    }
   ],
   "source": [
    "sample.mask[cut] - sample"
   ]
  },
  {
   "cell_type": "markdown",
   "metadata": {},
   "source": [
    "Physics example: apply some quality cuts to $K_S \\to \\pi\\pi$."
   ]
  },
  {
   "cell_type": "code",
   "execution_count": 34,
   "metadata": {},
   "outputs": [
    {
     "data": {
      "text/plain": [
       "<Array [[({id: 79, pdg: 211, ... )]] type='10000 * var * pair[particle[\"id\": uin...'>"
      ]
     },
     "execution_count": 34,
     "metadata": {},
     "output_type": "execute_result"
    }
   ],
   "source": [
    "pairs = ak.combinations(events.pions, 2, with_name=\"pair\")\n",
    "pairs"
   ]
  },
  {
   "cell_type": "code",
   "execution_count": 35,
   "metadata": {},
   "outputs": [
    {
     "data": {
      "text/plain": [
       "<Array [[True, False, True, ... True, True]] type='10000 * var * bool'>"
      ]
     },
     "execution_count": 35,
     "metadata": {},
     "output_type": "execute_result"
    }
   ],
   "source": [
    "opposite_sign = (pairs.slot0.charge != pairs.slot1.charge)\n",
    "opposite_sign"
   ]
  },
  {
   "cell_type": "code",
   "execution_count": 36,
   "metadata": {},
   "outputs": [
    {
     "data": {
      "text/plain": [
       "<Array [[False, False, False, ... False, True]] type='10000 * var * bool'>"
      ]
     },
     "execution_count": 36,
     "metadata": {},
     "output_type": "execute_result"
    }
   ],
   "source": [
    "def far_enough(vtx, cut):\n",
    "    return np.sqrt(vtx.x**2 + vtx.y**2 + vtx.z**2) > cut\n",
    "\n",
    "left, right = ak.unzip(pairs)\n",
    "displaced_vertex = far_enough(left.vtx, 0.10) & far_enough(right.vtx, 0.10)\n",
    "displaced_vertex"
   ]
  },
  {
   "cell_type": "markdown",
   "metadata": {},
   "source": [
    "The cuts can be added sequentially."
   ]
  },
  {
   "cell_type": "code",
   "execution_count": 37,
   "metadata": {},
   "outputs": [
    {
     "data": {
      "text/plain": [
       "<Array [[({id: 79, pdg: 211, ... )]] type='10000 * var * ?pair[particle[\"id\": ui...'>"
      ]
     },
     "execution_count": 37,
     "metadata": {},
     "output_type": "execute_result"
    }
   ],
   "source": [
    "good_kaons = pairs.mask[opposite_sign]\n",
    "good_kaons"
   ]
  },
  {
   "cell_type": "code",
   "execution_count": 38,
   "metadata": {},
   "outputs": [
    {
     "data": {
      "text/plain": [
       "<Array [[None, None, None, None, ... )]] type='10000 * var * ?pair[particle[\"id\"...'>"
      ]
     },
     "execution_count": 38,
     "metadata": {},
     "output_type": "execute_result"
    }
   ],
   "source": [
    "better_kaons = good_kaons.mask[displaced_vertex]\n",
    "better_kaons"
   ]
  },
  {
   "cell_type": "markdown",
   "metadata": {},
   "source": [
    "Flattening at the default `axis=1` concatenates the first level of nested lists (and would get rid of any missing _lists_)."
   ]
  },
  {
   "cell_type": "code",
   "execution_count": 39,
   "metadata": {},
   "outputs": [
    {
     "data": {
      "text/plain": [
       "<Array [None, None, None, None, None, ... )] type='885743 * ?pair[particle[\"id\":...'>"
      ]
     },
     "execution_count": 39,
     "metadata": {},
     "output_type": "execute_result"
    }
   ],
   "source": [
    "ak.flatten(better_kaons)"
   ]
  },
  {
   "cell_type": "markdown",
   "metadata": {},
   "source": [
    "Flattening at `axis=0` gets rid of missing values at the top level."
   ]
  },
  {
   "cell_type": "code",
   "execution_count": 40,
   "metadata": {},
   "outputs": [
    {
     "data": {
      "text/plain": [
       "<Array [({id: 126, pdg: -211, ... )] type='49494 * pair[particle[\"id\": uint64, \"...'>"
      ]
     },
     "execution_count": 40,
     "metadata": {},
     "output_type": "execute_result"
    }
   ],
   "source": [
    "ak.flatten(ak.flatten(better_kaons), axis=0)"
   ]
  },
  {
   "cell_type": "markdown",
   "metadata": {},
   "source": [
    "Flattening with `axis=None` eliminates _all_ structure, leaving you with only numbers."
   ]
  },
  {
   "cell_type": "code",
   "execution_count": 41,
   "metadata": {},
   "outputs": [
    {
     "data": {
      "text/plain": [
       "<Array [126, 126, 126, ... -25, -25, -0.365] type='4157496 * float64'>"
      ]
     },
     "execution_count": 41,
     "metadata": {},
     "output_type": "execute_result"
    }
   ],
   "source": [
    "ak.flatten(better_kaons, axis=None)"
   ]
  },
  {
   "cell_type": "markdown",
   "metadata": {},
   "source": [
    "We don't want to do that to record structures because we lose the difference between PDG ids and px-py-pzs.\n",
    "\n",
    "But we could easily want to do that with a numerical array, like masses."
   ]
  },
  {
   "cell_type": "code",
   "execution_count": 42,
   "metadata": {},
   "outputs": [
    {
     "data": {
      "text/plain": [
       "<Array [[None, None, None, ... None, 0.529]] type='10000 * var * ?float64'>"
      ]
     },
     "execution_count": 42,
     "metadata": {},
     "output_type": "execute_result"
    }
   ],
   "source": [
    "mass(better_kaons, 0.139570, 0.139570)"
   ]
  },
  {
   "cell_type": "code",
   "execution_count": 43,
   "metadata": {},
   "outputs": [
    {
     "data": {
      "text/plain": [
       "<Array [0.336, 0.341, 0.567, ... 0.499, 0.529] type='49494 * float64'>"
      ]
     },
     "execution_count": 43,
     "metadata": {},
     "output_type": "execute_result"
    }
   ],
   "source": [
    "ak.flatten(mass(better_kaons, 0.139570, 0.139570), axis=None)"
   ]
  },
  {
   "cell_type": "markdown",
   "metadata": {},
   "source": [
    "That's pretty much what you always want to do before plotting."
   ]
  },
  {
   "cell_type": "code",
   "execution_count": 44,
   "metadata": {},
   "outputs": [
    {
     "data": {
      "text/plain": [
       "<matplotlib.axes._subplots.AxesSubplot at 0x7ff2da0533d0>"
      ]
     },
     "execution_count": 44,
     "metadata": {},
     "output_type": "execute_result"
    },
    {
     "data": {
      "image/png": "[encoded data removed]",
      "text/plain": [
       "<Figure size 432x288 with 1 Axes>"
      ]
     },
     "metadata": {
      "needs_background": "light"
     },
     "output_type": "display_data"
    }
   ],
   "source": [
    "hep.histplot(bh.Histogram(bh.axis.Regular(100, 0.497611 - 0.015, 0.497611 + 0.015)).fill(\n",
    "    ak.flatten(mass(better_kaons, 0.139570, 0.139570), axis=None)\n",
    "))"
   ]
  },
  {
   "cell_type": "markdown",
   "metadata": {},
   "source": [
    "## 6. Easier to override with physics behaviors\n",
    "\n",
    "Every layout node has JSON-like metadata, and some parameters have special meaning.\n",
    "\n",
    "The `\"__record__\"` parameter names data structures."
   ]
  },
  {
   "cell_type": "code",
   "execution_count": 45,
   "metadata": {},
   "outputs": [
    {
     "data": {
      "text/plain": [
       "{'__record__': 'particle'}"
      ]
     },
     "execution_count": 45,
     "metadata": {},
     "output_type": "execute_result"
    }
   ],
   "source": [
    "events.kaons.layout.content.parameters"
   ]
  },
  {
   "cell_type": "code",
   "execution_count": 46,
   "metadata": {},
   "outputs": [
    {
     "data": {
      "text/plain": [
       "{'__record__': 'point3'}"
      ]
     },
     "execution_count": 46,
     "metadata": {},
     "output_type": "execute_result"
    }
   ],
   "source": [
    "events.kaons.vtx.layout.content.parameters"
   ]
  },
  {
   "cell_type": "markdown",
   "metadata": {},
   "source": [
    "Named data structures can be associated with mixins through `ak.behavior`."
   ]
  },
  {
   "cell_type": "code",
   "execution_count": 47,
   "metadata": {},
   "outputs": [],
   "source": [
    "class ParticleRecord(ak.Record):\n",
    "    @property\n",
    "    def pt(self):\n",
    "        return np.sqrt(self.px**2 + self.py**2)\n",
    "\n",
    "ak.behavior[\"particle\"] = ParticleRecord"
   ]
  },
  {
   "cell_type": "code",
   "execution_count": 48,
   "metadata": {},
   "outputs": [
    {
     "data": {
      "text/plain": [
       "<ParticleRecord ... y: 4.01e-12, z: 1.82e-10}}}} type='particle[\"id\": uint64, \"p...'>"
      ]
     },
     "execution_count": 48,
     "metadata": {},
     "output_type": "execute_result"
    }
   ],
   "source": [
    "events.kaons[0, 0]"
   ]
  },
  {
   "cell_type": "code",
   "execution_count": 49,
   "metadata": {},
   "outputs": [
    {
     "data": {
      "text/plain": [
       "0.4106043482313903"
      ]
     },
     "execution_count": 49,
     "metadata": {},
     "output_type": "execute_result"
    }
   ],
   "source": [
    "events.kaons[0, 0].pt"
   ]
  },
  {
   "cell_type": "markdown",
   "metadata": {},
   "source": [
    "Similarly for arrays of these data structures (any number of levels deep)."
   ]
  },
  {
   "cell_type": "code",
   "execution_count": 50,
   "metadata": {},
   "outputs": [],
   "source": [
    "class ParticleArray(ak.Array):\n",
    "    @property\n",
    "    def pt(self):\n",
    "        return np.sqrt(self.px**2 + self.py**2)\n",
    "\n",
    "ak.behavior[\"*\", \"particle\"] = ParticleArray"
   ]
  },
  {
   "cell_type": "code",
   "execution_count": 51,
   "metadata": {},
   "outputs": [
    {
     "data": {
      "text/plain": [
       "<ParticleArray [[{id: 81, pdg: -321, ... ] type='10000 * var * particle[\"id\": ui...'>"
      ]
     },
     "execution_count": 51,
     "metadata": {},
     "output_type": "execute_result"
    }
   ],
   "source": [
    "events.kaons"
   ]
  },
  {
   "cell_type": "code",
   "execution_count": 52,
   "metadata": {},
   "outputs": [
    {
     "data": {
      "text/plain": [
       "<Array [[0.411, 0.57, 0.179, ... [0.32]] type='10000 * var * float64'>"
      ]
     },
     "execution_count": 52,
     "metadata": {},
     "output_type": "execute_result"
    }
   ],
   "source": [
    "events.kaons.pt"
   ]
  },
  {
   "cell_type": "markdown",
   "metadata": {},
   "source": [
    "We can also override the behavior of NumPy ufuncs, when applied to objects of a given name."
   ]
  },
  {
   "cell_type": "code",
   "execution_count": 53,
   "metadata": {},
   "outputs": [],
   "source": [
    "def point3_absolute(data):\n",
    "    return np.sqrt(data.x**2 + data.y**2 + data.z**2)\n",
    "\n",
    "def point3_distance(left, right):\n",
    "    return np.sqrt((left.x - right.x)**2 + (left.y - right.y)**2 + (left.z - right.z)**2)\n",
    "\n",
    "ak.behavior[np.absolute, \"point3\"] = point3_absolute\n",
    "ak.behavior[np.subtract, \"point3\", \"point3\"] = point3_distance"
   ]
  },
  {
   "cell_type": "code",
   "execution_count": 54,
   "metadata": {},
   "outputs": [
    {
     "data": {
      "text/plain": [
       "<Array [[0.0114, 0.00318, 1.28, ... [0.00853]] type='10000 * var * float64'>"
      ]
     },
     "execution_count": 54,
     "metadata": {},
     "output_type": "execute_result"
    }
   ],
   "source": [
    "# using NumPy ufuncs explicitly...\n",
    "np.absolute(events.kaons.vtx)"
   ]
  },
  {
   "cell_type": "code",
   "execution_count": 55,
   "metadata": {},
   "outputs": [
    {
     "data": {
      "text/plain": [
       "<Array [[0.0114, 0.00318, 1.28, ... [0.00853]] type='10000 * var * float64'>"
      ]
     },
     "execution_count": 55,
     "metadata": {},
     "output_type": "execute_result"
    }
   ],
   "source": [
    "# ...or implicitly\n",
    "abs(events.kaons.vtx)"
   ]
  },
  {
   "cell_type": "code",
   "execution_count": 56,
   "metadata": {},
   "outputs": [
    {
     "data": {
      "text/plain": [
       "<Array [[0.0541], [], [0.789, ... [8.55], [0]] type='10000 * var * float64'>"
      ]
     },
     "execution_count": 56,
     "metadata": {},
     "output_type": "execute_result"
    }
   ],
   "source": [
    "# subtract the firsts and lasts of each event\n",
    "events.kaons[:, :1].vtx - events.kaons[:, -1:].vtx"
   ]
  },
  {
   "cell_type": "markdown",
   "metadata": {},
   "source": [
    "## 7. Everything can be used in Numba\n",
    "\n",
    "Numba-compiled functions can consume any ak.Array."
   ]
  },
  {
   "cell_type": "code",
   "execution_count": 57,
   "metadata": {},
   "outputs": [],
   "source": [
    "import numba as nb"
   ]
  },
  {
   "cell_type": "code",
   "execution_count": 58,
   "metadata": {},
   "outputs": [],
   "source": [
    "@nb.jit\n",
    "def lambda_mass(events):\n",
    "    num_lambdas = 0\n",
    "    for event in events:\n",
    "        num_lambdas += len(event.pions) * len(event.protons)\n",
    "\n",
    "    lambda_masses = np.empty(num_lambdas, np.float64)\n",
    "    i = 0\n",
    "    for event in events:\n",
    "        for pion in event.pions:\n",
    "            for proton in event.protons:\n",
    "                pion_energy = np.sqrt(pion.p**2 + 0.139570**2)\n",
    "                proton_energy = np.sqrt(proton.p**2 + 0.938272**2)\n",
    "                mass = np.sqrt((pion_energy + proton_energy)**2 -\n",
    "                               (pion.px + proton.px)**2 -\n",
    "                               (pion.py + proton.py)**2 -\n",
    "                               (pion.pz + proton.pz)**2)\n",
    "                lambda_masses[i] = mass\n",
    "                i += 1\n",
    "    \n",
    "    return lambda_masses"
   ]
  },
  {
   "cell_type": "code",
   "execution_count": 59,
   "metadata": {},
   "outputs": [
    {
     "data": {
      "text/plain": [
       "<matplotlib.axes._subplots.AxesSubplot at 0x7ff2d76c1550>"
      ]
     },
     "execution_count": 59,
     "metadata": {},
     "output_type": "execute_result"
    },
    {
     "data": {
      "image/png": "[encoded data removed]",
      "text/plain": [
       "<Figure size 432x288 with 1 Axes>"
      ]
     },
     "metadata": {
      "needs_background": "light"
     },
     "output_type": "display_data"
    }
   ],
   "source": [
    "hep.histplot(bh.Histogram(bh.axis.Regular(100, 1.115683 - 0.01, 1.115683 + 0.01)).fill(\n",
    "    lambda_mass(events)\n",
    "))"
   ]
  },
  {
   "cell_type": "markdown",
   "metadata": {},
   "source": [
    "Above, the output array is a NumPy array; we can make complex types with ak.ArrayBuilder (called FillableArray in last December's presentation).\n",
    "\n",
    "The ak.ArrayBuilder is an append-only structure whose data type is determined by the _order_ in which its methods are called."
   ]
  },
  {
   "cell_type": "code",
   "execution_count": 60,
   "metadata": {},
   "outputs": [],
   "source": [
    "@nb.jit(nopython=True)\n",
    "def closest_photon_to_each_electron(events, builder):\n",
    "    for event in events:\n",
    "        builder.begin_list()\n",
    "        for electron in event.electrons:\n",
    "            best_i = -1\n",
    "            best_angle = -1.0\n",
    "            for i in range(len(event.photons)):\n",
    "                photon = event.photons[i]\n",
    "                angle = photon.dir.x*electron.dir.x + photon.dir.y*electron.dir.y + photon.dir.z*electron.dir.z\n",
    "                if angle > best_angle:\n",
    "                    best_i = i\n",
    "                    best_angle = angle\n",
    "            if best_i == -1:\n",
    "                builder.null()\n",
    "            else:\n",
    "                builder.append(photon)\n",
    "        builder.end_list()"
   ]
  },
  {
   "cell_type": "code",
   "execution_count": 61,
   "metadata": {},
   "outputs": [
    {
     "data": {
      "text/plain": [
       "<ParticleArray [[{id: 168, pdg: 22, ... ] type='10000 * var * ?particle[\"id\": ui...'>"
      ]
     },
     "execution_count": 61,
     "metadata": {},
     "output_type": "execute_result"
    }
   ],
   "source": [
    "events[\"photons\"]   = events.prt[events.prt.pdg == Particle.from_string(\"gamma\").pdgid]\n",
    "events[\"electrons\"] = events.prt[abs(events.prt.pdg) == abs(Particle.from_string(\"e-\").pdgid)]\n",
    "\n",
    "builder = ak.ArrayBuilder()\n",
    "closest_photon_to_each_electron(events, builder)\n",
    "closest_photons = builder.snapshot()\n",
    "closest_photons"
   ]
  },
  {
   "cell_type": "code",
   "execution_count": 62,
   "metadata": {},
   "outputs": [
    {
     "data": {
      "text/plain": [
       "(<Array [16, 14, 9, 12, 10, ... 22, 18, 10, 4] type='10000 * int64'>,\n",
       " <Array [1, 1, 1, 1, 1, 1, ... 2, 1, 1, 2, 1, 1] type='10000 * int64'>,\n",
       " <Array [1, 1, 1, 1, 1, 1, ... 2, 1, 1, 2, 1, 1] type='10000 * int64'>)"
      ]
     },
     "execution_count": 62,
     "metadata": {},
     "output_type": "execute_result"
    }
   ],
   "source": [
    "ak.num(events.photons), ak.num(events.electrons), ak.num(closest_photons)"
   ]
  },
  {
   "cell_type": "markdown",
   "metadata": {},
   "source": [
    "Limitations:\n",
    "\n",
    "   * ak.Array and ak.ArrayBuilder cannot be created inside a Numba-compiled function; they can only be passed in and returned.\n",
    "   * Fancy `__getitem__` is not available.\n",
    "   * All the `ak.this` and `ak.that` functions are not available.\n",
    "\n",
    "The bottom line is that you should write imperative, C-style code inside Numba and vectorized, NumPy-style code outside."
   ]
  },
  {
   "cell_type": "markdown",
   "metadata": {},
   "source": [
    "## 8. Everything can be used in Pandas\n",
    "\n",
    "An ak.Array can be a Pandas column:"
   ]
  },
  {
   "cell_type": "code",
   "execution_count": 63,
   "metadata": {},
   "outputs": [],
   "source": [
    "import pandas as pd"
   ]
  },
  {
   "cell_type": "code",
   "execution_count": 64,
   "metadata": {},
   "outputs": [
    {
     "data": {
      "text/html": [
       "<div>\n",
       "<style scoped>\n",
       "    .dataframe tbody tr th:only-of-type {\n",
       "        vertical-align: middle;\n",
       "    }\n",
       "\n",
       "    .dataframe tbody tr th {\n",
       "        vertical-align: top;\n",
       "    }\n",
       "\n",
       "    .dataframe thead th {\n",
       "        text-align: right;\n",
       "    }\n",
       "</style>\n",
       "<table border=\"1\" class=\"dataframe\">\n",
       "  <thead>\n",
       "    <tr style=\"text-align: right;\">\n",
       "      <th></th>\n",
       "      <th>events</th>\n",
       "    </tr>\n",
       "  </thead>\n",
       "  <tbody>\n",
       "    <tr>\n",
       "      <th>0</th>\n",
       "      <td>... p: 3.24, px: 0.0893, py: -0.517, pz: 3.2, ...</td>\n",
       "    </tr>\n",
       "    <tr>\n",
       "      <th>1</th>\n",
       "      <td>... p: 15.4, px: 0.665, py: 0.926, pz: 15.3, v...</td>\n",
       "    </tr>\n",
       "    <tr>\n",
       "      <th>2</th>\n",
       "      <td>... p: 17.5, px: 1.8, py: -5.77, pz: 16.5, vtx...</td>\n",
       "    </tr>\n",
       "    <tr>\n",
       "      <th>3</th>\n",
       "      <td>... p: 14.7, px: -3.71, py: 1.49, pz: 14.1, vt...</td>\n",
       "    </tr>\n",
       "    <tr>\n",
       "      <th>4</th>\n",
       "      <td>... p: 6.83, px: -2.48, py: -0.193, pz: 6.36, ...</td>\n",
       "    </tr>\n",
       "    <tr>\n",
       "      <th>...</th>\n",
       "      <td>...</td>\n",
       "    </tr>\n",
       "    <tr>\n",
       "      <th>9995</th>\n",
       "      <td>... p: 16.2, px: 0.491, py: 3.35, pz: 15.9, vt...</td>\n",
       "    </tr>\n",
       "    <tr>\n",
       "      <th>9996</th>\n",
       "      <td>... p: 16.3, px: 2.43, py: -4.85, pz: 15.4, vt...</td>\n",
       "    </tr>\n",
       "    <tr>\n",
       "      <th>9997</th>\n",
       "      <td>... py: -0.112, pz: 0.201, vtx: {x: -0.0328, y...</td>\n",
       "    </tr>\n",
       "    <tr>\n",
       "      <th>9998</th>\n",
       "      <td>... tot_e: 17.1, p: 17.1, px: 6.22, py: 4.3, p...</td>\n",
       "    </tr>\n",
       "    <tr>\n",
       "      <th>9999</th>\n",
       "      <td>... p: 17.8, px: 1.44, py: 0.27, pz: 17.8, vtx...</td>\n",
       "    </tr>\n",
       "  </tbody>\n",
       "</table>\n",
       "<p>10000 rows × 1 columns</p>\n",
       "</div>"
      ],
      "text/plain": [
       "                                                 events\n",
       "0     ... p: 3.24, px: 0.0893, py: -0.517, pz: 3.2, ...\n",
       "1     ... p: 15.4, px: 0.665, py: 0.926, pz: 15.3, v...\n",
       "2     ... p: 17.5, px: 1.8, py: -5.77, pz: 16.5, vtx...\n",
       "3     ... p: 14.7, px: -3.71, py: 1.49, pz: 14.1, vt...\n",
       "4     ... p: 6.83, px: -2.48, py: -0.193, pz: 6.36, ...\n",
       "...                                                 ...\n",
       "9995  ... p: 16.2, px: 0.491, py: 3.35, pz: 15.9, vt...\n",
       "9996  ... p: 16.3, px: 2.43, py: -4.85, pz: 15.4, vt...\n",
       "9997  ... py: -0.112, pz: 0.201, vtx: {x: -0.0328, y...\n",
       "9998  ... tot_e: 17.1, p: 17.1, px: 6.22, py: 4.3, p...\n",
       "9999  ... p: 17.8, px: 1.44, py: 0.27, pz: 17.8, vtx...\n",
       "\n",
       "[10000 rows x 1 columns]"
      ]
     },
     "execution_count": 64,
     "metadata": {},
     "output_type": "execute_result"
    }
   ],
   "source": [
    "pd.DataFrame({\"events\": events})"
   ]
  },
  {
   "cell_type": "code",
   "execution_count": 65,
   "metadata": {},
   "outputs": [
    {
     "data": {
      "text/html": [
       "<div>\n",
       "<style scoped>\n",
       "    .dataframe tbody tr th:only-of-type {\n",
       "        vertical-align: middle;\n",
       "    }\n",
       "\n",
       "    .dataframe tbody tr th {\n",
       "        vertical-align: top;\n",
       "    }\n",
       "\n",
       "    .dataframe thead th {\n",
       "        text-align: right;\n",
       "    }\n",
       "</style>\n",
       "<table border=\"1\" class=\"dataframe\">\n",
       "  <thead>\n",
       "    <tr style=\"text-align: right;\">\n",
       "      <th></th>\n",
       "      <th>pions</th>\n",
       "      <th>kaons</th>\n",
       "      <th>protons</th>\n",
       "    </tr>\n",
       "  </thead>\n",
       "  <tbody>\n",
       "    <tr>\n",
       "      <th>0</th>\n",
       "      <td>[{id: 79, pdg: 211, trk_id: 0, charge: 1, dir:...</td>\n",
       "      <td>[{id: 81, pdg: -321, trk_id: 0, charge: -1, di...</td>\n",
       "      <td>[... px: 0.272, py: 0.0596, pz: -3.98, vtx: {x...</td>\n",
       "    </tr>\n",
       "    <tr>\n",
       "      <th>1</th>\n",
       "      <td>[{id: 38, pdg: 211, trk_id: 0, charge: 1, dir:...</td>\n",
       "      <td>[]</td>\n",
       "      <td>[]</td>\n",
       "    </tr>\n",
       "    <tr>\n",
       "      <th>2</th>\n",
       "      <td>[{id: 53, pdg: 211, trk_id: 0, charge: 1, dir:...</td>\n",
       "      <td>[{id: 96, pdg: 321, trk_id: 0, charge: 1, dir:...</td>\n",
       "      <td>[... py: 0.915, pz: -7.29, vtx: {x: 1.02e-12, ...</td>\n",
       "    </tr>\n",
       "    <tr>\n",
       "      <th>3</th>\n",
       "      <td>[{id: 47, pdg: 211, trk_id: 0, charge: 1, dir:...</td>\n",
       "      <td>[... px: 0.47, py: -0.228, pz: -2.16, vtx: {x:...</td>\n",
       "      <td>[... py: 0.287, pz: -5.29, vtx: {x: 7.91e-13, ...</td>\n",
       "    </tr>\n",
       "    <tr>\n",
       "      <th>4</th>\n",
       "      <td>[{id: 45, pdg: 211, trk_id: 0, charge: 1, dir:...</td>\n",
       "      <td>[{id: 62, pdg: -321, trk_id: 0, charge: -1, di...</td>\n",
       "      <td>[... px: -0.48, py: -0.16, pz: -1.46, vtx: {x:...</td>\n",
       "    </tr>\n",
       "    <tr>\n",
       "      <th>...</th>\n",
       "      <td>...</td>\n",
       "      <td>...</td>\n",
       "      <td>...</td>\n",
       "    </tr>\n",
       "    <tr>\n",
       "      <th>9995</th>\n",
       "      <td>[{id: 56, pdg: 211, trk_id: 0, charge: 1, dir:...</td>\n",
       "      <td>[{id: 76, pdg: -321, trk_id: 0, charge: -1, di...</td>\n",
       "      <td>[]</td>\n",
       "    </tr>\n",
       "    <tr>\n",
       "      <th>9996</th>\n",
       "      <td>[{id: 45, pdg: 211, trk_id: 0, charge: 1, dir:...</td>\n",
       "      <td>[... py: -0.397, pz: -1.37, vtx: {x: 2.39e-12,...</td>\n",
       "      <td>[]</td>\n",
       "    </tr>\n",
       "    <tr>\n",
       "      <th>9997</th>\n",
       "      <td>[{id: 60, pdg: -211, trk_id: 0, charge: -1, di...</td>\n",
       "      <td>[{id: 61, pdg: 321, trk_id: 0, charge: 1, dir:...</td>\n",
       "      <td>[]</td>\n",
       "    </tr>\n",
       "    <tr>\n",
       "      <th>9998</th>\n",
       "      <td>[{id: 46, pdg: -211, trk_id: 0, charge: -1, di...</td>\n",
       "      <td>[{id: 75, pdg: -321, trk_id: 0, charge: -1, di...</td>\n",
       "      <td>[]</td>\n",
       "    </tr>\n",
       "    <tr>\n",
       "      <th>9999</th>\n",
       "      <td>[{id: 38, pdg: -211, trk_id: 0, charge: -1, di...</td>\n",
       "      <td>[... py: -0.11, pz: -4.26, vtx: {x: -7.21e-12,...</td>\n",
       "      <td>[]</td>\n",
       "    </tr>\n",
       "  </tbody>\n",
       "</table>\n",
       "<p>10000 rows × 3 columns</p>\n",
       "</div>"
      ],
      "text/plain": [
       "                                                  pions  \\\n",
       "0     [{id: 79, pdg: 211, trk_id: 0, charge: 1, dir:...   \n",
       "1     [{id: 38, pdg: 211, trk_id: 0, charge: 1, dir:...   \n",
       "2     [{id: 53, pdg: 211, trk_id: 0, charge: 1, dir:...   \n",
       "3     [{id: 47, pdg: 211, trk_id: 0, charge: 1, dir:...   \n",
       "4     [{id: 45, pdg: 211, trk_id: 0, charge: 1, dir:...   \n",
       "...                                                 ...   \n",
       "9995  [{id: 56, pdg: 211, trk_id: 0, charge: 1, dir:...   \n",
       "9996  [{id: 45, pdg: 211, trk_id: 0, charge: 1, dir:...   \n",
       "9997  [{id: 60, pdg: -211, trk_id: 0, charge: -1, di...   \n",
       "9998  [{id: 46, pdg: -211, trk_id: 0, charge: -1, di...   \n",
       "9999  [{id: 38, pdg: -211, trk_id: 0, charge: -1, di...   \n",
       "\n",
       "                                                  kaons  \\\n",
       "0     [{id: 81, pdg: -321, trk_id: 0, charge: -1, di...   \n",
       "1                                                    []   \n",
       "2     [{id: 96, pdg: 321, trk_id: 0, charge: 1, dir:...   \n",
       "3     [... px: 0.47, py: -0.228, pz: -2.16, vtx: {x:...   \n",
       "4     [{id: 62, pdg: -321, trk_id: 0, charge: -1, di...   \n",
       "...                                                 ...   \n",
       "9995  [{id: 76, pdg: -321, trk_id: 0, charge: -1, di...   \n",
       "9996  [... py: -0.397, pz: -1.37, vtx: {x: 2.39e-12,...   \n",
       "9997  [{id: 61, pdg: 321, trk_id: 0, charge: 1, dir:...   \n",
       "9998  [{id: 75, pdg: -321, trk_id: 0, charge: -1, di...   \n",
       "9999  [... py: -0.11, pz: -4.26, vtx: {x: -7.21e-12,...   \n",
       "\n",
       "                                                protons  \n",
       "0     [... px: 0.272, py: 0.0596, pz: -3.98, vtx: {x...  \n",
       "1                                                    []  \n",
       "2     [... py: 0.915, pz: -7.29, vtx: {x: 1.02e-12, ...  \n",
       "3     [... py: 0.287, pz: -5.29, vtx: {x: 7.91e-13, ...  \n",
       "4     [... px: -0.48, py: -0.16, pz: -1.46, vtx: {x:...  \n",
       "...                                                 ...  \n",
       "9995                                                 []  \n",
       "9996                                                 []  \n",
       "9997                                                 []  \n",
       "9998                                                 []  \n",
       "9999                                                 []  \n",
       "\n",
       "[10000 rows x 3 columns]"
      ]
     },
     "execution_count": 65,
     "metadata": {},
     "output_type": "execute_result"
    }
   ],
   "source": [
    "pd.DataFrame({\"pions\": events.pions, \"kaons\": events.kaons, \"protons\": events.protons})"
   ]
  },
  {
   "cell_type": "markdown",
   "metadata": {},
   "source": [
    "But they'll be more useful in Pandas if broken down to simpler types."
   ]
  },
  {
   "cell_type": "code",
   "execution_count": 66,
   "metadata": {},
   "outputs": [
    {
     "data": {
      "text/html": [
       "<div>\n",
       "<style scoped>\n",
       "    .dataframe tbody tr th:only-of-type {\n",
       "        vertical-align: middle;\n",
       "    }\n",
       "\n",
       "    .dataframe tbody tr th {\n",
       "        vertical-align: top;\n",
       "    }\n",
       "\n",
       "    .dataframe thead th {\n",
       "        text-align: right;\n",
       "    }\n",
       "</style>\n",
       "<table border=\"1\" class=\"dataframe\">\n",
       "  <thead>\n",
       "    <tr style=\"text-align: right;\">\n",
       "      <th></th>\n",
       "      <th>vtx</th>\n",
       "      <th>smear_vtx</th>\n",
       "    </tr>\n",
       "  </thead>\n",
       "  <tbody>\n",
       "    <tr>\n",
       "      <th>0</th>\n",
       "      <td>[{has_info: True, id: 0, x: -0.000263, y: 0.00...</td>\n",
       "      <td>[{x: 0, y: 0, z: 0}, {x: -3.8e-12, y: 7.25e-12...</td>\n",
       "    </tr>\n",
       "    <tr>\n",
       "      <th>1</th>\n",
       "      <td>[{has_info: True, id: 0, x: 0.000269, y: 0.000...</td>\n",
       "      <td>[{x: 0, y: 0, z: 0}, {x: -1.1e-11, ... {x: -0....</td>\n",
       "    </tr>\n",
       "    <tr>\n",
       "      <th>2</th>\n",
       "      <td>[{has_info: True, id: 0, x: 0.0327, y: -0.0084...</td>\n",
       "      <td>[{x: 0, y: 0, z: 0}, {x: -1.61e-11, ... {x: -0...</td>\n",
       "    </tr>\n",
       "    <tr>\n",
       "      <th>3</th>\n",
       "      <td>[{has_info: True, id: 0, x: -0.00536, y: 0.001...</td>\n",
       "      <td>[{x: 0, y: 0, z: 0}, {x: 1.34e-12, y: 1.88e-13...</td>\n",
       "    </tr>\n",
       "    <tr>\n",
       "      <th>4</th>\n",
       "      <td>[{has_info: True, id: 0, x: 0.0141, y: 0.00693...</td>\n",
       "      <td>[{x: 0, y: 0, z: 0}, {x: 5.62e-12, ... {x: 2.2...</td>\n",
       "    </tr>\n",
       "    <tr>\n",
       "      <th>...</th>\n",
       "      <td>...</td>\n",
       "      <td>...</td>\n",
       "    </tr>\n",
       "    <tr>\n",
       "      <th>9995</th>\n",
       "      <td>[{has_info: True, id: 0, x: 0.0244, y: -0.0098...</td>\n",
       "      <td>[{x: 0, y: 0, z: 0}, {x: -2.58e-13, ... {x: -0...</td>\n",
       "    </tr>\n",
       "    <tr>\n",
       "      <th>9996</th>\n",
       "      <td>[{has_info: True, id: 0, x: 0.00259, y: 0.0012...</td>\n",
       "      <td>[{x: 0, y: 0, z: 0}, {x: -7.13e-12, y: 1.06e-1...</td>\n",
       "    </tr>\n",
       "    <tr>\n",
       "      <th>9997</th>\n",
       "      <td>[{has_info: True, id: 0, x: 0.00514, y: 0.0046...</td>\n",
       "      <td>[{x: 0, y: 0, z: 0}, {x: -1.1e-11, ... {x: -0....</td>\n",
       "    </tr>\n",
       "    <tr>\n",
       "      <th>9998</th>\n",
       "      <td>[{has_info: True, id: 0, x: 0.000299, y: 0.000...</td>\n",
       "      <td>[{x: 0, y: 0, z: 0}, {x: -3.4e-12, ... {x: -0....</td>\n",
       "    </tr>\n",
       "    <tr>\n",
       "      <th>9999</th>\n",
       "      <td>[{has_info: True, id: 0, x: 0.00975, y: 0.034,...</td>\n",
       "      <td>[{x: 0, y: 0, z: 0}, {x: -6.11e-12, ... {x: -0...</td>\n",
       "    </tr>\n",
       "  </tbody>\n",
       "</table>\n",
       "<p>10000 rows × 2 columns</p>\n",
       "</div>"
      ],
      "text/plain": [
       "                                                    vtx  \\\n",
       "0     [{has_info: True, id: 0, x: -0.000263, y: 0.00...   \n",
       "1     [{has_info: True, id: 0, x: 0.000269, y: 0.000...   \n",
       "2     [{has_info: True, id: 0, x: 0.0327, y: -0.0084...   \n",
       "3     [{has_info: True, id: 0, x: -0.00536, y: 0.001...   \n",
       "4     [{has_info: True, id: 0, x: 0.0141, y: 0.00693...   \n",
       "...                                                 ...   \n",
       "9995  [{has_info: True, id: 0, x: 0.0244, y: -0.0098...   \n",
       "9996  [{has_info: True, id: 0, x: 0.00259, y: 0.0012...   \n",
       "9997  [{has_info: True, id: 0, x: 0.00514, y: 0.0046...   \n",
       "9998  [{has_info: True, id: 0, x: 0.000299, y: 0.000...   \n",
       "9999  [{has_info: True, id: 0, x: 0.00975, y: 0.034,...   \n",
       "\n",
       "                                              smear_vtx  \n",
       "0     [{x: 0, y: 0, z: 0}, {x: -3.8e-12, y: 7.25e-12...  \n",
       "1     [{x: 0, y: 0, z: 0}, {x: -1.1e-11, ... {x: -0....  \n",
       "2     [{x: 0, y: 0, z: 0}, {x: -1.61e-11, ... {x: -0...  \n",
       "3     [{x: 0, y: 0, z: 0}, {x: 1.34e-12, y: 1.88e-13...  \n",
       "4     [{x: 0, y: 0, z: 0}, {x: 5.62e-12, ... {x: 2.2...  \n",
       "...                                                 ...  \n",
       "9995  [{x: 0, y: 0, z: 0}, {x: -2.58e-13, ... {x: -0...  \n",
       "9996  [{x: 0, y: 0, z: 0}, {x: -7.13e-12, y: 1.06e-1...  \n",
       "9997  [{x: 0, y: 0, z: 0}, {x: -1.1e-11, ... {x: -0....  \n",
       "9998  [{x: 0, y: 0, z: 0}, {x: -3.4e-12, ... {x: -0....  \n",
       "9999  [{x: 0, y: 0, z: 0}, {x: -6.11e-12, ... {x: -0...  \n",
       "\n",
       "[10000 rows x 2 columns]"
      ]
     },
     "execution_count": 66,
     "metadata": {},
     "output_type": "execute_result"
    }
   ],
   "source": [
    "df = pd.DataFrame({\"vtx\": events.prt.vtx, \"smear_vtx\": events.prt.smear.orig.vtx})\n",
    "df"
   ]
  },
  {
   "cell_type": "code",
   "execution_count": 67,
   "metadata": {},
   "outputs": [
    {
     "data": {
      "text/plain": [
       "0       [0.0109, 0.0446, 0.0184, 0.0114, 0.0106, 0.007...\n",
       "1       [0.000449, 0.0337, 0.054, 0, 1.62e-27, 0, ... ...\n",
       "2       [0.0368, 0, 0.0442, 0.0249, 0.0139, 0.0321, 0....\n",
       "3       [0.00752, 0.00499, 0.0266, 1.39e-17, 0.0095, ....\n",
       "4       [0.0207, 0.00568, 0.0146, 0.00985, 0.0404, 0, ...\n",
       "                              ...                        \n",
       "9995    [0.0353, 0.00521, 0.0259, 0.00322, 0.0301, 0.0...\n",
       "9996    [0.00422, 0.0209, 0.0269, 0.0103, 0.0277, 0.00...\n",
       "9997    [0.00825, 0.0123, 0.018, 0.0124, 0.00392, 0, 0...\n",
       "9998    [0.000783, 0, 0.00177, 0.0204, 0, 0, 0, ... 0....\n",
       "9999    [0.0354, 0.00267, 0.00853, 0, 0, 4.44e-16, 0.0...\n",
       "Length: 10000, dtype: awkward1"
      ]
     },
     "execution_count": 67,
     "metadata": {},
     "output_type": "execute_result"
    }
   ],
   "source": [
    "# because we defined subtraction for \"point3\"\n",
    "df.vtx - df.smear_vtx"
   ]
  },
  {
   "cell_type": "markdown",
   "metadata": {},
   "source": [
    "Pandas's own functions are most useful when the cell data are numbers, which we can produce with `ak.pandas.df`.\n",
    "\n",
    "Jagged lists become `pd.MultiIndex` rows and nested records become `pd.MultiIndex` columns."
   ]
  },
  {
   "cell_type": "code",
   "execution_count": 68,
   "metadata": {},
   "outputs": [
    {
     "data": {
      "text/html": [
       "<div>\n",
       "<style scoped>\n",
       "    .dataframe tbody tr th:only-of-type {\n",
       "        vertical-align: middle;\n",
       "    }\n",
       "\n",
       "    .dataframe tbody tr th {\n",
       "        vertical-align: top;\n",
       "    }\n",
       "\n",
       "    .dataframe thead tr th {\n",
       "        text-align: left;\n",
       "    }\n",
       "\n",
       "    .dataframe thead tr:last-of-type th {\n",
       "        text-align: right;\n",
       "    }\n",
       "</style>\n",
       "<table border=\"1\" class=\"dataframe\">\n",
       "  <thead>\n",
       "    <tr>\n",
       "      <th></th>\n",
       "      <th></th>\n",
       "      <th>id</th>\n",
       "      <th>pdg</th>\n",
       "      <th>trk_id</th>\n",
       "      <th>charge</th>\n",
       "      <th colspan=\"3\" halign=\"left\">dir</th>\n",
       "      <th>p</th>\n",
       "      <th>px</th>\n",
       "      <th>py</th>\n",
       "      <th>...</th>\n",
       "      <th colspan=\"10\" halign=\"left\">smear</th>\n",
       "    </tr>\n",
       "    <tr>\n",
       "      <th></th>\n",
       "      <th></th>\n",
       "      <th></th>\n",
       "      <th></th>\n",
       "      <th></th>\n",
       "      <th></th>\n",
       "      <th>x</th>\n",
       "      <th>y</th>\n",
       "      <th>z</th>\n",
       "      <th></th>\n",
       "      <th></th>\n",
       "      <th></th>\n",
       "      <th>...</th>\n",
       "      <th>has_vtx</th>\n",
       "      <th>has_any_eppid</th>\n",
       "      <th colspan=\"8\" halign=\"left\">orig</th>\n",
       "    </tr>\n",
       "    <tr>\n",
       "      <th></th>\n",
       "      <th></th>\n",
       "      <th></th>\n",
       "      <th></th>\n",
       "      <th></th>\n",
       "      <th></th>\n",
       "      <th></th>\n",
       "      <th></th>\n",
       "      <th></th>\n",
       "      <th></th>\n",
       "      <th></th>\n",
       "      <th></th>\n",
       "      <th>...</th>\n",
       "      <th></th>\n",
       "      <th></th>\n",
       "      <th>tot_e</th>\n",
       "      <th>p</th>\n",
       "      <th>px</th>\n",
       "      <th>py</th>\n",
       "      <th>pz</th>\n",
       "      <th colspan=\"3\" halign=\"left\">vtx</th>\n",
       "    </tr>\n",
       "    <tr>\n",
       "      <th></th>\n",
       "      <th></th>\n",
       "      <th></th>\n",
       "      <th></th>\n",
       "      <th></th>\n",
       "      <th></th>\n",
       "      <th></th>\n",
       "      <th></th>\n",
       "      <th></th>\n",
       "      <th></th>\n",
       "      <th></th>\n",
       "      <th></th>\n",
       "      <th>...</th>\n",
       "      <th></th>\n",
       "      <th></th>\n",
       "      <th></th>\n",
       "      <th></th>\n",
       "      <th></th>\n",
       "      <th></th>\n",
       "      <th></th>\n",
       "      <th>x</th>\n",
       "      <th>y</th>\n",
       "      <th>z</th>\n",
       "    </tr>\n",
       "    <tr>\n",
       "      <th>entry</th>\n",
       "      <th>subentry</th>\n",
       "      <th></th>\n",
       "      <th></th>\n",
       "      <th></th>\n",
       "      <th></th>\n",
       "      <th></th>\n",
       "      <th></th>\n",
       "      <th></th>\n",
       "      <th></th>\n",
       "      <th></th>\n",
       "      <th></th>\n",
       "      <th></th>\n",
       "      <th></th>\n",
       "      <th></th>\n",
       "      <th></th>\n",
       "      <th></th>\n",
       "      <th></th>\n",
       "      <th></th>\n",
       "      <th></th>\n",
       "      <th></th>\n",
       "      <th></th>\n",
       "      <th></th>\n",
       "    </tr>\n",
       "  </thead>\n",
       "  <tbody>\n",
       "    <tr>\n",
       "      <th rowspan=\"5\" valign=\"top\">0</th>\n",
       "      <th>0</th>\n",
       "      <td>79</td>\n",
       "      <td>211</td>\n",
       "      <td>0.0</td>\n",
       "      <td>1.0</td>\n",
       "      <td>0.248434</td>\n",
       "      <td>-0.111816</td>\n",
       "      <td>-0.962173</td>\n",
       "      <td>2.196009</td>\n",
       "      <td>-0.246332</td>\n",
       "      <td>0.548427</td>\n",
       "      <td>...</td>\n",
       "      <td>True</td>\n",
       "      <td>True</td>\n",
       "      <td>2.246944</td>\n",
       "      <td>2.242605</td>\n",
       "      <td>0.557139</td>\n",
       "      <td>-0.250759</td>\n",
       "      <td>-2.157775</td>\n",
       "      <td>-3.802621e-12</td>\n",
       "      <td>7.245129e-12</td>\n",
       "      <td>-2.343316e-10</td>\n",
       "    </tr>\n",
       "    <tr>\n",
       "      <th>1</th>\n",
       "      <td>80</td>\n",
       "      <td>-211</td>\n",
       "      <td>0.0</td>\n",
       "      <td>-1.0</td>\n",
       "      <td>-0.277899</td>\n",
       "      <td>0.142611</td>\n",
       "      <td>-0.949965</td>\n",
       "      <td>2.294958</td>\n",
       "      <td>0.327770</td>\n",
       "      <td>-0.640543</td>\n",
       "      <td>...</td>\n",
       "      <td>True</td>\n",
       "      <td>True</td>\n",
       "      <td>2.252213</td>\n",
       "      <td>2.247884</td>\n",
       "      <td>-0.624684</td>\n",
       "      <td>0.320574</td>\n",
       "      <td>-2.135412</td>\n",
       "      <td>-3.802621e-12</td>\n",
       "      <td>7.245129e-12</td>\n",
       "      <td>-2.343316e-10</td>\n",
       "    </tr>\n",
       "    <tr>\n",
       "      <th>2</th>\n",
       "      <td>84</td>\n",
       "      <td>211</td>\n",
       "      <td>0.0</td>\n",
       "      <td>1.0</td>\n",
       "      <td>-0.167544</td>\n",
       "      <td>0.046960</td>\n",
       "      <td>-0.984746</td>\n",
       "      <td>0.762466</td>\n",
       "      <td>0.035859</td>\n",
       "      <td>-0.127838</td>\n",
       "      <td>...</td>\n",
       "      <td>True</td>\n",
       "      <td>True</td>\n",
       "      <td>0.769988</td>\n",
       "      <td>0.757233</td>\n",
       "      <td>-0.126870</td>\n",
       "      <td>0.035560</td>\n",
       "      <td>-0.745682</td>\n",
       "      <td>-1.252118e-12</td>\n",
       "      <td>3.239776e-12</td>\n",
       "      <td>1.500732e-10</td>\n",
       "    </tr>\n",
       "    <tr>\n",
       "      <th>3</th>\n",
       "      <td>87</td>\n",
       "      <td>-211</td>\n",
       "      <td>0.0</td>\n",
       "      <td>-1.0</td>\n",
       "      <td>0.112003</td>\n",
       "      <td>-0.164189</td>\n",
       "      <td>-0.980050</td>\n",
       "      <td>1.045442</td>\n",
       "      <td>-0.171637</td>\n",
       "      <td>0.117089</td>\n",
       "      <td>...</td>\n",
       "      <td>True</td>\n",
       "      <td>True</td>\n",
       "      <td>1.063255</td>\n",
       "      <td>1.054055</td>\n",
       "      <td>0.118057</td>\n",
       "      <td>-0.173064</td>\n",
       "      <td>-1.033026</td>\n",
       "      <td>-3.921916e-12</td>\n",
       "      <td>7.249738e-12</td>\n",
       "      <td>-2.532108e-10</td>\n",
       "    </tr>\n",
       "    <tr>\n",
       "      <th>4</th>\n",
       "      <td>92</td>\n",
       "      <td>-211</td>\n",
       "      <td>0.0</td>\n",
       "      <td>-1.0</td>\n",
       "      <td>-0.782573</td>\n",
       "      <td>-0.253045</td>\n",
       "      <td>0.568812</td>\n",
       "      <td>0.431340</td>\n",
       "      <td>-0.109040</td>\n",
       "      <td>-0.337505</td>\n",
       "      <td>...</td>\n",
       "      <td>True</td>\n",
       "      <td>True</td>\n",
       "      <td>0.447278</td>\n",
       "      <td>0.424944</td>\n",
       "      <td>-0.332550</td>\n",
       "      <td>-0.107530</td>\n",
       "      <td>0.241713</td>\n",
       "      <td>-1.929521e-12</td>\n",
       "      <td>3.458670e-12</td>\n",
       "      <td>1.612436e-10</td>\n",
       "    </tr>\n",
       "    <tr>\n",
       "      <th>...</th>\n",
       "      <th>...</th>\n",
       "      <td>...</td>\n",
       "      <td>...</td>\n",
       "      <td>...</td>\n",
       "      <td>...</td>\n",
       "      <td>...</td>\n",
       "      <td>...</td>\n",
       "      <td>...</td>\n",
       "      <td>...</td>\n",
       "      <td>...</td>\n",
       "      <td>...</td>\n",
       "      <td>...</td>\n",
       "      <td>...</td>\n",
       "      <td>...</td>\n",
       "      <td>...</td>\n",
       "      <td>...</td>\n",
       "      <td>...</td>\n",
       "      <td>...</td>\n",
       "      <td>...</td>\n",
       "      <td>...</td>\n",
       "      <td>...</td>\n",
       "      <td>...</td>\n",
       "    </tr>\n",
       "    <tr>\n",
       "      <th rowspan=\"2\" valign=\"top\">9998</th>\n",
       "      <th>7</th>\n",
       "      <td>83</td>\n",
       "      <td>211</td>\n",
       "      <td>0.0</td>\n",
       "      <td>1.0</td>\n",
       "      <td>-0.572138</td>\n",
       "      <td>-0.499148</td>\n",
       "      <td>-0.650776</td>\n",
       "      <td>1.796263</td>\n",
       "      <td>-0.898446</td>\n",
       "      <td>-1.025636</td>\n",
       "      <td>...</td>\n",
       "      <td>True</td>\n",
       "      <td>True</td>\n",
       "      <td>1.797624</td>\n",
       "      <td>1.792197</td>\n",
       "      <td>-1.025385</td>\n",
       "      <td>-0.894571</td>\n",
       "      <td>-1.166319</td>\n",
       "      <td>-2.495897e+01</td>\n",
       "      <td>-1.811099e+01</td>\n",
       "      <td>-2.503550e+01</td>\n",
       "    </tr>\n",
       "    <tr>\n",
       "      <th>8</th>\n",
       "      <td>84</td>\n",
       "      <td>-211</td>\n",
       "      <td>0.0</td>\n",
       "      <td>-1.0</td>\n",
       "      <td>-0.843908</td>\n",
       "      <td>-0.247465</td>\n",
       "      <td>-0.476005</td>\n",
       "      <td>0.389343</td>\n",
       "      <td>-0.095930</td>\n",
       "      <td>-0.328569</td>\n",
       "      <td>...</td>\n",
       "      <td>True</td>\n",
       "      <td>True</td>\n",
       "      <td>0.415614</td>\n",
       "      <td>0.391478</td>\n",
       "      <td>-0.330372</td>\n",
       "      <td>-0.096877</td>\n",
       "      <td>-0.186345</td>\n",
       "      <td>-2.495897e+01</td>\n",
       "      <td>-1.811099e+01</td>\n",
       "      <td>-2.503550e+01</td>\n",
       "    </tr>\n",
       "    <tr>\n",
       "      <th rowspan=\"3\" valign=\"top\">9999</th>\n",
       "      <th>0</th>\n",
       "      <td>38</td>\n",
       "      <td>-211</td>\n",
       "      <td>0.0</td>\n",
       "      <td>-1.0</td>\n",
       "      <td>0.077928</td>\n",
       "      <td>-0.106763</td>\n",
       "      <td>-0.991226</td>\n",
       "      <td>1.636824</td>\n",
       "      <td>-0.173771</td>\n",
       "      <td>0.127173</td>\n",
       "      <td>...</td>\n",
       "      <td>True</td>\n",
       "      <td>True</td>\n",
       "      <td>1.622508</td>\n",
       "      <td>1.616494</td>\n",
       "      <td>0.125970</td>\n",
       "      <td>-0.172583</td>\n",
       "      <td>-1.602311</td>\n",
       "      <td>-6.110854e-12</td>\n",
       "      <td>-2.488880e-12</td>\n",
       "      <td>-1.009568e-10</td>\n",
       "    </tr>\n",
       "    <tr>\n",
       "      <th>1</th>\n",
       "      <td>53</td>\n",
       "      <td>-211</td>\n",
       "      <td>0.0</td>\n",
       "      <td>-1.0</td>\n",
       "      <td>-0.108699</td>\n",
       "      <td>-0.142527</td>\n",
       "      <td>-0.983804</td>\n",
       "      <td>6.659470</td>\n",
       "      <td>-0.943958</td>\n",
       "      <td>-0.721661</td>\n",
       "      <td>...</td>\n",
       "      <td>True</td>\n",
       "      <td>True</td>\n",
       "      <td>6.669431</td>\n",
       "      <td>6.667970</td>\n",
       "      <td>-0.724804</td>\n",
       "      <td>-0.950369</td>\n",
       "      <td>-6.559976</td>\n",
       "      <td>-4.441591e-02</td>\n",
       "      <td>-1.372127e-02</td>\n",
       "      <td>-3.650483e-01</td>\n",
       "    </tr>\n",
       "    <tr>\n",
       "      <th>2</th>\n",
       "      <td>54</td>\n",
       "      <td>211</td>\n",
       "      <td>0.0</td>\n",
       "      <td>1.0</td>\n",
       "      <td>-0.051800</td>\n",
       "      <td>-0.033137</td>\n",
       "      <td>-0.998108</td>\n",
       "      <td>1.352248</td>\n",
       "      <td>-0.043116</td>\n",
       "      <td>-0.067112</td>\n",
       "      <td>...</td>\n",
       "      <td>True</td>\n",
       "      <td>True</td>\n",
       "      <td>1.303326</td>\n",
       "      <td>1.295831</td>\n",
       "      <td>-0.067125</td>\n",
       "      <td>-0.042940</td>\n",
       "      <td>-1.293379</td>\n",
       "      <td>-4.441591e-02</td>\n",
       "      <td>-1.372127e-02</td>\n",
       "      <td>-3.650483e-01</td>\n",
       "    </tr>\n",
       "  </tbody>\n",
       "</table>\n",
       "<p>120089 rows × 42 columns</p>\n",
       "</div>"
      ],
      "text/plain": [
       "                id  pdg trk_id charge       dir                             p  \\\n",
       "                                              x         y         z             \n",
       "                                                                                \n",
       "                                                                                \n",
       "entry subentry                                                                  \n",
       "0     0         79  211    0.0    1.0  0.248434 -0.111816 -0.962173  2.196009   \n",
       "      1         80 -211    0.0   -1.0 -0.277899  0.142611 -0.949965  2.294958   \n",
       "      2         84  211    0.0    1.0 -0.167544  0.046960 -0.984746  0.762466   \n",
       "      3         87 -211    0.0   -1.0  0.112003 -0.164189 -0.980050  1.045442   \n",
       "      4         92 -211    0.0   -1.0 -0.782573 -0.253045  0.568812  0.431340   \n",
       "...             ..  ...    ...    ...       ...       ...       ...       ...   \n",
       "9998  7         83  211    0.0    1.0 -0.572138 -0.499148 -0.650776  1.796263   \n",
       "      8         84 -211    0.0   -1.0 -0.843908 -0.247465 -0.476005  0.389343   \n",
       "9999  0         38 -211    0.0   -1.0  0.077928 -0.106763 -0.991226  1.636824   \n",
       "      1         53 -211    0.0   -1.0 -0.108699 -0.142527 -0.983804  6.659470   \n",
       "      2         54  211    0.0    1.0 -0.051800 -0.033137 -0.998108  1.352248   \n",
       "\n",
       "                      px        py  ...   smear                          \\\n",
       "                                    ... has_vtx has_any_eppid      orig   \n",
       "                                    ...                           tot_e   \n",
       "                                    ...                                   \n",
       "entry subentry                      ...                                   \n",
       "0     0        -0.246332  0.548427  ...    True          True  2.246944   \n",
       "      1         0.327770 -0.640543  ...    True          True  2.252213   \n",
       "      2         0.035859 -0.127838  ...    True          True  0.769988   \n",
       "      3        -0.171637  0.117089  ...    True          True  1.063255   \n",
       "      4        -0.109040 -0.337505  ...    True          True  0.447278   \n",
       "...                  ...       ...  ...     ...           ...       ...   \n",
       "9998  7        -0.898446 -1.025636  ...    True          True  1.797624   \n",
       "      8        -0.095930 -0.328569  ...    True          True  0.415614   \n",
       "9999  0        -0.173771  0.127173  ...    True          True  1.622508   \n",
       "      1        -0.943958 -0.721661  ...    True          True  6.669431   \n",
       "      2        -0.043116 -0.067112  ...    True          True  1.303326   \n",
       "\n",
       "                                                                      \\\n",
       "                                                                       \n",
       "                       p        px        py        pz           vtx   \n",
       "                                                                   x   \n",
       "entry subentry                                                         \n",
       "0     0         2.242605  0.557139 -0.250759 -2.157775 -3.802621e-12   \n",
       "      1         2.247884 -0.624684  0.320574 -2.135412 -3.802621e-12   \n",
       "      2         0.757233 -0.126870  0.035560 -0.745682 -1.252118e-12   \n",
       "      3         1.054055  0.118057 -0.173064 -1.033026 -3.921916e-12   \n",
       "      4         0.424944 -0.332550 -0.107530  0.241713 -1.929521e-12   \n",
       "...                  ...       ...       ...       ...           ...   \n",
       "9998  7         1.792197 -1.025385 -0.894571 -1.166319 -2.495897e+01   \n",
       "      8         0.391478 -0.330372 -0.096877 -0.186345 -2.495897e+01   \n",
       "9999  0         1.616494  0.125970 -0.172583 -1.602311 -6.110854e-12   \n",
       "      1         6.667970 -0.724804 -0.950369 -6.559976 -4.441591e-02   \n",
       "      2         1.295831 -0.067125 -0.042940 -1.293379 -4.441591e-02   \n",
       "\n",
       "                                            \n",
       "                                            \n",
       "                                            \n",
       "                           y             z  \n",
       "entry subentry                              \n",
       "0     0         7.245129e-12 -2.343316e-10  \n",
       "      1         7.245129e-12 -2.343316e-10  \n",
       "      2         3.239776e-12  1.500732e-10  \n",
       "      3         7.249738e-12 -2.532108e-10  \n",
       "      4         3.458670e-12  1.612436e-10  \n",
       "...                      ...           ...  \n",
       "9998  7        -1.811099e+01 -2.503550e+01  \n",
       "      8        -1.811099e+01 -2.503550e+01  \n",
       "9999  0        -2.488880e-12 -1.009568e-10  \n",
       "      1        -1.372127e-02 -3.650483e-01  \n",
       "      2        -1.372127e-02 -3.650483e-01  \n",
       "\n",
       "[120089 rows x 42 columns]"
      ]
     },
     "execution_count": 68,
     "metadata": {},
     "output_type": "execute_result"
    }
   ],
   "source": [
    "ak.pandas.df(events.pions)"
   ]
  },
  {
   "cell_type": "markdown",
   "metadata": {},
   "source": [
    "## 9. NumPy conformance and the \"axis\" parameter\n",
    "\n",
    "Some of the functions in Awkward 0 chose different conventions than NumPy, which is Bad™.\n",
    "\n",
    "Awkward 1 strictly generalizes NumPy: the same function with the same inputs yields the same outputs.\n",
    "\n",
    "In particular, most functions in NumPy have an `axis` parameter to specify which dimension you want to apply an operation to."
   ]
  },
  {
   "cell_type": "code",
   "execution_count": 69,
   "metadata": {},
   "outputs": [],
   "source": [
    "sample = np.array([[[  0,   1,   2,   3,   4], [  5,   6,   7,   8,   9]],\n",
    "                   [[ 10,  11,  12,  13,  14], [ 15,  16,  17,  18,  19]],\n",
    "                   [[100, 101, 102, 103, 104], [105, 106, 107, 108, 109]]])"
   ]
  },
  {
   "cell_type": "code",
   "execution_count": 70,
   "metadata": {},
   "outputs": [
    {
     "data": {
      "text/plain": [
       "(array([[110, 113, 116, 119, 122],\n",
       "        [125, 128, 131, 134, 137]]),\n",
       " array([[110, 113, 116, 119, 122],\n",
       "        [125, 128, 131, 134, 137]]))"
      ]
     },
     "execution_count": 70,
     "metadata": {},
     "output_type": "execute_result"
    }
   ],
   "source": [
    "np.sum(sample, axis=0), ak.to_numpy(ak.sum(sample, axis=0))"
   ]
  },
  {
   "cell_type": "code",
   "execution_count": 71,
   "metadata": {},
   "outputs": [
    {
     "data": {
      "text/plain": [
       "(array([[  5,   7,   9,  11,  13],\n",
       "        [ 25,  27,  29,  31,  33],\n",
       "        [205, 207, 209, 211, 213]]),\n",
       " array([[  5,   7,   9,  11,  13],\n",
       "        [ 25,  27,  29,  31,  33],\n",
       "        [205, 207, 209, 211, 213]]))"
      ]
     },
     "execution_count": 71,
     "metadata": {},
     "output_type": "execute_result"
    }
   ],
   "source": [
    "np.sum(sample, axis=1), ak.to_numpy(ak.sum(sample, axis=1))"
   ]
  },
  {
   "cell_type": "code",
   "execution_count": 72,
   "metadata": {},
   "outputs": [
    {
     "data": {
      "text/plain": [
       "(array([[ 10,  35],\n",
       "        [ 60,  85],\n",
       "        [510, 535]]),\n",
       " array([[ 10,  35],\n",
       "        [ 60,  85],\n",
       "        [510, 535]]))"
      ]
     },
     "execution_count": 72,
     "metadata": {},
     "output_type": "execute_result"
    }
   ],
   "source": [
    "np.sum(sample, axis=-1), ak.to_numpy(ak.sum(sample, axis=-1))"
   ]
  },
  {
   "cell_type": "markdown",
   "metadata": {},
   "source": [
    "But the Awkward version extends to jagged arrays, missing data, record structures, and all that."
   ]
  },
  {
   "cell_type": "code",
   "execution_count": 73,
   "metadata": {},
   "outputs": [],
   "source": [
    "sample = ak.Array([[[  0,   1,   2, None,   4]                            ],\n",
    "                   [                      None, [ 15,  16,  17, None     ]],\n",
    "                   [[100, 101, 102,  103, 104], [105, 106, 107           ]]])"
   ]
  },
  {
   "cell_type": "code",
   "execution_count": 74,
   "metadata": {},
   "outputs": [
    {
     "data": {
      "text/plain": [
       "[[100, 102, 104, 103, 108], [120, 122, 124, 0]]"
      ]
     },
     "execution_count": 74,
     "metadata": {},
     "output_type": "execute_result"
    }
   ],
   "source": [
    "ak.to_list(ak.sum(sample, axis=0))"
   ]
  },
  {
   "cell_type": "code",
   "execution_count": 75,
   "metadata": {},
   "outputs": [
    {
     "data": {
      "text/plain": [
       "[[0, 1, 2, 0, 4], [15, 16, 17, 0], [205, 207, 209, 103, 104]]"
      ]
     },
     "execution_count": 75,
     "metadata": {},
     "output_type": "execute_result"
    }
   ],
   "source": [
    "ak.to_list(ak.sum(sample, axis=1))"
   ]
  },
  {
   "cell_type": "code",
   "execution_count": 76,
   "metadata": {},
   "outputs": [
    {
     "data": {
      "text/plain": [
       "[[7], [None, 48], [510, 318]]"
      ]
     },
     "execution_count": 76,
     "metadata": {},
     "output_type": "execute_result"
    }
   ],
   "source": [
    "ak.to_list(ak.sum(sample, axis=-1))"
   ]
  },
  {
   "cell_type": "markdown",
   "metadata": {},
   "source": [
    "So now you can not only find the maximum pT of particles in each event..."
   ]
  },
  {
   "cell_type": "code",
   "execution_count": 77,
   "metadata": {},
   "outputs": [
    {
     "data": {
      "text/plain": [
       "<Array [0.57, None, 1.21, ... 0.959, 0.32] type='10000 * ?float64'>"
      ]
     },
     "execution_count": 77,
     "metadata": {},
     "output_type": "execute_result"
    }
   ],
   "source": [
    "ak.max(events.kaons.pt, axis=-1)"
   ]
  },
  {
   "cell_type": "markdown",
   "metadata": {},
   "source": [
    "You can find the maximum pT of all particles at index `0`, all particles at index `1`, etc., across events."
   ]
  },
  {
   "cell_type": "code",
   "execution_count": 78,
   "metadata": {},
   "outputs": [
    {
     "data": {
      "text/plain": [
       "[12.263181196764675,\n",
       " 6.909508265220266,\n",
       " 8.0956307514884,\n",
       " 7.543852139960654,\n",
       " 4.926146531121351,\n",
       " 4.168669507320308,\n",
       " 2.3184126426084894,\n",
       " 3.4618079804505366,\n",
       " 1.0561293464634587,\n",
       " 2.2685649487384323,\n",
       " 0.8219497165015288,\n",
       " 0.733676583362778,\n",
       " 0.3115779674556295,\n",
       " 0.18381840304637004]"
      ]
     },
     "execution_count": 78,
     "metadata": {},
     "output_type": "execute_result"
    }
   ],
   "source": [
    "ak.to_list(ak.max(events.kaons.pt, axis=0))"
   ]
  },
  {
   "cell_type": "markdown",
   "metadata": {},
   "source": [
    "## 10. Producing and consuming arrays in pure C++\n",
    "\n",
    "See [awkward-1.0/dependent-project](https://github.com/scikit-hep/awkward-1.0/tree/master/dependent-project) for an example of a C++ project that produces and consumes Awkward Arrays.\n",
    "\n",
    "Libraries such as FastJet could take advantage of such an interface to\n",
    "\n",
    "   * consume a jagged array of tracks-in-events\n",
    "   * produce a jagged array of jets-in-events\n",
    "\n",
    "without the inefficiency of creating a Python object for each track/jet (as FastJet's Python interface does) or even a Python object for each event (as pyjet does)."
   ]
  },
  {
   "cell_type": "markdown",
   "metadata": {},
   "source": [
    "## 11. Documentation!\n",
    "\n",
    "The [GitHub front page](https://github.com/scikit-hep/awkward-1.0#readme) directs users and developers to the appropriate documentation.\n",
    "\n",
    "A JupyterBook of \"how to\" tutorials and \"how it works\" guides will be written soon.\n",
    "\n",
    "The [C++ API reference](https://awkward-array.readthedocs.io/en/latest/_static/index.html) (Doxygen) is **complete**.\n",
    "\n",
    "The [Python API reference](https://awkward-array.readthedocs.io/en/latest/index.html) (Sphinx) is **complete**. This also means that all public functions have docstrings.\n",
    "\n",
    "We even have a [release history](https://awkward-array.readthedocs.io/en/latest/_auto/changelog.html) (generated using GitHub API) and [CONTRIBUTING.md](https://github.com/scikit-hep/awkward-1.0/blob/master/CONTRIBUTING.md)."
   ]
  },
  {
   "cell_type": "markdown",
   "metadata": {},
   "source": [
    "## 12. Bleeding edge: PartitionedArray and VirtualArray\n",
    "\n",
    "These were the last two types needed for Uproot (for non-broken lazy arrays, specifically).\n",
    "\n",
    "It's also the entry point for Dask integration.\n",
    "\n",
    "Nick can write NanoEvents now.  :)"
   ]
  },
  {
   "cell_type": "code",
   "execution_count": 81,
   "metadata": {},
   "outputs": [
    {
     "name": "stdout",
     "output_type": "stream",
     "text": [
      "x for 0\n",
      "y for 99\n",
      "y for 0\n",
      "x for 99\n",
      "[{x: 0, y: [1.1, 2.2, 3.3]}, {x: 1, y: []}, ... 6.6]}, {x: 499, y: [7.7, 8.8, 9.9]}]\n"
     ]
    }
   ],
   "source": [
    "cache = {}\n",
    "\n",
    "def genx(partition):\n",
    "    print(\"x for {}\".format(partition))\n",
    "    return ak.Array(np.arange(5*partition, 5*partition + 5))\n",
    "\n",
    "def geny(partition):\n",
    "    print(\"y for {}\".format(partition))\n",
    "    return ak.Array([[1.1, 2.2, 3.3], [], [4.4, 5.5], [6.6], [7.7, 8.8, 9.9]])\n",
    "\n",
    "lazy_array = ak.partitioned(lambda i: ak.zip({\"x\": ak.virtual(genx, (i,), length=5, cache=cache),\n",
    "                                              \"y\": ak.virtual(geny, (i,), length=5, cache=cache)}, depth_limit=1),\n",
    "                            100)\n",
    "print(lazy_array)"
   ]
  },
  {
   "cell_type": "code",
   "execution_count": 82,
   "metadata": {},
   "outputs": [
    {
     "name": "stdout",
     "output_type": "stream",
     "text": [
      "x for 1\n",
      "x for 98\n",
      "x for 2\n",
      "[0, 1, 2, 3, 4, 5, 6, 7, 8, 9, ... 490, 491, 492, 493, 494, 495, 496, 497, 498, 499]\n"
     ]
    }
   ],
   "source": [
    "print(lazy_array.x)"
   ]
  },
  {
   "cell_type": "code",
   "execution_count": 83,
   "metadata": {},
   "outputs": [
    {
     "name": "stdout",
     "output_type": "stream",
     "text": [
      "x for 3\n",
      "x for 4\n",
      "x for 5\n",
      "x for 6\n",
      "x for 7\n",
      "x for 8\n",
      "x for 9\n",
      "x for 10\n",
      "x for 11\n",
      "x for 12\n",
      "x for 13\n",
      "x for 14\n",
      "x for 15\n",
      "x for 16\n",
      "x for 17\n",
      "x for 18\n",
      "x for 19\n",
      "x for 20\n",
      "x for 21\n",
      "x for 22\n",
      "x for 23\n",
      "x for 24\n",
      "x for 25\n",
      "x for 26\n",
      "x for 27\n",
      "x for 28\n",
      "x for 29\n",
      "x for 30\n",
      "x for 31\n",
      "x for 32\n",
      "x for 33\n",
      "x for 34\n",
      "x for 35\n",
      "x for 36\n",
      "x for 37\n",
      "x for 38\n",
      "x for 39\n",
      "x for 40\n",
      "x for 41\n",
      "x for 42\n",
      "x for 43\n",
      "x for 44\n",
      "x for 45\n",
      "x for 46\n",
      "x for 47\n",
      "x for 48\n",
      "x for 49\n",
      "x for 50\n",
      "x for 51\n",
      "x for 52\n",
      "x for 53\n",
      "x for 54\n",
      "x for 55\n",
      "x for 56\n",
      "x for 57\n",
      "x for 58\n",
      "x for 59\n",
      "x for 60\n",
      "x for 61\n",
      "x for 62\n",
      "x for 63\n",
      "x for 64\n",
      "x for 65\n",
      "x for 66\n",
      "x for 67\n",
      "x for 68\n",
      "x for 69\n",
      "x for 70\n",
      "x for 71\n",
      "x for 72\n",
      "x for 73\n",
      "x for 74\n",
      "x for 75\n",
      "x for 76\n",
      "x for 77\n",
      "x for 78\n",
      "x for 79\n",
      "x for 80\n",
      "x for 81\n",
      "x for 82\n",
      "x for 83\n",
      "x for 84\n",
      "x for 85\n",
      "x for 86\n",
      "x for 87\n",
      "x for 88\n",
      "x for 89\n",
      "x for 90\n",
      "x for 91\n",
      "x for 92\n",
      "x for 93\n",
      "x for 94\n",
      "x for 95\n",
      "x for 96\n",
      "x for 97\n",
      "[1000, 1001, 1002, 1003, 1004, 1005, 1006, ... 1494, 1495, 1496, 1497, 1498, 1499]\n"
     ]
    }
   ],
   "source": [
    "print(lazy_array.x + 1000)"
   ]
  },
  {
   "cell_type": "markdown",
   "metadata": {},
   "source": [
    "Lazy arrays are less likely to be evaluated the more information you give them:\n",
    "\n",
    "   * `length` (as above): so that it doesn't have to be evaluated to figure out how big each partition is\n",
    "   * `form` (not shown): so that it doesn't have to be evaluated to figure out what its type is\n",
    "\n",
    "In a system like NanoEvents, both the `length` and the `form` should be supplied."
   ]
  }
 ],
 "metadata": {
  "kernelspec": {
   "display_name": "Python 3",
   "language": "python",
   "name": "python3"
  },
  "language_info": {
   "codemirror_mode": {
    "name": "ipython",
    "version": 3
   },
   "file_extension": ".py",
   "mimetype": "text/x-python",
   "name": "python",
   "nbconvert_exporter": "python",
   "pygments_lexer": "ipython3",
   "version": "3.7.6"
  }
 },
 "nbformat": 4,
 "nbformat_minor": 4
}
